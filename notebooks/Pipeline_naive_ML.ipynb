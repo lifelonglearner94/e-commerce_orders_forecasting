{
 "cells": [
  {
   "cell_type": "code",
   "execution_count": 1,
   "metadata": {},
   "outputs": [],
   "source": [
    "import pandas as pd\n",
    "import numpy as np\n",
    "import seaborn as sns\n",
    "import matplotlib.pyplot as plt\n",
    "import os\n",
    "from sklearn.preprocessing import OneHotEncoder\n",
    "from sklearn.pipeline import make_pipeline\n",
    "from sklearn.compose import make_column_transformer\n",
    "from sklearn.impute import SimpleImputer\n",
    "from sklearn.linear_model import LinearRegression, Ridge, Lasso\n",
    "from sklearn.model_selection import cross_val_score\n",
    "from sklearn.ensemble import GradientBoostingRegressor\n",
    "from sklearn.ensemble import RandomForestRegressor\n",
    "from sklearn.svm import SVR\n",
    "\n",
    "import xgboost as xgb\n",
    "\n",
    "from helper import DateToOrdinal"
   ]
  },
  {
   "cell_type": "code",
   "execution_count": 2,
   "metadata": {},
   "outputs": [],
   "source": [
    "data_folder = \"data\"\n",
    "filename = \"train.csv\"\n",
    "df = pd.read_csv(os.path.join(\"..\", data_folder, filename))#, parse_dates=True, index_col=\"date\")"
   ]
  },
  {
   "cell_type": "code",
   "execution_count": 3,
   "metadata": {},
   "outputs": [],
   "source": [
    "y_column = \"orders\"\n",
    "# X_necessary_columns = [\"date\", \"warehouse\", \"holiday_name\", \"holiday\", \"shops_closed\", \"winter_school_holidays\", \"school_holidays\"]\n",
    "X_necessary_columns_remainder = [\"holiday\", \"shops_closed\", \"winter_school_holidays\", \"school_holidays\"]"
   ]
  },
  {
   "cell_type": "code",
   "execution_count": 4,
   "metadata": {},
   "outputs": [],
   "source": [
    "preproc_warehouse = make_pipeline(\n",
    "    OneHotEncoder(handle_unknown=\"ignore\", sparse_output=False))"
   ]
  },
  {
   "cell_type": "code",
   "execution_count": 5,
   "metadata": {},
   "outputs": [],
   "source": [
    "preproc_holiday_name = make_pipeline(\n",
    "    SimpleImputer(strategy=\"constant\", fill_value=\"0\"),\n",
    "    OneHotEncoder(handle_unknown=\"ignore\", sparse_output=False))"
   ]
  },
  {
   "cell_type": "code",
   "execution_count": 6,
   "metadata": {},
   "outputs": [],
   "source": [
    "preproc_remainder = make_pipeline(\n",
    "    SimpleImputer(strategy=\"most_frequent\")\n",
    "    )"
   ]
  },
  {
   "cell_type": "code",
   "execution_count": 7,
   "metadata": {},
   "outputs": [],
   "source": [
    "preproc_pipeline = make_column_transformer(\n",
    "    (DateToOrdinal(), [\"date\"]),\n",
    "    (preproc_warehouse, [\"warehouse\"]),\n",
    "    (preproc_holiday_name, [\"holiday_name\"]),\n",
    "    (preproc_remainder, X_necessary_columns_remainder),\n",
    "    remainder=\"drop\"\n",
    ")"
   ]
  },
  {
   "cell_type": "code",
   "execution_count": 8,
   "metadata": {},
   "outputs": [],
   "source": [
    "X = df.drop(columns=y_column)\n",
    "y = df[y_column]"
   ]
  },
  {
   "cell_type": "code",
   "execution_count": 9,
   "metadata": {},
   "outputs": [],
   "source": [
    "X_preprocessed = preproc_pipeline.fit_transform(X)"
   ]
  },
  {
   "cell_type": "markdown",
   "metadata": {},
   "source": [
    "Using \"neg_mean_absolute_percentage_error\" instead of \"mean_absolute_percentage_error\" aligns with the scoring conventions of machine learning libraries like scikit-learn, which optimize for higher scores, ensuring consistency and proper functionality in model evaluation and hyperparameter tuning processes."
   ]
  },
  {
   "cell_type": "markdown",
   "metadata": {},
   "source": [
    "### Baseline Score"
   ]
  },
  {
   "cell_type": "code",
   "execution_count": 10,
   "metadata": {},
   "outputs": [
    {
     "data": {
      "text/plain": [
       "26.013162485586427"
      ]
     },
     "execution_count": 10,
     "metadata": {},
     "output_type": "execute_result"
    }
   ],
   "source": [
    "# I convert it in a positive MAPE % score.\n",
    "abs(cross_val_score(LinearRegression(), X_preprocessed, y, cv=5, scoring=\"neg_mean_absolute_percentage_error\").mean()) * 100"
   ]
  },
  {
   "cell_type": "markdown",
   "metadata": {},
   "source": [
    "### Trying more advanced models"
   ]
  },
  {
   "cell_type": "code",
   "execution_count": 11,
   "metadata": {},
   "outputs": [
    {
     "name": "stderr",
     "output_type": "stream",
     "text": [
      "/home/marcel/.pyenv/versions/3.10.6/envs/lewagon/lib/python3.10/site-packages/sklearn/linear_model/_coordinate_descent.py:628: ConvergenceWarning: Objective did not converge. You might want to increase the number of iterations, check the scale of the features or consider increasing regularisation. Duality gap: 1.031e+08, tolerance: 2.978e+06\n",
      "  model = cd_fast.enet_coordinate_descent(\n"
     ]
    }
   ],
   "source": [
    "models = {\"Ridge\": Ridge(alpha=0.1), \"Lasso\": Lasso(alpha=0.1), \"GradientBoostingRegressor\": GradientBoostingRegressor(), \"RandomForestRegressor\": RandomForestRegressor(), \"SVR\": SVR(kernel=\"rbf\")}\n",
    "results = []\n",
    "\n",
    "# Loop through the models' values\n",
    "for model in models.values():\n",
    "\n",
    "  # Perform cross-validation\n",
    "  cv_scores = abs(cross_val_score(model, X_preprocessed, y, cv=5, scoring=\"neg_mean_absolute_percentage_error\").mean()) * 100\n",
    "\n",
    "  # Append the results\n",
    "  results.append(cv_scores)"
   ]
  },
  {
   "cell_type": "code",
   "execution_count": 12,
   "metadata": {},
   "outputs": [
    {
     "data": {
      "text/html": [
       "<div>\n",
       "<style scoped>\n",
       "    .dataframe tbody tr th:only-of-type {\n",
       "        vertical-align: middle;\n",
       "    }\n",
       "\n",
       "    .dataframe tbody tr th {\n",
       "        vertical-align: top;\n",
       "    }\n",
       "\n",
       "    .dataframe thead th {\n",
       "        text-align: right;\n",
       "    }\n",
       "</style>\n",
       "<table border=\"1\" class=\"dataframe\">\n",
       "  <thead>\n",
       "    <tr style=\"text-align: right;\">\n",
       "      <th></th>\n",
       "      <th>Score</th>\n",
       "      <th>Model</th>\n",
       "    </tr>\n",
       "  </thead>\n",
       "  <tbody>\n",
       "    <tr>\n",
       "      <th>3</th>\n",
       "      <td>23.218827</td>\n",
       "      <td>RandomForestRegressor</td>\n",
       "    </tr>\n",
       "    <tr>\n",
       "      <th>2</th>\n",
       "      <td>24.244486</td>\n",
       "      <td>GradientBoostingRegressor</td>\n",
       "    </tr>\n",
       "    <tr>\n",
       "      <th>1</th>\n",
       "      <td>25.967939</td>\n",
       "      <td>Lasso</td>\n",
       "    </tr>\n",
       "    <tr>\n",
       "      <th>0</th>\n",
       "      <td>26.007326</td>\n",
       "      <td>Ridge</td>\n",
       "    </tr>\n",
       "    <tr>\n",
       "      <th>4</th>\n",
       "      <td>54.290172</td>\n",
       "      <td>SVR</td>\n",
       "    </tr>\n",
       "  </tbody>\n",
       "</table>\n",
       "</div>"
      ],
      "text/plain": [
       "       Score                      Model\n",
       "3  23.218827      RandomForestRegressor\n",
       "2  24.244486  GradientBoostingRegressor\n",
       "1  25.967939                      Lasso\n",
       "0  26.007326                      Ridge\n",
       "4  54.290172                        SVR"
      ]
     },
     "execution_count": 12,
     "metadata": {},
     "output_type": "execute_result"
    }
   ],
   "source": [
    "pd.DataFrame({\"Score\": results,\n",
    "              \"Model\":models.keys()}).sort_values(by=\"Score\", ascending=True)"
   ]
  },
  {
   "cell_type": "markdown",
   "metadata": {},
   "source": [
    "### Trying XGBoost"
   ]
  },
  {
   "cell_type": "code",
   "execution_count": 13,
   "metadata": {},
   "outputs": [],
   "source": [
    "xgb_regressor = xgb.XGBRegressor(objective='reg:squarederror', seed=42)\n",
    "xgb_pipe = make_pipeline(xgb_regressor)"
   ]
  },
  {
   "cell_type": "code",
   "execution_count": 14,
   "metadata": {},
   "outputs": [
    {
     "data": {
      "text/plain": [
       "23.290975526375217"
      ]
     },
     "execution_count": 14,
     "metadata": {},
     "output_type": "execute_result"
    }
   ],
   "source": [
    "abs(cross_val_score(xgb_pipe, X_preprocessed, y, cv=5, scoring=\"neg_mean_absolute_percentage_error\").mean()) * 100"
   ]
  },
  {
   "cell_type": "markdown",
   "metadata": {},
   "source": [
    "### Seperate all warehouses"
   ]
  },
  {
   "cell_type": "code",
   "execution_count": 15,
   "metadata": {},
   "outputs": [
    {
     "name": "stdout",
     "output_type": "stream",
     "text": [
      "Prague_1 10.904648180825454\n",
      "\n",
      "Brno_1 9.823585028086912\n",
      "\n",
      "Prague_2 10.009347523034073\n",
      "\n",
      "Prague_3 10.12853783119255\n",
      "\n",
      "Munich_1 42.11815666898875\n",
      "\n",
      "Frankfurt_1 12.084135614105671\n",
      "\n",
      "Budapest_1 8.097135245234547\n",
      "\n"
     ]
    }
   ],
   "source": [
    "warehouses = df[\"warehouse\"].unique().tolist()\n",
    "for warehouse in warehouses:\n",
    "    warehouse_data = df[df[\"warehouse\"] == warehouse]\n",
    "\n",
    "    warehouse_data_X = warehouse_data.drop(columns=y_column)\n",
    "    warehouse_data_y = warehouse_data[y_column]\n",
    "\n",
    "    warehouse_data_X_preprocessed = preproc_pipeline.fit_transform(warehouse_data_X)\n",
    "\n",
    "    final_score = abs(cross_val_score(xgb_pipe, warehouse_data_X_preprocessed, warehouse_data_y, cv=5, scoring=\"neg_mean_absolute_percentage_error\").mean()) * 100\n",
    "\n",
    "    print(warehouse, final_score)\n",
    "    print()\n"
   ]
  },
  {
   "cell_type": "markdown",
   "metadata": {},
   "source": [
    "### Trying to drop all columns but Orders and date + warehouse"
   ]
  },
  {
   "cell_type": "code",
   "execution_count": 20,
   "metadata": {},
   "outputs": [
    {
     "name": "stderr",
     "output_type": "stream",
     "text": [
      "/tmp/ipykernel_2855/2255344849.py:3: SettingWithCopyWarning: \n",
      "A value is trying to be set on a copy of a slice from a DataFrame.\n",
      "Try using .loc[row_indexer,col_indexer] = value instead\n",
      "\n",
      "See the caveats in the documentation: https://pandas.pydata.org/pandas-docs/stable/user_guide/indexing.html#returning-a-view-versus-a-copy\n",
      "  hard_drop_df[\"date\"] = date_encoder.fit_transform(hard_drop_df[\"date\"])\n"
     ]
    },
    {
     "data": {
      "text/html": [
       "<div>\n",
       "<style scoped>\n",
       "    .dataframe tbody tr th:only-of-type {\n",
       "        vertical-align: middle;\n",
       "    }\n",
       "\n",
       "    .dataframe tbody tr th {\n",
       "        vertical-align: top;\n",
       "    }\n",
       "\n",
       "    .dataframe thead th {\n",
       "        text-align: right;\n",
       "    }\n",
       "</style>\n",
       "<table border=\"1\" class=\"dataframe\">\n",
       "  <thead>\n",
       "    <tr style=\"text-align: right;\">\n",
       "      <th></th>\n",
       "      <th>orders</th>\n",
       "      <th>date</th>\n",
       "      <th>warehouse</th>\n",
       "    </tr>\n",
       "  </thead>\n",
       "  <tbody>\n",
       "    <tr>\n",
       "      <th>0</th>\n",
       "      <td>6895.0</td>\n",
       "      <td>0</td>\n",
       "      <td>Prague_1</td>\n",
       "    </tr>\n",
       "    <tr>\n",
       "      <th>1</th>\n",
       "      <td>6584.0</td>\n",
       "      <td>1</td>\n",
       "      <td>Prague_1</td>\n",
       "    </tr>\n",
       "    <tr>\n",
       "      <th>2</th>\n",
       "      <td>7030.0</td>\n",
       "      <td>2</td>\n",
       "      <td>Prague_1</td>\n",
       "    </tr>\n",
       "    <tr>\n",
       "      <th>3</th>\n",
       "      <td>6550.0</td>\n",
       "      <td>3</td>\n",
       "      <td>Prague_1</td>\n",
       "    </tr>\n",
       "    <tr>\n",
       "      <th>4</th>\n",
       "      <td>6910.0</td>\n",
       "      <td>4</td>\n",
       "      <td>Prague_1</td>\n",
       "    </tr>\n",
       "    <tr>\n",
       "      <th>...</th>\n",
       "      <td>...</td>\n",
       "      <td>...</td>\n",
       "      <td>...</td>\n",
       "    </tr>\n",
       "    <tr>\n",
       "      <th>7335</th>\n",
       "      <td>6733.0</td>\n",
       "      <td>1187</td>\n",
       "      <td>Budapest_1</td>\n",
       "    </tr>\n",
       "    <tr>\n",
       "      <th>7336</th>\n",
       "      <td>6492.0</td>\n",
       "      <td>1188</td>\n",
       "      <td>Budapest_1</td>\n",
       "    </tr>\n",
       "    <tr>\n",
       "      <th>7337</th>\n",
       "      <td>6661.0</td>\n",
       "      <td>1189</td>\n",
       "      <td>Budapest_1</td>\n",
       "    </tr>\n",
       "    <tr>\n",
       "      <th>7338</th>\n",
       "      <td>6843.0</td>\n",
       "      <td>1190</td>\n",
       "      <td>Budapest_1</td>\n",
       "    </tr>\n",
       "    <tr>\n",
       "      <th>7339</th>\n",
       "      <td>8130.0</td>\n",
       "      <td>1191</td>\n",
       "      <td>Budapest_1</td>\n",
       "    </tr>\n",
       "  </tbody>\n",
       "</table>\n",
       "<p>7340 rows × 3 columns</p>\n",
       "</div>"
      ],
      "text/plain": [
       "      orders  date   warehouse\n",
       "0     6895.0     0    Prague_1\n",
       "1     6584.0     1    Prague_1\n",
       "2     7030.0     2    Prague_1\n",
       "3     6550.0     3    Prague_1\n",
       "4     6910.0     4    Prague_1\n",
       "...      ...   ...         ...\n",
       "7335  6733.0  1187  Budapest_1\n",
       "7336  6492.0  1188  Budapest_1\n",
       "7337  6661.0  1189  Budapest_1\n",
       "7338  6843.0  1190  Budapest_1\n",
       "7339  8130.0  1191  Budapest_1\n",
       "\n",
       "[7340 rows x 3 columns]"
      ]
     },
     "execution_count": 20,
     "metadata": {},
     "output_type": "execute_result"
    }
   ],
   "source": [
    "hard_drop_df = df[[\"orders\", \"date\", \"warehouse\"]]\n",
    "date_encoder = DateToOrdinal()\n",
    "hard_drop_df[\"date\"] = date_encoder.fit_transform(hard_drop_df[\"date\"])"
   ]
  },
  {
   "cell_type": "code",
   "execution_count": 21,
   "metadata": {},
   "outputs": [
    {
     "name": "stdout",
     "output_type": "stream",
     "text": [
      "Prague_1 11.169047729247325\n",
      "\n",
      "Brno_1 10.001992053566486\n",
      "\n",
      "Prague_2 10.268778518754171\n",
      "\n",
      "Prague_3 10.411751055475424\n",
      "\n",
      "Munich_1 42.16773900534548\n",
      "\n",
      "Frankfurt_1 12.12800640538928\n",
      "\n",
      "Budapest_1 8.239607002521963\n",
      "\n"
     ]
    }
   ],
   "source": [
    "for warehouse in warehouses:\n",
    "    warehouse_data = hard_drop_df[hard_drop_df[\"warehouse\"] == warehouse]\n",
    "\n",
    "    warehouse_data_X = warehouse_data.drop(columns=[y_column, \"warehouse\"])\n",
    "    warehouse_data_y = warehouse_data[y_column]\n",
    "\n",
    "    final_score = abs(cross_val_score(xgb_pipe, warehouse_data_X, warehouse_data_y, cv=5, scoring=\"neg_mean_absolute_percentage_error\").mean()) * 100\n",
    "\n",
    "    print(warehouse, final_score)\n",
    "    print()"
   ]
  },
  {
   "cell_type": "markdown",
   "metadata": {},
   "source": [
    "### The above scores look like the features about holiday etc. are just not relevant."
   ]
  }
 ],
 "metadata": {
  "kernelspec": {
   "display_name": "lewagon",
   "language": "python",
   "name": "python3"
  },
  "language_info": {
   "codemirror_mode": {
    "name": "ipython",
    "version": 3
   },
   "file_extension": ".py",
   "mimetype": "text/x-python",
   "name": "python",
   "nbconvert_exporter": "python",
   "pygments_lexer": "ipython3",
   "version": "3.10.6"
  }
 },
 "nbformat": 4,
 "nbformat_minor": 2
}
