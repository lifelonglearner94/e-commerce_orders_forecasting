{
 "cells": [
  {
   "cell_type": "code",
   "execution_count": 1,
   "metadata": {},
   "outputs": [],
   "source": [
    "import pandas as pd\n",
    "import numpy as np\n",
    "import os\n",
    "import matplotlib.pyplot as plt\n",
    "\n",
    "from prophet import Prophet\n",
    "\n",
    "from sklearn.metrics import mean_absolute_percentage_error\n",
    "\n",
    "from sklearn.impute import KNNImputer"
   ]
  },
  {
   "cell_type": "code",
   "execution_count": 2,
   "metadata": {},
   "outputs": [],
   "source": [
    "data_folder = \"data\"\n",
    "filename = \"train.csv\"\n",
    "df = pd.read_csv(os.path.join(\"..\", data_folder, filename), parse_dates=True, index_col=\"date\")"
   ]
  },
  {
   "cell_type": "markdown",
   "metadata": {},
   "source": [
    "### Make it an univariate timeseries"
   ]
  },
  {
   "cell_type": "code",
   "execution_count": 3,
   "metadata": {},
   "outputs": [
    {
     "data": {
      "text/html": [
       "<div>\n",
       "<style scoped>\n",
       "    .dataframe tbody tr th:only-of-type {\n",
       "        vertical-align: middle;\n",
       "    }\n",
       "\n",
       "    .dataframe tbody tr th {\n",
       "        vertical-align: top;\n",
       "    }\n",
       "\n",
       "    .dataframe thead th {\n",
       "        text-align: right;\n",
       "    }\n",
       "</style>\n",
       "<table border=\"1\" class=\"dataframe\">\n",
       "  <thead>\n",
       "    <tr style=\"text-align: right;\">\n",
       "      <th></th>\n",
       "      <th>warehouse</th>\n",
       "      <th>orders</th>\n",
       "    </tr>\n",
       "    <tr>\n",
       "      <th>date</th>\n",
       "      <th></th>\n",
       "      <th></th>\n",
       "    </tr>\n",
       "  </thead>\n",
       "  <tbody>\n",
       "    <tr>\n",
       "      <th>2020-12-05</th>\n",
       "      <td>Prague_1</td>\n",
       "      <td>6895.0</td>\n",
       "    </tr>\n",
       "    <tr>\n",
       "      <th>2020-12-06</th>\n",
       "      <td>Prague_1</td>\n",
       "      <td>6584.0</td>\n",
       "    </tr>\n",
       "    <tr>\n",
       "      <th>2020-12-07</th>\n",
       "      <td>Prague_1</td>\n",
       "      <td>7030.0</td>\n",
       "    </tr>\n",
       "    <tr>\n",
       "      <th>2020-12-08</th>\n",
       "      <td>Prague_1</td>\n",
       "      <td>6550.0</td>\n",
       "    </tr>\n",
       "    <tr>\n",
       "      <th>2020-12-09</th>\n",
       "      <td>Prague_1</td>\n",
       "      <td>6910.0</td>\n",
       "    </tr>\n",
       "  </tbody>\n",
       "</table>\n",
       "</div>"
      ],
      "text/plain": [
       "           warehouse  orders\n",
       "date                        \n",
       "2020-12-05  Prague_1  6895.0\n",
       "2020-12-06  Prague_1  6584.0\n",
       "2020-12-07  Prague_1  7030.0\n",
       "2020-12-08  Prague_1  6550.0\n",
       "2020-12-09  Prague_1  6910.0"
      ]
     },
     "execution_count": 3,
     "metadata": {},
     "output_type": "execute_result"
    }
   ],
   "source": [
    "df_subset = df[[\"warehouse\", \"orders\"]]\n",
    "df_subset.head()"
   ]
  },
  {
   "cell_type": "code",
   "execution_count": 4,
   "metadata": {},
   "outputs": [],
   "source": [
    "Prague_1_test = df_subset[df_subset[\"warehouse\"] == \"Prague_1\"].drop(columns=[\"warehouse\"])"
   ]
  },
  {
   "cell_type": "code",
   "execution_count": 5,
   "metadata": {},
   "outputs": [
    {
     "data": {
      "text/plain": [
       "(1193, 1)"
      ]
     },
     "execution_count": 5,
     "metadata": {},
     "output_type": "execute_result"
    }
   ],
   "source": [
    "Prague_1_test.shape"
   ]
  },
  {
   "cell_type": "code",
   "execution_count": 6,
   "metadata": {},
   "outputs": [
    {
     "data": {
      "text/plain": [
       "(1197, 1)"
      ]
     },
     "execution_count": 6,
     "metadata": {},
     "output_type": "execute_result"
    }
   ],
   "source": [
    "def fill_missing_dates_and_values(df):\n",
    "    \"\"\"\n",
    "    Look for missing dates and impute all values\n",
    "    \"\"\"\n",
    "    # Ensure the DataFrame has a continuous date range index\n",
    "    date_range = pd.date_range(start=df.index.min(), end=df.index.max(), freq='D')\n",
    "    df = df.reindex(date_range)\n",
    "\n",
    "    # Impute the missing dates\n",
    "    imputer = KNNImputer(n_neighbors=2)\n",
    "    imputed_data = imputer.fit_transform(df)\n",
    "\n",
    "    # Create a DataFrame with the imputed data\n",
    "    imputed_df = pd.DataFrame(data=imputed_data, columns=df.columns, index=df.index)\n",
    "\n",
    "    return imputed_df\n",
    "\n",
    "Prague_1_full_date_range = fill_missing_dates_and_values(Prague_1_test)\n",
    "Prague_1_full_date_range.shape"
   ]
  },
  {
   "cell_type": "code",
   "execution_count": 7,
   "metadata": {},
   "outputs": [],
   "source": [
    "Prague_1_full_date_range.reset_index(inplace=True)"
   ]
  },
  {
   "cell_type": "markdown",
   "metadata": {},
   "source": [
    "### Prophet"
   ]
  },
  {
   "cell_type": "code",
   "execution_count": 8,
   "metadata": {},
   "outputs": [
    {
     "data": {
      "text/html": [
       "<div>\n",
       "<style scoped>\n",
       "    .dataframe tbody tr th:only-of-type {\n",
       "        vertical-align: middle;\n",
       "    }\n",
       "\n",
       "    .dataframe tbody tr th {\n",
       "        vertical-align: top;\n",
       "    }\n",
       "\n",
       "    .dataframe thead th {\n",
       "        text-align: right;\n",
       "    }\n",
       "</style>\n",
       "<table border=\"1\" class=\"dataframe\">\n",
       "  <thead>\n",
       "    <tr style=\"text-align: right;\">\n",
       "      <th></th>\n",
       "      <th>ds</th>\n",
       "      <th>y</th>\n",
       "    </tr>\n",
       "  </thead>\n",
       "  <tbody>\n",
       "    <tr>\n",
       "      <th>0</th>\n",
       "      <td>2020-12-05</td>\n",
       "      <td>6895.0</td>\n",
       "    </tr>\n",
       "    <tr>\n",
       "      <th>1</th>\n",
       "      <td>2020-12-06</td>\n",
       "      <td>6584.0</td>\n",
       "    </tr>\n",
       "    <tr>\n",
       "      <th>2</th>\n",
       "      <td>2020-12-07</td>\n",
       "      <td>7030.0</td>\n",
       "    </tr>\n",
       "    <tr>\n",
       "      <th>3</th>\n",
       "      <td>2020-12-08</td>\n",
       "      <td>6550.0</td>\n",
       "    </tr>\n",
       "    <tr>\n",
       "      <th>4</th>\n",
       "      <td>2020-12-09</td>\n",
       "      <td>6910.0</td>\n",
       "    </tr>\n",
       "    <tr>\n",
       "      <th>...</th>\n",
       "      <td>...</td>\n",
       "      <td>...</td>\n",
       "    </tr>\n",
       "    <tr>\n",
       "      <th>1192</th>\n",
       "      <td>2024-03-11</td>\n",
       "      <td>9866.0</td>\n",
       "    </tr>\n",
       "    <tr>\n",
       "      <th>1193</th>\n",
       "      <td>2024-03-12</td>\n",
       "      <td>9710.0</td>\n",
       "    </tr>\n",
       "    <tr>\n",
       "      <th>1194</th>\n",
       "      <td>2024-03-13</td>\n",
       "      <td>9628.0</td>\n",
       "    </tr>\n",
       "    <tr>\n",
       "      <th>1195</th>\n",
       "      <td>2024-03-14</td>\n",
       "      <td>10056.0</td>\n",
       "    </tr>\n",
       "    <tr>\n",
       "      <th>1196</th>\n",
       "      <td>2024-03-15</td>\n",
       "      <td>11917.0</td>\n",
       "    </tr>\n",
       "  </tbody>\n",
       "</table>\n",
       "<p>1197 rows × 2 columns</p>\n",
       "</div>"
      ],
      "text/plain": [
       "             ds        y\n",
       "0    2020-12-05   6895.0\n",
       "1    2020-12-06   6584.0\n",
       "2    2020-12-07   7030.0\n",
       "3    2020-12-08   6550.0\n",
       "4    2020-12-09   6910.0\n",
       "...         ...      ...\n",
       "1192 2024-03-11   9866.0\n",
       "1193 2024-03-12   9710.0\n",
       "1194 2024-03-13   9628.0\n",
       "1195 2024-03-14  10056.0\n",
       "1196 2024-03-15  11917.0\n",
       "\n",
       "[1197 rows x 2 columns]"
      ]
     },
     "execution_count": 8,
     "metadata": {},
     "output_type": "execute_result"
    }
   ],
   "source": [
    "# Rename columns\n",
    "Prague_1_full_date_range.rename(columns={\"index\": \"ds\",\n",
    "                              \"orders\": \"y\"}, inplace=True)\n",
    "Prague_1_full_date_range"
   ]
  },
  {
   "cell_type": "code",
   "execution_count": 9,
   "metadata": {},
   "outputs": [
    {
     "name": "stderr",
     "output_type": "stream",
     "text": [
      "15:28:51 - cmdstanpy - INFO - Chain [1] start processing\n",
      "15:28:51 - cmdstanpy - INFO - Chain [1] done processing\n"
     ]
    },
    {
     "data": {
      "text/plain": [
       "<prophet.forecaster.Prophet at 0x7ff018745870>"
      ]
     },
     "execution_count": 9,
     "metadata": {},
     "output_type": "execute_result"
    }
   ],
   "source": [
    "model = Prophet(weekly_seasonality=True, yearly_seasonality=True)\n",
    "\n",
    "model.fit(Prague_1_full_date_range)\n"
   ]
  },
  {
   "cell_type": "code",
   "execution_count": 10,
   "metadata": {},
   "outputs": [],
   "source": [
    "future = model.make_future_dataframe(periods=365)\n",
    "\n",
    "forecast = model.predict(future)"
   ]
  },
  {
   "cell_type": "code",
   "execution_count": 11,
   "metadata": {},
   "outputs": [
    {
     "name": "stderr",
     "output_type": "stream",
     "text": [
      "/home/marcel/.pyenv/versions/3.10.6/envs/lewagon/lib/python3.10/site-packages/prophet/plot.py:72: FutureWarning: The behavior of DatetimeProperties.to_pydatetime is deprecated, in a future version this will return a Series containing python datetime objects instead of an ndarray. To retain the old behavior, call `np.array` on the result\n",
      "  fcst_t = fcst['ds'].dt.to_pydatetime()\n",
      "/home/marcel/.pyenv/versions/3.10.6/envs/lewagon/lib/python3.10/site-packages/prophet/plot.py:73: FutureWarning: The behavior of DatetimeProperties.to_pydatetime is deprecated, in a future version this will return a Series containing python datetime objects instead of an ndarray. To retain the old behavior, call `np.array` on the result\n",
      "  ax.plot(m.history['ds'].dt.to_pydatetime(), m.history['y'], 'k.',\n"
     ]
    },
    {
     "data": {
      "image/png": "[encoded data removed]",
      "text/plain": [
       "<Figure size 1000x600 with 1 Axes>"
      ]
     },
     "metadata": {},
     "output_type": "display_data"
    }
   ],
   "source": [
    "fig1 = model.plot(forecast)\n",
    "plt.show()"
   ]
  },
  {
   "cell_type": "markdown",
   "metadata": {},
   "source": [
    "## Test again with validation set"
   ]
  },
  {
   "cell_type": "code",
   "execution_count": 12,
   "metadata": {},
   "outputs": [],
   "source": [
    "# Take the last year as validation data, as it has a yearly seasonality\n",
    "split_time = len(Prague_1_full_date_range) - 365"
   ]
  },
  {
   "cell_type": "code",
   "execution_count": 13,
   "metadata": {},
   "outputs": [
    {
     "name": "stdout",
     "output_type": "stream",
     "text": [
      "832\n",
      "365\n"
     ]
    }
   ],
   "source": [
    "Prague_1_full_date_range_train = Prague_1_full_date_range.iloc[:split_time, :]\n",
    "Prague_1_full_date_range_val = Prague_1_full_date_range.iloc[split_time:, :]\n",
    "print(len(Prague_1_full_date_range_train))\n",
    "print(len(Prague_1_full_date_range_val))"
   ]
  },
  {
   "cell_type": "markdown",
   "metadata": {},
   "source": [
    "### Important Holidays"
   ]
  },
  {
   "cell_type": "code",
   "execution_count": 14,
   "metadata": {},
   "outputs": [],
   "source": [
    "# pre_christmas = pd.DataFrame({\n",
    "#   'holiday': 'Christmas',\n",
    "#   'ds': pd.to_datetime(['2021-12-23',\n",
    "#                         '2022-12-23',\n",
    "#                         '2023-12-23',\n",
    "#                         '2024-12-23',]\n",
    "#                        ),\n",
    "#   'lower_window': 0,\n",
    "#   'upper_window': 4,\n",
    "# })\n",
    "\n",
    "# new_year = pd.DataFrame({\n",
    "#   'holiday': 'new_year',\n",
    "#   'ds': pd.to_datetime(['2021-01-01',\n",
    "#                         '2022-01-01',\n",
    "#                         '2023-01-01',\n",
    "#                         '2024-01-01',]\n",
    "#                        ),\n",
    "#   'lower_window': 0,\n",
    "#   'upper_window': 1,\n",
    "# })\n",
    "# holidays = pd.concat((pre_christmas, new_year))"
   ]
  },
  {
   "cell_type": "code",
   "execution_count": 15,
   "metadata": {},
   "outputs": [
    {
     "name": "stderr",
     "output_type": "stream",
     "text": [
      "15:28:53 - cmdstanpy - INFO - Chain [1] start processing\n",
      "15:28:53 - cmdstanpy - INFO - Chain [1] done processing\n",
      "/home/marcel/.pyenv/versions/3.10.6/envs/lewagon/lib/python3.10/site-packages/prophet/plot.py:72: FutureWarning: The behavior of DatetimeProperties.to_pydatetime is deprecated, in a future version this will return a Series containing python datetime objects instead of an ndarray. To retain the old behavior, call `np.array` on the result\n",
      "  fcst_t = fcst['ds'].dt.to_pydatetime()\n",
      "/home/marcel/.pyenv/versions/3.10.6/envs/lewagon/lib/python3.10/site-packages/prophet/plot.py:73: FutureWarning: The behavior of DatetimeProperties.to_pydatetime is deprecated, in a future version this will return a Series containing python datetime objects instead of an ndarray. To retain the old behavior, call `np.array` on the result\n",
      "  ax.plot(m.history['ds'].dt.to_pydatetime(), m.history['y'], 'k.',\n"
     ]
    },
    {
     "data": {
      "image/png": "[encoded data removed]",
      "text/plain": [
       "<Figure size 1000x600 with 1 Axes>"
      ]
     },
     "metadata": {},
     "output_type": "display_data"
    },
    {
     "data": {
      "text/plain": [
       "6.17097228253043"
      ]
     },
     "execution_count": 15,
     "metadata": {},
     "output_type": "execute_result"
    }
   ],
   "source": [
    "model_1 = Prophet(daily_seasonality=True,\n",
    "                  weekly_seasonality=True,\n",
    "                  yearly_seasonality=True,\n",
    "                  changepoint_prior_scale = 0.004,\n",
    "                  seasonality_prior_scale = 0.2)#,\n",
    "                  #holidays=holidays)\n",
    "\n",
    "# model_1.add_country_holidays(country_name='CZ')\n",
    "\n",
    "model_1.fit(Prague_1_full_date_range_train)\n",
    "\n",
    "future = model_1.make_future_dataframe(periods=365)\n",
    "\n",
    "forecast = model_1.predict(future)\n",
    "\n",
    "fig1 = model_1.plot(forecast)\n",
    "plt.show()\n",
    "\n",
    "mean_absolute_percentage_error(Prague_1_full_date_range_val[\"y\"], forecast[\"yhat\"].iloc[split_time:]) * 100"
   ]
  },
  {
   "cell_type": "code",
   "execution_count": 88,
   "metadata": {},
   "outputs": [
    {
     "data": {
      "image/png": "[encoded data removed]",
      "text/plain": [
       "<Figure size 1000x600 with 1 Axes>"
      ]
     },
     "metadata": {},
     "output_type": "display_data"
    }
   ],
   "source": [
    "# y Werte für den Plot\n",
    "y_values = Prague_1_full_date_range_val[\"y\"]\n",
    "yhat_values = forecast[\"yhat\"].iloc[split_time:]\n",
    "\n",
    "# Plot erstellen\n",
    "plt.figure(figsize=(10, 6))\n",
    "plt.plot(y_values, label='Actual Values')\n",
    "plt.plot(yhat_values, label='Forecasted Values', linestyle='--')\n",
    "\n",
    "# Plot-Details\n",
    "plt.title('Actual vs Forecasted Values')\n",
    "plt.xlabel('Time')\n",
    "plt.ylabel('Values')\n",
    "plt.legend()\n",
    "plt.grid(True)\n",
    "\n",
    "# Plot anzeigen\n",
    "plt.show()"
   ]
  },
  {
   "cell_type": "markdown",
   "metadata": {},
   "source": [
    "### Where are the high peaks ?"
   ]
  },
  {
   "cell_type": "code",
   "execution_count": 89,
   "metadata": {},
   "outputs": [
    {
     "data": {
      "text/plain": [
       "ds    2023-12-23 00:00:00\n",
       "y                 18139.0\n",
       "Name: 1113, dtype: object"
      ]
     },
     "execution_count": 89,
     "metadata": {},
     "output_type": "execute_result"
    }
   ],
   "source": [
    "\n",
    "Prague_1_full_date_range_val.loc[Prague_1_full_date_range_val[\"y\"].idxmax(), :]"
   ]
  },
  {
   "cell_type": "markdown",
   "metadata": {},
   "source": [
    "### Christmas !!"
   ]
  },
  {
   "cell_type": "markdown",
   "metadata": {},
   "source": [
    "## Hyperparameter tuning"
   ]
  },
  {
   "cell_type": "code",
   "execution_count": 36,
   "metadata": {},
   "outputs": [
    {
     "name": "stderr",
     "output_type": "stream",
     "text": [
      "16:15:09 - cmdstanpy - INFO - Chain [1] start processing\n"
     ]
    },
    {
     "name": "stdout",
     "output_type": "stream",
     "text": [
      "[{'changepoint_prior_scale': 0.001, 'holidays_prior_scale': 0.01, 'seasonality_mode': 'additive', 'seasonality_prior_scale': 0.01}, {'changepoint_prior_scale': 0.001, 'holidays_prior_scale': 0.01, 'seasonality_mode': 'additive', 'seasonality_prior_scale': 0.1}, {'changepoint_prior_scale': 0.001, 'holidays_prior_scale': 0.01, 'seasonality_mode': 'additive', 'seasonality_prior_scale': 1.0}, {'changepoint_prior_scale': 0.001, 'holidays_prior_scale': 0.01, 'seasonality_mode': 'additive', 'seasonality_prior_scale': 10.0}, {'changepoint_prior_scale': 0.001, 'holidays_prior_scale': 0.01, 'seasonality_mode': 'multiplicative', 'seasonality_prior_scale': 0.01}, {'changepoint_prior_scale': 0.001, 'holidays_prior_scale': 0.01, 'seasonality_mode': 'multiplicative', 'seasonality_prior_scale': 0.1}, {'changepoint_prior_scale': 0.001, 'holidays_prior_scale': 0.01, 'seasonality_mode': 'multiplicative', 'seasonality_prior_scale': 1.0}, {'changepoint_prior_scale': 0.001, 'holidays_prior_scale': 0.01, 'seasonality_mode': 'multiplicative', 'seasonality_prior_scale': 10.0}, {'changepoint_prior_scale': 0.001, 'holidays_prior_scale': 0.1, 'seasonality_mode': 'additive', 'seasonality_prior_scale': 0.01}, {'changepoint_prior_scale': 0.001, 'holidays_prior_scale': 0.1, 'seasonality_mode': 'additive', 'seasonality_prior_scale': 0.1}, {'changepoint_prior_scale': 0.001, 'holidays_prior_scale': 0.1, 'seasonality_mode': 'additive', 'seasonality_prior_scale': 1.0}, {'changepoint_prior_scale': 0.001, 'holidays_prior_scale': 0.1, 'seasonality_mode': 'additive', 'seasonality_prior_scale': 10.0}, {'changepoint_prior_scale': 0.001, 'holidays_prior_scale': 0.1, 'seasonality_mode': 'multiplicative', 'seasonality_prior_scale': 0.01}, {'changepoint_prior_scale': 0.001, 'holidays_prior_scale': 0.1, 'seasonality_mode': 'multiplicative', 'seasonality_prior_scale': 0.1}, {'changepoint_prior_scale': 0.001, 'holidays_prior_scale': 0.1, 'seasonality_mode': 'multiplicative', 'seasonality_prior_scale': 1.0}, {'changepoint_prior_scale': 0.001, 'holidays_prior_scale': 0.1, 'seasonality_mode': 'multiplicative', 'seasonality_prior_scale': 10.0}, {'changepoint_prior_scale': 0.001, 'holidays_prior_scale': 1.0, 'seasonality_mode': 'additive', 'seasonality_prior_scale': 0.01}, {'changepoint_prior_scale': 0.001, 'holidays_prior_scale': 1.0, 'seasonality_mode': 'additive', 'seasonality_prior_scale': 0.1}, {'changepoint_prior_scale': 0.001, 'holidays_prior_scale': 1.0, 'seasonality_mode': 'additive', 'seasonality_prior_scale': 1.0}, {'changepoint_prior_scale': 0.001, 'holidays_prior_scale': 1.0, 'seasonality_mode': 'additive', 'seasonality_prior_scale': 10.0}, {'changepoint_prior_scale': 0.001, 'holidays_prior_scale': 1.0, 'seasonality_mode': 'multiplicative', 'seasonality_prior_scale': 0.01}, {'changepoint_prior_scale': 0.001, 'holidays_prior_scale': 1.0, 'seasonality_mode': 'multiplicative', 'seasonality_prior_scale': 0.1}, {'changepoint_prior_scale': 0.001, 'holidays_prior_scale': 1.0, 'seasonality_mode': 'multiplicative', 'seasonality_prior_scale': 1.0}, {'changepoint_prior_scale': 0.001, 'holidays_prior_scale': 1.0, 'seasonality_mode': 'multiplicative', 'seasonality_prior_scale': 10.0}, {'changepoint_prior_scale': 0.001, 'holidays_prior_scale': 10.0, 'seasonality_mode': 'additive', 'seasonality_prior_scale': 0.01}, {'changepoint_prior_scale': 0.001, 'holidays_prior_scale': 10.0, 'seasonality_mode': 'additive', 'seasonality_prior_scale': 0.1}, {'changepoint_prior_scale': 0.001, 'holidays_prior_scale': 10.0, 'seasonality_mode': 'additive', 'seasonality_prior_scale': 1.0}, {'changepoint_prior_scale': 0.001, 'holidays_prior_scale': 10.0, 'seasonality_mode': 'additive', 'seasonality_prior_scale': 10.0}, {'changepoint_prior_scale': 0.001, 'holidays_prior_scale': 10.0, 'seasonality_mode': 'multiplicative', 'seasonality_prior_scale': 0.01}, {'changepoint_prior_scale': 0.001, 'holidays_prior_scale': 10.0, 'seasonality_mode': 'multiplicative', 'seasonality_prior_scale': 0.1}, {'changepoint_prior_scale': 0.001, 'holidays_prior_scale': 10.0, 'seasonality_mode': 'multiplicative', 'seasonality_prior_scale': 1.0}, {'changepoint_prior_scale': 0.001, 'holidays_prior_scale': 10.0, 'seasonality_mode': 'multiplicative', 'seasonality_prior_scale': 10.0}, {'changepoint_prior_scale': 0.01, 'holidays_prior_scale': 0.01, 'seasonality_mode': 'additive', 'seasonality_prior_scale': 0.01}, {'changepoint_prior_scale': 0.01, 'holidays_prior_scale': 0.01, 'seasonality_mode': 'additive', 'seasonality_prior_scale': 0.1}, {'changepoint_prior_scale': 0.01, 'holidays_prior_scale': 0.01, 'seasonality_mode': 'additive', 'seasonality_prior_scale': 1.0}, {'changepoint_prior_scale': 0.01, 'holidays_prior_scale': 0.01, 'seasonality_mode': 'additive', 'seasonality_prior_scale': 10.0}, {'changepoint_prior_scale': 0.01, 'holidays_prior_scale': 0.01, 'seasonality_mode': 'multiplicative', 'seasonality_prior_scale': 0.01}, {'changepoint_prior_scale': 0.01, 'holidays_prior_scale': 0.01, 'seasonality_mode': 'multiplicative', 'seasonality_prior_scale': 0.1}, {'changepoint_prior_scale': 0.01, 'holidays_prior_scale': 0.01, 'seasonality_mode': 'multiplicative', 'seasonality_prior_scale': 1.0}, {'changepoint_prior_scale': 0.01, 'holidays_prior_scale': 0.01, 'seasonality_mode': 'multiplicative', 'seasonality_prior_scale': 10.0}, {'changepoint_prior_scale': 0.01, 'holidays_prior_scale': 0.1, 'seasonality_mode': 'additive', 'seasonality_prior_scale': 0.01}, {'changepoint_prior_scale': 0.01, 'holidays_prior_scale': 0.1, 'seasonality_mode': 'additive', 'seasonality_prior_scale': 0.1}, {'changepoint_prior_scale': 0.01, 'holidays_prior_scale': 0.1, 'seasonality_mode': 'additive', 'seasonality_prior_scale': 1.0}, {'changepoint_prior_scale': 0.01, 'holidays_prior_scale': 0.1, 'seasonality_mode': 'additive', 'seasonality_prior_scale': 10.0}, {'changepoint_prior_scale': 0.01, 'holidays_prior_scale': 0.1, 'seasonality_mode': 'multiplicative', 'seasonality_prior_scale': 0.01}, {'changepoint_prior_scale': 0.01, 'holidays_prior_scale': 0.1, 'seasonality_mode': 'multiplicative', 'seasonality_prior_scale': 0.1}, {'changepoint_prior_scale': 0.01, 'holidays_prior_scale': 0.1, 'seasonality_mode': 'multiplicative', 'seasonality_prior_scale': 1.0}, {'changepoint_prior_scale': 0.01, 'holidays_prior_scale': 0.1, 'seasonality_mode': 'multiplicative', 'seasonality_prior_scale': 10.0}, {'changepoint_prior_scale': 0.01, 'holidays_prior_scale': 1.0, 'seasonality_mode': 'additive', 'seasonality_prior_scale': 0.01}, {'changepoint_prior_scale': 0.01, 'holidays_prior_scale': 1.0, 'seasonality_mode': 'additive', 'seasonality_prior_scale': 0.1}, {'changepoint_prior_scale': 0.01, 'holidays_prior_scale': 1.0, 'seasonality_mode': 'additive', 'seasonality_prior_scale': 1.0}, {'changepoint_prior_scale': 0.01, 'holidays_prior_scale': 1.0, 'seasonality_mode': 'additive', 'seasonality_prior_scale': 10.0}, {'changepoint_prior_scale': 0.01, 'holidays_prior_scale': 1.0, 'seasonality_mode': 'multiplicative', 'seasonality_prior_scale': 0.01}, {'changepoint_prior_scale': 0.01, 'holidays_prior_scale': 1.0, 'seasonality_mode': 'multiplicative', 'seasonality_prior_scale': 0.1}, {'changepoint_prior_scale': 0.01, 'holidays_prior_scale': 1.0, 'seasonality_mode': 'multiplicative', 'seasonality_prior_scale': 1.0}, {'changepoint_prior_scale': 0.01, 'holidays_prior_scale': 1.0, 'seasonality_mode': 'multiplicative', 'seasonality_prior_scale': 10.0}, {'changepoint_prior_scale': 0.01, 'holidays_prior_scale': 10.0, 'seasonality_mode': 'additive', 'seasonality_prior_scale': 0.01}, {'changepoint_prior_scale': 0.01, 'holidays_prior_scale': 10.0, 'seasonality_mode': 'additive', 'seasonality_prior_scale': 0.1}, {'changepoint_prior_scale': 0.01, 'holidays_prior_scale': 10.0, 'seasonality_mode': 'additive', 'seasonality_prior_scale': 1.0}, {'changepoint_prior_scale': 0.01, 'holidays_prior_scale': 10.0, 'seasonality_mode': 'additive', 'seasonality_prior_scale': 10.0}, {'changepoint_prior_scale': 0.01, 'holidays_prior_scale': 10.0, 'seasonality_mode': 'multiplicative', 'seasonality_prior_scale': 0.01}, {'changepoint_prior_scale': 0.01, 'holidays_prior_scale': 10.0, 'seasonality_mode': 'multiplicative', 'seasonality_prior_scale': 0.1}, {'changepoint_prior_scale': 0.01, 'holidays_prior_scale': 10.0, 'seasonality_mode': 'multiplicative', 'seasonality_prior_scale': 1.0}, {'changepoint_prior_scale': 0.01, 'holidays_prior_scale': 10.0, 'seasonality_mode': 'multiplicative', 'seasonality_prior_scale': 10.0}, {'changepoint_prior_scale': 0.1, 'holidays_prior_scale': 0.01, 'seasonality_mode': 'additive', 'seasonality_prior_scale': 0.01}, {'changepoint_prior_scale': 0.1, 'holidays_prior_scale': 0.01, 'seasonality_mode': 'additive', 'seasonality_prior_scale': 0.1}, {'changepoint_prior_scale': 0.1, 'holidays_prior_scale': 0.01, 'seasonality_mode': 'additive', 'seasonality_prior_scale': 1.0}, {'changepoint_prior_scale': 0.1, 'holidays_prior_scale': 0.01, 'seasonality_mode': 'additive', 'seasonality_prior_scale': 10.0}, {'changepoint_prior_scale': 0.1, 'holidays_prior_scale': 0.01, 'seasonality_mode': 'multiplicative', 'seasonality_prior_scale': 0.01}, {'changepoint_prior_scale': 0.1, 'holidays_prior_scale': 0.01, 'seasonality_mode': 'multiplicative', 'seasonality_prior_scale': 0.1}, {'changepoint_prior_scale': 0.1, 'holidays_prior_scale': 0.01, 'seasonality_mode': 'multiplicative', 'seasonality_prior_scale': 1.0}, {'changepoint_prior_scale': 0.1, 'holidays_prior_scale': 0.01, 'seasonality_mode': 'multiplicative', 'seasonality_prior_scale': 10.0}, {'changepoint_prior_scale': 0.1, 'holidays_prior_scale': 0.1, 'seasonality_mode': 'additive', 'seasonality_prior_scale': 0.01}, {'changepoint_prior_scale': 0.1, 'holidays_prior_scale': 0.1, 'seasonality_mode': 'additive', 'seasonality_prior_scale': 0.1}, {'changepoint_prior_scale': 0.1, 'holidays_prior_scale': 0.1, 'seasonality_mode': 'additive', 'seasonality_prior_scale': 1.0}, {'changepoint_prior_scale': 0.1, 'holidays_prior_scale': 0.1, 'seasonality_mode': 'additive', 'seasonality_prior_scale': 10.0}, {'changepoint_prior_scale': 0.1, 'holidays_prior_scale': 0.1, 'seasonality_mode': 'multiplicative', 'seasonality_prior_scale': 0.01}, {'changepoint_prior_scale': 0.1, 'holidays_prior_scale': 0.1, 'seasonality_mode': 'multiplicative', 'seasonality_prior_scale': 0.1}, {'changepoint_prior_scale': 0.1, 'holidays_prior_scale': 0.1, 'seasonality_mode': 'multiplicative', 'seasonality_prior_scale': 1.0}, {'changepoint_prior_scale': 0.1, 'holidays_prior_scale': 0.1, 'seasonality_mode': 'multiplicative', 'seasonality_prior_scale': 10.0}, {'changepoint_prior_scale': 0.1, 'holidays_prior_scale': 1.0, 'seasonality_mode': 'additive', 'seasonality_prior_scale': 0.01}, {'changepoint_prior_scale': 0.1, 'holidays_prior_scale': 1.0, 'seasonality_mode': 'additive', 'seasonality_prior_scale': 0.1}, {'changepoint_prior_scale': 0.1, 'holidays_prior_scale': 1.0, 'seasonality_mode': 'additive', 'seasonality_prior_scale': 1.0}, {'changepoint_prior_scale': 0.1, 'holidays_prior_scale': 1.0, 'seasonality_mode': 'additive', 'seasonality_prior_scale': 10.0}, {'changepoint_prior_scale': 0.1, 'holidays_prior_scale': 1.0, 'seasonality_mode': 'multiplicative', 'seasonality_prior_scale': 0.01}, {'changepoint_prior_scale': 0.1, 'holidays_prior_scale': 1.0, 'seasonality_mode': 'multiplicative', 'seasonality_prior_scale': 0.1}, {'changepoint_prior_scale': 0.1, 'holidays_prior_scale': 1.0, 'seasonality_mode': 'multiplicative', 'seasonality_prior_scale': 1.0}, {'changepoint_prior_scale': 0.1, 'holidays_prior_scale': 1.0, 'seasonality_mode': 'multiplicative', 'seasonality_prior_scale': 10.0}, {'changepoint_prior_scale': 0.1, 'holidays_prior_scale': 10.0, 'seasonality_mode': 'additive', 'seasonality_prior_scale': 0.01}, {'changepoint_prior_scale': 0.1, 'holidays_prior_scale': 10.0, 'seasonality_mode': 'additive', 'seasonality_prior_scale': 0.1}, {'changepoint_prior_scale': 0.1, 'holidays_prior_scale': 10.0, 'seasonality_mode': 'additive', 'seasonality_prior_scale': 1.0}, {'changepoint_prior_scale': 0.1, 'holidays_prior_scale': 10.0, 'seasonality_mode': 'additive', 'seasonality_prior_scale': 10.0}, {'changepoint_prior_scale': 0.1, 'holidays_prior_scale': 10.0, 'seasonality_mode': 'multiplicative', 'seasonality_prior_scale': 0.01}, {'changepoint_prior_scale': 0.1, 'holidays_prior_scale': 10.0, 'seasonality_mode': 'multiplicative', 'seasonality_prior_scale': 0.1}, {'changepoint_prior_scale': 0.1, 'holidays_prior_scale': 10.0, 'seasonality_mode': 'multiplicative', 'seasonality_prior_scale': 1.0}, {'changepoint_prior_scale': 0.1, 'holidays_prior_scale': 10.0, 'seasonality_mode': 'multiplicative', 'seasonality_prior_scale': 10.0}, {'changepoint_prior_scale': 0.5, 'holidays_prior_scale': 0.01, 'seasonality_mode': 'additive', 'seasonality_prior_scale': 0.01}, {'changepoint_prior_scale': 0.5, 'holidays_prior_scale': 0.01, 'seasonality_mode': 'additive', 'seasonality_prior_scale': 0.1}, {'changepoint_prior_scale': 0.5, 'holidays_prior_scale': 0.01, 'seasonality_mode': 'additive', 'seasonality_prior_scale': 1.0}, {'changepoint_prior_scale': 0.5, 'holidays_prior_scale': 0.01, 'seasonality_mode': 'additive', 'seasonality_prior_scale': 10.0}, {'changepoint_prior_scale': 0.5, 'holidays_prior_scale': 0.01, 'seasonality_mode': 'multiplicative', 'seasonality_prior_scale': 0.01}, {'changepoint_prior_scale': 0.5, 'holidays_prior_scale': 0.01, 'seasonality_mode': 'multiplicative', 'seasonality_prior_scale': 0.1}, {'changepoint_prior_scale': 0.5, 'holidays_prior_scale': 0.01, 'seasonality_mode': 'multiplicative', 'seasonality_prior_scale': 1.0}, {'changepoint_prior_scale': 0.5, 'holidays_prior_scale': 0.01, 'seasonality_mode': 'multiplicative', 'seasonality_prior_scale': 10.0}, {'changepoint_prior_scale': 0.5, 'holidays_prior_scale': 0.1, 'seasonality_mode': 'additive', 'seasonality_prior_scale': 0.01}, {'changepoint_prior_scale': 0.5, 'holidays_prior_scale': 0.1, 'seasonality_mode': 'additive', 'seasonality_prior_scale': 0.1}, {'changepoint_prior_scale': 0.5, 'holidays_prior_scale': 0.1, 'seasonality_mode': 'additive', 'seasonality_prior_scale': 1.0}, {'changepoint_prior_scale': 0.5, 'holidays_prior_scale': 0.1, 'seasonality_mode': 'additive', 'seasonality_prior_scale': 10.0}, {'changepoint_prior_scale': 0.5, 'holidays_prior_scale': 0.1, 'seasonality_mode': 'multiplicative', 'seasonality_prior_scale': 0.01}, {'changepoint_prior_scale': 0.5, 'holidays_prior_scale': 0.1, 'seasonality_mode': 'multiplicative', 'seasonality_prior_scale': 0.1}, {'changepoint_prior_scale': 0.5, 'holidays_prior_scale': 0.1, 'seasonality_mode': 'multiplicative', 'seasonality_prior_scale': 1.0}, {'changepoint_prior_scale': 0.5, 'holidays_prior_scale': 0.1, 'seasonality_mode': 'multiplicative', 'seasonality_prior_scale': 10.0}, {'changepoint_prior_scale': 0.5, 'holidays_prior_scale': 1.0, 'seasonality_mode': 'additive', 'seasonality_prior_scale': 0.01}, {'changepoint_prior_scale': 0.5, 'holidays_prior_scale': 1.0, 'seasonality_mode': 'additive', 'seasonality_prior_scale': 0.1}, {'changepoint_prior_scale': 0.5, 'holidays_prior_scale': 1.0, 'seasonality_mode': 'additive', 'seasonality_prior_scale': 1.0}, {'changepoint_prior_scale': 0.5, 'holidays_prior_scale': 1.0, 'seasonality_mode': 'additive', 'seasonality_prior_scale': 10.0}, {'changepoint_prior_scale': 0.5, 'holidays_prior_scale': 1.0, 'seasonality_mode': 'multiplicative', 'seasonality_prior_scale': 0.01}, {'changepoint_prior_scale': 0.5, 'holidays_prior_scale': 1.0, 'seasonality_mode': 'multiplicative', 'seasonality_prior_scale': 0.1}, {'changepoint_prior_scale': 0.5, 'holidays_prior_scale': 1.0, 'seasonality_mode': 'multiplicative', 'seasonality_prior_scale': 1.0}, {'changepoint_prior_scale': 0.5, 'holidays_prior_scale': 1.0, 'seasonality_mode': 'multiplicative', 'seasonality_prior_scale': 10.0}, {'changepoint_prior_scale': 0.5, 'holidays_prior_scale': 10.0, 'seasonality_mode': 'additive', 'seasonality_prior_scale': 0.01}, {'changepoint_prior_scale': 0.5, 'holidays_prior_scale': 10.0, 'seasonality_mode': 'additive', 'seasonality_prior_scale': 0.1}, {'changepoint_prior_scale': 0.5, 'holidays_prior_scale': 10.0, 'seasonality_mode': 'additive', 'seasonality_prior_scale': 1.0}, {'changepoint_prior_scale': 0.5, 'holidays_prior_scale': 10.0, 'seasonality_mode': 'additive', 'seasonality_prior_scale': 10.0}, {'changepoint_prior_scale': 0.5, 'holidays_prior_scale': 10.0, 'seasonality_mode': 'multiplicative', 'seasonality_prior_scale': 0.01}, {'changepoint_prior_scale': 0.5, 'holidays_prior_scale': 10.0, 'seasonality_mode': 'multiplicative', 'seasonality_prior_scale': 0.1}, {'changepoint_prior_scale': 0.5, 'holidays_prior_scale': 10.0, 'seasonality_mode': 'multiplicative', 'seasonality_prior_scale': 1.0}, {'changepoint_prior_scale': 0.5, 'holidays_prior_scale': 10.0, 'seasonality_mode': 'multiplicative', 'seasonality_prior_scale': 10.0}]\n"
     ]
    },
    {
     "name": "stderr",
     "output_type": "stream",
     "text": [
      "16:15:09 - cmdstanpy - INFO - Chain [1] done processing\n",
      "Seasonality has period of 365.25 days which is larger than initial window. Consider increasing initial.\n"
     ]
    },
    {
     "data": {
      "application/vnd.jupyter.widget-view+json": {
       "model_id": "b54446c15f88498c9db30bb30a5e2813",
       "version_major": 2,
       "version_minor": 0
      },
      "text/plain": [
       "  0%|          | 0/3 [00:00<?, ?it/s]"
      ]
     },
     "metadata": {},
     "output_type": "display_data"
    },
    {
     "name": "stderr",
     "output_type": "stream",
     "text": [
      "16:15:10 - cmdstanpy - INFO - Chain [1] start processing\n",
      "16:15:10 - cmdstanpy - INFO - Chain [1] done processing\n",
      "16:15:10 - cmdstanpy - INFO - Chain [1] start processing\n",
      "16:15:10 - cmdstanpy - INFO - Chain [1] done processing\n",
      "16:15:10 - cmdstanpy - INFO - Chain [1] start processing\n",
      "16:15:10 - cmdstanpy - INFO - Chain [1] done processing\n",
      "16:15:11 - cmdstanpy - INFO - Chain [1] start processing\n",
      "16:15:11 - cmdstanpy - INFO - Chain [1] done processing\n",
      "Seasonality has period of 365.25 days which is larger than initial window. Consider increasing initial.\n"
     ]
    },
    {
     "data": {
      "application/vnd.jupyter.widget-view+json": {
       "model_id": "1c7ec1552a184e8cbc217ac9882b4abd",
       "version_major": 2,
       "version_minor": 0
      },
      "text/plain": [
       "  0%|          | 0/3 [00:00<?, ?it/s]"
      ]
     },
     "metadata": {},
     "output_type": "display_data"
    },
    {
     "name": "stderr",
     "output_type": "stream",
     "text": [
      "16:15:11 - cmdstanpy - INFO - Chain [1] start processing\n",
      "16:15:11 - cmdstanpy - INFO - Chain [1] done processing\n",
      "16:15:11 - cmdstanpy - INFO - Chain [1] start processing\n",
      "16:15:11 - cmdstanpy - INFO - Chain [1] done processing\n",
      "16:15:11 - cmdstanpy - INFO - Chain [1] start processing\n",
      "16:15:11 - cmdstanpy - INFO - Chain [1] done processing\n",
      "16:15:12 - cmdstanpy - INFO - Chain [1] start processing\n",
      "16:15:12 - cmdstanpy - INFO - Chain [1] done processing\n",
      "Seasonality has period of 365.25 days which is larger than initial window. Consider increasing initial.\n"
     ]
    },
    {
     "data": {
      "application/vnd.jupyter.widget-view+json": {
       "model_id": "bfe6e05f1e934f27be81fc6b23aceb3f",
       "version_major": 2,
       "version_minor": 0
      },
      "text/plain": [
       "  0%|          | 0/3 [00:00<?, ?it/s]"
      ]
     },
     "metadata": {},
     "output_type": "display_data"
    },
    {
     "name": "stderr",
     "output_type": "stream",
     "text": [
      "16:15:12 - cmdstanpy - INFO - Chain [1] start processing\n",
      "16:15:12 - cmdstanpy - INFO - Chain [1] done processing\n",
      "16:15:12 - cmdstanpy - INFO - Chain [1] start processing\n",
      "16:15:12 - cmdstanpy - INFO - Chain [1] done processing\n",
      "16:15:12 - cmdstanpy - INFO - Chain [1] start processing\n",
      "16:15:13 - cmdstanpy - INFO - Chain [1] done processing\n",
      "16:15:13 - cmdstanpy - INFO - Chain [1] start processing\n",
      "16:15:13 - cmdstanpy - INFO - Chain [1] done processing\n",
      "Seasonality has period of 365.25 days which is larger than initial window. Consider increasing initial.\n"
     ]
    },
    {
     "data": {
      "application/vnd.jupyter.widget-view+json": {
       "model_id": "8f19d111058d4e1aa9191dad7c1e1e8d",
       "version_major": 2,
       "version_minor": 0
      },
      "text/plain": [
       "  0%|          | 0/3 [00:00<?, ?it/s]"
      ]
     },
     "metadata": {},
     "output_type": "display_data"
    },
    {
     "name": "stderr",
     "output_type": "stream",
     "text": [
      "16:15:13 - cmdstanpy - INFO - Chain [1] start processing\n",
      "16:15:13 - cmdstanpy - INFO - Chain [1] done processing\n",
      "16:15:13 - cmdstanpy - INFO - Chain [1] start processing\n",
      "16:15:13 - cmdstanpy - INFO - Chain [1] done processing\n",
      "16:15:14 - cmdstanpy - INFO - Chain [1] start processing\n",
      "16:15:14 - cmdstanpy - INFO - Chain [1] done processing\n",
      "16:15:14 - cmdstanpy - INFO - Chain [1] start processing\n",
      "16:15:14 - cmdstanpy - INFO - Chain [1] done processing\n",
      "Seasonality has period of 365.25 days which is larger than initial window. Consider increasing initial.\n"
     ]
    },
    {
     "data": {
      "application/vnd.jupyter.widget-view+json": {
       "model_id": "16207a7ad8af4d6599f4c8bbe9a6ff7a",
       "version_major": 2,
       "version_minor": 0
      },
      "text/plain": [
       "  0%|          | 0/3 [00:00<?, ?it/s]"
      ]
     },
     "metadata": {},
     "output_type": "display_data"
    },
    {
     "name": "stderr",
     "output_type": "stream",
     "text": [
      "16:15:14 - cmdstanpy - INFO - Chain [1] start processing\n",
      "16:15:14 - cmdstanpy - INFO - Chain [1] done processing\n",
      "16:15:15 - cmdstanpy - INFO - Chain [1] start processing\n",
      "16:15:15 - cmdstanpy - INFO - Chain [1] done processing\n",
      "16:15:15 - cmdstanpy - INFO - Chain [1] start processing\n",
      "16:15:15 - cmdstanpy - INFO - Chain [1] done processing\n",
      "16:15:15 - cmdstanpy - INFO - Chain [1] start processing\n",
      "16:15:15 - cmdstanpy - INFO - Chain [1] done processing\n",
      "Seasonality has period of 365.25 days which is larger than initial window. Consider increasing initial.\n"
     ]
    },
    {
     "data": {
      "application/vnd.jupyter.widget-view+json": {
       "model_id": "c53bb50d39204afd8dbe36f5f67a5e16",
       "version_major": 2,
       "version_minor": 0
      },
      "text/plain": [
       "  0%|          | 0/3 [00:00<?, ?it/s]"
      ]
     },
     "metadata": {},
     "output_type": "display_data"
    },
    {
     "name": "stderr",
     "output_type": "stream",
     "text": [
      "16:15:15 - cmdstanpy - INFO - Chain [1] start processing\n",
      "16:15:15 - cmdstanpy - INFO - Chain [1] done processing\n",
      "16:15:16 - cmdstanpy - INFO - Chain [1] start processing\n",
      "16:15:16 - cmdstanpy - INFO - Chain [1] done processing\n",
      "16:15:16 - cmdstanpy - INFO - Chain [1] start processing\n",
      "16:15:16 - cmdstanpy - INFO - Chain [1] done processing\n",
      "16:15:16 - cmdstanpy - INFO - Chain [1] start processing\n",
      "16:15:16 - cmdstanpy - INFO - Chain [1] done processing\n",
      "Seasonality has period of 365.25 days which is larger than initial window. Consider increasing initial.\n"
     ]
    },
    {
     "data": {
      "application/vnd.jupyter.widget-view+json": {
       "model_id": "55f545e8862748998f29bb01345073b3",
       "version_major": 2,
       "version_minor": 0
      },
      "text/plain": [
       "  0%|          | 0/3 [00:00<?, ?it/s]"
      ]
     },
     "metadata": {},
     "output_type": "display_data"
    },
    {
     "name": "stderr",
     "output_type": "stream",
     "text": [
      "16:15:17 - cmdstanpy - INFO - Chain [1] start processing\n",
      "16:15:17 - cmdstanpy - INFO - Chain [1] done processing\n",
      "16:15:17 - cmdstanpy - INFO - Chain [1] start processing\n",
      "16:15:17 - cmdstanpy - INFO - Chain [1] done processing\n",
      "16:15:17 - cmdstanpy - INFO - Chain [1] start processing\n",
      "16:15:17 - cmdstanpy - INFO - Chain [1] done processing\n",
      "16:15:18 - cmdstanpy - INFO - Chain [1] start processing\n",
      "16:15:18 - cmdstanpy - INFO - Chain [1] done processing\n",
      "Seasonality has period of 365.25 days which is larger than initial window. Consider increasing initial.\n"
     ]
    },
    {
     "data": {
      "application/vnd.jupyter.widget-view+json": {
       "model_id": "05bdf3a30da94d0aad7fcdc44785d95f",
       "version_major": 2,
       "version_minor": 0
      },
      "text/plain": [
       "  0%|          | 0/3 [00:00<?, ?it/s]"
      ]
     },
     "metadata": {},
     "output_type": "display_data"
    },
    {
     "name": "stderr",
     "output_type": "stream",
     "text": [
      "16:15:18 - cmdstanpy - INFO - Chain [1] start processing\n",
      "16:15:18 - cmdstanpy - INFO - Chain [1] done processing\n",
      "16:15:18 - cmdstanpy - INFO - Chain [1] start processing\n",
      "16:15:18 - cmdstanpy - INFO - Chain [1] done processing\n",
      "16:15:18 - cmdstanpy - INFO - Chain [1] start processing\n",
      "16:15:18 - cmdstanpy - INFO - Chain [1] done processing\n",
      "16:15:19 - cmdstanpy - INFO - Chain [1] start processing\n",
      "16:15:19 - cmdstanpy - INFO - Chain [1] done processing\n",
      "Seasonality has period of 365.25 days which is larger than initial window. Consider increasing initial.\n"
     ]
    },
    {
     "data": {
      "application/vnd.jupyter.widget-view+json": {
       "model_id": "b1a2970667104e4b8d4bfc3b58b06f2f",
       "version_major": 2,
       "version_minor": 0
      },
      "text/plain": [
       "  0%|          | 0/3 [00:00<?, ?it/s]"
      ]
     },
     "metadata": {},
     "output_type": "display_data"
    },
    {
     "name": "stderr",
     "output_type": "stream",
     "text": [
      "16:15:19 - cmdstanpy - INFO - Chain [1] start processing\n",
      "16:15:19 - cmdstanpy - INFO - Chain [1] done processing\n",
      "16:15:19 - cmdstanpy - INFO - Chain [1] start processing\n",
      "16:15:19 - cmdstanpy - INFO - Chain [1] done processing\n",
      "16:15:20 - cmdstanpy - INFO - Chain [1] start processing\n",
      "16:15:20 - cmdstanpy - INFO - Chain [1] done processing\n",
      "16:15:20 - cmdstanpy - INFO - Chain [1] start processing\n",
      "16:15:20 - cmdstanpy - INFO - Chain [1] done processing\n",
      "Seasonality has period of 365.25 days which is larger than initial window. Consider increasing initial.\n"
     ]
    },
    {
     "data": {
      "application/vnd.jupyter.widget-view+json": {
       "model_id": "11ab3ac62a5141c5abd958a6caf96433",
       "version_major": 2,
       "version_minor": 0
      },
      "text/plain": [
       "  0%|          | 0/3 [00:00<?, ?it/s]"
      ]
     },
     "metadata": {},
     "output_type": "display_data"
    },
    {
     "name": "stderr",
     "output_type": "stream",
     "text": [
      "16:15:20 - cmdstanpy - INFO - Chain [1] start processing\n",
      "16:15:20 - cmdstanpy - INFO - Chain [1] done processing\n",
      "16:15:21 - cmdstanpy - INFO - Chain [1] start processing\n",
      "16:15:21 - cmdstanpy - INFO - Chain [1] done processing\n",
      "16:15:21 - cmdstanpy - INFO - Chain [1] start processing\n",
      "16:15:21 - cmdstanpy - INFO - Chain [1] done processing\n",
      "16:15:21 - cmdstanpy - INFO - Chain [1] start processing\n",
      "16:15:21 - cmdstanpy - INFO - Chain [1] done processing\n",
      "Seasonality has period of 365.25 days which is larger than initial window. Consider increasing initial.\n"
     ]
    },
    {
     "data": {
      "application/vnd.jupyter.widget-view+json": {
       "model_id": "5010666e51154579acba16dd2ae9e7a2",
       "version_major": 2,
       "version_minor": 0
      },
      "text/plain": [
       "  0%|          | 0/3 [00:00<?, ?it/s]"
      ]
     },
     "metadata": {},
     "output_type": "display_data"
    },
    {
     "name": "stderr",
     "output_type": "stream",
     "text": [
      "16:15:21 - cmdstanpy - INFO - Chain [1] start processing\n",
      "16:15:21 - cmdstanpy - INFO - Chain [1] done processing\n",
      "16:15:22 - cmdstanpy - INFO - Chain [1] start processing\n",
      "16:15:22 - cmdstanpy - INFO - Chain [1] done processing\n",
      "16:15:22 - cmdstanpy - INFO - Chain [1] start processing\n",
      "16:15:22 - cmdstanpy - INFO - Chain [1] done processing\n",
      "16:15:22 - cmdstanpy - INFO - Chain [1] start processing\n",
      "16:15:22 - cmdstanpy - INFO - Chain [1] done processing\n",
      "Seasonality has period of 365.25 days which is larger than initial window. Consider increasing initial.\n"
     ]
    },
    {
     "data": {
      "application/vnd.jupyter.widget-view+json": {
       "model_id": "17cee91306804180a01cbffad13985d2",
       "version_major": 2,
       "version_minor": 0
      },
      "text/plain": [
       "  0%|          | 0/3 [00:00<?, ?it/s]"
      ]
     },
     "metadata": {},
     "output_type": "display_data"
    },
    {
     "name": "stderr",
     "output_type": "stream",
     "text": [
      "16:15:23 - cmdstanpy - INFO - Chain [1] start processing\n",
      "16:15:23 - cmdstanpy - INFO - Chain [1] done processing\n",
      "16:15:23 - cmdstanpy - INFO - Chain [1] start processing\n",
      "16:15:23 - cmdstanpy - INFO - Chain [1] done processing\n",
      "16:15:23 - cmdstanpy - INFO - Chain [1] start processing\n",
      "16:15:23 - cmdstanpy - INFO - Chain [1] done processing\n",
      "16:15:24 - cmdstanpy - INFO - Chain [1] start processing\n",
      "16:15:24 - cmdstanpy - INFO - Chain [1] done processing\n",
      "Seasonality has period of 365.25 days which is larger than initial window. Consider increasing initial.\n"
     ]
    },
    {
     "data": {
      "application/vnd.jupyter.widget-view+json": {
       "model_id": "b217f141a87d41d0932c59bb2eaff248",
       "version_major": 2,
       "version_minor": 0
      },
      "text/plain": [
       "  0%|          | 0/3 [00:00<?, ?it/s]"
      ]
     },
     "metadata": {},
     "output_type": "display_data"
    },
    {
     "name": "stderr",
     "output_type": "stream",
     "text": [
      "16:15:24 - cmdstanpy - INFO - Chain [1] start processing\n",
      "16:15:24 - cmdstanpy - INFO - Chain [1] done processing\n",
      "16:15:24 - cmdstanpy - INFO - Chain [1] start processing\n",
      "16:15:24 - cmdstanpy - INFO - Chain [1] done processing\n",
      "16:15:24 - cmdstanpy - INFO - Chain [1] start processing\n",
      "16:15:24 - cmdstanpy - INFO - Chain [1] done processing\n",
      "16:15:25 - cmdstanpy - INFO - Chain [1] start processing\n",
      "16:15:25 - cmdstanpy - INFO - Chain [1] done processing\n",
      "Seasonality has period of 365.25 days which is larger than initial window. Consider increasing initial.\n"
     ]
    },
    {
     "data": {
      "application/vnd.jupyter.widget-view+json": {
       "model_id": "6c63c6d172a34068b4ff5f7862ca66c1",
       "version_major": 2,
       "version_minor": 0
      },
      "text/plain": [
       "  0%|          | 0/3 [00:00<?, ?it/s]"
      ]
     },
     "metadata": {},
     "output_type": "display_data"
    },
    {
     "name": "stderr",
     "output_type": "stream",
     "text": [
      "16:15:25 - cmdstanpy - INFO - Chain [1] start processing\n",
      "16:15:25 - cmdstanpy - INFO - Chain [1] done processing\n",
      "16:15:25 - cmdstanpy - INFO - Chain [1] start processing\n",
      "16:15:25 - cmdstanpy - INFO - Chain [1] done processing\n",
      "16:15:26 - cmdstanpy - INFO - Chain [1] start processing\n",
      "16:15:26 - cmdstanpy - INFO - Chain [1] done processing\n",
      "16:15:26 - cmdstanpy - INFO - Chain [1] start processing\n",
      "16:15:26 - cmdstanpy - INFO - Chain [1] done processing\n",
      "Seasonality has period of 365.25 days which is larger than initial window. Consider increasing initial.\n"
     ]
    },
    {
     "data": {
      "application/vnd.jupyter.widget-view+json": {
       "model_id": "89aefecc365f4ad79debee0a1a0f5df5",
       "version_major": 2,
       "version_minor": 0
      },
      "text/plain": [
       "  0%|          | 0/3 [00:00<?, ?it/s]"
      ]
     },
     "metadata": {},
     "output_type": "display_data"
    },
    {
     "name": "stderr",
     "output_type": "stream",
     "text": [
      "16:15:26 - cmdstanpy - INFO - Chain [1] start processing\n",
      "16:15:26 - cmdstanpy - INFO - Chain [1] done processing\n",
      "16:15:27 - cmdstanpy - INFO - Chain [1] start processing\n",
      "16:15:27 - cmdstanpy - INFO - Chain [1] done processing\n",
      "16:15:27 - cmdstanpy - INFO - Chain [1] start processing\n",
      "16:15:27 - cmdstanpy - INFO - Chain [1] done processing\n",
      "16:15:27 - cmdstanpy - INFO - Chain [1] start processing\n",
      "16:15:27 - cmdstanpy - INFO - Chain [1] done processing\n",
      "Seasonality has period of 365.25 days which is larger than initial window. Consider increasing initial.\n"
     ]
    },
    {
     "data": {
      "application/vnd.jupyter.widget-view+json": {
       "model_id": "17a0453ff962493da23ad055146eb5c5",
       "version_major": 2,
       "version_minor": 0
      },
      "text/plain": [
       "  0%|          | 0/3 [00:00<?, ?it/s]"
      ]
     },
     "metadata": {},
     "output_type": "display_data"
    },
    {
     "name": "stderr",
     "output_type": "stream",
     "text": [
      "16:15:27 - cmdstanpy - INFO - Chain [1] start processing\n",
      "16:15:27 - cmdstanpy - INFO - Chain [1] done processing\n",
      "16:15:28 - cmdstanpy - INFO - Chain [1] start processing\n",
      "16:15:28 - cmdstanpy - INFO - Chain [1] done processing\n",
      "16:15:28 - cmdstanpy - INFO - Chain [1] start processing\n",
      "16:15:28 - cmdstanpy - INFO - Chain [1] done processing\n",
      "16:15:29 - cmdstanpy - INFO - Chain [1] start processing\n",
      "16:15:29 - cmdstanpy - INFO - Chain [1] done processing\n",
      "Seasonality has period of 365.25 days which is larger than initial window. Consider increasing initial.\n"
     ]
    },
    {
     "data": {
      "application/vnd.jupyter.widget-view+json": {
       "model_id": "460e2ac81c504be89e7f2d1d8800bf2c",
       "version_major": 2,
       "version_minor": 0
      },
      "text/plain": [
       "  0%|          | 0/3 [00:00<?, ?it/s]"
      ]
     },
     "metadata": {},
     "output_type": "display_data"
    },
    {
     "name": "stderr",
     "output_type": "stream",
     "text": [
      "16:15:29 - cmdstanpy - INFO - Chain [1] start processing\n",
      "16:15:29 - cmdstanpy - INFO - Chain [1] done processing\n",
      "16:15:29 - cmdstanpy - INFO - Chain [1] start processing\n",
      "16:15:29 - cmdstanpy - INFO - Chain [1] done processing\n",
      "16:15:30 - cmdstanpy - INFO - Chain [1] start processing\n",
      "16:15:30 - cmdstanpy - INFO - Chain [1] done processing\n",
      "16:15:30 - cmdstanpy - INFO - Chain [1] start processing\n",
      "16:15:30 - cmdstanpy - INFO - Chain [1] done processing\n",
      "Seasonality has period of 365.25 days which is larger than initial window. Consider increasing initial.\n"
     ]
    },
    {
     "data": {
      "application/vnd.jupyter.widget-view+json": {
       "model_id": "2e5765892ffc4e66a80f2bb1397f18e6",
       "version_major": 2,
       "version_minor": 0
      },
      "text/plain": [
       "  0%|          | 0/3 [00:00<?, ?it/s]"
      ]
     },
     "metadata": {},
     "output_type": "display_data"
    },
    {
     "name": "stderr",
     "output_type": "stream",
     "text": [
      "16:15:30 - cmdstanpy - INFO - Chain [1] start processing\n",
      "16:15:30 - cmdstanpy - INFO - Chain [1] done processing\n",
      "16:15:31 - cmdstanpy - INFO - Chain [1] start processing\n",
      "16:15:31 - cmdstanpy - INFO - Chain [1] done processing\n",
      "16:15:31 - cmdstanpy - INFO - Chain [1] start processing\n",
      "16:15:31 - cmdstanpy - INFO - Chain [1] done processing\n",
      "16:15:31 - cmdstanpy - INFO - Chain [1] start processing\n",
      "16:15:31 - cmdstanpy - INFO - Chain [1] done processing\n",
      "Seasonality has period of 365.25 days which is larger than initial window. Consider increasing initial.\n"
     ]
    },
    {
     "data": {
      "application/vnd.jupyter.widget-view+json": {
       "model_id": "544333a20e594ff985d1be75fd0a1b69",
       "version_major": 2,
       "version_minor": 0
      },
      "text/plain": [
       "  0%|          | 0/3 [00:00<?, ?it/s]"
      ]
     },
     "metadata": {},
     "output_type": "display_data"
    },
    {
     "name": "stderr",
     "output_type": "stream",
     "text": [
      "16:15:31 - cmdstanpy - INFO - Chain [1] start processing\n",
      "16:15:31 - cmdstanpy - INFO - Chain [1] done processing\n",
      "16:15:32 - cmdstanpy - INFO - Chain [1] start processing\n",
      "16:15:32 - cmdstanpy - INFO - Chain [1] done processing\n",
      "16:15:32 - cmdstanpy - INFO - Chain [1] start processing\n",
      "16:15:32 - cmdstanpy - INFO - Chain [1] done processing\n",
      "16:15:32 - cmdstanpy - INFO - Chain [1] start processing\n",
      "16:15:32 - cmdstanpy - INFO - Chain [1] done processing\n",
      "Seasonality has period of 365.25 days which is larger than initial window. Consider increasing initial.\n"
     ]
    },
    {
     "data": {
      "application/vnd.jupyter.widget-view+json": {
       "model_id": "2cff0b0c135944d191b8d4a9fcdca2f6",
       "version_major": 2,
       "version_minor": 0
      },
      "text/plain": [
       "  0%|          | 0/3 [00:00<?, ?it/s]"
      ]
     },
     "metadata": {},
     "output_type": "display_data"
    },
    {
     "name": "stderr",
     "output_type": "stream",
     "text": [
      "16:15:33 - cmdstanpy - INFO - Chain [1] start processing\n",
      "16:15:33 - cmdstanpy - INFO - Chain [1] done processing\n",
      "16:15:33 - cmdstanpy - INFO - Chain [1] start processing\n",
      "16:15:33 - cmdstanpy - INFO - Chain [1] done processing\n",
      "16:15:34 - cmdstanpy - INFO - Chain [1] start processing\n",
      "16:15:34 - cmdstanpy - INFO - Chain [1] done processing\n",
      "16:15:34 - cmdstanpy - INFO - Chain [1] start processing\n",
      "16:15:34 - cmdstanpy - INFO - Chain [1] done processing\n",
      "Seasonality has period of 365.25 days which is larger than initial window. Consider increasing initial.\n"
     ]
    },
    {
     "data": {
      "application/vnd.jupyter.widget-view+json": {
       "model_id": "051572bcabb843c49c253a42b8f103c4",
       "version_major": 2,
       "version_minor": 0
      },
      "text/plain": [
       "  0%|          | 0/3 [00:00<?, ?it/s]"
      ]
     },
     "metadata": {},
     "output_type": "display_data"
    },
    {
     "name": "stderr",
     "output_type": "stream",
     "text": [
      "16:15:34 - cmdstanpy - INFO - Chain [1] start processing\n",
      "16:15:34 - cmdstanpy - INFO - Chain [1] done processing\n",
      "16:15:35 - cmdstanpy - INFO - Chain [1] start processing\n",
      "16:15:35 - cmdstanpy - INFO - Chain [1] done processing\n",
      "16:15:35 - cmdstanpy - INFO - Chain [1] start processing\n",
      "16:15:35 - cmdstanpy - INFO - Chain [1] done processing\n",
      "16:15:35 - cmdstanpy - INFO - Chain [1] start processing\n",
      "16:15:35 - cmdstanpy - INFO - Chain [1] done processing\n",
      "Seasonality has period of 365.25 days which is larger than initial window. Consider increasing initial.\n"
     ]
    },
    {
     "data": {
      "application/vnd.jupyter.widget-view+json": {
       "model_id": "f64fbad388574ddd90612fac8c96dc10",
       "version_major": 2,
       "version_minor": 0
      },
      "text/plain": [
       "  0%|          | 0/3 [00:00<?, ?it/s]"
      ]
     },
     "metadata": {},
     "output_type": "display_data"
    },
    {
     "name": "stderr",
     "output_type": "stream",
     "text": [
      "16:15:35 - cmdstanpy - INFO - Chain [1] start processing\n",
      "16:15:35 - cmdstanpy - INFO - Chain [1] done processing\n",
      "16:15:36 - cmdstanpy - INFO - Chain [1] start processing\n",
      "16:15:36 - cmdstanpy - INFO - Chain [1] done processing\n",
      "16:15:36 - cmdstanpy - INFO - Chain [1] start processing\n",
      "16:15:36 - cmdstanpy - INFO - Chain [1] done processing\n",
      "16:15:36 - cmdstanpy - INFO - Chain [1] start processing\n",
      "16:15:36 - cmdstanpy - INFO - Chain [1] done processing\n",
      "Seasonality has period of 365.25 days which is larger than initial window. Consider increasing initial.\n"
     ]
    },
    {
     "data": {
      "application/vnd.jupyter.widget-view+json": {
       "model_id": "b5d3a1ec04b94d939dc1b9f9d305a87b",
       "version_major": 2,
       "version_minor": 0
      },
      "text/plain": [
       "  0%|          | 0/3 [00:00<?, ?it/s]"
      ]
     },
     "metadata": {},
     "output_type": "display_data"
    },
    {
     "name": "stderr",
     "output_type": "stream",
     "text": [
      "16:15:37 - cmdstanpy - INFO - Chain [1] start processing\n",
      "16:15:37 - cmdstanpy - INFO - Chain [1] done processing\n",
      "16:15:37 - cmdstanpy - INFO - Chain [1] start processing\n",
      "16:15:37 - cmdstanpy - INFO - Chain [1] done processing\n",
      "16:15:37 - cmdstanpy - INFO - Chain [1] start processing\n",
      "16:15:37 - cmdstanpy - INFO - Chain [1] done processing\n",
      "16:15:38 - cmdstanpy - INFO - Chain [1] start processing\n",
      "16:15:38 - cmdstanpy - INFO - Chain [1] done processing\n",
      "Seasonality has period of 365.25 days which is larger than initial window. Consider increasing initial.\n"
     ]
    },
    {
     "data": {
      "application/vnd.jupyter.widget-view+json": {
       "model_id": "8f7cba13b7b546f1ba704cf5f0e17ae0",
       "version_major": 2,
       "version_minor": 0
      },
      "text/plain": [
       "  0%|          | 0/3 [00:00<?, ?it/s]"
      ]
     },
     "metadata": {},
     "output_type": "display_data"
    },
    {
     "name": "stderr",
     "output_type": "stream",
     "text": [
      "16:15:38 - cmdstanpy - INFO - Chain [1] start processing\n",
      "16:15:38 - cmdstanpy - INFO - Chain [1] done processing\n",
      "16:15:38 - cmdstanpy - INFO - Chain [1] start processing\n",
      "16:15:38 - cmdstanpy - INFO - Chain [1] done processing\n",
      "16:15:38 - cmdstanpy - INFO - Chain [1] start processing\n",
      "16:15:38 - cmdstanpy - INFO - Chain [1] done processing\n",
      "16:15:39 - cmdstanpy - INFO - Chain [1] start processing\n",
      "16:15:39 - cmdstanpy - INFO - Chain [1] done processing\n",
      "Seasonality has period of 365.25 days which is larger than initial window. Consider increasing initial.\n"
     ]
    },
    {
     "data": {
      "application/vnd.jupyter.widget-view+json": {
       "model_id": "05140042d98c49cfa4c5da6004ce4694",
       "version_major": 2,
       "version_minor": 0
      },
      "text/plain": [
       "  0%|          | 0/3 [00:00<?, ?it/s]"
      ]
     },
     "metadata": {},
     "output_type": "display_data"
    },
    {
     "name": "stderr",
     "output_type": "stream",
     "text": [
      "16:15:39 - cmdstanpy - INFO - Chain [1] start processing\n",
      "16:15:39 - cmdstanpy - INFO - Chain [1] done processing\n",
      "16:15:39 - cmdstanpy - INFO - Chain [1] start processing\n",
      "16:15:39 - cmdstanpy - INFO - Chain [1] done processing\n",
      "16:15:40 - cmdstanpy - INFO - Chain [1] start processing\n",
      "16:15:40 - cmdstanpy - INFO - Chain [1] done processing\n",
      "16:15:40 - cmdstanpy - INFO - Chain [1] start processing\n",
      "16:15:40 - cmdstanpy - INFO - Chain [1] done processing\n",
      "Seasonality has period of 365.25 days which is larger than initial window. Consider increasing initial.\n"
     ]
    },
    {
     "data": {
      "application/vnd.jupyter.widget-view+json": {
       "model_id": "1961b64106704b9fa80e11d90018e90a",
       "version_major": 2,
       "version_minor": 0
      },
      "text/plain": [
       "  0%|          | 0/3 [00:00<?, ?it/s]"
      ]
     },
     "metadata": {},
     "output_type": "display_data"
    },
    {
     "name": "stderr",
     "output_type": "stream",
     "text": [
      "16:15:40 - cmdstanpy - INFO - Chain [1] start processing\n",
      "16:15:40 - cmdstanpy - INFO - Chain [1] done processing\n",
      "16:15:40 - cmdstanpy - INFO - Chain [1] start processing\n",
      "16:15:40 - cmdstanpy - INFO - Chain [1] done processing\n",
      "16:15:41 - cmdstanpy - INFO - Chain [1] start processing\n",
      "16:15:41 - cmdstanpy - INFO - Chain [1] done processing\n",
      "16:15:41 - cmdstanpy - INFO - Chain [1] start processing\n",
      "16:15:41 - cmdstanpy - INFO - Chain [1] done processing\n",
      "Seasonality has period of 365.25 days which is larger than initial window. Consider increasing initial.\n"
     ]
    },
    {
     "data": {
      "application/vnd.jupyter.widget-view+json": {
       "model_id": "a9e9b60cdda443d793610fce418f8af9",
       "version_major": 2,
       "version_minor": 0
      },
      "text/plain": [
       "  0%|          | 0/3 [00:00<?, ?it/s]"
      ]
     },
     "metadata": {},
     "output_type": "display_data"
    },
    {
     "name": "stderr",
     "output_type": "stream",
     "text": [
      "16:15:41 - cmdstanpy - INFO - Chain [1] start processing\n",
      "16:15:41 - cmdstanpy - INFO - Chain [1] done processing\n",
      "16:15:42 - cmdstanpy - INFO - Chain [1] start processing\n",
      "16:15:42 - cmdstanpy - INFO - Chain [1] done processing\n",
      "16:15:42 - cmdstanpy - INFO - Chain [1] start processing\n",
      "16:15:42 - cmdstanpy - INFO - Chain [1] done processing\n",
      "16:15:42 - cmdstanpy - INFO - Chain [1] start processing\n",
      "16:15:42 - cmdstanpy - INFO - Chain [1] done processing\n",
      "Seasonality has period of 365.25 days which is larger than initial window. Consider increasing initial.\n"
     ]
    },
    {
     "data": {
      "application/vnd.jupyter.widget-view+json": {
       "model_id": "decf78e2f0774161a2f446b753b4ae7e",
       "version_major": 2,
       "version_minor": 0
      },
      "text/plain": [
       "  0%|          | 0/3 [00:00<?, ?it/s]"
      ]
     },
     "metadata": {},
     "output_type": "display_data"
    },
    {
     "name": "stderr",
     "output_type": "stream",
     "text": [
      "16:15:43 - cmdstanpy - INFO - Chain [1] start processing\n",
      "16:15:43 - cmdstanpy - INFO - Chain [1] done processing\n",
      "16:15:43 - cmdstanpy - INFO - Chain [1] start processing\n",
      "16:15:43 - cmdstanpy - INFO - Chain [1] done processing\n",
      "16:15:43 - cmdstanpy - INFO - Chain [1] start processing\n",
      "16:15:43 - cmdstanpy - INFO - Chain [1] done processing\n",
      "16:15:44 - cmdstanpy - INFO - Chain [1] start processing\n",
      "16:15:44 - cmdstanpy - INFO - Chain [1] done processing\n",
      "Seasonality has period of 365.25 days which is larger than initial window. Consider increasing initial.\n"
     ]
    },
    {
     "data": {
      "application/vnd.jupyter.widget-view+json": {
       "model_id": "5360615d2c0b438aafb1b6b54e261b64",
       "version_major": 2,
       "version_minor": 0
      },
      "text/plain": [
       "  0%|          | 0/3 [00:00<?, ?it/s]"
      ]
     },
     "metadata": {},
     "output_type": "display_data"
    },
    {
     "name": "stderr",
     "output_type": "stream",
     "text": [
      "16:15:44 - cmdstanpy - INFO - Chain [1] start processing\n",
      "16:15:44 - cmdstanpy - INFO - Chain [1] done processing\n",
      "16:15:44 - cmdstanpy - INFO - Chain [1] start processing\n",
      "16:15:44 - cmdstanpy - INFO - Chain [1] done processing\n",
      "16:15:45 - cmdstanpy - INFO - Chain [1] start processing\n",
      "16:15:45 - cmdstanpy - INFO - Chain [1] done processing\n",
      "16:15:45 - cmdstanpy - INFO - Chain [1] start processing\n",
      "16:15:45 - cmdstanpy - INFO - Chain [1] done processing\n",
      "Seasonality has period of 365.25 days which is larger than initial window. Consider increasing initial.\n"
     ]
    },
    {
     "data": {
      "application/vnd.jupyter.widget-view+json": {
       "model_id": "09601e9eae6a4458829b2a4a3cf6a5a9",
       "version_major": 2,
       "version_minor": 0
      },
      "text/plain": [
       "  0%|          | 0/3 [00:00<?, ?it/s]"
      ]
     },
     "metadata": {},
     "output_type": "display_data"
    },
    {
     "name": "stderr",
     "output_type": "stream",
     "text": [
      "16:15:45 - cmdstanpy - INFO - Chain [1] start processing\n",
      "16:15:45 - cmdstanpy - INFO - Chain [1] done processing\n",
      "16:15:46 - cmdstanpy - INFO - Chain [1] start processing\n",
      "16:15:46 - cmdstanpy - INFO - Chain [1] done processing\n",
      "16:15:46 - cmdstanpy - INFO - Chain [1] start processing\n",
      "16:15:46 - cmdstanpy - INFO - Chain [1] done processing\n",
      "16:15:46 - cmdstanpy - INFO - Chain [1] start processing\n",
      "16:15:46 - cmdstanpy - INFO - Chain [1] done processing\n",
      "Seasonality has period of 365.25 days which is larger than initial window. Consider increasing initial.\n"
     ]
    },
    {
     "data": {
      "application/vnd.jupyter.widget-view+json": {
       "model_id": "13a7d80cd7ba4f9a92b8bb9d9811f883",
       "version_major": 2,
       "version_minor": 0
      },
      "text/plain": [
       "  0%|          | 0/3 [00:00<?, ?it/s]"
      ]
     },
     "metadata": {},
     "output_type": "display_data"
    },
    {
     "name": "stderr",
     "output_type": "stream",
     "text": [
      "16:15:46 - cmdstanpy - INFO - Chain [1] start processing\n",
      "16:15:46 - cmdstanpy - INFO - Chain [1] done processing\n",
      "16:15:47 - cmdstanpy - INFO - Chain [1] start processing\n",
      "16:15:47 - cmdstanpy - INFO - Chain [1] done processing\n",
      "16:15:47 - cmdstanpy - INFO - Chain [1] start processing\n",
      "16:15:47 - cmdstanpy - INFO - Chain [1] done processing\n",
      "16:15:47 - cmdstanpy - INFO - Chain [1] start processing\n",
      "16:15:47 - cmdstanpy - INFO - Chain [1] done processing\n",
      "Seasonality has period of 365.25 days which is larger than initial window. Consider increasing initial.\n"
     ]
    },
    {
     "data": {
      "application/vnd.jupyter.widget-view+json": {
       "model_id": "d24ebfa07c7b498e9069909fcd97b10d",
       "version_major": 2,
       "version_minor": 0
      },
      "text/plain": [
       "  0%|          | 0/3 [00:00<?, ?it/s]"
      ]
     },
     "metadata": {},
     "output_type": "display_data"
    },
    {
     "name": "stderr",
     "output_type": "stream",
     "text": [
      "16:15:48 - cmdstanpy - INFO - Chain [1] start processing\n",
      "16:15:48 - cmdstanpy - INFO - Chain [1] done processing\n",
      "16:15:48 - cmdstanpy - INFO - Chain [1] start processing\n",
      "16:15:48 - cmdstanpy - INFO - Chain [1] done processing\n",
      "16:15:48 - cmdstanpy - INFO - Chain [1] start processing\n",
      "16:15:48 - cmdstanpy - INFO - Chain [1] done processing\n",
      "16:15:49 - cmdstanpy - INFO - Chain [1] start processing\n",
      "16:15:49 - cmdstanpy - INFO - Chain [1] done processing\n",
      "Seasonality has period of 365.25 days which is larger than initial window. Consider increasing initial.\n"
     ]
    },
    {
     "data": {
      "application/vnd.jupyter.widget-view+json": {
       "model_id": "853ed84a1a64431c87aebf3ecea15528",
       "version_major": 2,
       "version_minor": 0
      },
      "text/plain": [
       "  0%|          | 0/3 [00:00<?, ?it/s]"
      ]
     },
     "metadata": {},
     "output_type": "display_data"
    },
    {
     "name": "stderr",
     "output_type": "stream",
     "text": [
      "16:15:49 - cmdstanpy - INFO - Chain [1] start processing\n",
      "16:15:49 - cmdstanpy - INFO - Chain [1] done processing\n",
      "16:15:49 - cmdstanpy - INFO - Chain [1] start processing\n",
      "16:15:49 - cmdstanpy - INFO - Chain [1] done processing\n",
      "16:15:49 - cmdstanpy - INFO - Chain [1] start processing\n",
      "16:15:49 - cmdstanpy - INFO - Chain [1] done processing\n",
      "16:15:50 - cmdstanpy - INFO - Chain [1] start processing\n",
      "16:15:50 - cmdstanpy - INFO - Chain [1] done processing\n",
      "Seasonality has period of 365.25 days which is larger than initial window. Consider increasing initial.\n"
     ]
    },
    {
     "data": {
      "application/vnd.jupyter.widget-view+json": {
       "model_id": "82f36148f4204eb2b7eb43abfaa60778",
       "version_major": 2,
       "version_minor": 0
      },
      "text/plain": [
       "  0%|          | 0/3 [00:00<?, ?it/s]"
      ]
     },
     "metadata": {},
     "output_type": "display_data"
    },
    {
     "name": "stderr",
     "output_type": "stream",
     "text": [
      "16:15:50 - cmdstanpy - INFO - Chain [1] start processing\n",
      "16:15:50 - cmdstanpy - INFO - Chain [1] done processing\n",
      "16:15:50 - cmdstanpy - INFO - Chain [1] start processing\n",
      "16:15:50 - cmdstanpy - INFO - Chain [1] done processing\n",
      "16:15:51 - cmdstanpy - INFO - Chain [1] start processing\n",
      "16:15:51 - cmdstanpy - INFO - Chain [1] done processing\n",
      "16:15:51 - cmdstanpy - INFO - Chain [1] start processing\n",
      "16:15:51 - cmdstanpy - INFO - Chain [1] done processing\n",
      "Seasonality has period of 365.25 days which is larger than initial window. Consider increasing initial.\n"
     ]
    },
    {
     "data": {
      "application/vnd.jupyter.widget-view+json": {
       "model_id": "a0fe9264ce864f84940a15427d4ffe99",
       "version_major": 2,
       "version_minor": 0
      },
      "text/plain": [
       "  0%|          | 0/3 [00:00<?, ?it/s]"
      ]
     },
     "metadata": {},
     "output_type": "display_data"
    },
    {
     "name": "stderr",
     "output_type": "stream",
     "text": [
      "16:15:51 - cmdstanpy - INFO - Chain [1] start processing\n",
      "16:15:51 - cmdstanpy - INFO - Chain [1] done processing\n",
      "16:15:52 - cmdstanpy - INFO - Chain [1] start processing\n",
      "16:15:52 - cmdstanpy - INFO - Chain [1] done processing\n",
      "16:15:52 - cmdstanpy - INFO - Chain [1] start processing\n",
      "16:15:52 - cmdstanpy - INFO - Chain [1] done processing\n",
      "16:15:52 - cmdstanpy - INFO - Chain [1] start processing\n",
      "16:15:52 - cmdstanpy - INFO - Chain [1] done processing\n",
      "Seasonality has period of 365.25 days which is larger than initial window. Consider increasing initial.\n"
     ]
    },
    {
     "data": {
      "application/vnd.jupyter.widget-view+json": {
       "model_id": "4fadd57f3da24e9c80d1bbc81f120885",
       "version_major": 2,
       "version_minor": 0
      },
      "text/plain": [
       "  0%|          | 0/3 [00:00<?, ?it/s]"
      ]
     },
     "metadata": {},
     "output_type": "display_data"
    },
    {
     "name": "stderr",
     "output_type": "stream",
     "text": [
      "16:15:52 - cmdstanpy - INFO - Chain [1] start processing\n",
      "16:15:52 - cmdstanpy - INFO - Chain [1] done processing\n",
      "16:15:53 - cmdstanpy - INFO - Chain [1] start processing\n",
      "16:15:53 - cmdstanpy - INFO - Chain [1] done processing\n",
      "16:15:53 - cmdstanpy - INFO - Chain [1] start processing\n",
      "16:15:53 - cmdstanpy - INFO - Chain [1] done processing\n",
      "16:15:53 - cmdstanpy - INFO - Chain [1] start processing\n",
      "16:15:53 - cmdstanpy - INFO - Chain [1] done processing\n",
      "Seasonality has period of 365.25 days which is larger than initial window. Consider increasing initial.\n"
     ]
    },
    {
     "data": {
      "application/vnd.jupyter.widget-view+json": {
       "model_id": "6421129aeb5549bc88ea714d64458d88",
       "version_major": 2,
       "version_minor": 0
      },
      "text/plain": [
       "  0%|          | 0/3 [00:00<?, ?it/s]"
      ]
     },
     "metadata": {},
     "output_type": "display_data"
    },
    {
     "name": "stderr",
     "output_type": "stream",
     "text": [
      "16:15:54 - cmdstanpy - INFO - Chain [1] start processing\n",
      "16:15:54 - cmdstanpy - INFO - Chain [1] done processing\n",
      "16:15:54 - cmdstanpy - INFO - Chain [1] start processing\n",
      "16:15:54 - cmdstanpy - INFO - Chain [1] done processing\n",
      "16:15:54 - cmdstanpy - INFO - Chain [1] start processing\n",
      "16:15:54 - cmdstanpy - INFO - Chain [1] done processing\n",
      "16:15:55 - cmdstanpy - INFO - Chain [1] start processing\n",
      "16:15:55 - cmdstanpy - INFO - Chain [1] done processing\n",
      "Seasonality has period of 365.25 days which is larger than initial window. Consider increasing initial.\n"
     ]
    },
    {
     "data": {
      "application/vnd.jupyter.widget-view+json": {
       "model_id": "aee479e8065143bd9487b797dbd03b51",
       "version_major": 2,
       "version_minor": 0
      },
      "text/plain": [
       "  0%|          | 0/3 [00:00<?, ?it/s]"
      ]
     },
     "metadata": {},
     "output_type": "display_data"
    },
    {
     "name": "stderr",
     "output_type": "stream",
     "text": [
      "16:15:55 - cmdstanpy - INFO - Chain [1] start processing\n",
      "16:15:55 - cmdstanpy - INFO - Chain [1] done processing\n",
      "16:15:55 - cmdstanpy - INFO - Chain [1] start processing\n",
      "16:15:55 - cmdstanpy - INFO - Chain [1] done processing\n",
      "16:15:56 - cmdstanpy - INFO - Chain [1] start processing\n",
      "16:15:56 - cmdstanpy - INFO - Chain [1] done processing\n",
      "16:15:56 - cmdstanpy - INFO - Chain [1] start processing\n",
      "16:15:56 - cmdstanpy - INFO - Chain [1] done processing\n",
      "Seasonality has period of 365.25 days which is larger than initial window. Consider increasing initial.\n"
     ]
    },
    {
     "data": {
      "application/vnd.jupyter.widget-view+json": {
       "model_id": "f9f833a3050f4204880effa8300962e2",
       "version_major": 2,
       "version_minor": 0
      },
      "text/plain": [
       "  0%|          | 0/3 [00:00<?, ?it/s]"
      ]
     },
     "metadata": {},
     "output_type": "display_data"
    },
    {
     "name": "stderr",
     "output_type": "stream",
     "text": [
      "16:15:56 - cmdstanpy - INFO - Chain [1] start processing\n",
      "16:15:56 - cmdstanpy - INFO - Chain [1] done processing\n",
      "16:15:56 - cmdstanpy - INFO - Chain [1] start processing\n",
      "16:15:56 - cmdstanpy - INFO - Chain [1] done processing\n",
      "16:15:57 - cmdstanpy - INFO - Chain [1] start processing\n",
      "16:15:57 - cmdstanpy - INFO - Chain [1] done processing\n",
      "16:15:57 - cmdstanpy - INFO - Chain [1] start processing\n",
      "16:15:57 - cmdstanpy - INFO - Chain [1] done processing\n",
      "Seasonality has period of 365.25 days which is larger than initial window. Consider increasing initial.\n"
     ]
    },
    {
     "data": {
      "application/vnd.jupyter.widget-view+json": {
       "model_id": "e5fabc95753b42de980df2119167665f",
       "version_major": 2,
       "version_minor": 0
      },
      "text/plain": [
       "  0%|          | 0/3 [00:00<?, ?it/s]"
      ]
     },
     "metadata": {},
     "output_type": "display_data"
    },
    {
     "name": "stderr",
     "output_type": "stream",
     "text": [
      "16:15:57 - cmdstanpy - INFO - Chain [1] start processing\n",
      "16:15:57 - cmdstanpy - INFO - Chain [1] done processing\n",
      "16:15:58 - cmdstanpy - INFO - Chain [1] start processing\n",
      "16:15:58 - cmdstanpy - INFO - Chain [1] done processing\n",
      "16:15:58 - cmdstanpy - INFO - Chain [1] start processing\n",
      "16:15:58 - cmdstanpy - INFO - Chain [1] done processing\n",
      "16:15:58 - cmdstanpy - INFO - Chain [1] start processing\n",
      "16:15:58 - cmdstanpy - INFO - Chain [1] done processing\n",
      "Seasonality has period of 365.25 days which is larger than initial window. Consider increasing initial.\n"
     ]
    },
    {
     "data": {
      "application/vnd.jupyter.widget-view+json": {
       "model_id": "1f52f1fcc9f7457ea01403206763fdcd",
       "version_major": 2,
       "version_minor": 0
      },
      "text/plain": [
       "  0%|          | 0/3 [00:00<?, ?it/s]"
      ]
     },
     "metadata": {},
     "output_type": "display_data"
    },
    {
     "name": "stderr",
     "output_type": "stream",
     "text": [
      "16:15:59 - cmdstanpy - INFO - Chain [1] start processing\n",
      "16:15:59 - cmdstanpy - INFO - Chain [1] done processing\n",
      "16:15:59 - cmdstanpy - INFO - Chain [1] start processing\n",
      "16:15:59 - cmdstanpy - INFO - Chain [1] done processing\n",
      "16:15:59 - cmdstanpy - INFO - Chain [1] start processing\n",
      "16:15:59 - cmdstanpy - INFO - Chain [1] done processing\n",
      "16:16:00 - cmdstanpy - INFO - Chain [1] start processing\n",
      "16:16:00 - cmdstanpy - INFO - Chain [1] done processing\n",
      "Seasonality has period of 365.25 days which is larger than initial window. Consider increasing initial.\n"
     ]
    },
    {
     "data": {
      "application/vnd.jupyter.widget-view+json": {
       "model_id": "44bd0cfc9a164da1a6c8e5e6c887c75b",
       "version_major": 2,
       "version_minor": 0
      },
      "text/plain": [
       "  0%|          | 0/3 [00:00<?, ?it/s]"
      ]
     },
     "metadata": {},
     "output_type": "display_data"
    },
    {
     "name": "stderr",
     "output_type": "stream",
     "text": [
      "16:16:00 - cmdstanpy - INFO - Chain [1] start processing\n",
      "16:16:00 - cmdstanpy - INFO - Chain [1] done processing\n",
      "16:16:00 - cmdstanpy - INFO - Chain [1] start processing\n",
      "16:16:00 - cmdstanpy - INFO - Chain [1] done processing\n",
      "16:16:01 - cmdstanpy - INFO - Chain [1] start processing\n",
      "16:16:01 - cmdstanpy - INFO - Chain [1] done processing\n",
      "16:16:01 - cmdstanpy - INFO - Chain [1] start processing\n",
      "16:16:01 - cmdstanpy - INFO - Chain [1] done processing\n",
      "Seasonality has period of 365.25 days which is larger than initial window. Consider increasing initial.\n"
     ]
    },
    {
     "data": {
      "application/vnd.jupyter.widget-view+json": {
       "model_id": "ed658062a3be4bf3abc6629b6b6aab46",
       "version_major": 2,
       "version_minor": 0
      },
      "text/plain": [
       "  0%|          | 0/3 [00:00<?, ?it/s]"
      ]
     },
     "metadata": {},
     "output_type": "display_data"
    },
    {
     "name": "stderr",
     "output_type": "stream",
     "text": [
      "16:16:01 - cmdstanpy - INFO - Chain [1] start processing\n",
      "16:16:01 - cmdstanpy - INFO - Chain [1] done processing\n",
      "16:16:02 - cmdstanpy - INFO - Chain [1] start processing\n",
      "16:16:02 - cmdstanpy - INFO - Chain [1] done processing\n",
      "16:16:02 - cmdstanpy - INFO - Chain [1] start processing\n",
      "16:16:02 - cmdstanpy - INFO - Chain [1] done processing\n",
      "16:16:02 - cmdstanpy - INFO - Chain [1] start processing\n",
      "16:16:02 - cmdstanpy - INFO - Chain [1] done processing\n",
      "Seasonality has period of 365.25 days which is larger than initial window. Consider increasing initial.\n"
     ]
    },
    {
     "data": {
      "application/vnd.jupyter.widget-view+json": {
       "model_id": "b262705674864a4db3ed99685d15a52c",
       "version_major": 2,
       "version_minor": 0
      },
      "text/plain": [
       "  0%|          | 0/3 [00:00<?, ?it/s]"
      ]
     },
     "metadata": {},
     "output_type": "display_data"
    },
    {
     "name": "stderr",
     "output_type": "stream",
     "text": [
      "16:16:02 - cmdstanpy - INFO - Chain [1] start processing\n",
      "16:16:03 - cmdstanpy - INFO - Chain [1] done processing\n",
      "16:16:03 - cmdstanpy - INFO - Chain [1] start processing\n",
      "16:16:03 - cmdstanpy - INFO - Chain [1] done processing\n",
      "16:16:03 - cmdstanpy - INFO - Chain [1] start processing\n",
      "16:16:03 - cmdstanpy - INFO - Chain [1] done processing\n",
      "16:16:03 - cmdstanpy - INFO - Chain [1] start processing\n",
      "16:16:04 - cmdstanpy - INFO - Chain [1] done processing\n",
      "Seasonality has period of 365.25 days which is larger than initial window. Consider increasing initial.\n"
     ]
    },
    {
     "data": {
      "application/vnd.jupyter.widget-view+json": {
       "model_id": "6c3b4304f69b4565962b555f16457498",
       "version_major": 2,
       "version_minor": 0
      },
      "text/plain": [
       "  0%|          | 0/3 [00:00<?, ?it/s]"
      ]
     },
     "metadata": {},
     "output_type": "display_data"
    },
    {
     "name": "stderr",
     "output_type": "stream",
     "text": [
      "16:16:04 - cmdstanpy - INFO - Chain [1] start processing\n",
      "16:16:04 - cmdstanpy - INFO - Chain [1] done processing\n",
      "16:16:04 - cmdstanpy - INFO - Chain [1] start processing\n",
      "16:16:04 - cmdstanpy - INFO - Chain [1] done processing\n",
      "16:16:04 - cmdstanpy - INFO - Chain [1] start processing\n",
      "16:16:04 - cmdstanpy - INFO - Chain [1] done processing\n",
      "16:16:05 - cmdstanpy - INFO - Chain [1] start processing\n",
      "16:16:05 - cmdstanpy - INFO - Chain [1] done processing\n",
      "Seasonality has period of 365.25 days which is larger than initial window. Consider increasing initial.\n"
     ]
    },
    {
     "data": {
      "application/vnd.jupyter.widget-view+json": {
       "model_id": "951b8096f4684942be4f5f165b63654d",
       "version_major": 2,
       "version_minor": 0
      },
      "text/plain": [
       "  0%|          | 0/3 [00:00<?, ?it/s]"
      ]
     },
     "metadata": {},
     "output_type": "display_data"
    },
    {
     "name": "stderr",
     "output_type": "stream",
     "text": [
      "16:16:05 - cmdstanpy - INFO - Chain [1] start processing\n",
      "16:16:05 - cmdstanpy - INFO - Chain [1] done processing\n",
      "16:16:05 - cmdstanpy - INFO - Chain [1] start processing\n",
      "16:16:05 - cmdstanpy - INFO - Chain [1] done processing\n",
      "16:16:06 - cmdstanpy - INFO - Chain [1] start processing\n",
      "16:16:06 - cmdstanpy - INFO - Chain [1] done processing\n",
      "16:16:06 - cmdstanpy - INFO - Chain [1] start processing\n",
      "16:16:06 - cmdstanpy - INFO - Chain [1] done processing\n",
      "Seasonality has period of 365.25 days which is larger than initial window. Consider increasing initial.\n"
     ]
    },
    {
     "data": {
      "application/vnd.jupyter.widget-view+json": {
       "model_id": "23347ad7265643fe99b468f292b082a4",
       "version_major": 2,
       "version_minor": 0
      },
      "text/plain": [
       "  0%|          | 0/3 [00:00<?, ?it/s]"
      ]
     },
     "metadata": {},
     "output_type": "display_data"
    },
    {
     "name": "stderr",
     "output_type": "stream",
     "text": [
      "16:16:06 - cmdstanpy - INFO - Chain [1] start processing\n",
      "16:16:06 - cmdstanpy - INFO - Chain [1] done processing\n",
      "16:16:07 - cmdstanpy - INFO - Chain [1] start processing\n",
      "16:16:07 - cmdstanpy - INFO - Chain [1] done processing\n",
      "16:16:07 - cmdstanpy - INFO - Chain [1] start processing\n",
      "16:16:07 - cmdstanpy - INFO - Chain [1] done processing\n",
      "16:16:07 - cmdstanpy - INFO - Chain [1] start processing\n",
      "16:16:07 - cmdstanpy - INFO - Chain [1] done processing\n",
      "Seasonality has period of 365.25 days which is larger than initial window. Consider increasing initial.\n"
     ]
    },
    {
     "data": {
      "application/vnd.jupyter.widget-view+json": {
       "model_id": "9ea26141736245d3a85dae2f9a230a29",
       "version_major": 2,
       "version_minor": 0
      },
      "text/plain": [
       "  0%|          | 0/3 [00:00<?, ?it/s]"
      ]
     },
     "metadata": {},
     "output_type": "display_data"
    },
    {
     "name": "stderr",
     "output_type": "stream",
     "text": [
      "16:16:07 - cmdstanpy - INFO - Chain [1] start processing\n",
      "16:16:07 - cmdstanpy - INFO - Chain [1] done processing\n",
      "16:16:08 - cmdstanpy - INFO - Chain [1] start processing\n",
      "16:16:08 - cmdstanpy - INFO - Chain [1] done processing\n",
      "16:16:08 - cmdstanpy - INFO - Chain [1] start processing\n",
      "16:16:08 - cmdstanpy - INFO - Chain [1] done processing\n",
      "16:16:08 - cmdstanpy - INFO - Chain [1] start processing\n",
      "16:16:09 - cmdstanpy - INFO - Chain [1] done processing\n",
      "Seasonality has period of 365.25 days which is larger than initial window. Consider increasing initial.\n"
     ]
    },
    {
     "data": {
      "application/vnd.jupyter.widget-view+json": {
       "model_id": "294c42b3341e47ce977b5befdc8fc956",
       "version_major": 2,
       "version_minor": 0
      },
      "text/plain": [
       "  0%|          | 0/3 [00:00<?, ?it/s]"
      ]
     },
     "metadata": {},
     "output_type": "display_data"
    },
    {
     "name": "stderr",
     "output_type": "stream",
     "text": [
      "16:16:09 - cmdstanpy - INFO - Chain [1] start processing\n",
      "16:16:09 - cmdstanpy - INFO - Chain [1] done processing\n",
      "16:16:09 - cmdstanpy - INFO - Chain [1] start processing\n",
      "16:16:09 - cmdstanpy - INFO - Chain [1] done processing\n",
      "16:16:09 - cmdstanpy - INFO - Chain [1] start processing\n",
      "16:16:09 - cmdstanpy - INFO - Chain [1] done processing\n",
      "16:16:10 - cmdstanpy - INFO - Chain [1] start processing\n",
      "16:16:10 - cmdstanpy - INFO - Chain [1] done processing\n",
      "Seasonality has period of 365.25 days which is larger than initial window. Consider increasing initial.\n"
     ]
    },
    {
     "data": {
      "application/vnd.jupyter.widget-view+json": {
       "model_id": "ea44436d7d8c48fe8d90ea1fa0bf62c8",
       "version_major": 2,
       "version_minor": 0
      },
      "text/plain": [
       "  0%|          | 0/3 [00:00<?, ?it/s]"
      ]
     },
     "metadata": {},
     "output_type": "display_data"
    },
    {
     "name": "stderr",
     "output_type": "stream",
     "text": [
      "16:16:10 - cmdstanpy - INFO - Chain [1] start processing\n",
      "16:16:10 - cmdstanpy - INFO - Chain [1] done processing\n",
      "16:16:10 - cmdstanpy - INFO - Chain [1] start processing\n",
      "16:16:10 - cmdstanpy - INFO - Chain [1] done processing\n",
      "16:16:10 - cmdstanpy - INFO - Chain [1] start processing\n",
      "16:16:11 - cmdstanpy - INFO - Chain [1] done processing\n",
      "16:16:11 - cmdstanpy - INFO - Chain [1] start processing\n",
      "16:16:11 - cmdstanpy - INFO - Chain [1] done processing\n",
      "Seasonality has period of 365.25 days which is larger than initial window. Consider increasing initial.\n"
     ]
    },
    {
     "data": {
      "application/vnd.jupyter.widget-view+json": {
       "model_id": "2ce9dd7673e24db790cce2ab9b6557b4",
       "version_major": 2,
       "version_minor": 0
      },
      "text/plain": [
       "  0%|          | 0/3 [00:00<?, ?it/s]"
      ]
     },
     "metadata": {},
     "output_type": "display_data"
    },
    {
     "name": "stderr",
     "output_type": "stream",
     "text": [
      "16:16:11 - cmdstanpy - INFO - Chain [1] start processing\n",
      "16:16:11 - cmdstanpy - INFO - Chain [1] done processing\n",
      "16:16:11 - cmdstanpy - INFO - Chain [1] start processing\n",
      "16:16:11 - cmdstanpy - INFO - Chain [1] done processing\n",
      "16:16:12 - cmdstanpy - INFO - Chain [1] start processing\n",
      "16:16:12 - cmdstanpy - INFO - Chain [1] done processing\n",
      "16:16:12 - cmdstanpy - INFO - Chain [1] start processing\n",
      "16:16:12 - cmdstanpy - INFO - Chain [1] done processing\n",
      "Seasonality has period of 365.25 days which is larger than initial window. Consider increasing initial.\n"
     ]
    },
    {
     "data": {
      "application/vnd.jupyter.widget-view+json": {
       "model_id": "e3e340a56a204347adee4a5e4ff0a9bd",
       "version_major": 2,
       "version_minor": 0
      },
      "text/plain": [
       "  0%|          | 0/3 [00:00<?, ?it/s]"
      ]
     },
     "metadata": {},
     "output_type": "display_data"
    },
    {
     "name": "stderr",
     "output_type": "stream",
     "text": [
      "16:16:12 - cmdstanpy - INFO - Chain [1] start processing\n",
      "16:16:12 - cmdstanpy - INFO - Chain [1] done processing\n",
      "16:16:13 - cmdstanpy - INFO - Chain [1] start processing\n",
      "16:16:13 - cmdstanpy - INFO - Chain [1] done processing\n",
      "16:16:13 - cmdstanpy - INFO - Chain [1] start processing\n",
      "16:16:13 - cmdstanpy - INFO - Chain [1] done processing\n",
      "16:16:13 - cmdstanpy - INFO - Chain [1] start processing\n",
      "16:16:13 - cmdstanpy - INFO - Chain [1] done processing\n",
      "Seasonality has period of 365.25 days which is larger than initial window. Consider increasing initial.\n"
     ]
    },
    {
     "data": {
      "application/vnd.jupyter.widget-view+json": {
       "model_id": "70f831032625437fad2df4beab5c9968",
       "version_major": 2,
       "version_minor": 0
      },
      "text/plain": [
       "  0%|          | 0/3 [00:00<?, ?it/s]"
      ]
     },
     "metadata": {},
     "output_type": "display_data"
    },
    {
     "name": "stderr",
     "output_type": "stream",
     "text": [
      "16:16:14 - cmdstanpy - INFO - Chain [1] start processing\n",
      "16:16:14 - cmdstanpy - INFO - Chain [1] done processing\n",
      "16:16:14 - cmdstanpy - INFO - Chain [1] start processing\n",
      "16:16:14 - cmdstanpy - INFO - Chain [1] done processing\n",
      "16:16:14 - cmdstanpy - INFO - Chain [1] start processing\n",
      "16:16:14 - cmdstanpy - INFO - Chain [1] done processing\n",
      "16:16:15 - cmdstanpy - INFO - Chain [1] start processing\n",
      "16:16:15 - cmdstanpy - INFO - Chain [1] done processing\n",
      "Seasonality has period of 365.25 days which is larger than initial window. Consider increasing initial.\n"
     ]
    },
    {
     "data": {
      "application/vnd.jupyter.widget-view+json": {
       "model_id": "9b5e6fe1b856483d84b6d3e003dfb052",
       "version_major": 2,
       "version_minor": 0
      },
      "text/plain": [
       "  0%|          | 0/3 [00:00<?, ?it/s]"
      ]
     },
     "metadata": {},
     "output_type": "display_data"
    },
    {
     "name": "stderr",
     "output_type": "stream",
     "text": [
      "16:16:15 - cmdstanpy - INFO - Chain [1] start processing\n",
      "16:16:15 - cmdstanpy - INFO - Chain [1] done processing\n",
      "16:16:15 - cmdstanpy - INFO - Chain [1] start processing\n",
      "16:16:15 - cmdstanpy - INFO - Chain [1] done processing\n",
      "16:16:16 - cmdstanpy - INFO - Chain [1] start processing\n",
      "16:16:16 - cmdstanpy - INFO - Chain [1] done processing\n",
      "16:16:16 - cmdstanpy - INFO - Chain [1] start processing\n",
      "16:16:16 - cmdstanpy - INFO - Chain [1] done processing\n",
      "Seasonality has period of 365.25 days which is larger than initial window. Consider increasing initial.\n"
     ]
    },
    {
     "data": {
      "application/vnd.jupyter.widget-view+json": {
       "model_id": "2f89cc0f96f2419fac88b7ee0a59da82",
       "version_major": 2,
       "version_minor": 0
      },
      "text/plain": [
       "  0%|          | 0/3 [00:00<?, ?it/s]"
      ]
     },
     "metadata": {},
     "output_type": "display_data"
    },
    {
     "name": "stderr",
     "output_type": "stream",
     "text": [
      "16:16:16 - cmdstanpy - INFO - Chain [1] start processing\n",
      "16:16:16 - cmdstanpy - INFO - Chain [1] done processing\n",
      "16:16:17 - cmdstanpy - INFO - Chain [1] start processing\n",
      "16:16:17 - cmdstanpy - INFO - Chain [1] done processing\n",
      "16:16:17 - cmdstanpy - INFO - Chain [1] start processing\n",
      "16:16:17 - cmdstanpy - INFO - Chain [1] done processing\n",
      "16:16:17 - cmdstanpy - INFO - Chain [1] start processing\n",
      "16:16:17 - cmdstanpy - INFO - Chain [1] done processing\n",
      "Seasonality has period of 365.25 days which is larger than initial window. Consider increasing initial.\n"
     ]
    },
    {
     "data": {
      "application/vnd.jupyter.widget-view+json": {
       "model_id": "d9a7afea589a4b63b5c3842fc780c60d",
       "version_major": 2,
       "version_minor": 0
      },
      "text/plain": [
       "  0%|          | 0/3 [00:00<?, ?it/s]"
      ]
     },
     "metadata": {},
     "output_type": "display_data"
    },
    {
     "name": "stderr",
     "output_type": "stream",
     "text": [
      "16:16:17 - cmdstanpy - INFO - Chain [1] start processing\n",
      "16:16:17 - cmdstanpy - INFO - Chain [1] done processing\n",
      "16:16:18 - cmdstanpy - INFO - Chain [1] start processing\n",
      "16:16:18 - cmdstanpy - INFO - Chain [1] done processing\n",
      "16:16:18 - cmdstanpy - INFO - Chain [1] start processing\n",
      "16:16:18 - cmdstanpy - INFO - Chain [1] done processing\n",
      "16:16:19 - cmdstanpy - INFO - Chain [1] start processing\n",
      "16:16:19 - cmdstanpy - INFO - Chain [1] done processing\n",
      "Seasonality has period of 365.25 days which is larger than initial window. Consider increasing initial.\n"
     ]
    },
    {
     "data": {
      "application/vnd.jupyter.widget-view+json": {
       "model_id": "fe75d9743a094d13b13f0711af606f87",
       "version_major": 2,
       "version_minor": 0
      },
      "text/plain": [
       "  0%|          | 0/3 [00:00<?, ?it/s]"
      ]
     },
     "metadata": {},
     "output_type": "display_data"
    },
    {
     "name": "stderr",
     "output_type": "stream",
     "text": [
      "16:16:19 - cmdstanpy - INFO - Chain [1] start processing\n",
      "16:16:19 - cmdstanpy - INFO - Chain [1] done processing\n",
      "16:16:19 - cmdstanpy - INFO - Chain [1] start processing\n",
      "16:16:19 - cmdstanpy - INFO - Chain [1] done processing\n",
      "16:16:19 - cmdstanpy - INFO - Chain [1] start processing\n",
      "16:16:19 - cmdstanpy - INFO - Chain [1] done processing\n",
      "16:16:20 - cmdstanpy - INFO - Chain [1] start processing\n",
      "16:16:20 - cmdstanpy - INFO - Chain [1] done processing\n",
      "Seasonality has period of 365.25 days which is larger than initial window. Consider increasing initial.\n"
     ]
    },
    {
     "data": {
      "application/vnd.jupyter.widget-view+json": {
       "model_id": "acf3f3b153da4e0890981a4513b7e2f8",
       "version_major": 2,
       "version_minor": 0
      },
      "text/plain": [
       "  0%|          | 0/3 [00:00<?, ?it/s]"
      ]
     },
     "metadata": {},
     "output_type": "display_data"
    },
    {
     "name": "stderr",
     "output_type": "stream",
     "text": [
      "16:16:20 - cmdstanpy - INFO - Chain [1] start processing\n",
      "16:16:20 - cmdstanpy - INFO - Chain [1] done processing\n",
      "16:16:20 - cmdstanpy - INFO - Chain [1] start processing\n",
      "16:16:20 - cmdstanpy - INFO - Chain [1] done processing\n",
      "16:16:21 - cmdstanpy - INFO - Chain [1] start processing\n",
      "16:16:21 - cmdstanpy - INFO - Chain [1] done processing\n",
      "16:16:21 - cmdstanpy - INFO - Chain [1] start processing\n",
      "16:16:21 - cmdstanpy - INFO - Chain [1] done processing\n",
      "Seasonality has period of 365.25 days which is larger than initial window. Consider increasing initial.\n"
     ]
    },
    {
     "data": {
      "application/vnd.jupyter.widget-view+json": {
       "model_id": "e45e5c796eea4d319fe74142d8ce4747",
       "version_major": 2,
       "version_minor": 0
      },
      "text/plain": [
       "  0%|          | 0/3 [00:00<?, ?it/s]"
      ]
     },
     "metadata": {},
     "output_type": "display_data"
    },
    {
     "name": "stderr",
     "output_type": "stream",
     "text": [
      "16:16:21 - cmdstanpy - INFO - Chain [1] start processing\n",
      "16:16:21 - cmdstanpy - INFO - Chain [1] done processing\n",
      "16:16:21 - cmdstanpy - INFO - Chain [1] start processing\n",
      "16:16:22 - cmdstanpy - INFO - Chain [1] done processing\n",
      "16:16:22 - cmdstanpy - INFO - Chain [1] start processing\n",
      "16:16:22 - cmdstanpy - INFO - Chain [1] done processing\n",
      "16:16:22 - cmdstanpy - INFO - Chain [1] start processing\n",
      "16:16:22 - cmdstanpy - INFO - Chain [1] done processing\n",
      "Seasonality has period of 365.25 days which is larger than initial window. Consider increasing initial.\n"
     ]
    },
    {
     "data": {
      "application/vnd.jupyter.widget-view+json": {
       "model_id": "bec8348a4bb0461eaa62a607e5bf1882",
       "version_major": 2,
       "version_minor": 0
      },
      "text/plain": [
       "  0%|          | 0/3 [00:00<?, ?it/s]"
      ]
     },
     "metadata": {},
     "output_type": "display_data"
    },
    {
     "name": "stderr",
     "output_type": "stream",
     "text": [
      "16:16:22 - cmdstanpy - INFO - Chain [1] start processing\n",
      "16:16:22 - cmdstanpy - INFO - Chain [1] done processing\n",
      "16:16:23 - cmdstanpy - INFO - Chain [1] start processing\n",
      "16:16:23 - cmdstanpy - INFO - Chain [1] done processing\n",
      "16:16:23 - cmdstanpy - INFO - Chain [1] start processing\n",
      "16:16:23 - cmdstanpy - INFO - Chain [1] done processing\n",
      "16:16:23 - cmdstanpy - INFO - Chain [1] start processing\n",
      "16:16:23 - cmdstanpy - INFO - Chain [1] done processing\n",
      "Seasonality has period of 365.25 days which is larger than initial window. Consider increasing initial.\n"
     ]
    },
    {
     "data": {
      "application/vnd.jupyter.widget-view+json": {
       "model_id": "83ae37e817b646e5b4069614393d4889",
       "version_major": 2,
       "version_minor": 0
      },
      "text/plain": [
       "  0%|          | 0/3 [00:00<?, ?it/s]"
      ]
     },
     "metadata": {},
     "output_type": "display_data"
    },
    {
     "name": "stderr",
     "output_type": "stream",
     "text": [
      "16:16:24 - cmdstanpy - INFO - Chain [1] start processing\n",
      "16:16:24 - cmdstanpy - INFO - Chain [1] done processing\n",
      "16:16:24 - cmdstanpy - INFO - Chain [1] start processing\n",
      "16:16:24 - cmdstanpy - INFO - Chain [1] done processing\n",
      "16:16:24 - cmdstanpy - INFO - Chain [1] start processing\n",
      "16:16:24 - cmdstanpy - INFO - Chain [1] done processing\n",
      "16:16:25 - cmdstanpy - INFO - Chain [1] start processing\n",
      "16:16:25 - cmdstanpy - INFO - Chain [1] done processing\n",
      "Seasonality has period of 365.25 days which is larger than initial window. Consider increasing initial.\n"
     ]
    },
    {
     "data": {
      "application/vnd.jupyter.widget-view+json": {
       "model_id": "355da69d3f1145728afbe00dd8388f2a",
       "version_major": 2,
       "version_minor": 0
      },
      "text/plain": [
       "  0%|          | 0/3 [00:00<?, ?it/s]"
      ]
     },
     "metadata": {},
     "output_type": "display_data"
    },
    {
     "name": "stderr",
     "output_type": "stream",
     "text": [
      "16:16:25 - cmdstanpy - INFO - Chain [1] start processing\n",
      "16:16:25 - cmdstanpy - INFO - Chain [1] done processing\n",
      "16:16:25 - cmdstanpy - INFO - Chain [1] start processing\n",
      "16:16:25 - cmdstanpy - INFO - Chain [1] done processing\n",
      "16:16:25 - cmdstanpy - INFO - Chain [1] start processing\n",
      "16:16:25 - cmdstanpy - INFO - Chain [1] done processing\n",
      "16:16:26 - cmdstanpy - INFO - Chain [1] start processing\n",
      "16:16:26 - cmdstanpy - INFO - Chain [1] done processing\n",
      "Seasonality has period of 365.25 days which is larger than initial window. Consider increasing initial.\n"
     ]
    },
    {
     "data": {
      "application/vnd.jupyter.widget-view+json": {
       "model_id": "9073539de2854689a86fcc700fc1bd79",
       "version_major": 2,
       "version_minor": 0
      },
      "text/plain": [
       "  0%|          | 0/3 [00:00<?, ?it/s]"
      ]
     },
     "metadata": {},
     "output_type": "display_data"
    },
    {
     "name": "stderr",
     "output_type": "stream",
     "text": [
      "16:16:26 - cmdstanpy - INFO - Chain [1] start processing\n",
      "16:16:26 - cmdstanpy - INFO - Chain [1] done processing\n",
      "16:16:26 - cmdstanpy - INFO - Chain [1] start processing\n",
      "16:16:26 - cmdstanpy - INFO - Chain [1] done processing\n",
      "16:16:27 - cmdstanpy - INFO - Chain [1] start processing\n",
      "16:16:27 - cmdstanpy - INFO - Chain [1] done processing\n",
      "16:16:27 - cmdstanpy - INFO - Chain [1] start processing\n",
      "16:16:27 - cmdstanpy - INFO - Chain [1] done processing\n",
      "Seasonality has period of 365.25 days which is larger than initial window. Consider increasing initial.\n"
     ]
    },
    {
     "data": {
      "application/vnd.jupyter.widget-view+json": {
       "model_id": "9f3874fe37f841eaa1df5fba8c6e1a88",
       "version_major": 2,
       "version_minor": 0
      },
      "text/plain": [
       "  0%|          | 0/3 [00:00<?, ?it/s]"
      ]
     },
     "metadata": {},
     "output_type": "display_data"
    },
    {
     "name": "stderr",
     "output_type": "stream",
     "text": [
      "16:16:27 - cmdstanpy - INFO - Chain [1] start processing\n",
      "16:16:27 - cmdstanpy - INFO - Chain [1] done processing\n",
      "16:16:28 - cmdstanpy - INFO - Chain [1] start processing\n",
      "16:16:28 - cmdstanpy - INFO - Chain [1] done processing\n",
      "16:16:28 - cmdstanpy - INFO - Chain [1] start processing\n",
      "16:16:28 - cmdstanpy - INFO - Chain [1] done processing\n",
      "16:16:28 - cmdstanpy - INFO - Chain [1] start processing\n",
      "16:16:28 - cmdstanpy - INFO - Chain [1] done processing\n",
      "Seasonality has period of 365.25 days which is larger than initial window. Consider increasing initial.\n"
     ]
    },
    {
     "data": {
      "application/vnd.jupyter.widget-view+json": {
       "model_id": "ea1d06e8c56e4ce49d796e146947979b",
       "version_major": 2,
       "version_minor": 0
      },
      "text/plain": [
       "  0%|          | 0/3 [00:00<?, ?it/s]"
      ]
     },
     "metadata": {},
     "output_type": "display_data"
    },
    {
     "name": "stderr",
     "output_type": "stream",
     "text": [
      "16:16:29 - cmdstanpy - INFO - Chain [1] start processing\n",
      "16:16:29 - cmdstanpy - INFO - Chain [1] done processing\n",
      "16:16:29 - cmdstanpy - INFO - Chain [1] start processing\n",
      "16:16:29 - cmdstanpy - INFO - Chain [1] done processing\n",
      "16:16:29 - cmdstanpy - INFO - Chain [1] start processing\n",
      "16:16:30 - cmdstanpy - INFO - Chain [1] done processing\n",
      "16:16:30 - cmdstanpy - INFO - Chain [1] start processing\n",
      "16:16:30 - cmdstanpy - INFO - Chain [1] done processing\n",
      "Seasonality has period of 365.25 days which is larger than initial window. Consider increasing initial.\n"
     ]
    },
    {
     "data": {
      "application/vnd.jupyter.widget-view+json": {
       "model_id": "6b2d298cdb6c4fd2a6fedc36f82e1740",
       "version_major": 2,
       "version_minor": 0
      },
      "text/plain": [
       "  0%|          | 0/3 [00:00<?, ?it/s]"
      ]
     },
     "metadata": {},
     "output_type": "display_data"
    },
    {
     "name": "stderr",
     "output_type": "stream",
     "text": [
      "16:16:30 - cmdstanpy - INFO - Chain [1] start processing\n",
      "16:16:30 - cmdstanpy - INFO - Chain [1] done processing\n",
      "16:16:31 - cmdstanpy - INFO - Chain [1] start processing\n",
      "16:16:31 - cmdstanpy - INFO - Chain [1] done processing\n",
      "16:16:31 - cmdstanpy - INFO - Chain [1] start processing\n",
      "16:16:31 - cmdstanpy - INFO - Chain [1] done processing\n",
      "16:16:31 - cmdstanpy - INFO - Chain [1] start processing\n",
      "16:16:31 - cmdstanpy - INFO - Chain [1] done processing\n",
      "Seasonality has period of 365.25 days which is larger than initial window. Consider increasing initial.\n"
     ]
    },
    {
     "data": {
      "application/vnd.jupyter.widget-view+json": {
       "model_id": "8a1e0bb0886942a09abbd5755b11e0d8",
       "version_major": 2,
       "version_minor": 0
      },
      "text/plain": [
       "  0%|          | 0/3 [00:00<?, ?it/s]"
      ]
     },
     "metadata": {},
     "output_type": "display_data"
    },
    {
     "name": "stderr",
     "output_type": "stream",
     "text": [
      "16:16:32 - cmdstanpy - INFO - Chain [1] start processing\n",
      "16:16:32 - cmdstanpy - INFO - Chain [1] done processing\n",
      "16:16:32 - cmdstanpy - INFO - Chain [1] start processing\n",
      "16:16:32 - cmdstanpy - INFO - Chain [1] done processing\n",
      "16:16:32 - cmdstanpy - INFO - Chain [1] start processing\n",
      "16:16:32 - cmdstanpy - INFO - Chain [1] done processing\n",
      "16:16:33 - cmdstanpy - INFO - Chain [1] start processing\n",
      "16:16:33 - cmdstanpy - INFO - Chain [1] done processing\n",
      "Seasonality has period of 365.25 days which is larger than initial window. Consider increasing initial.\n"
     ]
    },
    {
     "data": {
      "application/vnd.jupyter.widget-view+json": {
       "model_id": "03fc8fa8ee8f4688aa064c24b8ccbda7",
       "version_major": 2,
       "version_minor": 0
      },
      "text/plain": [
       "  0%|          | 0/3 [00:00<?, ?it/s]"
      ]
     },
     "metadata": {},
     "output_type": "display_data"
    },
    {
     "name": "stderr",
     "output_type": "stream",
     "text": [
      "16:16:33 - cmdstanpy - INFO - Chain [1] start processing\n",
      "16:16:33 - cmdstanpy - INFO - Chain [1] done processing\n",
      "16:16:33 - cmdstanpy - INFO - Chain [1] start processing\n",
      "16:16:33 - cmdstanpy - INFO - Chain [1] done processing\n",
      "16:16:33 - cmdstanpy - INFO - Chain [1] start processing\n",
      "16:16:34 - cmdstanpy - INFO - Chain [1] done processing\n",
      "16:16:34 - cmdstanpy - INFO - Chain [1] start processing\n",
      "16:16:34 - cmdstanpy - INFO - Chain [1] done processing\n",
      "Seasonality has period of 365.25 days which is larger than initial window. Consider increasing initial.\n"
     ]
    },
    {
     "data": {
      "application/vnd.jupyter.widget-view+json": {
       "model_id": "3c3a3433e614441f826222c93fb8db2e",
       "version_major": 2,
       "version_minor": 0
      },
      "text/plain": [
       "  0%|          | 0/3 [00:00<?, ?it/s]"
      ]
     },
     "metadata": {},
     "output_type": "display_data"
    },
    {
     "name": "stderr",
     "output_type": "stream",
     "text": [
      "16:16:34 - cmdstanpy - INFO - Chain [1] start processing\n",
      "16:16:34 - cmdstanpy - INFO - Chain [1] done processing\n",
      "16:16:35 - cmdstanpy - INFO - Chain [1] start processing\n",
      "16:16:35 - cmdstanpy - INFO - Chain [1] done processing\n",
      "16:16:35 - cmdstanpy - INFO - Chain [1] start processing\n",
      "16:16:35 - cmdstanpy - INFO - Chain [1] done processing\n",
      "16:16:35 - cmdstanpy - INFO - Chain [1] start processing\n",
      "16:16:36 - cmdstanpy - INFO - Chain [1] done processing\n",
      "Seasonality has period of 365.25 days which is larger than initial window. Consider increasing initial.\n"
     ]
    },
    {
     "data": {
      "application/vnd.jupyter.widget-view+json": {
       "model_id": "bbd590192114425d816a0cf132554ba9",
       "version_major": 2,
       "version_minor": 0
      },
      "text/plain": [
       "  0%|          | 0/3 [00:00<?, ?it/s]"
      ]
     },
     "metadata": {},
     "output_type": "display_data"
    },
    {
     "name": "stderr",
     "output_type": "stream",
     "text": [
      "16:16:36 - cmdstanpy - INFO - Chain [1] start processing\n",
      "16:16:36 - cmdstanpy - INFO - Chain [1] done processing\n",
      "16:16:36 - cmdstanpy - INFO - Chain [1] start processing\n",
      "16:16:36 - cmdstanpy - INFO - Chain [1] done processing\n",
      "16:16:36 - cmdstanpy - INFO - Chain [1] start processing\n",
      "16:16:36 - cmdstanpy - INFO - Chain [1] done processing\n",
      "16:16:37 - cmdstanpy - INFO - Chain [1] start processing\n",
      "16:16:37 - cmdstanpy - INFO - Chain [1] done processing\n",
      "Seasonality has period of 365.25 days which is larger than initial window. Consider increasing initial.\n"
     ]
    },
    {
     "data": {
      "application/vnd.jupyter.widget-view+json": {
       "model_id": "2362099f77324d35bd0f6b635b4c61c4",
       "version_major": 2,
       "version_minor": 0
      },
      "text/plain": [
       "  0%|          | 0/3 [00:00<?, ?it/s]"
      ]
     },
     "metadata": {},
     "output_type": "display_data"
    },
    {
     "name": "stderr",
     "output_type": "stream",
     "text": [
      "16:16:37 - cmdstanpy - INFO - Chain [1] start processing\n",
      "16:16:37 - cmdstanpy - INFO - Chain [1] done processing\n",
      "16:16:37 - cmdstanpy - INFO - Chain [1] start processing\n",
      "16:16:37 - cmdstanpy - INFO - Chain [1] done processing\n",
      "16:16:38 - cmdstanpy - INFO - Chain [1] start processing\n",
      "16:16:38 - cmdstanpy - INFO - Chain [1] done processing\n",
      "16:16:38 - cmdstanpy - INFO - Chain [1] start processing\n",
      "16:16:38 - cmdstanpy - INFO - Chain [1] done processing\n",
      "Seasonality has period of 365.25 days which is larger than initial window. Consider increasing initial.\n"
     ]
    },
    {
     "data": {
      "application/vnd.jupyter.widget-view+json": {
       "model_id": "3e90100b501f4899af05c3244af84d64",
       "version_major": 2,
       "version_minor": 0
      },
      "text/plain": [
       "  0%|          | 0/3 [00:00<?, ?it/s]"
      ]
     },
     "metadata": {},
     "output_type": "display_data"
    },
    {
     "name": "stderr",
     "output_type": "stream",
     "text": [
      "16:16:38 - cmdstanpy - INFO - Chain [1] start processing\n",
      "16:16:39 - cmdstanpy - INFO - Chain [1] done processing\n",
      "16:16:39 - cmdstanpy - INFO - Chain [1] start processing\n",
      "16:16:39 - cmdstanpy - INFO - Chain [1] done processing\n",
      "16:16:39 - cmdstanpy - INFO - Chain [1] start processing\n",
      "16:16:39 - cmdstanpy - INFO - Chain [1] done processing\n",
      "16:16:40 - cmdstanpy - INFO - Chain [1] start processing\n",
      "16:16:40 - cmdstanpy - INFO - Chain [1] done processing\n",
      "Seasonality has period of 365.25 days which is larger than initial window. Consider increasing initial.\n"
     ]
    },
    {
     "data": {
      "application/vnd.jupyter.widget-view+json": {
       "model_id": "0d48b335a011440f8ad1f74422cf58e5",
       "version_major": 2,
       "version_minor": 0
      },
      "text/plain": [
       "  0%|          | 0/3 [00:00<?, ?it/s]"
      ]
     },
     "metadata": {},
     "output_type": "display_data"
    },
    {
     "name": "stderr",
     "output_type": "stream",
     "text": [
      "16:16:40 - cmdstanpy - INFO - Chain [1] start processing\n",
      "16:16:40 - cmdstanpy - INFO - Chain [1] done processing\n",
      "16:16:40 - cmdstanpy - INFO - Chain [1] start processing\n",
      "16:16:40 - cmdstanpy - INFO - Chain [1] done processing\n",
      "16:16:40 - cmdstanpy - INFO - Chain [1] start processing\n",
      "16:16:40 - cmdstanpy - INFO - Chain [1] done processing\n",
      "16:16:41 - cmdstanpy - INFO - Chain [1] start processing\n",
      "16:16:41 - cmdstanpy - INFO - Chain [1] done processing\n",
      "Seasonality has period of 365.25 days which is larger than initial window. Consider increasing initial.\n"
     ]
    },
    {
     "data": {
      "application/vnd.jupyter.widget-view+json": {
       "model_id": "78b14fc313304aab87f0ae0d17d81ebf",
       "version_major": 2,
       "version_minor": 0
      },
      "text/plain": [
       "  0%|          | 0/3 [00:00<?, ?it/s]"
      ]
     },
     "metadata": {},
     "output_type": "display_data"
    },
    {
     "name": "stderr",
     "output_type": "stream",
     "text": [
      "16:16:41 - cmdstanpy - INFO - Chain [1] start processing\n",
      "16:16:41 - cmdstanpy - INFO - Chain [1] done processing\n",
      "16:16:42 - cmdstanpy - INFO - Chain [1] start processing\n",
      "16:16:42 - cmdstanpy - INFO - Chain [1] done processing\n",
      "16:16:42 - cmdstanpy - INFO - Chain [1] start processing\n",
      "16:16:42 - cmdstanpy - INFO - Chain [1] done processing\n",
      "16:16:42 - cmdstanpy - INFO - Chain [1] start processing\n",
      "16:16:42 - cmdstanpy - INFO - Chain [1] done processing\n",
      "Seasonality has period of 365.25 days which is larger than initial window. Consider increasing initial.\n"
     ]
    },
    {
     "data": {
      "application/vnd.jupyter.widget-view+json": {
       "model_id": "50046d4d889f42fd8d96aba972a47f42",
       "version_major": 2,
       "version_minor": 0
      },
      "text/plain": [
       "  0%|          | 0/3 [00:00<?, ?it/s]"
      ]
     },
     "metadata": {},
     "output_type": "display_data"
    },
    {
     "name": "stderr",
     "output_type": "stream",
     "text": [
      "16:16:42 - cmdstanpy - INFO - Chain [1] start processing\n",
      "16:16:43 - cmdstanpy - INFO - Chain [1] done processing\n",
      "16:16:43 - cmdstanpy - INFO - Chain [1] start processing\n",
      "16:16:43 - cmdstanpy - INFO - Chain [1] done processing\n",
      "16:16:43 - cmdstanpy - INFO - Chain [1] start processing\n",
      "16:16:43 - cmdstanpy - INFO - Chain [1] done processing\n",
      "16:16:44 - cmdstanpy - INFO - Chain [1] start processing\n",
      "16:16:44 - cmdstanpy - INFO - Chain [1] done processing\n",
      "Seasonality has period of 365.25 days which is larger than initial window. Consider increasing initial.\n"
     ]
    },
    {
     "data": {
      "application/vnd.jupyter.widget-view+json": {
       "model_id": "03bf714700e946c390bc6c87d0d4efd6",
       "version_major": 2,
       "version_minor": 0
      },
      "text/plain": [
       "  0%|          | 0/3 [00:00<?, ?it/s]"
      ]
     },
     "metadata": {},
     "output_type": "display_data"
    },
    {
     "name": "stderr",
     "output_type": "stream",
     "text": [
      "16:16:44 - cmdstanpy - INFO - Chain [1] start processing\n",
      "16:16:44 - cmdstanpy - INFO - Chain [1] done processing\n",
      "16:16:44 - cmdstanpy - INFO - Chain [1] start processing\n",
      "16:16:44 - cmdstanpy - INFO - Chain [1] done processing\n",
      "16:16:45 - cmdstanpy - INFO - Chain [1] start processing\n",
      "16:16:45 - cmdstanpy - INFO - Chain [1] done processing\n",
      "16:16:45 - cmdstanpy - INFO - Chain [1] start processing\n",
      "16:16:45 - cmdstanpy - INFO - Chain [1] done processing\n",
      "Seasonality has period of 365.25 days which is larger than initial window. Consider increasing initial.\n"
     ]
    },
    {
     "data": {
      "application/vnd.jupyter.widget-view+json": {
       "model_id": "451eff9a29d04110959bbb4a95de8cf4",
       "version_major": 2,
       "version_minor": 0
      },
      "text/plain": [
       "  0%|          | 0/3 [00:00<?, ?it/s]"
      ]
     },
     "metadata": {},
     "output_type": "display_data"
    },
    {
     "name": "stderr",
     "output_type": "stream",
     "text": [
      "16:16:45 - cmdstanpy - INFO - Chain [1] start processing\n",
      "16:16:45 - cmdstanpy - INFO - Chain [1] done processing\n",
      "16:16:46 - cmdstanpy - INFO - Chain [1] start processing\n",
      "16:16:46 - cmdstanpy - INFO - Chain [1] done processing\n",
      "16:16:46 - cmdstanpy - INFO - Chain [1] start processing\n",
      "16:16:46 - cmdstanpy - INFO - Chain [1] done processing\n",
      "16:16:46 - cmdstanpy - INFO - Chain [1] start processing\n",
      "16:16:47 - cmdstanpy - INFO - Chain [1] done processing\n",
      "Seasonality has period of 365.25 days which is larger than initial window. Consider increasing initial.\n"
     ]
    },
    {
     "data": {
      "application/vnd.jupyter.widget-view+json": {
       "model_id": "7fbfc3b8b1dd4141a73fe6b34ba59b11",
       "version_major": 2,
       "version_minor": 0
      },
      "text/plain": [
       "  0%|          | 0/3 [00:00<?, ?it/s]"
      ]
     },
     "metadata": {},
     "output_type": "display_data"
    },
    {
     "name": "stderr",
     "output_type": "stream",
     "text": [
      "16:16:47 - cmdstanpy - INFO - Chain [1] start processing\n",
      "16:16:47 - cmdstanpy - INFO - Chain [1] done processing\n",
      "16:16:47 - cmdstanpy - INFO - Chain [1] start processing\n",
      "16:16:47 - cmdstanpy - INFO - Chain [1] done processing\n",
      "16:16:47 - cmdstanpy - INFO - Chain [1] start processing\n",
      "16:16:47 - cmdstanpy - INFO - Chain [1] done processing\n",
      "16:16:48 - cmdstanpy - INFO - Chain [1] start processing\n",
      "16:16:48 - cmdstanpy - INFO - Chain [1] done processing\n",
      "Seasonality has period of 365.25 days which is larger than initial window. Consider increasing initial.\n"
     ]
    },
    {
     "data": {
      "application/vnd.jupyter.widget-view+json": {
       "model_id": "6444c6c8b92443948eba47414ed14cef",
       "version_major": 2,
       "version_minor": 0
      },
      "text/plain": [
       "  0%|          | 0/3 [00:00<?, ?it/s]"
      ]
     },
     "metadata": {},
     "output_type": "display_data"
    },
    {
     "name": "stderr",
     "output_type": "stream",
     "text": [
      "16:16:48 - cmdstanpy - INFO - Chain [1] start processing\n",
      "16:16:48 - cmdstanpy - INFO - Chain [1] done processing\n",
      "16:16:48 - cmdstanpy - INFO - Chain [1] start processing\n",
      "16:16:48 - cmdstanpy - INFO - Chain [1] done processing\n",
      "16:16:49 - cmdstanpy - INFO - Chain [1] start processing\n",
      "16:16:49 - cmdstanpy - INFO - Chain [1] done processing\n",
      "16:16:49 - cmdstanpy - INFO - Chain [1] start processing\n",
      "16:16:49 - cmdstanpy - INFO - Chain [1] done processing\n",
      "Seasonality has period of 365.25 days which is larger than initial window. Consider increasing initial.\n"
     ]
    },
    {
     "data": {
      "application/vnd.jupyter.widget-view+json": {
       "model_id": "a81446a45abf40a99317554426d1b2ad",
       "version_major": 2,
       "version_minor": 0
      },
      "text/plain": [
       "  0%|          | 0/3 [00:00<?, ?it/s]"
      ]
     },
     "metadata": {},
     "output_type": "display_data"
    },
    {
     "name": "stderr",
     "output_type": "stream",
     "text": [
      "16:16:49 - cmdstanpy - INFO - Chain [1] start processing\n",
      "16:16:49 - cmdstanpy - INFO - Chain [1] done processing\n",
      "16:16:50 - cmdstanpy - INFO - Chain [1] start processing\n",
      "16:16:50 - cmdstanpy - INFO - Chain [1] done processing\n",
      "16:16:50 - cmdstanpy - INFO - Chain [1] start processing\n",
      "16:16:50 - cmdstanpy - INFO - Chain [1] done processing\n",
      "16:16:50 - cmdstanpy - INFO - Chain [1] start processing\n",
      "16:16:51 - cmdstanpy - INFO - Chain [1] done processing\n",
      "Seasonality has period of 365.25 days which is larger than initial window. Consider increasing initial.\n"
     ]
    },
    {
     "data": {
      "application/vnd.jupyter.widget-view+json": {
       "model_id": "47adff6d7844448698b3022d1ea62612",
       "version_major": 2,
       "version_minor": 0
      },
      "text/plain": [
       "  0%|          | 0/3 [00:00<?, ?it/s]"
      ]
     },
     "metadata": {},
     "output_type": "display_data"
    },
    {
     "name": "stderr",
     "output_type": "stream",
     "text": [
      "16:16:51 - cmdstanpy - INFO - Chain [1] start processing\n",
      "16:16:51 - cmdstanpy - INFO - Chain [1] done processing\n",
      "16:16:51 - cmdstanpy - INFO - Chain [1] start processing\n",
      "16:16:51 - cmdstanpy - INFO - Chain [1] done processing\n",
      "16:16:51 - cmdstanpy - INFO - Chain [1] start processing\n",
      "16:16:51 - cmdstanpy - INFO - Chain [1] done processing\n",
      "16:16:52 - cmdstanpy - INFO - Chain [1] start processing\n",
      "16:16:52 - cmdstanpy - INFO - Chain [1] done processing\n",
      "Seasonality has period of 365.25 days which is larger than initial window. Consider increasing initial.\n"
     ]
    },
    {
     "data": {
      "application/vnd.jupyter.widget-view+json": {
       "model_id": "7712478e6b534da4990a79cf541bb1c0",
       "version_major": 2,
       "version_minor": 0
      },
      "text/plain": [
       "  0%|          | 0/3 [00:00<?, ?it/s]"
      ]
     },
     "metadata": {},
     "output_type": "display_data"
    },
    {
     "name": "stderr",
     "output_type": "stream",
     "text": [
      "16:16:52 - cmdstanpy - INFO - Chain [1] start processing\n",
      "16:16:52 - cmdstanpy - INFO - Chain [1] done processing\n",
      "16:16:52 - cmdstanpy - INFO - Chain [1] start processing\n",
      "16:16:53 - cmdstanpy - INFO - Chain [1] done processing\n",
      "16:16:53 - cmdstanpy - INFO - Chain [1] start processing\n",
      "16:16:53 - cmdstanpy - INFO - Chain [1] done processing\n",
      "16:16:53 - cmdstanpy - INFO - Chain [1] start processing\n",
      "16:16:53 - cmdstanpy - INFO - Chain [1] done processing\n",
      "Seasonality has period of 365.25 days which is larger than initial window. Consider increasing initial.\n"
     ]
    },
    {
     "data": {
      "application/vnd.jupyter.widget-view+json": {
       "model_id": "9373da141ca84adaa9c4f75dddc11b08",
       "version_major": 2,
       "version_minor": 0
      },
      "text/plain": [
       "  0%|          | 0/3 [00:00<?, ?it/s]"
      ]
     },
     "metadata": {},
     "output_type": "display_data"
    },
    {
     "name": "stderr",
     "output_type": "stream",
     "text": [
      "16:16:53 - cmdstanpy - INFO - Chain [1] start processing\n",
      "16:16:54 - cmdstanpy - INFO - Chain [1] done processing\n",
      "16:16:54 - cmdstanpy - INFO - Chain [1] start processing\n",
      "16:16:54 - cmdstanpy - INFO - Chain [1] done processing\n",
      "16:16:54 - cmdstanpy - INFO - Chain [1] start processing\n",
      "16:16:54 - cmdstanpy - INFO - Chain [1] done processing\n",
      "16:16:55 - cmdstanpy - INFO - Chain [1] start processing\n",
      "16:16:55 - cmdstanpy - INFO - Chain [1] done processing\n",
      "Seasonality has period of 365.25 days which is larger than initial window. Consider increasing initial.\n"
     ]
    },
    {
     "data": {
      "application/vnd.jupyter.widget-view+json": {
       "model_id": "edf3f70f27b04d2592520b416a897fdd",
       "version_major": 2,
       "version_minor": 0
      },
      "text/plain": [
       "  0%|          | 0/3 [00:00<?, ?it/s]"
      ]
     },
     "metadata": {},
     "output_type": "display_data"
    },
    {
     "name": "stderr",
     "output_type": "stream",
     "text": [
      "16:16:55 - cmdstanpy - INFO - Chain [1] start processing\n",
      "16:16:55 - cmdstanpy - INFO - Chain [1] done processing\n",
      "16:16:55 - cmdstanpy - INFO - Chain [1] start processing\n",
      "16:16:55 - cmdstanpy - INFO - Chain [1] done processing\n",
      "16:16:55 - cmdstanpy - INFO - Chain [1] start processing\n",
      "16:16:55 - cmdstanpy - INFO - Chain [1] done processing\n",
      "16:16:56 - cmdstanpy - INFO - Chain [1] start processing\n",
      "16:16:56 - cmdstanpy - INFO - Chain [1] done processing\n",
      "Seasonality has period of 365.25 days which is larger than initial window. Consider increasing initial.\n"
     ]
    },
    {
     "data": {
      "application/vnd.jupyter.widget-view+json": {
       "model_id": "f0cb6cc3cccb463c92f5691206c05894",
       "version_major": 2,
       "version_minor": 0
      },
      "text/plain": [
       "  0%|          | 0/3 [00:00<?, ?it/s]"
      ]
     },
     "metadata": {},
     "output_type": "display_data"
    },
    {
     "name": "stderr",
     "output_type": "stream",
     "text": [
      "16:16:56 - cmdstanpy - INFO - Chain [1] start processing\n",
      "16:16:56 - cmdstanpy - INFO - Chain [1] done processing\n",
      "16:16:57 - cmdstanpy - INFO - Chain [1] start processing\n",
      "16:16:57 - cmdstanpy - INFO - Chain [1] done processing\n",
      "16:16:57 - cmdstanpy - INFO - Chain [1] start processing\n",
      "16:16:57 - cmdstanpy - INFO - Chain [1] done processing\n",
      "16:16:57 - cmdstanpy - INFO - Chain [1] start processing\n",
      "16:16:57 - cmdstanpy - INFO - Chain [1] done processing\n",
      "Seasonality has period of 365.25 days which is larger than initial window. Consider increasing initial.\n"
     ]
    },
    {
     "data": {
      "application/vnd.jupyter.widget-view+json": {
       "model_id": "5298663f927d4f7ebd755e98f7141708",
       "version_major": 2,
       "version_minor": 0
      },
      "text/plain": [
       "  0%|          | 0/3 [00:00<?, ?it/s]"
      ]
     },
     "metadata": {},
     "output_type": "display_data"
    },
    {
     "name": "stderr",
     "output_type": "stream",
     "text": [
      "16:16:58 - cmdstanpy - INFO - Chain [1] start processing\n",
      "16:16:58 - cmdstanpy - INFO - Chain [1] done processing\n",
      "16:16:58 - cmdstanpy - INFO - Chain [1] start processing\n",
      "16:16:58 - cmdstanpy - INFO - Chain [1] done processing\n",
      "16:16:58 - cmdstanpy - INFO - Chain [1] start processing\n",
      "16:16:58 - cmdstanpy - INFO - Chain [1] done processing\n",
      "16:16:59 - cmdstanpy - INFO - Chain [1] start processing\n",
      "16:16:59 - cmdstanpy - INFO - Chain [1] done processing\n",
      "Seasonality has period of 365.25 days which is larger than initial window. Consider increasing initial.\n"
     ]
    },
    {
     "data": {
      "application/vnd.jupyter.widget-view+json": {
       "model_id": "bc19d10c567344a79c91a2b4ed66d04c",
       "version_major": 2,
       "version_minor": 0
      },
      "text/plain": [
       "  0%|          | 0/3 [00:00<?, ?it/s]"
      ]
     },
     "metadata": {},
     "output_type": "display_data"
    },
    {
     "name": "stderr",
     "output_type": "stream",
     "text": [
      "16:16:59 - cmdstanpy - INFO - Chain [1] start processing\n",
      "16:16:59 - cmdstanpy - INFO - Chain [1] done processing\n",
      "16:16:59 - cmdstanpy - INFO - Chain [1] start processing\n",
      "16:16:59 - cmdstanpy - INFO - Chain [1] done processing\n",
      "16:17:00 - cmdstanpy - INFO - Chain [1] start processing\n",
      "16:17:00 - cmdstanpy - INFO - Chain [1] done processing\n",
      "16:17:00 - cmdstanpy - INFO - Chain [1] start processing\n",
      "16:17:00 - cmdstanpy - INFO - Chain [1] done processing\n",
      "Seasonality has period of 365.25 days which is larger than initial window. Consider increasing initial.\n"
     ]
    },
    {
     "data": {
      "application/vnd.jupyter.widget-view+json": {
       "model_id": "13772ac6258d4a0dae4ae1ddae9b58de",
       "version_major": 2,
       "version_minor": 0
      },
      "text/plain": [
       "  0%|          | 0/3 [00:00<?, ?it/s]"
      ]
     },
     "metadata": {},
     "output_type": "display_data"
    },
    {
     "name": "stderr",
     "output_type": "stream",
     "text": [
      "16:17:00 - cmdstanpy - INFO - Chain [1] start processing\n",
      "16:17:00 - cmdstanpy - INFO - Chain [1] done processing\n",
      "16:17:01 - cmdstanpy - INFO - Chain [1] start processing\n",
      "16:17:01 - cmdstanpy - INFO - Chain [1] done processing\n",
      "16:17:01 - cmdstanpy - INFO - Chain [1] start processing\n",
      "16:17:01 - cmdstanpy - INFO - Chain [1] done processing\n",
      "16:17:01 - cmdstanpy - INFO - Chain [1] start processing\n",
      "16:17:01 - cmdstanpy - INFO - Chain [1] done processing\n",
      "Seasonality has period of 365.25 days which is larger than initial window. Consider increasing initial.\n"
     ]
    },
    {
     "data": {
      "application/vnd.jupyter.widget-view+json": {
       "model_id": "ece3607cd893452b8737abc47dcc3597",
       "version_major": 2,
       "version_minor": 0
      },
      "text/plain": [
       "  0%|          | 0/3 [00:00<?, ?it/s]"
      ]
     },
     "metadata": {},
     "output_type": "display_data"
    },
    {
     "name": "stderr",
     "output_type": "stream",
     "text": [
      "16:17:02 - cmdstanpy - INFO - Chain [1] start processing\n",
      "16:17:02 - cmdstanpy - INFO - Chain [1] done processing\n",
      "16:17:02 - cmdstanpy - INFO - Chain [1] start processing\n",
      "16:17:02 - cmdstanpy - INFO - Chain [1] done processing\n",
      "16:17:02 - cmdstanpy - INFO - Chain [1] start processing\n",
      "16:17:02 - cmdstanpy - INFO - Chain [1] done processing\n",
      "16:17:03 - cmdstanpy - INFO - Chain [1] start processing\n",
      "16:17:03 - cmdstanpy - INFO - Chain [1] done processing\n",
      "Seasonality has period of 365.25 days which is larger than initial window. Consider increasing initial.\n"
     ]
    },
    {
     "data": {
      "application/vnd.jupyter.widget-view+json": {
       "model_id": "793b9a256fda4ba381eaf8c664c2f3d4",
       "version_major": 2,
       "version_minor": 0
      },
      "text/plain": [
       "  0%|          | 0/3 [00:00<?, ?it/s]"
      ]
     },
     "metadata": {},
     "output_type": "display_data"
    },
    {
     "name": "stderr",
     "output_type": "stream",
     "text": [
      "16:17:03 - cmdstanpy - INFO - Chain [1] start processing\n",
      "16:17:03 - cmdstanpy - INFO - Chain [1] done processing\n",
      "16:17:03 - cmdstanpy - INFO - Chain [1] start processing\n",
      "16:17:04 - cmdstanpy - INFO - Chain [1] done processing\n",
      "16:17:04 - cmdstanpy - INFO - Chain [1] start processing\n",
      "16:17:04 - cmdstanpy - INFO - Chain [1] done processing\n",
      "16:17:04 - cmdstanpy - INFO - Chain [1] start processing\n",
      "16:17:04 - cmdstanpy - INFO - Chain [1] done processing\n",
      "Seasonality has period of 365.25 days which is larger than initial window. Consider increasing initial.\n"
     ]
    },
    {
     "data": {
      "application/vnd.jupyter.widget-view+json": {
       "model_id": "83e6ed5faabb47e9877216bcd7384dc9",
       "version_major": 2,
       "version_minor": 0
      },
      "text/plain": [
       "  0%|          | 0/3 [00:00<?, ?it/s]"
      ]
     },
     "metadata": {},
     "output_type": "display_data"
    },
    {
     "name": "stderr",
     "output_type": "stream",
     "text": [
      "16:17:04 - cmdstanpy - INFO - Chain [1] start processing\n",
      "16:17:05 - cmdstanpy - INFO - Chain [1] done processing\n",
      "16:17:05 - cmdstanpy - INFO - Chain [1] start processing\n",
      "16:17:05 - cmdstanpy - INFO - Chain [1] done processing\n",
      "16:17:05 - cmdstanpy - INFO - Chain [1] start processing\n",
      "16:17:05 - cmdstanpy - INFO - Chain [1] done processing\n",
      "16:17:06 - cmdstanpy - INFO - Chain [1] start processing\n",
      "16:17:06 - cmdstanpy - INFO - Chain [1] done processing\n",
      "Seasonality has period of 365.25 days which is larger than initial window. Consider increasing initial.\n"
     ]
    },
    {
     "data": {
      "application/vnd.jupyter.widget-view+json": {
       "model_id": "957eb58d4e16420882c60b2d45a9ae3b",
       "version_major": 2,
       "version_minor": 0
      },
      "text/plain": [
       "  0%|          | 0/3 [00:00<?, ?it/s]"
      ]
     },
     "metadata": {},
     "output_type": "display_data"
    },
    {
     "name": "stderr",
     "output_type": "stream",
     "text": [
      "16:17:06 - cmdstanpy - INFO - Chain [1] start processing\n",
      "16:17:06 - cmdstanpy - INFO - Chain [1] done processing\n",
      "16:17:06 - cmdstanpy - INFO - Chain [1] start processing\n",
      "16:17:06 - cmdstanpy - INFO - Chain [1] done processing\n",
      "16:17:06 - cmdstanpy - INFO - Chain [1] start processing\n",
      "16:17:07 - cmdstanpy - INFO - Chain [1] done processing\n",
      "16:17:07 - cmdstanpy - INFO - Chain [1] start processing\n",
      "16:17:07 - cmdstanpy - INFO - Chain [1] done processing\n",
      "Seasonality has period of 365.25 days which is larger than initial window. Consider increasing initial.\n"
     ]
    },
    {
     "data": {
      "application/vnd.jupyter.widget-view+json": {
       "model_id": "9cd59962d5d247deaebdfe96eae9ded9",
       "version_major": 2,
       "version_minor": 0
      },
      "text/plain": [
       "  0%|          | 0/3 [00:00<?, ?it/s]"
      ]
     },
     "metadata": {},
     "output_type": "display_data"
    },
    {
     "name": "stderr",
     "output_type": "stream",
     "text": [
      "16:17:07 - cmdstanpy - INFO - Chain [1] start processing\n",
      "16:17:07 - cmdstanpy - INFO - Chain [1] done processing\n",
      "16:17:08 - cmdstanpy - INFO - Chain [1] start processing\n",
      "16:17:08 - cmdstanpy - INFO - Chain [1] done processing\n",
      "16:17:08 - cmdstanpy - INFO - Chain [1] start processing\n",
      "16:17:08 - cmdstanpy - INFO - Chain [1] done processing\n",
      "16:17:08 - cmdstanpy - INFO - Chain [1] start processing\n",
      "16:17:08 - cmdstanpy - INFO - Chain [1] done processing\n",
      "Seasonality has period of 365.25 days which is larger than initial window. Consider increasing initial.\n"
     ]
    },
    {
     "data": {
      "application/vnd.jupyter.widget-view+json": {
       "model_id": "cb4d9597dbb4413587a8c8f9924fbfd8",
       "version_major": 2,
       "version_minor": 0
      },
      "text/plain": [
       "  0%|          | 0/3 [00:00<?, ?it/s]"
      ]
     },
     "metadata": {},
     "output_type": "display_data"
    },
    {
     "name": "stderr",
     "output_type": "stream",
     "text": [
      "16:17:09 - cmdstanpy - INFO - Chain [1] start processing\n",
      "16:17:09 - cmdstanpy - INFO - Chain [1] done processing\n",
      "16:17:09 - cmdstanpy - INFO - Chain [1] start processing\n",
      "16:17:09 - cmdstanpy - INFO - Chain [1] done processing\n",
      "16:17:09 - cmdstanpy - INFO - Chain [1] start processing\n",
      "16:17:09 - cmdstanpy - INFO - Chain [1] done processing\n",
      "16:17:10 - cmdstanpy - INFO - Chain [1] start processing\n",
      "16:17:10 - cmdstanpy - INFO - Chain [1] done processing\n",
      "Seasonality has period of 365.25 days which is larger than initial window. Consider increasing initial.\n"
     ]
    },
    {
     "data": {
      "application/vnd.jupyter.widget-view+json": {
       "model_id": "cf4f5d1e88e64c259b677fad34901a44",
       "version_major": 2,
       "version_minor": 0
      },
      "text/plain": [
       "  0%|          | 0/3 [00:00<?, ?it/s]"
      ]
     },
     "metadata": {},
     "output_type": "display_data"
    },
    {
     "name": "stderr",
     "output_type": "stream",
     "text": [
      "16:17:10 - cmdstanpy - INFO - Chain [1] start processing\n",
      "16:17:10 - cmdstanpy - INFO - Chain [1] done processing\n",
      "16:17:10 - cmdstanpy - INFO - Chain [1] start processing\n",
      "16:17:10 - cmdstanpy - INFO - Chain [1] done processing\n",
      "16:17:11 - cmdstanpy - INFO - Chain [1] start processing\n",
      "16:17:11 - cmdstanpy - INFO - Chain [1] done processing\n",
      "16:17:11 - cmdstanpy - INFO - Chain [1] start processing\n",
      "16:17:11 - cmdstanpy - INFO - Chain [1] done processing\n",
      "Seasonality has period of 365.25 days which is larger than initial window. Consider increasing initial.\n"
     ]
    },
    {
     "data": {
      "application/vnd.jupyter.widget-view+json": {
       "model_id": "307f686bb3a0446f97a33ad9d968147d",
       "version_major": 2,
       "version_minor": 0
      },
      "text/plain": [
       "  0%|          | 0/3 [00:00<?, ?it/s]"
      ]
     },
     "metadata": {},
     "output_type": "display_data"
    },
    {
     "name": "stderr",
     "output_type": "stream",
     "text": [
      "16:17:11 - cmdstanpy - INFO - Chain [1] start processing\n",
      "16:17:11 - cmdstanpy - INFO - Chain [1] done processing\n",
      "16:17:12 - cmdstanpy - INFO - Chain [1] start processing\n",
      "16:17:12 - cmdstanpy - INFO - Chain [1] done processing\n",
      "16:17:12 - cmdstanpy - INFO - Chain [1] start processing\n",
      "16:17:12 - cmdstanpy - INFO - Chain [1] done processing\n",
      "16:17:12 - cmdstanpy - INFO - Chain [1] start processing\n",
      "16:17:13 - cmdstanpy - INFO - Chain [1] done processing\n",
      "Seasonality has period of 365.25 days which is larger than initial window. Consider increasing initial.\n"
     ]
    },
    {
     "data": {
      "application/vnd.jupyter.widget-view+json": {
       "model_id": "ab807e4033c7453890d78dd5241fc42e",
       "version_major": 2,
       "version_minor": 0
      },
      "text/plain": [
       "  0%|          | 0/3 [00:00<?, ?it/s]"
      ]
     },
     "metadata": {},
     "output_type": "display_data"
    },
    {
     "name": "stderr",
     "output_type": "stream",
     "text": [
      "16:17:13 - cmdstanpy - INFO - Chain [1] start processing\n",
      "16:17:13 - cmdstanpy - INFO - Chain [1] done processing\n",
      "16:17:13 - cmdstanpy - INFO - Chain [1] start processing\n",
      "16:17:13 - cmdstanpy - INFO - Chain [1] done processing\n",
      "16:17:14 - cmdstanpy - INFO - Chain [1] start processing\n",
      "16:17:14 - cmdstanpy - INFO - Chain [1] done processing\n",
      "16:17:14 - cmdstanpy - INFO - Chain [1] start processing\n",
      "16:17:15 - cmdstanpy - INFO - Chain [1] done processing\n",
      "Seasonality has period of 365.25 days which is larger than initial window. Consider increasing initial.\n"
     ]
    },
    {
     "data": {
      "application/vnd.jupyter.widget-view+json": {
       "model_id": "2e1b198ab6b34821ba2ed4f99967b77e",
       "version_major": 2,
       "version_minor": 0
      },
      "text/plain": [
       "  0%|          | 0/3 [00:00<?, ?it/s]"
      ]
     },
     "metadata": {},
     "output_type": "display_data"
    },
    {
     "name": "stderr",
     "output_type": "stream",
     "text": [
      "16:17:15 - cmdstanpy - INFO - Chain [1] start processing\n",
      "16:17:15 - cmdstanpy - INFO - Chain [1] done processing\n",
      "16:17:15 - cmdstanpy - INFO - Chain [1] start processing\n",
      "16:17:15 - cmdstanpy - INFO - Chain [1] done processing\n",
      "16:17:16 - cmdstanpy - INFO - Chain [1] start processing\n",
      "16:17:16 - cmdstanpy - INFO - Chain [1] done processing\n",
      "16:17:16 - cmdstanpy - INFO - Chain [1] start processing\n",
      "16:17:16 - cmdstanpy - INFO - Chain [1] done processing\n",
      "Seasonality has period of 365.25 days which is larger than initial window. Consider increasing initial.\n"
     ]
    },
    {
     "data": {
      "application/vnd.jupyter.widget-view+json": {
       "model_id": "eaba4a3e37ce4cd79bc9a5a3ae6a544e",
       "version_major": 2,
       "version_minor": 0
      },
      "text/plain": [
       "  0%|          | 0/3 [00:00<?, ?it/s]"
      ]
     },
     "metadata": {},
     "output_type": "display_data"
    },
    {
     "name": "stderr",
     "output_type": "stream",
     "text": [
      "16:17:17 - cmdstanpy - INFO - Chain [1] start processing\n",
      "16:17:17 - cmdstanpy - INFO - Chain [1] done processing\n",
      "16:17:17 - cmdstanpy - INFO - Chain [1] start processing\n",
      "16:17:17 - cmdstanpy - INFO - Chain [1] done processing\n",
      "16:17:17 - cmdstanpy - INFO - Chain [1] start processing\n",
      "16:17:17 - cmdstanpy - INFO - Chain [1] done processing\n",
      "16:17:18 - cmdstanpy - INFO - Chain [1] start processing\n",
      "16:17:18 - cmdstanpy - INFO - Chain [1] done processing\n",
      "Seasonality has period of 365.25 days which is larger than initial window. Consider increasing initial.\n"
     ]
    },
    {
     "data": {
      "application/vnd.jupyter.widget-view+json": {
       "model_id": "2baf1efac7be4c6fbc3ef501d5e8543d",
       "version_major": 2,
       "version_minor": 0
      },
      "text/plain": [
       "  0%|          | 0/3 [00:00<?, ?it/s]"
      ]
     },
     "metadata": {},
     "output_type": "display_data"
    },
    {
     "name": "stderr",
     "output_type": "stream",
     "text": [
      "16:17:18 - cmdstanpy - INFO - Chain [1] start processing\n",
      "16:17:18 - cmdstanpy - INFO - Chain [1] done processing\n",
      "16:17:19 - cmdstanpy - INFO - Chain [1] start processing\n",
      "16:17:19 - cmdstanpy - INFO - Chain [1] done processing\n",
      "16:17:19 - cmdstanpy - INFO - Chain [1] start processing\n",
      "16:17:19 - cmdstanpy - INFO - Chain [1] done processing\n",
      "16:17:19 - cmdstanpy - INFO - Chain [1] start processing\n",
      "16:17:20 - cmdstanpy - INFO - Chain [1] done processing\n",
      "Seasonality has period of 365.25 days which is larger than initial window. Consider increasing initial.\n"
     ]
    },
    {
     "data": {
      "application/vnd.jupyter.widget-view+json": {
       "model_id": "48a45f5973b949eeb6d153027c29a655",
       "version_major": 2,
       "version_minor": 0
      },
      "text/plain": [
       "  0%|          | 0/3 [00:00<?, ?it/s]"
      ]
     },
     "metadata": {},
     "output_type": "display_data"
    },
    {
     "name": "stderr",
     "output_type": "stream",
     "text": [
      "16:17:20 - cmdstanpy - INFO - Chain [1] start processing\n",
      "16:17:20 - cmdstanpy - INFO - Chain [1] done processing\n",
      "16:17:20 - cmdstanpy - INFO - Chain [1] start processing\n",
      "16:17:20 - cmdstanpy - INFO - Chain [1] done processing\n",
      "16:17:21 - cmdstanpy - INFO - Chain [1] start processing\n",
      "16:17:21 - cmdstanpy - INFO - Chain [1] done processing\n",
      "16:17:21 - cmdstanpy - INFO - Chain [1] start processing\n",
      "16:17:21 - cmdstanpy - INFO - Chain [1] done processing\n",
      "Seasonality has period of 365.25 days which is larger than initial window. Consider increasing initial.\n"
     ]
    },
    {
     "data": {
      "application/vnd.jupyter.widget-view+json": {
       "model_id": "35c39efe43f948cc8169622761c85cb3",
       "version_major": 2,
       "version_minor": 0
      },
      "text/plain": [
       "  0%|          | 0/3 [00:00<?, ?it/s]"
      ]
     },
     "metadata": {},
     "output_type": "display_data"
    },
    {
     "name": "stderr",
     "output_type": "stream",
     "text": [
      "16:17:21 - cmdstanpy - INFO - Chain [1] start processing\n",
      "16:17:22 - cmdstanpy - INFO - Chain [1] done processing\n",
      "16:17:22 - cmdstanpy - INFO - Chain [1] start processing\n",
      "16:17:22 - cmdstanpy - INFO - Chain [1] done processing\n",
      "16:17:22 - cmdstanpy - INFO - Chain [1] start processing\n",
      "16:17:22 - cmdstanpy - INFO - Chain [1] done processing\n",
      "16:17:23 - cmdstanpy - INFO - Chain [1] start processing\n",
      "16:17:23 - cmdstanpy - INFO - Chain [1] done processing\n",
      "Seasonality has period of 365.25 days which is larger than initial window. Consider increasing initial.\n"
     ]
    },
    {
     "data": {
      "application/vnd.jupyter.widget-view+json": {
       "model_id": "be11f83a53754980b240f8b2d2cd12b1",
       "version_major": 2,
       "version_minor": 0
      },
      "text/plain": [
       "  0%|          | 0/3 [00:00<?, ?it/s]"
      ]
     },
     "metadata": {},
     "output_type": "display_data"
    },
    {
     "name": "stderr",
     "output_type": "stream",
     "text": [
      "16:17:23 - cmdstanpy - INFO - Chain [1] start processing\n",
      "16:17:23 - cmdstanpy - INFO - Chain [1] done processing\n",
      "16:17:23 - cmdstanpy - INFO - Chain [1] start processing\n",
      "16:17:23 - cmdstanpy - INFO - Chain [1] done processing\n",
      "16:17:24 - cmdstanpy - INFO - Chain [1] start processing\n",
      "16:17:24 - cmdstanpy - INFO - Chain [1] done processing\n",
      "16:17:24 - cmdstanpy - INFO - Chain [1] start processing\n",
      "16:17:25 - cmdstanpy - INFO - Chain [1] done processing\n",
      "Seasonality has period of 365.25 days which is larger than initial window. Consider increasing initial.\n"
     ]
    },
    {
     "data": {
      "application/vnd.jupyter.widget-view+json": {
       "model_id": "1e927c0f98664fbd85c0b309e8af772f",
       "version_major": 2,
       "version_minor": 0
      },
      "text/plain": [
       "  0%|          | 0/3 [00:00<?, ?it/s]"
      ]
     },
     "metadata": {},
     "output_type": "display_data"
    },
    {
     "name": "stderr",
     "output_type": "stream",
     "text": [
      "16:17:25 - cmdstanpy - INFO - Chain [1] start processing\n",
      "16:17:25 - cmdstanpy - INFO - Chain [1] done processing\n",
      "16:17:25 - cmdstanpy - INFO - Chain [1] start processing\n",
      "16:17:25 - cmdstanpy - INFO - Chain [1] done processing\n",
      "16:17:25 - cmdstanpy - INFO - Chain [1] start processing\n",
      "16:17:26 - cmdstanpy - INFO - Chain [1] done processing\n",
      "16:17:26 - cmdstanpy - INFO - Chain [1] start processing\n",
      "16:17:26 - cmdstanpy - INFO - Chain [1] done processing\n",
      "Seasonality has period of 365.25 days which is larger than initial window. Consider increasing initial.\n"
     ]
    },
    {
     "data": {
      "application/vnd.jupyter.widget-view+json": {
       "model_id": "ab257a80bd47498e91f03a0d6d3bcad3",
       "version_major": 2,
       "version_minor": 0
      },
      "text/plain": [
       "  0%|          | 0/3 [00:00<?, ?it/s]"
      ]
     },
     "metadata": {},
     "output_type": "display_data"
    },
    {
     "name": "stderr",
     "output_type": "stream",
     "text": [
      "16:17:27 - cmdstanpy - INFO - Chain [1] start processing\n",
      "16:17:27 - cmdstanpy - INFO - Chain [1] done processing\n",
      "16:17:27 - cmdstanpy - INFO - Chain [1] start processing\n",
      "16:17:27 - cmdstanpy - INFO - Chain [1] done processing\n",
      "16:17:27 - cmdstanpy - INFO - Chain [1] start processing\n",
      "16:17:28 - cmdstanpy - INFO - Chain [1] done processing\n",
      "16:17:28 - cmdstanpy - INFO - Chain [1] start processing\n",
      "16:17:28 - cmdstanpy - INFO - Chain [1] done processing\n",
      "Seasonality has period of 365.25 days which is larger than initial window. Consider increasing initial.\n"
     ]
    },
    {
     "data": {
      "application/vnd.jupyter.widget-view+json": {
       "model_id": "986fce2b4918482cb51188b177f5b572",
       "version_major": 2,
       "version_minor": 0
      },
      "text/plain": [
       "  0%|          | 0/3 [00:00<?, ?it/s]"
      ]
     },
     "metadata": {},
     "output_type": "display_data"
    },
    {
     "name": "stderr",
     "output_type": "stream",
     "text": [
      "16:17:28 - cmdstanpy - INFO - Chain [1] start processing\n",
      "16:17:28 - cmdstanpy - INFO - Chain [1] done processing\n",
      "16:17:29 - cmdstanpy - INFO - Chain [1] start processing\n",
      "16:17:29 - cmdstanpy - INFO - Chain [1] done processing\n",
      "16:17:29 - cmdstanpy - INFO - Chain [1] start processing\n",
      "16:17:29 - cmdstanpy - INFO - Chain [1] done processing\n",
      "16:17:30 - cmdstanpy - INFO - Chain [1] start processing\n",
      "16:17:30 - cmdstanpy - INFO - Chain [1] done processing\n",
      "Seasonality has period of 365.25 days which is larger than initial window. Consider increasing initial.\n"
     ]
    },
    {
     "data": {
      "application/vnd.jupyter.widget-view+json": {
       "model_id": "bcce6ed6c5e24aacbe2c867e195be59a",
       "version_major": 2,
       "version_minor": 0
      },
      "text/plain": [
       "  0%|          | 0/3 [00:00<?, ?it/s]"
      ]
     },
     "metadata": {},
     "output_type": "display_data"
    },
    {
     "name": "stderr",
     "output_type": "stream",
     "text": [
      "16:17:30 - cmdstanpy - INFO - Chain [1] start processing\n",
      "16:17:30 - cmdstanpy - INFO - Chain [1] done processing\n",
      "16:17:30 - cmdstanpy - INFO - Chain [1] start processing\n",
      "16:17:30 - cmdstanpy - INFO - Chain [1] done processing\n",
      "16:17:31 - cmdstanpy - INFO - Chain [1] start processing\n",
      "16:17:31 - cmdstanpy - INFO - Chain [1] done processing\n",
      "16:17:31 - cmdstanpy - INFO - Chain [1] start processing\n",
      "16:17:32 - cmdstanpy - INFO - Chain [1] done processing\n",
      "Seasonality has period of 365.25 days which is larger than initial window. Consider increasing initial.\n"
     ]
    },
    {
     "data": {
      "application/vnd.jupyter.widget-view+json": {
       "model_id": "b17d3e4f58a94cc4be8abd457a05906b",
       "version_major": 2,
       "version_minor": 0
      },
      "text/plain": [
       "  0%|          | 0/3 [00:00<?, ?it/s]"
      ]
     },
     "metadata": {},
     "output_type": "display_data"
    },
    {
     "name": "stderr",
     "output_type": "stream",
     "text": [
      "16:17:32 - cmdstanpy - INFO - Chain [1] start processing\n",
      "16:17:32 - cmdstanpy - INFO - Chain [1] done processing\n",
      "16:17:32 - cmdstanpy - INFO - Chain [1] start processing\n",
      "16:17:32 - cmdstanpy - INFO - Chain [1] done processing\n",
      "16:17:32 - cmdstanpy - INFO - Chain [1] start processing\n",
      "16:17:33 - cmdstanpy - INFO - Chain [1] done processing\n",
      "16:17:33 - cmdstanpy - INFO - Chain [1] start processing\n",
      "16:17:33 - cmdstanpy - INFO - Chain [1] done processing\n",
      "Seasonality has period of 365.25 days which is larger than initial window. Consider increasing initial.\n"
     ]
    },
    {
     "data": {
      "application/vnd.jupyter.widget-view+json": {
       "model_id": "376f2ba9f6914455b31d562dfdeae335",
       "version_major": 2,
       "version_minor": 0
      },
      "text/plain": [
       "  0%|          | 0/3 [00:00<?, ?it/s]"
      ]
     },
     "metadata": {},
     "output_type": "display_data"
    },
    {
     "name": "stderr",
     "output_type": "stream",
     "text": [
      "16:17:33 - cmdstanpy - INFO - Chain [1] start processing\n",
      "16:17:33 - cmdstanpy - INFO - Chain [1] done processing\n",
      "16:17:34 - cmdstanpy - INFO - Chain [1] start processing\n",
      "16:17:34 - cmdstanpy - INFO - Chain [1] done processing\n",
      "16:17:34 - cmdstanpy - INFO - Chain [1] start processing\n",
      "16:17:34 - cmdstanpy - INFO - Chain [1] done processing\n",
      "16:17:35 - cmdstanpy - INFO - Chain [1] start processing\n",
      "16:17:35 - cmdstanpy - INFO - Chain [1] done processing\n",
      "Seasonality has period of 365.25 days which is larger than initial window. Consider increasing initial.\n"
     ]
    },
    {
     "data": {
      "application/vnd.jupyter.widget-view+json": {
       "model_id": "9d51f56ce9c94f6282c43fcd875dc80e",
       "version_major": 2,
       "version_minor": 0
      },
      "text/plain": [
       "  0%|          | 0/3 [00:00<?, ?it/s]"
      ]
     },
     "metadata": {},
     "output_type": "display_data"
    },
    {
     "name": "stderr",
     "output_type": "stream",
     "text": [
      "16:17:35 - cmdstanpy - INFO - Chain [1] start processing\n",
      "16:17:35 - cmdstanpy - INFO - Chain [1] done processing\n",
      "16:17:36 - cmdstanpy - INFO - Chain [1] start processing\n",
      "16:17:36 - cmdstanpy - INFO - Chain [1] done processing\n",
      "16:17:36 - cmdstanpy - INFO - Chain [1] start processing\n",
      "16:17:36 - cmdstanpy - INFO - Chain [1] done processing\n",
      "16:17:37 - cmdstanpy - INFO - Chain [1] start processing\n",
      "16:17:37 - cmdstanpy - INFO - Chain [1] done processing\n",
      "Seasonality has period of 365.25 days which is larger than initial window. Consider increasing initial.\n"
     ]
    },
    {
     "data": {
      "application/vnd.jupyter.widget-view+json": {
       "model_id": "6002e91e507e4d10b5e331cf62fcb2e8",
       "version_major": 2,
       "version_minor": 0
      },
      "text/plain": [
       "  0%|          | 0/3 [00:00<?, ?it/s]"
      ]
     },
     "metadata": {},
     "output_type": "display_data"
    },
    {
     "name": "stderr",
     "output_type": "stream",
     "text": [
      "16:17:37 - cmdstanpy - INFO - Chain [1] start processing\n",
      "16:17:37 - cmdstanpy - INFO - Chain [1] done processing\n",
      "16:17:38 - cmdstanpy - INFO - Chain [1] start processing\n",
      "16:17:38 - cmdstanpy - INFO - Chain [1] done processing\n",
      "16:17:38 - cmdstanpy - INFO - Chain [1] start processing\n",
      "16:17:38 - cmdstanpy - INFO - Chain [1] done processing\n",
      "16:17:38 - cmdstanpy - INFO - Chain [1] start processing\n",
      "16:17:39 - cmdstanpy - INFO - Chain [1] done processing\n",
      "Seasonality has period of 365.25 days which is larger than initial window. Consider increasing initial.\n"
     ]
    },
    {
     "data": {
      "application/vnd.jupyter.widget-view+json": {
       "model_id": "b2dde374e16a4222962c89185b395adb",
       "version_major": 2,
       "version_minor": 0
      },
      "text/plain": [
       "  0%|          | 0/3 [00:00<?, ?it/s]"
      ]
     },
     "metadata": {},
     "output_type": "display_data"
    },
    {
     "name": "stderr",
     "output_type": "stream",
     "text": [
      "16:17:39 - cmdstanpy - INFO - Chain [1] start processing\n",
      "16:17:39 - cmdstanpy - INFO - Chain [1] done processing\n",
      "16:17:39 - cmdstanpy - INFO - Chain [1] start processing\n",
      "16:17:39 - cmdstanpy - INFO - Chain [1] done processing\n",
      "16:17:40 - cmdstanpy - INFO - Chain [1] start processing\n",
      "16:17:40 - cmdstanpy - INFO - Chain [1] done processing\n",
      "16:17:40 - cmdstanpy - INFO - Chain [1] start processing\n",
      "16:17:41 - cmdstanpy - INFO - Chain [1] done processing\n",
      "Seasonality has period of 365.25 days which is larger than initial window. Consider increasing initial.\n"
     ]
    },
    {
     "data": {
      "application/vnd.jupyter.widget-view+json": {
       "model_id": "ddea2099fb9247ac991fb563b0613ccf",
       "version_major": 2,
       "version_minor": 0
      },
      "text/plain": [
       "  0%|          | 0/3 [00:00<?, ?it/s]"
      ]
     },
     "metadata": {},
     "output_type": "display_data"
    },
    {
     "name": "stderr",
     "output_type": "stream",
     "text": [
      "16:17:41 - cmdstanpy - INFO - Chain [1] start processing\n",
      "16:17:41 - cmdstanpy - INFO - Chain [1] done processing\n",
      "16:17:41 - cmdstanpy - INFO - Chain [1] start processing\n",
      "16:17:41 - cmdstanpy - INFO - Chain [1] done processing\n",
      "16:17:41 - cmdstanpy - INFO - Chain [1] start processing\n",
      "16:17:42 - cmdstanpy - INFO - Chain [1] done processing\n",
      "16:17:42 - cmdstanpy - INFO - Chain [1] start processing\n",
      "16:17:42 - cmdstanpy - INFO - Chain [1] done processing\n",
      "Seasonality has period of 365.25 days which is larger than initial window. Consider increasing initial.\n"
     ]
    },
    {
     "data": {
      "application/vnd.jupyter.widget-view+json": {
       "model_id": "54495c38737e4f8895f80067de24c44b",
       "version_major": 2,
       "version_minor": 0
      },
      "text/plain": [
       "  0%|          | 0/3 [00:00<?, ?it/s]"
      ]
     },
     "metadata": {},
     "output_type": "display_data"
    },
    {
     "name": "stderr",
     "output_type": "stream",
     "text": [
      "16:17:42 - cmdstanpy - INFO - Chain [1] start processing\n",
      "16:17:42 - cmdstanpy - INFO - Chain [1] done processing\n",
      "16:17:43 - cmdstanpy - INFO - Chain [1] start processing\n",
      "16:17:43 - cmdstanpy - INFO - Chain [1] done processing\n",
      "16:17:43 - cmdstanpy - INFO - Chain [1] start processing\n",
      "16:17:43 - cmdstanpy - INFO - Chain [1] done processing\n",
      "16:17:44 - cmdstanpy - INFO - Chain [1] start processing\n",
      "16:17:44 - cmdstanpy - INFO - Chain [1] done processing\n",
      "Seasonality has period of 365.25 days which is larger than initial window. Consider increasing initial.\n"
     ]
    },
    {
     "data": {
      "application/vnd.jupyter.widget-view+json": {
       "model_id": "be055174aba34e57815324448979c4d4",
       "version_major": 2,
       "version_minor": 0
      },
      "text/plain": [
       "  0%|          | 0/3 [00:00<?, ?it/s]"
      ]
     },
     "metadata": {},
     "output_type": "display_data"
    },
    {
     "name": "stderr",
     "output_type": "stream",
     "text": [
      "16:17:44 - cmdstanpy - INFO - Chain [1] start processing\n",
      "16:17:44 - cmdstanpy - INFO - Chain [1] done processing\n",
      "16:17:44 - cmdstanpy - INFO - Chain [1] start processing\n",
      "16:17:45 - cmdstanpy - INFO - Chain [1] done processing\n",
      "16:17:45 - cmdstanpy - INFO - Chain [1] start processing\n",
      "16:17:45 - cmdstanpy - INFO - Chain [1] done processing\n",
      "16:17:45 - cmdstanpy - INFO - Chain [1] start processing\n",
      "16:17:46 - cmdstanpy - INFO - Chain [1] done processing\n",
      "Seasonality has period of 365.25 days which is larger than initial window. Consider increasing initial.\n"
     ]
    },
    {
     "data": {
      "application/vnd.jupyter.widget-view+json": {
       "model_id": "79067ff2097845b89ebb01c98ae824b7",
       "version_major": 2,
       "version_minor": 0
      },
      "text/plain": [
       "  0%|          | 0/3 [00:00<?, ?it/s]"
      ]
     },
     "metadata": {},
     "output_type": "display_data"
    },
    {
     "name": "stderr",
     "output_type": "stream",
     "text": [
      "16:17:46 - cmdstanpy - INFO - Chain [1] start processing\n",
      "16:17:46 - cmdstanpy - INFO - Chain [1] done processing\n",
      "16:17:46 - cmdstanpy - INFO - Chain [1] start processing\n",
      "16:17:46 - cmdstanpy - INFO - Chain [1] done processing\n",
      "16:17:47 - cmdstanpy - INFO - Chain [1] start processing\n",
      "16:17:47 - cmdstanpy - INFO - Chain [1] done processing\n",
      "16:17:47 - cmdstanpy - INFO - Chain [1] start processing\n",
      "16:17:47 - cmdstanpy - INFO - Chain [1] done processing\n",
      "Seasonality has period of 365.25 days which is larger than initial window. Consider increasing initial.\n"
     ]
    },
    {
     "data": {
      "application/vnd.jupyter.widget-view+json": {
       "model_id": "d1f35124a89343dabd199175d5ecb556",
       "version_major": 2,
       "version_minor": 0
      },
      "text/plain": [
       "  0%|          | 0/3 [00:00<?, ?it/s]"
      ]
     },
     "metadata": {},
     "output_type": "display_data"
    },
    {
     "name": "stderr",
     "output_type": "stream",
     "text": [
      "16:17:47 - cmdstanpy - INFO - Chain [1] start processing\n",
      "16:17:47 - cmdstanpy - INFO - Chain [1] done processing\n",
      "16:17:48 - cmdstanpy - INFO - Chain [1] start processing\n",
      "16:17:48 - cmdstanpy - INFO - Chain [1] done processing\n",
      "16:17:48 - cmdstanpy - INFO - Chain [1] start processing\n",
      "16:17:48 - cmdstanpy - INFO - Chain [1] done processing\n",
      "16:17:49 - cmdstanpy - INFO - Chain [1] start processing\n",
      "16:17:49 - cmdstanpy - INFO - Chain [1] done processing\n",
      "Seasonality has period of 365.25 days which is larger than initial window. Consider increasing initial.\n"
     ]
    },
    {
     "data": {
      "application/vnd.jupyter.widget-view+json": {
       "model_id": "def3b008f82548cfb90f8db629253a81",
       "version_major": 2,
       "version_minor": 0
      },
      "text/plain": [
       "  0%|          | 0/3 [00:00<?, ?it/s]"
      ]
     },
     "metadata": {},
     "output_type": "display_data"
    },
    {
     "name": "stderr",
     "output_type": "stream",
     "text": [
      "16:17:49 - cmdstanpy - INFO - Chain [1] start processing\n",
      "16:17:49 - cmdstanpy - INFO - Chain [1] done processing\n",
      "16:17:49 - cmdstanpy - INFO - Chain [1] start processing\n",
      "16:17:50 - cmdstanpy - INFO - Chain [1] done processing\n",
      "16:17:50 - cmdstanpy - INFO - Chain [1] start processing\n",
      "16:17:50 - cmdstanpy - INFO - Chain [1] done processing\n",
      "16:17:50 - cmdstanpy - INFO - Chain [1] start processing\n",
      "16:17:51 - cmdstanpy - INFO - Chain [1] done processing\n",
      "Seasonality has period of 365.25 days which is larger than initial window. Consider increasing initial.\n"
     ]
    },
    {
     "data": {
      "application/vnd.jupyter.widget-view+json": {
       "model_id": "b5e90ecb3639428180bb20a8e5621b06",
       "version_major": 2,
       "version_minor": 0
      },
      "text/plain": [
       "  0%|          | 0/3 [00:00<?, ?it/s]"
      ]
     },
     "metadata": {},
     "output_type": "display_data"
    },
    {
     "name": "stderr",
     "output_type": "stream",
     "text": [
      "16:17:51 - cmdstanpy - INFO - Chain [1] start processing\n",
      "16:17:51 - cmdstanpy - INFO - Chain [1] done processing\n",
      "16:17:51 - cmdstanpy - INFO - Chain [1] start processing\n",
      "16:17:51 - cmdstanpy - INFO - Chain [1] done processing\n",
      "16:17:52 - cmdstanpy - INFO - Chain [1] start processing\n",
      "16:17:52 - cmdstanpy - INFO - Chain [1] done processing\n",
      "16:17:52 - cmdstanpy - INFO - Chain [1] start processing\n",
      "16:17:52 - cmdstanpy - INFO - Chain [1] done processing\n",
      "Seasonality has period of 365.25 days which is larger than initial window. Consider increasing initial.\n"
     ]
    },
    {
     "data": {
      "application/vnd.jupyter.widget-view+json": {
       "model_id": "56550ead17a243dd81f05e85d135fdef",
       "version_major": 2,
       "version_minor": 0
      },
      "text/plain": [
       "  0%|          | 0/3 [00:00<?, ?it/s]"
      ]
     },
     "metadata": {},
     "output_type": "display_data"
    },
    {
     "name": "stderr",
     "output_type": "stream",
     "text": [
      "16:17:53 - cmdstanpy - INFO - Chain [1] start processing\n",
      "16:17:53 - cmdstanpy - INFO - Chain [1] done processing\n",
      "16:17:53 - cmdstanpy - INFO - Chain [1] start processing\n",
      "16:17:53 - cmdstanpy - INFO - Chain [1] done processing\n",
      "16:17:53 - cmdstanpy - INFO - Chain [1] start processing\n",
      "16:17:53 - cmdstanpy - INFO - Chain [1] done processing\n",
      "16:17:54 - cmdstanpy - INFO - Chain [1] start processing\n",
      "16:17:54 - cmdstanpy - INFO - Chain [1] done processing\n",
      "Seasonality has period of 365.25 days which is larger than initial window. Consider increasing initial.\n"
     ]
    },
    {
     "data": {
      "application/vnd.jupyter.widget-view+json": {
       "model_id": "88f4793c6ac44fff934ffdb7c61f9781",
       "version_major": 2,
       "version_minor": 0
      },
      "text/plain": [
       "  0%|          | 0/3 [00:00<?, ?it/s]"
      ]
     },
     "metadata": {},
     "output_type": "display_data"
    },
    {
     "name": "stderr",
     "output_type": "stream",
     "text": [
      "16:17:54 - cmdstanpy - INFO - Chain [1] start processing\n",
      "16:17:54 - cmdstanpy - INFO - Chain [1] done processing\n",
      "16:17:55 - cmdstanpy - INFO - Chain [1] start processing\n",
      "16:17:55 - cmdstanpy - INFO - Chain [1] done processing\n",
      "16:17:55 - cmdstanpy - INFO - Chain [1] start processing\n",
      "16:17:55 - cmdstanpy - INFO - Chain [1] done processing\n",
      "16:17:56 - cmdstanpy - INFO - Chain [1] start processing\n",
      "16:17:56 - cmdstanpy - INFO - Chain [1] done processing\n",
      "Seasonality has period of 365.25 days which is larger than initial window. Consider increasing initial.\n"
     ]
    },
    {
     "data": {
      "application/vnd.jupyter.widget-view+json": {
       "model_id": "f393f726e39d4792b7f340956dbc2ab6",
       "version_major": 2,
       "version_minor": 0
      },
      "text/plain": [
       "  0%|          | 0/3 [00:00<?, ?it/s]"
      ]
     },
     "metadata": {},
     "output_type": "display_data"
    },
    {
     "name": "stderr",
     "output_type": "stream",
     "text": [
      "16:17:56 - cmdstanpy - INFO - Chain [1] start processing\n",
      "16:17:56 - cmdstanpy - INFO - Chain [1] done processing\n",
      "16:17:56 - cmdstanpy - INFO - Chain [1] start processing\n",
      "16:17:56 - cmdstanpy - INFO - Chain [1] done processing\n",
      "16:17:57 - cmdstanpy - INFO - Chain [1] start processing\n",
      "16:17:57 - cmdstanpy - INFO - Chain [1] done processing\n",
      "16:17:57 - cmdstanpy - INFO - Chain [1] start processing\n",
      "16:17:58 - cmdstanpy - INFO - Chain [1] done processing\n",
      "Seasonality has period of 365.25 days which is larger than initial window. Consider increasing initial.\n"
     ]
    },
    {
     "data": {
      "application/vnd.jupyter.widget-view+json": {
       "model_id": "70e97150801446d7bb9aaa44f618874c",
       "version_major": 2,
       "version_minor": 0
      },
      "text/plain": [
       "  0%|          | 0/3 [00:00<?, ?it/s]"
      ]
     },
     "metadata": {},
     "output_type": "display_data"
    },
    {
     "name": "stderr",
     "output_type": "stream",
     "text": [
      "16:17:58 - cmdstanpy - INFO - Chain [1] start processing\n",
      "16:17:58 - cmdstanpy - INFO - Chain [1] done processing\n",
      "16:17:58 - cmdstanpy - INFO - Chain [1] start processing\n",
      "16:17:58 - cmdstanpy - INFO - Chain [1] done processing\n",
      "16:17:58 - cmdstanpy - INFO - Chain [1] start processing\n",
      "16:17:59 - cmdstanpy - INFO - Chain [1] done processing\n",
      "16:17:59 - cmdstanpy - INFO - Chain [1] start processing\n",
      "16:17:59 - cmdstanpy - INFO - Chain [1] done processing\n",
      "Seasonality has period of 365.25 days which is larger than initial window. Consider increasing initial.\n"
     ]
    },
    {
     "data": {
      "application/vnd.jupyter.widget-view+json": {
       "model_id": "7729e68a27724ed5833444fa88e3e59f",
       "version_major": 2,
       "version_minor": 0
      },
      "text/plain": [
       "  0%|          | 0/3 [00:00<?, ?it/s]"
      ]
     },
     "metadata": {},
     "output_type": "display_data"
    },
    {
     "name": "stderr",
     "output_type": "stream",
     "text": [
      "16:17:59 - cmdstanpy - INFO - Chain [1] start processing\n",
      "16:18:00 - cmdstanpy - INFO - Chain [1] done processing\n",
      "16:18:00 - cmdstanpy - INFO - Chain [1] start processing\n",
      "16:18:00 - cmdstanpy - INFO - Chain [1] done processing\n",
      "16:18:00 - cmdstanpy - INFO - Chain [1] start processing\n",
      "16:18:00 - cmdstanpy - INFO - Chain [1] done processing\n",
      "16:18:01 - cmdstanpy - INFO - Chain [1] start processing\n",
      "16:18:01 - cmdstanpy - INFO - Chain [1] done processing\n",
      "Seasonality has period of 365.25 days which is larger than initial window. Consider increasing initial.\n"
     ]
    },
    {
     "data": {
      "application/vnd.jupyter.widget-view+json": {
       "model_id": "458f63e851c34f409170059263544531",
       "version_major": 2,
       "version_minor": 0
      },
      "text/plain": [
       "  0%|          | 0/3 [00:00<?, ?it/s]"
      ]
     },
     "metadata": {},
     "output_type": "display_data"
    },
    {
     "name": "stderr",
     "output_type": "stream",
     "text": [
      "16:18:01 - cmdstanpy - INFO - Chain [1] start processing\n",
      "16:18:01 - cmdstanpy - INFO - Chain [1] done processing\n",
      "16:18:01 - cmdstanpy - INFO - Chain [1] start processing\n",
      "16:18:02 - cmdstanpy - INFO - Chain [1] done processing\n",
      "16:18:02 - cmdstanpy - INFO - Chain [1] start processing\n",
      "16:18:02 - cmdstanpy - INFO - Chain [1] done processing\n",
      "16:18:02 - cmdstanpy - INFO - Chain [1] start processing\n",
      "16:18:03 - cmdstanpy - INFO - Chain [1] done processing\n",
      "Seasonality has period of 365.25 days which is larger than initial window. Consider increasing initial.\n"
     ]
    },
    {
     "data": {
      "application/vnd.jupyter.widget-view+json": {
       "model_id": "c9699a90c74f4d64a9e7c91343acea56",
       "version_major": 2,
       "version_minor": 0
      },
      "text/plain": [
       "  0%|          | 0/3 [00:00<?, ?it/s]"
      ]
     },
     "metadata": {},
     "output_type": "display_data"
    },
    {
     "name": "stderr",
     "output_type": "stream",
     "text": [
      "16:18:03 - cmdstanpy - INFO - Chain [1] start processing\n",
      "16:18:03 - cmdstanpy - INFO - Chain [1] done processing\n",
      "16:18:03 - cmdstanpy - INFO - Chain [1] start processing\n",
      "16:18:03 - cmdstanpy - INFO - Chain [1] done processing\n",
      "16:18:04 - cmdstanpy - INFO - Chain [1] start processing\n",
      "16:18:04 - cmdstanpy - INFO - Chain [1] done processing\n",
      "16:18:04 - cmdstanpy - INFO - Chain [1] start processing\n",
      "16:18:04 - cmdstanpy - INFO - Chain [1] done processing\n",
      "Seasonality has period of 365.25 days which is larger than initial window. Consider increasing initial.\n"
     ]
    },
    {
     "data": {
      "application/vnd.jupyter.widget-view+json": {
       "model_id": "5f4962c8596646778a2a5776bbdccedd",
       "version_major": 2,
       "version_minor": 0
      },
      "text/plain": [
       "  0%|          | 0/3 [00:00<?, ?it/s]"
      ]
     },
     "metadata": {},
     "output_type": "display_data"
    },
    {
     "name": "stderr",
     "output_type": "stream",
     "text": [
      "16:18:05 - cmdstanpy - INFO - Chain [1] start processing\n",
      "16:18:05 - cmdstanpy - INFO - Chain [1] done processing\n",
      "16:18:05 - cmdstanpy - INFO - Chain [1] start processing\n",
      "16:18:05 - cmdstanpy - INFO - Chain [1] done processing\n",
      "16:18:05 - cmdstanpy - INFO - Chain [1] start processing\n",
      "16:18:05 - cmdstanpy - INFO - Chain [1] done processing\n",
      "16:18:06 - cmdstanpy - INFO - Chain [1] start processing\n",
      "16:18:06 - cmdstanpy - INFO - Chain [1] done processing\n",
      "Seasonality has period of 365.25 days which is larger than initial window. Consider increasing initial.\n"
     ]
    },
    {
     "data": {
      "application/vnd.jupyter.widget-view+json": {
       "model_id": "aab703f5cc544b9cb3b9159967d64d42",
       "version_major": 2,
       "version_minor": 0
      },
      "text/plain": [
       "  0%|          | 0/3 [00:00<?, ?it/s]"
      ]
     },
     "metadata": {},
     "output_type": "display_data"
    },
    {
     "name": "stderr",
     "output_type": "stream",
     "text": [
      "16:18:06 - cmdstanpy - INFO - Chain [1] start processing\n",
      "16:18:06 - cmdstanpy - INFO - Chain [1] done processing\n",
      "16:18:07 - cmdstanpy - INFO - Chain [1] start processing\n",
      "16:18:07 - cmdstanpy - INFO - Chain [1] done processing\n",
      "16:18:07 - cmdstanpy - INFO - Chain [1] start processing\n",
      "16:18:07 - cmdstanpy - INFO - Chain [1] done processing\n"
     ]
    },
    {
     "name": "stdout",
     "output_type": "stream",
     "text": [
      "Best parameters: params    {'changepoint_prior_scale': 0.1, 'holidays_pri...\n",
      "MAPE                                               0.057288\n",
      "Name: 64, dtype: object\n"
     ]
    }
   ],
   "source": [
    "from sklearn.model_selection import ParameterGrid\n",
    "\n",
    "# Define the hyperparameter grid\n",
    "param_grid = {\n",
    "    'changepoint_prior_scale': [0.001, 0.01, 0.1, 0.5],\n",
    "    'seasonality_prior_scale': [0.01, 0.1, 1.0, 10.0],\n",
    "    'holidays_prior_scale': [0.01, 0.1, 1.0, 10.0],\n",
    "    'seasonality_mode': ['additive', 'multiplicative']\n",
    "}\n",
    "\n",
    "# Create a list of all combinations of hyperparameters\n",
    "all_params = list(ParameterGrid(param_grid))\n",
    "\n",
    "\n",
    "# Cross-validation function to calculate MAPE\n",
    "def cross_validation_mape(model, df, initial, period, horizon):\n",
    "    from prophet.diagnostics import cross_validation\n",
    "    from prophet.diagnostics import performance_metrics\n",
    "\n",
    "    df_cv = cross_validation(model, initial=initial, period=period, horizon=horizon)\n",
    "    df_p = performance_metrics(df_cv, metrics=['mape'])\n",
    "    return df_p['mape'].values[0]\n",
    "\n",
    "list_of_result_dicts = []\n",
    "list_of_scores = []\n",
    "# Perform grid search\n",
    "for params in all_params:\n",
    "\n",
    "    m = Prophet(\n",
    "        changepoint_prior_scale=params['changepoint_prior_scale'],\n",
    "        seasonality_prior_scale=params['seasonality_prior_scale'],\n",
    "        holidays_prior_scale=params['holidays_prior_scale'],\n",
    "        seasonality_mode=params['seasonality_mode']\n",
    "    )\n",
    "    m.fit(Prague_1_full_date_range)\n",
    "\n",
    "    # Define the initial, period, and horizon for cross-validation\n",
    "    initial = '365 days'\n",
    "    period = '180 days'\n",
    "    horizon = '365 days'\n",
    "\n",
    "    # Compute MAPE using cross-validation\n",
    "    mape = cross_validation_mape(m, Prague_1_full_date_range, initial, period, horizon)\n",
    "\n",
    "    # Store the results\n",
    "    list_of_result_dicts.append(params)\n",
    "    list_of_scores.append(mape)\n",
    "\n",
    "results = pd.DataFrame({\"params\": list_of_result_dicts,\n",
    "                        \"MAPE\": list_of_scores})\n",
    "\n",
    "# Find the best hyperparameters\n",
    "best_params = results.loc[results['MAPE'].idxmin()]\n",
    "print(f\"Best parameters: {best_params}\")\n"
   ]
  },
  {
   "cell_type": "code",
   "execution_count": 41,
   "metadata": {},
   "outputs": [
    {
     "name": "stdout",
     "output_type": "stream",
     "text": [
      "params    {'changepoint_prior_scale': 0.1, 'holidays_pri...\n",
      "MAPE                                               0.057288\n",
      "Name: 64, dtype: object\n",
      "{'changepoint_prior_scale': 0.1, 'holidays_prior_scale': 0.01, 'seasonality_mode': 'additive', 'seasonality_prior_scale': 0.01}\n"
     ]
    }
   ],
   "source": [
    "print(best_params)\n",
    "print(best_params[\"params\"])"
   ]
  },
  {
   "cell_type": "code",
   "execution_count": 42,
   "metadata": {},
   "outputs": [
    {
     "name": "stderr",
     "output_type": "stream",
     "text": [
      "16:24:10 - cmdstanpy - INFO - Chain [1] start processing\n",
      "16:24:10 - cmdstanpy - INFO - Chain [1] done processing\n",
      "Seasonality has period of 365.25 days which is larger than initial window. Consider increasing initial.\n"
     ]
    },
    {
     "data": {
      "application/vnd.jupyter.widget-view+json": {
       "model_id": "3995d184f2f946afb9c2e2919086b1c4",
       "version_major": 2,
       "version_minor": 0
      },
      "text/plain": [
       "  0%|          | 0/3 [00:00<?, ?it/s]"
      ]
     },
     "metadata": {},
     "output_type": "display_data"
    },
    {
     "name": "stderr",
     "output_type": "stream",
     "text": [
      "16:24:10 - cmdstanpy - INFO - Chain [1] start processing\n",
      "16:24:10 - cmdstanpy - INFO - Chain [1] done processing\n",
      "16:24:11 - cmdstanpy - INFO - Chain [1] start processing\n",
      "16:24:11 - cmdstanpy - INFO - Chain [1] done processing\n",
      "16:24:11 - cmdstanpy - INFO - Chain [1] start processing\n",
      "16:24:11 - cmdstanpy - INFO - Chain [1] done processing\n",
      "16:24:12 - cmdstanpy - INFO - Chain [1] start processing\n",
      "16:24:12 - cmdstanpy - INFO - Chain [1] done processing\n",
      "Seasonality has period of 365.25 days which is larger than initial window. Consider increasing initial.\n"
     ]
    },
    {
     "data": {
      "application/vnd.jupyter.widget-view+json": {
       "model_id": "725fbfb170244b83855fe54d5708983c",
       "version_major": 2,
       "version_minor": 0
      },
      "text/plain": [
       "  0%|          | 0/3 [00:00<?, ?it/s]"
      ]
     },
     "metadata": {},
     "output_type": "display_data"
    },
    {
     "name": "stderr",
     "output_type": "stream",
     "text": [
      "16:24:12 - cmdstanpy - INFO - Chain [1] start processing\n",
      "16:24:12 - cmdstanpy - INFO - Chain [1] done processing\n",
      "16:24:12 - cmdstanpy - INFO - Chain [1] start processing\n",
      "16:24:12 - cmdstanpy - INFO - Chain [1] done processing\n",
      "16:24:12 - cmdstanpy - INFO - Chain [1] start processing\n",
      "16:24:13 - cmdstanpy - INFO - Chain [1] done processing\n",
      "16:24:13 - cmdstanpy - INFO - Chain [1] start processing\n",
      "16:24:13 - cmdstanpy - INFO - Chain [1] done processing\n",
      "Seasonality has period of 365.25 days which is larger than initial window. Consider increasing initial.\n"
     ]
    },
    {
     "data": {
      "application/vnd.jupyter.widget-view+json": {
       "model_id": "e6d96cbd516a440f9e5e09aeb2dbce73",
       "version_major": 2,
       "version_minor": 0
      },
      "text/plain": [
       "  0%|          | 0/3 [00:00<?, ?it/s]"
      ]
     },
     "metadata": {},
     "output_type": "display_data"
    },
    {
     "name": "stderr",
     "output_type": "stream",
     "text": [
      "16:24:13 - cmdstanpy - INFO - Chain [1] start processing\n",
      "16:24:13 - cmdstanpy - INFO - Chain [1] done processing\n",
      "16:24:13 - cmdstanpy - INFO - Chain [1] start processing\n",
      "16:24:13 - cmdstanpy - INFO - Chain [1] done processing\n",
      "16:24:14 - cmdstanpy - INFO - Chain [1] start processing\n",
      "16:24:14 - cmdstanpy - INFO - Chain [1] done processing\n",
      "16:24:14 - cmdstanpy - INFO - Chain [1] start processing\n",
      "16:24:14 - cmdstanpy - INFO - Chain [1] done processing\n",
      "Seasonality has period of 365.25 days which is larger than initial window. Consider increasing initial.\n"
     ]
    },
    {
     "data": {
      "application/vnd.jupyter.widget-view+json": {
       "model_id": "39b40f3e47334da99a941be5a3059ca1",
       "version_major": 2,
       "version_minor": 0
      },
      "text/plain": [
       "  0%|          | 0/3 [00:00<?, ?it/s]"
      ]
     },
     "metadata": {},
     "output_type": "display_data"
    },
    {
     "name": "stderr",
     "output_type": "stream",
     "text": [
      "16:24:14 - cmdstanpy - INFO - Chain [1] start processing\n",
      "16:24:15 - cmdstanpy - INFO - Chain [1] done processing\n",
      "16:24:15 - cmdstanpy - INFO - Chain [1] start processing\n",
      "16:24:15 - cmdstanpy - INFO - Chain [1] done processing\n",
      "16:24:15 - cmdstanpy - INFO - Chain [1] start processing\n",
      "16:24:15 - cmdstanpy - INFO - Chain [1] done processing\n",
      "16:24:16 - cmdstanpy - INFO - Chain [1] start processing\n",
      "16:24:16 - cmdstanpy - INFO - Chain [1] done processing\n",
      "Seasonality has period of 365.25 days which is larger than initial window. Consider increasing initial.\n"
     ]
    },
    {
     "data": {
      "application/vnd.jupyter.widget-view+json": {
       "model_id": "39cb36ac988b4c3d92a8d7ae8879ceeb",
       "version_major": 2,
       "version_minor": 0
      },
      "text/plain": [
       "  0%|          | 0/3 [00:00<?, ?it/s]"
      ]
     },
     "metadata": {},
     "output_type": "display_data"
    },
    {
     "name": "stderr",
     "output_type": "stream",
     "text": [
      "16:24:16 - cmdstanpy - INFO - Chain [1] start processing\n",
      "16:24:16 - cmdstanpy - INFO - Chain [1] done processing\n",
      "16:24:16 - cmdstanpy - INFO - Chain [1] start processing\n",
      "16:24:16 - cmdstanpy - INFO - Chain [1] done processing\n",
      "16:24:16 - cmdstanpy - INFO - Chain [1] start processing\n",
      "16:24:16 - cmdstanpy - INFO - Chain [1] done processing\n",
      "16:24:17 - cmdstanpy - INFO - Chain [1] start processing\n",
      "16:24:17 - cmdstanpy - INFO - Chain [1] done processing\n",
      "Seasonality has period of 365.25 days which is larger than initial window. Consider increasing initial.\n"
     ]
    },
    {
     "data": {
      "application/vnd.jupyter.widget-view+json": {
       "model_id": "8e099c9ea7b34055bacb80dd5c682c98",
       "version_major": 2,
       "version_minor": 0
      },
      "text/plain": [
       "  0%|          | 0/3 [00:00<?, ?it/s]"
      ]
     },
     "metadata": {},
     "output_type": "display_data"
    },
    {
     "name": "stderr",
     "output_type": "stream",
     "text": [
      "16:24:17 - cmdstanpy - INFO - Chain [1] start processing\n",
      "16:24:17 - cmdstanpy - INFO - Chain [1] done processing\n",
      "16:24:17 - cmdstanpy - INFO - Chain [1] start processing\n",
      "16:24:17 - cmdstanpy - INFO - Chain [1] done processing\n",
      "16:24:18 - cmdstanpy - INFO - Chain [1] start processing\n",
      "16:24:18 - cmdstanpy - INFO - Chain [1] done processing\n",
      "16:24:18 - cmdstanpy - INFO - Chain [1] start processing\n",
      "16:24:18 - cmdstanpy - INFO - Chain [1] done processing\n",
      "Seasonality has period of 365.25 days which is larger than initial window. Consider increasing initial.\n"
     ]
    },
    {
     "data": {
      "application/vnd.jupyter.widget-view+json": {
       "model_id": "66ed2fc5fb5043728f5271391f439427",
       "version_major": 2,
       "version_minor": 0
      },
      "text/plain": [
       "  0%|          | 0/3 [00:00<?, ?it/s]"
      ]
     },
     "metadata": {},
     "output_type": "display_data"
    },
    {
     "name": "stderr",
     "output_type": "stream",
     "text": [
      "16:24:18 - cmdstanpy - INFO - Chain [1] start processing\n",
      "16:24:18 - cmdstanpy - INFO - Chain [1] done processing\n",
      "16:24:19 - cmdstanpy - INFO - Chain [1] start processing\n",
      "16:24:19 - cmdstanpy - INFO - Chain [1] done processing\n",
      "16:24:19 - cmdstanpy - INFO - Chain [1] start processing\n",
      "16:24:19 - cmdstanpy - INFO - Chain [1] done processing\n",
      "16:24:19 - cmdstanpy - INFO - Chain [1] start processing\n",
      "16:24:19 - cmdstanpy - INFO - Chain [1] done processing\n",
      "Seasonality has period of 365.25 days which is larger than initial window. Consider increasing initial.\n"
     ]
    },
    {
     "data": {
      "application/vnd.jupyter.widget-view+json": {
       "model_id": "bdedf4568a1f4ebdbb9bff3e8b1cac10",
       "version_major": 2,
       "version_minor": 0
      },
      "text/plain": [
       "  0%|          | 0/3 [00:00<?, ?it/s]"
      ]
     },
     "metadata": {},
     "output_type": "display_data"
    },
    {
     "name": "stderr",
     "output_type": "stream",
     "text": [
      "16:24:19 - cmdstanpy - INFO - Chain [1] start processing\n",
      "16:24:19 - cmdstanpy - INFO - Chain [1] done processing\n",
      "16:24:20 - cmdstanpy - INFO - Chain [1] start processing\n",
      "16:24:20 - cmdstanpy - INFO - Chain [1] done processing\n",
      "16:24:20 - cmdstanpy - INFO - Chain [1] start processing\n",
      "16:24:20 - cmdstanpy - INFO - Chain [1] done processing\n",
      "16:24:20 - cmdstanpy - INFO - Chain [1] start processing\n",
      "16:24:20 - cmdstanpy - INFO - Chain [1] done processing\n",
      "Seasonality has period of 365.25 days which is larger than initial window. Consider increasing initial.\n"
     ]
    },
    {
     "data": {
      "application/vnd.jupyter.widget-view+json": {
       "model_id": "d01ab96ab1ea480dbcf3e308bb9ae2d0",
       "version_major": 2,
       "version_minor": 0
      },
      "text/plain": [
       "  0%|          | 0/3 [00:00<?, ?it/s]"
      ]
     },
     "metadata": {},
     "output_type": "display_data"
    },
    {
     "name": "stderr",
     "output_type": "stream",
     "text": [
      "16:24:21 - cmdstanpy - INFO - Chain [1] start processing\n",
      "16:24:21 - cmdstanpy - INFO - Chain [1] done processing\n",
      "16:24:21 - cmdstanpy - INFO - Chain [1] start processing\n",
      "16:24:21 - cmdstanpy - INFO - Chain [1] done processing\n",
      "16:24:21 - cmdstanpy - INFO - Chain [1] start processing\n",
      "16:24:21 - cmdstanpy - INFO - Chain [1] done processing\n",
      "16:24:22 - cmdstanpy - INFO - Chain [1] start processing\n",
      "16:24:22 - cmdstanpy - INFO - Chain [1] done processing\n",
      "Seasonality has period of 365.25 days which is larger than initial window. Consider increasing initial.\n"
     ]
    },
    {
     "data": {
      "application/vnd.jupyter.widget-view+json": {
       "model_id": "a7150ae642084705b6d2b688f59c9ee8",
       "version_major": 2,
       "version_minor": 0
      },
      "text/plain": [
       "  0%|          | 0/3 [00:00<?, ?it/s]"
      ]
     },
     "metadata": {},
     "output_type": "display_data"
    },
    {
     "name": "stderr",
     "output_type": "stream",
     "text": [
      "16:24:22 - cmdstanpy - INFO - Chain [1] start processing\n",
      "16:24:22 - cmdstanpy - INFO - Chain [1] done processing\n",
      "16:24:22 - cmdstanpy - INFO - Chain [1] start processing\n",
      "16:24:22 - cmdstanpy - INFO - Chain [1] done processing\n",
      "16:24:22 - cmdstanpy - INFO - Chain [1] start processing\n",
      "16:24:23 - cmdstanpy - INFO - Chain [1] done processing\n",
      "16:24:23 - cmdstanpy - INFO - Chain [1] start processing\n",
      "16:24:23 - cmdstanpy - INFO - Chain [1] done processing\n",
      "Seasonality has period of 365.25 days which is larger than initial window. Consider increasing initial.\n"
     ]
    },
    {
     "data": {
      "application/vnd.jupyter.widget-view+json": {
       "model_id": "81a7ba27280b49eca5f3bf6fdcb74f5d",
       "version_major": 2,
       "version_minor": 0
      },
      "text/plain": [
       "  0%|          | 0/3 [00:00<?, ?it/s]"
      ]
     },
     "metadata": {},
     "output_type": "display_data"
    },
    {
     "name": "stderr",
     "output_type": "stream",
     "text": [
      "16:24:23 - cmdstanpy - INFO - Chain [1] start processing\n",
      "16:24:23 - cmdstanpy - INFO - Chain [1] done processing\n",
      "16:24:23 - cmdstanpy - INFO - Chain [1] start processing\n",
      "16:24:23 - cmdstanpy - INFO - Chain [1] done processing\n",
      "16:24:24 - cmdstanpy - INFO - Chain [1] start processing\n",
      "16:24:24 - cmdstanpy - INFO - Chain [1] done processing\n",
      "16:24:24 - cmdstanpy - INFO - Chain [1] start processing\n",
      "16:24:24 - cmdstanpy - INFO - Chain [1] done processing\n",
      "Seasonality has period of 365.25 days which is larger than initial window. Consider increasing initial.\n"
     ]
    },
    {
     "data": {
      "application/vnd.jupyter.widget-view+json": {
       "model_id": "f364b156c6c647ae837c611fed3507ad",
       "version_major": 2,
       "version_minor": 0
      },
      "text/plain": [
       "  0%|          | 0/3 [00:00<?, ?it/s]"
      ]
     },
     "metadata": {},
     "output_type": "display_data"
    },
    {
     "name": "stderr",
     "output_type": "stream",
     "text": [
      "16:24:24 - cmdstanpy - INFO - Chain [1] start processing\n",
      "16:24:24 - cmdstanpy - INFO - Chain [1] done processing\n",
      "16:24:25 - cmdstanpy - INFO - Chain [1] start processing\n",
      "16:24:25 - cmdstanpy - INFO - Chain [1] done processing\n",
      "16:24:25 - cmdstanpy - INFO - Chain [1] start processing\n",
      "16:24:25 - cmdstanpy - INFO - Chain [1] done processing\n",
      "16:24:25 - cmdstanpy - INFO - Chain [1] start processing\n",
      "16:24:25 - cmdstanpy - INFO - Chain [1] done processing\n",
      "Seasonality has period of 365.25 days which is larger than initial window. Consider increasing initial.\n"
     ]
    },
    {
     "data": {
      "application/vnd.jupyter.widget-view+json": {
       "model_id": "1a053c51e6eb48dc9a4609c522c9a595",
       "version_major": 2,
       "version_minor": 0
      },
      "text/plain": [
       "  0%|          | 0/3 [00:00<?, ?it/s]"
      ]
     },
     "metadata": {},
     "output_type": "display_data"
    },
    {
     "name": "stderr",
     "output_type": "stream",
     "text": [
      "16:24:26 - cmdstanpy - INFO - Chain [1] start processing\n",
      "16:24:26 - cmdstanpy - INFO - Chain [1] done processing\n",
      "16:24:26 - cmdstanpy - INFO - Chain [1] start processing\n",
      "16:24:26 - cmdstanpy - INFO - Chain [1] done processing\n",
      "16:24:26 - cmdstanpy - INFO - Chain [1] start processing\n",
      "16:24:26 - cmdstanpy - INFO - Chain [1] done processing\n",
      "16:24:27 - cmdstanpy - INFO - Chain [1] start processing\n",
      "16:24:27 - cmdstanpy - INFO - Chain [1] done processing\n",
      "Seasonality has period of 365.25 days which is larger than initial window. Consider increasing initial.\n"
     ]
    },
    {
     "data": {
      "application/vnd.jupyter.widget-view+json": {
       "model_id": "a6432564aba94447aa6ace22cd446a67",
       "version_major": 2,
       "version_minor": 0
      },
      "text/plain": [
       "  0%|          | 0/3 [00:00<?, ?it/s]"
      ]
     },
     "metadata": {},
     "output_type": "display_data"
    },
    {
     "name": "stderr",
     "output_type": "stream",
     "text": [
      "16:24:27 - cmdstanpy - INFO - Chain [1] start processing\n",
      "16:24:27 - cmdstanpy - INFO - Chain [1] done processing\n",
      "16:24:27 - cmdstanpy - INFO - Chain [1] start processing\n",
      "16:24:27 - cmdstanpy - INFO - Chain [1] done processing\n",
      "16:24:27 - cmdstanpy - INFO - Chain [1] start processing\n",
      "16:24:27 - cmdstanpy - INFO - Chain [1] done processing\n",
      "16:24:28 - cmdstanpy - INFO - Chain [1] start processing\n",
      "16:24:28 - cmdstanpy - INFO - Chain [1] done processing\n",
      "Seasonality has period of 365.25 days which is larger than initial window. Consider increasing initial.\n"
     ]
    },
    {
     "data": {
      "application/vnd.jupyter.widget-view+json": {
       "model_id": "5fe84dde6c914ce0b5d0c7a5f9b7501e",
       "version_major": 2,
       "version_minor": 0
      },
      "text/plain": [
       "  0%|          | 0/3 [00:00<?, ?it/s]"
      ]
     },
     "metadata": {},
     "output_type": "display_data"
    },
    {
     "name": "stderr",
     "output_type": "stream",
     "text": [
      "16:24:28 - cmdstanpy - INFO - Chain [1] start processing\n",
      "16:24:28 - cmdstanpy - INFO - Chain [1] done processing\n",
      "16:24:28 - cmdstanpy - INFO - Chain [1] start processing\n",
      "16:24:28 - cmdstanpy - INFO - Chain [1] done processing\n",
      "16:24:29 - cmdstanpy - INFO - Chain [1] start processing\n",
      "16:24:29 - cmdstanpy - INFO - Chain [1] done processing\n",
      "16:24:29 - cmdstanpy - INFO - Chain [1] start processing\n",
      "16:24:29 - cmdstanpy - INFO - Chain [1] done processing\n",
      "Seasonality has period of 365.25 days which is larger than initial window. Consider increasing initial.\n"
     ]
    },
    {
     "data": {
      "application/vnd.jupyter.widget-view+json": {
       "model_id": "ae592d7588234460a1903fcd7054539b",
       "version_major": 2,
       "version_minor": 0
      },
      "text/plain": [
       "  0%|          | 0/3 [00:00<?, ?it/s]"
      ]
     },
     "metadata": {},
     "output_type": "display_data"
    },
    {
     "name": "stderr",
     "output_type": "stream",
     "text": [
      "16:24:29 - cmdstanpy - INFO - Chain [1] start processing\n",
      "16:24:30 - cmdstanpy - INFO - Chain [1] done processing\n",
      "16:24:30 - cmdstanpy - INFO - Chain [1] start processing\n",
      "16:24:30 - cmdstanpy - INFO - Chain [1] done processing\n",
      "16:24:30 - cmdstanpy - INFO - Chain [1] start processing\n",
      "16:24:30 - cmdstanpy - INFO - Chain [1] done processing\n",
      "16:24:31 - cmdstanpy - INFO - Chain [1] start processing\n",
      "16:24:31 - cmdstanpy - INFO - Chain [1] done processing\n",
      "Seasonality has period of 365.25 days which is larger than initial window. Consider increasing initial.\n"
     ]
    },
    {
     "data": {
      "application/vnd.jupyter.widget-view+json": {
       "model_id": "89bbd54ad78c4cac90d50cbf8356d2fc",
       "version_major": 2,
       "version_minor": 0
      },
      "text/plain": [
       "  0%|          | 0/3 [00:00<?, ?it/s]"
      ]
     },
     "metadata": {},
     "output_type": "display_data"
    },
    {
     "name": "stderr",
     "output_type": "stream",
     "text": [
      "16:24:31 - cmdstanpy - INFO - Chain [1] start processing\n",
      "16:24:31 - cmdstanpy - INFO - Chain [1] done processing\n",
      "16:24:31 - cmdstanpy - INFO - Chain [1] start processing\n",
      "16:24:31 - cmdstanpy - INFO - Chain [1] done processing\n",
      "16:24:31 - cmdstanpy - INFO - Chain [1] start processing\n",
      "16:24:31 - cmdstanpy - INFO - Chain [1] done processing\n",
      "16:24:32 - cmdstanpy - INFO - Chain [1] start processing\n",
      "16:24:32 - cmdstanpy - INFO - Chain [1] done processing\n",
      "Seasonality has period of 365.25 days which is larger than initial window. Consider increasing initial.\n"
     ]
    },
    {
     "data": {
      "application/vnd.jupyter.widget-view+json": {
       "model_id": "aaba0bde122c4a969d0d470a2022a731",
       "version_major": 2,
       "version_minor": 0
      },
      "text/plain": [
       "  0%|          | 0/3 [00:00<?, ?it/s]"
      ]
     },
     "metadata": {},
     "output_type": "display_data"
    },
    {
     "name": "stderr",
     "output_type": "stream",
     "text": [
      "16:24:32 - cmdstanpy - INFO - Chain [1] start processing\n",
      "16:24:32 - cmdstanpy - INFO - Chain [1] done processing\n",
      "16:24:32 - cmdstanpy - INFO - Chain [1] start processing\n",
      "16:24:32 - cmdstanpy - INFO - Chain [1] done processing\n",
      "16:24:33 - cmdstanpy - INFO - Chain [1] start processing\n",
      "16:24:33 - cmdstanpy - INFO - Chain [1] done processing\n",
      "16:24:33 - cmdstanpy - INFO - Chain [1] start processing\n",
      "16:24:33 - cmdstanpy - INFO - Chain [1] done processing\n",
      "Seasonality has period of 365.25 days which is larger than initial window. Consider increasing initial.\n"
     ]
    },
    {
     "data": {
      "application/vnd.jupyter.widget-view+json": {
       "model_id": "da0360a650c443b89d1748ed0425df05",
       "version_major": 2,
       "version_minor": 0
      },
      "text/plain": [
       "  0%|          | 0/3 [00:00<?, ?it/s]"
      ]
     },
     "metadata": {},
     "output_type": "display_data"
    },
    {
     "name": "stderr",
     "output_type": "stream",
     "text": [
      "16:24:33 - cmdstanpy - INFO - Chain [1] start processing\n",
      "16:24:33 - cmdstanpy - INFO - Chain [1] done processing\n",
      "16:24:33 - cmdstanpy - INFO - Chain [1] start processing\n",
      "16:24:34 - cmdstanpy - INFO - Chain [1] done processing\n",
      "16:24:34 - cmdstanpy - INFO - Chain [1] start processing\n",
      "16:24:34 - cmdstanpy - INFO - Chain [1] done processing\n",
      "16:24:34 - cmdstanpy - INFO - Chain [1] start processing\n",
      "16:24:34 - cmdstanpy - INFO - Chain [1] done processing\n",
      "Seasonality has period of 365.25 days which is larger than initial window. Consider increasing initial.\n"
     ]
    },
    {
     "data": {
      "application/vnd.jupyter.widget-view+json": {
       "model_id": "bfcebea2be7c4ef5ae1dc5c420472f96",
       "version_major": 2,
       "version_minor": 0
      },
      "text/plain": [
       "  0%|          | 0/3 [00:00<?, ?it/s]"
      ]
     },
     "metadata": {},
     "output_type": "display_data"
    },
    {
     "name": "stderr",
     "output_type": "stream",
     "text": [
      "16:24:34 - cmdstanpy - INFO - Chain [1] start processing\n",
      "16:24:34 - cmdstanpy - INFO - Chain [1] done processing\n",
      "16:24:35 - cmdstanpy - INFO - Chain [1] start processing\n",
      "16:24:35 - cmdstanpy - INFO - Chain [1] done processing\n",
      "16:24:35 - cmdstanpy - INFO - Chain [1] start processing\n",
      "16:24:35 - cmdstanpy - INFO - Chain [1] done processing\n",
      "16:24:36 - cmdstanpy - INFO - Chain [1] start processing\n",
      "16:24:36 - cmdstanpy - INFO - Chain [1] done processing\n",
      "Seasonality has period of 365.25 days which is larger than initial window. Consider increasing initial.\n"
     ]
    },
    {
     "data": {
      "application/vnd.jupyter.widget-view+json": {
       "model_id": "baf72b2fea7948ee8f8c85ff00783aef",
       "version_major": 2,
       "version_minor": 0
      },
      "text/plain": [
       "  0%|          | 0/3 [00:00<?, ?it/s]"
      ]
     },
     "metadata": {},
     "output_type": "display_data"
    },
    {
     "name": "stderr",
     "output_type": "stream",
     "text": [
      "16:24:36 - cmdstanpy - INFO - Chain [1] start processing\n",
      "16:24:36 - cmdstanpy - INFO - Chain [1] done processing\n",
      "16:24:36 - cmdstanpy - INFO - Chain [1] start processing\n",
      "16:24:36 - cmdstanpy - INFO - Chain [1] done processing\n",
      "16:24:36 - cmdstanpy - INFO - Chain [1] start processing\n",
      "16:24:36 - cmdstanpy - INFO - Chain [1] done processing\n",
      "16:24:37 - cmdstanpy - INFO - Chain [1] start processing\n",
      "16:24:37 - cmdstanpy - INFO - Chain [1] done processing\n",
      "Seasonality has period of 365.25 days which is larger than initial window. Consider increasing initial.\n"
     ]
    },
    {
     "data": {
      "application/vnd.jupyter.widget-view+json": {
       "model_id": "81974a6a2226460eac1cf2e61fe43837",
       "version_major": 2,
       "version_minor": 0
      },
      "text/plain": [
       "  0%|          | 0/3 [00:00<?, ?it/s]"
      ]
     },
     "metadata": {},
     "output_type": "display_data"
    },
    {
     "name": "stderr",
     "output_type": "stream",
     "text": [
      "16:24:37 - cmdstanpy - INFO - Chain [1] start processing\n",
      "16:24:37 - cmdstanpy - INFO - Chain [1] done processing\n",
      "16:24:37 - cmdstanpy - INFO - Chain [1] start processing\n",
      "16:24:37 - cmdstanpy - INFO - Chain [1] done processing\n",
      "16:24:38 - cmdstanpy - INFO - Chain [1] start processing\n",
      "16:24:38 - cmdstanpy - INFO - Chain [1] done processing\n",
      "16:24:38 - cmdstanpy - INFO - Chain [1] start processing\n",
      "16:24:38 - cmdstanpy - INFO - Chain [1] done processing\n",
      "Seasonality has period of 365.25 days which is larger than initial window. Consider increasing initial.\n"
     ]
    },
    {
     "data": {
      "application/vnd.jupyter.widget-view+json": {
       "model_id": "a8c4a80d8be342e385dcb821c2a7ee94",
       "version_major": 2,
       "version_minor": 0
      },
      "text/plain": [
       "  0%|          | 0/3 [00:00<?, ?it/s]"
      ]
     },
     "metadata": {},
     "output_type": "display_data"
    },
    {
     "name": "stderr",
     "output_type": "stream",
     "text": [
      "16:24:38 - cmdstanpy - INFO - Chain [1] start processing\n",
      "16:24:38 - cmdstanpy - INFO - Chain [1] done processing\n",
      "16:24:39 - cmdstanpy - INFO - Chain [1] start processing\n",
      "16:24:39 - cmdstanpy - INFO - Chain [1] done processing\n",
      "16:24:39 - cmdstanpy - INFO - Chain [1] start processing\n",
      "16:24:39 - cmdstanpy - INFO - Chain [1] done processing\n",
      "16:24:39 - cmdstanpy - INFO - Chain [1] start processing\n",
      "16:24:39 - cmdstanpy - INFO - Chain [1] done processing\n",
      "Seasonality has period of 365.25 days which is larger than initial window. Consider increasing initial.\n"
     ]
    },
    {
     "data": {
      "application/vnd.jupyter.widget-view+json": {
       "model_id": "4fbeabfcdaf645e69e46e1bd82569472",
       "version_major": 2,
       "version_minor": 0
      },
      "text/plain": [
       "  0%|          | 0/3 [00:00<?, ?it/s]"
      ]
     },
     "metadata": {},
     "output_type": "display_data"
    },
    {
     "name": "stderr",
     "output_type": "stream",
     "text": [
      "16:24:39 - cmdstanpy - INFO - Chain [1] start processing\n",
      "16:24:40 - cmdstanpy - INFO - Chain [1] done processing\n",
      "16:24:40 - cmdstanpy - INFO - Chain [1] start processing\n",
      "16:24:40 - cmdstanpy - INFO - Chain [1] done processing\n",
      "16:24:40 - cmdstanpy - INFO - Chain [1] start processing\n",
      "16:24:40 - cmdstanpy - INFO - Chain [1] done processing\n",
      "16:24:40 - cmdstanpy - INFO - Chain [1] start processing\n",
      "16:24:41 - cmdstanpy - INFO - Chain [1] done processing\n",
      "Seasonality has period of 365.25 days which is larger than initial window. Consider increasing initial.\n"
     ]
    },
    {
     "data": {
      "application/vnd.jupyter.widget-view+json": {
       "model_id": "db12a417bcac4fd4a25d2f58d55f705e",
       "version_major": 2,
       "version_minor": 0
      },
      "text/plain": [
       "  0%|          | 0/3 [00:00<?, ?it/s]"
      ]
     },
     "metadata": {},
     "output_type": "display_data"
    },
    {
     "name": "stderr",
     "output_type": "stream",
     "text": [
      "16:24:41 - cmdstanpy - INFO - Chain [1] start processing\n",
      "16:24:41 - cmdstanpy - INFO - Chain [1] done processing\n",
      "16:24:41 - cmdstanpy - INFO - Chain [1] start processing\n",
      "16:24:41 - cmdstanpy - INFO - Chain [1] done processing\n",
      "16:24:41 - cmdstanpy - INFO - Chain [1] start processing\n",
      "16:24:41 - cmdstanpy - INFO - Chain [1] done processing\n",
      "16:24:42 - cmdstanpy - INFO - Chain [1] start processing\n",
      "16:24:42 - cmdstanpy - INFO - Chain [1] done processing\n",
      "Seasonality has period of 365.25 days which is larger than initial window. Consider increasing initial.\n"
     ]
    },
    {
     "data": {
      "application/vnd.jupyter.widget-view+json": {
       "model_id": "ce4bd5221096408b9413d467c57ace4e",
       "version_major": 2,
       "version_minor": 0
      },
      "text/plain": [
       "  0%|          | 0/3 [00:00<?, ?it/s]"
      ]
     },
     "metadata": {},
     "output_type": "display_data"
    },
    {
     "name": "stderr",
     "output_type": "stream",
     "text": [
      "16:24:42 - cmdstanpy - INFO - Chain [1] start processing\n",
      "16:24:42 - cmdstanpy - INFO - Chain [1] done processing\n",
      "16:24:42 - cmdstanpy - INFO - Chain [1] start processing\n",
      "16:24:42 - cmdstanpy - INFO - Chain [1] done processing\n",
      "16:24:43 - cmdstanpy - INFO - Chain [1] start processing\n",
      "16:24:43 - cmdstanpy - INFO - Chain [1] done processing\n",
      "16:24:43 - cmdstanpy - INFO - Chain [1] start processing\n",
      "16:24:43 - cmdstanpy - INFO - Chain [1] done processing\n",
      "Seasonality has period of 365.25 days which is larger than initial window. Consider increasing initial.\n"
     ]
    },
    {
     "data": {
      "application/vnd.jupyter.widget-view+json": {
       "model_id": "92bae2b6bde04c65909187a328da55e5",
       "version_major": 2,
       "version_minor": 0
      },
      "text/plain": [
       "  0%|          | 0/3 [00:00<?, ?it/s]"
      ]
     },
     "metadata": {},
     "output_type": "display_data"
    },
    {
     "name": "stderr",
     "output_type": "stream",
     "text": [
      "16:24:43 - cmdstanpy - INFO - Chain [1] start processing\n",
      "16:24:43 - cmdstanpy - INFO - Chain [1] done processing\n",
      "16:24:44 - cmdstanpy - INFO - Chain [1] start processing\n",
      "16:24:44 - cmdstanpy - INFO - Chain [1] done processing\n",
      "16:24:44 - cmdstanpy - INFO - Chain [1] start processing\n",
      "16:24:44 - cmdstanpy - INFO - Chain [1] done processing\n",
      "16:24:44 - cmdstanpy - INFO - Chain [1] start processing\n",
      "16:24:44 - cmdstanpy - INFO - Chain [1] done processing\n",
      "Seasonality has period of 365.25 days which is larger than initial window. Consider increasing initial.\n"
     ]
    },
    {
     "data": {
      "application/vnd.jupyter.widget-view+json": {
       "model_id": "81335d192d274630891fe011f6fcce6d",
       "version_major": 2,
       "version_minor": 0
      },
      "text/plain": [
       "  0%|          | 0/3 [00:00<?, ?it/s]"
      ]
     },
     "metadata": {},
     "output_type": "display_data"
    },
    {
     "name": "stderr",
     "output_type": "stream",
     "text": [
      "16:24:45 - cmdstanpy - INFO - Chain [1] start processing\n",
      "16:24:45 - cmdstanpy - INFO - Chain [1] done processing\n",
      "16:24:45 - cmdstanpy - INFO - Chain [1] start processing\n",
      "16:24:45 - cmdstanpy - INFO - Chain [1] done processing\n",
      "16:24:45 - cmdstanpy - INFO - Chain [1] start processing\n",
      "16:24:45 - cmdstanpy - INFO - Chain [1] done processing\n",
      "16:24:46 - cmdstanpy - INFO - Chain [1] start processing\n",
      "16:24:46 - cmdstanpy - INFO - Chain [1] done processing\n",
      "Seasonality has period of 365.25 days which is larger than initial window. Consider increasing initial.\n"
     ]
    },
    {
     "data": {
      "application/vnd.jupyter.widget-view+json": {
       "model_id": "59673945904e488fbf65aa94336f5af5",
       "version_major": 2,
       "version_minor": 0
      },
      "text/plain": [
       "  0%|          | 0/3 [00:00<?, ?it/s]"
      ]
     },
     "metadata": {},
     "output_type": "display_data"
    },
    {
     "name": "stderr",
     "output_type": "stream",
     "text": [
      "16:24:46 - cmdstanpy - INFO - Chain [1] start processing\n",
      "16:24:46 - cmdstanpy - INFO - Chain [1] done processing\n",
      "16:24:46 - cmdstanpy - INFO - Chain [1] start processing\n",
      "16:24:46 - cmdstanpy - INFO - Chain [1] done processing\n",
      "16:24:47 - cmdstanpy - INFO - Chain [1] start processing\n",
      "16:24:47 - cmdstanpy - INFO - Chain [1] done processing\n",
      "16:24:47 - cmdstanpy - INFO - Chain [1] start processing\n",
      "16:24:47 - cmdstanpy - INFO - Chain [1] done processing\n",
      "Seasonality has period of 365.25 days which is larger than initial window. Consider increasing initial.\n"
     ]
    },
    {
     "data": {
      "application/vnd.jupyter.widget-view+json": {
       "model_id": "fb3565a633bf4ee5a157ba53d5f3f2a2",
       "version_major": 2,
       "version_minor": 0
      },
      "text/plain": [
       "  0%|          | 0/3 [00:00<?, ?it/s]"
      ]
     },
     "metadata": {},
     "output_type": "display_data"
    },
    {
     "name": "stderr",
     "output_type": "stream",
     "text": [
      "16:24:47 - cmdstanpy - INFO - Chain [1] start processing\n",
      "16:24:47 - cmdstanpy - INFO - Chain [1] done processing\n",
      "16:24:47 - cmdstanpy - INFO - Chain [1] start processing\n",
      "16:24:47 - cmdstanpy - INFO - Chain [1] done processing\n",
      "16:24:48 - cmdstanpy - INFO - Chain [1] start processing\n",
      "16:24:48 - cmdstanpy - INFO - Chain [1] done processing\n",
      "16:24:48 - cmdstanpy - INFO - Chain [1] start processing\n",
      "16:24:48 - cmdstanpy - INFO - Chain [1] done processing\n",
      "Seasonality has period of 365.25 days which is larger than initial window. Consider increasing initial.\n"
     ]
    },
    {
     "data": {
      "application/vnd.jupyter.widget-view+json": {
       "model_id": "bde6ae85148a402ba34656b79a3732d8",
       "version_major": 2,
       "version_minor": 0
      },
      "text/plain": [
       "  0%|          | 0/3 [00:00<?, ?it/s]"
      ]
     },
     "metadata": {},
     "output_type": "display_data"
    },
    {
     "name": "stderr",
     "output_type": "stream",
     "text": [
      "16:24:48 - cmdstanpy - INFO - Chain [1] start processing\n",
      "16:24:48 - cmdstanpy - INFO - Chain [1] done processing\n",
      "16:24:49 - cmdstanpy - INFO - Chain [1] start processing\n",
      "16:24:49 - cmdstanpy - INFO - Chain [1] done processing\n",
      "16:24:49 - cmdstanpy - INFO - Chain [1] start processing\n",
      "16:24:49 - cmdstanpy - INFO - Chain [1] done processing\n",
      "16:24:49 - cmdstanpy - INFO - Chain [1] start processing\n",
      "16:24:49 - cmdstanpy - INFO - Chain [1] done processing\n",
      "Seasonality has period of 365.25 days which is larger than initial window. Consider increasing initial.\n"
     ]
    },
    {
     "data": {
      "application/vnd.jupyter.widget-view+json": {
       "model_id": "f897695e97e94ce487772cc6c12d7aa5",
       "version_major": 2,
       "version_minor": 0
      },
      "text/plain": [
       "  0%|          | 0/3 [00:00<?, ?it/s]"
      ]
     },
     "metadata": {},
     "output_type": "display_data"
    },
    {
     "name": "stderr",
     "output_type": "stream",
     "text": [
      "16:24:49 - cmdstanpy - INFO - Chain [1] start processing\n",
      "16:24:50 - cmdstanpy - INFO - Chain [1] done processing\n",
      "16:24:50 - cmdstanpy - INFO - Chain [1] start processing\n",
      "16:24:50 - cmdstanpy - INFO - Chain [1] done processing\n",
      "16:24:50 - cmdstanpy - INFO - Chain [1] start processing\n",
      "16:24:50 - cmdstanpy - INFO - Chain [1] done processing\n",
      "16:24:51 - cmdstanpy - INFO - Chain [1] start processing\n",
      "16:24:51 - cmdstanpy - INFO - Chain [1] done processing\n",
      "Seasonality has period of 365.25 days which is larger than initial window. Consider increasing initial.\n"
     ]
    },
    {
     "data": {
      "application/vnd.jupyter.widget-view+json": {
       "model_id": "8c21926b18194945b729c6827c02e122",
       "version_major": 2,
       "version_minor": 0
      },
      "text/plain": [
       "  0%|          | 0/3 [00:00<?, ?it/s]"
      ]
     },
     "metadata": {},
     "output_type": "display_data"
    },
    {
     "name": "stderr",
     "output_type": "stream",
     "text": [
      "16:24:51 - cmdstanpy - INFO - Chain [1] start processing\n",
      "16:24:51 - cmdstanpy - INFO - Chain [1] done processing\n",
      "16:24:51 - cmdstanpy - INFO - Chain [1] start processing\n",
      "16:24:51 - cmdstanpy - INFO - Chain [1] done processing\n",
      "16:24:52 - cmdstanpy - INFO - Chain [1] start processing\n",
      "16:24:52 - cmdstanpy - INFO - Chain [1] done processing\n",
      "16:24:52 - cmdstanpy - INFO - Chain [1] start processing\n",
      "16:24:52 - cmdstanpy - INFO - Chain [1] done processing\n",
      "Seasonality has period of 365.25 days which is larger than initial window. Consider increasing initial.\n"
     ]
    },
    {
     "data": {
      "application/vnd.jupyter.widget-view+json": {
       "model_id": "6e05f03d5f7b46058c7bec3935667477",
       "version_major": 2,
       "version_minor": 0
      },
      "text/plain": [
       "  0%|          | 0/3 [00:00<?, ?it/s]"
      ]
     },
     "metadata": {},
     "output_type": "display_data"
    },
    {
     "name": "stderr",
     "output_type": "stream",
     "text": [
      "16:24:52 - cmdstanpy - INFO - Chain [1] start processing\n",
      "16:24:52 - cmdstanpy - INFO - Chain [1] done processing\n",
      "16:24:53 - cmdstanpy - INFO - Chain [1] start processing\n",
      "16:24:53 - cmdstanpy - INFO - Chain [1] done processing\n",
      "16:24:53 - cmdstanpy - INFO - Chain [1] start processing\n",
      "16:24:53 - cmdstanpy - INFO - Chain [1] done processing\n",
      "16:24:53 - cmdstanpy - INFO - Chain [1] start processing\n",
      "16:24:54 - cmdstanpy - INFO - Chain [1] done processing\n",
      "Seasonality has period of 365.25 days which is larger than initial window. Consider increasing initial.\n"
     ]
    },
    {
     "data": {
      "application/vnd.jupyter.widget-view+json": {
       "model_id": "ea151704e6c64329abee3bceb34cad21",
       "version_major": 2,
       "version_minor": 0
      },
      "text/plain": [
       "  0%|          | 0/3 [00:00<?, ?it/s]"
      ]
     },
     "metadata": {},
     "output_type": "display_data"
    },
    {
     "name": "stderr",
     "output_type": "stream",
     "text": [
      "16:24:54 - cmdstanpy - INFO - Chain [1] start processing\n",
      "16:24:54 - cmdstanpy - INFO - Chain [1] done processing\n",
      "16:24:54 - cmdstanpy - INFO - Chain [1] start processing\n",
      "16:24:54 - cmdstanpy - INFO - Chain [1] done processing\n",
      "16:24:54 - cmdstanpy - INFO - Chain [1] start processing\n",
      "16:24:54 - cmdstanpy - INFO - Chain [1] done processing\n",
      "16:24:55 - cmdstanpy - INFO - Chain [1] start processing\n",
      "16:24:55 - cmdstanpy - INFO - Chain [1] done processing\n",
      "Seasonality has period of 365.25 days which is larger than initial window. Consider increasing initial.\n"
     ]
    },
    {
     "data": {
      "application/vnd.jupyter.widget-view+json": {
       "model_id": "0830b845df67454a81a4565a139149aa",
       "version_major": 2,
       "version_minor": 0
      },
      "text/plain": [
       "  0%|          | 0/3 [00:00<?, ?it/s]"
      ]
     },
     "metadata": {},
     "output_type": "display_data"
    },
    {
     "name": "stderr",
     "output_type": "stream",
     "text": [
      "16:24:55 - cmdstanpy - INFO - Chain [1] start processing\n",
      "16:24:55 - cmdstanpy - INFO - Chain [1] done processing\n",
      "16:24:55 - cmdstanpy - INFO - Chain [1] start processing\n",
      "16:24:55 - cmdstanpy - INFO - Chain [1] done processing\n",
      "16:24:56 - cmdstanpy - INFO - Chain [1] start processing\n",
      "16:24:56 - cmdstanpy - INFO - Chain [1] done processing\n",
      "16:24:56 - cmdstanpy - INFO - Chain [1] start processing\n",
      "16:24:56 - cmdstanpy - INFO - Chain [1] done processing\n",
      "Seasonality has period of 365.25 days which is larger than initial window. Consider increasing initial.\n"
     ]
    },
    {
     "data": {
      "application/vnd.jupyter.widget-view+json": {
       "model_id": "1dce91e25a99447db65880961136657c",
       "version_major": 2,
       "version_minor": 0
      },
      "text/plain": [
       "  0%|          | 0/3 [00:00<?, ?it/s]"
      ]
     },
     "metadata": {},
     "output_type": "display_data"
    },
    {
     "name": "stderr",
     "output_type": "stream",
     "text": [
      "16:24:56 - cmdstanpy - INFO - Chain [1] start processing\n",
      "16:24:56 - cmdstanpy - INFO - Chain [1] done processing\n",
      "16:24:57 - cmdstanpy - INFO - Chain [1] start processing\n",
      "16:24:57 - cmdstanpy - INFO - Chain [1] done processing\n",
      "16:24:57 - cmdstanpy - INFO - Chain [1] start processing\n",
      "16:24:57 - cmdstanpy - INFO - Chain [1] done processing\n",
      "16:24:58 - cmdstanpy - INFO - Chain [1] start processing\n",
      "16:24:58 - cmdstanpy - INFO - Chain [1] done processing\n",
      "Seasonality has period of 365.25 days which is larger than initial window. Consider increasing initial.\n"
     ]
    },
    {
     "data": {
      "application/vnd.jupyter.widget-view+json": {
       "model_id": "6402bd96bc4040ffa57b4566c9e20850",
       "version_major": 2,
       "version_minor": 0
      },
      "text/plain": [
       "  0%|          | 0/3 [00:00<?, ?it/s]"
      ]
     },
     "metadata": {},
     "output_type": "display_data"
    },
    {
     "name": "stderr",
     "output_type": "stream",
     "text": [
      "16:24:58 - cmdstanpy - INFO - Chain [1] start processing\n",
      "16:24:58 - cmdstanpy - INFO - Chain [1] done processing\n",
      "16:24:58 - cmdstanpy - INFO - Chain [1] start processing\n",
      "16:24:58 - cmdstanpy - INFO - Chain [1] done processing\n",
      "16:24:58 - cmdstanpy - INFO - Chain [1] start processing\n",
      "16:24:59 - cmdstanpy - INFO - Chain [1] done processing\n",
      "16:24:59 - cmdstanpy - INFO - Chain [1] start processing\n",
      "16:24:59 - cmdstanpy - INFO - Chain [1] done processing\n",
      "Seasonality has period of 365.25 days which is larger than initial window. Consider increasing initial.\n"
     ]
    },
    {
     "data": {
      "application/vnd.jupyter.widget-view+json": {
       "model_id": "cc30a16d889c445cbb5b8eb097722241",
       "version_major": 2,
       "version_minor": 0
      },
      "text/plain": [
       "  0%|          | 0/3 [00:00<?, ?it/s]"
      ]
     },
     "metadata": {},
     "output_type": "display_data"
    },
    {
     "name": "stderr",
     "output_type": "stream",
     "text": [
      "16:24:59 - cmdstanpy - INFO - Chain [1] start processing\n",
      "16:24:59 - cmdstanpy - INFO - Chain [1] done processing\n",
      "16:25:00 - cmdstanpy - INFO - Chain [1] start processing\n",
      "16:25:00 - cmdstanpy - INFO - Chain [1] done processing\n",
      "16:25:00 - cmdstanpy - INFO - Chain [1] start processing\n",
      "16:25:00 - cmdstanpy - INFO - Chain [1] done processing\n",
      "16:25:00 - cmdstanpy - INFO - Chain [1] start processing\n",
      "16:25:01 - cmdstanpy - INFO - Chain [1] done processing\n",
      "Seasonality has period of 365.25 days which is larger than initial window. Consider increasing initial.\n"
     ]
    },
    {
     "data": {
      "application/vnd.jupyter.widget-view+json": {
       "model_id": "fde102770c9e475e95c4660dfc11d14a",
       "version_major": 2,
       "version_minor": 0
      },
      "text/plain": [
       "  0%|          | 0/3 [00:00<?, ?it/s]"
      ]
     },
     "metadata": {},
     "output_type": "display_data"
    },
    {
     "name": "stderr",
     "output_type": "stream",
     "text": [
      "16:25:01 - cmdstanpy - INFO - Chain [1] start processing\n",
      "16:25:01 - cmdstanpy - INFO - Chain [1] done processing\n",
      "16:25:01 - cmdstanpy - INFO - Chain [1] start processing\n",
      "16:25:01 - cmdstanpy - INFO - Chain [1] done processing\n",
      "16:25:01 - cmdstanpy - INFO - Chain [1] start processing\n",
      "16:25:01 - cmdstanpy - INFO - Chain [1] done processing\n",
      "16:25:02 - cmdstanpy - INFO - Chain [1] start processing\n",
      "16:25:02 - cmdstanpy - INFO - Chain [1] done processing\n",
      "Seasonality has period of 365.25 days which is larger than initial window. Consider increasing initial.\n"
     ]
    },
    {
     "data": {
      "application/vnd.jupyter.widget-view+json": {
       "model_id": "3a4a4f8d70ee4da59a6ba3652492df3a",
       "version_major": 2,
       "version_minor": 0
      },
      "text/plain": [
       "  0%|          | 0/3 [00:00<?, ?it/s]"
      ]
     },
     "metadata": {},
     "output_type": "display_data"
    },
    {
     "name": "stderr",
     "output_type": "stream",
     "text": [
      "16:25:02 - cmdstanpy - INFO - Chain [1] start processing\n",
      "16:25:02 - cmdstanpy - INFO - Chain [1] done processing\n",
      "16:25:02 - cmdstanpy - INFO - Chain [1] start processing\n",
      "16:25:02 - cmdstanpy - INFO - Chain [1] done processing\n",
      "16:25:03 - cmdstanpy - INFO - Chain [1] start processing\n",
      "16:25:03 - cmdstanpy - INFO - Chain [1] done processing\n",
      "16:25:03 - cmdstanpy - INFO - Chain [1] start processing\n",
      "16:25:03 - cmdstanpy - INFO - Chain [1] done processing\n",
      "Seasonality has period of 365.25 days which is larger than initial window. Consider increasing initial.\n"
     ]
    },
    {
     "data": {
      "application/vnd.jupyter.widget-view+json": {
       "model_id": "63721fb8215d4dc29d866b377866e23e",
       "version_major": 2,
       "version_minor": 0
      },
      "text/plain": [
       "  0%|          | 0/3 [00:00<?, ?it/s]"
      ]
     },
     "metadata": {},
     "output_type": "display_data"
    },
    {
     "name": "stderr",
     "output_type": "stream",
     "text": [
      "16:25:04 - cmdstanpy - INFO - Chain [1] start processing\n",
      "16:25:04 - cmdstanpy - INFO - Chain [1] done processing\n",
      "16:25:04 - cmdstanpy - INFO - Chain [1] start processing\n",
      "16:25:04 - cmdstanpy - INFO - Chain [1] done processing\n",
      "16:25:04 - cmdstanpy - INFO - Chain [1] start processing\n",
      "16:25:04 - cmdstanpy - INFO - Chain [1] done processing\n",
      "16:25:05 - cmdstanpy - INFO - Chain [1] start processing\n",
      "16:25:05 - cmdstanpy - INFO - Chain [1] done processing\n",
      "Seasonality has period of 365.25 days which is larger than initial window. Consider increasing initial.\n"
     ]
    },
    {
     "data": {
      "application/vnd.jupyter.widget-view+json": {
       "model_id": "b1db7f4c5ffd4734baa6f79c654d143c",
       "version_major": 2,
       "version_minor": 0
      },
      "text/plain": [
       "  0%|          | 0/3 [00:00<?, ?it/s]"
      ]
     },
     "metadata": {},
     "output_type": "display_data"
    },
    {
     "name": "stderr",
     "output_type": "stream",
     "text": [
      "16:25:05 - cmdstanpy - INFO - Chain [1] start processing\n",
      "16:25:05 - cmdstanpy - INFO - Chain [1] done processing\n",
      "16:25:05 - cmdstanpy - INFO - Chain [1] start processing\n",
      "16:25:05 - cmdstanpy - INFO - Chain [1] done processing\n",
      "16:25:06 - cmdstanpy - INFO - Chain [1] start processing\n",
      "16:25:06 - cmdstanpy - INFO - Chain [1] done processing\n",
      "16:25:06 - cmdstanpy - INFO - Chain [1] start processing\n",
      "16:25:06 - cmdstanpy - INFO - Chain [1] done processing\n",
      "Seasonality has period of 365.25 days which is larger than initial window. Consider increasing initial.\n"
     ]
    },
    {
     "data": {
      "application/vnd.jupyter.widget-view+json": {
       "model_id": "facc6097ed6246ffa754e5e6598b6db0",
       "version_major": 2,
       "version_minor": 0
      },
      "text/plain": [
       "  0%|          | 0/3 [00:00<?, ?it/s]"
      ]
     },
     "metadata": {},
     "output_type": "display_data"
    },
    {
     "name": "stderr",
     "output_type": "stream",
     "text": [
      "16:25:06 - cmdstanpy - INFO - Chain [1] start processing\n",
      "16:25:06 - cmdstanpy - INFO - Chain [1] done processing\n",
      "16:25:07 - cmdstanpy - INFO - Chain [1] start processing\n",
      "16:25:07 - cmdstanpy - INFO - Chain [1] done processing\n",
      "16:25:07 - cmdstanpy - INFO - Chain [1] start processing\n",
      "16:25:07 - cmdstanpy - INFO - Chain [1] done processing\n",
      "16:25:07 - cmdstanpy - INFO - Chain [1] start processing\n",
      "16:25:07 - cmdstanpy - INFO - Chain [1] done processing\n",
      "Seasonality has period of 365.25 days which is larger than initial window. Consider increasing initial.\n"
     ]
    },
    {
     "data": {
      "application/vnd.jupyter.widget-view+json": {
       "model_id": "f3ebbcaa40fa4d13a491c2cb004ced35",
       "version_major": 2,
       "version_minor": 0
      },
      "text/plain": [
       "  0%|          | 0/3 [00:00<?, ?it/s]"
      ]
     },
     "metadata": {},
     "output_type": "display_data"
    },
    {
     "name": "stderr",
     "output_type": "stream",
     "text": [
      "16:25:08 - cmdstanpy - INFO - Chain [1] start processing\n",
      "16:25:08 - cmdstanpy - INFO - Chain [1] done processing\n",
      "16:25:08 - cmdstanpy - INFO - Chain [1] start processing\n",
      "16:25:08 - cmdstanpy - INFO - Chain [1] done processing\n",
      "16:25:08 - cmdstanpy - INFO - Chain [1] start processing\n",
      "16:25:08 - cmdstanpy - INFO - Chain [1] done processing\n",
      "16:25:09 - cmdstanpy - INFO - Chain [1] start processing\n",
      "16:25:09 - cmdstanpy - INFO - Chain [1] done processing\n",
      "Seasonality has period of 365.25 days which is larger than initial window. Consider increasing initial.\n"
     ]
    },
    {
     "data": {
      "application/vnd.jupyter.widget-view+json": {
       "model_id": "04b85ce032e4487dbf661cabd6917133",
       "version_major": 2,
       "version_minor": 0
      },
      "text/plain": [
       "  0%|          | 0/3 [00:00<?, ?it/s]"
      ]
     },
     "metadata": {},
     "output_type": "display_data"
    },
    {
     "name": "stderr",
     "output_type": "stream",
     "text": [
      "16:25:09 - cmdstanpy - INFO - Chain [1] start processing\n",
      "16:25:09 - cmdstanpy - INFO - Chain [1] done processing\n",
      "16:25:09 - cmdstanpy - INFO - Chain [1] start processing\n",
      "16:25:09 - cmdstanpy - INFO - Chain [1] done processing\n",
      "16:25:10 - cmdstanpy - INFO - Chain [1] start processing\n",
      "16:25:10 - cmdstanpy - INFO - Chain [1] done processing\n",
      "16:25:10 - cmdstanpy - INFO - Chain [1] start processing\n",
      "16:25:10 - cmdstanpy - INFO - Chain [1] done processing\n",
      "Seasonality has period of 365.25 days which is larger than initial window. Consider increasing initial.\n"
     ]
    },
    {
     "data": {
      "application/vnd.jupyter.widget-view+json": {
       "model_id": "20a45b762c18439890c95933ba02336e",
       "version_major": 2,
       "version_minor": 0
      },
      "text/plain": [
       "  0%|          | 0/3 [00:00<?, ?it/s]"
      ]
     },
     "metadata": {},
     "output_type": "display_data"
    },
    {
     "name": "stderr",
     "output_type": "stream",
     "text": [
      "16:25:10 - cmdstanpy - INFO - Chain [1] start processing\n",
      "16:25:10 - cmdstanpy - INFO - Chain [1] done processing\n",
      "16:25:11 - cmdstanpy - INFO - Chain [1] start processing\n",
      "16:25:11 - cmdstanpy - INFO - Chain [1] done processing\n",
      "16:25:11 - cmdstanpy - INFO - Chain [1] start processing\n",
      "16:25:11 - cmdstanpy - INFO - Chain [1] done processing\n",
      "16:25:11 - cmdstanpy - INFO - Chain [1] start processing\n",
      "16:25:12 - cmdstanpy - INFO - Chain [1] done processing\n",
      "Seasonality has period of 365.25 days which is larger than initial window. Consider increasing initial.\n"
     ]
    },
    {
     "data": {
      "application/vnd.jupyter.widget-view+json": {
       "model_id": "59eb88387a2d4059b5f9d6354ba8cf14",
       "version_major": 2,
       "version_minor": 0
      },
      "text/plain": [
       "  0%|          | 0/3 [00:00<?, ?it/s]"
      ]
     },
     "metadata": {},
     "output_type": "display_data"
    },
    {
     "name": "stderr",
     "output_type": "stream",
     "text": [
      "16:25:12 - cmdstanpy - INFO - Chain [1] start processing\n",
      "16:25:12 - cmdstanpy - INFO - Chain [1] done processing\n",
      "16:25:12 - cmdstanpy - INFO - Chain [1] start processing\n",
      "16:25:12 - cmdstanpy - INFO - Chain [1] done processing\n",
      "16:25:12 - cmdstanpy - INFO - Chain [1] start processing\n",
      "16:25:12 - cmdstanpy - INFO - Chain [1] done processing\n",
      "16:25:13 - cmdstanpy - INFO - Chain [1] start processing\n",
      "16:25:13 - cmdstanpy - INFO - Chain [1] done processing\n",
      "Seasonality has period of 365.25 days which is larger than initial window. Consider increasing initial.\n"
     ]
    },
    {
     "data": {
      "application/vnd.jupyter.widget-view+json": {
       "model_id": "04d56413c50d4044a67801a01f733eb3",
       "version_major": 2,
       "version_minor": 0
      },
      "text/plain": [
       "  0%|          | 0/3 [00:00<?, ?it/s]"
      ]
     },
     "metadata": {},
     "output_type": "display_data"
    },
    {
     "name": "stderr",
     "output_type": "stream",
     "text": [
      "16:25:13 - cmdstanpy - INFO - Chain [1] start processing\n",
      "16:25:13 - cmdstanpy - INFO - Chain [1] done processing\n",
      "16:25:13 - cmdstanpy - INFO - Chain [1] start processing\n",
      "16:25:13 - cmdstanpy - INFO - Chain [1] done processing\n",
      "16:25:14 - cmdstanpy - INFO - Chain [1] start processing\n",
      "16:25:14 - cmdstanpy - INFO - Chain [1] done processing\n",
      "16:25:14 - cmdstanpy - INFO - Chain [1] start processing\n",
      "16:25:14 - cmdstanpy - INFO - Chain [1] done processing\n",
      "Seasonality has period of 365.25 days which is larger than initial window. Consider increasing initial.\n"
     ]
    },
    {
     "data": {
      "application/vnd.jupyter.widget-view+json": {
       "model_id": "c50b88e3635b4310af7cfba137fa0880",
       "version_major": 2,
       "version_minor": 0
      },
      "text/plain": [
       "  0%|          | 0/3 [00:00<?, ?it/s]"
      ]
     },
     "metadata": {},
     "output_type": "display_data"
    },
    {
     "name": "stderr",
     "output_type": "stream",
     "text": [
      "16:25:15 - cmdstanpy - INFO - Chain [1] start processing\n",
      "16:25:15 - cmdstanpy - INFO - Chain [1] done processing\n",
      "16:25:15 - cmdstanpy - INFO - Chain [1] start processing\n",
      "16:25:15 - cmdstanpy - INFO - Chain [1] done processing\n",
      "16:25:15 - cmdstanpy - INFO - Chain [1] start processing\n",
      "16:25:15 - cmdstanpy - INFO - Chain [1] done processing\n",
      "16:25:16 - cmdstanpy - INFO - Chain [1] start processing\n",
      "16:25:16 - cmdstanpy - INFO - Chain [1] done processing\n",
      "Seasonality has period of 365.25 days which is larger than initial window. Consider increasing initial.\n"
     ]
    },
    {
     "data": {
      "application/vnd.jupyter.widget-view+json": {
       "model_id": "2986b3b50487486b89af1cf9222c4f0f",
       "version_major": 2,
       "version_minor": 0
      },
      "text/plain": [
       "  0%|          | 0/3 [00:00<?, ?it/s]"
      ]
     },
     "metadata": {},
     "output_type": "display_data"
    },
    {
     "name": "stderr",
     "output_type": "stream",
     "text": [
      "16:25:16 - cmdstanpy - INFO - Chain [1] start processing\n",
      "16:25:16 - cmdstanpy - INFO - Chain [1] done processing\n",
      "16:25:16 - cmdstanpy - INFO - Chain [1] start processing\n",
      "16:25:16 - cmdstanpy - INFO - Chain [1] done processing\n",
      "16:25:17 - cmdstanpy - INFO - Chain [1] start processing\n",
      "16:25:17 - cmdstanpy - INFO - Chain [1] done processing\n",
      "16:25:17 - cmdstanpy - INFO - Chain [1] start processing\n",
      "16:25:17 - cmdstanpy - INFO - Chain [1] done processing\n",
      "Seasonality has period of 365.25 days which is larger than initial window. Consider increasing initial.\n"
     ]
    },
    {
     "data": {
      "application/vnd.jupyter.widget-view+json": {
       "model_id": "f63d5d7324fa4739b7d661794c607cdb",
       "version_major": 2,
       "version_minor": 0
      },
      "text/plain": [
       "  0%|          | 0/3 [00:00<?, ?it/s]"
      ]
     },
     "metadata": {},
     "output_type": "display_data"
    },
    {
     "name": "stderr",
     "output_type": "stream",
     "text": [
      "16:25:17 - cmdstanpy - INFO - Chain [1] start processing\n",
      "16:25:17 - cmdstanpy - INFO - Chain [1] done processing\n",
      "16:25:18 - cmdstanpy - INFO - Chain [1] start processing\n",
      "16:25:18 - cmdstanpy - INFO - Chain [1] done processing\n",
      "16:25:18 - cmdstanpy - INFO - Chain [1] start processing\n",
      "16:25:18 - cmdstanpy - INFO - Chain [1] done processing\n",
      "16:25:18 - cmdstanpy - INFO - Chain [1] start processing\n",
      "16:25:19 - cmdstanpy - INFO - Chain [1] done processing\n",
      "Seasonality has period of 365.25 days which is larger than initial window. Consider increasing initial.\n"
     ]
    },
    {
     "data": {
      "application/vnd.jupyter.widget-view+json": {
       "model_id": "556fde8caf794feb89ed126bbfde5da8",
       "version_major": 2,
       "version_minor": 0
      },
      "text/plain": [
       "  0%|          | 0/3 [00:00<?, ?it/s]"
      ]
     },
     "metadata": {},
     "output_type": "display_data"
    },
    {
     "name": "stderr",
     "output_type": "stream",
     "text": [
      "16:25:19 - cmdstanpy - INFO - Chain [1] start processing\n",
      "16:25:19 - cmdstanpy - INFO - Chain [1] done processing\n",
      "16:25:19 - cmdstanpy - INFO - Chain [1] start processing\n",
      "16:25:19 - cmdstanpy - INFO - Chain [1] done processing\n",
      "16:25:19 - cmdstanpy - INFO - Chain [1] start processing\n",
      "16:25:20 - cmdstanpy - INFO - Chain [1] done processing\n",
      "16:25:20 - cmdstanpy - INFO - Chain [1] start processing\n",
      "16:25:20 - cmdstanpy - INFO - Chain [1] done processing\n",
      "Seasonality has period of 365.25 days which is larger than initial window. Consider increasing initial.\n"
     ]
    },
    {
     "data": {
      "application/vnd.jupyter.widget-view+json": {
       "model_id": "c94b756e086a43b183e75e55dd10f8cb",
       "version_major": 2,
       "version_minor": 0
      },
      "text/plain": [
       "  0%|          | 0/3 [00:00<?, ?it/s]"
      ]
     },
     "metadata": {},
     "output_type": "display_data"
    },
    {
     "name": "stderr",
     "output_type": "stream",
     "text": [
      "16:25:20 - cmdstanpy - INFO - Chain [1] start processing\n",
      "16:25:20 - cmdstanpy - INFO - Chain [1] done processing\n",
      "16:25:20 - cmdstanpy - INFO - Chain [1] start processing\n",
      "16:25:21 - cmdstanpy - INFO - Chain [1] done processing\n",
      "16:25:21 - cmdstanpy - INFO - Chain [1] start processing\n",
      "16:25:21 - cmdstanpy - INFO - Chain [1] done processing\n",
      "16:25:21 - cmdstanpy - INFO - Chain [1] start processing\n",
      "16:25:21 - cmdstanpy - INFO - Chain [1] done processing\n",
      "Seasonality has period of 365.25 days which is larger than initial window. Consider increasing initial.\n"
     ]
    },
    {
     "data": {
      "application/vnd.jupyter.widget-view+json": {
       "model_id": "ddff6d1a4a324323860125bfe342e1dd",
       "version_major": 2,
       "version_minor": 0
      },
      "text/plain": [
       "  0%|          | 0/3 [00:00<?, ?it/s]"
      ]
     },
     "metadata": {},
     "output_type": "display_data"
    },
    {
     "name": "stderr",
     "output_type": "stream",
     "text": [
      "16:25:22 - cmdstanpy - INFO - Chain [1] start processing\n",
      "16:25:22 - cmdstanpy - INFO - Chain [1] done processing\n",
      "16:25:22 - cmdstanpy - INFO - Chain [1] start processing\n",
      "16:25:22 - cmdstanpy - INFO - Chain [1] done processing\n",
      "16:25:22 - cmdstanpy - INFO - Chain [1] start processing\n",
      "16:25:22 - cmdstanpy - INFO - Chain [1] done processing\n",
      "16:25:23 - cmdstanpy - INFO - Chain [1] start processing\n",
      "16:25:23 - cmdstanpy - INFO - Chain [1] done processing\n",
      "Seasonality has period of 365.25 days which is larger than initial window. Consider increasing initial.\n"
     ]
    },
    {
     "data": {
      "application/vnd.jupyter.widget-view+json": {
       "model_id": "6e2f979a8307470fb9c7f1dd23c09ea4",
       "version_major": 2,
       "version_minor": 0
      },
      "text/plain": [
       "  0%|          | 0/3 [00:00<?, ?it/s]"
      ]
     },
     "metadata": {},
     "output_type": "display_data"
    },
    {
     "name": "stderr",
     "output_type": "stream",
     "text": [
      "16:25:23 - cmdstanpy - INFO - Chain [1] start processing\n",
      "16:25:23 - cmdstanpy - INFO - Chain [1] done processing\n",
      "16:25:23 - cmdstanpy - INFO - Chain [1] start processing\n",
      "16:25:23 - cmdstanpy - INFO - Chain [1] done processing\n",
      "16:25:24 - cmdstanpy - INFO - Chain [1] start processing\n",
      "16:25:24 - cmdstanpy - INFO - Chain [1] done processing\n",
      "16:25:24 - cmdstanpy - INFO - Chain [1] start processing\n",
      "16:25:24 - cmdstanpy - INFO - Chain [1] done processing\n",
      "Seasonality has period of 365.25 days which is larger than initial window. Consider increasing initial.\n"
     ]
    },
    {
     "data": {
      "application/vnd.jupyter.widget-view+json": {
       "model_id": "a9e6c1cb32b44ea5b093bda7d9dccea8",
       "version_major": 2,
       "version_minor": 0
      },
      "text/plain": [
       "  0%|          | 0/3 [00:00<?, ?it/s]"
      ]
     },
     "metadata": {},
     "output_type": "display_data"
    },
    {
     "name": "stderr",
     "output_type": "stream",
     "text": [
      "16:25:24 - cmdstanpy - INFO - Chain [1] start processing\n",
      "16:25:24 - cmdstanpy - INFO - Chain [1] done processing\n",
      "16:25:25 - cmdstanpy - INFO - Chain [1] start processing\n",
      "16:25:25 - cmdstanpy - INFO - Chain [1] done processing\n",
      "16:25:25 - cmdstanpy - INFO - Chain [1] start processing\n",
      "16:25:25 - cmdstanpy - INFO - Chain [1] done processing\n",
      "16:25:26 - cmdstanpy - INFO - Chain [1] start processing\n",
      "16:25:26 - cmdstanpy - INFO - Chain [1] done processing\n",
      "Seasonality has period of 365.25 days which is larger than initial window. Consider increasing initial.\n"
     ]
    },
    {
     "data": {
      "application/vnd.jupyter.widget-view+json": {
       "model_id": "bfa169bd6ec1477e94a8bea161ef1bae",
       "version_major": 2,
       "version_minor": 0
      },
      "text/plain": [
       "  0%|          | 0/3 [00:00<?, ?it/s]"
      ]
     },
     "metadata": {},
     "output_type": "display_data"
    },
    {
     "name": "stderr",
     "output_type": "stream",
     "text": [
      "16:25:26 - cmdstanpy - INFO - Chain [1] start processing\n",
      "16:25:26 - cmdstanpy - INFO - Chain [1] done processing\n",
      "16:25:26 - cmdstanpy - INFO - Chain [1] start processing\n",
      "16:25:26 - cmdstanpy - INFO - Chain [1] done processing\n",
      "16:25:26 - cmdstanpy - INFO - Chain [1] start processing\n",
      "16:25:27 - cmdstanpy - INFO - Chain [1] done processing\n",
      "16:25:27 - cmdstanpy - INFO - Chain [1] start processing\n",
      "16:25:27 - cmdstanpy - INFO - Chain [1] done processing\n",
      "Seasonality has period of 365.25 days which is larger than initial window. Consider increasing initial.\n"
     ]
    },
    {
     "data": {
      "application/vnd.jupyter.widget-view+json": {
       "model_id": "3b501926f5674a23a45540041304a786",
       "version_major": 2,
       "version_minor": 0
      },
      "text/plain": [
       "  0%|          | 0/3 [00:00<?, ?it/s]"
      ]
     },
     "metadata": {},
     "output_type": "display_data"
    },
    {
     "name": "stderr",
     "output_type": "stream",
     "text": [
      "16:25:27 - cmdstanpy - INFO - Chain [1] start processing\n",
      "16:25:27 - cmdstanpy - INFO - Chain [1] done processing\n",
      "16:25:27 - cmdstanpy - INFO - Chain [1] start processing\n",
      "16:25:27 - cmdstanpy - INFO - Chain [1] done processing\n",
      "16:25:28 - cmdstanpy - INFO - Chain [1] start processing\n",
      "16:25:28 - cmdstanpy - INFO - Chain [1] done processing\n",
      "16:25:28 - cmdstanpy - INFO - Chain [1] start processing\n",
      "16:25:28 - cmdstanpy - INFO - Chain [1] done processing\n",
      "Seasonality has period of 365.25 days which is larger than initial window. Consider increasing initial.\n"
     ]
    },
    {
     "data": {
      "application/vnd.jupyter.widget-view+json": {
       "model_id": "6214d0c308c14f5297a48d21d9aca306",
       "version_major": 2,
       "version_minor": 0
      },
      "text/plain": [
       "  0%|          | 0/3 [00:00<?, ?it/s]"
      ]
     },
     "metadata": {},
     "output_type": "display_data"
    },
    {
     "name": "stderr",
     "output_type": "stream",
     "text": [
      "16:25:28 - cmdstanpy - INFO - Chain [1] start processing\n",
      "16:25:29 - cmdstanpy - INFO - Chain [1] done processing\n",
      "16:25:29 - cmdstanpy - INFO - Chain [1] start processing\n",
      "16:25:29 - cmdstanpy - INFO - Chain [1] done processing\n",
      "16:25:29 - cmdstanpy - INFO - Chain [1] start processing\n",
      "16:25:29 - cmdstanpy - INFO - Chain [1] done processing\n",
      "16:25:30 - cmdstanpy - INFO - Chain [1] start processing\n",
      "16:25:30 - cmdstanpy - INFO - Chain [1] done processing\n",
      "Seasonality has period of 365.25 days which is larger than initial window. Consider increasing initial.\n"
     ]
    },
    {
     "data": {
      "application/vnd.jupyter.widget-view+json": {
       "model_id": "5c0226da4621480ea533c10b27868425",
       "version_major": 2,
       "version_minor": 0
      },
      "text/plain": [
       "  0%|          | 0/3 [00:00<?, ?it/s]"
      ]
     },
     "metadata": {},
     "output_type": "display_data"
    },
    {
     "name": "stderr",
     "output_type": "stream",
     "text": [
      "16:25:30 - cmdstanpy - INFO - Chain [1] start processing\n",
      "16:25:30 - cmdstanpy - INFO - Chain [1] done processing\n",
      "16:25:30 - cmdstanpy - INFO - Chain [1] start processing\n",
      "16:25:30 - cmdstanpy - INFO - Chain [1] done processing\n",
      "16:25:31 - cmdstanpy - INFO - Chain [1] start processing\n",
      "16:25:31 - cmdstanpy - INFO - Chain [1] done processing\n",
      "16:25:31 - cmdstanpy - INFO - Chain [1] start processing\n",
      "16:25:31 - cmdstanpy - INFO - Chain [1] done processing\n",
      "Seasonality has period of 365.25 days which is larger than initial window. Consider increasing initial.\n"
     ]
    },
    {
     "data": {
      "application/vnd.jupyter.widget-view+json": {
       "model_id": "5f1e262e70b94840b1e2ed372ce1663e",
       "version_major": 2,
       "version_minor": 0
      },
      "text/plain": [
       "  0%|          | 0/3 [00:00<?, ?it/s]"
      ]
     },
     "metadata": {},
     "output_type": "display_data"
    },
    {
     "name": "stderr",
     "output_type": "stream",
     "text": [
      "16:25:32 - cmdstanpy - INFO - Chain [1] start processing\n",
      "16:25:32 - cmdstanpy - INFO - Chain [1] done processing\n",
      "16:25:32 - cmdstanpy - INFO - Chain [1] start processing\n",
      "16:25:32 - cmdstanpy - INFO - Chain [1] done processing\n",
      "16:25:32 - cmdstanpy - INFO - Chain [1] start processing\n",
      "16:25:32 - cmdstanpy - INFO - Chain [1] done processing\n",
      "16:25:33 - cmdstanpy - INFO - Chain [1] start processing\n",
      "16:25:33 - cmdstanpy - INFO - Chain [1] done processing\n",
      "Seasonality has period of 365.25 days which is larger than initial window. Consider increasing initial.\n"
     ]
    },
    {
     "data": {
      "application/vnd.jupyter.widget-view+json": {
       "model_id": "20a7b4d9b3014637a9374ef4d73b96cd",
       "version_major": 2,
       "version_minor": 0
      },
      "text/plain": [
       "  0%|          | 0/3 [00:00<?, ?it/s]"
      ]
     },
     "metadata": {},
     "output_type": "display_data"
    },
    {
     "name": "stderr",
     "output_type": "stream",
     "text": [
      "16:25:33 - cmdstanpy - INFO - Chain [1] start processing\n",
      "16:25:33 - cmdstanpy - INFO - Chain [1] done processing\n",
      "16:25:33 - cmdstanpy - INFO - Chain [1] start processing\n",
      "16:25:33 - cmdstanpy - INFO - Chain [1] done processing\n",
      "16:25:34 - cmdstanpy - INFO - Chain [1] start processing\n",
      "16:25:34 - cmdstanpy - INFO - Chain [1] done processing\n",
      "16:25:34 - cmdstanpy - INFO - Chain [1] start processing\n",
      "16:25:34 - cmdstanpy - INFO - Chain [1] done processing\n",
      "Seasonality has period of 365.25 days which is larger than initial window. Consider increasing initial.\n"
     ]
    },
    {
     "data": {
      "application/vnd.jupyter.widget-view+json": {
       "model_id": "bcb734339bd6460e8ae7d80fc8c84e9f",
       "version_major": 2,
       "version_minor": 0
      },
      "text/plain": [
       "  0%|          | 0/3 [00:00<?, ?it/s]"
      ]
     },
     "metadata": {},
     "output_type": "display_data"
    },
    {
     "name": "stderr",
     "output_type": "stream",
     "text": [
      "16:25:34 - cmdstanpy - INFO - Chain [1] start processing\n",
      "16:25:34 - cmdstanpy - INFO - Chain [1] done processing\n",
      "16:25:35 - cmdstanpy - INFO - Chain [1] start processing\n",
      "16:25:35 - cmdstanpy - INFO - Chain [1] done processing\n",
      "16:25:35 - cmdstanpy - INFO - Chain [1] start processing\n",
      "16:25:35 - cmdstanpy - INFO - Chain [1] done processing\n",
      "16:25:36 - cmdstanpy - INFO - Chain [1] start processing\n",
      "16:25:36 - cmdstanpy - INFO - Chain [1] done processing\n",
      "Seasonality has period of 365.25 days which is larger than initial window. Consider increasing initial.\n"
     ]
    },
    {
     "data": {
      "application/vnd.jupyter.widget-view+json": {
       "model_id": "c879e5646d704dfc9fc96a2880ee58a2",
       "version_major": 2,
       "version_minor": 0
      },
      "text/plain": [
       "  0%|          | 0/3 [00:00<?, ?it/s]"
      ]
     },
     "metadata": {},
     "output_type": "display_data"
    },
    {
     "name": "stderr",
     "output_type": "stream",
     "text": [
      "16:25:36 - cmdstanpy - INFO - Chain [1] start processing\n",
      "16:25:36 - cmdstanpy - INFO - Chain [1] done processing\n",
      "16:25:36 - cmdstanpy - INFO - Chain [1] start processing\n",
      "16:25:36 - cmdstanpy - INFO - Chain [1] done processing\n",
      "16:25:37 - cmdstanpy - INFO - Chain [1] start processing\n",
      "16:25:37 - cmdstanpy - INFO - Chain [1] done processing\n",
      "16:25:37 - cmdstanpy - INFO - Chain [1] start processing\n",
      "16:25:37 - cmdstanpy - INFO - Chain [1] done processing\n",
      "Seasonality has period of 365.25 days which is larger than initial window. Consider increasing initial.\n"
     ]
    },
    {
     "data": {
      "application/vnd.jupyter.widget-view+json": {
       "model_id": "183f6dd3b8894e0b9e8cdf9a3520b55d",
       "version_major": 2,
       "version_minor": 0
      },
      "text/plain": [
       "  0%|          | 0/3 [00:00<?, ?it/s]"
      ]
     },
     "metadata": {},
     "output_type": "display_data"
    },
    {
     "name": "stderr",
     "output_type": "stream",
     "text": [
      "16:25:37 - cmdstanpy - INFO - Chain [1] start processing\n",
      "16:25:37 - cmdstanpy - INFO - Chain [1] done processing\n",
      "16:25:38 - cmdstanpy - INFO - Chain [1] start processing\n",
      "16:25:38 - cmdstanpy - INFO - Chain [1] done processing\n",
      "16:25:38 - cmdstanpy - INFO - Chain [1] start processing\n",
      "16:25:38 - cmdstanpy - INFO - Chain [1] done processing\n",
      "16:25:38 - cmdstanpy - INFO - Chain [1] start processing\n",
      "16:25:38 - cmdstanpy - INFO - Chain [1] done processing\n",
      "Seasonality has period of 365.25 days which is larger than initial window. Consider increasing initial.\n"
     ]
    },
    {
     "data": {
      "application/vnd.jupyter.widget-view+json": {
       "model_id": "40741434405f4ac8a5c0bff281c97685",
       "version_major": 2,
       "version_minor": 0
      },
      "text/plain": [
       "  0%|          | 0/3 [00:00<?, ?it/s]"
      ]
     },
     "metadata": {},
     "output_type": "display_data"
    },
    {
     "name": "stderr",
     "output_type": "stream",
     "text": [
      "16:25:39 - cmdstanpy - INFO - Chain [1] start processing\n",
      "16:25:39 - cmdstanpy - INFO - Chain [1] done processing\n",
      "16:25:39 - cmdstanpy - INFO - Chain [1] start processing\n",
      "16:25:39 - cmdstanpy - INFO - Chain [1] done processing\n",
      "16:25:39 - cmdstanpy - INFO - Chain [1] start processing\n",
      "16:25:39 - cmdstanpy - INFO - Chain [1] done processing\n",
      "16:25:40 - cmdstanpy - INFO - Chain [1] start processing\n",
      "16:25:40 - cmdstanpy - INFO - Chain [1] done processing\n",
      "Seasonality has period of 365.25 days which is larger than initial window. Consider increasing initial.\n"
     ]
    },
    {
     "data": {
      "application/vnd.jupyter.widget-view+json": {
       "model_id": "232fbdc746f045fb942ff61c6e5d3b46",
       "version_major": 2,
       "version_minor": 0
      },
      "text/plain": [
       "  0%|          | 0/3 [00:00<?, ?it/s]"
      ]
     },
     "metadata": {},
     "output_type": "display_data"
    },
    {
     "name": "stderr",
     "output_type": "stream",
     "text": [
      "16:25:40 - cmdstanpy - INFO - Chain [1] start processing\n",
      "16:25:40 - cmdstanpy - INFO - Chain [1] done processing\n",
      "16:25:40 - cmdstanpy - INFO - Chain [1] start processing\n",
      "16:25:40 - cmdstanpy - INFO - Chain [1] done processing\n",
      "16:25:41 - cmdstanpy - INFO - Chain [1] start processing\n",
      "16:25:41 - cmdstanpy - INFO - Chain [1] done processing\n",
      "16:25:41 - cmdstanpy - INFO - Chain [1] start processing\n",
      "16:25:41 - cmdstanpy - INFO - Chain [1] done processing\n",
      "Seasonality has period of 365.25 days which is larger than initial window. Consider increasing initial.\n"
     ]
    },
    {
     "data": {
      "application/vnd.jupyter.widget-view+json": {
       "model_id": "3180ebb9a46d4213afd039d39bd22b20",
       "version_major": 2,
       "version_minor": 0
      },
      "text/plain": [
       "  0%|          | 0/3 [00:00<?, ?it/s]"
      ]
     },
     "metadata": {},
     "output_type": "display_data"
    },
    {
     "name": "stderr",
     "output_type": "stream",
     "text": [
      "16:25:41 - cmdstanpy - INFO - Chain [1] start processing\n",
      "16:25:41 - cmdstanpy - INFO - Chain [1] done processing\n",
      "16:25:42 - cmdstanpy - INFO - Chain [1] start processing\n",
      "16:25:42 - cmdstanpy - INFO - Chain [1] done processing\n",
      "16:25:42 - cmdstanpy - INFO - Chain [1] start processing\n",
      "16:25:42 - cmdstanpy - INFO - Chain [1] done processing\n",
      "16:25:43 - cmdstanpy - INFO - Chain [1] start processing\n",
      "16:25:43 - cmdstanpy - INFO - Chain [1] done processing\n",
      "Seasonality has period of 365.25 days which is larger than initial window. Consider increasing initial.\n"
     ]
    },
    {
     "data": {
      "application/vnd.jupyter.widget-view+json": {
       "model_id": "bf59dcf2631c46d7825a43f930494ade",
       "version_major": 2,
       "version_minor": 0
      },
      "text/plain": [
       "  0%|          | 0/3 [00:00<?, ?it/s]"
      ]
     },
     "metadata": {},
     "output_type": "display_data"
    },
    {
     "name": "stderr",
     "output_type": "stream",
     "text": [
      "16:25:43 - cmdstanpy - INFO - Chain [1] start processing\n",
      "16:25:43 - cmdstanpy - INFO - Chain [1] done processing\n",
      "16:25:43 - cmdstanpy - INFO - Chain [1] start processing\n",
      "16:25:43 - cmdstanpy - INFO - Chain [1] done processing\n",
      "16:25:44 - cmdstanpy - INFO - Chain [1] start processing\n",
      "16:25:44 - cmdstanpy - INFO - Chain [1] done processing\n",
      "16:25:44 - cmdstanpy - INFO - Chain [1] start processing\n",
      "16:25:44 - cmdstanpy - INFO - Chain [1] done processing\n",
      "Seasonality has period of 365.25 days which is larger than initial window. Consider increasing initial.\n"
     ]
    },
    {
     "data": {
      "application/vnd.jupyter.widget-view+json": {
       "model_id": "e1a8bc179b9c4115a10e70019e1fc5e6",
       "version_major": 2,
       "version_minor": 0
      },
      "text/plain": [
       "  0%|          | 0/3 [00:00<?, ?it/s]"
      ]
     },
     "metadata": {},
     "output_type": "display_data"
    },
    {
     "name": "stderr",
     "output_type": "stream",
     "text": [
      "16:25:45 - cmdstanpy - INFO - Chain [1] start processing\n",
      "16:25:45 - cmdstanpy - INFO - Chain [1] done processing\n",
      "16:25:45 - cmdstanpy - INFO - Chain [1] start processing\n",
      "16:25:45 - cmdstanpy - INFO - Chain [1] done processing\n",
      "16:25:45 - cmdstanpy - INFO - Chain [1] start processing\n",
      "16:25:45 - cmdstanpy - INFO - Chain [1] done processing\n",
      "16:25:46 - cmdstanpy - INFO - Chain [1] start processing\n",
      "16:25:46 - cmdstanpy - INFO - Chain [1] done processing\n",
      "Seasonality has period of 365.25 days which is larger than initial window. Consider increasing initial.\n"
     ]
    },
    {
     "data": {
      "application/vnd.jupyter.widget-view+json": {
       "model_id": "76f2f66832934d1494c99c63b0dba9af",
       "version_major": 2,
       "version_minor": 0
      },
      "text/plain": [
       "  0%|          | 0/3 [00:00<?, ?it/s]"
      ]
     },
     "metadata": {},
     "output_type": "display_data"
    },
    {
     "name": "stderr",
     "output_type": "stream",
     "text": [
      "16:25:46 - cmdstanpy - INFO - Chain [1] start processing\n",
      "16:25:46 - cmdstanpy - INFO - Chain [1] done processing\n",
      "16:25:46 - cmdstanpy - INFO - Chain [1] start processing\n",
      "16:25:46 - cmdstanpy - INFO - Chain [1] done processing\n",
      "16:25:47 - cmdstanpy - INFO - Chain [1] start processing\n",
      "16:25:47 - cmdstanpy - INFO - Chain [1] done processing\n",
      "16:25:47 - cmdstanpy - INFO - Chain [1] start processing\n",
      "16:25:47 - cmdstanpy - INFO - Chain [1] done processing\n",
      "Seasonality has period of 365.25 days which is larger than initial window. Consider increasing initial.\n"
     ]
    },
    {
     "data": {
      "application/vnd.jupyter.widget-view+json": {
       "model_id": "1335d72a2de4427e8cfccdd7a3e8e6ad",
       "version_major": 2,
       "version_minor": 0
      },
      "text/plain": [
       "  0%|          | 0/3 [00:00<?, ?it/s]"
      ]
     },
     "metadata": {},
     "output_type": "display_data"
    },
    {
     "name": "stderr",
     "output_type": "stream",
     "text": [
      "16:25:47 - cmdstanpy - INFO - Chain [1] start processing\n",
      "16:25:47 - cmdstanpy - INFO - Chain [1] done processing\n",
      "16:25:48 - cmdstanpy - INFO - Chain [1] start processing\n",
      "16:25:48 - cmdstanpy - INFO - Chain [1] done processing\n",
      "16:25:48 - cmdstanpy - INFO - Chain [1] start processing\n",
      "16:25:48 - cmdstanpy - INFO - Chain [1] done processing\n",
      "16:25:49 - cmdstanpy - INFO - Chain [1] start processing\n",
      "16:25:49 - cmdstanpy - INFO - Chain [1] done processing\n",
      "Seasonality has period of 365.25 days which is larger than initial window. Consider increasing initial.\n"
     ]
    },
    {
     "data": {
      "application/vnd.jupyter.widget-view+json": {
       "model_id": "a7e7497da61a4788adc57167fa3a7d79",
       "version_major": 2,
       "version_minor": 0
      },
      "text/plain": [
       "  0%|          | 0/3 [00:00<?, ?it/s]"
      ]
     },
     "metadata": {},
     "output_type": "display_data"
    },
    {
     "name": "stderr",
     "output_type": "stream",
     "text": [
      "16:25:49 - cmdstanpy - INFO - Chain [1] start processing\n",
      "16:25:49 - cmdstanpy - INFO - Chain [1] done processing\n",
      "16:25:49 - cmdstanpy - INFO - Chain [1] start processing\n",
      "16:25:49 - cmdstanpy - INFO - Chain [1] done processing\n",
      "16:25:50 - cmdstanpy - INFO - Chain [1] start processing\n",
      "16:25:50 - cmdstanpy - INFO - Chain [1] done processing\n",
      "16:25:50 - cmdstanpy - INFO - Chain [1] start processing\n",
      "16:25:50 - cmdstanpy - INFO - Chain [1] done processing\n",
      "Seasonality has period of 365.25 days which is larger than initial window. Consider increasing initial.\n"
     ]
    },
    {
     "data": {
      "application/vnd.jupyter.widget-view+json": {
       "model_id": "45814f548bef49b9a6d9360960a3cd8d",
       "version_major": 2,
       "version_minor": 0
      },
      "text/plain": [
       "  0%|          | 0/3 [00:00<?, ?it/s]"
      ]
     },
     "metadata": {},
     "output_type": "display_data"
    },
    {
     "name": "stderr",
     "output_type": "stream",
     "text": [
      "16:25:50 - cmdstanpy - INFO - Chain [1] start processing\n",
      "16:25:50 - cmdstanpy - INFO - Chain [1] done processing\n",
      "16:25:51 - cmdstanpy - INFO - Chain [1] start processing\n",
      "16:25:51 - cmdstanpy - INFO - Chain [1] done processing\n",
      "16:25:51 - cmdstanpy - INFO - Chain [1] start processing\n",
      "16:25:51 - cmdstanpy - INFO - Chain [1] done processing\n",
      "16:25:52 - cmdstanpy - INFO - Chain [1] start processing\n",
      "16:25:52 - cmdstanpy - INFO - Chain [1] done processing\n",
      "Seasonality has period of 365.25 days which is larger than initial window. Consider increasing initial.\n"
     ]
    },
    {
     "data": {
      "application/vnd.jupyter.widget-view+json": {
       "model_id": "d080d4a810f84b18a484946b9d823057",
       "version_major": 2,
       "version_minor": 0
      },
      "text/plain": [
       "  0%|          | 0/3 [00:00<?, ?it/s]"
      ]
     },
     "metadata": {},
     "output_type": "display_data"
    },
    {
     "name": "stderr",
     "output_type": "stream",
     "text": [
      "16:25:52 - cmdstanpy - INFO - Chain [1] start processing\n",
      "16:25:52 - cmdstanpy - INFO - Chain [1] done processing\n",
      "16:25:52 - cmdstanpy - INFO - Chain [1] start processing\n",
      "16:25:52 - cmdstanpy - INFO - Chain [1] done processing\n",
      "16:25:52 - cmdstanpy - INFO - Chain [1] start processing\n",
      "16:25:53 - cmdstanpy - INFO - Chain [1] done processing\n",
      "16:25:53 - cmdstanpy - INFO - Chain [1] start processing\n",
      "16:25:53 - cmdstanpy - INFO - Chain [1] done processing\n",
      "Seasonality has period of 365.25 days which is larger than initial window. Consider increasing initial.\n"
     ]
    },
    {
     "data": {
      "application/vnd.jupyter.widget-view+json": {
       "model_id": "f3d50873c24548559b94608650464414",
       "version_major": 2,
       "version_minor": 0
      },
      "text/plain": [
       "  0%|          | 0/3 [00:00<?, ?it/s]"
      ]
     },
     "metadata": {},
     "output_type": "display_data"
    },
    {
     "name": "stderr",
     "output_type": "stream",
     "text": [
      "16:25:53 - cmdstanpy - INFO - Chain [1] start processing\n",
      "16:25:53 - cmdstanpy - INFO - Chain [1] done processing\n",
      "16:25:54 - cmdstanpy - INFO - Chain [1] start processing\n",
      "16:25:54 - cmdstanpy - INFO - Chain [1] done processing\n",
      "16:25:54 - cmdstanpy - INFO - Chain [1] start processing\n",
      "16:25:54 - cmdstanpy - INFO - Chain [1] done processing\n",
      "16:25:54 - cmdstanpy - INFO - Chain [1] start processing\n",
      "16:25:55 - cmdstanpy - INFO - Chain [1] done processing\n",
      "Seasonality has period of 365.25 days which is larger than initial window. Consider increasing initial.\n"
     ]
    },
    {
     "data": {
      "application/vnd.jupyter.widget-view+json": {
       "model_id": "d17f98c2b92343bb83575e8c4ff74041",
       "version_major": 2,
       "version_minor": 0
      },
      "text/plain": [
       "  0%|          | 0/3 [00:00<?, ?it/s]"
      ]
     },
     "metadata": {},
     "output_type": "display_data"
    },
    {
     "name": "stderr",
     "output_type": "stream",
     "text": [
      "16:25:55 - cmdstanpy - INFO - Chain [1] start processing\n",
      "16:25:55 - cmdstanpy - INFO - Chain [1] done processing\n",
      "16:25:55 - cmdstanpy - INFO - Chain [1] start processing\n",
      "16:25:55 - cmdstanpy - INFO - Chain [1] done processing\n",
      "16:25:55 - cmdstanpy - INFO - Chain [1] start processing\n",
      "16:25:56 - cmdstanpy - INFO - Chain [1] done processing\n",
      "16:25:56 - cmdstanpy - INFO - Chain [1] start processing\n",
      "16:25:56 - cmdstanpy - INFO - Chain [1] done processing\n",
      "Seasonality has period of 365.25 days which is larger than initial window. Consider increasing initial.\n"
     ]
    },
    {
     "data": {
      "application/vnd.jupyter.widget-view+json": {
       "model_id": "e7b228aa103d4018bf5d114dcf619a5c",
       "version_major": 2,
       "version_minor": 0
      },
      "text/plain": [
       "  0%|          | 0/3 [00:00<?, ?it/s]"
      ]
     },
     "metadata": {},
     "output_type": "display_data"
    },
    {
     "name": "stderr",
     "output_type": "stream",
     "text": [
      "16:25:56 - cmdstanpy - INFO - Chain [1] start processing\n",
      "16:25:56 - cmdstanpy - INFO - Chain [1] done processing\n",
      "16:25:57 - cmdstanpy - INFO - Chain [1] start processing\n",
      "16:25:57 - cmdstanpy - INFO - Chain [1] done processing\n",
      "16:25:57 - cmdstanpy - INFO - Chain [1] start processing\n",
      "16:25:57 - cmdstanpy - INFO - Chain [1] done processing\n",
      "16:25:57 - cmdstanpy - INFO - Chain [1] start processing\n",
      "16:25:57 - cmdstanpy - INFO - Chain [1] done processing\n",
      "Seasonality has period of 365.25 days which is larger than initial window. Consider increasing initial.\n"
     ]
    },
    {
     "data": {
      "application/vnd.jupyter.widget-view+json": {
       "model_id": "e42a609f01ea43a98391daabbe0973a3",
       "version_major": 2,
       "version_minor": 0
      },
      "text/plain": [
       "  0%|          | 0/3 [00:00<?, ?it/s]"
      ]
     },
     "metadata": {},
     "output_type": "display_data"
    },
    {
     "name": "stderr",
     "output_type": "stream",
     "text": [
      "16:25:58 - cmdstanpy - INFO - Chain [1] start processing\n",
      "16:25:58 - cmdstanpy - INFO - Chain [1] done processing\n",
      "16:25:58 - cmdstanpy - INFO - Chain [1] start processing\n",
      "16:25:58 - cmdstanpy - INFO - Chain [1] done processing\n",
      "16:25:58 - cmdstanpy - INFO - Chain [1] start processing\n",
      "16:25:58 - cmdstanpy - INFO - Chain [1] done processing\n",
      "16:25:59 - cmdstanpy - INFO - Chain [1] start processing\n",
      "16:25:59 - cmdstanpy - INFO - Chain [1] done processing\n",
      "Seasonality has period of 365.25 days which is larger than initial window. Consider increasing initial.\n"
     ]
    },
    {
     "data": {
      "application/vnd.jupyter.widget-view+json": {
       "model_id": "f8d5567d1a31445f9cc2108f1a18a1e6",
       "version_major": 2,
       "version_minor": 0
      },
      "text/plain": [
       "  0%|          | 0/3 [00:00<?, ?it/s]"
      ]
     },
     "metadata": {},
     "output_type": "display_data"
    },
    {
     "name": "stderr",
     "output_type": "stream",
     "text": [
      "16:25:59 - cmdstanpy - INFO - Chain [1] start processing\n",
      "16:25:59 - cmdstanpy - INFO - Chain [1] done processing\n",
      "16:25:59 - cmdstanpy - INFO - Chain [1] start processing\n",
      "16:25:59 - cmdstanpy - INFO - Chain [1] done processing\n",
      "16:26:00 - cmdstanpy - INFO - Chain [1] start processing\n",
      "16:26:00 - cmdstanpy - INFO - Chain [1] done processing\n",
      "16:26:00 - cmdstanpy - INFO - Chain [1] start processing\n",
      "16:26:00 - cmdstanpy - INFO - Chain [1] done processing\n",
      "Seasonality has period of 365.25 days which is larger than initial window. Consider increasing initial.\n"
     ]
    },
    {
     "data": {
      "application/vnd.jupyter.widget-view+json": {
       "model_id": "9ca798c78466475baaa71b39c976b21e",
       "version_major": 2,
       "version_minor": 0
      },
      "text/plain": [
       "  0%|          | 0/3 [00:00<?, ?it/s]"
      ]
     },
     "metadata": {},
     "output_type": "display_data"
    },
    {
     "name": "stderr",
     "output_type": "stream",
     "text": [
      "16:26:01 - cmdstanpy - INFO - Chain [1] start processing\n",
      "16:26:01 - cmdstanpy - INFO - Chain [1] done processing\n",
      "16:26:01 - cmdstanpy - INFO - Chain [1] start processing\n",
      "16:26:01 - cmdstanpy - INFO - Chain [1] done processing\n",
      "16:26:01 - cmdstanpy - INFO - Chain [1] start processing\n",
      "16:26:01 - cmdstanpy - INFO - Chain [1] done processing\n",
      "16:26:02 - cmdstanpy - INFO - Chain [1] start processing\n",
      "16:26:02 - cmdstanpy - INFO - Chain [1] done processing\n",
      "Seasonality has period of 365.25 days which is larger than initial window. Consider increasing initial.\n"
     ]
    },
    {
     "data": {
      "application/vnd.jupyter.widget-view+json": {
       "model_id": "7c46d371d4c04de29da859e71ad18fb8",
       "version_major": 2,
       "version_minor": 0
      },
      "text/plain": [
       "  0%|          | 0/3 [00:00<?, ?it/s]"
      ]
     },
     "metadata": {},
     "output_type": "display_data"
    },
    {
     "name": "stderr",
     "output_type": "stream",
     "text": [
      "16:26:02 - cmdstanpy - INFO - Chain [1] start processing\n",
      "16:26:02 - cmdstanpy - INFO - Chain [1] done processing\n",
      "16:26:02 - cmdstanpy - INFO - Chain [1] start processing\n",
      "16:26:02 - cmdstanpy - INFO - Chain [1] done processing\n",
      "16:26:03 - cmdstanpy - INFO - Chain [1] start processing\n",
      "16:26:03 - cmdstanpy - INFO - Chain [1] done processing\n",
      "16:26:03 - cmdstanpy - INFO - Chain [1] start processing\n",
      "16:26:03 - cmdstanpy - INFO - Chain [1] done processing\n",
      "Seasonality has period of 365.25 days which is larger than initial window. Consider increasing initial.\n"
     ]
    },
    {
     "data": {
      "application/vnd.jupyter.widget-view+json": {
       "model_id": "53e4bda4374e41d5bd208f8a19d02178",
       "version_major": 2,
       "version_minor": 0
      },
      "text/plain": [
       "  0%|          | 0/3 [00:00<?, ?it/s]"
      ]
     },
     "metadata": {},
     "output_type": "display_data"
    },
    {
     "name": "stderr",
     "output_type": "stream",
     "text": [
      "16:26:03 - cmdstanpy - INFO - Chain [1] start processing\n",
      "16:26:03 - cmdstanpy - INFO - Chain [1] done processing\n",
      "16:26:04 - cmdstanpy - INFO - Chain [1] start processing\n",
      "16:26:04 - cmdstanpy - INFO - Chain [1] done processing\n",
      "16:26:04 - cmdstanpy - INFO - Chain [1] start processing\n",
      "16:26:04 - cmdstanpy - INFO - Chain [1] done processing\n",
      "16:26:04 - cmdstanpy - INFO - Chain [1] start processing\n",
      "16:26:05 - cmdstanpy - INFO - Chain [1] done processing\n",
      "Seasonality has period of 365.25 days which is larger than initial window. Consider increasing initial.\n"
     ]
    },
    {
     "data": {
      "application/vnd.jupyter.widget-view+json": {
       "model_id": "684850c8a6054282ad280bfc319f1f18",
       "version_major": 2,
       "version_minor": 0
      },
      "text/plain": [
       "  0%|          | 0/3 [00:00<?, ?it/s]"
      ]
     },
     "metadata": {},
     "output_type": "display_data"
    },
    {
     "name": "stderr",
     "output_type": "stream",
     "text": [
      "16:26:05 - cmdstanpy - INFO - Chain [1] start processing\n",
      "16:26:05 - cmdstanpy - INFO - Chain [1] done processing\n",
      "16:26:05 - cmdstanpy - INFO - Chain [1] start processing\n",
      "16:26:05 - cmdstanpy - INFO - Chain [1] done processing\n",
      "16:26:05 - cmdstanpy - INFO - Chain [1] start processing\n",
      "16:26:06 - cmdstanpy - INFO - Chain [1] done processing\n",
      "16:26:06 - cmdstanpy - INFO - Chain [1] start processing\n",
      "16:26:06 - cmdstanpy - INFO - Chain [1] done processing\n",
      "Seasonality has period of 365.25 days which is larger than initial window. Consider increasing initial.\n"
     ]
    },
    {
     "data": {
      "application/vnd.jupyter.widget-view+json": {
       "model_id": "cf610d0081c64c129953cff126f5a02f",
       "version_major": 2,
       "version_minor": 0
      },
      "text/plain": [
       "  0%|          | 0/3 [00:00<?, ?it/s]"
      ]
     },
     "metadata": {},
     "output_type": "display_data"
    },
    {
     "name": "stderr",
     "output_type": "stream",
     "text": [
      "16:26:06 - cmdstanpy - INFO - Chain [1] start processing\n",
      "16:26:06 - cmdstanpy - INFO - Chain [1] done processing\n",
      "16:26:07 - cmdstanpy - INFO - Chain [1] start processing\n",
      "16:26:07 - cmdstanpy - INFO - Chain [1] done processing\n",
      "16:26:07 - cmdstanpy - INFO - Chain [1] start processing\n",
      "16:26:07 - cmdstanpy - INFO - Chain [1] done processing\n",
      "16:26:08 - cmdstanpy - INFO - Chain [1] start processing\n",
      "16:26:08 - cmdstanpy - INFO - Chain [1] done processing\n",
      "Seasonality has period of 365.25 days which is larger than initial window. Consider increasing initial.\n"
     ]
    },
    {
     "data": {
      "application/vnd.jupyter.widget-view+json": {
       "model_id": "9aa66a72edb94953937999bfb3d6cc5e",
       "version_major": 2,
       "version_minor": 0
      },
      "text/plain": [
       "  0%|          | 0/3 [00:00<?, ?it/s]"
      ]
     },
     "metadata": {},
     "output_type": "display_data"
    },
    {
     "name": "stderr",
     "output_type": "stream",
     "text": [
      "16:26:08 - cmdstanpy - INFO - Chain [1] start processing\n",
      "16:26:08 - cmdstanpy - INFO - Chain [1] done processing\n",
      "16:26:08 - cmdstanpy - INFO - Chain [1] start processing\n",
      "16:26:08 - cmdstanpy - INFO - Chain [1] done processing\n",
      "16:26:09 - cmdstanpy - INFO - Chain [1] start processing\n",
      "16:26:09 - cmdstanpy - INFO - Chain [1] done processing\n",
      "16:26:09 - cmdstanpy - INFO - Chain [1] start processing\n",
      "16:26:09 - cmdstanpy - INFO - Chain [1] done processing\n",
      "Seasonality has period of 365.25 days which is larger than initial window. Consider increasing initial.\n"
     ]
    },
    {
     "data": {
      "application/vnd.jupyter.widget-view+json": {
       "model_id": "e8e373fc5dc5471399f4930111dd6fa2",
       "version_major": 2,
       "version_minor": 0
      },
      "text/plain": [
       "  0%|          | 0/3 [00:00<?, ?it/s]"
      ]
     },
     "metadata": {},
     "output_type": "display_data"
    },
    {
     "name": "stderr",
     "output_type": "stream",
     "text": [
      "16:26:09 - cmdstanpy - INFO - Chain [1] start processing\n",
      "16:26:09 - cmdstanpy - INFO - Chain [1] done processing\n",
      "16:26:10 - cmdstanpy - INFO - Chain [1] start processing\n",
      "16:26:10 - cmdstanpy - INFO - Chain [1] done processing\n",
      "16:26:10 - cmdstanpy - INFO - Chain [1] start processing\n",
      "16:26:10 - cmdstanpy - INFO - Chain [1] done processing\n",
      "16:26:10 - cmdstanpy - INFO - Chain [1] start processing\n",
      "16:26:11 - cmdstanpy - INFO - Chain [1] done processing\n",
      "Seasonality has period of 365.25 days which is larger than initial window. Consider increasing initial.\n"
     ]
    },
    {
     "data": {
      "application/vnd.jupyter.widget-view+json": {
       "model_id": "5e51e7ce276d4ab882888f7665bee9db",
       "version_major": 2,
       "version_minor": 0
      },
      "text/plain": [
       "  0%|          | 0/3 [00:00<?, ?it/s]"
      ]
     },
     "metadata": {},
     "output_type": "display_data"
    },
    {
     "name": "stderr",
     "output_type": "stream",
     "text": [
      "16:26:11 - cmdstanpy - INFO - Chain [1] start processing\n",
      "16:26:11 - cmdstanpy - INFO - Chain [1] done processing\n",
      "16:26:11 - cmdstanpy - INFO - Chain [1] start processing\n",
      "16:26:11 - cmdstanpy - INFO - Chain [1] done processing\n",
      "16:26:11 - cmdstanpy - INFO - Chain [1] start processing\n",
      "16:26:11 - cmdstanpy - INFO - Chain [1] done processing\n",
      "16:26:12 - cmdstanpy - INFO - Chain [1] start processing\n",
      "16:26:12 - cmdstanpy - INFO - Chain [1] done processing\n",
      "Seasonality has period of 365.25 days which is larger than initial window. Consider increasing initial.\n"
     ]
    },
    {
     "data": {
      "application/vnd.jupyter.widget-view+json": {
       "model_id": "d7829c287b2549f5b0ccea6647fa1483",
       "version_major": 2,
       "version_minor": 0
      },
      "text/plain": [
       "  0%|          | 0/3 [00:00<?, ?it/s]"
      ]
     },
     "metadata": {},
     "output_type": "display_data"
    },
    {
     "name": "stderr",
     "output_type": "stream",
     "text": [
      "16:26:12 - cmdstanpy - INFO - Chain [1] start processing\n",
      "16:26:12 - cmdstanpy - INFO - Chain [1] done processing\n",
      "16:26:12 - cmdstanpy - INFO - Chain [1] start processing\n",
      "16:26:13 - cmdstanpy - INFO - Chain [1] done processing\n",
      "16:26:13 - cmdstanpy - INFO - Chain [1] start processing\n",
      "16:26:13 - cmdstanpy - INFO - Chain [1] done processing\n",
      "16:26:13 - cmdstanpy - INFO - Chain [1] start processing\n",
      "16:26:13 - cmdstanpy - INFO - Chain [1] done processing\n",
      "Seasonality has period of 365.25 days which is larger than initial window. Consider increasing initial.\n"
     ]
    },
    {
     "data": {
      "application/vnd.jupyter.widget-view+json": {
       "model_id": "295437d1f0014ba1be7b21bad368e228",
       "version_major": 2,
       "version_minor": 0
      },
      "text/plain": [
       "  0%|          | 0/3 [00:00<?, ?it/s]"
      ]
     },
     "metadata": {},
     "output_type": "display_data"
    },
    {
     "name": "stderr",
     "output_type": "stream",
     "text": [
      "16:26:13 - cmdstanpy - INFO - Chain [1] start processing\n",
      "16:26:14 - cmdstanpy - INFO - Chain [1] done processing\n",
      "16:26:14 - cmdstanpy - INFO - Chain [1] start processing\n",
      "16:26:14 - cmdstanpy - INFO - Chain [1] done processing\n",
      "16:26:14 - cmdstanpy - INFO - Chain [1] start processing\n",
      "16:26:14 - cmdstanpy - INFO - Chain [1] done processing\n",
      "16:26:15 - cmdstanpy - INFO - Chain [1] start processing\n",
      "16:26:15 - cmdstanpy - INFO - Chain [1] done processing\n",
      "Seasonality has period of 365.25 days which is larger than initial window. Consider increasing initial.\n"
     ]
    },
    {
     "data": {
      "application/vnd.jupyter.widget-view+json": {
       "model_id": "eb20c06b6d724dbbaf0060fe36b17dd5",
       "version_major": 2,
       "version_minor": 0
      },
      "text/plain": [
       "  0%|          | 0/3 [00:00<?, ?it/s]"
      ]
     },
     "metadata": {},
     "output_type": "display_data"
    },
    {
     "name": "stderr",
     "output_type": "stream",
     "text": [
      "16:26:15 - cmdstanpy - INFO - Chain [1] start processing\n",
      "16:26:15 - cmdstanpy - INFO - Chain [1] done processing\n",
      "16:26:15 - cmdstanpy - INFO - Chain [1] start processing\n",
      "16:26:15 - cmdstanpy - INFO - Chain [1] done processing\n",
      "16:26:16 - cmdstanpy - INFO - Chain [1] start processing\n",
      "16:26:16 - cmdstanpy - INFO - Chain [1] done processing\n",
      "16:26:16 - cmdstanpy - INFO - Chain [1] start processing\n",
      "16:26:16 - cmdstanpy - INFO - Chain [1] done processing\n",
      "Seasonality has period of 365.25 days which is larger than initial window. Consider increasing initial.\n"
     ]
    },
    {
     "data": {
      "application/vnd.jupyter.widget-view+json": {
       "model_id": "1b98458456da427cbb7972572b6feabc",
       "version_major": 2,
       "version_minor": 0
      },
      "text/plain": [
       "  0%|          | 0/3 [00:00<?, ?it/s]"
      ]
     },
     "metadata": {},
     "output_type": "display_data"
    },
    {
     "name": "stderr",
     "output_type": "stream",
     "text": [
      "16:26:16 - cmdstanpy - INFO - Chain [1] start processing\n",
      "16:26:17 - cmdstanpy - INFO - Chain [1] done processing\n",
      "16:26:17 - cmdstanpy - INFO - Chain [1] start processing\n",
      "16:26:17 - cmdstanpy - INFO - Chain [1] done processing\n",
      "16:26:17 - cmdstanpy - INFO - Chain [1] start processing\n",
      "16:26:17 - cmdstanpy - INFO - Chain [1] done processing\n",
      "16:26:18 - cmdstanpy - INFO - Chain [1] start processing\n",
      "16:26:18 - cmdstanpy - INFO - Chain [1] done processing\n",
      "Seasonality has period of 365.25 days which is larger than initial window. Consider increasing initial.\n"
     ]
    },
    {
     "data": {
      "application/vnd.jupyter.widget-view+json": {
       "model_id": "a77b0b694a0248bb92ac3ce27be4fd78",
       "version_major": 2,
       "version_minor": 0
      },
      "text/plain": [
       "  0%|          | 0/3 [00:00<?, ?it/s]"
      ]
     },
     "metadata": {},
     "output_type": "display_data"
    },
    {
     "name": "stderr",
     "output_type": "stream",
     "text": [
      "16:26:18 - cmdstanpy - INFO - Chain [1] start processing\n",
      "16:26:18 - cmdstanpy - INFO - Chain [1] done processing\n",
      "16:26:18 - cmdstanpy - INFO - Chain [1] start processing\n",
      "16:26:18 - cmdstanpy - INFO - Chain [1] done processing\n",
      "16:26:19 - cmdstanpy - INFO - Chain [1] start processing\n",
      "16:26:19 - cmdstanpy - INFO - Chain [1] done processing\n",
      "16:26:19 - cmdstanpy - INFO - Chain [1] start processing\n",
      "16:26:19 - cmdstanpy - INFO - Chain [1] done processing\n",
      "Seasonality has period of 365.25 days which is larger than initial window. Consider increasing initial.\n"
     ]
    },
    {
     "data": {
      "application/vnd.jupyter.widget-view+json": {
       "model_id": "662e39e99619496eb1449f6f56fd533c",
       "version_major": 2,
       "version_minor": 0
      },
      "text/plain": [
       "  0%|          | 0/3 [00:00<?, ?it/s]"
      ]
     },
     "metadata": {},
     "output_type": "display_data"
    },
    {
     "name": "stderr",
     "output_type": "stream",
     "text": [
      "16:26:20 - cmdstanpy - INFO - Chain [1] start processing\n",
      "16:26:20 - cmdstanpy - INFO - Chain [1] done processing\n",
      "16:26:20 - cmdstanpy - INFO - Chain [1] start processing\n",
      "16:26:20 - cmdstanpy - INFO - Chain [1] done processing\n",
      "16:26:20 - cmdstanpy - INFO - Chain [1] start processing\n",
      "16:26:20 - cmdstanpy - INFO - Chain [1] done processing\n",
      "16:26:21 - cmdstanpy - INFO - Chain [1] start processing\n",
      "16:26:21 - cmdstanpy - INFO - Chain [1] done processing\n",
      "Seasonality has period of 365.25 days which is larger than initial window. Consider increasing initial.\n"
     ]
    },
    {
     "data": {
      "application/vnd.jupyter.widget-view+json": {
       "model_id": "3f9d99daa7914dcc8fa4802d968dcec3",
       "version_major": 2,
       "version_minor": 0
      },
      "text/plain": [
       "  0%|          | 0/3 [00:00<?, ?it/s]"
      ]
     },
     "metadata": {},
     "output_type": "display_data"
    },
    {
     "name": "stderr",
     "output_type": "stream",
     "text": [
      "16:26:21 - cmdstanpy - INFO - Chain [1] start processing\n",
      "16:26:21 - cmdstanpy - INFO - Chain [1] done processing\n",
      "16:26:21 - cmdstanpy - INFO - Chain [1] start processing\n",
      "16:26:21 - cmdstanpy - INFO - Chain [1] done processing\n",
      "16:26:22 - cmdstanpy - INFO - Chain [1] start processing\n",
      "16:26:22 - cmdstanpy - INFO - Chain [1] done processing\n",
      "16:26:22 - cmdstanpy - INFO - Chain [1] start processing\n",
      "16:26:22 - cmdstanpy - INFO - Chain [1] done processing\n",
      "Seasonality has period of 365.25 days which is larger than initial window. Consider increasing initial.\n"
     ]
    },
    {
     "data": {
      "application/vnd.jupyter.widget-view+json": {
       "model_id": "e34351b57dd847919aa4b835360b7cb5",
       "version_major": 2,
       "version_minor": 0
      },
      "text/plain": [
       "  0%|          | 0/3 [00:00<?, ?it/s]"
      ]
     },
     "metadata": {},
     "output_type": "display_data"
    },
    {
     "name": "stderr",
     "output_type": "stream",
     "text": [
      "16:26:22 - cmdstanpy - INFO - Chain [1] start processing\n",
      "16:26:23 - cmdstanpy - INFO - Chain [1] done processing\n",
      "16:26:23 - cmdstanpy - INFO - Chain [1] start processing\n",
      "16:26:23 - cmdstanpy - INFO - Chain [1] done processing\n",
      "16:26:23 - cmdstanpy - INFO - Chain [1] start processing\n",
      "16:26:23 - cmdstanpy - INFO - Chain [1] done processing\n",
      "16:26:24 - cmdstanpy - INFO - Chain [1] start processing\n",
      "16:26:24 - cmdstanpy - INFO - Chain [1] done processing\n",
      "Seasonality has period of 365.25 days which is larger than initial window. Consider increasing initial.\n"
     ]
    },
    {
     "data": {
      "application/vnd.jupyter.widget-view+json": {
       "model_id": "b1dce69014ed49aaa5fc109405af542a",
       "version_major": 2,
       "version_minor": 0
      },
      "text/plain": [
       "  0%|          | 0/3 [00:00<?, ?it/s]"
      ]
     },
     "metadata": {},
     "output_type": "display_data"
    },
    {
     "name": "stderr",
     "output_type": "stream",
     "text": [
      "16:26:24 - cmdstanpy - INFO - Chain [1] start processing\n",
      "16:26:24 - cmdstanpy - INFO - Chain [1] done processing\n",
      "16:26:24 - cmdstanpy - INFO - Chain [1] start processing\n",
      "16:26:24 - cmdstanpy - INFO - Chain [1] done processing\n",
      "16:26:25 - cmdstanpy - INFO - Chain [1] start processing\n",
      "16:26:25 - cmdstanpy - INFO - Chain [1] done processing\n",
      "16:26:25 - cmdstanpy - INFO - Chain [1] start processing\n",
      "16:26:25 - cmdstanpy - INFO - Chain [1] done processing\n",
      "Seasonality has period of 365.25 days which is larger than initial window. Consider increasing initial.\n"
     ]
    },
    {
     "data": {
      "application/vnd.jupyter.widget-view+json": {
       "model_id": "2e7c7811170f4db184fdadb4e0ef5b29",
       "version_major": 2,
       "version_minor": 0
      },
      "text/plain": [
       "  0%|          | 0/3 [00:00<?, ?it/s]"
      ]
     },
     "metadata": {},
     "output_type": "display_data"
    },
    {
     "name": "stderr",
     "output_type": "stream",
     "text": [
      "16:26:26 - cmdstanpy - INFO - Chain [1] start processing\n",
      "16:26:26 - cmdstanpy - INFO - Chain [1] done processing\n",
      "16:26:26 - cmdstanpy - INFO - Chain [1] start processing\n",
      "16:26:26 - cmdstanpy - INFO - Chain [1] done processing\n",
      "16:26:26 - cmdstanpy - INFO - Chain [1] start processing\n",
      "16:26:26 - cmdstanpy - INFO - Chain [1] done processing\n",
      "16:26:27 - cmdstanpy - INFO - Chain [1] start processing\n",
      "16:26:27 - cmdstanpy - INFO - Chain [1] done processing\n",
      "Seasonality has period of 365.25 days which is larger than initial window. Consider increasing initial.\n"
     ]
    },
    {
     "data": {
      "application/vnd.jupyter.widget-view+json": {
       "model_id": "83a96063089f41b794c1c92c18948d59",
       "version_major": 2,
       "version_minor": 0
      },
      "text/plain": [
       "  0%|          | 0/3 [00:00<?, ?it/s]"
      ]
     },
     "metadata": {},
     "output_type": "display_data"
    },
    {
     "name": "stderr",
     "output_type": "stream",
     "text": [
      "16:26:27 - cmdstanpy - INFO - Chain [1] start processing\n",
      "16:26:27 - cmdstanpy - INFO - Chain [1] done processing\n",
      "16:26:27 - cmdstanpy - INFO - Chain [1] start processing\n",
      "16:26:27 - cmdstanpy - INFO - Chain [1] done processing\n",
      "16:26:28 - cmdstanpy - INFO - Chain [1] start processing\n",
      "16:26:28 - cmdstanpy - INFO - Chain [1] done processing\n",
      "16:26:28 - cmdstanpy - INFO - Chain [1] start processing\n",
      "16:26:28 - cmdstanpy - INFO - Chain [1] done processing\n",
      "Seasonality has period of 365.25 days which is larger than initial window. Consider increasing initial.\n"
     ]
    },
    {
     "data": {
      "application/vnd.jupyter.widget-view+json": {
       "model_id": "c8f4e4b7646049c9ba2c82d97961df25",
       "version_major": 2,
       "version_minor": 0
      },
      "text/plain": [
       "  0%|          | 0/3 [00:00<?, ?it/s]"
      ]
     },
     "metadata": {},
     "output_type": "display_data"
    },
    {
     "name": "stderr",
     "output_type": "stream",
     "text": [
      "16:26:28 - cmdstanpy - INFO - Chain [1] start processing\n",
      "16:26:28 - cmdstanpy - INFO - Chain [1] done processing\n",
      "16:26:29 - cmdstanpy - INFO - Chain [1] start processing\n",
      "16:26:29 - cmdstanpy - INFO - Chain [1] done processing\n",
      "16:26:29 - cmdstanpy - INFO - Chain [1] start processing\n",
      "16:26:29 - cmdstanpy - INFO - Chain [1] done processing\n",
      "16:26:30 - cmdstanpy - INFO - Chain [1] start processing\n",
      "16:26:30 - cmdstanpy - INFO - Chain [1] done processing\n",
      "Seasonality has period of 365.25 days which is larger than initial window. Consider increasing initial.\n"
     ]
    },
    {
     "data": {
      "application/vnd.jupyter.widget-view+json": {
       "model_id": "f2513ba126a4426a9b093c234651225a",
       "version_major": 2,
       "version_minor": 0
      },
      "text/plain": [
       "  0%|          | 0/3 [00:00<?, ?it/s]"
      ]
     },
     "metadata": {},
     "output_type": "display_data"
    },
    {
     "name": "stderr",
     "output_type": "stream",
     "text": [
      "16:26:30 - cmdstanpy - INFO - Chain [1] start processing\n",
      "16:26:30 - cmdstanpy - INFO - Chain [1] done processing\n",
      "16:26:30 - cmdstanpy - INFO - Chain [1] start processing\n",
      "16:26:30 - cmdstanpy - INFO - Chain [1] done processing\n",
      "16:26:31 - cmdstanpy - INFO - Chain [1] start processing\n",
      "16:26:31 - cmdstanpy - INFO - Chain [1] done processing\n",
      "16:26:31 - cmdstanpy - INFO - Chain [1] start processing\n",
      "16:26:31 - cmdstanpy - INFO - Chain [1] done processing\n",
      "Seasonality has period of 365.25 days which is larger than initial window. Consider increasing initial.\n"
     ]
    },
    {
     "data": {
      "application/vnd.jupyter.widget-view+json": {
       "model_id": "bfe5d3f2d13c44689cc31cbce6bee994",
       "version_major": 2,
       "version_minor": 0
      },
      "text/plain": [
       "  0%|          | 0/3 [00:00<?, ?it/s]"
      ]
     },
     "metadata": {},
     "output_type": "display_data"
    },
    {
     "name": "stderr",
     "output_type": "stream",
     "text": [
      "16:26:31 - cmdstanpy - INFO - Chain [1] start processing\n",
      "16:26:31 - cmdstanpy - INFO - Chain [1] done processing\n",
      "16:26:32 - cmdstanpy - INFO - Chain [1] start processing\n",
      "16:26:32 - cmdstanpy - INFO - Chain [1] done processing\n",
      "16:26:32 - cmdstanpy - INFO - Chain [1] start processing\n",
      "16:26:32 - cmdstanpy - INFO - Chain [1] done processing\n",
      "16:26:33 - cmdstanpy - INFO - Chain [1] start processing\n",
      "16:26:33 - cmdstanpy - INFO - Chain [1] done processing\n",
      "Seasonality has period of 365.25 days which is larger than initial window. Consider increasing initial.\n"
     ]
    },
    {
     "data": {
      "application/vnd.jupyter.widget-view+json": {
       "model_id": "53ee850950b64e7b95a8a4db0170ede7",
       "version_major": 2,
       "version_minor": 0
      },
      "text/plain": [
       "  0%|          | 0/3 [00:00<?, ?it/s]"
      ]
     },
     "metadata": {},
     "output_type": "display_data"
    },
    {
     "name": "stderr",
     "output_type": "stream",
     "text": [
      "16:26:33 - cmdstanpy - INFO - Chain [1] start processing\n",
      "16:26:33 - cmdstanpy - INFO - Chain [1] done processing\n",
      "16:26:33 - cmdstanpy - INFO - Chain [1] start processing\n",
      "16:26:33 - cmdstanpy - INFO - Chain [1] done processing\n",
      "16:26:34 - cmdstanpy - INFO - Chain [1] start processing\n",
      "16:26:34 - cmdstanpy - INFO - Chain [1] done processing\n",
      "16:26:34 - cmdstanpy - INFO - Chain [1] start processing\n",
      "16:26:34 - cmdstanpy - INFO - Chain [1] done processing\n",
      "Seasonality has period of 365.25 days which is larger than initial window. Consider increasing initial.\n"
     ]
    },
    {
     "data": {
      "application/vnd.jupyter.widget-view+json": {
       "model_id": "a17bf3963b7c495881a9176fc16875bd",
       "version_major": 2,
       "version_minor": 0
      },
      "text/plain": [
       "  0%|          | 0/3 [00:00<?, ?it/s]"
      ]
     },
     "metadata": {},
     "output_type": "display_data"
    },
    {
     "name": "stderr",
     "output_type": "stream",
     "text": [
      "16:26:34 - cmdstanpy - INFO - Chain [1] start processing\n",
      "16:26:34 - cmdstanpy - INFO - Chain [1] done processing\n",
      "16:26:35 - cmdstanpy - INFO - Chain [1] start processing\n",
      "16:26:35 - cmdstanpy - INFO - Chain [1] done processing\n",
      "16:26:35 - cmdstanpy - INFO - Chain [1] start processing\n",
      "16:26:35 - cmdstanpy - INFO - Chain [1] done processing\n",
      "16:26:36 - cmdstanpy - INFO - Chain [1] start processing\n",
      "16:26:36 - cmdstanpy - INFO - Chain [1] done processing\n",
      "Seasonality has period of 365.25 days which is larger than initial window. Consider increasing initial.\n"
     ]
    },
    {
     "data": {
      "application/vnd.jupyter.widget-view+json": {
       "model_id": "a927524fbd3e4c2787013a038cbd7f30",
       "version_major": 2,
       "version_minor": 0
      },
      "text/plain": [
       "  0%|          | 0/3 [00:00<?, ?it/s]"
      ]
     },
     "metadata": {},
     "output_type": "display_data"
    },
    {
     "name": "stderr",
     "output_type": "stream",
     "text": [
      "16:26:36 - cmdstanpy - INFO - Chain [1] start processing\n",
      "16:26:36 - cmdstanpy - INFO - Chain [1] done processing\n",
      "16:26:36 - cmdstanpy - INFO - Chain [1] start processing\n",
      "16:26:37 - cmdstanpy - INFO - Chain [1] done processing\n",
      "16:26:37 - cmdstanpy - INFO - Chain [1] start processing\n",
      "16:26:37 - cmdstanpy - INFO - Chain [1] done processing\n",
      "16:26:37 - cmdstanpy - INFO - Chain [1] start processing\n",
      "16:26:38 - cmdstanpy - INFO - Chain [1] done processing\n",
      "Seasonality has period of 365.25 days which is larger than initial window. Consider increasing initial.\n"
     ]
    },
    {
     "data": {
      "application/vnd.jupyter.widget-view+json": {
       "model_id": "5a5b0b7de0f649c79952ee2dae305f1d",
       "version_major": 2,
       "version_minor": 0
      },
      "text/plain": [
       "  0%|          | 0/3 [00:00<?, ?it/s]"
      ]
     },
     "metadata": {},
     "output_type": "display_data"
    },
    {
     "name": "stderr",
     "output_type": "stream",
     "text": [
      "16:26:38 - cmdstanpy - INFO - Chain [1] start processing\n",
      "16:26:38 - cmdstanpy - INFO - Chain [1] done processing\n",
      "16:26:38 - cmdstanpy - INFO - Chain [1] start processing\n",
      "16:26:38 - cmdstanpy - INFO - Chain [1] done processing\n",
      "16:26:38 - cmdstanpy - INFO - Chain [1] start processing\n",
      "16:26:39 - cmdstanpy - INFO - Chain [1] done processing\n",
      "16:26:39 - cmdstanpy - INFO - Chain [1] start processing\n",
      "16:26:39 - cmdstanpy - INFO - Chain [1] done processing\n",
      "Seasonality has period of 365.25 days which is larger than initial window. Consider increasing initial.\n"
     ]
    },
    {
     "data": {
      "application/vnd.jupyter.widget-view+json": {
       "model_id": "e3e2fab61941471eb9c6a89a966799b4",
       "version_major": 2,
       "version_minor": 0
      },
      "text/plain": [
       "  0%|          | 0/3 [00:00<?, ?it/s]"
      ]
     },
     "metadata": {},
     "output_type": "display_data"
    },
    {
     "name": "stderr",
     "output_type": "stream",
     "text": [
      "16:26:39 - cmdstanpy - INFO - Chain [1] start processing\n",
      "16:26:39 - cmdstanpy - INFO - Chain [1] done processing\n",
      "16:26:39 - cmdstanpy - INFO - Chain [1] start processing\n",
      "16:26:40 - cmdstanpy - INFO - Chain [1] done processing\n",
      "16:26:40 - cmdstanpy - INFO - Chain [1] start processing\n",
      "16:26:40 - cmdstanpy - INFO - Chain [1] done processing\n",
      "16:26:40 - cmdstanpy - INFO - Chain [1] start processing\n",
      "16:26:40 - cmdstanpy - INFO - Chain [1] done processing\n",
      "Seasonality has period of 365.25 days which is larger than initial window. Consider increasing initial.\n"
     ]
    },
    {
     "data": {
      "application/vnd.jupyter.widget-view+json": {
       "model_id": "001c9fa6783f4e60a61f75d7449a3adc",
       "version_major": 2,
       "version_minor": 0
      },
      "text/plain": [
       "  0%|          | 0/3 [00:00<?, ?it/s]"
      ]
     },
     "metadata": {},
     "output_type": "display_data"
    },
    {
     "name": "stderr",
     "output_type": "stream",
     "text": [
      "16:26:41 - cmdstanpy - INFO - Chain [1] start processing\n",
      "16:26:41 - cmdstanpy - INFO - Chain [1] done processing\n",
      "16:26:41 - cmdstanpy - INFO - Chain [1] start processing\n",
      "16:26:41 - cmdstanpy - INFO - Chain [1] done processing\n",
      "16:26:41 - cmdstanpy - INFO - Chain [1] start processing\n",
      "16:26:41 - cmdstanpy - INFO - Chain [1] done processing\n",
      "16:26:42 - cmdstanpy - INFO - Chain [1] start processing\n",
      "16:26:42 - cmdstanpy - INFO - Chain [1] done processing\n",
      "Seasonality has period of 365.25 days which is larger than initial window. Consider increasing initial.\n"
     ]
    },
    {
     "data": {
      "application/vnd.jupyter.widget-view+json": {
       "model_id": "df29e61c68dc4167b1e9e4ce8df34c4e",
       "version_major": 2,
       "version_minor": 0
      },
      "text/plain": [
       "  0%|          | 0/3 [00:00<?, ?it/s]"
      ]
     },
     "metadata": {},
     "output_type": "display_data"
    },
    {
     "name": "stderr",
     "output_type": "stream",
     "text": [
      "16:26:42 - cmdstanpy - INFO - Chain [1] start processing\n",
      "16:26:42 - cmdstanpy - INFO - Chain [1] done processing\n",
      "16:26:42 - cmdstanpy - INFO - Chain [1] start processing\n",
      "16:26:43 - cmdstanpy - INFO - Chain [1] done processing\n",
      "16:26:43 - cmdstanpy - INFO - Chain [1] start processing\n",
      "16:26:43 - cmdstanpy - INFO - Chain [1] done processing\n",
      "16:26:43 - cmdstanpy - INFO - Chain [1] start processing\n",
      "16:26:43 - cmdstanpy - INFO - Chain [1] done processing\n",
      "Seasonality has period of 365.25 days which is larger than initial window. Consider increasing initial.\n"
     ]
    },
    {
     "data": {
      "application/vnd.jupyter.widget-view+json": {
       "model_id": "3d464b7ab69247ea90c6cb895cc125fc",
       "version_major": 2,
       "version_minor": 0
      },
      "text/plain": [
       "  0%|          | 0/3 [00:00<?, ?it/s]"
      ]
     },
     "metadata": {},
     "output_type": "display_data"
    },
    {
     "name": "stderr",
     "output_type": "stream",
     "text": [
      "16:26:44 - cmdstanpy - INFO - Chain [1] start processing\n",
      "16:26:44 - cmdstanpy - INFO - Chain [1] done processing\n",
      "16:26:44 - cmdstanpy - INFO - Chain [1] start processing\n",
      "16:26:44 - cmdstanpy - INFO - Chain [1] done processing\n",
      "16:26:44 - cmdstanpy - INFO - Chain [1] start processing\n",
      "16:26:45 - cmdstanpy - INFO - Chain [1] done processing\n",
      "16:26:45 - cmdstanpy - INFO - Chain [1] start processing\n",
      "16:26:45 - cmdstanpy - INFO - Chain [1] done processing\n",
      "Seasonality has period of 365.25 days which is larger than initial window. Consider increasing initial.\n"
     ]
    },
    {
     "data": {
      "application/vnd.jupyter.widget-view+json": {
       "model_id": "05fc8954e076411c9c0de8c5f31f1664",
       "version_major": 2,
       "version_minor": 0
      },
      "text/plain": [
       "  0%|          | 0/3 [00:00<?, ?it/s]"
      ]
     },
     "metadata": {},
     "output_type": "display_data"
    },
    {
     "name": "stderr",
     "output_type": "stream",
     "text": [
      "16:26:45 - cmdstanpy - INFO - Chain [1] start processing\n",
      "16:26:45 - cmdstanpy - INFO - Chain [1] done processing\n",
      "16:26:46 - cmdstanpy - INFO - Chain [1] start processing\n",
      "16:26:46 - cmdstanpy - INFO - Chain [1] done processing\n",
      "16:26:46 - cmdstanpy - INFO - Chain [1] start processing\n",
      "16:26:46 - cmdstanpy - INFO - Chain [1] done processing\n",
      "16:26:46 - cmdstanpy - INFO - Chain [1] start processing\n",
      "16:26:47 - cmdstanpy - INFO - Chain [1] done processing\n",
      "Seasonality has period of 365.25 days which is larger than initial window. Consider increasing initial.\n"
     ]
    },
    {
     "data": {
      "application/vnd.jupyter.widget-view+json": {
       "model_id": "b6daf523c7d14dae961265271a7f4e4e",
       "version_major": 2,
       "version_minor": 0
      },
      "text/plain": [
       "  0%|          | 0/3 [00:00<?, ?it/s]"
      ]
     },
     "metadata": {},
     "output_type": "display_data"
    },
    {
     "name": "stderr",
     "output_type": "stream",
     "text": [
      "16:26:47 - cmdstanpy - INFO - Chain [1] start processing\n",
      "16:26:47 - cmdstanpy - INFO - Chain [1] done processing\n",
      "16:26:47 - cmdstanpy - INFO - Chain [1] start processing\n",
      "16:26:47 - cmdstanpy - INFO - Chain [1] done processing\n",
      "16:26:48 - cmdstanpy - INFO - Chain [1] start processing\n",
      "16:26:48 - cmdstanpy - INFO - Chain [1] done processing\n",
      "16:26:48 - cmdstanpy - INFO - Chain [1] start processing\n",
      "16:26:48 - cmdstanpy - INFO - Chain [1] done processing\n",
      "Seasonality has period of 365.25 days which is larger than initial window. Consider increasing initial.\n"
     ]
    },
    {
     "data": {
      "application/vnd.jupyter.widget-view+json": {
       "model_id": "a3fa3e1fed4748cd8acd8e9cf436b9c9",
       "version_major": 2,
       "version_minor": 0
      },
      "text/plain": [
       "  0%|          | 0/3 [00:00<?, ?it/s]"
      ]
     },
     "metadata": {},
     "output_type": "display_data"
    },
    {
     "name": "stderr",
     "output_type": "stream",
     "text": [
      "16:26:48 - cmdstanpy - INFO - Chain [1] start processing\n",
      "16:26:48 - cmdstanpy - INFO - Chain [1] done processing\n",
      "16:26:49 - cmdstanpy - INFO - Chain [1] start processing\n",
      "16:26:49 - cmdstanpy - INFO - Chain [1] done processing\n",
      "16:26:49 - cmdstanpy - INFO - Chain [1] start processing\n",
      "16:26:49 - cmdstanpy - INFO - Chain [1] done processing\n",
      "16:26:49 - cmdstanpy - INFO - Chain [1] start processing\n",
      "16:26:50 - cmdstanpy - INFO - Chain [1] done processing\n",
      "Seasonality has period of 365.25 days which is larger than initial window. Consider increasing initial.\n"
     ]
    },
    {
     "data": {
      "application/vnd.jupyter.widget-view+json": {
       "model_id": "57025b45b51546349bb4d6bcaeee0629",
       "version_major": 2,
       "version_minor": 0
      },
      "text/plain": [
       "  0%|          | 0/3 [00:00<?, ?it/s]"
      ]
     },
     "metadata": {},
     "output_type": "display_data"
    },
    {
     "name": "stderr",
     "output_type": "stream",
     "text": [
      "16:26:50 - cmdstanpy - INFO - Chain [1] start processing\n",
      "16:26:50 - cmdstanpy - INFO - Chain [1] done processing\n",
      "16:26:50 - cmdstanpy - INFO - Chain [1] start processing\n",
      "16:26:50 - cmdstanpy - INFO - Chain [1] done processing\n",
      "16:26:51 - cmdstanpy - INFO - Chain [1] start processing\n",
      "16:26:51 - cmdstanpy - INFO - Chain [1] done processing\n",
      "16:26:51 - cmdstanpy - INFO - Chain [1] start processing\n",
      "16:26:51 - cmdstanpy - INFO - Chain [1] done processing\n",
      "Seasonality has period of 365.25 days which is larger than initial window. Consider increasing initial.\n"
     ]
    },
    {
     "data": {
      "application/vnd.jupyter.widget-view+json": {
       "model_id": "6e2715beb1fb4d21bd64d437302a340f",
       "version_major": 2,
       "version_minor": 0
      },
      "text/plain": [
       "  0%|          | 0/3 [00:00<?, ?it/s]"
      ]
     },
     "metadata": {},
     "output_type": "display_data"
    },
    {
     "name": "stderr",
     "output_type": "stream",
     "text": [
      "16:26:51 - cmdstanpy - INFO - Chain [1] start processing\n",
      "16:26:51 - cmdstanpy - INFO - Chain [1] done processing\n",
      "16:26:52 - cmdstanpy - INFO - Chain [1] start processing\n",
      "16:26:52 - cmdstanpy - INFO - Chain [1] done processing\n",
      "16:26:52 - cmdstanpy - INFO - Chain [1] start processing\n",
      "16:26:52 - cmdstanpy - INFO - Chain [1] done processing\n",
      "16:26:53 - cmdstanpy - INFO - Chain [1] start processing\n",
      "16:26:53 - cmdstanpy - INFO - Chain [1] done processing\n",
      "Seasonality has period of 365.25 days which is larger than initial window. Consider increasing initial.\n"
     ]
    },
    {
     "data": {
      "application/vnd.jupyter.widget-view+json": {
       "model_id": "df940a81ef9741cb948a491ab8a68397",
       "version_major": 2,
       "version_minor": 0
      },
      "text/plain": [
       "  0%|          | 0/3 [00:00<?, ?it/s]"
      ]
     },
     "metadata": {},
     "output_type": "display_data"
    },
    {
     "name": "stderr",
     "output_type": "stream",
     "text": [
      "16:26:53 - cmdstanpy - INFO - Chain [1] start processing\n",
      "16:26:53 - cmdstanpy - INFO - Chain [1] done processing\n",
      "16:26:53 - cmdstanpy - INFO - Chain [1] start processing\n",
      "16:26:53 - cmdstanpy - INFO - Chain [1] done processing\n",
      "16:26:54 - cmdstanpy - INFO - Chain [1] start processing\n",
      "16:26:54 - cmdstanpy - INFO - Chain [1] done processing\n",
      "16:26:54 - cmdstanpy - INFO - Chain [1] start processing\n",
      "16:26:54 - cmdstanpy - INFO - Chain [1] done processing\n",
      "Seasonality has period of 365.25 days which is larger than initial window. Consider increasing initial.\n"
     ]
    },
    {
     "data": {
      "application/vnd.jupyter.widget-view+json": {
       "model_id": "1836289ff6064316b952225e46d5293e",
       "version_major": 2,
       "version_minor": 0
      },
      "text/plain": [
       "  0%|          | 0/3 [00:00<?, ?it/s]"
      ]
     },
     "metadata": {},
     "output_type": "display_data"
    },
    {
     "name": "stderr",
     "output_type": "stream",
     "text": [
      "16:26:54 - cmdstanpy - INFO - Chain [1] start processing\n",
      "16:26:54 - cmdstanpy - INFO - Chain [1] done processing\n",
      "16:26:55 - cmdstanpy - INFO - Chain [1] start processing\n",
      "16:26:55 - cmdstanpy - INFO - Chain [1] done processing\n",
      "16:26:55 - cmdstanpy - INFO - Chain [1] start processing\n",
      "16:26:55 - cmdstanpy - INFO - Chain [1] done processing\n",
      "16:26:55 - cmdstanpy - INFO - Chain [1] start processing\n",
      "16:26:56 - cmdstanpy - INFO - Chain [1] done processing\n",
      "Seasonality has period of 365.25 days which is larger than initial window. Consider increasing initial.\n"
     ]
    },
    {
     "data": {
      "application/vnd.jupyter.widget-view+json": {
       "model_id": "a69106edde374f51a3fb3ddf7dae0c33",
       "version_major": 2,
       "version_minor": 0
      },
      "text/plain": [
       "  0%|          | 0/3 [00:00<?, ?it/s]"
      ]
     },
     "metadata": {},
     "output_type": "display_data"
    },
    {
     "name": "stderr",
     "output_type": "stream",
     "text": [
      "16:26:56 - cmdstanpy - INFO - Chain [1] start processing\n",
      "16:26:56 - cmdstanpy - INFO - Chain [1] done processing\n",
      "16:26:56 - cmdstanpy - INFO - Chain [1] start processing\n",
      "16:26:56 - cmdstanpy - INFO - Chain [1] done processing\n",
      "16:26:57 - cmdstanpy - INFO - Chain [1] start processing\n",
      "16:26:57 - cmdstanpy - INFO - Chain [1] done processing\n",
      "16:26:57 - cmdstanpy - INFO - Chain [1] start processing\n",
      "16:26:57 - cmdstanpy - INFO - Chain [1] done processing\n",
      "Seasonality has period of 365.25 days which is larger than initial window. Consider increasing initial.\n"
     ]
    },
    {
     "data": {
      "application/vnd.jupyter.widget-view+json": {
       "model_id": "70cc87dd4e204b93945eeb4851b0a51e",
       "version_major": 2,
       "version_minor": 0
      },
      "text/plain": [
       "  0%|          | 0/3 [00:00<?, ?it/s]"
      ]
     },
     "metadata": {},
     "output_type": "display_data"
    },
    {
     "name": "stderr",
     "output_type": "stream",
     "text": [
      "16:26:57 - cmdstanpy - INFO - Chain [1] start processing\n",
      "16:26:57 - cmdstanpy - INFO - Chain [1] done processing\n",
      "16:26:58 - cmdstanpy - INFO - Chain [1] start processing\n",
      "16:26:58 - cmdstanpy - INFO - Chain [1] done processing\n",
      "16:26:58 - cmdstanpy - INFO - Chain [1] start processing\n",
      "16:26:58 - cmdstanpy - INFO - Chain [1] done processing\n",
      "16:26:58 - cmdstanpy - INFO - Chain [1] start processing\n",
      "16:26:59 - cmdstanpy - INFO - Chain [1] done processing\n",
      "Seasonality has period of 365.25 days which is larger than initial window. Consider increasing initial.\n"
     ]
    },
    {
     "data": {
      "application/vnd.jupyter.widget-view+json": {
       "model_id": "8f13ec974bb7450dad87ed6a0e170c80",
       "version_major": 2,
       "version_minor": 0
      },
      "text/plain": [
       "  0%|          | 0/3 [00:00<?, ?it/s]"
      ]
     },
     "metadata": {},
     "output_type": "display_data"
    },
    {
     "name": "stderr",
     "output_type": "stream",
     "text": [
      "16:26:59 - cmdstanpy - INFO - Chain [1] start processing\n",
      "16:26:59 - cmdstanpy - INFO - Chain [1] done processing\n",
      "16:26:59 - cmdstanpy - INFO - Chain [1] start processing\n",
      "16:26:59 - cmdstanpy - INFO - Chain [1] done processing\n",
      "16:27:00 - cmdstanpy - INFO - Chain [1] start processing\n",
      "16:27:00 - cmdstanpy - INFO - Chain [1] done processing\n",
      "16:27:00 - cmdstanpy - INFO - Chain [1] start processing\n",
      "16:27:00 - cmdstanpy - INFO - Chain [1] done processing\n",
      "Seasonality has period of 365.25 days which is larger than initial window. Consider increasing initial.\n"
     ]
    },
    {
     "data": {
      "application/vnd.jupyter.widget-view+json": {
       "model_id": "4d444627cd4d41fcbaae7c8d2f685029",
       "version_major": 2,
       "version_minor": 0
      },
      "text/plain": [
       "  0%|          | 0/3 [00:00<?, ?it/s]"
      ]
     },
     "metadata": {},
     "output_type": "display_data"
    },
    {
     "name": "stderr",
     "output_type": "stream",
     "text": [
      "16:27:01 - cmdstanpy - INFO - Chain [1] start processing\n",
      "16:27:01 - cmdstanpy - INFO - Chain [1] done processing\n",
      "16:27:01 - cmdstanpy - INFO - Chain [1] start processing\n",
      "16:27:01 - cmdstanpy - INFO - Chain [1] done processing\n",
      "16:27:01 - cmdstanpy - INFO - Chain [1] start processing\n",
      "16:27:01 - cmdstanpy - INFO - Chain [1] done processing\n",
      "16:27:02 - cmdstanpy - INFO - Chain [1] start processing\n",
      "16:27:02 - cmdstanpy - INFO - Chain [1] done processing\n",
      "Seasonality has period of 365.25 days which is larger than initial window. Consider increasing initial.\n"
     ]
    },
    {
     "data": {
      "application/vnd.jupyter.widget-view+json": {
       "model_id": "ca123fec6d5e4e909c74d161ed6a769c",
       "version_major": 2,
       "version_minor": 0
      },
      "text/plain": [
       "  0%|          | 0/3 [00:00<?, ?it/s]"
      ]
     },
     "metadata": {},
     "output_type": "display_data"
    },
    {
     "name": "stderr",
     "output_type": "stream",
     "text": [
      "16:27:02 - cmdstanpy - INFO - Chain [1] start processing\n",
      "16:27:02 - cmdstanpy - INFO - Chain [1] done processing\n",
      "16:27:03 - cmdstanpy - INFO - Chain [1] start processing\n",
      "16:27:03 - cmdstanpy - INFO - Chain [1] done processing\n",
      "16:27:03 - cmdstanpy - INFO - Chain [1] start processing\n",
      "16:27:03 - cmdstanpy - INFO - Chain [1] done processing\n",
      "16:27:03 - cmdstanpy - INFO - Chain [1] start processing\n",
      "16:27:03 - cmdstanpy - INFO - Chain [1] done processing\n",
      "Seasonality has period of 365.25 days which is larger than initial window. Consider increasing initial.\n"
     ]
    },
    {
     "data": {
      "application/vnd.jupyter.widget-view+json": {
       "model_id": "40fc577f29444607bb127863442373a0",
       "version_major": 2,
       "version_minor": 0
      },
      "text/plain": [
       "  0%|          | 0/3 [00:00<?, ?it/s]"
      ]
     },
     "metadata": {},
     "output_type": "display_data"
    },
    {
     "name": "stderr",
     "output_type": "stream",
     "text": [
      "16:27:04 - cmdstanpy - INFO - Chain [1] start processing\n",
      "16:27:04 - cmdstanpy - INFO - Chain [1] done processing\n",
      "16:27:04 - cmdstanpy - INFO - Chain [1] start processing\n",
      "16:27:04 - cmdstanpy - INFO - Chain [1] done processing\n",
      "16:27:04 - cmdstanpy - INFO - Chain [1] start processing\n",
      "16:27:04 - cmdstanpy - INFO - Chain [1] done processing\n",
      "16:27:05 - cmdstanpy - INFO - Chain [1] start processing\n",
      "16:27:05 - cmdstanpy - INFO - Chain [1] done processing\n",
      "Seasonality has period of 365.25 days which is larger than initial window. Consider increasing initial.\n"
     ]
    },
    {
     "data": {
      "application/vnd.jupyter.widget-view+json": {
       "model_id": "be3db04a46f84245ae3bd5537a94beec",
       "version_major": 2,
       "version_minor": 0
      },
      "text/plain": [
       "  0%|          | 0/3 [00:00<?, ?it/s]"
      ]
     },
     "metadata": {},
     "output_type": "display_data"
    },
    {
     "name": "stderr",
     "output_type": "stream",
     "text": [
      "16:27:05 - cmdstanpy - INFO - Chain [1] start processing\n",
      "16:27:05 - cmdstanpy - INFO - Chain [1] done processing\n",
      "16:27:05 - cmdstanpy - INFO - Chain [1] start processing\n",
      "16:27:05 - cmdstanpy - INFO - Chain [1] done processing\n",
      "16:27:06 - cmdstanpy - INFO - Chain [1] start processing\n",
      "16:27:06 - cmdstanpy - INFO - Chain [1] done processing\n",
      "16:27:06 - cmdstanpy - INFO - Chain [1] start processing\n",
      "16:27:06 - cmdstanpy - INFO - Chain [1] done processing\n",
      "Seasonality has period of 365.25 days which is larger than initial window. Consider increasing initial.\n"
     ]
    },
    {
     "data": {
      "application/vnd.jupyter.widget-view+json": {
       "model_id": "d5b5590bad784e348f5096dd16752369",
       "version_major": 2,
       "version_minor": 0
      },
      "text/plain": [
       "  0%|          | 0/3 [00:00<?, ?it/s]"
      ]
     },
     "metadata": {},
     "output_type": "display_data"
    },
    {
     "name": "stderr",
     "output_type": "stream",
     "text": [
      "16:27:07 - cmdstanpy - INFO - Chain [1] start processing\n",
      "16:27:07 - cmdstanpy - INFO - Chain [1] done processing\n",
      "16:27:07 - cmdstanpy - INFO - Chain [1] start processing\n",
      "16:27:07 - cmdstanpy - INFO - Chain [1] done processing\n",
      "16:27:07 - cmdstanpy - INFO - Chain [1] start processing\n",
      "16:27:07 - cmdstanpy - INFO - Chain [1] done processing\n",
      "16:27:08 - cmdstanpy - INFO - Chain [1] start processing\n",
      "16:27:08 - cmdstanpy - INFO - Chain [1] done processing\n",
      "Seasonality has period of 365.25 days which is larger than initial window. Consider increasing initial.\n"
     ]
    },
    {
     "data": {
      "application/vnd.jupyter.widget-view+json": {
       "model_id": "99b82fbd22634342ba1995dfb26723a7",
       "version_major": 2,
       "version_minor": 0
      },
      "text/plain": [
       "  0%|          | 0/3 [00:00<?, ?it/s]"
      ]
     },
     "metadata": {},
     "output_type": "display_data"
    },
    {
     "name": "stderr",
     "output_type": "stream",
     "text": [
      "16:27:08 - cmdstanpy - INFO - Chain [1] start processing\n",
      "16:27:08 - cmdstanpy - INFO - Chain [1] done processing\n",
      "16:27:08 - cmdstanpy - INFO - Chain [1] start processing\n",
      "16:27:09 - cmdstanpy - INFO - Chain [1] done processing\n",
      "16:27:09 - cmdstanpy - INFO - Chain [1] start processing\n",
      "16:27:09 - cmdstanpy - INFO - Chain [1] done processing\n",
      "16:27:09 - cmdstanpy - INFO - Chain [1] start processing\n",
      "16:27:09 - cmdstanpy - INFO - Chain [1] done processing\n",
      "Seasonality has period of 365.25 days which is larger than initial window. Consider increasing initial.\n"
     ]
    },
    {
     "data": {
      "application/vnd.jupyter.widget-view+json": {
       "model_id": "eb506b5031454a4588a261ca5051c6e6",
       "version_major": 2,
       "version_minor": 0
      },
      "text/plain": [
       "  0%|          | 0/3 [00:00<?, ?it/s]"
      ]
     },
     "metadata": {},
     "output_type": "display_data"
    },
    {
     "name": "stderr",
     "output_type": "stream",
     "text": [
      "16:27:10 - cmdstanpy - INFO - Chain [1] start processing\n",
      "16:27:10 - cmdstanpy - INFO - Chain [1] done processing\n",
      "16:27:10 - cmdstanpy - INFO - Chain [1] start processing\n",
      "16:27:10 - cmdstanpy - INFO - Chain [1] done processing\n",
      "16:27:10 - cmdstanpy - INFO - Chain [1] start processing\n",
      "16:27:10 - cmdstanpy - INFO - Chain [1] done processing\n"
     ]
    },
    {
     "name": "stdout",
     "output_type": "stream",
     "text": [
      "Best parameters: params    {'changepoint_prior_scale': 0.2, 'holidays_pri...\n",
      "MAPE                                               0.057054\n",
      "Name: 97, dtype: object\n"
     ]
    }
   ],
   "source": [
    "# Define the hyperparameter grid\n",
    "param_grid = {\n",
    "    'changepoint_prior_scale': [0.004, 0.09, 0.1, 0.2],\n",
    "    'seasonality_prior_scale': [0.009, 0.01, 0.02, 0.03],\n",
    "    'holidays_prior_scale': [0.009, 0.01, 0.02, 0.03],\n",
    "    'seasonality_mode': ['additive', 'multiplicative']\n",
    "}\n",
    "\n",
    "# Create a list of all combinations of hyperparameters\n",
    "all_params = list(ParameterGrid(param_grid))\n",
    "\n",
    "list_of_result_dicts = []\n",
    "list_of_scores = []\n",
    "# Perform grid search\n",
    "for params in all_params:\n",
    "\n",
    "    m = Prophet(\n",
    "        changepoint_prior_scale=params['changepoint_prior_scale'],\n",
    "        seasonality_prior_scale=params['seasonality_prior_scale'],\n",
    "        holidays_prior_scale=params['holidays_prior_scale'],\n",
    "        seasonality_mode=params['seasonality_mode']\n",
    "    )\n",
    "    m.fit(Prague_1_full_date_range)\n",
    "\n",
    "    # Define the initial, period, and horizon for cross-validation\n",
    "    initial = '365 days'\n",
    "    period = '180 days'\n",
    "    horizon = '365 days'\n",
    "\n",
    "    # Compute MAPE using cross-validation\n",
    "    mape = cross_validation_mape(m, Prague_1_full_date_range, initial, period, horizon)\n",
    "\n",
    "    # Store the results\n",
    "    list_of_result_dicts.append(params)\n",
    "    list_of_scores.append(mape)\n",
    "\n",
    "results = pd.DataFrame({\"params\": list_of_result_dicts,\n",
    "                        \"MAPE\": list_of_scores})\n",
    "\n",
    "# Find the best hyperparameters\n",
    "best_params = results.loc[results['MAPE'].idxmin()]\n",
    "print(f\"Best parameters: {best_params}\")"
   ]
  },
  {
   "cell_type": "code",
   "execution_count": 43,
   "metadata": {},
   "outputs": [
    {
     "name": "stdout",
     "output_type": "stream",
     "text": [
      "params    {'changepoint_prior_scale': 0.2, 'holidays_pri...\n",
      "MAPE                                               0.057054\n",
      "Name: 97, dtype: object\n",
      "{'changepoint_prior_scale': 0.2, 'holidays_prior_scale': 0.009, 'seasonality_mode': 'additive', 'seasonality_prior_scale': 0.01}\n"
     ]
    }
   ],
   "source": [
    "print(best_params)\n",
    "print(best_params[\"params\"])"
   ]
  },
  {
   "cell_type": "code",
   "execution_count": 44,
   "metadata": {},
   "outputs": [
    {
     "name": "stderr",
     "output_type": "stream",
     "text": [
      "16:30:58 - cmdstanpy - INFO - Chain [1] start processing\n",
      "16:30:58 - cmdstanpy - INFO - Chain [1] done processing\n",
      "Seasonality has period of 365.25 days which is larger than initial window. Consider increasing initial.\n"
     ]
    },
    {
     "data": {
      "application/vnd.jupyter.widget-view+json": {
       "model_id": "d471879252674151b148d72361b0667d",
       "version_major": 2,
       "version_minor": 0
      },
      "text/plain": [
       "  0%|          | 0/3 [00:00<?, ?it/s]"
      ]
     },
     "metadata": {},
     "output_type": "display_data"
    },
    {
     "name": "stderr",
     "output_type": "stream",
     "text": [
      "16:30:59 - cmdstanpy - INFO - Chain [1] start processing\n",
      "16:30:59 - cmdstanpy - INFO - Chain [1] done processing\n",
      "16:30:59 - cmdstanpy - INFO - Chain [1] start processing\n",
      "16:30:59 - cmdstanpy - INFO - Chain [1] done processing\n",
      "16:31:00 - cmdstanpy - INFO - Chain [1] start processing\n",
      "16:31:00 - cmdstanpy - INFO - Chain [1] done processing\n",
      "16:31:00 - cmdstanpy - INFO - Chain [1] start processing\n",
      "16:31:00 - cmdstanpy - INFO - Chain [1] done processing\n",
      "Seasonality has period of 365.25 days which is larger than initial window. Consider increasing initial.\n"
     ]
    },
    {
     "data": {
      "application/vnd.jupyter.widget-view+json": {
       "model_id": "c903c84fab1048e0b01c353979e30436",
       "version_major": 2,
       "version_minor": 0
      },
      "text/plain": [
       "  0%|          | 0/3 [00:00<?, ?it/s]"
      ]
     },
     "metadata": {},
     "output_type": "display_data"
    },
    {
     "name": "stderr",
     "output_type": "stream",
     "text": [
      "16:31:00 - cmdstanpy - INFO - Chain [1] start processing\n",
      "16:31:00 - cmdstanpy - INFO - Chain [1] done processing\n",
      "16:31:01 - cmdstanpy - INFO - Chain [1] start processing\n",
      "16:31:01 - cmdstanpy - INFO - Chain [1] done processing\n",
      "16:31:01 - cmdstanpy - INFO - Chain [1] start processing\n",
      "16:31:01 - cmdstanpy - INFO - Chain [1] done processing\n",
      "16:31:02 - cmdstanpy - INFO - Chain [1] start processing\n",
      "16:31:02 - cmdstanpy - INFO - Chain [1] done processing\n",
      "Seasonality has period of 365.25 days which is larger than initial window. Consider increasing initial.\n"
     ]
    },
    {
     "data": {
      "application/vnd.jupyter.widget-view+json": {
       "model_id": "5a554a9d0a914085803d39d49326b0ec",
       "version_major": 2,
       "version_minor": 0
      },
      "text/plain": [
       "  0%|          | 0/3 [00:00<?, ?it/s]"
      ]
     },
     "metadata": {},
     "output_type": "display_data"
    },
    {
     "name": "stderr",
     "output_type": "stream",
     "text": [
      "16:31:02 - cmdstanpy - INFO - Chain [1] start processing\n",
      "16:31:02 - cmdstanpy - INFO - Chain [1] done processing\n",
      "16:31:02 - cmdstanpy - INFO - Chain [1] start processing\n",
      "16:31:02 - cmdstanpy - INFO - Chain [1] done processing\n",
      "16:31:03 - cmdstanpy - INFO - Chain [1] start processing\n",
      "16:31:03 - cmdstanpy - INFO - Chain [1] done processing\n",
      "16:31:03 - cmdstanpy - INFO - Chain [1] start processing\n",
      "16:31:03 - cmdstanpy - INFO - Chain [1] done processing\n",
      "Seasonality has period of 365.25 days which is larger than initial window. Consider increasing initial.\n"
     ]
    },
    {
     "data": {
      "application/vnd.jupyter.widget-view+json": {
       "model_id": "3fcbb57fce36466ba3c62752b3eb4b70",
       "version_major": 2,
       "version_minor": 0
      },
      "text/plain": [
       "  0%|          | 0/3 [00:00<?, ?it/s]"
      ]
     },
     "metadata": {},
     "output_type": "display_data"
    },
    {
     "name": "stderr",
     "output_type": "stream",
     "text": [
      "16:31:03 - cmdstanpy - INFO - Chain [1] start processing\n",
      "16:31:03 - cmdstanpy - INFO - Chain [1] done processing\n",
      "16:31:04 - cmdstanpy - INFO - Chain [1] start processing\n",
      "16:31:04 - cmdstanpy - INFO - Chain [1] done processing\n",
      "16:31:04 - cmdstanpy - INFO - Chain [1] start processing\n",
      "16:31:04 - cmdstanpy - INFO - Chain [1] done processing\n",
      "16:31:05 - cmdstanpy - INFO - Chain [1] start processing\n",
      "16:31:05 - cmdstanpy - INFO - Chain [1] done processing\n",
      "Seasonality has period of 365.25 days which is larger than initial window. Consider increasing initial.\n"
     ]
    },
    {
     "data": {
      "application/vnd.jupyter.widget-view+json": {
       "model_id": "aa5e0aa9c1f74910a0d7430440c3124f",
       "version_major": 2,
       "version_minor": 0
      },
      "text/plain": [
       "  0%|          | 0/3 [00:00<?, ?it/s]"
      ]
     },
     "metadata": {},
     "output_type": "display_data"
    },
    {
     "name": "stderr",
     "output_type": "stream",
     "text": [
      "16:31:05 - cmdstanpy - INFO - Chain [1] start processing\n",
      "16:31:05 - cmdstanpy - INFO - Chain [1] done processing\n",
      "16:31:05 - cmdstanpy - INFO - Chain [1] start processing\n",
      "16:31:05 - cmdstanpy - INFO - Chain [1] done processing\n",
      "16:31:06 - cmdstanpy - INFO - Chain [1] start processing\n",
      "16:31:06 - cmdstanpy - INFO - Chain [1] done processing\n",
      "16:31:06 - cmdstanpy - INFO - Chain [1] start processing\n",
      "16:31:06 - cmdstanpy - INFO - Chain [1] done processing\n",
      "Seasonality has period of 365.25 days which is larger than initial window. Consider increasing initial.\n"
     ]
    },
    {
     "data": {
      "application/vnd.jupyter.widget-view+json": {
       "model_id": "8ea25e73422a4d079dfe2c7d6a7bfc04",
       "version_major": 2,
       "version_minor": 0
      },
      "text/plain": [
       "  0%|          | 0/3 [00:00<?, ?it/s]"
      ]
     },
     "metadata": {},
     "output_type": "display_data"
    },
    {
     "name": "stderr",
     "output_type": "stream",
     "text": [
      "16:31:06 - cmdstanpy - INFO - Chain [1] start processing\n",
      "16:31:06 - cmdstanpy - INFO - Chain [1] done processing\n",
      "16:31:07 - cmdstanpy - INFO - Chain [1] start processing\n",
      "16:31:07 - cmdstanpy - INFO - Chain [1] done processing\n",
      "16:31:07 - cmdstanpy - INFO - Chain [1] start processing\n",
      "16:31:07 - cmdstanpy - INFO - Chain [1] done processing\n",
      "16:31:08 - cmdstanpy - INFO - Chain [1] start processing\n",
      "16:31:08 - cmdstanpy - INFO - Chain [1] done processing\n",
      "Seasonality has period of 365.25 days which is larger than initial window. Consider increasing initial.\n"
     ]
    },
    {
     "data": {
      "application/vnd.jupyter.widget-view+json": {
       "model_id": "0d1f5d01cc3c4250a960efc9664d0704",
       "version_major": 2,
       "version_minor": 0
      },
      "text/plain": [
       "  0%|          | 0/3 [00:00<?, ?it/s]"
      ]
     },
     "metadata": {},
     "output_type": "display_data"
    },
    {
     "name": "stderr",
     "output_type": "stream",
     "text": [
      "16:31:08 - cmdstanpy - INFO - Chain [1] start processing\n",
      "16:31:08 - cmdstanpy - INFO - Chain [1] done processing\n",
      "16:31:08 - cmdstanpy - INFO - Chain [1] start processing\n",
      "16:31:08 - cmdstanpy - INFO - Chain [1] done processing\n",
      "16:31:09 - cmdstanpy - INFO - Chain [1] start processing\n",
      "16:31:09 - cmdstanpy - INFO - Chain [1] done processing\n",
      "16:31:09 - cmdstanpy - INFO - Chain [1] start processing\n",
      "16:31:09 - cmdstanpy - INFO - Chain [1] done processing\n",
      "Seasonality has period of 365.25 days which is larger than initial window. Consider increasing initial.\n"
     ]
    },
    {
     "data": {
      "application/vnd.jupyter.widget-view+json": {
       "model_id": "4d9cc7792e39474887eeb9c58cb12515",
       "version_major": 2,
       "version_minor": 0
      },
      "text/plain": [
       "  0%|          | 0/3 [00:00<?, ?it/s]"
      ]
     },
     "metadata": {},
     "output_type": "display_data"
    },
    {
     "name": "stderr",
     "output_type": "stream",
     "text": [
      "16:31:09 - cmdstanpy - INFO - Chain [1] start processing\n",
      "16:31:09 - cmdstanpy - INFO - Chain [1] done processing\n",
      "16:31:10 - cmdstanpy - INFO - Chain [1] start processing\n",
      "16:31:10 - cmdstanpy - INFO - Chain [1] done processing\n",
      "16:31:10 - cmdstanpy - INFO - Chain [1] start processing\n",
      "16:31:10 - cmdstanpy - INFO - Chain [1] done processing\n",
      "16:31:11 - cmdstanpy - INFO - Chain [1] start processing\n",
      "16:31:11 - cmdstanpy - INFO - Chain [1] done processing\n",
      "Seasonality has period of 365.25 days which is larger than initial window. Consider increasing initial.\n"
     ]
    },
    {
     "data": {
      "application/vnd.jupyter.widget-view+json": {
       "model_id": "e41a824e36ba4472908ca988f1cf0d5c",
       "version_major": 2,
       "version_minor": 0
      },
      "text/plain": [
       "  0%|          | 0/3 [00:00<?, ?it/s]"
      ]
     },
     "metadata": {},
     "output_type": "display_data"
    },
    {
     "name": "stderr",
     "output_type": "stream",
     "text": [
      "16:31:11 - cmdstanpy - INFO - Chain [1] start processing\n",
      "16:31:11 - cmdstanpy - INFO - Chain [1] done processing\n",
      "16:31:11 - cmdstanpy - INFO - Chain [1] start processing\n",
      "16:31:11 - cmdstanpy - INFO - Chain [1] done processing\n",
      "16:31:12 - cmdstanpy - INFO - Chain [1] start processing\n",
      "16:31:12 - cmdstanpy - INFO - Chain [1] done processing\n",
      "16:31:12 - cmdstanpy - INFO - Chain [1] start processing\n",
      "16:31:12 - cmdstanpy - INFO - Chain [1] done processing\n",
      "Seasonality has period of 365.25 days which is larger than initial window. Consider increasing initial.\n"
     ]
    },
    {
     "data": {
      "application/vnd.jupyter.widget-view+json": {
       "model_id": "904af379f7954081945d1a76115df86f",
       "version_major": 2,
       "version_minor": 0
      },
      "text/plain": [
       "  0%|          | 0/3 [00:00<?, ?it/s]"
      ]
     },
     "metadata": {},
     "output_type": "display_data"
    },
    {
     "name": "stderr",
     "output_type": "stream",
     "text": [
      "16:31:12 - cmdstanpy - INFO - Chain [1] start processing\n",
      "16:31:12 - cmdstanpy - INFO - Chain [1] done processing\n",
      "16:31:13 - cmdstanpy - INFO - Chain [1] start processing\n",
      "16:31:13 - cmdstanpy - INFO - Chain [1] done processing\n",
      "16:31:13 - cmdstanpy - INFO - Chain [1] start processing\n",
      "16:31:13 - cmdstanpy - INFO - Chain [1] done processing\n",
      "16:31:14 - cmdstanpy - INFO - Chain [1] start processing\n",
      "16:31:14 - cmdstanpy - INFO - Chain [1] done processing\n",
      "Seasonality has period of 365.25 days which is larger than initial window. Consider increasing initial.\n"
     ]
    },
    {
     "data": {
      "application/vnd.jupyter.widget-view+json": {
       "model_id": "45fde78307db46469479d9321b54639e",
       "version_major": 2,
       "version_minor": 0
      },
      "text/plain": [
       "  0%|          | 0/3 [00:00<?, ?it/s]"
      ]
     },
     "metadata": {},
     "output_type": "display_data"
    },
    {
     "name": "stderr",
     "output_type": "stream",
     "text": [
      "16:31:14 - cmdstanpy - INFO - Chain [1] start processing\n",
      "16:31:14 - cmdstanpy - INFO - Chain [1] done processing\n",
      "16:31:14 - cmdstanpy - INFO - Chain [1] start processing\n",
      "16:31:14 - cmdstanpy - INFO - Chain [1] done processing\n",
      "16:31:15 - cmdstanpy - INFO - Chain [1] start processing\n",
      "16:31:15 - cmdstanpy - INFO - Chain [1] done processing\n",
      "16:31:15 - cmdstanpy - INFO - Chain [1] start processing\n",
      "16:31:15 - cmdstanpy - INFO - Chain [1] done processing\n",
      "Seasonality has period of 365.25 days which is larger than initial window. Consider increasing initial.\n"
     ]
    },
    {
     "data": {
      "application/vnd.jupyter.widget-view+json": {
       "model_id": "d04a2e8697c24ebd8a575683d923d40d",
       "version_major": 2,
       "version_minor": 0
      },
      "text/plain": [
       "  0%|          | 0/3 [00:00<?, ?it/s]"
      ]
     },
     "metadata": {},
     "output_type": "display_data"
    },
    {
     "name": "stderr",
     "output_type": "stream",
     "text": [
      "16:31:15 - cmdstanpy - INFO - Chain [1] start processing\n",
      "16:31:15 - cmdstanpy - INFO - Chain [1] done processing\n",
      "16:31:16 - cmdstanpy - INFO - Chain [1] start processing\n",
      "16:31:16 - cmdstanpy - INFO - Chain [1] done processing\n",
      "16:31:16 - cmdstanpy - INFO - Chain [1] start processing\n",
      "16:31:16 - cmdstanpy - INFO - Chain [1] done processing\n",
      "16:31:17 - cmdstanpy - INFO - Chain [1] start processing\n",
      "16:31:17 - cmdstanpy - INFO - Chain [1] done processing\n",
      "Seasonality has period of 365.25 days which is larger than initial window. Consider increasing initial.\n"
     ]
    },
    {
     "data": {
      "application/vnd.jupyter.widget-view+json": {
       "model_id": "aabadcabac8a47029088c109b6ec467b",
       "version_major": 2,
       "version_minor": 0
      },
      "text/plain": [
       "  0%|          | 0/3 [00:00<?, ?it/s]"
      ]
     },
     "metadata": {},
     "output_type": "display_data"
    },
    {
     "name": "stderr",
     "output_type": "stream",
     "text": [
      "16:31:17 - cmdstanpy - INFO - Chain [1] start processing\n",
      "16:31:17 - cmdstanpy - INFO - Chain [1] done processing\n",
      "16:31:17 - cmdstanpy - INFO - Chain [1] start processing\n",
      "16:31:17 - cmdstanpy - INFO - Chain [1] done processing\n",
      "16:31:18 - cmdstanpy - INFO - Chain [1] start processing\n",
      "16:31:18 - cmdstanpy - INFO - Chain [1] done processing\n",
      "16:31:18 - cmdstanpy - INFO - Chain [1] start processing\n",
      "16:31:18 - cmdstanpy - INFO - Chain [1] done processing\n",
      "Seasonality has period of 365.25 days which is larger than initial window. Consider increasing initial.\n"
     ]
    },
    {
     "data": {
      "application/vnd.jupyter.widget-view+json": {
       "model_id": "3a4e3f72320740649e52c911f38911d3",
       "version_major": 2,
       "version_minor": 0
      },
      "text/plain": [
       "  0%|          | 0/3 [00:00<?, ?it/s]"
      ]
     },
     "metadata": {},
     "output_type": "display_data"
    },
    {
     "name": "stderr",
     "output_type": "stream",
     "text": [
      "16:31:18 - cmdstanpy - INFO - Chain [1] start processing\n",
      "16:31:18 - cmdstanpy - INFO - Chain [1] done processing\n",
      "16:31:19 - cmdstanpy - INFO - Chain [1] start processing\n",
      "16:31:19 - cmdstanpy - INFO - Chain [1] done processing\n",
      "16:31:19 - cmdstanpy - INFO - Chain [1] start processing\n",
      "16:31:19 - cmdstanpy - INFO - Chain [1] done processing\n",
      "16:31:20 - cmdstanpy - INFO - Chain [1] start processing\n",
      "16:31:20 - cmdstanpy - INFO - Chain [1] done processing\n",
      "Seasonality has period of 365.25 days which is larger than initial window. Consider increasing initial.\n"
     ]
    },
    {
     "data": {
      "application/vnd.jupyter.widget-view+json": {
       "model_id": "597e72ecf808456dac0d276a24351e5a",
       "version_major": 2,
       "version_minor": 0
      },
      "text/plain": [
       "  0%|          | 0/3 [00:00<?, ?it/s]"
      ]
     },
     "metadata": {},
     "output_type": "display_data"
    },
    {
     "name": "stderr",
     "output_type": "stream",
     "text": [
      "16:31:20 - cmdstanpy - INFO - Chain [1] start processing\n",
      "16:31:20 - cmdstanpy - INFO - Chain [1] done processing\n",
      "16:31:20 - cmdstanpy - INFO - Chain [1] start processing\n",
      "16:31:20 - cmdstanpy - INFO - Chain [1] done processing\n",
      "16:31:21 - cmdstanpy - INFO - Chain [1] start processing\n",
      "16:31:21 - cmdstanpy - INFO - Chain [1] done processing\n",
      "16:31:21 - cmdstanpy - INFO - Chain [1] start processing\n",
      "16:31:21 - cmdstanpy - INFO - Chain [1] done processing\n",
      "Seasonality has period of 365.25 days which is larger than initial window. Consider increasing initial.\n"
     ]
    },
    {
     "data": {
      "application/vnd.jupyter.widget-view+json": {
       "model_id": "1e48a0a97a9d4a02becf640d1df91e93",
       "version_major": 2,
       "version_minor": 0
      },
      "text/plain": [
       "  0%|          | 0/3 [00:00<?, ?it/s]"
      ]
     },
     "metadata": {},
     "output_type": "display_data"
    },
    {
     "name": "stderr",
     "output_type": "stream",
     "text": [
      "16:31:21 - cmdstanpy - INFO - Chain [1] start processing\n",
      "16:31:21 - cmdstanpy - INFO - Chain [1] done processing\n",
      "16:31:22 - cmdstanpy - INFO - Chain [1] start processing\n",
      "16:31:22 - cmdstanpy - INFO - Chain [1] done processing\n",
      "16:31:22 - cmdstanpy - INFO - Chain [1] start processing\n",
      "16:31:22 - cmdstanpy - INFO - Chain [1] done processing\n",
      "16:31:23 - cmdstanpy - INFO - Chain [1] start processing\n",
      "16:31:23 - cmdstanpy - INFO - Chain [1] done processing\n",
      "Seasonality has period of 365.25 days which is larger than initial window. Consider increasing initial.\n"
     ]
    },
    {
     "data": {
      "application/vnd.jupyter.widget-view+json": {
       "model_id": "d4c841d288d14c178d0ad66e7aea29b6",
       "version_major": 2,
       "version_minor": 0
      },
      "text/plain": [
       "  0%|          | 0/3 [00:00<?, ?it/s]"
      ]
     },
     "metadata": {},
     "output_type": "display_data"
    },
    {
     "name": "stderr",
     "output_type": "stream",
     "text": [
      "16:31:23 - cmdstanpy - INFO - Chain [1] start processing\n",
      "16:31:23 - cmdstanpy - INFO - Chain [1] done processing\n",
      "16:31:23 - cmdstanpy - INFO - Chain [1] start processing\n",
      "16:31:23 - cmdstanpy - INFO - Chain [1] done processing\n",
      "16:31:24 - cmdstanpy - INFO - Chain [1] start processing\n",
      "16:31:24 - cmdstanpy - INFO - Chain [1] done processing\n",
      "16:31:24 - cmdstanpy - INFO - Chain [1] start processing\n",
      "16:31:24 - cmdstanpy - INFO - Chain [1] done processing\n",
      "Seasonality has period of 365.25 days which is larger than initial window. Consider increasing initial.\n"
     ]
    },
    {
     "data": {
      "application/vnd.jupyter.widget-view+json": {
       "model_id": "c5da3fd0db9d47049d0955fa20a48339",
       "version_major": 2,
       "version_minor": 0
      },
      "text/plain": [
       "  0%|          | 0/3 [00:00<?, ?it/s]"
      ]
     },
     "metadata": {},
     "output_type": "display_data"
    },
    {
     "name": "stderr",
     "output_type": "stream",
     "text": [
      "16:31:24 - cmdstanpy - INFO - Chain [1] start processing\n",
      "16:31:24 - cmdstanpy - INFO - Chain [1] done processing\n",
      "16:31:25 - cmdstanpy - INFO - Chain [1] start processing\n",
      "16:31:25 - cmdstanpy - INFO - Chain [1] done processing\n",
      "16:31:25 - cmdstanpy - INFO - Chain [1] start processing\n",
      "16:31:25 - cmdstanpy - INFO - Chain [1] done processing\n",
      "16:31:26 - cmdstanpy - INFO - Chain [1] start processing\n",
      "16:31:26 - cmdstanpy - INFO - Chain [1] done processing\n",
      "Seasonality has period of 365.25 days which is larger than initial window. Consider increasing initial.\n"
     ]
    },
    {
     "data": {
      "application/vnd.jupyter.widget-view+json": {
       "model_id": "62d8341bc5ff41b7aefbab44d03ca9e1",
       "version_major": 2,
       "version_minor": 0
      },
      "text/plain": [
       "  0%|          | 0/3 [00:00<?, ?it/s]"
      ]
     },
     "metadata": {},
     "output_type": "display_data"
    },
    {
     "name": "stderr",
     "output_type": "stream",
     "text": [
      "16:31:26 - cmdstanpy - INFO - Chain [1] start processing\n",
      "16:31:26 - cmdstanpy - INFO - Chain [1] done processing\n",
      "16:31:26 - cmdstanpy - INFO - Chain [1] start processing\n",
      "16:31:26 - cmdstanpy - INFO - Chain [1] done processing\n",
      "16:31:27 - cmdstanpy - INFO - Chain [1] start processing\n",
      "16:31:27 - cmdstanpy - INFO - Chain [1] done processing\n",
      "16:31:27 - cmdstanpy - INFO - Chain [1] start processing\n",
      "16:31:27 - cmdstanpy - INFO - Chain [1] done processing\n",
      "Seasonality has period of 365.25 days which is larger than initial window. Consider increasing initial.\n"
     ]
    },
    {
     "data": {
      "application/vnd.jupyter.widget-view+json": {
       "model_id": "9c741d1eb1c2423bb2d03be98034cdc5",
       "version_major": 2,
       "version_minor": 0
      },
      "text/plain": [
       "  0%|          | 0/3 [00:00<?, ?it/s]"
      ]
     },
     "metadata": {},
     "output_type": "display_data"
    },
    {
     "name": "stderr",
     "output_type": "stream",
     "text": [
      "16:31:27 - cmdstanpy - INFO - Chain [1] start processing\n",
      "16:31:27 - cmdstanpy - INFO - Chain [1] done processing\n",
      "16:31:28 - cmdstanpy - INFO - Chain [1] start processing\n",
      "16:31:28 - cmdstanpy - INFO - Chain [1] done processing\n",
      "16:31:28 - cmdstanpy - INFO - Chain [1] start processing\n",
      "16:31:28 - cmdstanpy - INFO - Chain [1] done processing\n",
      "16:31:29 - cmdstanpy - INFO - Chain [1] start processing\n",
      "16:31:29 - cmdstanpy - INFO - Chain [1] done processing\n",
      "Seasonality has period of 365.25 days which is larger than initial window. Consider increasing initial.\n"
     ]
    },
    {
     "data": {
      "application/vnd.jupyter.widget-view+json": {
       "model_id": "148bd7fe13da47dc946d1b42501f8dde",
       "version_major": 2,
       "version_minor": 0
      },
      "text/plain": [
       "  0%|          | 0/3 [00:00<?, ?it/s]"
      ]
     },
     "metadata": {},
     "output_type": "display_data"
    },
    {
     "name": "stderr",
     "output_type": "stream",
     "text": [
      "16:31:29 - cmdstanpy - INFO - Chain [1] start processing\n",
      "16:31:29 - cmdstanpy - INFO - Chain [1] done processing\n",
      "16:31:29 - cmdstanpy - INFO - Chain [1] start processing\n",
      "16:31:29 - cmdstanpy - INFO - Chain [1] done processing\n",
      "16:31:30 - cmdstanpy - INFO - Chain [1] start processing\n",
      "16:31:30 - cmdstanpy - INFO - Chain [1] done processing\n",
      "16:31:30 - cmdstanpy - INFO - Chain [1] start processing\n",
      "16:31:30 - cmdstanpy - INFO - Chain [1] done processing\n",
      "Seasonality has period of 365.25 days which is larger than initial window. Consider increasing initial.\n"
     ]
    },
    {
     "data": {
      "application/vnd.jupyter.widget-view+json": {
       "model_id": "8c0a9d3672a54cadabee56f20980f0f6",
       "version_major": 2,
       "version_minor": 0
      },
      "text/plain": [
       "  0%|          | 0/3 [00:00<?, ?it/s]"
      ]
     },
     "metadata": {},
     "output_type": "display_data"
    },
    {
     "name": "stderr",
     "output_type": "stream",
     "text": [
      "16:31:31 - cmdstanpy - INFO - Chain [1] start processing\n",
      "16:31:31 - cmdstanpy - INFO - Chain [1] done processing\n",
      "16:31:31 - cmdstanpy - INFO - Chain [1] start processing\n",
      "16:31:31 - cmdstanpy - INFO - Chain [1] done processing\n",
      "16:31:31 - cmdstanpy - INFO - Chain [1] start processing\n",
      "16:31:31 - cmdstanpy - INFO - Chain [1] done processing\n",
      "16:31:32 - cmdstanpy - INFO - Chain [1] start processing\n",
      "16:31:32 - cmdstanpy - INFO - Chain [1] done processing\n",
      "Seasonality has period of 365.25 days which is larger than initial window. Consider increasing initial.\n"
     ]
    },
    {
     "data": {
      "application/vnd.jupyter.widget-view+json": {
       "model_id": "1d0e60db4d5f461cb0bfd10495e37633",
       "version_major": 2,
       "version_minor": 0
      },
      "text/plain": [
       "  0%|          | 0/3 [00:00<?, ?it/s]"
      ]
     },
     "metadata": {},
     "output_type": "display_data"
    },
    {
     "name": "stderr",
     "output_type": "stream",
     "text": [
      "16:31:32 - cmdstanpy - INFO - Chain [1] start processing\n",
      "16:31:32 - cmdstanpy - INFO - Chain [1] done processing\n",
      "16:31:33 - cmdstanpy - INFO - Chain [1] start processing\n",
      "16:31:33 - cmdstanpy - INFO - Chain [1] done processing\n",
      "16:31:33 - cmdstanpy - INFO - Chain [1] start processing\n",
      "16:31:33 - cmdstanpy - INFO - Chain [1] done processing\n",
      "16:31:33 - cmdstanpy - INFO - Chain [1] start processing\n",
      "16:31:34 - cmdstanpy - INFO - Chain [1] done processing\n",
      "Seasonality has period of 365.25 days which is larger than initial window. Consider increasing initial.\n"
     ]
    },
    {
     "data": {
      "application/vnd.jupyter.widget-view+json": {
       "model_id": "ca47ed4aefe94e85bc6b182d7eb6733d",
       "version_major": 2,
       "version_minor": 0
      },
      "text/plain": [
       "  0%|          | 0/3 [00:00<?, ?it/s]"
      ]
     },
     "metadata": {},
     "output_type": "display_data"
    },
    {
     "name": "stderr",
     "output_type": "stream",
     "text": [
      "16:31:34 - cmdstanpy - INFO - Chain [1] start processing\n",
      "16:31:34 - cmdstanpy - INFO - Chain [1] done processing\n",
      "16:31:34 - cmdstanpy - INFO - Chain [1] start processing\n",
      "16:31:34 - cmdstanpy - INFO - Chain [1] done processing\n",
      "16:31:34 - cmdstanpy - INFO - Chain [1] start processing\n",
      "16:31:35 - cmdstanpy - INFO - Chain [1] done processing\n",
      "16:31:35 - cmdstanpy - INFO - Chain [1] start processing\n",
      "16:31:35 - cmdstanpy - INFO - Chain [1] done processing\n",
      "Seasonality has period of 365.25 days which is larger than initial window. Consider increasing initial.\n"
     ]
    },
    {
     "data": {
      "application/vnd.jupyter.widget-view+json": {
       "model_id": "c9d91e5f3a164dd1b794e18dad9a2ade",
       "version_major": 2,
       "version_minor": 0
      },
      "text/plain": [
       "  0%|          | 0/3 [00:00<?, ?it/s]"
      ]
     },
     "metadata": {},
     "output_type": "display_data"
    },
    {
     "name": "stderr",
     "output_type": "stream",
     "text": [
      "16:31:35 - cmdstanpy - INFO - Chain [1] start processing\n",
      "16:31:35 - cmdstanpy - INFO - Chain [1] done processing\n",
      "16:31:36 - cmdstanpy - INFO - Chain [1] start processing\n",
      "16:31:36 - cmdstanpy - INFO - Chain [1] done processing\n",
      "16:31:36 - cmdstanpy - INFO - Chain [1] start processing\n",
      "16:31:36 - cmdstanpy - INFO - Chain [1] done processing\n",
      "16:31:36 - cmdstanpy - INFO - Chain [1] start processing\n",
      "16:31:37 - cmdstanpy - INFO - Chain [1] done processing\n",
      "Seasonality has period of 365.25 days which is larger than initial window. Consider increasing initial.\n"
     ]
    },
    {
     "data": {
      "application/vnd.jupyter.widget-view+json": {
       "model_id": "b010010ce81a4801ad784e26925858d8",
       "version_major": 2,
       "version_minor": 0
      },
      "text/plain": [
       "  0%|          | 0/3 [00:00<?, ?it/s]"
      ]
     },
     "metadata": {},
     "output_type": "display_data"
    },
    {
     "name": "stderr",
     "output_type": "stream",
     "text": [
      "16:31:37 - cmdstanpy - INFO - Chain [1] start processing\n",
      "16:31:37 - cmdstanpy - INFO - Chain [1] done processing\n",
      "16:31:37 - cmdstanpy - INFO - Chain [1] start processing\n",
      "16:31:37 - cmdstanpy - INFO - Chain [1] done processing\n",
      "16:31:38 - cmdstanpy - INFO - Chain [1] start processing\n",
      "16:31:38 - cmdstanpy - INFO - Chain [1] done processing\n",
      "16:31:38 - cmdstanpy - INFO - Chain [1] start processing\n",
      "16:31:38 - cmdstanpy - INFO - Chain [1] done processing\n",
      "Seasonality has period of 365.25 days which is larger than initial window. Consider increasing initial.\n"
     ]
    },
    {
     "data": {
      "application/vnd.jupyter.widget-view+json": {
       "model_id": "2eee487d6dd448dca07fa6bd3c933a6d",
       "version_major": 2,
       "version_minor": 0
      },
      "text/plain": [
       "  0%|          | 0/3 [00:00<?, ?it/s]"
      ]
     },
     "metadata": {},
     "output_type": "display_data"
    },
    {
     "name": "stderr",
     "output_type": "stream",
     "text": [
      "16:31:38 - cmdstanpy - INFO - Chain [1] start processing\n",
      "16:31:39 - cmdstanpy - INFO - Chain [1] done processing\n",
      "16:31:39 - cmdstanpy - INFO - Chain [1] start processing\n",
      "16:31:39 - cmdstanpy - INFO - Chain [1] done processing\n",
      "16:31:39 - cmdstanpy - INFO - Chain [1] start processing\n",
      "16:31:39 - cmdstanpy - INFO - Chain [1] done processing\n",
      "16:31:40 - cmdstanpy - INFO - Chain [1] start processing\n",
      "16:31:40 - cmdstanpy - INFO - Chain [1] done processing\n",
      "Seasonality has period of 365.25 days which is larger than initial window. Consider increasing initial.\n"
     ]
    },
    {
     "data": {
      "application/vnd.jupyter.widget-view+json": {
       "model_id": "ff3f8fb0b1a84312bf32f9ceee8a6f29",
       "version_major": 2,
       "version_minor": 0
      },
      "text/plain": [
       "  0%|          | 0/3 [00:00<?, ?it/s]"
      ]
     },
     "metadata": {},
     "output_type": "display_data"
    },
    {
     "name": "stderr",
     "output_type": "stream",
     "text": [
      "16:31:40 - cmdstanpy - INFO - Chain [1] start processing\n",
      "16:31:40 - cmdstanpy - INFO - Chain [1] done processing\n",
      "16:31:41 - cmdstanpy - INFO - Chain [1] start processing\n",
      "16:31:41 - cmdstanpy - INFO - Chain [1] done processing\n",
      "16:31:41 - cmdstanpy - INFO - Chain [1] start processing\n",
      "16:31:41 - cmdstanpy - INFO - Chain [1] done processing\n",
      "16:31:41 - cmdstanpy - INFO - Chain [1] start processing\n",
      "16:31:42 - cmdstanpy - INFO - Chain [1] done processing\n",
      "Seasonality has period of 365.25 days which is larger than initial window. Consider increasing initial.\n"
     ]
    },
    {
     "data": {
      "application/vnd.jupyter.widget-view+json": {
       "model_id": "d0339a3f65834df99b4af59d37c0447a",
       "version_major": 2,
       "version_minor": 0
      },
      "text/plain": [
       "  0%|          | 0/3 [00:00<?, ?it/s]"
      ]
     },
     "metadata": {},
     "output_type": "display_data"
    },
    {
     "name": "stderr",
     "output_type": "stream",
     "text": [
      "16:31:42 - cmdstanpy - INFO - Chain [1] start processing\n",
      "16:31:42 - cmdstanpy - INFO - Chain [1] done processing\n",
      "16:31:42 - cmdstanpy - INFO - Chain [1] start processing\n",
      "16:31:42 - cmdstanpy - INFO - Chain [1] done processing\n",
      "16:31:42 - cmdstanpy - INFO - Chain [1] start processing\n",
      "16:31:43 - cmdstanpy - INFO - Chain [1] done processing\n",
      "16:31:43 - cmdstanpy - INFO - Chain [1] start processing\n",
      "16:31:43 - cmdstanpy - INFO - Chain [1] done processing\n",
      "Seasonality has period of 365.25 days which is larger than initial window. Consider increasing initial.\n"
     ]
    },
    {
     "data": {
      "application/vnd.jupyter.widget-view+json": {
       "model_id": "b42c59d49c17496fb697d4ee35b271ed",
       "version_major": 2,
       "version_minor": 0
      },
      "text/plain": [
       "  0%|          | 0/3 [00:00<?, ?it/s]"
      ]
     },
     "metadata": {},
     "output_type": "display_data"
    },
    {
     "name": "stderr",
     "output_type": "stream",
     "text": [
      "16:31:43 - cmdstanpy - INFO - Chain [1] start processing\n",
      "16:31:43 - cmdstanpy - INFO - Chain [1] done processing\n",
      "16:31:44 - cmdstanpy - INFO - Chain [1] start processing\n",
      "16:31:44 - cmdstanpy - INFO - Chain [1] done processing\n",
      "16:31:44 - cmdstanpy - INFO - Chain [1] start processing\n",
      "16:31:44 - cmdstanpy - INFO - Chain [1] done processing\n",
      "16:31:45 - cmdstanpy - INFO - Chain [1] start processing\n",
      "16:31:45 - cmdstanpy - INFO - Chain [1] done processing\n",
      "Seasonality has period of 365.25 days which is larger than initial window. Consider increasing initial.\n"
     ]
    },
    {
     "data": {
      "application/vnd.jupyter.widget-view+json": {
       "model_id": "8b1533a1956a4713ac223a7dcec370ae",
       "version_major": 2,
       "version_minor": 0
      },
      "text/plain": [
       "  0%|          | 0/3 [00:00<?, ?it/s]"
      ]
     },
     "metadata": {},
     "output_type": "display_data"
    },
    {
     "name": "stderr",
     "output_type": "stream",
     "text": [
      "16:31:45 - cmdstanpy - INFO - Chain [1] start processing\n",
      "16:31:45 - cmdstanpy - INFO - Chain [1] done processing\n",
      "16:31:45 - cmdstanpy - INFO - Chain [1] start processing\n",
      "16:31:46 - cmdstanpy - INFO - Chain [1] done processing\n",
      "16:31:46 - cmdstanpy - INFO - Chain [1] start processing\n",
      "16:31:46 - cmdstanpy - INFO - Chain [1] done processing\n",
      "16:31:46 - cmdstanpy - INFO - Chain [1] start processing\n",
      "16:31:47 - cmdstanpy - INFO - Chain [1] done processing\n",
      "Seasonality has period of 365.25 days which is larger than initial window. Consider increasing initial.\n"
     ]
    },
    {
     "data": {
      "application/vnd.jupyter.widget-view+json": {
       "model_id": "ce3d22f3e4484a90b663e34126a581f8",
       "version_major": 2,
       "version_minor": 0
      },
      "text/plain": [
       "  0%|          | 0/3 [00:00<?, ?it/s]"
      ]
     },
     "metadata": {},
     "output_type": "display_data"
    },
    {
     "name": "stderr",
     "output_type": "stream",
     "text": [
      "16:31:47 - cmdstanpy - INFO - Chain [1] start processing\n",
      "16:31:47 - cmdstanpy - INFO - Chain [1] done processing\n",
      "16:31:47 - cmdstanpy - INFO - Chain [1] start processing\n",
      "16:31:47 - cmdstanpy - INFO - Chain [1] done processing\n",
      "16:31:48 - cmdstanpy - INFO - Chain [1] start processing\n",
      "16:31:48 - cmdstanpy - INFO - Chain [1] done processing\n",
      "16:31:48 - cmdstanpy - INFO - Chain [1] start processing\n",
      "16:31:48 - cmdstanpy - INFO - Chain [1] done processing\n",
      "Seasonality has period of 365.25 days which is larger than initial window. Consider increasing initial.\n"
     ]
    },
    {
     "data": {
      "application/vnd.jupyter.widget-view+json": {
       "model_id": "a38c496cfaf049b18739191f8cd66e93",
       "version_major": 2,
       "version_minor": 0
      },
      "text/plain": [
       "  0%|          | 0/3 [00:00<?, ?it/s]"
      ]
     },
     "metadata": {},
     "output_type": "display_data"
    },
    {
     "name": "stderr",
     "output_type": "stream",
     "text": [
      "16:31:48 - cmdstanpy - INFO - Chain [1] start processing\n",
      "16:31:48 - cmdstanpy - INFO - Chain [1] done processing\n",
      "16:31:49 - cmdstanpy - INFO - Chain [1] start processing\n",
      "16:31:49 - cmdstanpy - INFO - Chain [1] done processing\n",
      "16:31:49 - cmdstanpy - INFO - Chain [1] start processing\n",
      "16:31:49 - cmdstanpy - INFO - Chain [1] done processing\n",
      "16:31:50 - cmdstanpy - INFO - Chain [1] start processing\n",
      "16:31:50 - cmdstanpy - INFO - Chain [1] done processing\n",
      "Seasonality has period of 365.25 days which is larger than initial window. Consider increasing initial.\n"
     ]
    },
    {
     "data": {
      "application/vnd.jupyter.widget-view+json": {
       "model_id": "11c2bfdf82bc425b9975fd131960355d",
       "version_major": 2,
       "version_minor": 0
      },
      "text/plain": [
       "  0%|          | 0/3 [00:00<?, ?it/s]"
      ]
     },
     "metadata": {},
     "output_type": "display_data"
    },
    {
     "name": "stderr",
     "output_type": "stream",
     "text": [
      "16:31:50 - cmdstanpy - INFO - Chain [1] start processing\n",
      "16:31:50 - cmdstanpy - INFO - Chain [1] done processing\n",
      "16:31:50 - cmdstanpy - INFO - Chain [1] start processing\n",
      "16:31:50 - cmdstanpy - INFO - Chain [1] done processing\n",
      "16:31:51 - cmdstanpy - INFO - Chain [1] start processing\n",
      "16:31:51 - cmdstanpy - INFO - Chain [1] done processing\n",
      "16:31:51 - cmdstanpy - INFO - Chain [1] start processing\n",
      "16:31:52 - cmdstanpy - INFO - Chain [1] done processing\n",
      "Seasonality has period of 365.25 days which is larger than initial window. Consider increasing initial.\n"
     ]
    },
    {
     "data": {
      "application/vnd.jupyter.widget-view+json": {
       "model_id": "34ed30d4e0d343fea7f4fec7b9f4c408",
       "version_major": 2,
       "version_minor": 0
      },
      "text/plain": [
       "  0%|          | 0/3 [00:00<?, ?it/s]"
      ]
     },
     "metadata": {},
     "output_type": "display_data"
    },
    {
     "name": "stderr",
     "output_type": "stream",
     "text": [
      "16:31:52 - cmdstanpy - INFO - Chain [1] start processing\n",
      "16:31:52 - cmdstanpy - INFO - Chain [1] done processing\n",
      "16:31:52 - cmdstanpy - INFO - Chain [1] start processing\n",
      "16:31:52 - cmdstanpy - INFO - Chain [1] done processing\n",
      "16:31:52 - cmdstanpy - INFO - Chain [1] start processing\n",
      "16:31:53 - cmdstanpy - INFO - Chain [1] done processing\n",
      "16:31:53 - cmdstanpy - INFO - Chain [1] start processing\n",
      "16:31:53 - cmdstanpy - INFO - Chain [1] done processing\n",
      "Seasonality has period of 365.25 days which is larger than initial window. Consider increasing initial.\n"
     ]
    },
    {
     "data": {
      "application/vnd.jupyter.widget-view+json": {
       "model_id": "3b1183077ee64d469329a7b6a2bff482",
       "version_major": 2,
       "version_minor": 0
      },
      "text/plain": [
       "  0%|          | 0/3 [00:00<?, ?it/s]"
      ]
     },
     "metadata": {},
     "output_type": "display_data"
    },
    {
     "name": "stderr",
     "output_type": "stream",
     "text": [
      "16:31:53 - cmdstanpy - INFO - Chain [1] start processing\n",
      "16:31:54 - cmdstanpy - INFO - Chain [1] done processing\n",
      "16:31:54 - cmdstanpy - INFO - Chain [1] start processing\n",
      "16:31:54 - cmdstanpy - INFO - Chain [1] done processing\n",
      "16:31:54 - cmdstanpy - INFO - Chain [1] start processing\n",
      "16:31:54 - cmdstanpy - INFO - Chain [1] done processing\n"
     ]
    }
   ],
   "source": [
    "# Define the hyperparameter grid\n",
    "param_grid = {\n",
    "    'changepoint_prior_scale': [0.2, 0.3, 0.4],\n",
    "    'seasonality_prior_scale': [0.009, 0.01, 0.02, 0.03],\n",
    "    'holidays_prior_scale': [0.005, 0.008, 0.01],\n",
    "    'seasonality_mode': ['additive']\n",
    "}\n",
    "\n",
    "# Create a list of all combinations of hyperparameters\n",
    "all_params = list(ParameterGrid(param_grid))\n",
    "\n",
    "list_of_result_dicts = []\n",
    "list_of_scores = []\n",
    "# Perform grid search\n",
    "for params in all_params:\n",
    "\n",
    "    m = Prophet(\n",
    "        changepoint_prior_scale=params['changepoint_prior_scale'],\n",
    "        seasonality_prior_scale=params['seasonality_prior_scale'],\n",
    "        holidays_prior_scale=params['holidays_prior_scale'],\n",
    "        seasonality_mode=params['seasonality_mode']\n",
    "    )\n",
    "    m.fit(Prague_1_full_date_range)\n",
    "\n",
    "    # Define the initial, period, and horizon for cross-validation\n",
    "    initial = '365 days'\n",
    "    period = '180 days'\n",
    "    horizon = '365 days'\n",
    "\n",
    "    # Compute MAPE using cross-validation\n",
    "    mape = cross_validation_mape(m, Prague_1_full_date_range, initial, period, horizon)\n",
    "\n",
    "    # Store the results\n",
    "    list_of_result_dicts.append(params)\n",
    "    list_of_scores.append(mape)\n",
    "\n",
    "results = pd.DataFrame({\"params\": list_of_result_dicts,\n",
    "                        \"MAPE\": list_of_scores})\n",
    "\n",
    "# Find the best hyperparameters\n",
    "best_params = results.loc[results['MAPE'].idxmin()]\n",
    "# print(f\"Best parameters: {best_params}\")"
   ]
  },
  {
   "cell_type": "code",
   "execution_count": 45,
   "metadata": {},
   "outputs": [
    {
     "name": "stdout",
     "output_type": "stream",
     "text": [
      "params    {'changepoint_prior_scale': 0.4, 'holidays_pri...\n",
      "MAPE                                               0.052754\n",
      "Name: 26, dtype: object\n",
      "{'changepoint_prior_scale': 0.4, 'holidays_prior_scale': 0.005, 'seasonality_mode': 'additive', 'seasonality_prior_scale': 0.02}\n"
     ]
    }
   ],
   "source": [
    "print(best_params)\n",
    "print(best_params[\"params\"])"
   ]
  },
  {
   "cell_type": "code",
   "execution_count": 46,
   "metadata": {},
   "outputs": [
    {
     "name": "stderr",
     "output_type": "stream",
     "text": [
      "16:34:25 - cmdstanpy - INFO - Chain [1] start processing\n",
      "16:34:26 - cmdstanpy - INFO - Chain [1] done processing\n",
      "Seasonality has period of 365.25 days which is larger than initial window. Consider increasing initial.\n"
     ]
    },
    {
     "data": {
      "application/vnd.jupyter.widget-view+json": {
       "model_id": "07216a31ec5b474aab6d4564a2c8657b",
       "version_major": 2,
       "version_minor": 0
      },
      "text/plain": [
       "  0%|          | 0/3 [00:00<?, ?it/s]"
      ]
     },
     "metadata": {},
     "output_type": "display_data"
    },
    {
     "name": "stderr",
     "output_type": "stream",
     "text": [
      "16:34:26 - cmdstanpy - INFO - Chain [1] start processing\n",
      "16:34:26 - cmdstanpy - INFO - Chain [1] done processing\n",
      "16:34:26 - cmdstanpy - INFO - Chain [1] start processing\n",
      "16:34:26 - cmdstanpy - INFO - Chain [1] done processing\n",
      "16:34:27 - cmdstanpy - INFO - Chain [1] start processing\n",
      "16:34:27 - cmdstanpy - INFO - Chain [1] done processing\n",
      "16:34:27 - cmdstanpy - INFO - Chain [1] start processing\n",
      "16:34:27 - cmdstanpy - INFO - Chain [1] done processing\n",
      "Seasonality has period of 365.25 days which is larger than initial window. Consider increasing initial.\n"
     ]
    },
    {
     "data": {
      "application/vnd.jupyter.widget-view+json": {
       "model_id": "db147902b9a44710b7c8b4966418dba3",
       "version_major": 2,
       "version_minor": 0
      },
      "text/plain": [
       "  0%|          | 0/3 [00:00<?, ?it/s]"
      ]
     },
     "metadata": {},
     "output_type": "display_data"
    },
    {
     "name": "stderr",
     "output_type": "stream",
     "text": [
      "16:34:28 - cmdstanpy - INFO - Chain [1] start processing\n",
      "16:34:28 - cmdstanpy - INFO - Chain [1] done processing\n",
      "16:34:28 - cmdstanpy - INFO - Chain [1] start processing\n",
      "16:34:28 - cmdstanpy - INFO - Chain [1] done processing\n",
      "16:34:28 - cmdstanpy - INFO - Chain [1] start processing\n",
      "16:34:29 - cmdstanpy - INFO - Chain [1] done processing\n",
      "16:34:29 - cmdstanpy - INFO - Chain [1] start processing\n",
      "16:34:29 - cmdstanpy - INFO - Chain [1] done processing\n",
      "Seasonality has period of 365.25 days which is larger than initial window. Consider increasing initial.\n"
     ]
    },
    {
     "data": {
      "application/vnd.jupyter.widget-view+json": {
       "model_id": "e057691edee74212b982d0d61144c24c",
       "version_major": 2,
       "version_minor": 0
      },
      "text/plain": [
       "  0%|          | 0/3 [00:00<?, ?it/s]"
      ]
     },
     "metadata": {},
     "output_type": "display_data"
    },
    {
     "name": "stderr",
     "output_type": "stream",
     "text": [
      "16:34:29 - cmdstanpy - INFO - Chain [1] start processing\n",
      "16:34:29 - cmdstanpy - INFO - Chain [1] done processing\n",
      "16:34:30 - cmdstanpy - INFO - Chain [1] start processing\n",
      "16:34:30 - cmdstanpy - INFO - Chain [1] done processing\n",
      "16:34:30 - cmdstanpy - INFO - Chain [1] start processing\n",
      "16:34:30 - cmdstanpy - INFO - Chain [1] done processing\n",
      "16:34:31 - cmdstanpy - INFO - Chain [1] start processing\n",
      "16:34:31 - cmdstanpy - INFO - Chain [1] done processing\n",
      "Seasonality has period of 365.25 days which is larger than initial window. Consider increasing initial.\n"
     ]
    },
    {
     "data": {
      "application/vnd.jupyter.widget-view+json": {
       "model_id": "a55834c4226e40eabbda4943d63ab422",
       "version_major": 2,
       "version_minor": 0
      },
      "text/plain": [
       "  0%|          | 0/3 [00:00<?, ?it/s]"
      ]
     },
     "metadata": {},
     "output_type": "display_data"
    },
    {
     "name": "stderr",
     "output_type": "stream",
     "text": [
      "16:34:31 - cmdstanpy - INFO - Chain [1] start processing\n",
      "16:34:31 - cmdstanpy - INFO - Chain [1] done processing\n",
      "16:34:31 - cmdstanpy - INFO - Chain [1] start processing\n",
      "16:34:32 - cmdstanpy - INFO - Chain [1] done processing\n",
      "16:34:32 - cmdstanpy - INFO - Chain [1] start processing\n",
      "16:34:32 - cmdstanpy - INFO - Chain [1] done processing\n",
      "16:34:33 - cmdstanpy - INFO - Chain [1] start processing\n",
      "16:34:33 - cmdstanpy - INFO - Chain [1] done processing\n",
      "Seasonality has period of 365.25 days which is larger than initial window. Consider increasing initial.\n"
     ]
    },
    {
     "data": {
      "application/vnd.jupyter.widget-view+json": {
       "model_id": "01ee881ac7cc457eb74049fc228af0a8",
       "version_major": 2,
       "version_minor": 0
      },
      "text/plain": [
       "  0%|          | 0/3 [00:00<?, ?it/s]"
      ]
     },
     "metadata": {},
     "output_type": "display_data"
    },
    {
     "name": "stderr",
     "output_type": "stream",
     "text": [
      "16:34:33 - cmdstanpy - INFO - Chain [1] start processing\n",
      "16:34:33 - cmdstanpy - INFO - Chain [1] done processing\n",
      "16:34:33 - cmdstanpy - INFO - Chain [1] start processing\n",
      "16:34:33 - cmdstanpy - INFO - Chain [1] done processing\n",
      "16:34:34 - cmdstanpy - INFO - Chain [1] start processing\n",
      "16:34:34 - cmdstanpy - INFO - Chain [1] done processing\n",
      "16:34:34 - cmdstanpy - INFO - Chain [1] start processing\n",
      "16:34:34 - cmdstanpy - INFO - Chain [1] done processing\n",
      "Seasonality has period of 365.25 days which is larger than initial window. Consider increasing initial.\n"
     ]
    },
    {
     "data": {
      "application/vnd.jupyter.widget-view+json": {
       "model_id": "6341652488e9414fb1ef862df1d352bc",
       "version_major": 2,
       "version_minor": 0
      },
      "text/plain": [
       "  0%|          | 0/3 [00:00<?, ?it/s]"
      ]
     },
     "metadata": {},
     "output_type": "display_data"
    },
    {
     "name": "stderr",
     "output_type": "stream",
     "text": [
      "16:34:35 - cmdstanpy - INFO - Chain [1] start processing\n",
      "16:34:35 - cmdstanpy - INFO - Chain [1] done processing\n",
      "16:34:35 - cmdstanpy - INFO - Chain [1] start processing\n",
      "16:34:35 - cmdstanpy - INFO - Chain [1] done processing\n",
      "16:34:35 - cmdstanpy - INFO - Chain [1] start processing\n",
      "16:34:36 - cmdstanpy - INFO - Chain [1] done processing\n",
      "16:34:36 - cmdstanpy - INFO - Chain [1] start processing\n",
      "16:34:36 - cmdstanpy - INFO - Chain [1] done processing\n",
      "Seasonality has period of 365.25 days which is larger than initial window. Consider increasing initial.\n"
     ]
    },
    {
     "data": {
      "application/vnd.jupyter.widget-view+json": {
       "model_id": "54c83f40c70d4d3ba597c3db98ef946f",
       "version_major": 2,
       "version_minor": 0
      },
      "text/plain": [
       "  0%|          | 0/3 [00:00<?, ?it/s]"
      ]
     },
     "metadata": {},
     "output_type": "display_data"
    },
    {
     "name": "stderr",
     "output_type": "stream",
     "text": [
      "16:34:36 - cmdstanpy - INFO - Chain [1] start processing\n",
      "16:34:36 - cmdstanpy - INFO - Chain [1] done processing\n",
      "16:34:37 - cmdstanpy - INFO - Chain [1] start processing\n",
      "16:34:37 - cmdstanpy - INFO - Chain [1] done processing\n",
      "16:34:37 - cmdstanpy - INFO - Chain [1] start processing\n",
      "16:34:37 - cmdstanpy - INFO - Chain [1] done processing\n",
      "16:34:38 - cmdstanpy - INFO - Chain [1] start processing\n",
      "16:34:38 - cmdstanpy - INFO - Chain [1] done processing\n",
      "Seasonality has period of 365.25 days which is larger than initial window. Consider increasing initial.\n"
     ]
    },
    {
     "data": {
      "application/vnd.jupyter.widget-view+json": {
       "model_id": "b9f6ce4102274c05b28ab326b5061151",
       "version_major": 2,
       "version_minor": 0
      },
      "text/plain": [
       "  0%|          | 0/3 [00:00<?, ?it/s]"
      ]
     },
     "metadata": {},
     "output_type": "display_data"
    },
    {
     "name": "stderr",
     "output_type": "stream",
     "text": [
      "16:34:38 - cmdstanpy - INFO - Chain [1] start processing\n",
      "16:34:38 - cmdstanpy - INFO - Chain [1] done processing\n",
      "16:34:38 - cmdstanpy - INFO - Chain [1] start processing\n",
      "16:34:38 - cmdstanpy - INFO - Chain [1] done processing\n",
      "16:34:39 - cmdstanpy - INFO - Chain [1] start processing\n",
      "16:34:39 - cmdstanpy - INFO - Chain [1] done processing\n",
      "16:34:39 - cmdstanpy - INFO - Chain [1] start processing\n",
      "16:34:39 - cmdstanpy - INFO - Chain [1] done processing\n",
      "Seasonality has period of 365.25 days which is larger than initial window. Consider increasing initial.\n"
     ]
    },
    {
     "data": {
      "application/vnd.jupyter.widget-view+json": {
       "model_id": "f6ca17245ed4493bb6006c7f7cfcc9cb",
       "version_major": 2,
       "version_minor": 0
      },
      "text/plain": [
       "  0%|          | 0/3 [00:00<?, ?it/s]"
      ]
     },
     "metadata": {},
     "output_type": "display_data"
    },
    {
     "name": "stderr",
     "output_type": "stream",
     "text": [
      "16:34:40 - cmdstanpy - INFO - Chain [1] start processing\n",
      "16:34:40 - cmdstanpy - INFO - Chain [1] done processing\n",
      "16:34:40 - cmdstanpy - INFO - Chain [1] start processing\n",
      "16:34:40 - cmdstanpy - INFO - Chain [1] done processing\n",
      "16:34:40 - cmdstanpy - INFO - Chain [1] start processing\n",
      "16:34:40 - cmdstanpy - INFO - Chain [1] done processing\n",
      "16:34:41 - cmdstanpy - INFO - Chain [1] start processing\n",
      "16:34:41 - cmdstanpy - INFO - Chain [1] done processing\n",
      "Seasonality has period of 365.25 days which is larger than initial window. Consider increasing initial.\n"
     ]
    },
    {
     "data": {
      "application/vnd.jupyter.widget-view+json": {
       "model_id": "1c256558c353481d992c91742fc668be",
       "version_major": 2,
       "version_minor": 0
      },
      "text/plain": [
       "  0%|          | 0/3 [00:00<?, ?it/s]"
      ]
     },
     "metadata": {},
     "output_type": "display_data"
    },
    {
     "name": "stderr",
     "output_type": "stream",
     "text": [
      "16:34:41 - cmdstanpy - INFO - Chain [1] start processing\n",
      "16:34:41 - cmdstanpy - INFO - Chain [1] done processing\n",
      "16:34:42 - cmdstanpy - INFO - Chain [1] start processing\n",
      "16:34:42 - cmdstanpy - INFO - Chain [1] done processing\n",
      "16:34:42 - cmdstanpy - INFO - Chain [1] start processing\n",
      "16:34:42 - cmdstanpy - INFO - Chain [1] done processing\n",
      "16:34:43 - cmdstanpy - INFO - Chain [1] start processing\n",
      "16:34:43 - cmdstanpy - INFO - Chain [1] done processing\n",
      "Seasonality has period of 365.25 days which is larger than initial window. Consider increasing initial.\n"
     ]
    },
    {
     "data": {
      "application/vnd.jupyter.widget-view+json": {
       "model_id": "83abc6fec646461591a15fbc3dbd72e0",
       "version_major": 2,
       "version_minor": 0
      },
      "text/plain": [
       "  0%|          | 0/3 [00:00<?, ?it/s]"
      ]
     },
     "metadata": {},
     "output_type": "display_data"
    },
    {
     "name": "stderr",
     "output_type": "stream",
     "text": [
      "16:34:43 - cmdstanpy - INFO - Chain [1] start processing\n",
      "16:34:43 - cmdstanpy - INFO - Chain [1] done processing\n",
      "16:34:43 - cmdstanpy - INFO - Chain [1] start processing\n",
      "16:34:43 - cmdstanpy - INFO - Chain [1] done processing\n",
      "16:34:44 - cmdstanpy - INFO - Chain [1] start processing\n",
      "16:34:44 - cmdstanpy - INFO - Chain [1] done processing\n",
      "16:34:44 - cmdstanpy - INFO - Chain [1] start processing\n",
      "16:34:45 - cmdstanpy - INFO - Chain [1] done processing\n",
      "Seasonality has period of 365.25 days which is larger than initial window. Consider increasing initial.\n"
     ]
    },
    {
     "data": {
      "application/vnd.jupyter.widget-view+json": {
       "model_id": "f76029fa57934f66b3b96541528c7f4a",
       "version_major": 2,
       "version_minor": 0
      },
      "text/plain": [
       "  0%|          | 0/3 [00:00<?, ?it/s]"
      ]
     },
     "metadata": {},
     "output_type": "display_data"
    },
    {
     "name": "stderr",
     "output_type": "stream",
     "text": [
      "16:34:45 - cmdstanpy - INFO - Chain [1] start processing\n",
      "16:34:45 - cmdstanpy - INFO - Chain [1] done processing\n",
      "16:34:45 - cmdstanpy - INFO - Chain [1] start processing\n",
      "16:34:45 - cmdstanpy - INFO - Chain [1] done processing\n",
      "16:34:46 - cmdstanpy - INFO - Chain [1] start processing\n",
      "16:34:46 - cmdstanpy - INFO - Chain [1] done processing\n",
      "16:34:46 - cmdstanpy - INFO - Chain [1] start processing\n",
      "16:34:46 - cmdstanpy - INFO - Chain [1] done processing\n",
      "Seasonality has period of 365.25 days which is larger than initial window. Consider increasing initial.\n"
     ]
    },
    {
     "data": {
      "application/vnd.jupyter.widget-view+json": {
       "model_id": "d9e654a9caf44382aa4c4f599ceb1b61",
       "version_major": 2,
       "version_minor": 0
      },
      "text/plain": [
       "  0%|          | 0/3 [00:00<?, ?it/s]"
      ]
     },
     "metadata": {},
     "output_type": "display_data"
    },
    {
     "name": "stderr",
     "output_type": "stream",
     "text": [
      "16:34:46 - cmdstanpy - INFO - Chain [1] start processing\n",
      "16:34:46 - cmdstanpy - INFO - Chain [1] done processing\n",
      "16:34:47 - cmdstanpy - INFO - Chain [1] start processing\n",
      "16:34:47 - cmdstanpy - INFO - Chain [1] done processing\n",
      "16:34:47 - cmdstanpy - INFO - Chain [1] start processing\n",
      "16:34:47 - cmdstanpy - INFO - Chain [1] done processing\n",
      "16:34:48 - cmdstanpy - INFO - Chain [1] start processing\n",
      "16:34:48 - cmdstanpy - INFO - Chain [1] done processing\n",
      "Seasonality has period of 365.25 days which is larger than initial window. Consider increasing initial.\n"
     ]
    },
    {
     "data": {
      "application/vnd.jupyter.widget-view+json": {
       "model_id": "13f44bfa485d4154ad4193f251b33d39",
       "version_major": 2,
       "version_minor": 0
      },
      "text/plain": [
       "  0%|          | 0/3 [00:00<?, ?it/s]"
      ]
     },
     "metadata": {},
     "output_type": "display_data"
    },
    {
     "name": "stderr",
     "output_type": "stream",
     "text": [
      "16:34:48 - cmdstanpy - INFO - Chain [1] start processing\n",
      "16:34:48 - cmdstanpy - INFO - Chain [1] done processing\n",
      "16:34:49 - cmdstanpy - INFO - Chain [1] start processing\n",
      "16:34:49 - cmdstanpy - INFO - Chain [1] done processing\n",
      "16:34:49 - cmdstanpy - INFO - Chain [1] start processing\n",
      "16:34:49 - cmdstanpy - INFO - Chain [1] done processing\n",
      "16:34:50 - cmdstanpy - INFO - Chain [1] start processing\n",
      "16:34:50 - cmdstanpy - INFO - Chain [1] done processing\n",
      "Seasonality has period of 365.25 days which is larger than initial window. Consider increasing initial.\n"
     ]
    },
    {
     "data": {
      "application/vnd.jupyter.widget-view+json": {
       "model_id": "8413e18593e44cd7819a9ba840bb8a4f",
       "version_major": 2,
       "version_minor": 0
      },
      "text/plain": [
       "  0%|          | 0/3 [00:00<?, ?it/s]"
      ]
     },
     "metadata": {},
     "output_type": "display_data"
    },
    {
     "name": "stderr",
     "output_type": "stream",
     "text": [
      "16:34:50 - cmdstanpy - INFO - Chain [1] start processing\n",
      "16:34:50 - cmdstanpy - INFO - Chain [1] done processing\n",
      "16:34:50 - cmdstanpy - INFO - Chain [1] start processing\n",
      "16:34:51 - cmdstanpy - INFO - Chain [1] done processing\n",
      "16:34:51 - cmdstanpy - INFO - Chain [1] start processing\n",
      "16:34:51 - cmdstanpy - INFO - Chain [1] done processing\n",
      "16:34:51 - cmdstanpy - INFO - Chain [1] start processing\n",
      "16:34:52 - cmdstanpy - INFO - Chain [1] done processing\n",
      "Seasonality has period of 365.25 days which is larger than initial window. Consider increasing initial.\n"
     ]
    },
    {
     "data": {
      "application/vnd.jupyter.widget-view+json": {
       "model_id": "8e0deca42687442da913476438e0ee69",
       "version_major": 2,
       "version_minor": 0
      },
      "text/plain": [
       "  0%|          | 0/3 [00:00<?, ?it/s]"
      ]
     },
     "metadata": {},
     "output_type": "display_data"
    },
    {
     "name": "stderr",
     "output_type": "stream",
     "text": [
      "16:34:52 - cmdstanpy - INFO - Chain [1] start processing\n",
      "16:34:52 - cmdstanpy - INFO - Chain [1] done processing\n",
      "16:34:52 - cmdstanpy - INFO - Chain [1] start processing\n",
      "16:34:52 - cmdstanpy - INFO - Chain [1] done processing\n",
      "16:34:53 - cmdstanpy - INFO - Chain [1] start processing\n",
      "16:34:53 - cmdstanpy - INFO - Chain [1] done processing\n",
      "16:34:53 - cmdstanpy - INFO - Chain [1] start processing\n",
      "16:34:53 - cmdstanpy - INFO - Chain [1] done processing\n",
      "Seasonality has period of 365.25 days which is larger than initial window. Consider increasing initial.\n"
     ]
    },
    {
     "data": {
      "application/vnd.jupyter.widget-view+json": {
       "model_id": "1547a582535644ecbe38699277d215c2",
       "version_major": 2,
       "version_minor": 0
      },
      "text/plain": [
       "  0%|          | 0/3 [00:00<?, ?it/s]"
      ]
     },
     "metadata": {},
     "output_type": "display_data"
    },
    {
     "name": "stderr",
     "output_type": "stream",
     "text": [
      "16:34:53 - cmdstanpy - INFO - Chain [1] start processing\n",
      "16:34:54 - cmdstanpy - INFO - Chain [1] done processing\n",
      "16:34:54 - cmdstanpy - INFO - Chain [1] start processing\n",
      "16:34:54 - cmdstanpy - INFO - Chain [1] done processing\n",
      "16:34:54 - cmdstanpy - INFO - Chain [1] start processing\n",
      "16:34:54 - cmdstanpy - INFO - Chain [1] done processing\n",
      "16:34:55 - cmdstanpy - INFO - Chain [1] start processing\n",
      "16:34:55 - cmdstanpy - INFO - Chain [1] done processing\n",
      "Seasonality has period of 365.25 days which is larger than initial window. Consider increasing initial.\n"
     ]
    },
    {
     "data": {
      "application/vnd.jupyter.widget-view+json": {
       "model_id": "dbf2b29142db4aba90fadadd34687767",
       "version_major": 2,
       "version_minor": 0
      },
      "text/plain": [
       "  0%|          | 0/3 [00:00<?, ?it/s]"
      ]
     },
     "metadata": {},
     "output_type": "display_data"
    },
    {
     "name": "stderr",
     "output_type": "stream",
     "text": [
      "16:34:55 - cmdstanpy - INFO - Chain [1] start processing\n",
      "16:34:55 - cmdstanpy - INFO - Chain [1] done processing\n",
      "16:34:56 - cmdstanpy - INFO - Chain [1] start processing\n",
      "16:34:56 - cmdstanpy - INFO - Chain [1] done processing\n",
      "16:34:56 - cmdstanpy - INFO - Chain [1] start processing\n",
      "16:34:56 - cmdstanpy - INFO - Chain [1] done processing\n",
      "16:34:57 - cmdstanpy - INFO - Chain [1] start processing\n",
      "16:34:57 - cmdstanpy - INFO - Chain [1] done processing\n",
      "Seasonality has period of 365.25 days which is larger than initial window. Consider increasing initial.\n"
     ]
    },
    {
     "data": {
      "application/vnd.jupyter.widget-view+json": {
       "model_id": "b2b5ffb6c4dd4e28bdb08752e3ffa8f9",
       "version_major": 2,
       "version_minor": 0
      },
      "text/plain": [
       "  0%|          | 0/3 [00:00<?, ?it/s]"
      ]
     },
     "metadata": {},
     "output_type": "display_data"
    },
    {
     "name": "stderr",
     "output_type": "stream",
     "text": [
      "16:34:57 - cmdstanpy - INFO - Chain [1] start processing\n",
      "16:34:57 - cmdstanpy - INFO - Chain [1] done processing\n",
      "16:34:57 - cmdstanpy - INFO - Chain [1] start processing\n",
      "16:34:57 - cmdstanpy - INFO - Chain [1] done processing\n",
      "16:34:58 - cmdstanpy - INFO - Chain [1] start processing\n",
      "16:34:58 - cmdstanpy - INFO - Chain [1] done processing\n",
      "16:34:58 - cmdstanpy - INFO - Chain [1] start processing\n",
      "16:34:59 - cmdstanpy - INFO - Chain [1] done processing\n",
      "Seasonality has period of 365.25 days which is larger than initial window. Consider increasing initial.\n"
     ]
    },
    {
     "data": {
      "application/vnd.jupyter.widget-view+json": {
       "model_id": "2ab8d76a2c304c40ae5b169a59ce2136",
       "version_major": 2,
       "version_minor": 0
      },
      "text/plain": [
       "  0%|          | 0/3 [00:00<?, ?it/s]"
      ]
     },
     "metadata": {},
     "output_type": "display_data"
    },
    {
     "name": "stderr",
     "output_type": "stream",
     "text": [
      "16:34:59 - cmdstanpy - INFO - Chain [1] start processing\n",
      "16:34:59 - cmdstanpy - INFO - Chain [1] done processing\n",
      "16:34:59 - cmdstanpy - INFO - Chain [1] start processing\n",
      "16:34:59 - cmdstanpy - INFO - Chain [1] done processing\n",
      "16:34:59 - cmdstanpy - INFO - Chain [1] start processing\n",
      "16:35:00 - cmdstanpy - INFO - Chain [1] done processing\n",
      "16:35:00 - cmdstanpy - INFO - Chain [1] start processing\n",
      "16:35:00 - cmdstanpy - INFO - Chain [1] done processing\n",
      "Seasonality has period of 365.25 days which is larger than initial window. Consider increasing initial.\n"
     ]
    },
    {
     "data": {
      "application/vnd.jupyter.widget-view+json": {
       "model_id": "5e36b82cb4334efea84d2a98ba4d917a",
       "version_major": 2,
       "version_minor": 0
      },
      "text/plain": [
       "  0%|          | 0/3 [00:00<?, ?it/s]"
      ]
     },
     "metadata": {},
     "output_type": "display_data"
    },
    {
     "name": "stderr",
     "output_type": "stream",
     "text": [
      "16:35:00 - cmdstanpy - INFO - Chain [1] start processing\n",
      "16:35:00 - cmdstanpy - INFO - Chain [1] done processing\n",
      "16:35:01 - cmdstanpy - INFO - Chain [1] start processing\n",
      "16:35:01 - cmdstanpy - INFO - Chain [1] done processing\n",
      "16:35:01 - cmdstanpy - INFO - Chain [1] start processing\n",
      "16:35:01 - cmdstanpy - INFO - Chain [1] done processing\n",
      "16:35:02 - cmdstanpy - INFO - Chain [1] start processing\n",
      "16:35:02 - cmdstanpy - INFO - Chain [1] done processing\n",
      "Seasonality has period of 365.25 days which is larger than initial window. Consider increasing initial.\n"
     ]
    },
    {
     "data": {
      "application/vnd.jupyter.widget-view+json": {
       "model_id": "3eea50518d4b4b27b5fa71f2ce98e8b2",
       "version_major": 2,
       "version_minor": 0
      },
      "text/plain": [
       "  0%|          | 0/3 [00:00<?, ?it/s]"
      ]
     },
     "metadata": {},
     "output_type": "display_data"
    },
    {
     "name": "stderr",
     "output_type": "stream",
     "text": [
      "16:35:02 - cmdstanpy - INFO - Chain [1] start processing\n",
      "16:35:02 - cmdstanpy - INFO - Chain [1] done processing\n",
      "16:35:03 - cmdstanpy - INFO - Chain [1] start processing\n",
      "16:35:03 - cmdstanpy - INFO - Chain [1] done processing\n",
      "16:35:03 - cmdstanpy - INFO - Chain [1] start processing\n",
      "16:35:03 - cmdstanpy - INFO - Chain [1] done processing\n",
      "16:35:04 - cmdstanpy - INFO - Chain [1] start processing\n",
      "16:35:04 - cmdstanpy - INFO - Chain [1] done processing\n",
      "Seasonality has period of 365.25 days which is larger than initial window. Consider increasing initial.\n"
     ]
    },
    {
     "data": {
      "application/vnd.jupyter.widget-view+json": {
       "model_id": "706bb4ca04e74ce7beba78982dee3af4",
       "version_major": 2,
       "version_minor": 0
      },
      "text/plain": [
       "  0%|          | 0/3 [00:00<?, ?it/s]"
      ]
     },
     "metadata": {},
     "output_type": "display_data"
    },
    {
     "name": "stderr",
     "output_type": "stream",
     "text": [
      "16:35:04 - cmdstanpy - INFO - Chain [1] start processing\n",
      "16:35:04 - cmdstanpy - INFO - Chain [1] done processing\n",
      "16:35:04 - cmdstanpy - INFO - Chain [1] start processing\n",
      "16:35:05 - cmdstanpy - INFO - Chain [1] done processing\n",
      "16:35:05 - cmdstanpy - INFO - Chain [1] start processing\n",
      "16:35:05 - cmdstanpy - INFO - Chain [1] done processing\n",
      "16:35:05 - cmdstanpy - INFO - Chain [1] start processing\n",
      "16:35:06 - cmdstanpy - INFO - Chain [1] done processing\n",
      "Seasonality has period of 365.25 days which is larger than initial window. Consider increasing initial.\n"
     ]
    },
    {
     "data": {
      "application/vnd.jupyter.widget-view+json": {
       "model_id": "0ca68136fd0f49ac9c81ae99df4ad20f",
       "version_major": 2,
       "version_minor": 0
      },
      "text/plain": [
       "  0%|          | 0/3 [00:00<?, ?it/s]"
      ]
     },
     "metadata": {},
     "output_type": "display_data"
    },
    {
     "name": "stderr",
     "output_type": "stream",
     "text": [
      "16:35:06 - cmdstanpy - INFO - Chain [1] start processing\n",
      "16:35:06 - cmdstanpy - INFO - Chain [1] done processing\n",
      "16:35:06 - cmdstanpy - INFO - Chain [1] start processing\n",
      "16:35:06 - cmdstanpy - INFO - Chain [1] done processing\n",
      "16:35:07 - cmdstanpy - INFO - Chain [1] start processing\n",
      "16:35:07 - cmdstanpy - INFO - Chain [1] done processing\n",
      "16:35:07 - cmdstanpy - INFO - Chain [1] start processing\n",
      "16:35:07 - cmdstanpy - INFO - Chain [1] done processing\n",
      "Seasonality has period of 365.25 days which is larger than initial window. Consider increasing initial.\n"
     ]
    },
    {
     "data": {
      "application/vnd.jupyter.widget-view+json": {
       "model_id": "c8af850b3fbe4dcca84ca69dd3a74b19",
       "version_major": 2,
       "version_minor": 0
      },
      "text/plain": [
       "  0%|          | 0/3 [00:00<?, ?it/s]"
      ]
     },
     "metadata": {},
     "output_type": "display_data"
    },
    {
     "name": "stderr",
     "output_type": "stream",
     "text": [
      "16:35:07 - cmdstanpy - INFO - Chain [1] start processing\n",
      "16:35:07 - cmdstanpy - INFO - Chain [1] done processing\n",
      "16:35:08 - cmdstanpy - INFO - Chain [1] start processing\n",
      "16:35:08 - cmdstanpy - INFO - Chain [1] done processing\n",
      "16:35:08 - cmdstanpy - INFO - Chain [1] start processing\n",
      "16:35:08 - cmdstanpy - INFO - Chain [1] done processing\n",
      "16:35:09 - cmdstanpy - INFO - Chain [1] start processing\n",
      "16:35:09 - cmdstanpy - INFO - Chain [1] done processing\n",
      "Seasonality has period of 365.25 days which is larger than initial window. Consider increasing initial.\n"
     ]
    },
    {
     "data": {
      "application/vnd.jupyter.widget-view+json": {
       "model_id": "efc3ad7a878d432ab76dbba954f18869",
       "version_major": 2,
       "version_minor": 0
      },
      "text/plain": [
       "  0%|          | 0/3 [00:00<?, ?it/s]"
      ]
     },
     "metadata": {},
     "output_type": "display_data"
    },
    {
     "name": "stderr",
     "output_type": "stream",
     "text": [
      "16:35:09 - cmdstanpy - INFO - Chain [1] start processing\n",
      "16:35:09 - cmdstanpy - INFO - Chain [1] done processing\n",
      "16:35:10 - cmdstanpy - INFO - Chain [1] start processing\n",
      "16:35:10 - cmdstanpy - INFO - Chain [1] done processing\n",
      "16:35:10 - cmdstanpy - INFO - Chain [1] start processing\n",
      "16:35:10 - cmdstanpy - INFO - Chain [1] done processing\n",
      "16:35:11 - cmdstanpy - INFO - Chain [1] start processing\n",
      "16:35:11 - cmdstanpy - INFO - Chain [1] done processing\n",
      "Seasonality has period of 365.25 days which is larger than initial window. Consider increasing initial.\n"
     ]
    },
    {
     "data": {
      "application/vnd.jupyter.widget-view+json": {
       "model_id": "cfc20d3ce5de46bd8798d2bdfff13071",
       "version_major": 2,
       "version_minor": 0
      },
      "text/plain": [
       "  0%|          | 0/3 [00:00<?, ?it/s]"
      ]
     },
     "metadata": {},
     "output_type": "display_data"
    },
    {
     "name": "stderr",
     "output_type": "stream",
     "text": [
      "16:35:11 - cmdstanpy - INFO - Chain [1] start processing\n",
      "16:35:11 - cmdstanpy - INFO - Chain [1] done processing\n",
      "16:35:11 - cmdstanpy - INFO - Chain [1] start processing\n",
      "16:35:12 - cmdstanpy - INFO - Chain [1] done processing\n",
      "16:35:12 - cmdstanpy - INFO - Chain [1] start processing\n",
      "16:35:12 - cmdstanpy - INFO - Chain [1] done processing\n",
      "16:35:12 - cmdstanpy - INFO - Chain [1] start processing\n",
      "16:35:13 - cmdstanpy - INFO - Chain [1] done processing\n",
      "Seasonality has period of 365.25 days which is larger than initial window. Consider increasing initial.\n"
     ]
    },
    {
     "data": {
      "application/vnd.jupyter.widget-view+json": {
       "model_id": "a16e03162b414fa1beb044d5d07ea829",
       "version_major": 2,
       "version_minor": 0
      },
      "text/plain": [
       "  0%|          | 0/3 [00:00<?, ?it/s]"
      ]
     },
     "metadata": {},
     "output_type": "display_data"
    },
    {
     "name": "stderr",
     "output_type": "stream",
     "text": [
      "16:35:13 - cmdstanpy - INFO - Chain [1] start processing\n",
      "16:35:13 - cmdstanpy - INFO - Chain [1] done processing\n",
      "16:35:13 - cmdstanpy - INFO - Chain [1] start processing\n",
      "16:35:13 - cmdstanpy - INFO - Chain [1] done processing\n",
      "16:35:14 - cmdstanpy - INFO - Chain [1] start processing\n",
      "16:35:14 - cmdstanpy - INFO - Chain [1] done processing\n",
      "16:35:14 - cmdstanpy - INFO - Chain [1] start processing\n",
      "16:35:14 - cmdstanpy - INFO - Chain [1] done processing\n",
      "Seasonality has period of 365.25 days which is larger than initial window. Consider increasing initial.\n"
     ]
    },
    {
     "data": {
      "application/vnd.jupyter.widget-view+json": {
       "model_id": "52f139cfefdd41bbb458edca6ff71449",
       "version_major": 2,
       "version_minor": 0
      },
      "text/plain": [
       "  0%|          | 0/3 [00:00<?, ?it/s]"
      ]
     },
     "metadata": {},
     "output_type": "display_data"
    },
    {
     "name": "stderr",
     "output_type": "stream",
     "text": [
      "16:35:14 - cmdstanpy - INFO - Chain [1] start processing\n",
      "16:35:15 - cmdstanpy - INFO - Chain [1] done processing\n",
      "16:35:15 - cmdstanpy - INFO - Chain [1] start processing\n",
      "16:35:15 - cmdstanpy - INFO - Chain [1] done processing\n",
      "16:35:15 - cmdstanpy - INFO - Chain [1] start processing\n",
      "16:35:16 - cmdstanpy - INFO - Chain [1] done processing\n",
      "16:35:16 - cmdstanpy - INFO - Chain [1] start processing\n",
      "16:35:16 - cmdstanpy - INFO - Chain [1] done processing\n",
      "Seasonality has period of 365.25 days which is larger than initial window. Consider increasing initial.\n"
     ]
    },
    {
     "data": {
      "application/vnd.jupyter.widget-view+json": {
       "model_id": "020a787f076247e4b25f79c06e3ccee4",
       "version_major": 2,
       "version_minor": 0
      },
      "text/plain": [
       "  0%|          | 0/3 [00:00<?, ?it/s]"
      ]
     },
     "metadata": {},
     "output_type": "display_data"
    },
    {
     "name": "stderr",
     "output_type": "stream",
     "text": [
      "16:35:16 - cmdstanpy - INFO - Chain [1] start processing\n",
      "16:35:16 - cmdstanpy - INFO - Chain [1] done processing\n",
      "16:35:17 - cmdstanpy - INFO - Chain [1] start processing\n",
      "16:35:17 - cmdstanpy - INFO - Chain [1] done processing\n",
      "16:35:17 - cmdstanpy - INFO - Chain [1] start processing\n",
      "16:35:17 - cmdstanpy - INFO - Chain [1] done processing\n",
      "16:35:18 - cmdstanpy - INFO - Chain [1] start processing\n",
      "16:35:18 - cmdstanpy - INFO - Chain [1] done processing\n",
      "Seasonality has period of 365.25 days which is larger than initial window. Consider increasing initial.\n"
     ]
    },
    {
     "data": {
      "application/vnd.jupyter.widget-view+json": {
       "model_id": "065eb741657549b6bc5c5f8368d53331",
       "version_major": 2,
       "version_minor": 0
      },
      "text/plain": [
       "  0%|          | 0/3 [00:00<?, ?it/s]"
      ]
     },
     "metadata": {},
     "output_type": "display_data"
    },
    {
     "name": "stderr",
     "output_type": "stream",
     "text": [
      "16:35:18 - cmdstanpy - INFO - Chain [1] start processing\n",
      "16:35:18 - cmdstanpy - INFO - Chain [1] done processing\n",
      "16:35:19 - cmdstanpy - INFO - Chain [1] start processing\n",
      "16:35:19 - cmdstanpy - INFO - Chain [1] done processing\n",
      "16:35:19 - cmdstanpy - INFO - Chain [1] start processing\n",
      "16:35:19 - cmdstanpy - INFO - Chain [1] done processing\n",
      "16:35:20 - cmdstanpy - INFO - Chain [1] start processing\n",
      "16:35:20 - cmdstanpy - INFO - Chain [1] done processing\n",
      "Seasonality has period of 365.25 days which is larger than initial window. Consider increasing initial.\n"
     ]
    },
    {
     "data": {
      "application/vnd.jupyter.widget-view+json": {
       "model_id": "7098a547ea244dd5b224c6c430fe62fc",
       "version_major": 2,
       "version_minor": 0
      },
      "text/plain": [
       "  0%|          | 0/3 [00:00<?, ?it/s]"
      ]
     },
     "metadata": {},
     "output_type": "display_data"
    },
    {
     "name": "stderr",
     "output_type": "stream",
     "text": [
      "16:35:20 - cmdstanpy - INFO - Chain [1] start processing\n",
      "16:35:20 - cmdstanpy - INFO - Chain [1] done processing\n",
      "16:35:20 - cmdstanpy - INFO - Chain [1] start processing\n",
      "16:35:21 - cmdstanpy - INFO - Chain [1] done processing\n",
      "16:35:21 - cmdstanpy - INFO - Chain [1] start processing\n",
      "16:35:21 - cmdstanpy - INFO - Chain [1] done processing\n",
      "16:35:21 - cmdstanpy - INFO - Chain [1] start processing\n",
      "16:35:22 - cmdstanpy - INFO - Chain [1] done processing\n",
      "Seasonality has period of 365.25 days which is larger than initial window. Consider increasing initial.\n"
     ]
    },
    {
     "data": {
      "application/vnd.jupyter.widget-view+json": {
       "model_id": "91d488fc5dda423686364ffeac5550b1",
       "version_major": 2,
       "version_minor": 0
      },
      "text/plain": [
       "  0%|          | 0/3 [00:00<?, ?it/s]"
      ]
     },
     "metadata": {},
     "output_type": "display_data"
    },
    {
     "name": "stderr",
     "output_type": "stream",
     "text": [
      "16:35:22 - cmdstanpy - INFO - Chain [1] start processing\n",
      "16:35:22 - cmdstanpy - INFO - Chain [1] done processing\n",
      "16:35:22 - cmdstanpy - INFO - Chain [1] start processing\n",
      "16:35:22 - cmdstanpy - INFO - Chain [1] done processing\n",
      "16:35:23 - cmdstanpy - INFO - Chain [1] start processing\n",
      "16:35:23 - cmdstanpy - INFO - Chain [1] done processing\n",
      "16:35:23 - cmdstanpy - INFO - Chain [1] start processing\n",
      "16:35:23 - cmdstanpy - INFO - Chain [1] done processing\n",
      "Seasonality has period of 365.25 days which is larger than initial window. Consider increasing initial.\n"
     ]
    },
    {
     "data": {
      "application/vnd.jupyter.widget-view+json": {
       "model_id": "1835051d70984cb2b450409721a63914",
       "version_major": 2,
       "version_minor": 0
      },
      "text/plain": [
       "  0%|          | 0/3 [00:00<?, ?it/s]"
      ]
     },
     "metadata": {},
     "output_type": "display_data"
    },
    {
     "name": "stderr",
     "output_type": "stream",
     "text": [
      "16:35:24 - cmdstanpy - INFO - Chain [1] start processing\n",
      "16:35:24 - cmdstanpy - INFO - Chain [1] done processing\n",
      "16:35:24 - cmdstanpy - INFO - Chain [1] start processing\n",
      "16:35:24 - cmdstanpy - INFO - Chain [1] done processing\n",
      "16:35:25 - cmdstanpy - INFO - Chain [1] start processing\n",
      "16:35:25 - cmdstanpy - INFO - Chain [1] done processing\n",
      "16:35:25 - cmdstanpy - INFO - Chain [1] start processing\n",
      "16:35:26 - cmdstanpy - INFO - Chain [1] done processing\n",
      "Seasonality has period of 365.25 days which is larger than initial window. Consider increasing initial.\n"
     ]
    },
    {
     "data": {
      "application/vnd.jupyter.widget-view+json": {
       "model_id": "a5644f4156d9407786e27c45711ca5ad",
       "version_major": 2,
       "version_minor": 0
      },
      "text/plain": [
       "  0%|          | 0/3 [00:00<?, ?it/s]"
      ]
     },
     "metadata": {},
     "output_type": "display_data"
    },
    {
     "name": "stderr",
     "output_type": "stream",
     "text": [
      "16:35:26 - cmdstanpy - INFO - Chain [1] start processing\n",
      "16:35:26 - cmdstanpy - INFO - Chain [1] done processing\n",
      "16:35:26 - cmdstanpy - INFO - Chain [1] start processing\n",
      "16:35:26 - cmdstanpy - INFO - Chain [1] done processing\n",
      "16:35:27 - cmdstanpy - INFO - Chain [1] start processing\n",
      "16:35:27 - cmdstanpy - INFO - Chain [1] done processing\n",
      "16:35:27 - cmdstanpy - INFO - Chain [1] start processing\n",
      "16:35:27 - cmdstanpy - INFO - Chain [1] done processing\n",
      "Seasonality has period of 365.25 days which is larger than initial window. Consider increasing initial.\n"
     ]
    },
    {
     "data": {
      "application/vnd.jupyter.widget-view+json": {
       "model_id": "b229a7d21b004829a4213db0d2fe8083",
       "version_major": 2,
       "version_minor": 0
      },
      "text/plain": [
       "  0%|          | 0/3 [00:00<?, ?it/s]"
      ]
     },
     "metadata": {},
     "output_type": "display_data"
    },
    {
     "name": "stderr",
     "output_type": "stream",
     "text": [
      "16:35:28 - cmdstanpy - INFO - Chain [1] start processing\n",
      "16:35:28 - cmdstanpy - INFO - Chain [1] done processing\n",
      "16:35:28 - cmdstanpy - INFO - Chain [1] start processing\n",
      "16:35:28 - cmdstanpy - INFO - Chain [1] done processing\n",
      "16:35:28 - cmdstanpy - INFO - Chain [1] start processing\n",
      "16:35:29 - cmdstanpy - INFO - Chain [1] done processing\n"
     ]
    }
   ],
   "source": [
    "# Define the hyperparameter grid\n",
    "param_grid = {\n",
    "    'changepoint_prior_scale': [0.4, 0.5, 0.6],\n",
    "    'seasonality_prior_scale': [0.009, 0.01, 0.02, 0.03],\n",
    "    'holidays_prior_scale': [0.003, 0.004, 0.005],\n",
    "    'seasonality_mode': ['additive']\n",
    "}\n",
    "\n",
    "# Create a list of all combinations of hyperparameters\n",
    "all_params = list(ParameterGrid(param_grid))\n",
    "\n",
    "list_of_result_dicts = []\n",
    "list_of_scores = []\n",
    "# Perform grid search\n",
    "for params in all_params:\n",
    "\n",
    "    m = Prophet(\n",
    "        changepoint_prior_scale=params['changepoint_prior_scale'],\n",
    "        seasonality_prior_scale=params['seasonality_prior_scale'],\n",
    "        holidays_prior_scale=params['holidays_prior_scale'],\n",
    "        seasonality_mode=params['seasonality_mode']\n",
    "    )\n",
    "    m.fit(Prague_1_full_date_range)\n",
    "\n",
    "    # Define the initial, period, and horizon for cross-validation\n",
    "    initial = '365 days'\n",
    "    period = '180 days'\n",
    "    horizon = '365 days'\n",
    "\n",
    "    # Compute MAPE using cross-validation\n",
    "    mape = cross_validation_mape(m, Prague_1_full_date_range, initial, period, horizon)\n",
    "\n",
    "    # Store the results\n",
    "    list_of_result_dicts.append(params)\n",
    "    list_of_scores.append(mape)\n",
    "\n",
    "results = pd.DataFrame({\"params\": list_of_result_dicts,\n",
    "                        \"MAPE\": list_of_scores})\n",
    "\n",
    "# Find the best hyperparameters\n",
    "best_params = results.loc[results['MAPE'].idxmin()]\n",
    "# print(f\"Best parameters: {best_params}\")"
   ]
  },
  {
   "cell_type": "code",
   "execution_count": 47,
   "metadata": {},
   "outputs": [
    {
     "name": "stdout",
     "output_type": "stream",
     "text": [
      "params    {'changepoint_prior_scale': 0.6, 'holidays_pri...\n",
      "MAPE                                               0.051248\n",
      "Name: 26, dtype: object\n",
      "{'changepoint_prior_scale': 0.6, 'holidays_prior_scale': 0.003, 'seasonality_mode': 'additive', 'seasonality_prior_scale': 0.02}\n"
     ]
    }
   ],
   "source": [
    "print(best_params)\n",
    "print(best_params[\"params\"])"
   ]
  },
  {
   "cell_type": "code",
   "execution_count": 50,
   "metadata": {},
   "outputs": [
    {
     "name": "stderr",
     "output_type": "stream",
     "text": [
      "16:56:12 - cmdstanpy - INFO - Chain [1] start processing\n",
      "16:56:13 - cmdstanpy - INFO - Chain [1] done processing\n",
      "Seasonality has period of 365.25 days which is larger than initial window. Consider increasing initial.\n"
     ]
    },
    {
     "data": {
      "application/vnd.jupyter.widget-view+json": {
       "model_id": "e03003e9d3b8414b8a36e3c487854e94",
       "version_major": 2,
       "version_minor": 0
      },
      "text/plain": [
       "  0%|          | 0/3 [00:00<?, ?it/s]"
      ]
     },
     "metadata": {},
     "output_type": "display_data"
    },
    {
     "name": "stderr",
     "output_type": "stream",
     "text": [
      "16:56:13 - cmdstanpy - INFO - Chain [1] start processing\n",
      "16:56:13 - cmdstanpy - INFO - Chain [1] done processing\n",
      "16:56:13 - cmdstanpy - INFO - Chain [1] start processing\n",
      "16:56:14 - cmdstanpy - INFO - Chain [1] done processing\n",
      "16:56:14 - cmdstanpy - INFO - Chain [1] start processing\n",
      "16:56:14 - cmdstanpy - INFO - Chain [1] done processing\n",
      "16:56:15 - cmdstanpy - INFO - Chain [1] start processing\n",
      "16:56:15 - cmdstanpy - INFO - Chain [1] done processing\n",
      "Seasonality has period of 365.25 days which is larger than initial window. Consider increasing initial.\n"
     ]
    },
    {
     "data": {
      "application/vnd.jupyter.widget-view+json": {
       "model_id": "102a377211c64b839ac2799531fd5101",
       "version_major": 2,
       "version_minor": 0
      },
      "text/plain": [
       "  0%|          | 0/3 [00:00<?, ?it/s]"
      ]
     },
     "metadata": {},
     "output_type": "display_data"
    },
    {
     "name": "stderr",
     "output_type": "stream",
     "text": [
      "16:56:15 - cmdstanpy - INFO - Chain [1] start processing\n",
      "16:56:15 - cmdstanpy - INFO - Chain [1] done processing\n",
      "16:56:15 - cmdstanpy - INFO - Chain [1] start processing\n",
      "16:56:16 - cmdstanpy - INFO - Chain [1] done processing\n",
      "16:56:16 - cmdstanpy - INFO - Chain [1] start processing\n",
      "16:56:16 - cmdstanpy - INFO - Chain [1] done processing\n",
      "16:56:17 - cmdstanpy - INFO - Chain [1] start processing\n",
      "16:56:17 - cmdstanpy - INFO - Chain [1] done processing\n",
      "Seasonality has period of 365.25 days which is larger than initial window. Consider increasing initial.\n"
     ]
    },
    {
     "data": {
      "application/vnd.jupyter.widget-view+json": {
       "model_id": "8d71cdf0b46e48c78a32d918b00a0be2",
       "version_major": 2,
       "version_minor": 0
      },
      "text/plain": [
       "  0%|          | 0/3 [00:00<?, ?it/s]"
      ]
     },
     "metadata": {},
     "output_type": "display_data"
    },
    {
     "name": "stderr",
     "output_type": "stream",
     "text": [
      "16:56:17 - cmdstanpy - INFO - Chain [1] start processing\n",
      "16:56:17 - cmdstanpy - INFO - Chain [1] done processing\n",
      "16:56:18 - cmdstanpy - INFO - Chain [1] start processing\n",
      "16:56:18 - cmdstanpy - INFO - Chain [1] done processing\n",
      "16:56:18 - cmdstanpy - INFO - Chain [1] start processing\n",
      "16:56:19 - cmdstanpy - INFO - Chain [1] done processing\n",
      "16:56:19 - cmdstanpy - INFO - Chain [1] start processing\n",
      "16:56:19 - cmdstanpy - INFO - Chain [1] done processing\n",
      "Seasonality has period of 365.25 days which is larger than initial window. Consider increasing initial.\n"
     ]
    },
    {
     "data": {
      "application/vnd.jupyter.widget-view+json": {
       "model_id": "81afcc819d6443bf9f04d8c4a3db0fe8",
       "version_major": 2,
       "version_minor": 0
      },
      "text/plain": [
       "  0%|          | 0/3 [00:00<?, ?it/s]"
      ]
     },
     "metadata": {},
     "output_type": "display_data"
    },
    {
     "name": "stderr",
     "output_type": "stream",
     "text": [
      "16:56:20 - cmdstanpy - INFO - Chain [1] start processing\n",
      "16:56:20 - cmdstanpy - INFO - Chain [1] done processing\n",
      "16:56:20 - cmdstanpy - INFO - Chain [1] start processing\n",
      "16:56:20 - cmdstanpy - INFO - Chain [1] done processing\n",
      "16:56:20 - cmdstanpy - INFO - Chain [1] start processing\n",
      "16:56:21 - cmdstanpy - INFO - Chain [1] done processing\n",
      "16:56:21 - cmdstanpy - INFO - Chain [1] start processing\n",
      "16:56:21 - cmdstanpy - INFO - Chain [1] done processing\n",
      "Seasonality has period of 365.25 days which is larger than initial window. Consider increasing initial.\n"
     ]
    },
    {
     "data": {
      "application/vnd.jupyter.widget-view+json": {
       "model_id": "be752e7781ef483cbd1d6ec7de089dc5",
       "version_major": 2,
       "version_minor": 0
      },
      "text/plain": [
       "  0%|          | 0/3 [00:00<?, ?it/s]"
      ]
     },
     "metadata": {},
     "output_type": "display_data"
    },
    {
     "name": "stderr",
     "output_type": "stream",
     "text": [
      "16:56:22 - cmdstanpy - INFO - Chain [1] start processing\n",
      "16:56:22 - cmdstanpy - INFO - Chain [1] done processing\n",
      "16:56:22 - cmdstanpy - INFO - Chain [1] start processing\n",
      "16:56:22 - cmdstanpy - INFO - Chain [1] done processing\n",
      "16:56:23 - cmdstanpy - INFO - Chain [1] start processing\n",
      "16:56:23 - cmdstanpy - INFO - Chain [1] done processing\n",
      "16:56:23 - cmdstanpy - INFO - Chain [1] start processing\n",
      "16:56:24 - cmdstanpy - INFO - Chain [1] done processing\n",
      "Seasonality has period of 365.25 days which is larger than initial window. Consider increasing initial.\n"
     ]
    },
    {
     "data": {
      "application/vnd.jupyter.widget-view+json": {
       "model_id": "13a2f8f2eaf54543a98b76714c7af436",
       "version_major": 2,
       "version_minor": 0
      },
      "text/plain": [
       "  0%|          | 0/3 [00:00<?, ?it/s]"
      ]
     },
     "metadata": {},
     "output_type": "display_data"
    },
    {
     "name": "stderr",
     "output_type": "stream",
     "text": [
      "16:56:24 - cmdstanpy - INFO - Chain [1] start processing\n",
      "16:56:24 - cmdstanpy - INFO - Chain [1] done processing\n",
      "16:56:24 - cmdstanpy - INFO - Chain [1] start processing\n",
      "16:56:24 - cmdstanpy - INFO - Chain [1] done processing\n",
      "16:56:25 - cmdstanpy - INFO - Chain [1] start processing\n",
      "16:56:25 - cmdstanpy - INFO - Chain [1] done processing\n",
      "16:56:25 - cmdstanpy - INFO - Chain [1] start processing\n",
      "16:56:26 - cmdstanpy - INFO - Chain [1] done processing\n",
      "Seasonality has period of 365.25 days which is larger than initial window. Consider increasing initial.\n"
     ]
    },
    {
     "data": {
      "application/vnd.jupyter.widget-view+json": {
       "model_id": "d44074f7086440f391d57ca9bbc51e91",
       "version_major": 2,
       "version_minor": 0
      },
      "text/plain": [
       "  0%|          | 0/3 [00:00<?, ?it/s]"
      ]
     },
     "metadata": {},
     "output_type": "display_data"
    },
    {
     "name": "stderr",
     "output_type": "stream",
     "text": [
      "16:56:26 - cmdstanpy - INFO - Chain [1] start processing\n",
      "16:56:26 - cmdstanpy - INFO - Chain [1] done processing\n",
      "16:56:26 - cmdstanpy - INFO - Chain [1] start processing\n",
      "16:56:27 - cmdstanpy - INFO - Chain [1] done processing\n",
      "16:56:27 - cmdstanpy - INFO - Chain [1] start processing\n",
      "16:56:27 - cmdstanpy - INFO - Chain [1] done processing\n",
      "16:56:27 - cmdstanpy - INFO - Chain [1] start processing\n",
      "16:56:28 - cmdstanpy - INFO - Chain [1] done processing\n",
      "Seasonality has period of 365.25 days which is larger than initial window. Consider increasing initial.\n"
     ]
    },
    {
     "data": {
      "application/vnd.jupyter.widget-view+json": {
       "model_id": "fd3031791fc642aeaa01b94ced4cff8e",
       "version_major": 2,
       "version_minor": 0
      },
      "text/plain": [
       "  0%|          | 0/3 [00:00<?, ?it/s]"
      ]
     },
     "metadata": {},
     "output_type": "display_data"
    },
    {
     "name": "stderr",
     "output_type": "stream",
     "text": [
      "16:56:28 - cmdstanpy - INFO - Chain [1] start processing\n",
      "16:56:28 - cmdstanpy - INFO - Chain [1] done processing\n",
      "16:56:29 - cmdstanpy - INFO - Chain [1] start processing\n",
      "16:56:29 - cmdstanpy - INFO - Chain [1] done processing\n",
      "16:56:29 - cmdstanpy - INFO - Chain [1] start processing\n",
      "16:56:29 - cmdstanpy - INFO - Chain [1] done processing\n",
      "16:56:30 - cmdstanpy - INFO - Chain [1] start processing\n",
      "16:56:30 - cmdstanpy - INFO - Chain [1] done processing\n",
      "Seasonality has period of 365.25 days which is larger than initial window. Consider increasing initial.\n"
     ]
    },
    {
     "data": {
      "application/vnd.jupyter.widget-view+json": {
       "model_id": "d69b87bc32974c4b802ba9c308a988e5",
       "version_major": 2,
       "version_minor": 0
      },
      "text/plain": [
       "  0%|          | 0/3 [00:00<?, ?it/s]"
      ]
     },
     "metadata": {},
     "output_type": "display_data"
    },
    {
     "name": "stderr",
     "output_type": "stream",
     "text": [
      "16:56:30 - cmdstanpy - INFO - Chain [1] start processing\n",
      "16:56:30 - cmdstanpy - INFO - Chain [1] done processing\n",
      "16:56:30 - cmdstanpy - INFO - Chain [1] start processing\n",
      "16:56:31 - cmdstanpy - INFO - Chain [1] done processing\n",
      "16:56:31 - cmdstanpy - INFO - Chain [1] start processing\n",
      "16:56:31 - cmdstanpy - INFO - Chain [1] done processing\n",
      "16:56:32 - cmdstanpy - INFO - Chain [1] start processing\n",
      "16:56:32 - cmdstanpy - INFO - Chain [1] done processing\n",
      "Seasonality has period of 365.25 days which is larger than initial window. Consider increasing initial.\n"
     ]
    },
    {
     "data": {
      "application/vnd.jupyter.widget-view+json": {
       "model_id": "db52b880b64f4defaad94c3e2aadf58c",
       "version_major": 2,
       "version_minor": 0
      },
      "text/plain": [
       "  0%|          | 0/3 [00:00<?, ?it/s]"
      ]
     },
     "metadata": {},
     "output_type": "display_data"
    },
    {
     "name": "stderr",
     "output_type": "stream",
     "text": [
      "16:56:32 - cmdstanpy - INFO - Chain [1] start processing\n",
      "16:56:32 - cmdstanpy - INFO - Chain [1] done processing\n",
      "16:56:33 - cmdstanpy - INFO - Chain [1] start processing\n",
      "16:56:33 - cmdstanpy - INFO - Chain [1] done processing\n",
      "16:56:33 - cmdstanpy - INFO - Chain [1] start processing\n",
      "16:56:33 - cmdstanpy - INFO - Chain [1] done processing\n",
      "16:56:34 - cmdstanpy - INFO - Chain [1] start processing\n",
      "16:56:34 - cmdstanpy - INFO - Chain [1] done processing\n",
      "Seasonality has period of 365.25 days which is larger than initial window. Consider increasing initial.\n"
     ]
    },
    {
     "data": {
      "application/vnd.jupyter.widget-view+json": {
       "model_id": "82a7c39705d044f1bb2bf27f415d3685",
       "version_major": 2,
       "version_minor": 0
      },
      "text/plain": [
       "  0%|          | 0/3 [00:00<?, ?it/s]"
      ]
     },
     "metadata": {},
     "output_type": "display_data"
    },
    {
     "name": "stderr",
     "output_type": "stream",
     "text": [
      "16:56:34 - cmdstanpy - INFO - Chain [1] start processing\n",
      "16:56:34 - cmdstanpy - INFO - Chain [1] done processing\n",
      "16:56:35 - cmdstanpy - INFO - Chain [1] start processing\n",
      "16:56:35 - cmdstanpy - INFO - Chain [1] done processing\n",
      "16:56:35 - cmdstanpy - INFO - Chain [1] start processing\n",
      "16:56:35 - cmdstanpy - INFO - Chain [1] done processing\n",
      "16:56:36 - cmdstanpy - INFO - Chain [1] start processing\n",
      "16:56:36 - cmdstanpy - INFO - Chain [1] done processing\n",
      "Seasonality has period of 365.25 days which is larger than initial window. Consider increasing initial.\n"
     ]
    },
    {
     "data": {
      "application/vnd.jupyter.widget-view+json": {
       "model_id": "e45f596b5ef343ae815bb18eb2141b95",
       "version_major": 2,
       "version_minor": 0
      },
      "text/plain": [
       "  0%|          | 0/3 [00:00<?, ?it/s]"
      ]
     },
     "metadata": {},
     "output_type": "display_data"
    },
    {
     "name": "stderr",
     "output_type": "stream",
     "text": [
      "16:56:36 - cmdstanpy - INFO - Chain [1] start processing\n",
      "16:56:36 - cmdstanpy - INFO - Chain [1] done processing\n",
      "16:56:37 - cmdstanpy - INFO - Chain [1] start processing\n",
      "16:56:37 - cmdstanpy - INFO - Chain [1] done processing\n",
      "16:56:37 - cmdstanpy - INFO - Chain [1] start processing\n",
      "16:56:37 - cmdstanpy - INFO - Chain [1] done processing\n",
      "16:56:38 - cmdstanpy - INFO - Chain [1] start processing\n",
      "16:56:38 - cmdstanpy - INFO - Chain [1] done processing\n",
      "Seasonality has period of 365.25 days which is larger than initial window. Consider increasing initial.\n"
     ]
    },
    {
     "data": {
      "application/vnd.jupyter.widget-view+json": {
       "model_id": "6717d59c412f40d89b9bf33ac3b1e494",
       "version_major": 2,
       "version_minor": 0
      },
      "text/plain": [
       "  0%|          | 0/3 [00:00<?, ?it/s]"
      ]
     },
     "metadata": {},
     "output_type": "display_data"
    },
    {
     "name": "stderr",
     "output_type": "stream",
     "text": [
      "16:56:38 - cmdstanpy - INFO - Chain [1] start processing\n",
      "16:56:39 - cmdstanpy - INFO - Chain [1] done processing\n",
      "16:56:39 - cmdstanpy - INFO - Chain [1] start processing\n",
      "16:56:39 - cmdstanpy - INFO - Chain [1] done processing\n",
      "16:56:39 - cmdstanpy - INFO - Chain [1] start processing\n",
      "16:56:40 - cmdstanpy - INFO - Chain [1] done processing\n",
      "16:56:40 - cmdstanpy - INFO - Chain [1] start processing\n",
      "16:56:40 - cmdstanpy - INFO - Chain [1] done processing\n",
      "Seasonality has period of 365.25 days which is larger than initial window. Consider increasing initial.\n"
     ]
    },
    {
     "data": {
      "application/vnd.jupyter.widget-view+json": {
       "model_id": "e1a9379efbfb44fc9417e66264e06b39",
       "version_major": 2,
       "version_minor": 0
      },
      "text/plain": [
       "  0%|          | 0/3 [00:00<?, ?it/s]"
      ]
     },
     "metadata": {},
     "output_type": "display_data"
    },
    {
     "name": "stderr",
     "output_type": "stream",
     "text": [
      "16:56:41 - cmdstanpy - INFO - Chain [1] start processing\n",
      "16:56:41 - cmdstanpy - INFO - Chain [1] done processing\n",
      "16:56:41 - cmdstanpy - INFO - Chain [1] start processing\n",
      "16:56:41 - cmdstanpy - INFO - Chain [1] done processing\n",
      "16:56:42 - cmdstanpy - INFO - Chain [1] start processing\n",
      "16:56:42 - cmdstanpy - INFO - Chain [1] done processing\n",
      "16:56:42 - cmdstanpy - INFO - Chain [1] start processing\n",
      "16:56:43 - cmdstanpy - INFO - Chain [1] done processing\n",
      "Seasonality has period of 365.25 days which is larger than initial window. Consider increasing initial.\n"
     ]
    },
    {
     "data": {
      "application/vnd.jupyter.widget-view+json": {
       "model_id": "db418fb0b22f4e41861d8f2fc1ec44ad",
       "version_major": 2,
       "version_minor": 0
      },
      "text/plain": [
       "  0%|          | 0/3 [00:00<?, ?it/s]"
      ]
     },
     "metadata": {},
     "output_type": "display_data"
    },
    {
     "name": "stderr",
     "output_type": "stream",
     "text": [
      "16:56:43 - cmdstanpy - INFO - Chain [1] start processing\n",
      "16:56:43 - cmdstanpy - INFO - Chain [1] done processing\n",
      "16:56:43 - cmdstanpy - INFO - Chain [1] start processing\n",
      "16:56:44 - cmdstanpy - INFO - Chain [1] done processing\n",
      "16:56:44 - cmdstanpy - INFO - Chain [1] start processing\n",
      "16:56:44 - cmdstanpy - INFO - Chain [1] done processing\n",
      "16:56:44 - cmdstanpy - INFO - Chain [1] start processing\n",
      "16:56:45 - cmdstanpy - INFO - Chain [1] done processing\n",
      "Seasonality has period of 365.25 days which is larger than initial window. Consider increasing initial.\n"
     ]
    },
    {
     "data": {
      "application/vnd.jupyter.widget-view+json": {
       "model_id": "6edc34e595524d0b8e0dfb067f8ab9b4",
       "version_major": 2,
       "version_minor": 0
      },
      "text/plain": [
       "  0%|          | 0/3 [00:00<?, ?it/s]"
      ]
     },
     "metadata": {},
     "output_type": "display_data"
    },
    {
     "name": "stderr",
     "output_type": "stream",
     "text": [
      "16:56:45 - cmdstanpy - INFO - Chain [1] start processing\n",
      "16:56:45 - cmdstanpy - INFO - Chain [1] done processing\n",
      "16:56:45 - cmdstanpy - INFO - Chain [1] start processing\n",
      "16:56:46 - cmdstanpy - INFO - Chain [1] done processing\n",
      "16:56:46 - cmdstanpy - INFO - Chain [1] start processing\n",
      "16:56:46 - cmdstanpy - INFO - Chain [1] done processing\n",
      "16:56:47 - cmdstanpy - INFO - Chain [1] start processing\n",
      "16:56:47 - cmdstanpy - INFO - Chain [1] done processing\n",
      "Seasonality has period of 365.25 days which is larger than initial window. Consider increasing initial.\n"
     ]
    },
    {
     "data": {
      "application/vnd.jupyter.widget-view+json": {
       "model_id": "08018ea76c6b4aae8bac76babd59111d",
       "version_major": 2,
       "version_minor": 0
      },
      "text/plain": [
       "  0%|          | 0/3 [00:00<?, ?it/s]"
      ]
     },
     "metadata": {},
     "output_type": "display_data"
    },
    {
     "name": "stderr",
     "output_type": "stream",
     "text": [
      "16:56:47 - cmdstanpy - INFO - Chain [1] start processing\n",
      "16:56:47 - cmdstanpy - INFO - Chain [1] done processing\n",
      "16:56:48 - cmdstanpy - INFO - Chain [1] start processing\n",
      "16:56:48 - cmdstanpy - INFO - Chain [1] done processing\n",
      "16:56:48 - cmdstanpy - INFO - Chain [1] start processing\n",
      "16:56:49 - cmdstanpy - INFO - Chain [1] done processing\n",
      "16:56:49 - cmdstanpy - INFO - Chain [1] start processing\n",
      "16:56:49 - cmdstanpy - INFO - Chain [1] done processing\n",
      "Seasonality has period of 365.25 days which is larger than initial window. Consider increasing initial.\n"
     ]
    },
    {
     "data": {
      "application/vnd.jupyter.widget-view+json": {
       "model_id": "81560ef80c3c4ef183ab8b75ad99c87c",
       "version_major": 2,
       "version_minor": 0
      },
      "text/plain": [
       "  0%|          | 0/3 [00:00<?, ?it/s]"
      ]
     },
     "metadata": {},
     "output_type": "display_data"
    },
    {
     "name": "stderr",
     "output_type": "stream",
     "text": [
      "16:56:49 - cmdstanpy - INFO - Chain [1] start processing\n",
      "16:56:50 - cmdstanpy - INFO - Chain [1] done processing\n",
      "16:56:50 - cmdstanpy - INFO - Chain [1] start processing\n",
      "16:56:50 - cmdstanpy - INFO - Chain [1] done processing\n",
      "16:56:50 - cmdstanpy - INFO - Chain [1] start processing\n",
      "16:56:50 - cmdstanpy - INFO - Chain [1] done processing\n",
      "16:56:51 - cmdstanpy - INFO - Chain [1] start processing\n",
      "16:56:51 - cmdstanpy - INFO - Chain [1] done processing\n",
      "Seasonality has period of 365.25 days which is larger than initial window. Consider increasing initial.\n"
     ]
    },
    {
     "data": {
      "application/vnd.jupyter.widget-view+json": {
       "model_id": "e025bcf0fbfa4a379cac67697884134f",
       "version_major": 2,
       "version_minor": 0
      },
      "text/plain": [
       "  0%|          | 0/3 [00:00<?, ?it/s]"
      ]
     },
     "metadata": {},
     "output_type": "display_data"
    },
    {
     "name": "stderr",
     "output_type": "stream",
     "text": [
      "16:56:52 - cmdstanpy - INFO - Chain [1] start processing\n",
      "16:56:52 - cmdstanpy - INFO - Chain [1] done processing\n",
      "16:56:52 - cmdstanpy - INFO - Chain [1] start processing\n",
      "16:56:52 - cmdstanpy - INFO - Chain [1] done processing\n",
      "16:56:52 - cmdstanpy - INFO - Chain [1] start processing\n",
      "16:56:53 - cmdstanpy - INFO - Chain [1] done processing\n",
      "16:56:53 - cmdstanpy - INFO - Chain [1] start processing\n",
      "16:56:53 - cmdstanpy - INFO - Chain [1] done processing\n",
      "Seasonality has period of 365.25 days which is larger than initial window. Consider increasing initial.\n"
     ]
    },
    {
     "data": {
      "application/vnd.jupyter.widget-view+json": {
       "model_id": "ba84d270657e4223a95db01571e52cce",
       "version_major": 2,
       "version_minor": 0
      },
      "text/plain": [
       "  0%|          | 0/3 [00:00<?, ?it/s]"
      ]
     },
     "metadata": {},
     "output_type": "display_data"
    },
    {
     "name": "stderr",
     "output_type": "stream",
     "text": [
      "16:56:54 - cmdstanpy - INFO - Chain [1] start processing\n",
      "16:56:54 - cmdstanpy - INFO - Chain [1] done processing\n",
      "16:56:54 - cmdstanpy - INFO - Chain [1] start processing\n",
      "16:56:54 - cmdstanpy - INFO - Chain [1] done processing\n",
      "16:56:55 - cmdstanpy - INFO - Chain [1] start processing\n",
      "16:56:55 - cmdstanpy - INFO - Chain [1] done processing\n",
      "16:56:55 - cmdstanpy - INFO - Chain [1] start processing\n",
      "16:56:56 - cmdstanpy - INFO - Chain [1] done processing\n",
      "Seasonality has period of 365.25 days which is larger than initial window. Consider increasing initial.\n"
     ]
    },
    {
     "data": {
      "application/vnd.jupyter.widget-view+json": {
       "model_id": "7b734e022436481aa65ff6cfa4da63ee",
       "version_major": 2,
       "version_minor": 0
      },
      "text/plain": [
       "  0%|          | 0/3 [00:00<?, ?it/s]"
      ]
     },
     "metadata": {},
     "output_type": "display_data"
    },
    {
     "name": "stderr",
     "output_type": "stream",
     "text": [
      "16:56:56 - cmdstanpy - INFO - Chain [1] start processing\n",
      "16:56:56 - cmdstanpy - INFO - Chain [1] done processing\n",
      "16:56:56 - cmdstanpy - INFO - Chain [1] start processing\n",
      "16:56:57 - cmdstanpy - INFO - Chain [1] done processing\n",
      "16:56:57 - cmdstanpy - INFO - Chain [1] start processing\n",
      "16:56:57 - cmdstanpy - INFO - Chain [1] done processing\n",
      "16:56:57 - cmdstanpy - INFO - Chain [1] start processing\n",
      "16:56:58 - cmdstanpy - INFO - Chain [1] done processing\n",
      "Seasonality has period of 365.25 days which is larger than initial window. Consider increasing initial.\n"
     ]
    },
    {
     "data": {
      "application/vnd.jupyter.widget-view+json": {
       "model_id": "1488ba7c75c347debf4a852c5b87b6ef",
       "version_major": 2,
       "version_minor": 0
      },
      "text/plain": [
       "  0%|          | 0/3 [00:00<?, ?it/s]"
      ]
     },
     "metadata": {},
     "output_type": "display_data"
    },
    {
     "name": "stderr",
     "output_type": "stream",
     "text": [
      "16:56:58 - cmdstanpy - INFO - Chain [1] start processing\n",
      "16:56:58 - cmdstanpy - INFO - Chain [1] done processing\n",
      "16:56:58 - cmdstanpy - INFO - Chain [1] start processing\n",
      "16:56:59 - cmdstanpy - INFO - Chain [1] done processing\n",
      "16:56:59 - cmdstanpy - INFO - Chain [1] start processing\n",
      "16:56:59 - cmdstanpy - INFO - Chain [1] done processing\n",
      "16:56:59 - cmdstanpy - INFO - Chain [1] start processing\n",
      "16:57:00 - cmdstanpy - INFO - Chain [1] done processing\n",
      "Seasonality has period of 365.25 days which is larger than initial window. Consider increasing initial.\n"
     ]
    },
    {
     "data": {
      "application/vnd.jupyter.widget-view+json": {
       "model_id": "89f5a60ded8f43309025914ac68f4298",
       "version_major": 2,
       "version_minor": 0
      },
      "text/plain": [
       "  0%|          | 0/3 [00:00<?, ?it/s]"
      ]
     },
     "metadata": {},
     "output_type": "display_data"
    },
    {
     "name": "stderr",
     "output_type": "stream",
     "text": [
      "16:57:00 - cmdstanpy - INFO - Chain [1] start processing\n",
      "16:57:00 - cmdstanpy - INFO - Chain [1] done processing\n",
      "16:57:01 - cmdstanpy - INFO - Chain [1] start processing\n",
      "16:57:01 - cmdstanpy - INFO - Chain [1] done processing\n",
      "16:57:01 - cmdstanpy - INFO - Chain [1] start processing\n",
      "16:57:01 - cmdstanpy - INFO - Chain [1] done processing\n",
      "16:57:02 - cmdstanpy - INFO - Chain [1] start processing\n",
      "16:57:02 - cmdstanpy - INFO - Chain [1] done processing\n",
      "Seasonality has period of 365.25 days which is larger than initial window. Consider increasing initial.\n"
     ]
    },
    {
     "data": {
      "application/vnd.jupyter.widget-view+json": {
       "model_id": "6a67a5fcdac34e7cb324eb01b9ba0d7c",
       "version_major": 2,
       "version_minor": 0
      },
      "text/plain": [
       "  0%|          | 0/3 [00:00<?, ?it/s]"
      ]
     },
     "metadata": {},
     "output_type": "display_data"
    },
    {
     "name": "stderr",
     "output_type": "stream",
     "text": [
      "16:57:02 - cmdstanpy - INFO - Chain [1] start processing\n",
      "16:57:03 - cmdstanpy - INFO - Chain [1] done processing\n",
      "16:57:03 - cmdstanpy - INFO - Chain [1] start processing\n",
      "16:57:03 - cmdstanpy - INFO - Chain [1] done processing\n",
      "16:57:03 - cmdstanpy - INFO - Chain [1] start processing\n",
      "16:57:04 - cmdstanpy - INFO - Chain [1] done processing\n",
      "16:57:04 - cmdstanpy - INFO - Chain [1] start processing\n",
      "16:57:04 - cmdstanpy - INFO - Chain [1] done processing\n",
      "Seasonality has period of 365.25 days which is larger than initial window. Consider increasing initial.\n"
     ]
    },
    {
     "data": {
      "application/vnd.jupyter.widget-view+json": {
       "model_id": "74909832fb4244a9a135fe54d4fb8489",
       "version_major": 2,
       "version_minor": 0
      },
      "text/plain": [
       "  0%|          | 0/3 [00:00<?, ?it/s]"
      ]
     },
     "metadata": {},
     "output_type": "display_data"
    },
    {
     "name": "stderr",
     "output_type": "stream",
     "text": [
      "16:57:04 - cmdstanpy - INFO - Chain [1] start processing\n",
      "16:57:05 - cmdstanpy - INFO - Chain [1] done processing\n",
      "16:57:05 - cmdstanpy - INFO - Chain [1] start processing\n",
      "16:57:05 - cmdstanpy - INFO - Chain [1] done processing\n",
      "16:57:05 - cmdstanpy - INFO - Chain [1] start processing\n",
      "16:57:06 - cmdstanpy - INFO - Chain [1] done processing\n",
      "16:57:06 - cmdstanpy - INFO - Chain [1] start processing\n",
      "16:57:07 - cmdstanpy - INFO - Chain [1] done processing\n",
      "Seasonality has period of 365.25 days which is larger than initial window. Consider increasing initial.\n"
     ]
    },
    {
     "data": {
      "application/vnd.jupyter.widget-view+json": {
       "model_id": "3a0ea9b15f084ad79d50a72865415b6e",
       "version_major": 2,
       "version_minor": 0
      },
      "text/plain": [
       "  0%|          | 0/3 [00:00<?, ?it/s]"
      ]
     },
     "metadata": {},
     "output_type": "display_data"
    },
    {
     "name": "stderr",
     "output_type": "stream",
     "text": [
      "16:57:07 - cmdstanpy - INFO - Chain [1] start processing\n",
      "16:57:07 - cmdstanpy - INFO - Chain [1] done processing\n",
      "16:57:07 - cmdstanpy - INFO - Chain [1] start processing\n",
      "16:57:07 - cmdstanpy - INFO - Chain [1] done processing\n",
      "16:57:08 - cmdstanpy - INFO - Chain [1] start processing\n",
      "16:57:08 - cmdstanpy - INFO - Chain [1] done processing\n",
      "16:57:08 - cmdstanpy - INFO - Chain [1] start processing\n",
      "16:57:09 - cmdstanpy - INFO - Chain [1] done processing\n",
      "Seasonality has period of 365.25 days which is larger than initial window. Consider increasing initial.\n"
     ]
    },
    {
     "data": {
      "application/vnd.jupyter.widget-view+json": {
       "model_id": "fa710bd4afc84905aef0f16b6bec8386",
       "version_major": 2,
       "version_minor": 0
      },
      "text/plain": [
       "  0%|          | 0/3 [00:00<?, ?it/s]"
      ]
     },
     "metadata": {},
     "output_type": "display_data"
    },
    {
     "name": "stderr",
     "output_type": "stream",
     "text": [
      "16:57:09 - cmdstanpy - INFO - Chain [1] start processing\n",
      "16:57:09 - cmdstanpy - INFO - Chain [1] done processing\n",
      "16:57:10 - cmdstanpy - INFO - Chain [1] start processing\n",
      "16:57:10 - cmdstanpy - INFO - Chain [1] done processing\n",
      "16:57:10 - cmdstanpy - INFO - Chain [1] start processing\n",
      "16:57:10 - cmdstanpy - INFO - Chain [1] done processing\n",
      "16:57:11 - cmdstanpy - INFO - Chain [1] start processing\n",
      "16:57:11 - cmdstanpy - INFO - Chain [1] done processing\n",
      "Seasonality has period of 365.25 days which is larger than initial window. Consider increasing initial.\n"
     ]
    },
    {
     "data": {
      "application/vnd.jupyter.widget-view+json": {
       "model_id": "34ee0b589ebb442299b06809caf082da",
       "version_major": 2,
       "version_minor": 0
      },
      "text/plain": [
       "  0%|          | 0/3 [00:00<?, ?it/s]"
      ]
     },
     "metadata": {},
     "output_type": "display_data"
    },
    {
     "name": "stderr",
     "output_type": "stream",
     "text": [
      "16:57:11 - cmdstanpy - INFO - Chain [1] start processing\n",
      "16:57:11 - cmdstanpy - INFO - Chain [1] done processing\n",
      "16:57:12 - cmdstanpy - INFO - Chain [1] start processing\n",
      "16:57:12 - cmdstanpy - INFO - Chain [1] done processing\n",
      "16:57:12 - cmdstanpy - INFO - Chain [1] start processing\n",
      "16:57:13 - cmdstanpy - INFO - Chain [1] done processing\n",
      "16:57:13 - cmdstanpy - INFO - Chain [1] start processing\n",
      "16:57:13 - cmdstanpy - INFO - Chain [1] done processing\n",
      "Seasonality has period of 365.25 days which is larger than initial window. Consider increasing initial.\n"
     ]
    },
    {
     "data": {
      "application/vnd.jupyter.widget-view+json": {
       "model_id": "b6cfcf1d816246a7ac41a78c7986878b",
       "version_major": 2,
       "version_minor": 0
      },
      "text/plain": [
       "  0%|          | 0/3 [00:00<?, ?it/s]"
      ]
     },
     "metadata": {},
     "output_type": "display_data"
    },
    {
     "name": "stderr",
     "output_type": "stream",
     "text": [
      "16:57:13 - cmdstanpy - INFO - Chain [1] start processing\n",
      "16:57:14 - cmdstanpy - INFO - Chain [1] done processing\n",
      "16:57:14 - cmdstanpy - INFO - Chain [1] start processing\n",
      "16:57:14 - cmdstanpy - INFO - Chain [1] done processing\n",
      "16:57:14 - cmdstanpy - INFO - Chain [1] start processing\n",
      "16:57:15 - cmdstanpy - INFO - Chain [1] done processing\n",
      "16:57:15 - cmdstanpy - INFO - Chain [1] start processing\n",
      "16:57:16 - cmdstanpy - INFO - Chain [1] done processing\n",
      "Seasonality has period of 365.25 days which is larger than initial window. Consider increasing initial.\n"
     ]
    },
    {
     "data": {
      "application/vnd.jupyter.widget-view+json": {
       "model_id": "05ecdff8e1db4d3aaa786a52f8196047",
       "version_major": 2,
       "version_minor": 0
      },
      "text/plain": [
       "  0%|          | 0/3 [00:00<?, ?it/s]"
      ]
     },
     "metadata": {},
     "output_type": "display_data"
    },
    {
     "name": "stderr",
     "output_type": "stream",
     "text": [
      "16:57:16 - cmdstanpy - INFO - Chain [1] start processing\n",
      "16:57:16 - cmdstanpy - INFO - Chain [1] done processing\n",
      "16:57:16 - cmdstanpy - INFO - Chain [1] start processing\n",
      "16:57:16 - cmdstanpy - INFO - Chain [1] done processing\n",
      "16:57:17 - cmdstanpy - INFO - Chain [1] start processing\n",
      "16:57:17 - cmdstanpy - INFO - Chain [1] done processing\n",
      "16:57:18 - cmdstanpy - INFO - Chain [1] start processing\n",
      "16:57:18 - cmdstanpy - INFO - Chain [1] done processing\n",
      "Seasonality has period of 365.25 days which is larger than initial window. Consider increasing initial.\n"
     ]
    },
    {
     "data": {
      "application/vnd.jupyter.widget-view+json": {
       "model_id": "d6d8e4f757fe4d308420d6809db1fa4f",
       "version_major": 2,
       "version_minor": 0
      },
      "text/plain": [
       "  0%|          | 0/3 [00:00<?, ?it/s]"
      ]
     },
     "metadata": {},
     "output_type": "display_data"
    },
    {
     "name": "stderr",
     "output_type": "stream",
     "text": [
      "16:57:18 - cmdstanpy - INFO - Chain [1] start processing\n",
      "16:57:18 - cmdstanpy - INFO - Chain [1] done processing\n",
      "16:57:19 - cmdstanpy - INFO - Chain [1] start processing\n",
      "16:57:19 - cmdstanpy - INFO - Chain [1] done processing\n",
      "16:57:19 - cmdstanpy - INFO - Chain [1] start processing\n",
      "16:57:19 - cmdstanpy - INFO - Chain [1] done processing\n",
      "16:57:20 - cmdstanpy - INFO - Chain [1] start processing\n",
      "16:57:20 - cmdstanpy - INFO - Chain [1] done processing\n",
      "Seasonality has period of 365.25 days which is larger than initial window. Consider increasing initial.\n"
     ]
    },
    {
     "data": {
      "application/vnd.jupyter.widget-view+json": {
       "model_id": "d0d63f4122e44bf6af447cb1090a57c5",
       "version_major": 2,
       "version_minor": 0
      },
      "text/plain": [
       "  0%|          | 0/3 [00:00<?, ?it/s]"
      ]
     },
     "metadata": {},
     "output_type": "display_data"
    },
    {
     "name": "stderr",
     "output_type": "stream",
     "text": [
      "16:57:20 - cmdstanpy - INFO - Chain [1] start processing\n",
      "16:57:20 - cmdstanpy - INFO - Chain [1] done processing\n",
      "16:57:21 - cmdstanpy - INFO - Chain [1] start processing\n",
      "16:57:21 - cmdstanpy - INFO - Chain [1] done processing\n",
      "16:57:21 - cmdstanpy - INFO - Chain [1] start processing\n",
      "16:57:22 - cmdstanpy - INFO - Chain [1] done processing\n",
      "16:57:22 - cmdstanpy - INFO - Chain [1] start processing\n",
      "16:57:22 - cmdstanpy - INFO - Chain [1] done processing\n",
      "Seasonality has period of 365.25 days which is larger than initial window. Consider increasing initial.\n"
     ]
    },
    {
     "data": {
      "application/vnd.jupyter.widget-view+json": {
       "model_id": "c8a1ef0a033044d4b50538975dbf212c",
       "version_major": 2,
       "version_minor": 0
      },
      "text/plain": [
       "  0%|          | 0/3 [00:00<?, ?it/s]"
      ]
     },
     "metadata": {},
     "output_type": "display_data"
    },
    {
     "name": "stderr",
     "output_type": "stream",
     "text": [
      "16:57:22 - cmdstanpy - INFO - Chain [1] start processing\n",
      "16:57:23 - cmdstanpy - INFO - Chain [1] done processing\n",
      "16:57:23 - cmdstanpy - INFO - Chain [1] start processing\n",
      "16:57:23 - cmdstanpy - INFO - Chain [1] done processing\n",
      "16:57:24 - cmdstanpy - INFO - Chain [1] start processing\n",
      "16:57:24 - cmdstanpy - INFO - Chain [1] done processing\n",
      "16:57:24 - cmdstanpy - INFO - Chain [1] start processing\n",
      "16:57:25 - cmdstanpy - INFO - Chain [1] done processing\n",
      "Seasonality has period of 365.25 days which is larger than initial window. Consider increasing initial.\n"
     ]
    },
    {
     "data": {
      "application/vnd.jupyter.widget-view+json": {
       "model_id": "e56084cba03d44029427047aa2689c09",
       "version_major": 2,
       "version_minor": 0
      },
      "text/plain": [
       "  0%|          | 0/3 [00:00<?, ?it/s]"
      ]
     },
     "metadata": {},
     "output_type": "display_data"
    },
    {
     "name": "stderr",
     "output_type": "stream",
     "text": [
      "16:57:25 - cmdstanpy - INFO - Chain [1] start processing\n",
      "16:57:25 - cmdstanpy - INFO - Chain [1] done processing\n",
      "16:57:25 - cmdstanpy - INFO - Chain [1] start processing\n",
      "16:57:26 - cmdstanpy - INFO - Chain [1] done processing\n",
      "16:57:26 - cmdstanpy - INFO - Chain [1] start processing\n",
      "16:57:26 - cmdstanpy - INFO - Chain [1] done processing\n",
      "16:57:27 - cmdstanpy - INFO - Chain [1] start processing\n",
      "16:57:27 - cmdstanpy - INFO - Chain [1] done processing\n",
      "Seasonality has period of 365.25 days which is larger than initial window. Consider increasing initial.\n"
     ]
    },
    {
     "data": {
      "application/vnd.jupyter.widget-view+json": {
       "model_id": "e60c0c8320e544b3b012a8ea14b31c69",
       "version_major": 2,
       "version_minor": 0
      },
      "text/plain": [
       "  0%|          | 0/3 [00:00<?, ?it/s]"
      ]
     },
     "metadata": {},
     "output_type": "display_data"
    },
    {
     "name": "stderr",
     "output_type": "stream",
     "text": [
      "16:57:27 - cmdstanpy - INFO - Chain [1] start processing\n",
      "16:57:27 - cmdstanpy - INFO - Chain [1] done processing\n",
      "16:57:28 - cmdstanpy - INFO - Chain [1] start processing\n",
      "16:57:28 - cmdstanpy - INFO - Chain [1] done processing\n",
      "16:57:28 - cmdstanpy - INFO - Chain [1] start processing\n",
      "16:57:29 - cmdstanpy - INFO - Chain [1] done processing\n",
      "16:57:29 - cmdstanpy - INFO - Chain [1] start processing\n",
      "16:57:30 - cmdstanpy - INFO - Chain [1] done processing\n",
      "Seasonality has period of 365.25 days which is larger than initial window. Consider increasing initial.\n"
     ]
    },
    {
     "data": {
      "application/vnd.jupyter.widget-view+json": {
       "model_id": "deb4656dfb7f4fadb0c52da092f3d6c7",
       "version_major": 2,
       "version_minor": 0
      },
      "text/plain": [
       "  0%|          | 0/3 [00:00<?, ?it/s]"
      ]
     },
     "metadata": {},
     "output_type": "display_data"
    },
    {
     "name": "stderr",
     "output_type": "stream",
     "text": [
      "16:57:30 - cmdstanpy - INFO - Chain [1] start processing\n",
      "16:57:30 - cmdstanpy - INFO - Chain [1] done processing\n",
      "16:57:30 - cmdstanpy - INFO - Chain [1] start processing\n",
      "16:57:31 - cmdstanpy - INFO - Chain [1] done processing\n",
      "16:57:32 - cmdstanpy - INFO - Chain [1] start processing\n",
      "16:57:33 - cmdstanpy - INFO - Chain [1] done processing\n",
      "16:57:33 - cmdstanpy - INFO - Chain [1] start processing\n",
      "16:57:34 - cmdstanpy - INFO - Chain [1] done processing\n",
      "Seasonality has period of 365.25 days which is larger than initial window. Consider increasing initial.\n"
     ]
    },
    {
     "data": {
      "application/vnd.jupyter.widget-view+json": {
       "model_id": "005d3545898f4fac8e4f71a0b57e635d",
       "version_major": 2,
       "version_minor": 0
      },
      "text/plain": [
       "  0%|          | 0/3 [00:00<?, ?it/s]"
      ]
     },
     "metadata": {},
     "output_type": "display_data"
    },
    {
     "name": "stderr",
     "output_type": "stream",
     "text": [
      "16:57:34 - cmdstanpy - INFO - Chain [1] start processing\n",
      "16:57:34 - cmdstanpy - INFO - Chain [1] done processing\n",
      "16:57:34 - cmdstanpy - INFO - Chain [1] start processing\n",
      "16:57:35 - cmdstanpy - INFO - Chain [1] done processing\n",
      "16:57:35 - cmdstanpy - INFO - Chain [1] start processing\n",
      "16:57:35 - cmdstanpy - INFO - Chain [1] done processing\n",
      "16:57:36 - cmdstanpy - INFO - Chain [1] start processing\n",
      "16:57:36 - cmdstanpy - INFO - Chain [1] done processing\n",
      "Seasonality has period of 365.25 days which is larger than initial window. Consider increasing initial.\n"
     ]
    },
    {
     "data": {
      "application/vnd.jupyter.widget-view+json": {
       "model_id": "83a64227a0ed490d8f61a1cf22567996",
       "version_major": 2,
       "version_minor": 0
      },
      "text/plain": [
       "  0%|          | 0/3 [00:00<?, ?it/s]"
      ]
     },
     "metadata": {},
     "output_type": "display_data"
    },
    {
     "name": "stderr",
     "output_type": "stream",
     "text": [
      "16:57:36 - cmdstanpy - INFO - Chain [1] start processing\n",
      "16:57:36 - cmdstanpy - INFO - Chain [1] done processing\n",
      "16:57:37 - cmdstanpy - INFO - Chain [1] start processing\n",
      "16:57:37 - cmdstanpy - INFO - Chain [1] done processing\n",
      "16:57:37 - cmdstanpy - INFO - Chain [1] start processing\n",
      "16:57:38 - cmdstanpy - INFO - Chain [1] done processing\n",
      "16:57:38 - cmdstanpy - INFO - Chain [1] start processing\n",
      "16:57:39 - cmdstanpy - INFO - Chain [1] done processing\n",
      "Seasonality has period of 365.25 days which is larger than initial window. Consider increasing initial.\n"
     ]
    },
    {
     "data": {
      "application/vnd.jupyter.widget-view+json": {
       "model_id": "6e3e5d39e1bc499ba69ae7716a356be2",
       "version_major": 2,
       "version_minor": 0
      },
      "text/plain": [
       "  0%|          | 0/3 [00:00<?, ?it/s]"
      ]
     },
     "metadata": {},
     "output_type": "display_data"
    },
    {
     "name": "stderr",
     "output_type": "stream",
     "text": [
      "16:57:39 - cmdstanpy - INFO - Chain [1] start processing\n",
      "16:57:39 - cmdstanpy - INFO - Chain [1] done processing\n",
      "16:57:39 - cmdstanpy - INFO - Chain [1] start processing\n",
      "16:57:40 - cmdstanpy - INFO - Chain [1] done processing\n",
      "16:57:40 - cmdstanpy - INFO - Chain [1] start processing\n",
      "16:57:40 - cmdstanpy - INFO - Chain [1] done processing\n",
      "16:57:41 - cmdstanpy - INFO - Chain [1] start processing\n",
      "16:57:41 - cmdstanpy - INFO - Chain [1] done processing\n",
      "Seasonality has period of 365.25 days which is larger than initial window. Consider increasing initial.\n"
     ]
    },
    {
     "data": {
      "application/vnd.jupyter.widget-view+json": {
       "model_id": "0584fe28cd4b4d0ba45d651aa01bdc2d",
       "version_major": 2,
       "version_minor": 0
      },
      "text/plain": [
       "  0%|          | 0/3 [00:00<?, ?it/s]"
      ]
     },
     "metadata": {},
     "output_type": "display_data"
    },
    {
     "name": "stderr",
     "output_type": "stream",
     "text": [
      "16:57:41 - cmdstanpy - INFO - Chain [1] start processing\n",
      "16:57:41 - cmdstanpy - INFO - Chain [1] done processing\n",
      "16:57:42 - cmdstanpy - INFO - Chain [1] start processing\n",
      "16:57:42 - cmdstanpy - INFO - Chain [1] done processing\n",
      "16:57:42 - cmdstanpy - INFO - Chain [1] start processing\n",
      "16:57:43 - cmdstanpy - INFO - Chain [1] done processing\n",
      "16:57:43 - cmdstanpy - INFO - Chain [1] start processing\n",
      "16:57:44 - cmdstanpy - INFO - Chain [1] done processing\n",
      "Seasonality has period of 365.25 days which is larger than initial window. Consider increasing initial.\n"
     ]
    },
    {
     "data": {
      "application/vnd.jupyter.widget-view+json": {
       "model_id": "ed624ec0a1b34819a0016e21a908dd97",
       "version_major": 2,
       "version_minor": 0
      },
      "text/plain": [
       "  0%|          | 0/3 [00:00<?, ?it/s]"
      ]
     },
     "metadata": {},
     "output_type": "display_data"
    },
    {
     "name": "stderr",
     "output_type": "stream",
     "text": [
      "16:57:44 - cmdstanpy - INFO - Chain [1] start processing\n",
      "16:57:44 - cmdstanpy - INFO - Chain [1] done processing\n",
      "16:57:44 - cmdstanpy - INFO - Chain [1] start processing\n",
      "16:57:44 - cmdstanpy - INFO - Chain [1] done processing\n",
      "16:57:45 - cmdstanpy - INFO - Chain [1] start processing\n",
      "16:57:45 - cmdstanpy - INFO - Chain [1] done processing\n",
      "16:57:45 - cmdstanpy - INFO - Chain [1] start processing\n",
      "16:57:46 - cmdstanpy - INFO - Chain [1] done processing\n",
      "Seasonality has period of 365.25 days which is larger than initial window. Consider increasing initial.\n"
     ]
    },
    {
     "data": {
      "application/vnd.jupyter.widget-view+json": {
       "model_id": "76032d0d9421415b8774816cd0eacda9",
       "version_major": 2,
       "version_minor": 0
      },
      "text/plain": [
       "  0%|          | 0/3 [00:00<?, ?it/s]"
      ]
     },
     "metadata": {},
     "output_type": "display_data"
    },
    {
     "name": "stderr",
     "output_type": "stream",
     "text": [
      "16:57:46 - cmdstanpy - INFO - Chain [1] start processing\n",
      "16:57:46 - cmdstanpy - INFO - Chain [1] done processing\n",
      "16:57:47 - cmdstanpy - INFO - Chain [1] start processing\n",
      "16:57:47 - cmdstanpy - INFO - Chain [1] done processing\n",
      "16:57:47 - cmdstanpy - INFO - Chain [1] start processing\n",
      "16:57:48 - cmdstanpy - INFO - Chain [1] done processing\n",
      "16:57:48 - cmdstanpy - INFO - Chain [1] start processing\n",
      "16:57:48 - cmdstanpy - INFO - Chain [1] done processing\n",
      "Seasonality has period of 365.25 days which is larger than initial window. Consider increasing initial.\n"
     ]
    },
    {
     "data": {
      "application/vnd.jupyter.widget-view+json": {
       "model_id": "ffc268bb452b45808318638e70c3ad3c",
       "version_major": 2,
       "version_minor": 0
      },
      "text/plain": [
       "  0%|          | 0/3 [00:00<?, ?it/s]"
      ]
     },
     "metadata": {},
     "output_type": "display_data"
    },
    {
     "name": "stderr",
     "output_type": "stream",
     "text": [
      "16:57:49 - cmdstanpy - INFO - Chain [1] start processing\n",
      "16:57:49 - cmdstanpy - INFO - Chain [1] done processing\n",
      "16:57:49 - cmdstanpy - INFO - Chain [1] start processing\n",
      "16:57:49 - cmdstanpy - INFO - Chain [1] done processing\n",
      "16:57:50 - cmdstanpy - INFO - Chain [1] start processing\n",
      "16:57:50 - cmdstanpy - INFO - Chain [1] done processing\n",
      "16:57:50 - cmdstanpy - INFO - Chain [1] start processing\n",
      "16:57:51 - cmdstanpy - INFO - Chain [1] done processing\n",
      "Seasonality has period of 365.25 days which is larger than initial window. Consider increasing initial.\n"
     ]
    },
    {
     "data": {
      "application/vnd.jupyter.widget-view+json": {
       "model_id": "6831403ccf2c46019cb937f7800da69c",
       "version_major": 2,
       "version_minor": 0
      },
      "text/plain": [
       "  0%|          | 0/3 [00:00<?, ?it/s]"
      ]
     },
     "metadata": {},
     "output_type": "display_data"
    },
    {
     "name": "stderr",
     "output_type": "stream",
     "text": [
      "16:57:51 - cmdstanpy - INFO - Chain [1] start processing\n",
      "16:57:51 - cmdstanpy - INFO - Chain [1] done processing\n",
      "16:57:51 - cmdstanpy - INFO - Chain [1] start processing\n",
      "16:57:52 - cmdstanpy - INFO - Chain [1] done processing\n",
      "16:57:52 - cmdstanpy - INFO - Chain [1] start processing\n",
      "16:57:52 - cmdstanpy - INFO - Chain [1] done processing\n",
      "16:57:53 - cmdstanpy - INFO - Chain [1] start processing\n",
      "16:57:53 - cmdstanpy - INFO - Chain [1] done processing\n",
      "Seasonality has period of 365.25 days which is larger than initial window. Consider increasing initial.\n"
     ]
    },
    {
     "data": {
      "application/vnd.jupyter.widget-view+json": {
       "model_id": "515a50fdd5584372a3452437a5e261b4",
       "version_major": 2,
       "version_minor": 0
      },
      "text/plain": [
       "  0%|          | 0/3 [00:00<?, ?it/s]"
      ]
     },
     "metadata": {},
     "output_type": "display_data"
    },
    {
     "name": "stderr",
     "output_type": "stream",
     "text": [
      "16:57:54 - cmdstanpy - INFO - Chain [1] start processing\n",
      "16:57:54 - cmdstanpy - INFO - Chain [1] done processing\n",
      "16:57:54 - cmdstanpy - INFO - Chain [1] start processing\n",
      "16:57:54 - cmdstanpy - INFO - Chain [1] done processing\n",
      "16:57:55 - cmdstanpy - INFO - Chain [1] start processing\n",
      "16:57:55 - cmdstanpy - INFO - Chain [1] done processing\n",
      "16:57:55 - cmdstanpy - INFO - Chain [1] start processing\n",
      "16:57:56 - cmdstanpy - INFO - Chain [1] done processing\n",
      "Seasonality has period of 365.25 days which is larger than initial window. Consider increasing initial.\n"
     ]
    },
    {
     "data": {
      "application/vnd.jupyter.widget-view+json": {
       "model_id": "88468975a4ee43a8bc03a42150775284",
       "version_major": 2,
       "version_minor": 0
      },
      "text/plain": [
       "  0%|          | 0/3 [00:00<?, ?it/s]"
      ]
     },
     "metadata": {},
     "output_type": "display_data"
    },
    {
     "name": "stderr",
     "output_type": "stream",
     "text": [
      "16:57:56 - cmdstanpy - INFO - Chain [1] start processing\n",
      "16:57:56 - cmdstanpy - INFO - Chain [1] done processing\n",
      "16:57:56 - cmdstanpy - INFO - Chain [1] start processing\n",
      "16:57:57 - cmdstanpy - INFO - Chain [1] done processing\n",
      "16:57:57 - cmdstanpy - INFO - Chain [1] start processing\n",
      "16:57:57 - cmdstanpy - INFO - Chain [1] done processing\n",
      "16:57:58 - cmdstanpy - INFO - Chain [1] start processing\n",
      "16:57:58 - cmdstanpy - INFO - Chain [1] done processing\n",
      "Seasonality has period of 365.25 days which is larger than initial window. Consider increasing initial.\n"
     ]
    },
    {
     "data": {
      "application/vnd.jupyter.widget-view+json": {
       "model_id": "43543002c377497ea08bd5bfa104bcfc",
       "version_major": 2,
       "version_minor": 0
      },
      "text/plain": [
       "  0%|          | 0/3 [00:00<?, ?it/s]"
      ]
     },
     "metadata": {},
     "output_type": "display_data"
    },
    {
     "name": "stderr",
     "output_type": "stream",
     "text": [
      "16:57:58 - cmdstanpy - INFO - Chain [1] start processing\n",
      "16:57:58 - cmdstanpy - INFO - Chain [1] done processing\n",
      "16:57:59 - cmdstanpy - INFO - Chain [1] start processing\n",
      "16:57:59 - cmdstanpy - INFO - Chain [1] done processing\n",
      "16:57:59 - cmdstanpy - INFO - Chain [1] start processing\n",
      "16:58:00 - cmdstanpy - INFO - Chain [1] done processing\n",
      "16:58:00 - cmdstanpy - INFO - Chain [1] start processing\n",
      "16:58:01 - cmdstanpy - INFO - Chain [1] done processing\n",
      "Seasonality has period of 365.25 days which is larger than initial window. Consider increasing initial.\n"
     ]
    },
    {
     "data": {
      "application/vnd.jupyter.widget-view+json": {
       "model_id": "0db2b9e8a92c48eaa329f241761e4ce5",
       "version_major": 2,
       "version_minor": 0
      },
      "text/plain": [
       "  0%|          | 0/3 [00:00<?, ?it/s]"
      ]
     },
     "metadata": {},
     "output_type": "display_data"
    },
    {
     "name": "stderr",
     "output_type": "stream",
     "text": [
      "16:58:01 - cmdstanpy - INFO - Chain [1] start processing\n",
      "16:58:01 - cmdstanpy - INFO - Chain [1] done processing\n",
      "16:58:01 - cmdstanpy - INFO - Chain [1] start processing\n",
      "16:58:02 - cmdstanpy - INFO - Chain [1] done processing\n",
      "16:58:02 - cmdstanpy - INFO - Chain [1] start processing\n",
      "16:58:02 - cmdstanpy - INFO - Chain [1] done processing\n"
     ]
    }
   ],
   "source": [
    "# Define the hyperparameter grid\n",
    "param_grid = {\n",
    "    'changepoint_prior_scale': [0.6, 0.7, 0.8, 0.9],\n",
    "    'seasonality_prior_scale': [0.009, 0.01, 0.02, 0.03],\n",
    "    'holidays_prior_scale': [0.001, 0.002, 0.003],\n",
    "    'seasonality_mode': ['additive']\n",
    "}\n",
    "\n",
    "# Create a list of all combinations of hyperparameters\n",
    "all_params = list(ParameterGrid(param_grid))\n",
    "\n",
    "list_of_result_dicts = []\n",
    "list_of_scores = []\n",
    "# Perform grid search\n",
    "for params in all_params:\n",
    "\n",
    "    m = Prophet(daily_seasonality=True,\n",
    "                weekly_seasonality=True,\n",
    "                yearly_seasonality=True,\n",
    "        changepoint_prior_scale=params['changepoint_prior_scale'],\n",
    "        seasonality_prior_scale=params['seasonality_prior_scale'],\n",
    "        holidays_prior_scale=params['holidays_prior_scale'],\n",
    "        seasonality_mode=params['seasonality_mode']\n",
    "    )\n",
    "    m.fit(Prague_1_full_date_range)\n",
    "\n",
    "    # Define the initial, period, and horizon for cross-validation\n",
    "    initial = '365 days'\n",
    "    period = '180 days'\n",
    "    horizon = '365 days'\n",
    "\n",
    "    # Compute MAPE using cross-validation\n",
    "    mape = cross_validation_mape(m, Prague_1_full_date_range, initial, period, horizon)\n",
    "\n",
    "    # Store the results\n",
    "    list_of_result_dicts.append(params)\n",
    "    list_of_scores.append(mape)\n",
    "\n",
    "results = pd.DataFrame({\"params\": list_of_result_dicts,\n",
    "                        \"MAPE\": list_of_scores})\n",
    "\n",
    "# Find the best hyperparameters\n",
    "best_params = results.loc[results['MAPE'].idxmin()]\n",
    "# print(f\"Best parameters: {best_params}\")"
   ]
  },
  {
   "cell_type": "code",
   "execution_count": 52,
   "metadata": {},
   "outputs": [
    {
     "name": "stdout",
     "output_type": "stream",
     "text": [
      "params    {'changepoint_prior_scale': 0.6, 'holidays_pri...\n",
      "MAPE                                               0.050928\n",
      "Name: 2, dtype: object\n",
      "{'changepoint_prior_scale': 0.6, 'holidays_prior_scale': 0.001, 'seasonality_mode': 'additive', 'seasonality_prior_scale': 0.02}\n"
     ]
    }
   ],
   "source": [
    "print(best_params)\n",
    "print(best_params[\"params\"])"
   ]
  },
  {
   "cell_type": "code",
   "execution_count": null,
   "metadata": {},
   "outputs": [],
   "source": [
    "optimal_params = {'changepoint_prior_scale': 0.8,\n",
    "                  'holidays_prior_scale': 0.001,\n",
    "                  'seasonality_mode': 'additive',\n",
    "                  'seasonality_prior_scale': 0.02}"
   ]
  }
 ],
 "metadata": {
  "kernelspec": {
   "display_name": "lewagon",
   "language": "python",
   "name": "python3"
  },
  "language_info": {
   "codemirror_mode": {
    "name": "ipython",
    "version": 3
   },
   "file_extension": ".py",
   "mimetype": "text/x-python",
   "name": "python",
   "nbconvert_exporter": "python",
   "pygments_lexer": "ipython3",
   "version": "3.10.6"
  }
 },
 "nbformat": 4,
 "nbformat_minor": 2
}
