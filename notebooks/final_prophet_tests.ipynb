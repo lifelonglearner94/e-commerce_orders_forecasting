{
 "cells": [
  {
   "cell_type": "code",
   "execution_count": 41,
   "metadata": {},
   "outputs": [],
   "source": [
    "import pandas as pd\n",
    "import numpy as np\n",
    "import os\n",
    "import matplotlib.pyplot as plt\n",
    "\n",
    "from prophet import Prophet\n"
   ]
  },
  {
   "cell_type": "code",
   "execution_count": 42,
   "metadata": {},
   "outputs": [
    {
     "name": "stderr",
     "output_type": "stream",
     "text": [
      "/tmp/ipykernel_9852/3729658863.py:7: SettingWithCopyWarning: \n",
      "A value is trying to be set on a copy of a slice from a DataFrame\n",
      "\n",
      "See the caveats in the documentation: https://pandas.pydata.org/pandas-docs/stable/user_guide/indexing.html#returning-a-view-versus-a-copy\n",
      "  df_subset.rename(columns={\"date\": \"ds\",\n"
     ]
    }
   ],
   "source": [
    "data_folder = \"data\"\n",
    "filename = \"train.csv\"\n",
    "df = pd.read_csv(os.path.join(\"..\", data_folder, filename))\n",
    "\n",
    "df_subset = df[[\"warehouse\", \"orders\", \"date\"]]\n",
    "\n",
    "df_subset.rename(columns={\"date\": \"ds\",\n",
    "                              \"orders\": \"y\"}, inplace=True)"
   ]
  },
  {
   "cell_type": "code",
   "execution_count": 43,
   "metadata": {},
   "outputs": [],
   "source": [
    "warehouses = df_subset[\"warehouse\"].unique().tolist()"
   ]
  },
  {
   "cell_type": "code",
   "execution_count": 44,
   "metadata": {},
   "outputs": [],
   "source": [
    "filename1 = \"test.csv\"\n",
    "df_test = pd.read_csv(os.path.join(\"..\", data_folder, filename1))\n",
    "\n",
    "df_test_subset = df_test[[\"date\", \"warehouse\"]].rename(columns={\"date\": \"ds\"})"
   ]
  },
  {
   "cell_type": "code",
   "execution_count": 49,
   "metadata": {},
   "outputs": [],
   "source": [
    "def hyper_tuning(df, param_grid):\n",
    "    from sklearn.model_selection import ParameterGrid\n",
    "\n",
    "    # Create a list of all combinations of hyperparameters\n",
    "    all_params = list(ParameterGrid(param_grid))\n",
    "\n",
    "\n",
    "    # Cross-validation function to calculate MAPE\n",
    "    def cross_validation_mape(model, initial, period, horizon):\n",
    "        from prophet.diagnostics import cross_validation\n",
    "        from prophet.diagnostics import performance_metrics\n",
    "\n",
    "        df_cv = cross_validation(model, initial=initial, period=period, horizon=horizon)\n",
    "        df_p = performance_metrics(df_cv, metrics=['mape'])\n",
    "        return df_p['mape'].values[0]\n",
    "\n",
    "    list_of_result_dicts = []\n",
    "    list_of_scores = []\n",
    "    # Perform grid search\n",
    "    for params in all_params:\n",
    "\n",
    "        m = Prophet(\n",
    "            changepoint_prior_scale=params['changepoint_prior_scale'],\n",
    "            seasonality_prior_scale=params['seasonality_prior_scale'],\n",
    "            holidays_prior_scale=params['holidays_prior_scale'],\n",
    "            seasonality_mode=params['seasonality_mode']\n",
    "        )\n",
    "        m.fit(df)\n",
    "\n",
    "        # Define the initial, period, and horizon for cross-validation\n",
    "        initial = '365 days'\n",
    "        period = '180 days'\n",
    "        horizon = '365 days'\n",
    "\n",
    "        # Compute MAPE using cross-validation\n",
    "        mape = cross_validation_mape(m, initial, period, horizon)\n",
    "\n",
    "        # Store the results\n",
    "        list_of_result_dicts.append(params)\n",
    "        list_of_scores.append(mape)\n",
    "\n",
    "    results = pd.DataFrame({\"params\": list_of_result_dicts,\n",
    "                            \"MAPE\": list_of_scores})\n",
    "\n",
    "    # Find the best hyperparameters\n",
    "    best_params = results.loc[results['MAPE'].idxmin()]\n",
    "\n",
    "    return best_params\n"
   ]
  },
  {
   "cell_type": "code",
   "execution_count": 50,
   "metadata": {},
   "outputs": [
    {
     "name": "stdout",
     "output_type": "stream",
     "text": [
      "        y          ds\n",
      "0  6895.0  2020-12-05\n",
      "1  6584.0  2020-12-06\n",
      "2  7030.0  2020-12-07\n",
      "3  6550.0  2020-12-08\n",
      "4  6910.0  2020-12-09\n"
     ]
    },
    {
     "name": "stderr",
     "output_type": "stream",
     "text": [
      "19:37:15 - cmdstanpy - INFO - Chain [1] start processing\n",
      "19:37:15 - cmdstanpy - INFO - Chain [1] done processing\n",
      "Seasonality has period of 365.25 days which is larger than initial window. Consider increasing initial.\n"
     ]
    },
    {
     "data": {
      "application/vnd.jupyter.widget-view+json": {
       "model_id": "371d248a17a6497ea32f6267a3d476a2",
       "version_major": 2,
       "version_minor": 0
      },
      "text/plain": [
       "  0%|          | 0/3 [00:00<?, ?it/s]"
      ]
     },
     "metadata": {},
     "output_type": "display_data"
    },
    {
     "name": "stderr",
     "output_type": "stream",
     "text": [
      "19:37:15 - cmdstanpy - INFO - Chain [1] start processing\n",
      "19:37:15 - cmdstanpy - INFO - Chain [1] done processing\n",
      "19:37:15 - cmdstanpy - INFO - Chain [1] start processing\n",
      "19:37:15 - cmdstanpy - INFO - Chain [1] done processing\n",
      "19:37:16 - cmdstanpy - INFO - Chain [1] start processing\n",
      "19:37:16 - cmdstanpy - INFO - Chain [1] done processing\n",
      "19:37:16 - cmdstanpy - INFO - Chain [1] start processing\n",
      "19:37:16 - cmdstanpy - INFO - Chain [1] done processing\n",
      "Seasonality has period of 365.25 days which is larger than initial window. Consider increasing initial.\n"
     ]
    },
    {
     "data": {
      "application/vnd.jupyter.widget-view+json": {
       "model_id": "d1bed46b07ba4ba8aad8cec9011e3020",
       "version_major": 2,
       "version_minor": 0
      },
      "text/plain": [
       "  0%|          | 0/3 [00:00<?, ?it/s]"
      ]
     },
     "metadata": {},
     "output_type": "display_data"
    },
    {
     "name": "stderr",
     "output_type": "stream",
     "text": [
      "19:37:16 - cmdstanpy - INFO - Chain [1] start processing\n",
      "19:37:16 - cmdstanpy - INFO - Chain [1] done processing\n",
      "19:37:17 - cmdstanpy - INFO - Chain [1] start processing\n",
      "19:37:17 - cmdstanpy - INFO - Chain [1] done processing\n",
      "19:37:17 - cmdstanpy - INFO - Chain [1] start processing\n",
      "19:37:17 - cmdstanpy - INFO - Chain [1] done processing\n",
      "19:37:17 - cmdstanpy - INFO - Chain [1] start processing\n",
      "19:37:17 - cmdstanpy - INFO - Chain [1] done processing\n",
      "Seasonality has period of 365.25 days which is larger than initial window. Consider increasing initial.\n"
     ]
    },
    {
     "data": {
      "application/vnd.jupyter.widget-view+json": {
       "model_id": "c817557060f64242b6fa08ba75e54ece",
       "version_major": 2,
       "version_minor": 0
      },
      "text/plain": [
       "  0%|          | 0/3 [00:00<?, ?it/s]"
      ]
     },
     "metadata": {},
     "output_type": "display_data"
    },
    {
     "name": "stderr",
     "output_type": "stream",
     "text": [
      "19:37:18 - cmdstanpy - INFO - Chain [1] start processing\n",
      "19:37:18 - cmdstanpy - INFO - Chain [1] done processing\n",
      "19:37:18 - cmdstanpy - INFO - Chain [1] start processing\n",
      "19:37:18 - cmdstanpy - INFO - Chain [1] done processing\n",
      "19:37:18 - cmdstanpy - INFO - Chain [1] start processing\n",
      "19:37:18 - cmdstanpy - INFO - Chain [1] done processing\n",
      "19:37:19 - cmdstanpy - INFO - Chain [1] start processing\n",
      "19:37:19 - cmdstanpy - INFO - Chain [1] done processing\n",
      "Seasonality has period of 365.25 days which is larger than initial window. Consider increasing initial.\n"
     ]
    },
    {
     "data": {
      "application/vnd.jupyter.widget-view+json": {
       "model_id": "1b9800ac88fe406a8d74f43eb06d2f60",
       "version_major": 2,
       "version_minor": 0
      },
      "text/plain": [
       "  0%|          | 0/3 [00:00<?, ?it/s]"
      ]
     },
     "metadata": {},
     "output_type": "display_data"
    },
    {
     "name": "stderr",
     "output_type": "stream",
     "text": [
      "19:37:19 - cmdstanpy - INFO - Chain [1] start processing\n",
      "19:37:19 - cmdstanpy - INFO - Chain [1] done processing\n",
      "19:37:19 - cmdstanpy - INFO - Chain [1] start processing\n",
      "19:37:19 - cmdstanpy - INFO - Chain [1] done processing\n",
      "19:37:20 - cmdstanpy - INFO - Chain [1] start processing\n",
      "19:37:20 - cmdstanpy - INFO - Chain [1] done processing\n",
      "19:37:20 - cmdstanpy - INFO - Chain [1] start processing\n",
      "19:37:20 - cmdstanpy - INFO - Chain [1] done processing\n",
      "Seasonality has period of 365.25 days which is larger than initial window. Consider increasing initial.\n"
     ]
    },
    {
     "data": {
      "application/vnd.jupyter.widget-view+json": {
       "model_id": "108f21d5a002425db1cb99dedba295cc",
       "version_major": 2,
       "version_minor": 0
      },
      "text/plain": [
       "  0%|          | 0/3 [00:00<?, ?it/s]"
      ]
     },
     "metadata": {},
     "output_type": "display_data"
    },
    {
     "name": "stderr",
     "output_type": "stream",
     "text": [
      "19:37:21 - cmdstanpy - INFO - Chain [1] start processing\n",
      "19:37:21 - cmdstanpy - INFO - Chain [1] done processing\n",
      "19:37:21 - cmdstanpy - INFO - Chain [1] start processing\n",
      "19:37:21 - cmdstanpy - INFO - Chain [1] done processing\n",
      "19:37:21 - cmdstanpy - INFO - Chain [1] start processing\n",
      "19:37:21 - cmdstanpy - INFO - Chain [1] done processing\n",
      "19:37:22 - cmdstanpy - INFO - Chain [1] start processing\n",
      "19:37:22 - cmdstanpy - INFO - Chain [1] done processing\n",
      "Seasonality has period of 365.25 days which is larger than initial window. Consider increasing initial.\n"
     ]
    },
    {
     "data": {
      "application/vnd.jupyter.widget-view+json": {
       "model_id": "057653d643474e2ebb38f414673e49c0",
       "version_major": 2,
       "version_minor": 0
      },
      "text/plain": [
       "  0%|          | 0/3 [00:00<?, ?it/s]"
      ]
     },
     "metadata": {},
     "output_type": "display_data"
    },
    {
     "name": "stderr",
     "output_type": "stream",
     "text": [
      "19:37:22 - cmdstanpy - INFO - Chain [1] start processing\n",
      "19:37:22 - cmdstanpy - INFO - Chain [1] done processing\n",
      "19:37:22 - cmdstanpy - INFO - Chain [1] start processing\n",
      "19:37:22 - cmdstanpy - INFO - Chain [1] done processing\n",
      "19:37:23 - cmdstanpy - INFO - Chain [1] start processing\n",
      "19:37:23 - cmdstanpy - INFO - Chain [1] done processing\n",
      "19:37:23 - cmdstanpy - INFO - Chain [1] start processing\n",
      "19:37:23 - cmdstanpy - INFO - Chain [1] done processing\n",
      "Seasonality has period of 365.25 days which is larger than initial window. Consider increasing initial.\n"
     ]
    },
    {
     "data": {
      "application/vnd.jupyter.widget-view+json": {
       "model_id": "d0042fd494dc40d08a25fdb822c09025",
       "version_major": 2,
       "version_minor": 0
      },
      "text/plain": [
       "  0%|          | 0/3 [00:00<?, ?it/s]"
      ]
     },
     "metadata": {},
     "output_type": "display_data"
    },
    {
     "name": "stderr",
     "output_type": "stream",
     "text": [
      "19:37:23 - cmdstanpy - INFO - Chain [1] start processing\n",
      "19:37:23 - cmdstanpy - INFO - Chain [1] done processing\n",
      "19:37:24 - cmdstanpy - INFO - Chain [1] start processing\n",
      "19:37:24 - cmdstanpy - INFO - Chain [1] done processing\n",
      "19:37:24 - cmdstanpy - INFO - Chain [1] start processing\n",
      "19:37:24 - cmdstanpy - INFO - Chain [1] done processing\n",
      "19:37:24 - cmdstanpy - INFO - Chain [1] start processing\n",
      "19:37:24 - cmdstanpy - INFO - Chain [1] done processing\n",
      "Seasonality has period of 365.25 days which is larger than initial window. Consider increasing initial.\n"
     ]
    },
    {
     "data": {
      "application/vnd.jupyter.widget-view+json": {
       "model_id": "d710aaba4852485eafafeb7ebcaec856",
       "version_major": 2,
       "version_minor": 0
      },
      "text/plain": [
       "  0%|          | 0/3 [00:00<?, ?it/s]"
      ]
     },
     "metadata": {},
     "output_type": "display_data"
    },
    {
     "name": "stderr",
     "output_type": "stream",
     "text": [
      "19:37:25 - cmdstanpy - INFO - Chain [1] start processing\n",
      "19:37:25 - cmdstanpy - INFO - Chain [1] done processing\n",
      "19:37:25 - cmdstanpy - INFO - Chain [1] start processing\n",
      "19:37:25 - cmdstanpy - INFO - Chain [1] done processing\n",
      "19:37:25 - cmdstanpy - INFO - Chain [1] start processing\n",
      "19:37:25 - cmdstanpy - INFO - Chain [1] done processing\n",
      "19:37:26 - cmdstanpy - INFO - Chain [1] start processing\n",
      "19:37:26 - cmdstanpy - INFO - Chain [1] done processing\n",
      "Seasonality has period of 365.25 days which is larger than initial window. Consider increasing initial.\n"
     ]
    },
    {
     "data": {
      "application/vnd.jupyter.widget-view+json": {
       "model_id": "036fd0ea31174dba8937ac47b0c2bdd4",
       "version_major": 2,
       "version_minor": 0
      },
      "text/plain": [
       "  0%|          | 0/3 [00:00<?, ?it/s]"
      ]
     },
     "metadata": {},
     "output_type": "display_data"
    },
    {
     "name": "stderr",
     "output_type": "stream",
     "text": [
      "19:37:26 - cmdstanpy - INFO - Chain [1] start processing\n",
      "19:37:26 - cmdstanpy - INFO - Chain [1] done processing\n",
      "19:37:26 - cmdstanpy - INFO - Chain [1] start processing\n",
      "19:37:26 - cmdstanpy - INFO - Chain [1] done processing\n",
      "19:37:27 - cmdstanpy - INFO - Chain [1] start processing\n",
      "19:37:27 - cmdstanpy - INFO - Chain [1] done processing\n",
      "19:37:27 - cmdstanpy - INFO - Chain [1] start processing\n",
      "19:37:27 - cmdstanpy - INFO - Chain [1] done processing\n",
      "Seasonality has period of 365.25 days which is larger than initial window. Consider increasing initial.\n"
     ]
    },
    {
     "data": {
      "application/vnd.jupyter.widget-view+json": {
       "model_id": "0452b9c771184ef6b2c4697b6d453ad8",
       "version_major": 2,
       "version_minor": 0
      },
      "text/plain": [
       "  0%|          | 0/3 [00:00<?, ?it/s]"
      ]
     },
     "metadata": {},
     "output_type": "display_data"
    },
    {
     "name": "stderr",
     "output_type": "stream",
     "text": [
      "19:37:27 - cmdstanpy - INFO - Chain [1] start processing\n",
      "19:37:27 - cmdstanpy - INFO - Chain [1] done processing\n",
      "19:37:27 - cmdstanpy - INFO - Chain [1] start processing\n",
      "19:37:27 - cmdstanpy - INFO - Chain [1] done processing\n",
      "19:37:28 - cmdstanpy - INFO - Chain [1] start processing\n",
      "19:37:28 - cmdstanpy - INFO - Chain [1] done processing\n",
      "19:37:28 - cmdstanpy - INFO - Chain [1] start processing\n",
      "19:37:28 - cmdstanpy - INFO - Chain [1] done processing\n",
      "Seasonality has period of 365.25 days which is larger than initial window. Consider increasing initial.\n"
     ]
    },
    {
     "data": {
      "application/vnd.jupyter.widget-view+json": {
       "model_id": "82a42158719840e1903f5da190b1575a",
       "version_major": 2,
       "version_minor": 0
      },
      "text/plain": [
       "  0%|          | 0/3 [00:00<?, ?it/s]"
      ]
     },
     "metadata": {},
     "output_type": "display_data"
    },
    {
     "name": "stderr",
     "output_type": "stream",
     "text": [
      "19:37:29 - cmdstanpy - INFO - Chain [1] start processing\n",
      "19:37:29 - cmdstanpy - INFO - Chain [1] done processing\n",
      "19:37:29 - cmdstanpy - INFO - Chain [1] start processing\n",
      "19:37:29 - cmdstanpy - INFO - Chain [1] done processing\n",
      "19:37:29 - cmdstanpy - INFO - Chain [1] start processing\n",
      "19:37:29 - cmdstanpy - INFO - Chain [1] done processing\n",
      "19:37:30 - cmdstanpy - INFO - Chain [1] start processing\n",
      "19:37:30 - cmdstanpy - INFO - Chain [1] done processing\n",
      "Seasonality has period of 365.25 days which is larger than initial window. Consider increasing initial.\n"
     ]
    },
    {
     "data": {
      "application/vnd.jupyter.widget-view+json": {
       "model_id": "621baf7795774e9b92b6bc098db3e1bd",
       "version_major": 2,
       "version_minor": 0
      },
      "text/plain": [
       "  0%|          | 0/3 [00:00<?, ?it/s]"
      ]
     },
     "metadata": {},
     "output_type": "display_data"
    },
    {
     "name": "stderr",
     "output_type": "stream",
     "text": [
      "19:37:30 - cmdstanpy - INFO - Chain [1] start processing\n",
      "19:37:30 - cmdstanpy - INFO - Chain [1] done processing\n",
      "19:37:30 - cmdstanpy - INFO - Chain [1] start processing\n",
      "19:37:30 - cmdstanpy - INFO - Chain [1] done processing\n",
      "19:37:31 - cmdstanpy - INFO - Chain [1] start processing\n",
      "19:37:31 - cmdstanpy - INFO - Chain [1] done processing\n",
      "19:37:31 - cmdstanpy - INFO - Chain [1] start processing\n",
      "19:37:31 - cmdstanpy - INFO - Chain [1] done processing\n",
      "Seasonality has period of 365.25 days which is larger than initial window. Consider increasing initial.\n"
     ]
    },
    {
     "data": {
      "application/vnd.jupyter.widget-view+json": {
       "model_id": "65f2fee898834d52ae1bc4716aa04efd",
       "version_major": 2,
       "version_minor": 0
      },
      "text/plain": [
       "  0%|          | 0/3 [00:00<?, ?it/s]"
      ]
     },
     "metadata": {},
     "output_type": "display_data"
    },
    {
     "name": "stderr",
     "output_type": "stream",
     "text": [
      "19:37:31 - cmdstanpy - INFO - Chain [1] start processing\n",
      "19:37:31 - cmdstanpy - INFO - Chain [1] done processing\n",
      "19:37:32 - cmdstanpy - INFO - Chain [1] start processing\n",
      "19:37:32 - cmdstanpy - INFO - Chain [1] done processing\n",
      "19:37:32 - cmdstanpy - INFO - Chain [1] start processing\n",
      "19:37:32 - cmdstanpy - INFO - Chain [1] done processing\n",
      "19:37:32 - cmdstanpy - INFO - Chain [1] start processing\n",
      "19:37:32 - cmdstanpy - INFO - Chain [1] done processing\n",
      "Seasonality has period of 365.25 days which is larger than initial window. Consider increasing initial.\n"
     ]
    },
    {
     "data": {
      "application/vnd.jupyter.widget-view+json": {
       "model_id": "7789dabe25144caaace6025c6c84de46",
       "version_major": 2,
       "version_minor": 0
      },
      "text/plain": [
       "  0%|          | 0/3 [00:00<?, ?it/s]"
      ]
     },
     "metadata": {},
     "output_type": "display_data"
    },
    {
     "name": "stderr",
     "output_type": "stream",
     "text": [
      "19:37:33 - cmdstanpy - INFO - Chain [1] start processing\n",
      "19:37:33 - cmdstanpy - INFO - Chain [1] done processing\n",
      "19:37:33 - cmdstanpy - INFO - Chain [1] start processing\n",
      "19:37:33 - cmdstanpy - INFO - Chain [1] done processing\n",
      "19:37:33 - cmdstanpy - INFO - Chain [1] start processing\n",
      "19:37:33 - cmdstanpy - INFO - Chain [1] done processing\n",
      "19:37:34 - cmdstanpy - INFO - Chain [1] start processing\n",
      "19:37:34 - cmdstanpy - INFO - Chain [1] done processing\n",
      "Seasonality has period of 365.25 days which is larger than initial window. Consider increasing initial.\n"
     ]
    },
    {
     "data": {
      "application/vnd.jupyter.widget-view+json": {
       "model_id": "d7b73e2006494c5a888633e53a71d369",
       "version_major": 2,
       "version_minor": 0
      },
      "text/plain": [
       "  0%|          | 0/3 [00:00<?, ?it/s]"
      ]
     },
     "metadata": {},
     "output_type": "display_data"
    },
    {
     "name": "stderr",
     "output_type": "stream",
     "text": [
      "19:37:34 - cmdstanpy - INFO - Chain [1] start processing\n",
      "19:37:34 - cmdstanpy - INFO - Chain [1] done processing\n",
      "19:37:34 - cmdstanpy - INFO - Chain [1] start processing\n",
      "19:37:35 - cmdstanpy - INFO - Chain [1] done processing\n",
      "19:37:35 - cmdstanpy - INFO - Chain [1] start processing\n",
      "19:37:35 - cmdstanpy - INFO - Chain [1] done processing\n",
      "19:37:35 - cmdstanpy - INFO - Chain [1] start processing\n",
      "19:37:35 - cmdstanpy - INFO - Chain [1] done processing\n",
      "Seasonality has period of 365.25 days which is larger than initial window. Consider increasing initial.\n"
     ]
    },
    {
     "data": {
      "application/vnd.jupyter.widget-view+json": {
       "model_id": "5c50e9933d24480b846b3546446f4e4e",
       "version_major": 2,
       "version_minor": 0
      },
      "text/plain": [
       "  0%|          | 0/3 [00:00<?, ?it/s]"
      ]
     },
     "metadata": {},
     "output_type": "display_data"
    },
    {
     "name": "stderr",
     "output_type": "stream",
     "text": [
      "19:37:36 - cmdstanpy - INFO - Chain [1] start processing\n",
      "19:37:36 - cmdstanpy - INFO - Chain [1] done processing\n",
      "19:37:36 - cmdstanpy - INFO - Chain [1] start processing\n",
      "19:37:36 - cmdstanpy - INFO - Chain [1] done processing\n",
      "19:37:36 - cmdstanpy - INFO - Chain [1] start processing\n",
      "19:37:36 - cmdstanpy - INFO - Chain [1] done processing\n",
      "19:37:37 - cmdstanpy - INFO - Chain [1] start processing\n",
      "19:37:37 - cmdstanpy - INFO - Chain [1] done processing\n",
      "Seasonality has period of 365.25 days which is larger than initial window. Consider increasing initial.\n"
     ]
    },
    {
     "data": {
      "application/vnd.jupyter.widget-view+json": {
       "model_id": "4ebcd0743c534ebb8917c1d9f3aabbce",
       "version_major": 2,
       "version_minor": 0
      },
      "text/plain": [
       "  0%|          | 0/3 [00:00<?, ?it/s]"
      ]
     },
     "metadata": {},
     "output_type": "display_data"
    },
    {
     "name": "stderr",
     "output_type": "stream",
     "text": [
      "19:37:37 - cmdstanpy - INFO - Chain [1] start processing\n",
      "19:37:37 - cmdstanpy - INFO - Chain [1] done processing\n",
      "19:37:37 - cmdstanpy - INFO - Chain [1] start processing\n",
      "19:37:37 - cmdstanpy - INFO - Chain [1] done processing\n",
      "19:37:38 - cmdstanpy - INFO - Chain [1] start processing\n",
      "19:37:38 - cmdstanpy - INFO - Chain [1] done processing\n",
      "19:37:38 - cmdstanpy - INFO - Chain [1] start processing\n",
      "19:37:38 - cmdstanpy - INFO - Chain [1] done processing\n",
      "Seasonality has period of 365.25 days which is larger than initial window. Consider increasing initial.\n"
     ]
    },
    {
     "data": {
      "application/vnd.jupyter.widget-view+json": {
       "model_id": "21a9aee86e9b415898876644effe3ea6",
       "version_major": 2,
       "version_minor": 0
      },
      "text/plain": [
       "  0%|          | 0/3 [00:00<?, ?it/s]"
      ]
     },
     "metadata": {},
     "output_type": "display_data"
    },
    {
     "name": "stderr",
     "output_type": "stream",
     "text": [
      "19:37:38 - cmdstanpy - INFO - Chain [1] start processing\n",
      "19:37:38 - cmdstanpy - INFO - Chain [1] done processing\n",
      "19:37:39 - cmdstanpy - INFO - Chain [1] start processing\n",
      "19:37:39 - cmdstanpy - INFO - Chain [1] done processing\n",
      "19:37:39 - cmdstanpy - INFO - Chain [1] start processing\n",
      "19:37:39 - cmdstanpy - INFO - Chain [1] done processing\n",
      "19:37:39 - cmdstanpy - INFO - Chain [1] start processing\n",
      "19:37:39 - cmdstanpy - INFO - Chain [1] done processing\n",
      "Seasonality has period of 365.25 days which is larger than initial window. Consider increasing initial.\n"
     ]
    },
    {
     "data": {
      "application/vnd.jupyter.widget-view+json": {
       "model_id": "22d910ecd6cb4ce79f8487f084177c11",
       "version_major": 2,
       "version_minor": 0
      },
      "text/plain": [
       "  0%|          | 0/3 [00:00<?, ?it/s]"
      ]
     },
     "metadata": {},
     "output_type": "display_data"
    },
    {
     "name": "stderr",
     "output_type": "stream",
     "text": [
      "19:37:40 - cmdstanpy - INFO - Chain [1] start processing\n",
      "19:37:40 - cmdstanpy - INFO - Chain [1] done processing\n",
      "19:37:40 - cmdstanpy - INFO - Chain [1] start processing\n",
      "19:37:40 - cmdstanpy - INFO - Chain [1] done processing\n",
      "19:37:40 - cmdstanpy - INFO - Chain [1] start processing\n",
      "19:37:40 - cmdstanpy - INFO - Chain [1] done processing\n",
      "19:37:41 - cmdstanpy - INFO - Chain [1] start processing\n",
      "19:37:41 - cmdstanpy - INFO - Chain [1] done processing\n",
      "Seasonality has period of 365.25 days which is larger than initial window. Consider increasing initial.\n"
     ]
    },
    {
     "data": {
      "application/vnd.jupyter.widget-view+json": {
       "model_id": "6097c3b5ed184623878fadc86df9df81",
       "version_major": 2,
       "version_minor": 0
      },
      "text/plain": [
       "  0%|          | 0/3 [00:00<?, ?it/s]"
      ]
     },
     "metadata": {},
     "output_type": "display_data"
    },
    {
     "name": "stderr",
     "output_type": "stream",
     "text": [
      "19:37:41 - cmdstanpy - INFO - Chain [1] start processing\n",
      "19:37:41 - cmdstanpy - INFO - Chain [1] done processing\n",
      "19:37:41 - cmdstanpy - INFO - Chain [1] start processing\n",
      "19:37:42 - cmdstanpy - INFO - Chain [1] done processing\n",
      "19:37:42 - cmdstanpy - INFO - Chain [1] start processing\n",
      "19:37:42 - cmdstanpy - INFO - Chain [1] done processing\n",
      "19:37:42 - cmdstanpy - INFO - Chain [1] start processing\n",
      "19:37:42 - cmdstanpy - INFO - Chain [1] done processing\n",
      "Seasonality has period of 365.25 days which is larger than initial window. Consider increasing initial.\n"
     ]
    },
    {
     "data": {
      "application/vnd.jupyter.widget-view+json": {
       "model_id": "1aaa1e11c8ef46e79536f0018b864207",
       "version_major": 2,
       "version_minor": 0
      },
      "text/plain": [
       "  0%|          | 0/3 [00:00<?, ?it/s]"
      ]
     },
     "metadata": {},
     "output_type": "display_data"
    },
    {
     "name": "stderr",
     "output_type": "stream",
     "text": [
      "19:37:43 - cmdstanpy - INFO - Chain [1] start processing\n",
      "19:37:43 - cmdstanpy - INFO - Chain [1] done processing\n",
      "19:37:43 - cmdstanpy - INFO - Chain [1] start processing\n",
      "19:37:43 - cmdstanpy - INFO - Chain [1] done processing\n",
      "19:37:43 - cmdstanpy - INFO - Chain [1] start processing\n",
      "19:37:43 - cmdstanpy - INFO - Chain [1] done processing\n",
      "19:37:44 - cmdstanpy - INFO - Chain [1] start processing\n",
      "19:37:44 - cmdstanpy - INFO - Chain [1] done processing\n",
      "Seasonality has period of 365.25 days which is larger than initial window. Consider increasing initial.\n"
     ]
    },
    {
     "data": {
      "application/vnd.jupyter.widget-view+json": {
       "model_id": "f14011bdcad84b9ab7b64506c0986e01",
       "version_major": 2,
       "version_minor": 0
      },
      "text/plain": [
       "  0%|          | 0/3 [00:00<?, ?it/s]"
      ]
     },
     "metadata": {},
     "output_type": "display_data"
    },
    {
     "name": "stderr",
     "output_type": "stream",
     "text": [
      "19:37:44 - cmdstanpy - INFO - Chain [1] start processing\n",
      "19:37:44 - cmdstanpy - INFO - Chain [1] done processing\n",
      "19:37:44 - cmdstanpy - INFO - Chain [1] start processing\n",
      "19:37:44 - cmdstanpy - INFO - Chain [1] done processing\n",
      "19:37:45 - cmdstanpy - INFO - Chain [1] start processing\n",
      "19:37:45 - cmdstanpy - INFO - Chain [1] done processing\n",
      "19:37:45 - cmdstanpy - INFO - Chain [1] start processing\n",
      "19:37:45 - cmdstanpy - INFO - Chain [1] done processing\n",
      "Seasonality has period of 365.25 days which is larger than initial window. Consider increasing initial.\n"
     ]
    },
    {
     "data": {
      "application/vnd.jupyter.widget-view+json": {
       "model_id": "1443a0a8686c4e58bc8165b812b71743",
       "version_major": 2,
       "version_minor": 0
      },
      "text/plain": [
       "  0%|          | 0/3 [00:00<?, ?it/s]"
      ]
     },
     "metadata": {},
     "output_type": "display_data"
    },
    {
     "name": "stderr",
     "output_type": "stream",
     "text": [
      "19:37:45 - cmdstanpy - INFO - Chain [1] start processing\n",
      "19:37:46 - cmdstanpy - INFO - Chain [1] done processing\n",
      "19:37:46 - cmdstanpy - INFO - Chain [1] start processing\n",
      "19:37:46 - cmdstanpy - INFO - Chain [1] done processing\n",
      "19:37:46 - cmdstanpy - INFO - Chain [1] start processing\n",
      "19:37:46 - cmdstanpy - INFO - Chain [1] done processing\n",
      "19:37:46 - cmdstanpy - INFO - Chain [1] start processing\n",
      "19:37:47 - cmdstanpy - INFO - Chain [1] done processing\n",
      "Seasonality has period of 365.25 days which is larger than initial window. Consider increasing initial.\n"
     ]
    },
    {
     "data": {
      "application/vnd.jupyter.widget-view+json": {
       "model_id": "e5329cecd34444289d04facc4d4cae19",
       "version_major": 2,
       "version_minor": 0
      },
      "text/plain": [
       "  0%|          | 0/3 [00:00<?, ?it/s]"
      ]
     },
     "metadata": {},
     "output_type": "display_data"
    },
    {
     "name": "stderr",
     "output_type": "stream",
     "text": [
      "19:37:47 - cmdstanpy - INFO - Chain [1] start processing\n",
      "19:37:47 - cmdstanpy - INFO - Chain [1] done processing\n",
      "19:37:47 - cmdstanpy - INFO - Chain [1] start processing\n",
      "19:37:47 - cmdstanpy - INFO - Chain [1] done processing\n",
      "19:37:47 - cmdstanpy - INFO - Chain [1] start processing\n",
      "19:37:48 - cmdstanpy - INFO - Chain [1] done processing\n",
      "19:37:48 - cmdstanpy - INFO - Chain [1] start processing\n",
      "19:37:48 - cmdstanpy - INFO - Chain [1] done processing\n",
      "Seasonality has period of 365.25 days which is larger than initial window. Consider increasing initial.\n"
     ]
    },
    {
     "data": {
      "application/vnd.jupyter.widget-view+json": {
       "model_id": "4dfe00a3bc244c3a9aac175dd3d9c866",
       "version_major": 2,
       "version_minor": 0
      },
      "text/plain": [
       "  0%|          | 0/3 [00:00<?, ?it/s]"
      ]
     },
     "metadata": {},
     "output_type": "display_data"
    },
    {
     "name": "stderr",
     "output_type": "stream",
     "text": [
      "19:37:48 - cmdstanpy - INFO - Chain [1] start processing\n",
      "19:37:48 - cmdstanpy - INFO - Chain [1] done processing\n",
      "19:37:49 - cmdstanpy - INFO - Chain [1] start processing\n",
      "19:37:49 - cmdstanpy - INFO - Chain [1] done processing\n",
      "19:37:49 - cmdstanpy - INFO - Chain [1] start processing\n",
      "19:37:49 - cmdstanpy - INFO - Chain [1] done processing\n",
      "19:37:50 - cmdstanpy - INFO - Chain [1] start processing\n",
      "19:37:50 - cmdstanpy - INFO - Chain [1] done processing\n",
      "Seasonality has period of 365.25 days which is larger than initial window. Consider increasing initial.\n"
     ]
    },
    {
     "data": {
      "application/vnd.jupyter.widget-view+json": {
       "model_id": "da882eef5abb41e1a7aaf2ff7d0cb0ff",
       "version_major": 2,
       "version_minor": 0
      },
      "text/plain": [
       "  0%|          | 0/3 [00:00<?, ?it/s]"
      ]
     },
     "metadata": {},
     "output_type": "display_data"
    },
    {
     "name": "stderr",
     "output_type": "stream",
     "text": [
      "19:37:50 - cmdstanpy - INFO - Chain [1] start processing\n",
      "19:37:50 - cmdstanpy - INFO - Chain [1] done processing\n",
      "19:37:50 - cmdstanpy - INFO - Chain [1] start processing\n",
      "19:37:50 - cmdstanpy - INFO - Chain [1] done processing\n",
      "19:37:51 - cmdstanpy - INFO - Chain [1] start processing\n",
      "19:37:51 - cmdstanpy - INFO - Chain [1] done processing\n",
      "19:37:51 - cmdstanpy - INFO - Chain [1] start processing\n",
      "19:37:51 - cmdstanpy - INFO - Chain [1] done processing\n",
      "Seasonality has period of 365.25 days which is larger than initial window. Consider increasing initial.\n"
     ]
    },
    {
     "data": {
      "application/vnd.jupyter.widget-view+json": {
       "model_id": "d4cf9b173fbe4dfabccbb1e6e7bbadde",
       "version_major": 2,
       "version_minor": 0
      },
      "text/plain": [
       "  0%|          | 0/3 [00:00<?, ?it/s]"
      ]
     },
     "metadata": {},
     "output_type": "display_data"
    },
    {
     "name": "stderr",
     "output_type": "stream",
     "text": [
      "19:37:51 - cmdstanpy - INFO - Chain [1] start processing\n",
      "19:37:51 - cmdstanpy - INFO - Chain [1] done processing\n",
      "19:37:52 - cmdstanpy - INFO - Chain [1] start processing\n",
      "19:37:52 - cmdstanpy - INFO - Chain [1] done processing\n",
      "19:37:52 - cmdstanpy - INFO - Chain [1] start processing\n",
      "19:37:52 - cmdstanpy - INFO - Chain [1] done processing\n",
      "19:37:52 - cmdstanpy - INFO - Chain [1] start processing\n",
      "19:37:53 - cmdstanpy - INFO - Chain [1] done processing\n",
      "Seasonality has period of 365.25 days which is larger than initial window. Consider increasing initial.\n"
     ]
    },
    {
     "data": {
      "application/vnd.jupyter.widget-view+json": {
       "model_id": "2a7457bd321647d89bc9a891d9cb4a1a",
       "version_major": 2,
       "version_minor": 0
      },
      "text/plain": [
       "  0%|          | 0/3 [00:00<?, ?it/s]"
      ]
     },
     "metadata": {},
     "output_type": "display_data"
    },
    {
     "name": "stderr",
     "output_type": "stream",
     "text": [
      "19:37:53 - cmdstanpy - INFO - Chain [1] start processing\n",
      "19:37:53 - cmdstanpy - INFO - Chain [1] done processing\n",
      "19:37:53 - cmdstanpy - INFO - Chain [1] start processing\n",
      "19:37:53 - cmdstanpy - INFO - Chain [1] done processing\n",
      "19:37:53 - cmdstanpy - INFO - Chain [1] start processing\n",
      "19:37:54 - cmdstanpy - INFO - Chain [1] done processing\n",
      "19:37:54 - cmdstanpy - INFO - Chain [1] start processing\n",
      "19:37:54 - cmdstanpy - INFO - Chain [1] done processing\n",
      "Seasonality has period of 365.25 days which is larger than initial window. Consider increasing initial.\n"
     ]
    },
    {
     "data": {
      "application/vnd.jupyter.widget-view+json": {
       "model_id": "b1cbd2b25ce44cf79a3b82bc3d7ddd32",
       "version_major": 2,
       "version_minor": 0
      },
      "text/plain": [
       "  0%|          | 0/3 [00:00<?, ?it/s]"
      ]
     },
     "metadata": {},
     "output_type": "display_data"
    },
    {
     "name": "stderr",
     "output_type": "stream",
     "text": [
      "19:37:54 - cmdstanpy - INFO - Chain [1] start processing\n",
      "19:37:54 - cmdstanpy - INFO - Chain [1] done processing\n",
      "19:37:55 - cmdstanpy - INFO - Chain [1] start processing\n",
      "19:37:55 - cmdstanpy - INFO - Chain [1] done processing\n",
      "19:37:55 - cmdstanpy - INFO - Chain [1] start processing\n",
      "19:37:55 - cmdstanpy - INFO - Chain [1] done processing\n",
      "19:37:56 - cmdstanpy - INFO - Chain [1] start processing\n",
      "19:37:56 - cmdstanpy - INFO - Chain [1] done processing\n",
      "Seasonality has period of 365.25 days which is larger than initial window. Consider increasing initial.\n"
     ]
    },
    {
     "data": {
      "application/vnd.jupyter.widget-view+json": {
       "model_id": "d449552395be4326b2d0608204d413d7",
       "version_major": 2,
       "version_minor": 0
      },
      "text/plain": [
       "  0%|          | 0/3 [00:00<?, ?it/s]"
      ]
     },
     "metadata": {},
     "output_type": "display_data"
    },
    {
     "name": "stderr",
     "output_type": "stream",
     "text": [
      "19:37:56 - cmdstanpy - INFO - Chain [1] start processing\n",
      "19:37:56 - cmdstanpy - INFO - Chain [1] done processing\n",
      "19:37:56 - cmdstanpy - INFO - Chain [1] start processing\n",
      "19:37:56 - cmdstanpy - INFO - Chain [1] done processing\n",
      "19:37:56 - cmdstanpy - INFO - Chain [1] start processing\n",
      "19:37:57 - cmdstanpy - INFO - Chain [1] done processing\n",
      "19:37:57 - cmdstanpy - INFO - Chain [1] start processing\n",
      "19:37:57 - cmdstanpy - INFO - Chain [1] done processing\n",
      "Seasonality has period of 365.25 days which is larger than initial window. Consider increasing initial.\n"
     ]
    },
    {
     "data": {
      "application/vnd.jupyter.widget-view+json": {
       "model_id": "311d91a5014c4cdb834fe4bbfe3e860e",
       "version_major": 2,
       "version_minor": 0
      },
      "text/plain": [
       "  0%|          | 0/3 [00:00<?, ?it/s]"
      ]
     },
     "metadata": {},
     "output_type": "display_data"
    },
    {
     "name": "stderr",
     "output_type": "stream",
     "text": [
      "19:37:57 - cmdstanpy - INFO - Chain [1] start processing\n",
      "19:37:57 - cmdstanpy - INFO - Chain [1] done processing\n",
      "19:37:58 - cmdstanpy - INFO - Chain [1] start processing\n",
      "19:37:58 - cmdstanpy - INFO - Chain [1] done processing\n",
      "19:37:58 - cmdstanpy - INFO - Chain [1] start processing\n",
      "19:37:58 - cmdstanpy - INFO - Chain [1] done processing\n",
      "19:37:58 - cmdstanpy - INFO - Chain [1] start processing\n",
      "19:37:59 - cmdstanpy - INFO - Chain [1] done processing\n",
      "Seasonality has period of 365.25 days which is larger than initial window. Consider increasing initial.\n"
     ]
    },
    {
     "data": {
      "application/vnd.jupyter.widget-view+json": {
       "model_id": "57178721a1f64a90a15f4ee6f04865eb",
       "version_major": 2,
       "version_minor": 0
      },
      "text/plain": [
       "  0%|          | 0/3 [00:00<?, ?it/s]"
      ]
     },
     "metadata": {},
     "output_type": "display_data"
    },
    {
     "name": "stderr",
     "output_type": "stream",
     "text": [
      "19:37:59 - cmdstanpy - INFO - Chain [1] start processing\n",
      "19:37:59 - cmdstanpy - INFO - Chain [1] done processing\n",
      "19:37:59 - cmdstanpy - INFO - Chain [1] start processing\n",
      "19:37:59 - cmdstanpy - INFO - Chain [1] done processing\n",
      "19:37:59 - cmdstanpy - INFO - Chain [1] start processing\n",
      "19:38:00 - cmdstanpy - INFO - Chain [1] done processing\n",
      "19:38:00 - cmdstanpy - INFO - Chain [1] start processing\n",
      "19:38:00 - cmdstanpy - INFO - Chain [1] done processing\n",
      "Seasonality has period of 365.25 days which is larger than initial window. Consider increasing initial.\n"
     ]
    },
    {
     "data": {
      "application/vnd.jupyter.widget-view+json": {
       "model_id": "1a7cb92a600c48e4826a1c193189f3d2",
       "version_major": 2,
       "version_minor": 0
      },
      "text/plain": [
       "  0%|          | 0/3 [00:00<?, ?it/s]"
      ]
     },
     "metadata": {},
     "output_type": "display_data"
    },
    {
     "name": "stderr",
     "output_type": "stream",
     "text": [
      "19:38:00 - cmdstanpy - INFO - Chain [1] start processing\n",
      "19:38:00 - cmdstanpy - INFO - Chain [1] done processing\n",
      "19:38:00 - cmdstanpy - INFO - Chain [1] start processing\n",
      "19:38:01 - cmdstanpy - INFO - Chain [1] done processing\n",
      "19:38:01 - cmdstanpy - INFO - Chain [1] start processing\n",
      "19:38:01 - cmdstanpy - INFO - Chain [1] done processing\n",
      "19:38:01 - cmdstanpy - INFO - Chain [1] start processing\n",
      "19:38:02 - cmdstanpy - INFO - Chain [1] done processing\n",
      "Seasonality has period of 365.25 days which is larger than initial window. Consider increasing initial.\n"
     ]
    },
    {
     "data": {
      "application/vnd.jupyter.widget-view+json": {
       "model_id": "7838b6462b7c4ada8c8c16470dd22f0b",
       "version_major": 2,
       "version_minor": 0
      },
      "text/plain": [
       "  0%|          | 0/3 [00:00<?, ?it/s]"
      ]
     },
     "metadata": {},
     "output_type": "display_data"
    },
    {
     "name": "stderr",
     "output_type": "stream",
     "text": [
      "19:38:02 - cmdstanpy - INFO - Chain [1] start processing\n",
      "19:38:02 - cmdstanpy - INFO - Chain [1] done processing\n",
      "19:38:02 - cmdstanpy - INFO - Chain [1] start processing\n",
      "19:38:02 - cmdstanpy - INFO - Chain [1] done processing\n",
      "19:38:02 - cmdstanpy - INFO - Chain [1] start processing\n",
      "19:38:03 - cmdstanpy - INFO - Chain [1] done processing\n",
      "19:38:03 - cmdstanpy - INFO - Chain [1] start processing\n",
      "19:38:03 - cmdstanpy - INFO - Chain [1] done processing\n",
      "Seasonality has period of 365.25 days which is larger than initial window. Consider increasing initial.\n"
     ]
    },
    {
     "data": {
      "application/vnd.jupyter.widget-view+json": {
       "model_id": "99705c647d894e79b5353709ec30d978",
       "version_major": 2,
       "version_minor": 0
      },
      "text/plain": [
       "  0%|          | 0/3 [00:00<?, ?it/s]"
      ]
     },
     "metadata": {},
     "output_type": "display_data"
    },
    {
     "name": "stderr",
     "output_type": "stream",
     "text": [
      "19:38:03 - cmdstanpy - INFO - Chain [1] start processing\n",
      "19:38:03 - cmdstanpy - INFO - Chain [1] done processing\n",
      "19:38:04 - cmdstanpy - INFO - Chain [1] start processing\n",
      "19:38:04 - cmdstanpy - INFO - Chain [1] done processing\n",
      "19:38:04 - cmdstanpy - INFO - Chain [1] start processing\n",
      "19:38:04 - cmdstanpy - INFO - Chain [1] done processing\n",
      "19:38:05 - cmdstanpy - INFO - Chain [1] start processing\n",
      "19:38:05 - cmdstanpy - INFO - Chain [1] done processing\n",
      "Seasonality has period of 365.25 days which is larger than initial window. Consider increasing initial.\n"
     ]
    },
    {
     "data": {
      "application/vnd.jupyter.widget-view+json": {
       "model_id": "620df3b8281246a5875ae1640abfafae",
       "version_major": 2,
       "version_minor": 0
      },
      "text/plain": [
       "  0%|          | 0/3 [00:00<?, ?it/s]"
      ]
     },
     "metadata": {},
     "output_type": "display_data"
    },
    {
     "name": "stderr",
     "output_type": "stream",
     "text": [
      "19:38:05 - cmdstanpy - INFO - Chain [1] start processing\n",
      "19:38:05 - cmdstanpy - INFO - Chain [1] done processing\n",
      "19:38:05 - cmdstanpy - INFO - Chain [1] start processing\n",
      "19:38:05 - cmdstanpy - INFO - Chain [1] done processing\n",
      "19:38:07 - cmdstanpy - INFO - Chain [1] start processing\n",
      "19:38:07 - cmdstanpy - INFO - Chain [1] done processing\n",
      "19:38:07 - cmdstanpy - INFO - Chain [1] start processing\n",
      "19:38:07 - cmdstanpy - INFO - Chain [1] done processing\n",
      "Seasonality has period of 365.25 days which is larger than initial window. Consider increasing initial.\n"
     ]
    },
    {
     "data": {
      "application/vnd.jupyter.widget-view+json": {
       "model_id": "6430228af1c1487eaaef20da741f17c6",
       "version_major": 2,
       "version_minor": 0
      },
      "text/plain": [
       "  0%|          | 0/3 [00:00<?, ?it/s]"
      ]
     },
     "metadata": {},
     "output_type": "display_data"
    },
    {
     "name": "stderr",
     "output_type": "stream",
     "text": [
      "19:38:08 - cmdstanpy - INFO - Chain [1] start processing\n",
      "19:38:08 - cmdstanpy - INFO - Chain [1] done processing\n",
      "19:38:08 - cmdstanpy - INFO - Chain [1] start processing\n",
      "19:38:08 - cmdstanpy - INFO - Chain [1] done processing\n",
      "19:38:08 - cmdstanpy - INFO - Chain [1] start processing\n",
      "19:38:09 - cmdstanpy - INFO - Chain [1] done processing\n",
      "19:38:09 - cmdstanpy - INFO - Chain [1] start processing\n",
      "19:38:09 - cmdstanpy - INFO - Chain [1] done processing\n",
      "Seasonality has period of 365.25 days which is larger than initial window. Consider increasing initial.\n"
     ]
    },
    {
     "data": {
      "application/vnd.jupyter.widget-view+json": {
       "model_id": "b6fd886059104c66b1d63b50e7439c4a",
       "version_major": 2,
       "version_minor": 0
      },
      "text/plain": [
       "  0%|          | 0/3 [00:00<?, ?it/s]"
      ]
     },
     "metadata": {},
     "output_type": "display_data"
    },
    {
     "name": "stderr",
     "output_type": "stream",
     "text": [
      "19:38:09 - cmdstanpy - INFO - Chain [1] start processing\n",
      "19:38:09 - cmdstanpy - INFO - Chain [1] done processing\n",
      "19:38:10 - cmdstanpy - INFO - Chain [1] start processing\n",
      "19:38:10 - cmdstanpy - INFO - Chain [1] done processing\n",
      "19:38:10 - cmdstanpy - INFO - Chain [1] start processing\n",
      "19:38:10 - cmdstanpy - INFO - Chain [1] done processing\n",
      "19:38:11 - cmdstanpy - INFO - Chain [1] start processing\n",
      "19:38:11 - cmdstanpy - INFO - Chain [1] done processing\n",
      "Seasonality has period of 365.25 days which is larger than initial window. Consider increasing initial.\n"
     ]
    },
    {
     "data": {
      "application/vnd.jupyter.widget-view+json": {
       "model_id": "8074e5f12bab4431b9e6d3032ddc5316",
       "version_major": 2,
       "version_minor": 0
      },
      "text/plain": [
       "  0%|          | 0/3 [00:00<?, ?it/s]"
      ]
     },
     "metadata": {},
     "output_type": "display_data"
    },
    {
     "name": "stderr",
     "output_type": "stream",
     "text": [
      "19:38:11 - cmdstanpy - INFO - Chain [1] start processing\n",
      "19:38:11 - cmdstanpy - INFO - Chain [1] done processing\n",
      "19:38:12 - cmdstanpy - INFO - Chain [1] start processing\n",
      "19:38:12 - cmdstanpy - INFO - Chain [1] done processing\n",
      "19:38:12 - cmdstanpy - INFO - Chain [1] start processing\n",
      "19:38:12 - cmdstanpy - INFO - Chain [1] done processing\n",
      "19:38:12 - cmdstanpy - INFO - Chain [1] start processing\n",
      "19:38:13 - cmdstanpy - INFO - Chain [1] done processing\n",
      "Seasonality has period of 365.25 days which is larger than initial window. Consider increasing initial.\n"
     ]
    },
    {
     "data": {
      "application/vnd.jupyter.widget-view+json": {
       "model_id": "ed29a8eab7014085a84bc59ce649f10b",
       "version_major": 2,
       "version_minor": 0
      },
      "text/plain": [
       "  0%|          | 0/3 [00:00<?, ?it/s]"
      ]
     },
     "metadata": {},
     "output_type": "display_data"
    },
    {
     "name": "stderr",
     "output_type": "stream",
     "text": [
      "19:38:13 - cmdstanpy - INFO - Chain [1] start processing\n",
      "19:38:13 - cmdstanpy - INFO - Chain [1] done processing\n",
      "19:38:13 - cmdstanpy - INFO - Chain [1] start processing\n",
      "19:38:13 - cmdstanpy - INFO - Chain [1] done processing\n",
      "19:38:14 - cmdstanpy - INFO - Chain [1] start processing\n",
      "19:38:14 - cmdstanpy - INFO - Chain [1] done processing\n",
      "19:38:14 - cmdstanpy - INFO - Chain [1] start processing\n",
      "19:38:14 - cmdstanpy - INFO - Chain [1] done processing\n",
      "Seasonality has period of 365.25 days which is larger than initial window. Consider increasing initial.\n"
     ]
    },
    {
     "data": {
      "application/vnd.jupyter.widget-view+json": {
       "model_id": "aa4710a542604eaabd36a9659644985a",
       "version_major": 2,
       "version_minor": 0
      },
      "text/plain": [
       "  0%|          | 0/3 [00:00<?, ?it/s]"
      ]
     },
     "metadata": {},
     "output_type": "display_data"
    },
    {
     "name": "stderr",
     "output_type": "stream",
     "text": [
      "19:38:14 - cmdstanpy - INFO - Chain [1] start processing\n",
      "19:38:15 - cmdstanpy - INFO - Chain [1] done processing\n",
      "19:38:15 - cmdstanpy - INFO - Chain [1] start processing\n",
      "19:38:15 - cmdstanpy - INFO - Chain [1] done processing\n",
      "19:38:15 - cmdstanpy - INFO - Chain [1] start processing\n",
      "19:38:15 - cmdstanpy - INFO - Chain [1] done processing\n",
      "19:38:16 - cmdstanpy - INFO - Chain [1] start processing\n",
      "19:38:16 - cmdstanpy - INFO - Chain [1] done processing\n",
      "Seasonality has period of 365.25 days which is larger than initial window. Consider increasing initial.\n"
     ]
    },
    {
     "data": {
      "application/vnd.jupyter.widget-view+json": {
       "model_id": "dc5c0b18484d419894901b4d46f14a81",
       "version_major": 2,
       "version_minor": 0
      },
      "text/plain": [
       "  0%|          | 0/3 [00:00<?, ?it/s]"
      ]
     },
     "metadata": {},
     "output_type": "display_data"
    },
    {
     "name": "stderr",
     "output_type": "stream",
     "text": [
      "19:38:16 - cmdstanpy - INFO - Chain [1] start processing\n",
      "19:38:16 - cmdstanpy - INFO - Chain [1] done processing\n",
      "19:38:16 - cmdstanpy - INFO - Chain [1] start processing\n",
      "19:38:17 - cmdstanpy - INFO - Chain [1] done processing\n",
      "19:38:17 - cmdstanpy - INFO - Chain [1] start processing\n",
      "19:38:17 - cmdstanpy - INFO - Chain [1] done processing\n",
      "19:38:17 - cmdstanpy - INFO - Chain [1] start processing\n",
      "19:38:18 - cmdstanpy - INFO - Chain [1] done processing\n",
      "Seasonality has period of 365.25 days which is larger than initial window. Consider increasing initial.\n"
     ]
    },
    {
     "data": {
      "application/vnd.jupyter.widget-view+json": {
       "model_id": "926aa083c1b645df8f68a0c16d2062fa",
       "version_major": 2,
       "version_minor": 0
      },
      "text/plain": [
       "  0%|          | 0/3 [00:00<?, ?it/s]"
      ]
     },
     "metadata": {},
     "output_type": "display_data"
    },
    {
     "name": "stderr",
     "output_type": "stream",
     "text": [
      "19:38:18 - cmdstanpy - INFO - Chain [1] start processing\n",
      "19:38:18 - cmdstanpy - INFO - Chain [1] done processing\n",
      "19:38:18 - cmdstanpy - INFO - Chain [1] start processing\n",
      "19:38:18 - cmdstanpy - INFO - Chain [1] done processing\n",
      "19:38:19 - cmdstanpy - INFO - Chain [1] start processing\n",
      "19:38:19 - cmdstanpy - INFO - Chain [1] done processing\n",
      "19:38:19 - cmdstanpy - INFO - Chain [1] start processing\n",
      "19:38:20 - cmdstanpy - INFO - Chain [1] done processing\n",
      "Seasonality has period of 365.25 days which is larger than initial window. Consider increasing initial.\n"
     ]
    },
    {
     "data": {
      "application/vnd.jupyter.widget-view+json": {
       "model_id": "66251532d15a4f15a5c36827f545a44f",
       "version_major": 2,
       "version_minor": 0
      },
      "text/plain": [
       "  0%|          | 0/3 [00:00<?, ?it/s]"
      ]
     },
     "metadata": {},
     "output_type": "display_data"
    },
    {
     "name": "stderr",
     "output_type": "stream",
     "text": [
      "19:38:20 - cmdstanpy - INFO - Chain [1] start processing\n",
      "19:38:20 - cmdstanpy - INFO - Chain [1] done processing\n",
      "19:38:20 - cmdstanpy - INFO - Chain [1] start processing\n",
      "19:38:20 - cmdstanpy - INFO - Chain [1] done processing\n",
      "19:38:21 - cmdstanpy - INFO - Chain [1] start processing\n",
      "19:38:21 - cmdstanpy - INFO - Chain [1] done processing\n",
      "19:38:21 - cmdstanpy - INFO - Chain [1] start processing\n",
      "19:38:21 - cmdstanpy - INFO - Chain [1] done processing\n",
      "Seasonality has period of 365.25 days which is larger than initial window. Consider increasing initial.\n"
     ]
    },
    {
     "data": {
      "application/vnd.jupyter.widget-view+json": {
       "model_id": "91b437b1317543398072df1f0f0b0944",
       "version_major": 2,
       "version_minor": 0
      },
      "text/plain": [
       "  0%|          | 0/3 [00:00<?, ?it/s]"
      ]
     },
     "metadata": {},
     "output_type": "display_data"
    },
    {
     "name": "stderr",
     "output_type": "stream",
     "text": [
      "19:38:22 - cmdstanpy - INFO - Chain [1] start processing\n",
      "19:38:22 - cmdstanpy - INFO - Chain [1] done processing\n",
      "19:38:22 - cmdstanpy - INFO - Chain [1] start processing\n",
      "19:38:22 - cmdstanpy - INFO - Chain [1] done processing\n",
      "19:38:22 - cmdstanpy - INFO - Chain [1] start processing\n",
      "19:38:23 - cmdstanpy - INFO - Chain [1] done processing\n",
      "19:38:23 - cmdstanpy - INFO - Chain [1] start processing\n",
      "19:38:23 - cmdstanpy - INFO - Chain [1] done processing\n",
      "Seasonality has period of 365.25 days which is larger than initial window. Consider increasing initial.\n"
     ]
    },
    {
     "data": {
      "application/vnd.jupyter.widget-view+json": {
       "model_id": "411fd48b9fd247e0a34da113c10347da",
       "version_major": 2,
       "version_minor": 0
      },
      "text/plain": [
       "  0%|          | 0/3 [00:00<?, ?it/s]"
      ]
     },
     "metadata": {},
     "output_type": "display_data"
    },
    {
     "name": "stderr",
     "output_type": "stream",
     "text": [
      "19:38:23 - cmdstanpy - INFO - Chain [1] start processing\n",
      "19:38:23 - cmdstanpy - INFO - Chain [1] done processing\n",
      "19:38:24 - cmdstanpy - INFO - Chain [1] start processing\n",
      "19:38:24 - cmdstanpy - INFO - Chain [1] done processing\n",
      "19:38:24 - cmdstanpy - INFO - Chain [1] start processing\n",
      "19:38:24 - cmdstanpy - INFO - Chain [1] done processing\n",
      "19:38:24 - cmdstanpy - INFO - Chain [1] start processing\n",
      "19:38:25 - cmdstanpy - INFO - Chain [1] done processing\n",
      "Seasonality has period of 365.25 days which is larger than initial window. Consider increasing initial.\n"
     ]
    },
    {
     "data": {
      "application/vnd.jupyter.widget-view+json": {
       "model_id": "4d7d491d80ef4073bca867f2dfcd17fe",
       "version_major": 2,
       "version_minor": 0
      },
      "text/plain": [
       "  0%|          | 0/3 [00:00<?, ?it/s]"
      ]
     },
     "metadata": {},
     "output_type": "display_data"
    },
    {
     "name": "stderr",
     "output_type": "stream",
     "text": [
      "19:38:25 - cmdstanpy - INFO - Chain [1] start processing\n",
      "19:38:25 - cmdstanpy - INFO - Chain [1] done processing\n",
      "19:38:25 - cmdstanpy - INFO - Chain [1] start processing\n",
      "19:38:25 - cmdstanpy - INFO - Chain [1] done processing\n",
      "19:38:26 - cmdstanpy - INFO - Chain [1] start processing\n",
      "19:38:26 - cmdstanpy - INFO - Chain [1] done processing\n",
      "19:38:26 - cmdstanpy - INFO - Chain [1] start processing\n",
      "19:38:26 - cmdstanpy - INFO - Chain [1] done processing\n",
      "Seasonality has period of 365.25 days which is larger than initial window. Consider increasing initial.\n"
     ]
    },
    {
     "data": {
      "application/vnd.jupyter.widget-view+json": {
       "model_id": "6b9d7697028e46dd91b8e8abe7a565f9",
       "version_major": 2,
       "version_minor": 0
      },
      "text/plain": [
       "  0%|          | 0/3 [00:00<?, ?it/s]"
      ]
     },
     "metadata": {},
     "output_type": "display_data"
    },
    {
     "name": "stderr",
     "output_type": "stream",
     "text": [
      "19:38:27 - cmdstanpy - INFO - Chain [1] start processing\n",
      "19:38:27 - cmdstanpy - INFO - Chain [1] done processing\n",
      "19:38:27 - cmdstanpy - INFO - Chain [1] start processing\n",
      "19:38:27 - cmdstanpy - INFO - Chain [1] done processing\n",
      "19:38:27 - cmdstanpy - INFO - Chain [1] start processing\n",
      "19:38:28 - cmdstanpy - INFO - Chain [1] done processing\n",
      "19:38:28 - cmdstanpy - INFO - Chain [1] start processing\n"
     ]
    },
    {
     "name": "stdout",
     "output_type": "stream",
     "text": [
      "Best parameters: params    {'changepoint_prior_scale': 0.8, 'holidays_pri...\n",
      "MAPE                                               0.051049\n",
      "Name: 36, dtype: object\n"
     ]
    },
    {
     "name": "stderr",
     "output_type": "stream",
     "text": [
      "19:38:28 - cmdstanpy - INFO - Chain [1] done processing\n",
      "19:38:29 - cmdstanpy - INFO - Chain [1] start processing\n"
     ]
    },
    {
     "name": "stdout",
     "output_type": "stream",
     "text": [
      "           y          ds\n",
      "1193  6447.0  2020-12-05\n",
      "1194  5338.0  2020-12-06\n",
      "1195  5621.0  2020-12-07\n",
      "1196  5792.0  2020-12-08\n",
      "1197  5894.0  2020-12-09\n"
     ]
    },
    {
     "name": "stderr",
     "output_type": "stream",
     "text": [
      "19:38:29 - cmdstanpy - INFO - Chain [1] done processing\n",
      "Seasonality has period of 365.25 days which is larger than initial window. Consider increasing initial.\n"
     ]
    },
    {
     "data": {
      "application/vnd.jupyter.widget-view+json": {
       "model_id": "0bf3b1fa6b7b44d7ba2e7095b457bef3",
       "version_major": 2,
       "version_minor": 0
      },
      "text/plain": [
       "  0%|          | 0/3 [00:00<?, ?it/s]"
      ]
     },
     "metadata": {},
     "output_type": "display_data"
    },
    {
     "name": "stderr",
     "output_type": "stream",
     "text": [
      "19:38:29 - cmdstanpy - INFO - Chain [1] start processing\n",
      "19:38:29 - cmdstanpy - INFO - Chain [1] done processing\n",
      "19:38:29 - cmdstanpy - INFO - Chain [1] start processing\n",
      "19:38:29 - cmdstanpy - INFO - Chain [1] done processing\n",
      "19:38:29 - cmdstanpy - INFO - Chain [1] start processing\n",
      "19:38:30 - cmdstanpy - INFO - Chain [1] done processing\n",
      "19:38:30 - cmdstanpy - INFO - Chain [1] start processing\n",
      "19:38:30 - cmdstanpy - INFO - Chain [1] done processing\n",
      "Seasonality has period of 365.25 days which is larger than initial window. Consider increasing initial.\n"
     ]
    },
    {
     "data": {
      "application/vnd.jupyter.widget-view+json": {
       "model_id": "c8c8b00b32ff4a42ac59f3c86307a3b1",
       "version_major": 2,
       "version_minor": 0
      },
      "text/plain": [
       "  0%|          | 0/3 [00:00<?, ?it/s]"
      ]
     },
     "metadata": {},
     "output_type": "display_data"
    },
    {
     "name": "stderr",
     "output_type": "stream",
     "text": [
      "19:38:30 - cmdstanpy - INFO - Chain [1] start processing\n",
      "19:38:30 - cmdstanpy - INFO - Chain [1] done processing\n",
      "19:38:31 - cmdstanpy - INFO - Chain [1] start processing\n",
      "19:38:31 - cmdstanpy - INFO - Chain [1] done processing\n",
      "19:38:31 - cmdstanpy - INFO - Chain [1] start processing\n",
      "19:38:31 - cmdstanpy - INFO - Chain [1] done processing\n",
      "19:38:31 - cmdstanpy - INFO - Chain [1] start processing\n",
      "19:38:32 - cmdstanpy - INFO - Chain [1] done processing\n",
      "Seasonality has period of 365.25 days which is larger than initial window. Consider increasing initial.\n"
     ]
    },
    {
     "data": {
      "application/vnd.jupyter.widget-view+json": {
       "model_id": "e0e04e5820f444a4a1e7612fe521edf9",
       "version_major": 2,
       "version_minor": 0
      },
      "text/plain": [
       "  0%|          | 0/3 [00:00<?, ?it/s]"
      ]
     },
     "metadata": {},
     "output_type": "display_data"
    },
    {
     "name": "stderr",
     "output_type": "stream",
     "text": [
      "19:38:32 - cmdstanpy - INFO - Chain [1] start processing\n",
      "19:38:32 - cmdstanpy - INFO - Chain [1] done processing\n",
      "19:38:32 - cmdstanpy - INFO - Chain [1] start processing\n",
      "19:38:32 - cmdstanpy - INFO - Chain [1] done processing\n",
      "19:38:32 - cmdstanpy - INFO - Chain [1] start processing\n",
      "19:38:32 - cmdstanpy - INFO - Chain [1] done processing\n",
      "19:38:33 - cmdstanpy - INFO - Chain [1] start processing\n",
      "19:38:33 - cmdstanpy - INFO - Chain [1] done processing\n",
      "Seasonality has period of 365.25 days which is larger than initial window. Consider increasing initial.\n"
     ]
    },
    {
     "data": {
      "application/vnd.jupyter.widget-view+json": {
       "model_id": "b7a9c66e7c62404fa5327f6f28e85e11",
       "version_major": 2,
       "version_minor": 0
      },
      "text/plain": [
       "  0%|          | 0/3 [00:00<?, ?it/s]"
      ]
     },
     "metadata": {},
     "output_type": "display_data"
    },
    {
     "name": "stderr",
     "output_type": "stream",
     "text": [
      "19:38:33 - cmdstanpy - INFO - Chain [1] start processing\n",
      "19:38:33 - cmdstanpy - INFO - Chain [1] done processing\n",
      "19:38:33 - cmdstanpy - INFO - Chain [1] start processing\n",
      "19:38:34 - cmdstanpy - INFO - Chain [1] done processing\n",
      "19:38:34 - cmdstanpy - INFO - Chain [1] start processing\n",
      "19:38:34 - cmdstanpy - INFO - Chain [1] done processing\n",
      "19:38:34 - cmdstanpy - INFO - Chain [1] start processing\n",
      "19:38:34 - cmdstanpy - INFO - Chain [1] done processing\n",
      "Seasonality has period of 365.25 days which is larger than initial window. Consider increasing initial.\n"
     ]
    },
    {
     "data": {
      "application/vnd.jupyter.widget-view+json": {
       "model_id": "2d2b88f9fb1f49afa7253aa440688775",
       "version_major": 2,
       "version_minor": 0
      },
      "text/plain": [
       "  0%|          | 0/3 [00:00<?, ?it/s]"
      ]
     },
     "metadata": {},
     "output_type": "display_data"
    },
    {
     "name": "stderr",
     "output_type": "stream",
     "text": [
      "19:38:35 - cmdstanpy - INFO - Chain [1] start processing\n",
      "19:38:35 - cmdstanpy - INFO - Chain [1] done processing\n",
      "19:38:35 - cmdstanpy - INFO - Chain [1] start processing\n",
      "19:38:35 - cmdstanpy - INFO - Chain [1] done processing\n",
      "19:38:35 - cmdstanpy - INFO - Chain [1] start processing\n",
      "19:38:35 - cmdstanpy - INFO - Chain [1] done processing\n",
      "19:38:36 - cmdstanpy - INFO - Chain [1] start processing\n",
      "19:38:36 - cmdstanpy - INFO - Chain [1] done processing\n",
      "Seasonality has period of 365.25 days which is larger than initial window. Consider increasing initial.\n"
     ]
    },
    {
     "data": {
      "application/vnd.jupyter.widget-view+json": {
       "model_id": "4293e904d204490d9e99086cbe01ed42",
       "version_major": 2,
       "version_minor": 0
      },
      "text/plain": [
       "  0%|          | 0/3 [00:00<?, ?it/s]"
      ]
     },
     "metadata": {},
     "output_type": "display_data"
    },
    {
     "name": "stderr",
     "output_type": "stream",
     "text": [
      "19:38:36 - cmdstanpy - INFO - Chain [1] start processing\n",
      "19:38:36 - cmdstanpy - INFO - Chain [1] done processing\n",
      "19:38:36 - cmdstanpy - INFO - Chain [1] start processing\n",
      "19:38:36 - cmdstanpy - INFO - Chain [1] done processing\n",
      "19:38:37 - cmdstanpy - INFO - Chain [1] start processing\n",
      "19:38:37 - cmdstanpy - INFO - Chain [1] done processing\n",
      "19:38:37 - cmdstanpy - INFO - Chain [1] start processing\n",
      "19:38:37 - cmdstanpy - INFO - Chain [1] done processing\n",
      "Seasonality has period of 365.25 days which is larger than initial window. Consider increasing initial.\n"
     ]
    },
    {
     "data": {
      "application/vnd.jupyter.widget-view+json": {
       "model_id": "a1f1aac71d8c46b4997659f9ac8b00e9",
       "version_major": 2,
       "version_minor": 0
      },
      "text/plain": [
       "  0%|          | 0/3 [00:00<?, ?it/s]"
      ]
     },
     "metadata": {},
     "output_type": "display_data"
    },
    {
     "name": "stderr",
     "output_type": "stream",
     "text": [
      "19:38:37 - cmdstanpy - INFO - Chain [1] start processing\n",
      "19:38:37 - cmdstanpy - INFO - Chain [1] done processing\n",
      "19:38:38 - cmdstanpy - INFO - Chain [1] start processing\n",
      "19:38:38 - cmdstanpy - INFO - Chain [1] done processing\n",
      "19:38:38 - cmdstanpy - INFO - Chain [1] start processing\n",
      "19:38:38 - cmdstanpy - INFO - Chain [1] done processing\n",
      "19:38:38 - cmdstanpy - INFO - Chain [1] start processing\n",
      "19:38:39 - cmdstanpy - INFO - Chain [1] done processing\n",
      "Seasonality has period of 365.25 days which is larger than initial window. Consider increasing initial.\n"
     ]
    },
    {
     "data": {
      "application/vnd.jupyter.widget-view+json": {
       "model_id": "662293925bdb47b59445b1bf29fb97f4",
       "version_major": 2,
       "version_minor": 0
      },
      "text/plain": [
       "  0%|          | 0/3 [00:00<?, ?it/s]"
      ]
     },
     "metadata": {},
     "output_type": "display_data"
    },
    {
     "name": "stderr",
     "output_type": "stream",
     "text": [
      "19:38:39 - cmdstanpy - INFO - Chain [1] start processing\n",
      "19:38:39 - cmdstanpy - INFO - Chain [1] done processing\n",
      "19:38:39 - cmdstanpy - INFO - Chain [1] start processing\n",
      "19:38:39 - cmdstanpy - INFO - Chain [1] done processing\n",
      "19:38:40 - cmdstanpy - INFO - Chain [1] start processing\n",
      "19:38:40 - cmdstanpy - INFO - Chain [1] done processing\n",
      "19:38:40 - cmdstanpy - INFO - Chain [1] start processing\n",
      "19:38:40 - cmdstanpy - INFO - Chain [1] done processing\n",
      "Seasonality has period of 365.25 days which is larger than initial window. Consider increasing initial.\n"
     ]
    },
    {
     "data": {
      "application/vnd.jupyter.widget-view+json": {
       "model_id": "c2820245128e444dae272309affc685d",
       "version_major": 2,
       "version_minor": 0
      },
      "text/plain": [
       "  0%|          | 0/3 [00:00<?, ?it/s]"
      ]
     },
     "metadata": {},
     "output_type": "display_data"
    },
    {
     "name": "stderr",
     "output_type": "stream",
     "text": [
      "19:38:40 - cmdstanpy - INFO - Chain [1] start processing\n",
      "19:38:40 - cmdstanpy - INFO - Chain [1] done processing\n",
      "19:38:41 - cmdstanpy - INFO - Chain [1] start processing\n",
      "19:38:41 - cmdstanpy - INFO - Chain [1] done processing\n",
      "19:38:41 - cmdstanpy - INFO - Chain [1] start processing\n",
      "19:38:41 - cmdstanpy - INFO - Chain [1] done processing\n",
      "19:38:42 - cmdstanpy - INFO - Chain [1] start processing\n",
      "19:38:42 - cmdstanpy - INFO - Chain [1] done processing\n",
      "Seasonality has period of 365.25 days which is larger than initial window. Consider increasing initial.\n"
     ]
    },
    {
     "data": {
      "application/vnd.jupyter.widget-view+json": {
       "model_id": "576f30e1feae434bb368930842f1046e",
       "version_major": 2,
       "version_minor": 0
      },
      "text/plain": [
       "  0%|          | 0/3 [00:00<?, ?it/s]"
      ]
     },
     "metadata": {},
     "output_type": "display_data"
    },
    {
     "name": "stderr",
     "output_type": "stream",
     "text": [
      "19:38:42 - cmdstanpy - INFO - Chain [1] start processing\n",
      "19:38:42 - cmdstanpy - INFO - Chain [1] done processing\n",
      "19:38:42 - cmdstanpy - INFO - Chain [1] start processing\n",
      "19:38:42 - cmdstanpy - INFO - Chain [1] done processing\n",
      "19:38:42 - cmdstanpy - INFO - Chain [1] start processing\n",
      "19:38:43 - cmdstanpy - INFO - Chain [1] done processing\n",
      "19:38:43 - cmdstanpy - INFO - Chain [1] start processing\n",
      "19:38:43 - cmdstanpy - INFO - Chain [1] done processing\n",
      "Seasonality has period of 365.25 days which is larger than initial window. Consider increasing initial.\n"
     ]
    },
    {
     "data": {
      "application/vnd.jupyter.widget-view+json": {
       "model_id": "8b2d9ba5981943e183dc619910e59fd0",
       "version_major": 2,
       "version_minor": 0
      },
      "text/plain": [
       "  0%|          | 0/3 [00:00<?, ?it/s]"
      ]
     },
     "metadata": {},
     "output_type": "display_data"
    },
    {
     "name": "stderr",
     "output_type": "stream",
     "text": [
      "19:38:43 - cmdstanpy - INFO - Chain [1] start processing\n",
      "19:38:43 - cmdstanpy - INFO - Chain [1] done processing\n",
      "19:38:43 - cmdstanpy - INFO - Chain [1] start processing\n",
      "19:38:44 - cmdstanpy - INFO - Chain [1] done processing\n",
      "19:38:44 - cmdstanpy - INFO - Chain [1] start processing\n",
      "19:38:44 - cmdstanpy - INFO - Chain [1] done processing\n",
      "19:38:44 - cmdstanpy - INFO - Chain [1] start processing\n",
      "19:38:44 - cmdstanpy - INFO - Chain [1] done processing\n",
      "Seasonality has period of 365.25 days which is larger than initial window. Consider increasing initial.\n"
     ]
    },
    {
     "data": {
      "application/vnd.jupyter.widget-view+json": {
       "model_id": "41471f5a353e4026850a922c829c1752",
       "version_major": 2,
       "version_minor": 0
      },
      "text/plain": [
       "  0%|          | 0/3 [00:00<?, ?it/s]"
      ]
     },
     "metadata": {},
     "output_type": "display_data"
    },
    {
     "name": "stderr",
     "output_type": "stream",
     "text": [
      "19:38:45 - cmdstanpy - INFO - Chain [1] start processing\n",
      "19:38:45 - cmdstanpy - INFO - Chain [1] done processing\n",
      "19:38:45 - cmdstanpy - INFO - Chain [1] start processing\n",
      "19:38:45 - cmdstanpy - INFO - Chain [1] done processing\n",
      "19:38:45 - cmdstanpy - INFO - Chain [1] start processing\n",
      "19:38:45 - cmdstanpy - INFO - Chain [1] done processing\n",
      "19:38:46 - cmdstanpy - INFO - Chain [1] start processing\n",
      "19:38:46 - cmdstanpy - INFO - Chain [1] done processing\n",
      "Seasonality has period of 365.25 days which is larger than initial window. Consider increasing initial.\n"
     ]
    },
    {
     "data": {
      "application/vnd.jupyter.widget-view+json": {
       "model_id": "df8883c157f14bf4beab0379457ec7dd",
       "version_major": 2,
       "version_minor": 0
      },
      "text/plain": [
       "  0%|          | 0/3 [00:00<?, ?it/s]"
      ]
     },
     "metadata": {},
     "output_type": "display_data"
    },
    {
     "name": "stderr",
     "output_type": "stream",
     "text": [
      "19:38:46 - cmdstanpy - INFO - Chain [1] start processing\n",
      "19:38:46 - cmdstanpy - INFO - Chain [1] done processing\n",
      "19:38:46 - cmdstanpy - INFO - Chain [1] start processing\n",
      "19:38:46 - cmdstanpy - INFO - Chain [1] done processing\n",
      "19:38:47 - cmdstanpy - INFO - Chain [1] start processing\n",
      "19:38:47 - cmdstanpy - INFO - Chain [1] done processing\n",
      "19:38:47 - cmdstanpy - INFO - Chain [1] start processing\n",
      "19:38:47 - cmdstanpy - INFO - Chain [1] done processing\n",
      "Seasonality has period of 365.25 days which is larger than initial window. Consider increasing initial.\n"
     ]
    },
    {
     "data": {
      "application/vnd.jupyter.widget-view+json": {
       "model_id": "7d9e1741ba35411a905c82c097ca9bb5",
       "version_major": 2,
       "version_minor": 0
      },
      "text/plain": [
       "  0%|          | 0/3 [00:00<?, ?it/s]"
      ]
     },
     "metadata": {},
     "output_type": "display_data"
    },
    {
     "name": "stderr",
     "output_type": "stream",
     "text": [
      "19:38:47 - cmdstanpy - INFO - Chain [1] start processing\n",
      "19:38:48 - cmdstanpy - INFO - Chain [1] done processing\n",
      "19:38:48 - cmdstanpy - INFO - Chain [1] start processing\n",
      "19:38:48 - cmdstanpy - INFO - Chain [1] done processing\n",
      "19:38:48 - cmdstanpy - INFO - Chain [1] start processing\n",
      "19:38:48 - cmdstanpy - INFO - Chain [1] done processing\n",
      "19:38:49 - cmdstanpy - INFO - Chain [1] start processing\n",
      "19:38:49 - cmdstanpy - INFO - Chain [1] done processing\n",
      "Seasonality has period of 365.25 days which is larger than initial window. Consider increasing initial.\n"
     ]
    },
    {
     "data": {
      "application/vnd.jupyter.widget-view+json": {
       "model_id": "3aa88e1568fe4b6da8ee01d866abd85f",
       "version_major": 2,
       "version_minor": 0
      },
      "text/plain": [
       "  0%|          | 0/3 [00:00<?, ?it/s]"
      ]
     },
     "metadata": {},
     "output_type": "display_data"
    },
    {
     "name": "stderr",
     "output_type": "stream",
     "text": [
      "19:38:49 - cmdstanpy - INFO - Chain [1] start processing\n",
      "19:38:49 - cmdstanpy - INFO - Chain [1] done processing\n",
      "19:38:50 - cmdstanpy - INFO - Chain [1] start processing\n",
      "19:38:50 - cmdstanpy - INFO - Chain [1] done processing\n",
      "19:38:50 - cmdstanpy - INFO - Chain [1] start processing\n",
      "19:38:50 - cmdstanpy - INFO - Chain [1] done processing\n",
      "19:38:50 - cmdstanpy - INFO - Chain [1] start processing\n",
      "19:38:51 - cmdstanpy - INFO - Chain [1] done processing\n",
      "Seasonality has period of 365.25 days which is larger than initial window. Consider increasing initial.\n"
     ]
    },
    {
     "data": {
      "application/vnd.jupyter.widget-view+json": {
       "model_id": "1b1a983b529c4048b8b48ab2966741c7",
       "version_major": 2,
       "version_minor": 0
      },
      "text/plain": [
       "  0%|          | 0/3 [00:00<?, ?it/s]"
      ]
     },
     "metadata": {},
     "output_type": "display_data"
    },
    {
     "name": "stderr",
     "output_type": "stream",
     "text": [
      "19:38:51 - cmdstanpy - INFO - Chain [1] start processing\n",
      "19:38:51 - cmdstanpy - INFO - Chain [1] done processing\n",
      "19:38:51 - cmdstanpy - INFO - Chain [1] start processing\n",
      "19:38:51 - cmdstanpy - INFO - Chain [1] done processing\n",
      "19:38:51 - cmdstanpy - INFO - Chain [1] start processing\n",
      "19:38:52 - cmdstanpy - INFO - Chain [1] done processing\n",
      "19:38:52 - cmdstanpy - INFO - Chain [1] start processing\n",
      "19:38:52 - cmdstanpy - INFO - Chain [1] done processing\n",
      "Seasonality has period of 365.25 days which is larger than initial window. Consider increasing initial.\n"
     ]
    },
    {
     "data": {
      "application/vnd.jupyter.widget-view+json": {
       "model_id": "5b77de4f98dd45fbb265977486d7688d",
       "version_major": 2,
       "version_minor": 0
      },
      "text/plain": [
       "  0%|          | 0/3 [00:00<?, ?it/s]"
      ]
     },
     "metadata": {},
     "output_type": "display_data"
    },
    {
     "name": "stderr",
     "output_type": "stream",
     "text": [
      "19:38:52 - cmdstanpy - INFO - Chain [1] start processing\n",
      "19:38:52 - cmdstanpy - INFO - Chain [1] done processing\n",
      "19:38:53 - cmdstanpy - INFO - Chain [1] start processing\n",
      "19:38:53 - cmdstanpy - INFO - Chain [1] done processing\n",
      "19:38:53 - cmdstanpy - INFO - Chain [1] start processing\n",
      "19:38:53 - cmdstanpy - INFO - Chain [1] done processing\n",
      "19:38:53 - cmdstanpy - INFO - Chain [1] start processing\n",
      "19:38:54 - cmdstanpy - INFO - Chain [1] done processing\n",
      "Seasonality has period of 365.25 days which is larger than initial window. Consider increasing initial.\n"
     ]
    },
    {
     "data": {
      "application/vnd.jupyter.widget-view+json": {
       "model_id": "0ee21245f9084e1f8287bca57491b951",
       "version_major": 2,
       "version_minor": 0
      },
      "text/plain": [
       "  0%|          | 0/3 [00:00<?, ?it/s]"
      ]
     },
     "metadata": {},
     "output_type": "display_data"
    },
    {
     "name": "stderr",
     "output_type": "stream",
     "text": [
      "19:38:54 - cmdstanpy - INFO - Chain [1] start processing\n",
      "19:38:54 - cmdstanpy - INFO - Chain [1] done processing\n",
      "19:38:54 - cmdstanpy - INFO - Chain [1] start processing\n",
      "19:38:54 - cmdstanpy - INFO - Chain [1] done processing\n",
      "19:38:54 - cmdstanpy - INFO - Chain [1] start processing\n",
      "19:38:54 - cmdstanpy - INFO - Chain [1] done processing\n",
      "19:38:55 - cmdstanpy - INFO - Chain [1] start processing\n",
      "19:38:55 - cmdstanpy - INFO - Chain [1] done processing\n",
      "Seasonality has period of 365.25 days which is larger than initial window. Consider increasing initial.\n"
     ]
    },
    {
     "data": {
      "application/vnd.jupyter.widget-view+json": {
       "model_id": "fe0d41efe2cd457c9580af2a0beaa946",
       "version_major": 2,
       "version_minor": 0
      },
      "text/plain": [
       "  0%|          | 0/3 [00:00<?, ?it/s]"
      ]
     },
     "metadata": {},
     "output_type": "display_data"
    },
    {
     "name": "stderr",
     "output_type": "stream",
     "text": [
      "19:38:55 - cmdstanpy - INFO - Chain [1] start processing\n",
      "19:38:55 - cmdstanpy - INFO - Chain [1] done processing\n",
      "19:38:55 - cmdstanpy - INFO - Chain [1] start processing\n",
      "19:38:55 - cmdstanpy - INFO - Chain [1] done processing\n",
      "19:38:56 - cmdstanpy - INFO - Chain [1] start processing\n",
      "19:38:56 - cmdstanpy - INFO - Chain [1] done processing\n",
      "19:38:56 - cmdstanpy - INFO - Chain [1] start processing\n",
      "19:38:56 - cmdstanpy - INFO - Chain [1] done processing\n",
      "Seasonality has period of 365.25 days which is larger than initial window. Consider increasing initial.\n"
     ]
    },
    {
     "data": {
      "application/vnd.jupyter.widget-view+json": {
       "model_id": "95d16b7594d04858a66feebe1194b6ed",
       "version_major": 2,
       "version_minor": 0
      },
      "text/plain": [
       "  0%|          | 0/3 [00:00<?, ?it/s]"
      ]
     },
     "metadata": {},
     "output_type": "display_data"
    },
    {
     "name": "stderr",
     "output_type": "stream",
     "text": [
      "19:38:57 - cmdstanpy - INFO - Chain [1] start processing\n",
      "19:38:57 - cmdstanpy - INFO - Chain [1] done processing\n",
      "19:38:57 - cmdstanpy - INFO - Chain [1] start processing\n",
      "19:38:57 - cmdstanpy - INFO - Chain [1] done processing\n",
      "19:38:57 - cmdstanpy - INFO - Chain [1] start processing\n",
      "19:38:58 - cmdstanpy - INFO - Chain [1] done processing\n",
      "19:38:58 - cmdstanpy - INFO - Chain [1] start processing\n",
      "19:38:58 - cmdstanpy - INFO - Chain [1] done processing\n",
      "Seasonality has period of 365.25 days which is larger than initial window. Consider increasing initial.\n"
     ]
    },
    {
     "data": {
      "application/vnd.jupyter.widget-view+json": {
       "model_id": "9004ee128f5346989712095cc626de78",
       "version_major": 2,
       "version_minor": 0
      },
      "text/plain": [
       "  0%|          | 0/3 [00:00<?, ?it/s]"
      ]
     },
     "metadata": {},
     "output_type": "display_data"
    },
    {
     "name": "stderr",
     "output_type": "stream",
     "text": [
      "19:38:58 - cmdstanpy - INFO - Chain [1] start processing\n",
      "19:38:58 - cmdstanpy - INFO - Chain [1] done processing\n",
      "19:38:59 - cmdstanpy - INFO - Chain [1] start processing\n",
      "19:38:59 - cmdstanpy - INFO - Chain [1] done processing\n",
      "19:38:59 - cmdstanpy - INFO - Chain [1] start processing\n",
      "19:38:59 - cmdstanpy - INFO - Chain [1] done processing\n",
      "19:38:59 - cmdstanpy - INFO - Chain [1] start processing\n",
      "19:39:00 - cmdstanpy - INFO - Chain [1] done processing\n",
      "Seasonality has period of 365.25 days which is larger than initial window. Consider increasing initial.\n"
     ]
    },
    {
     "data": {
      "application/vnd.jupyter.widget-view+json": {
       "model_id": "46331e1bfcb44b3a9e9dd83270dc805e",
       "version_major": 2,
       "version_minor": 0
      },
      "text/plain": [
       "  0%|          | 0/3 [00:00<?, ?it/s]"
      ]
     },
     "metadata": {},
     "output_type": "display_data"
    },
    {
     "name": "stderr",
     "output_type": "stream",
     "text": [
      "19:39:00 - cmdstanpy - INFO - Chain [1] start processing\n",
      "19:39:00 - cmdstanpy - INFO - Chain [1] done processing\n",
      "19:39:00 - cmdstanpy - INFO - Chain [1] start processing\n",
      "19:39:00 - cmdstanpy - INFO - Chain [1] done processing\n",
      "19:39:01 - cmdstanpy - INFO - Chain [1] start processing\n",
      "19:39:01 - cmdstanpy - INFO - Chain [1] done processing\n",
      "19:39:01 - cmdstanpy - INFO - Chain [1] start processing\n",
      "19:39:01 - cmdstanpy - INFO - Chain [1] done processing\n",
      "Seasonality has period of 365.25 days which is larger than initial window. Consider increasing initial.\n"
     ]
    },
    {
     "data": {
      "application/vnd.jupyter.widget-view+json": {
       "model_id": "6ac1431d1ec3417486482397f4e7d3bd",
       "version_major": 2,
       "version_minor": 0
      },
      "text/plain": [
       "  0%|          | 0/3 [00:00<?, ?it/s]"
      ]
     },
     "metadata": {},
     "output_type": "display_data"
    },
    {
     "name": "stderr",
     "output_type": "stream",
     "text": [
      "19:39:01 - cmdstanpy - INFO - Chain [1] start processing\n",
      "19:39:01 - cmdstanpy - INFO - Chain [1] done processing\n",
      "19:39:02 - cmdstanpy - INFO - Chain [1] start processing\n",
      "19:39:02 - cmdstanpy - INFO - Chain [1] done processing\n",
      "19:39:02 - cmdstanpy - INFO - Chain [1] start processing\n",
      "19:39:02 - cmdstanpy - INFO - Chain [1] done processing\n",
      "19:39:02 - cmdstanpy - INFO - Chain [1] start processing\n",
      "19:39:03 - cmdstanpy - INFO - Chain [1] done processing\n",
      "Seasonality has period of 365.25 days which is larger than initial window. Consider increasing initial.\n"
     ]
    },
    {
     "data": {
      "application/vnd.jupyter.widget-view+json": {
       "model_id": "dbc6450bee454be485fec2d05232b8f9",
       "version_major": 2,
       "version_minor": 0
      },
      "text/plain": [
       "  0%|          | 0/3 [00:00<?, ?it/s]"
      ]
     },
     "metadata": {},
     "output_type": "display_data"
    },
    {
     "name": "stderr",
     "output_type": "stream",
     "text": [
      "19:39:03 - cmdstanpy - INFO - Chain [1] start processing\n",
      "19:39:03 - cmdstanpy - INFO - Chain [1] done processing\n",
      "19:39:03 - cmdstanpy - INFO - Chain [1] start processing\n",
      "19:39:03 - cmdstanpy - INFO - Chain [1] done processing\n",
      "19:39:03 - cmdstanpy - INFO - Chain [1] start processing\n",
      "19:39:03 - cmdstanpy - INFO - Chain [1] done processing\n",
      "19:39:04 - cmdstanpy - INFO - Chain [1] start processing\n",
      "19:39:04 - cmdstanpy - INFO - Chain [1] done processing\n",
      "Seasonality has period of 365.25 days which is larger than initial window. Consider increasing initial.\n"
     ]
    },
    {
     "data": {
      "application/vnd.jupyter.widget-view+json": {
       "model_id": "9763084ff9af4d39b51883a51924c12e",
       "version_major": 2,
       "version_minor": 0
      },
      "text/plain": [
       "  0%|          | 0/3 [00:00<?, ?it/s]"
      ]
     },
     "metadata": {},
     "output_type": "display_data"
    },
    {
     "name": "stderr",
     "output_type": "stream",
     "text": [
      "19:39:04 - cmdstanpy - INFO - Chain [1] start processing\n",
      "19:39:04 - cmdstanpy - INFO - Chain [1] done processing\n",
      "19:39:05 - cmdstanpy - INFO - Chain [1] start processing\n",
      "19:39:05 - cmdstanpy - INFO - Chain [1] done processing\n",
      "19:39:05 - cmdstanpy - INFO - Chain [1] start processing\n",
      "19:39:05 - cmdstanpy - INFO - Chain [1] done processing\n",
      "19:39:05 - cmdstanpy - INFO - Chain [1] start processing\n",
      "19:39:06 - cmdstanpy - INFO - Chain [1] done processing\n",
      "Seasonality has period of 365.25 days which is larger than initial window. Consider increasing initial.\n"
     ]
    },
    {
     "data": {
      "application/vnd.jupyter.widget-view+json": {
       "model_id": "0f37d3fb8fdf4302aba46a0991f08732",
       "version_major": 2,
       "version_minor": 0
      },
      "text/plain": [
       "  0%|          | 0/3 [00:00<?, ?it/s]"
      ]
     },
     "metadata": {},
     "output_type": "display_data"
    },
    {
     "name": "stderr",
     "output_type": "stream",
     "text": [
      "19:39:06 - cmdstanpy - INFO - Chain [1] start processing\n",
      "19:39:06 - cmdstanpy - INFO - Chain [1] done processing\n",
      "19:39:06 - cmdstanpy - INFO - Chain [1] start processing\n",
      "19:39:06 - cmdstanpy - INFO - Chain [1] done processing\n",
      "19:39:07 - cmdstanpy - INFO - Chain [1] start processing\n",
      "19:39:07 - cmdstanpy - INFO - Chain [1] done processing\n",
      "19:39:07 - cmdstanpy - INFO - Chain [1] start processing\n",
      "19:39:07 - cmdstanpy - INFO - Chain [1] done processing\n",
      "Seasonality has period of 365.25 days which is larger than initial window. Consider increasing initial.\n"
     ]
    },
    {
     "data": {
      "application/vnd.jupyter.widget-view+json": {
       "model_id": "0df34b0d8dad49a28618032f0e39d8df",
       "version_major": 2,
       "version_minor": 0
      },
      "text/plain": [
       "  0%|          | 0/3 [00:00<?, ?it/s]"
      ]
     },
     "metadata": {},
     "output_type": "display_data"
    },
    {
     "name": "stderr",
     "output_type": "stream",
     "text": [
      "19:39:07 - cmdstanpy - INFO - Chain [1] start processing\n",
      "19:39:07 - cmdstanpy - INFO - Chain [1] done processing\n",
      "19:39:08 - cmdstanpy - INFO - Chain [1] start processing\n",
      "19:39:08 - cmdstanpy - INFO - Chain [1] done processing\n",
      "19:39:08 - cmdstanpy - INFO - Chain [1] start processing\n",
      "19:39:08 - cmdstanpy - INFO - Chain [1] done processing\n",
      "19:39:09 - cmdstanpy - INFO - Chain [1] start processing\n",
      "19:39:09 - cmdstanpy - INFO - Chain [1] done processing\n",
      "Seasonality has period of 365.25 days which is larger than initial window. Consider increasing initial.\n"
     ]
    },
    {
     "data": {
      "application/vnd.jupyter.widget-view+json": {
       "model_id": "e6c63eaeccb546ca9118e20cbacfaa6b",
       "version_major": 2,
       "version_minor": 0
      },
      "text/plain": [
       "  0%|          | 0/3 [00:00<?, ?it/s]"
      ]
     },
     "metadata": {},
     "output_type": "display_data"
    },
    {
     "name": "stderr",
     "output_type": "stream",
     "text": [
      "19:39:09 - cmdstanpy - INFO - Chain [1] start processing\n",
      "19:39:09 - cmdstanpy - INFO - Chain [1] done processing\n",
      "19:39:09 - cmdstanpy - INFO - Chain [1] start processing\n",
      "19:39:09 - cmdstanpy - INFO - Chain [1] done processing\n",
      "19:39:10 - cmdstanpy - INFO - Chain [1] start processing\n",
      "19:39:10 - cmdstanpy - INFO - Chain [1] done processing\n",
      "19:39:10 - cmdstanpy - INFO - Chain [1] start processing\n",
      "19:39:10 - cmdstanpy - INFO - Chain [1] done processing\n",
      "Seasonality has period of 365.25 days which is larger than initial window. Consider increasing initial.\n"
     ]
    },
    {
     "data": {
      "application/vnd.jupyter.widget-view+json": {
       "model_id": "24db8928723b4b96bea2b8210f71f12b",
       "version_major": 2,
       "version_minor": 0
      },
      "text/plain": [
       "  0%|          | 0/3 [00:00<?, ?it/s]"
      ]
     },
     "metadata": {},
     "output_type": "display_data"
    },
    {
     "name": "stderr",
     "output_type": "stream",
     "text": [
      "19:39:11 - cmdstanpy - INFO - Chain [1] start processing\n",
      "19:39:11 - cmdstanpy - INFO - Chain [1] done processing\n",
      "19:39:11 - cmdstanpy - INFO - Chain [1] start processing\n",
      "19:39:11 - cmdstanpy - INFO - Chain [1] done processing\n",
      "19:39:11 - cmdstanpy - INFO - Chain [1] start processing\n",
      "19:39:11 - cmdstanpy - INFO - Chain [1] done processing\n",
      "19:39:12 - cmdstanpy - INFO - Chain [1] start processing\n",
      "19:39:12 - cmdstanpy - INFO - Chain [1] done processing\n",
      "Seasonality has period of 365.25 days which is larger than initial window. Consider increasing initial.\n"
     ]
    },
    {
     "data": {
      "application/vnd.jupyter.widget-view+json": {
       "model_id": "375b7792d9a246bcb644b65734ceff04",
       "version_major": 2,
       "version_minor": 0
      },
      "text/plain": [
       "  0%|          | 0/3 [00:00<?, ?it/s]"
      ]
     },
     "metadata": {},
     "output_type": "display_data"
    },
    {
     "name": "stderr",
     "output_type": "stream",
     "text": [
      "19:39:12 - cmdstanpy - INFO - Chain [1] start processing\n",
      "19:39:12 - cmdstanpy - INFO - Chain [1] done processing\n",
      "19:39:12 - cmdstanpy - INFO - Chain [1] start processing\n",
      "19:39:13 - cmdstanpy - INFO - Chain [1] done processing\n",
      "19:39:13 - cmdstanpy - INFO - Chain [1] start processing\n",
      "19:39:13 - cmdstanpy - INFO - Chain [1] done processing\n",
      "19:39:13 - cmdstanpy - INFO - Chain [1] start processing\n",
      "19:39:14 - cmdstanpy - INFO - Chain [1] done processing\n",
      "Seasonality has period of 365.25 days which is larger than initial window. Consider increasing initial.\n"
     ]
    },
    {
     "data": {
      "application/vnd.jupyter.widget-view+json": {
       "model_id": "c9cb3ac2d05a4a09b11568e1a98d4fe5",
       "version_major": 2,
       "version_minor": 0
      },
      "text/plain": [
       "  0%|          | 0/3 [00:00<?, ?it/s]"
      ]
     },
     "metadata": {},
     "output_type": "display_data"
    },
    {
     "name": "stderr",
     "output_type": "stream",
     "text": [
      "19:39:14 - cmdstanpy - INFO - Chain [1] start processing\n",
      "19:39:14 - cmdstanpy - INFO - Chain [1] done processing\n",
      "19:39:14 - cmdstanpy - INFO - Chain [1] start processing\n",
      "19:39:14 - cmdstanpy - INFO - Chain [1] done processing\n",
      "19:39:14 - cmdstanpy - INFO - Chain [1] start processing\n",
      "19:39:15 - cmdstanpy - INFO - Chain [1] done processing\n",
      "19:39:15 - cmdstanpy - INFO - Chain [1] start processing\n",
      "19:39:15 - cmdstanpy - INFO - Chain [1] done processing\n",
      "Seasonality has period of 365.25 days which is larger than initial window. Consider increasing initial.\n"
     ]
    },
    {
     "data": {
      "application/vnd.jupyter.widget-view+json": {
       "model_id": "0db2e31f283840af845fdc64bc2a6ff8",
       "version_major": 2,
       "version_minor": 0
      },
      "text/plain": [
       "  0%|          | 0/3 [00:00<?, ?it/s]"
      ]
     },
     "metadata": {},
     "output_type": "display_data"
    },
    {
     "name": "stderr",
     "output_type": "stream",
     "text": [
      "19:39:15 - cmdstanpy - INFO - Chain [1] start processing\n",
      "19:39:15 - cmdstanpy - INFO - Chain [1] done processing\n",
      "19:39:16 - cmdstanpy - INFO - Chain [1] start processing\n",
      "19:39:16 - cmdstanpy - INFO - Chain [1] done processing\n",
      "19:39:16 - cmdstanpy - INFO - Chain [1] start processing\n",
      "19:39:16 - cmdstanpy - INFO - Chain [1] done processing\n",
      "19:39:17 - cmdstanpy - INFO - Chain [1] start processing\n",
      "19:39:17 - cmdstanpy - INFO - Chain [1] done processing\n",
      "Seasonality has period of 365.25 days which is larger than initial window. Consider increasing initial.\n"
     ]
    },
    {
     "data": {
      "application/vnd.jupyter.widget-view+json": {
       "model_id": "b7ed29f3c2084fbcbbfacee10d22712e",
       "version_major": 2,
       "version_minor": 0
      },
      "text/plain": [
       "  0%|          | 0/3 [00:00<?, ?it/s]"
      ]
     },
     "metadata": {},
     "output_type": "display_data"
    },
    {
     "name": "stderr",
     "output_type": "stream",
     "text": [
      "19:39:17 - cmdstanpy - INFO - Chain [1] start processing\n",
      "19:39:17 - cmdstanpy - INFO - Chain [1] done processing\n",
      "19:39:18 - cmdstanpy - INFO - Chain [1] start processing\n",
      "19:39:18 - cmdstanpy - INFO - Chain [1] done processing\n",
      "19:39:18 - cmdstanpy - INFO - Chain [1] start processing\n",
      "19:39:18 - cmdstanpy - INFO - Chain [1] done processing\n",
      "19:39:18 - cmdstanpy - INFO - Chain [1] start processing\n",
      "19:39:19 - cmdstanpy - INFO - Chain [1] done processing\n",
      "Seasonality has period of 365.25 days which is larger than initial window. Consider increasing initial.\n"
     ]
    },
    {
     "data": {
      "application/vnd.jupyter.widget-view+json": {
       "model_id": "72b2e2d5fabb4bd280200ad4287fbd20",
       "version_major": 2,
       "version_minor": 0
      },
      "text/plain": [
       "  0%|          | 0/3 [00:00<?, ?it/s]"
      ]
     },
     "metadata": {},
     "output_type": "display_data"
    },
    {
     "name": "stderr",
     "output_type": "stream",
     "text": [
      "19:39:19 - cmdstanpy - INFO - Chain [1] start processing\n",
      "19:39:19 - cmdstanpy - INFO - Chain [1] done processing\n",
      "19:39:19 - cmdstanpy - INFO - Chain [1] start processing\n",
      "19:39:19 - cmdstanpy - INFO - Chain [1] done processing\n",
      "19:39:20 - cmdstanpy - INFO - Chain [1] start processing\n",
      "19:39:20 - cmdstanpy - INFO - Chain [1] done processing\n",
      "19:39:20 - cmdstanpy - INFO - Chain [1] start processing\n",
      "19:39:20 - cmdstanpy - INFO - Chain [1] done processing\n",
      "Seasonality has period of 365.25 days which is larger than initial window. Consider increasing initial.\n"
     ]
    },
    {
     "data": {
      "application/vnd.jupyter.widget-view+json": {
       "model_id": "923a404a015d4746b9ff464767b7a595",
       "version_major": 2,
       "version_minor": 0
      },
      "text/plain": [
       "  0%|          | 0/3 [00:00<?, ?it/s]"
      ]
     },
     "metadata": {},
     "output_type": "display_data"
    },
    {
     "name": "stderr",
     "output_type": "stream",
     "text": [
      "19:39:21 - cmdstanpy - INFO - Chain [1] start processing\n",
      "19:39:21 - cmdstanpy - INFO - Chain [1] done processing\n",
      "19:39:21 - cmdstanpy - INFO - Chain [1] start processing\n",
      "19:39:21 - cmdstanpy - INFO - Chain [1] done processing\n",
      "19:39:21 - cmdstanpy - INFO - Chain [1] start processing\n",
      "19:39:21 - cmdstanpy - INFO - Chain [1] done processing\n",
      "19:39:22 - cmdstanpy - INFO - Chain [1] start processing\n",
      "19:39:22 - cmdstanpy - INFO - Chain [1] done processing\n",
      "Seasonality has period of 365.25 days which is larger than initial window. Consider increasing initial.\n"
     ]
    },
    {
     "data": {
      "application/vnd.jupyter.widget-view+json": {
       "model_id": "f7eaf1c7748a4479b7ed2ed881687f98",
       "version_major": 2,
       "version_minor": 0
      },
      "text/plain": [
       "  0%|          | 0/3 [00:00<?, ?it/s]"
      ]
     },
     "metadata": {},
     "output_type": "display_data"
    },
    {
     "name": "stderr",
     "output_type": "stream",
     "text": [
      "19:39:22 - cmdstanpy - INFO - Chain [1] start processing\n",
      "19:39:22 - cmdstanpy - INFO - Chain [1] done processing\n",
      "19:39:22 - cmdstanpy - INFO - Chain [1] start processing\n",
      "19:39:23 - cmdstanpy - INFO - Chain [1] done processing\n",
      "19:39:23 - cmdstanpy - INFO - Chain [1] start processing\n",
      "19:39:23 - cmdstanpy - INFO - Chain [1] done processing\n",
      "19:39:23 - cmdstanpy - INFO - Chain [1] start processing\n",
      "19:39:24 - cmdstanpy - INFO - Chain [1] done processing\n",
      "Seasonality has period of 365.25 days which is larger than initial window. Consider increasing initial.\n"
     ]
    },
    {
     "data": {
      "application/vnd.jupyter.widget-view+json": {
       "model_id": "9bb728fa22524513ae87292ab1d75d61",
       "version_major": 2,
       "version_minor": 0
      },
      "text/plain": [
       "  0%|          | 0/3 [00:00<?, ?it/s]"
      ]
     },
     "metadata": {},
     "output_type": "display_data"
    },
    {
     "name": "stderr",
     "output_type": "stream",
     "text": [
      "19:39:24 - cmdstanpy - INFO - Chain [1] start processing\n",
      "19:39:24 - cmdstanpy - INFO - Chain [1] done processing\n",
      "19:39:24 - cmdstanpy - INFO - Chain [1] start processing\n",
      "19:39:24 - cmdstanpy - INFO - Chain [1] done processing\n",
      "19:39:25 - cmdstanpy - INFO - Chain [1] start processing\n",
      "19:39:25 - cmdstanpy - INFO - Chain [1] done processing\n",
      "19:39:25 - cmdstanpy - INFO - Chain [1] start processing\n",
      "19:39:26 - cmdstanpy - INFO - Chain [1] done processing\n",
      "Seasonality has period of 365.25 days which is larger than initial window. Consider increasing initial.\n"
     ]
    },
    {
     "data": {
      "application/vnd.jupyter.widget-view+json": {
       "model_id": "7e703b46c287433ca44fccd1402f386c",
       "version_major": 2,
       "version_minor": 0
      },
      "text/plain": [
       "  0%|          | 0/3 [00:00<?, ?it/s]"
      ]
     },
     "metadata": {},
     "output_type": "display_data"
    },
    {
     "name": "stderr",
     "output_type": "stream",
     "text": [
      "19:39:26 - cmdstanpy - INFO - Chain [1] start processing\n",
      "19:39:26 - cmdstanpy - INFO - Chain [1] done processing\n",
      "19:39:26 - cmdstanpy - INFO - Chain [1] start processing\n",
      "19:39:26 - cmdstanpy - INFO - Chain [1] done processing\n",
      "19:39:27 - cmdstanpy - INFO - Chain [1] start processing\n",
      "19:39:27 - cmdstanpy - INFO - Chain [1] done processing\n",
      "19:39:27 - cmdstanpy - INFO - Chain [1] start processing\n",
      "19:39:28 - cmdstanpy - INFO - Chain [1] done processing\n",
      "Seasonality has period of 365.25 days which is larger than initial window. Consider increasing initial.\n"
     ]
    },
    {
     "data": {
      "application/vnd.jupyter.widget-view+json": {
       "model_id": "f8b86699ebc84eef93fecf7fd0340a18",
       "version_major": 2,
       "version_minor": 0
      },
      "text/plain": [
       "  0%|          | 0/3 [00:00<?, ?it/s]"
      ]
     },
     "metadata": {},
     "output_type": "display_data"
    },
    {
     "name": "stderr",
     "output_type": "stream",
     "text": [
      "19:39:28 - cmdstanpy - INFO - Chain [1] start processing\n",
      "19:39:28 - cmdstanpy - INFO - Chain [1] done processing\n",
      "19:39:28 - cmdstanpy - INFO - Chain [1] start processing\n",
      "19:39:28 - cmdstanpy - INFO - Chain [1] done processing\n",
      "19:39:29 - cmdstanpy - INFO - Chain [1] start processing\n",
      "19:39:29 - cmdstanpy - INFO - Chain [1] done processing\n",
      "19:39:29 - cmdstanpy - INFO - Chain [1] start processing\n",
      "19:39:29 - cmdstanpy - INFO - Chain [1] done processing\n",
      "Seasonality has period of 365.25 days which is larger than initial window. Consider increasing initial.\n"
     ]
    },
    {
     "data": {
      "application/vnd.jupyter.widget-view+json": {
       "model_id": "14cf6e3810fd4fe08ddcbc69e5316905",
       "version_major": 2,
       "version_minor": 0
      },
      "text/plain": [
       "  0%|          | 0/3 [00:00<?, ?it/s]"
      ]
     },
     "metadata": {},
     "output_type": "display_data"
    },
    {
     "name": "stderr",
     "output_type": "stream",
     "text": [
      "19:39:29 - cmdstanpy - INFO - Chain [1] start processing\n",
      "19:39:30 - cmdstanpy - INFO - Chain [1] done processing\n",
      "19:39:30 - cmdstanpy - INFO - Chain [1] start processing\n",
      "19:39:30 - cmdstanpy - INFO - Chain [1] done processing\n",
      "19:39:30 - cmdstanpy - INFO - Chain [1] start processing\n",
      "19:39:30 - cmdstanpy - INFO - Chain [1] done processing\n",
      "19:39:31 - cmdstanpy - INFO - Chain [1] start processing\n",
      "19:39:31 - cmdstanpy - INFO - Chain [1] done processing\n",
      "Seasonality has period of 365.25 days which is larger than initial window. Consider increasing initial.\n"
     ]
    },
    {
     "data": {
      "application/vnd.jupyter.widget-view+json": {
       "model_id": "4abcb18fb1634fbc83bb2956478171f0",
       "version_major": 2,
       "version_minor": 0
      },
      "text/plain": [
       "  0%|          | 0/3 [00:00<?, ?it/s]"
      ]
     },
     "metadata": {},
     "output_type": "display_data"
    },
    {
     "name": "stderr",
     "output_type": "stream",
     "text": [
      "19:39:31 - cmdstanpy - INFO - Chain [1] start processing\n",
      "19:39:31 - cmdstanpy - INFO - Chain [1] done processing\n",
      "19:39:32 - cmdstanpy - INFO - Chain [1] start processing\n",
      "19:39:32 - cmdstanpy - INFO - Chain [1] done processing\n",
      "19:39:32 - cmdstanpy - INFO - Chain [1] start processing\n",
      "19:39:32 - cmdstanpy - INFO - Chain [1] done processing\n",
      "19:39:33 - cmdstanpy - INFO - Chain [1] start processing\n",
      "19:39:33 - cmdstanpy - INFO - Chain [1] done processing\n",
      "Seasonality has period of 365.25 days which is larger than initial window. Consider increasing initial.\n"
     ]
    },
    {
     "data": {
      "application/vnd.jupyter.widget-view+json": {
       "model_id": "ec12fdd50622497e89cfc74bc7c64556",
       "version_major": 2,
       "version_minor": 0
      },
      "text/plain": [
       "  0%|          | 0/3 [00:00<?, ?it/s]"
      ]
     },
     "metadata": {},
     "output_type": "display_data"
    },
    {
     "name": "stderr",
     "output_type": "stream",
     "text": [
      "19:39:33 - cmdstanpy - INFO - Chain [1] start processing\n",
      "19:39:33 - cmdstanpy - INFO - Chain [1] done processing\n",
      "19:39:33 - cmdstanpy - INFO - Chain [1] start processing\n",
      "19:39:34 - cmdstanpy - INFO - Chain [1] done processing\n",
      "19:39:34 - cmdstanpy - INFO - Chain [1] start processing\n",
      "19:39:34 - cmdstanpy - INFO - Chain [1] done processing\n",
      "19:39:35 - cmdstanpy - INFO - Chain [1] start processing\n",
      "19:39:35 - cmdstanpy - INFO - Chain [1] done processing\n",
      "Seasonality has period of 365.25 days which is larger than initial window. Consider increasing initial.\n"
     ]
    },
    {
     "data": {
      "application/vnd.jupyter.widget-view+json": {
       "model_id": "34f4c4ed32fc43ebbc726a3d6016eaa5",
       "version_major": 2,
       "version_minor": 0
      },
      "text/plain": [
       "  0%|          | 0/3 [00:00<?, ?it/s]"
      ]
     },
     "metadata": {},
     "output_type": "display_data"
    },
    {
     "name": "stderr",
     "output_type": "stream",
     "text": [
      "19:39:35 - cmdstanpy - INFO - Chain [1] start processing\n",
      "19:39:35 - cmdstanpy - INFO - Chain [1] done processing\n",
      "19:39:35 - cmdstanpy - INFO - Chain [1] start processing\n",
      "19:39:36 - cmdstanpy - INFO - Chain [1] done processing\n",
      "19:39:36 - cmdstanpy - INFO - Chain [1] start processing\n",
      "19:39:36 - cmdstanpy - INFO - Chain [1] done processing\n",
      "19:39:36 - cmdstanpy - INFO - Chain [1] start processing\n",
      "19:39:37 - cmdstanpy - INFO - Chain [1] done processing\n",
      "Seasonality has period of 365.25 days which is larger than initial window. Consider increasing initial.\n"
     ]
    },
    {
     "data": {
      "application/vnd.jupyter.widget-view+json": {
       "model_id": "257d3a4f195b455f85b13ecf5c695031",
       "version_major": 2,
       "version_minor": 0
      },
      "text/plain": [
       "  0%|          | 0/3 [00:00<?, ?it/s]"
      ]
     },
     "metadata": {},
     "output_type": "display_data"
    },
    {
     "name": "stderr",
     "output_type": "stream",
     "text": [
      "19:39:37 - cmdstanpy - INFO - Chain [1] start processing\n",
      "19:39:37 - cmdstanpy - INFO - Chain [1] done processing\n",
      "19:39:37 - cmdstanpy - INFO - Chain [1] start processing\n",
      "19:39:37 - cmdstanpy - INFO - Chain [1] done processing\n",
      "19:39:38 - cmdstanpy - INFO - Chain [1] start processing\n",
      "19:39:38 - cmdstanpy - INFO - Chain [1] done processing\n",
      "19:39:38 - cmdstanpy - INFO - Chain [1] start processing\n",
      "19:39:39 - cmdstanpy - INFO - Chain [1] done processing\n",
      "Seasonality has period of 365.25 days which is larger than initial window. Consider increasing initial.\n"
     ]
    },
    {
     "data": {
      "application/vnd.jupyter.widget-view+json": {
       "model_id": "88d1960883a04302a5327a6f0cf2fd89",
       "version_major": 2,
       "version_minor": 0
      },
      "text/plain": [
       "  0%|          | 0/3 [00:00<?, ?it/s]"
      ]
     },
     "metadata": {},
     "output_type": "display_data"
    },
    {
     "name": "stderr",
     "output_type": "stream",
     "text": [
      "19:39:39 - cmdstanpy - INFO - Chain [1] start processing\n",
      "19:39:39 - cmdstanpy - INFO - Chain [1] done processing\n",
      "19:39:39 - cmdstanpy - INFO - Chain [1] start processing\n",
      "19:39:39 - cmdstanpy - INFO - Chain [1] done processing\n",
      "19:39:40 - cmdstanpy - INFO - Chain [1] start processing\n",
      "19:39:40 - cmdstanpy - INFO - Chain [1] done processing\n",
      "19:39:40 - cmdstanpy - INFO - Chain [1] start processing\n",
      "19:39:40 - cmdstanpy - INFO - Chain [1] done processing\n",
      "Seasonality has period of 365.25 days which is larger than initial window. Consider increasing initial.\n"
     ]
    },
    {
     "data": {
      "application/vnd.jupyter.widget-view+json": {
       "model_id": "6914d6e89b2e410a9ba05a771880c581",
       "version_major": 2,
       "version_minor": 0
      },
      "text/plain": [
       "  0%|          | 0/3 [00:00<?, ?it/s]"
      ]
     },
     "metadata": {},
     "output_type": "display_data"
    },
    {
     "name": "stderr",
     "output_type": "stream",
     "text": [
      "19:39:41 - cmdstanpy - INFO - Chain [1] start processing\n",
      "19:39:41 - cmdstanpy - INFO - Chain [1] done processing\n",
      "19:39:41 - cmdstanpy - INFO - Chain [1] start processing\n",
      "19:39:41 - cmdstanpy - INFO - Chain [1] done processing\n",
      "19:39:41 - cmdstanpy - INFO - Chain [1] start processing\n",
      "19:39:42 - cmdstanpy - INFO - Chain [1] done processing\n",
      "19:39:42 - cmdstanpy - INFO - Chain [1] start processing\n",
      "19:39:42 - cmdstanpy - INFO - Chain [1] done processing\n",
      "Seasonality has period of 365.25 days which is larger than initial window. Consider increasing initial.\n"
     ]
    },
    {
     "data": {
      "application/vnd.jupyter.widget-view+json": {
       "model_id": "3364066263354072a034396f8e1383c8",
       "version_major": 2,
       "version_minor": 0
      },
      "text/plain": [
       "  0%|          | 0/3 [00:00<?, ?it/s]"
      ]
     },
     "metadata": {},
     "output_type": "display_data"
    },
    {
     "name": "stderr",
     "output_type": "stream",
     "text": [
      "19:39:42 - cmdstanpy - INFO - Chain [1] start processing\n",
      "19:39:43 - cmdstanpy - INFO - Chain [1] done processing\n",
      "19:39:43 - cmdstanpy - INFO - Chain [1] start processing\n",
      "19:39:43 - cmdstanpy - INFO - Chain [1] done processing\n",
      "19:39:43 - cmdstanpy - INFO - Chain [1] start processing\n",
      "19:39:43 - cmdstanpy - INFO - Chain [1] done processing\n",
      "19:39:44 - cmdstanpy - INFO - Chain [1] start processing\n",
      "19:39:44 - cmdstanpy - INFO - Chain [1] done processing\n",
      "Seasonality has period of 365.25 days which is larger than initial window. Consider increasing initial.\n"
     ]
    },
    {
     "data": {
      "application/vnd.jupyter.widget-view+json": {
       "model_id": "a6d33fd50b0348b38a066dcffa547a58",
       "version_major": 2,
       "version_minor": 0
      },
      "text/plain": [
       "  0%|          | 0/3 [00:00<?, ?it/s]"
      ]
     },
     "metadata": {},
     "output_type": "display_data"
    },
    {
     "name": "stderr",
     "output_type": "stream",
     "text": [
      "19:39:44 - cmdstanpy - INFO - Chain [1] start processing\n",
      "19:39:44 - cmdstanpy - INFO - Chain [1] done processing\n",
      "19:39:44 - cmdstanpy - INFO - Chain [1] start processing\n",
      "19:39:45 - cmdstanpy - INFO - Chain [1] done processing\n",
      "19:39:45 - cmdstanpy - INFO - Chain [1] start processing\n",
      "19:39:45 - cmdstanpy - INFO - Chain [1] done processing\n",
      "19:39:46 - cmdstanpy - INFO - Chain [1] start processing\n"
     ]
    },
    {
     "name": "stdout",
     "output_type": "stream",
     "text": [
      "Best parameters: params    {'changepoint_prior_scale': 0.4, 'holidays_pri...\n",
      "MAPE                                               0.038292\n",
      "Name: 27, dtype: object\n"
     ]
    },
    {
     "name": "stderr",
     "output_type": "stream",
     "text": [
      "19:39:46 - cmdstanpy - INFO - Chain [1] done processing\n",
      "19:39:46 - cmdstanpy - INFO - Chain [1] start processing\n"
     ]
    },
    {
     "name": "stdout",
     "output_type": "stream",
     "text": [
      "           y          ds\n",
      "2386  4154.0  2020-12-05\n",
      "2387  4016.0  2020-12-06\n",
      "2388  3917.0  2020-12-07\n",
      "2389  4038.0  2020-12-08\n",
      "2390  4017.0  2020-12-09\n"
     ]
    },
    {
     "name": "stderr",
     "output_type": "stream",
     "text": [
      "19:39:46 - cmdstanpy - INFO - Chain [1] done processing\n",
      "Seasonality has period of 365.25 days which is larger than initial window. Consider increasing initial.\n"
     ]
    },
    {
     "data": {
      "application/vnd.jupyter.widget-view+json": {
       "model_id": "c23c1f30653a460d879f89fac6d33078",
       "version_major": 2,
       "version_minor": 0
      },
      "text/plain": [
       "  0%|          | 0/3 [00:00<?, ?it/s]"
      ]
     },
     "metadata": {},
     "output_type": "display_data"
    },
    {
     "name": "stderr",
     "output_type": "stream",
     "text": [
      "19:39:46 - cmdstanpy - INFO - Chain [1] start processing\n",
      "19:39:46 - cmdstanpy - INFO - Chain [1] done processing\n",
      "19:39:47 - cmdstanpy - INFO - Chain [1] start processing\n",
      "19:39:47 - cmdstanpy - INFO - Chain [1] done processing\n",
      "19:39:47 - cmdstanpy - INFO - Chain [1] start processing\n",
      "19:39:47 - cmdstanpy - INFO - Chain [1] done processing\n",
      "19:39:48 - cmdstanpy - INFO - Chain [1] start processing\n",
      "19:39:48 - cmdstanpy - INFO - Chain [1] done processing\n",
      "Seasonality has period of 365.25 days which is larger than initial window. Consider increasing initial.\n"
     ]
    },
    {
     "data": {
      "application/vnd.jupyter.widget-view+json": {
       "model_id": "3fff3bf971be45cf805d982db1fa4b71",
       "version_major": 2,
       "version_minor": 0
      },
      "text/plain": [
       "  0%|          | 0/3 [00:00<?, ?it/s]"
      ]
     },
     "metadata": {},
     "output_type": "display_data"
    },
    {
     "name": "stderr",
     "output_type": "stream",
     "text": [
      "19:39:48 - cmdstanpy - INFO - Chain [1] start processing\n",
      "19:39:48 - cmdstanpy - INFO - Chain [1] done processing\n",
      "19:39:48 - cmdstanpy - INFO - Chain [1] start processing\n",
      "19:39:48 - cmdstanpy - INFO - Chain [1] done processing\n",
      "19:39:49 - cmdstanpy - INFO - Chain [1] start processing\n",
      "19:39:49 - cmdstanpy - INFO - Chain [1] done processing\n",
      "19:39:49 - cmdstanpy - INFO - Chain [1] start processing\n",
      "19:39:49 - cmdstanpy - INFO - Chain [1] done processing\n",
      "Seasonality has period of 365.25 days which is larger than initial window. Consider increasing initial.\n"
     ]
    },
    {
     "data": {
      "application/vnd.jupyter.widget-view+json": {
       "model_id": "d07ecf1880e84daf92b8145f7069f308",
       "version_major": 2,
       "version_minor": 0
      },
      "text/plain": [
       "  0%|          | 0/3 [00:00<?, ?it/s]"
      ]
     },
     "metadata": {},
     "output_type": "display_data"
    },
    {
     "name": "stderr",
     "output_type": "stream",
     "text": [
      "19:39:49 - cmdstanpy - INFO - Chain [1] start processing\n",
      "19:39:49 - cmdstanpy - INFO - Chain [1] done processing\n",
      "19:39:50 - cmdstanpy - INFO - Chain [1] start processing\n",
      "19:39:50 - cmdstanpy - INFO - Chain [1] done processing\n",
      "19:39:50 - cmdstanpy - INFO - Chain [1] start processing\n",
      "19:39:50 - cmdstanpy - INFO - Chain [1] done processing\n",
      "19:39:50 - cmdstanpy - INFO - Chain [1] start processing\n",
      "19:39:51 - cmdstanpy - INFO - Chain [1] done processing\n",
      "Seasonality has period of 365.25 days which is larger than initial window. Consider increasing initial.\n"
     ]
    },
    {
     "data": {
      "application/vnd.jupyter.widget-view+json": {
       "model_id": "b39a65998a3b482aa0a7f1ac96fefc4f",
       "version_major": 2,
       "version_minor": 0
      },
      "text/plain": [
       "  0%|          | 0/3 [00:00<?, ?it/s]"
      ]
     },
     "metadata": {},
     "output_type": "display_data"
    },
    {
     "name": "stderr",
     "output_type": "stream",
     "text": [
      "19:39:51 - cmdstanpy - INFO - Chain [1] start processing\n",
      "19:39:51 - cmdstanpy - INFO - Chain [1] done processing\n",
      "19:39:51 - cmdstanpy - INFO - Chain [1] start processing\n",
      "19:39:51 - cmdstanpy - INFO - Chain [1] done processing\n",
      "19:39:51 - cmdstanpy - INFO - Chain [1] start processing\n",
      "19:39:52 - cmdstanpy - INFO - Chain [1] done processing\n",
      "19:39:52 - cmdstanpy - INFO - Chain [1] start processing\n",
      "19:39:52 - cmdstanpy - INFO - Chain [1] done processing\n",
      "Seasonality has period of 365.25 days which is larger than initial window. Consider increasing initial.\n"
     ]
    },
    {
     "data": {
      "application/vnd.jupyter.widget-view+json": {
       "model_id": "5d32beee2fd74d7fa35ec25cd949ebc7",
       "version_major": 2,
       "version_minor": 0
      },
      "text/plain": [
       "  0%|          | 0/3 [00:00<?, ?it/s]"
      ]
     },
     "metadata": {},
     "output_type": "display_data"
    },
    {
     "name": "stderr",
     "output_type": "stream",
     "text": [
      "19:39:52 - cmdstanpy - INFO - Chain [1] start processing\n",
      "19:39:52 - cmdstanpy - INFO - Chain [1] done processing\n",
      "19:39:52 - cmdstanpy - INFO - Chain [1] start processing\n",
      "19:39:53 - cmdstanpy - INFO - Chain [1] done processing\n",
      "19:39:53 - cmdstanpy - INFO - Chain [1] start processing\n",
      "19:39:53 - cmdstanpy - INFO - Chain [1] done processing\n",
      "19:39:53 - cmdstanpy - INFO - Chain [1] start processing\n",
      "19:39:53 - cmdstanpy - INFO - Chain [1] done processing\n",
      "Seasonality has period of 365.25 days which is larger than initial window. Consider increasing initial.\n"
     ]
    },
    {
     "data": {
      "application/vnd.jupyter.widget-view+json": {
       "model_id": "9db0006e5a4c4393953eb6e9c5b2f94b",
       "version_major": 2,
       "version_minor": 0
      },
      "text/plain": [
       "  0%|          | 0/3 [00:00<?, ?it/s]"
      ]
     },
     "metadata": {},
     "output_type": "display_data"
    },
    {
     "name": "stderr",
     "output_type": "stream",
     "text": [
      "19:39:54 - cmdstanpy - INFO - Chain [1] start processing\n",
      "19:39:54 - cmdstanpy - INFO - Chain [1] done processing\n",
      "19:39:54 - cmdstanpy - INFO - Chain [1] start processing\n",
      "19:39:54 - cmdstanpy - INFO - Chain [1] done processing\n",
      "19:39:54 - cmdstanpy - INFO - Chain [1] start processing\n",
      "19:39:54 - cmdstanpy - INFO - Chain [1] done processing\n",
      "19:39:55 - cmdstanpy - INFO - Chain [1] start processing\n",
      "19:39:55 - cmdstanpy - INFO - Chain [1] done processing\n",
      "Seasonality has period of 365.25 days which is larger than initial window. Consider increasing initial.\n"
     ]
    },
    {
     "data": {
      "application/vnd.jupyter.widget-view+json": {
       "model_id": "42f53059e7c443cba1a58505cab9d85d",
       "version_major": 2,
       "version_minor": 0
      },
      "text/plain": [
       "  0%|          | 0/3 [00:00<?, ?it/s]"
      ]
     },
     "metadata": {},
     "output_type": "display_data"
    },
    {
     "name": "stderr",
     "output_type": "stream",
     "text": [
      "19:39:55 - cmdstanpy - INFO - Chain [1] start processing\n",
      "19:39:55 - cmdstanpy - INFO - Chain [1] done processing\n",
      "19:39:55 - cmdstanpy - INFO - Chain [1] start processing\n",
      "19:39:55 - cmdstanpy - INFO - Chain [1] done processing\n",
      "19:39:56 - cmdstanpy - INFO - Chain [1] start processing\n",
      "19:39:56 - cmdstanpy - INFO - Chain [1] done processing\n",
      "19:39:56 - cmdstanpy - INFO - Chain [1] start processing\n",
      "19:39:56 - cmdstanpy - INFO - Chain [1] done processing\n",
      "Seasonality has period of 365.25 days which is larger than initial window. Consider increasing initial.\n"
     ]
    },
    {
     "data": {
      "application/vnd.jupyter.widget-view+json": {
       "model_id": "ff2e2a51f38f44e38f0cce13a51b0bc5",
       "version_major": 2,
       "version_minor": 0
      },
      "text/plain": [
       "  0%|          | 0/3 [00:00<?, ?it/s]"
      ]
     },
     "metadata": {},
     "output_type": "display_data"
    },
    {
     "name": "stderr",
     "output_type": "stream",
     "text": [
      "19:39:56 - cmdstanpy - INFO - Chain [1] start processing\n",
      "19:39:56 - cmdstanpy - INFO - Chain [1] done processing\n",
      "19:39:57 - cmdstanpy - INFO - Chain [1] start processing\n",
      "19:39:57 - cmdstanpy - INFO - Chain [1] done processing\n",
      "19:39:57 - cmdstanpy - INFO - Chain [1] start processing\n",
      "19:39:57 - cmdstanpy - INFO - Chain [1] done processing\n",
      "19:39:57 - cmdstanpy - INFO - Chain [1] start processing\n",
      "19:39:58 - cmdstanpy - INFO - Chain [1] done processing\n",
      "Seasonality has period of 365.25 days which is larger than initial window. Consider increasing initial.\n"
     ]
    },
    {
     "data": {
      "application/vnd.jupyter.widget-view+json": {
       "model_id": "23f14ff7d5e5417fb885e9b0c64ff4d4",
       "version_major": 2,
       "version_minor": 0
      },
      "text/plain": [
       "  0%|          | 0/3 [00:00<?, ?it/s]"
      ]
     },
     "metadata": {},
     "output_type": "display_data"
    },
    {
     "name": "stderr",
     "output_type": "stream",
     "text": [
      "19:39:58 - cmdstanpy - INFO - Chain [1] start processing\n",
      "19:39:58 - cmdstanpy - INFO - Chain [1] done processing\n",
      "19:39:58 - cmdstanpy - INFO - Chain [1] start processing\n",
      "19:39:58 - cmdstanpy - INFO - Chain [1] done processing\n",
      "19:39:58 - cmdstanpy - INFO - Chain [1] start processing\n",
      "19:39:58 - cmdstanpy - INFO - Chain [1] done processing\n",
      "19:39:59 - cmdstanpy - INFO - Chain [1] start processing\n",
      "19:39:59 - cmdstanpy - INFO - Chain [1] done processing\n",
      "Seasonality has period of 365.25 days which is larger than initial window. Consider increasing initial.\n"
     ]
    },
    {
     "data": {
      "application/vnd.jupyter.widget-view+json": {
       "model_id": "6d5a28f0bd7b4f70a5b1d9a1368f9c38",
       "version_major": 2,
       "version_minor": 0
      },
      "text/plain": [
       "  0%|          | 0/3 [00:00<?, ?it/s]"
      ]
     },
     "metadata": {},
     "output_type": "display_data"
    },
    {
     "name": "stderr",
     "output_type": "stream",
     "text": [
      "19:39:59 - cmdstanpy - INFO - Chain [1] start processing\n",
      "19:39:59 - cmdstanpy - INFO - Chain [1] done processing\n",
      "19:39:59 - cmdstanpy - INFO - Chain [1] start processing\n",
      "19:39:59 - cmdstanpy - INFO - Chain [1] done processing\n",
      "19:40:00 - cmdstanpy - INFO - Chain [1] start processing\n",
      "19:40:00 - cmdstanpy - INFO - Chain [1] done processing\n",
      "19:40:00 - cmdstanpy - INFO - Chain [1] start processing\n",
      "19:40:00 - cmdstanpy - INFO - Chain [1] done processing\n",
      "Seasonality has period of 365.25 days which is larger than initial window. Consider increasing initial.\n"
     ]
    },
    {
     "data": {
      "application/vnd.jupyter.widget-view+json": {
       "model_id": "87e4fe50317b4703bcf5e4ddab2f879e",
       "version_major": 2,
       "version_minor": 0
      },
      "text/plain": [
       "  0%|          | 0/3 [00:00<?, ?it/s]"
      ]
     },
     "metadata": {},
     "output_type": "display_data"
    },
    {
     "name": "stderr",
     "output_type": "stream",
     "text": [
      "19:40:01 - cmdstanpy - INFO - Chain [1] start processing\n",
      "19:40:01 - cmdstanpy - INFO - Chain [1] done processing\n",
      "19:40:01 - cmdstanpy - INFO - Chain [1] start processing\n",
      "19:40:01 - cmdstanpy - INFO - Chain [1] done processing\n",
      "19:40:01 - cmdstanpy - INFO - Chain [1] start processing\n",
      "19:40:01 - cmdstanpy - INFO - Chain [1] done processing\n",
      "19:40:02 - cmdstanpy - INFO - Chain [1] start processing\n",
      "19:40:02 - cmdstanpy - INFO - Chain [1] done processing\n",
      "Seasonality has period of 365.25 days which is larger than initial window. Consider increasing initial.\n"
     ]
    },
    {
     "data": {
      "application/vnd.jupyter.widget-view+json": {
       "model_id": "a4cb4b26757b4639b6508390128c1c92",
       "version_major": 2,
       "version_minor": 0
      },
      "text/plain": [
       "  0%|          | 0/3 [00:00<?, ?it/s]"
      ]
     },
     "metadata": {},
     "output_type": "display_data"
    },
    {
     "name": "stderr",
     "output_type": "stream",
     "text": [
      "19:40:02 - cmdstanpy - INFO - Chain [1] start processing\n",
      "19:40:02 - cmdstanpy - INFO - Chain [1] done processing\n",
      "19:40:02 - cmdstanpy - INFO - Chain [1] start processing\n",
      "19:40:02 - cmdstanpy - INFO - Chain [1] done processing\n",
      "19:40:03 - cmdstanpy - INFO - Chain [1] start processing\n",
      "19:40:03 - cmdstanpy - INFO - Chain [1] done processing\n",
      "19:40:03 - cmdstanpy - INFO - Chain [1] start processing\n",
      "19:40:03 - cmdstanpy - INFO - Chain [1] done processing\n",
      "Seasonality has period of 365.25 days which is larger than initial window. Consider increasing initial.\n"
     ]
    },
    {
     "data": {
      "application/vnd.jupyter.widget-view+json": {
       "model_id": "646262ddb13d4f6cb28a22c2026b2eda",
       "version_major": 2,
       "version_minor": 0
      },
      "text/plain": [
       "  0%|          | 0/3 [00:00<?, ?it/s]"
      ]
     },
     "metadata": {},
     "output_type": "display_data"
    },
    {
     "name": "stderr",
     "output_type": "stream",
     "text": [
      "19:40:03 - cmdstanpy - INFO - Chain [1] start processing\n",
      "19:40:03 - cmdstanpy - INFO - Chain [1] done processing\n",
      "19:40:04 - cmdstanpy - INFO - Chain [1] start processing\n",
      "19:40:04 - cmdstanpy - INFO - Chain [1] done processing\n",
      "19:40:04 - cmdstanpy - INFO - Chain [1] start processing\n",
      "19:40:04 - cmdstanpy - INFO - Chain [1] done processing\n",
      "19:40:05 - cmdstanpy - INFO - Chain [1] start processing\n",
      "19:40:05 - cmdstanpy - INFO - Chain [1] done processing\n",
      "Seasonality has period of 365.25 days which is larger than initial window. Consider increasing initial.\n"
     ]
    },
    {
     "data": {
      "application/vnd.jupyter.widget-view+json": {
       "model_id": "d9fe48d1614d44b8ba67de028dea5916",
       "version_major": 2,
       "version_minor": 0
      },
      "text/plain": [
       "  0%|          | 0/3 [00:00<?, ?it/s]"
      ]
     },
     "metadata": {},
     "output_type": "display_data"
    },
    {
     "name": "stderr",
     "output_type": "stream",
     "text": [
      "19:40:05 - cmdstanpy - INFO - Chain [1] start processing\n",
      "19:40:05 - cmdstanpy - INFO - Chain [1] done processing\n",
      "19:40:05 - cmdstanpy - INFO - Chain [1] start processing\n",
      "19:40:05 - cmdstanpy - INFO - Chain [1] done processing\n",
      "19:40:06 - cmdstanpy - INFO - Chain [1] start processing\n",
      "19:40:06 - cmdstanpy - INFO - Chain [1] done processing\n",
      "19:40:06 - cmdstanpy - INFO - Chain [1] start processing\n",
      "19:40:06 - cmdstanpy - INFO - Chain [1] done processing\n",
      "Seasonality has period of 365.25 days which is larger than initial window. Consider increasing initial.\n"
     ]
    },
    {
     "data": {
      "application/vnd.jupyter.widget-view+json": {
       "model_id": "efddbbb45bbd456d809c3eadac044a16",
       "version_major": 2,
       "version_minor": 0
      },
      "text/plain": [
       "  0%|          | 0/3 [00:00<?, ?it/s]"
      ]
     },
     "metadata": {},
     "output_type": "display_data"
    },
    {
     "name": "stderr",
     "output_type": "stream",
     "text": [
      "19:40:06 - cmdstanpy - INFO - Chain [1] start processing\n",
      "19:40:06 - cmdstanpy - INFO - Chain [1] done processing\n",
      "19:40:07 - cmdstanpy - INFO - Chain [1] start processing\n",
      "19:40:07 - cmdstanpy - INFO - Chain [1] done processing\n",
      "19:40:07 - cmdstanpy - INFO - Chain [1] start processing\n",
      "19:40:07 - cmdstanpy - INFO - Chain [1] done processing\n",
      "19:40:07 - cmdstanpy - INFO - Chain [1] start processing\n",
      "19:40:08 - cmdstanpy - INFO - Chain [1] done processing\n",
      "Seasonality has period of 365.25 days which is larger than initial window. Consider increasing initial.\n"
     ]
    },
    {
     "data": {
      "application/vnd.jupyter.widget-view+json": {
       "model_id": "8fe13f49575c492496aacde13673be67",
       "version_major": 2,
       "version_minor": 0
      },
      "text/plain": [
       "  0%|          | 0/3 [00:00<?, ?it/s]"
      ]
     },
     "metadata": {},
     "output_type": "display_data"
    },
    {
     "name": "stderr",
     "output_type": "stream",
     "text": [
      "19:40:08 - cmdstanpy - INFO - Chain [1] start processing\n",
      "19:40:08 - cmdstanpy - INFO - Chain [1] done processing\n",
      "19:40:08 - cmdstanpy - INFO - Chain [1] start processing\n",
      "19:40:08 - cmdstanpy - INFO - Chain [1] done processing\n",
      "19:40:08 - cmdstanpy - INFO - Chain [1] start processing\n",
      "19:40:09 - cmdstanpy - INFO - Chain [1] done processing\n",
      "19:40:09 - cmdstanpy - INFO - Chain [1] start processing\n",
      "19:40:09 - cmdstanpy - INFO - Chain [1] done processing\n",
      "Seasonality has period of 365.25 days which is larger than initial window. Consider increasing initial.\n"
     ]
    },
    {
     "data": {
      "application/vnd.jupyter.widget-view+json": {
       "model_id": "9a4178a42a9e4658827c272bdff37f85",
       "version_major": 2,
       "version_minor": 0
      },
      "text/plain": [
       "  0%|          | 0/3 [00:00<?, ?it/s]"
      ]
     },
     "metadata": {},
     "output_type": "display_data"
    },
    {
     "name": "stderr",
     "output_type": "stream",
     "text": [
      "19:40:09 - cmdstanpy - INFO - Chain [1] start processing\n",
      "19:40:09 - cmdstanpy - INFO - Chain [1] done processing\n",
      "19:40:10 - cmdstanpy - INFO - Chain [1] start processing\n",
      "19:40:10 - cmdstanpy - INFO - Chain [1] done processing\n",
      "19:40:10 - cmdstanpy - INFO - Chain [1] start processing\n",
      "19:40:10 - cmdstanpy - INFO - Chain [1] done processing\n",
      "19:40:10 - cmdstanpy - INFO - Chain [1] start processing\n",
      "19:40:11 - cmdstanpy - INFO - Chain [1] done processing\n",
      "Seasonality has period of 365.25 days which is larger than initial window. Consider increasing initial.\n"
     ]
    },
    {
     "data": {
      "application/vnd.jupyter.widget-view+json": {
       "model_id": "015ebf5028a7401d85f6ed3bc331d8f2",
       "version_major": 2,
       "version_minor": 0
      },
      "text/plain": [
       "  0%|          | 0/3 [00:00<?, ?it/s]"
      ]
     },
     "metadata": {},
     "output_type": "display_data"
    },
    {
     "name": "stderr",
     "output_type": "stream",
     "text": [
      "19:40:11 - cmdstanpy - INFO - Chain [1] start processing\n",
      "19:40:11 - cmdstanpy - INFO - Chain [1] done processing\n",
      "19:40:11 - cmdstanpy - INFO - Chain [1] start processing\n",
      "19:40:11 - cmdstanpy - INFO - Chain [1] done processing\n",
      "19:40:11 - cmdstanpy - INFO - Chain [1] start processing\n",
      "19:40:12 - cmdstanpy - INFO - Chain [1] done processing\n",
      "19:40:12 - cmdstanpy - INFO - Chain [1] start processing\n",
      "19:40:12 - cmdstanpy - INFO - Chain [1] done processing\n",
      "Seasonality has period of 365.25 days which is larger than initial window. Consider increasing initial.\n"
     ]
    },
    {
     "data": {
      "application/vnd.jupyter.widget-view+json": {
       "model_id": "d952321ffe2047cb8b187538f1ff585f",
       "version_major": 2,
       "version_minor": 0
      },
      "text/plain": [
       "  0%|          | 0/3 [00:00<?, ?it/s]"
      ]
     },
     "metadata": {},
     "output_type": "display_data"
    },
    {
     "name": "stderr",
     "output_type": "stream",
     "text": [
      "19:40:12 - cmdstanpy - INFO - Chain [1] start processing\n",
      "19:40:12 - cmdstanpy - INFO - Chain [1] done processing\n",
      "19:40:13 - cmdstanpy - INFO - Chain [1] start processing\n",
      "19:40:13 - cmdstanpy - INFO - Chain [1] done processing\n",
      "19:40:13 - cmdstanpy - INFO - Chain [1] start processing\n",
      "19:40:13 - cmdstanpy - INFO - Chain [1] done processing\n",
      "19:40:13 - cmdstanpy - INFO - Chain [1] start processing\n",
      "19:40:14 - cmdstanpy - INFO - Chain [1] done processing\n",
      "Seasonality has period of 365.25 days which is larger than initial window. Consider increasing initial.\n"
     ]
    },
    {
     "data": {
      "application/vnd.jupyter.widget-view+json": {
       "model_id": "239f9d5a33f94647b6f38d6596db0034",
       "version_major": 2,
       "version_minor": 0
      },
      "text/plain": [
       "  0%|          | 0/3 [00:00<?, ?it/s]"
      ]
     },
     "metadata": {},
     "output_type": "display_data"
    },
    {
     "name": "stderr",
     "output_type": "stream",
     "text": [
      "19:40:14 - cmdstanpy - INFO - Chain [1] start processing\n",
      "19:40:14 - cmdstanpy - INFO - Chain [1] done processing\n",
      "19:40:14 - cmdstanpy - INFO - Chain [1] start processing\n",
      "19:40:14 - cmdstanpy - INFO - Chain [1] done processing\n",
      "19:40:14 - cmdstanpy - INFO - Chain [1] start processing\n",
      "19:40:14 - cmdstanpy - INFO - Chain [1] done processing\n",
      "19:40:15 - cmdstanpy - INFO - Chain [1] start processing\n",
      "19:40:15 - cmdstanpy - INFO - Chain [1] done processing\n",
      "Seasonality has period of 365.25 days which is larger than initial window. Consider increasing initial.\n"
     ]
    },
    {
     "data": {
      "application/vnd.jupyter.widget-view+json": {
       "model_id": "2e3d634cd91b47ca8d9ea91828fabb8e",
       "version_major": 2,
       "version_minor": 0
      },
      "text/plain": [
       "  0%|          | 0/3 [00:00<?, ?it/s]"
      ]
     },
     "metadata": {},
     "output_type": "display_data"
    },
    {
     "name": "stderr",
     "output_type": "stream",
     "text": [
      "19:40:15 - cmdstanpy - INFO - Chain [1] start processing\n",
      "19:40:15 - cmdstanpy - INFO - Chain [1] done processing\n",
      "19:40:15 - cmdstanpy - INFO - Chain [1] start processing\n",
      "19:40:15 - cmdstanpy - INFO - Chain [1] done processing\n",
      "19:40:16 - cmdstanpy - INFO - Chain [1] start processing\n",
      "19:40:16 - cmdstanpy - INFO - Chain [1] done processing\n",
      "19:40:16 - cmdstanpy - INFO - Chain [1] start processing\n",
      "19:40:16 - cmdstanpy - INFO - Chain [1] done processing\n",
      "Seasonality has period of 365.25 days which is larger than initial window. Consider increasing initial.\n"
     ]
    },
    {
     "data": {
      "application/vnd.jupyter.widget-view+json": {
       "model_id": "6eee7330df5746b6b22e9f21527b002c",
       "version_major": 2,
       "version_minor": 0
      },
      "text/plain": [
       "  0%|          | 0/3 [00:00<?, ?it/s]"
      ]
     },
     "metadata": {},
     "output_type": "display_data"
    },
    {
     "name": "stderr",
     "output_type": "stream",
     "text": [
      "19:40:16 - cmdstanpy - INFO - Chain [1] start processing\n",
      "19:40:16 - cmdstanpy - INFO - Chain [1] done processing\n",
      "19:40:17 - cmdstanpy - INFO - Chain [1] start processing\n",
      "19:40:17 - cmdstanpy - INFO - Chain [1] done processing\n",
      "19:40:17 - cmdstanpy - INFO - Chain [1] start processing\n",
      "19:40:17 - cmdstanpy - INFO - Chain [1] done processing\n",
      "19:40:17 - cmdstanpy - INFO - Chain [1] start processing\n",
      "19:40:18 - cmdstanpy - INFO - Chain [1] done processing\n",
      "Seasonality has period of 365.25 days which is larger than initial window. Consider increasing initial.\n"
     ]
    },
    {
     "data": {
      "application/vnd.jupyter.widget-view+json": {
       "model_id": "043552b983024d8bbddd52d5bf70b546",
       "version_major": 2,
       "version_minor": 0
      },
      "text/plain": [
       "  0%|          | 0/3 [00:00<?, ?it/s]"
      ]
     },
     "metadata": {},
     "output_type": "display_data"
    },
    {
     "name": "stderr",
     "output_type": "stream",
     "text": [
      "19:40:18 - cmdstanpy - INFO - Chain [1] start processing\n",
      "19:40:18 - cmdstanpy - INFO - Chain [1] done processing\n",
      "19:40:18 - cmdstanpy - INFO - Chain [1] start processing\n",
      "19:40:18 - cmdstanpy - INFO - Chain [1] done processing\n",
      "19:40:19 - cmdstanpy - INFO - Chain [1] start processing\n",
      "19:40:19 - cmdstanpy - INFO - Chain [1] done processing\n",
      "19:40:19 - cmdstanpy - INFO - Chain [1] start processing\n",
      "19:40:19 - cmdstanpy - INFO - Chain [1] done processing\n",
      "Seasonality has period of 365.25 days which is larger than initial window. Consider increasing initial.\n"
     ]
    },
    {
     "data": {
      "application/vnd.jupyter.widget-view+json": {
       "model_id": "ebbf6d2b9a184dcfbcbe7149242a37c6",
       "version_major": 2,
       "version_minor": 0
      },
      "text/plain": [
       "  0%|          | 0/3 [00:00<?, ?it/s]"
      ]
     },
     "metadata": {},
     "output_type": "display_data"
    },
    {
     "name": "stderr",
     "output_type": "stream",
     "text": [
      "19:40:19 - cmdstanpy - INFO - Chain [1] start processing\n",
      "19:40:20 - cmdstanpy - INFO - Chain [1] done processing\n",
      "19:40:20 - cmdstanpy - INFO - Chain [1] start processing\n",
      "19:40:20 - cmdstanpy - INFO - Chain [1] done processing\n",
      "19:40:20 - cmdstanpy - INFO - Chain [1] start processing\n",
      "19:40:20 - cmdstanpy - INFO - Chain [1] done processing\n",
      "19:40:21 - cmdstanpy - INFO - Chain [1] start processing\n",
      "19:40:21 - cmdstanpy - INFO - Chain [1] done processing\n",
      "Seasonality has period of 365.25 days which is larger than initial window. Consider increasing initial.\n"
     ]
    },
    {
     "data": {
      "application/vnd.jupyter.widget-view+json": {
       "model_id": "35841bcf99c6421c80620c1de023b119",
       "version_major": 2,
       "version_minor": 0
      },
      "text/plain": [
       "  0%|          | 0/3 [00:00<?, ?it/s]"
      ]
     },
     "metadata": {},
     "output_type": "display_data"
    },
    {
     "name": "stderr",
     "output_type": "stream",
     "text": [
      "19:40:21 - cmdstanpy - INFO - Chain [1] start processing\n",
      "19:40:21 - cmdstanpy - INFO - Chain [1] done processing\n",
      "19:40:21 - cmdstanpy - INFO - Chain [1] start processing\n",
      "19:40:22 - cmdstanpy - INFO - Chain [1] done processing\n",
      "19:40:22 - cmdstanpy - INFO - Chain [1] start processing\n",
      "19:40:22 - cmdstanpy - INFO - Chain [1] done processing\n",
      "19:40:22 - cmdstanpy - INFO - Chain [1] start processing\n",
      "19:40:23 - cmdstanpy - INFO - Chain [1] done processing\n",
      "Seasonality has period of 365.25 days which is larger than initial window. Consider increasing initial.\n"
     ]
    },
    {
     "data": {
      "application/vnd.jupyter.widget-view+json": {
       "model_id": "6ef25d96b4c24d4ba1c8d8ecd4de9f85",
       "version_major": 2,
       "version_minor": 0
      },
      "text/plain": [
       "  0%|          | 0/3 [00:00<?, ?it/s]"
      ]
     },
     "metadata": {},
     "output_type": "display_data"
    },
    {
     "name": "stderr",
     "output_type": "stream",
     "text": [
      "19:40:23 - cmdstanpy - INFO - Chain [1] start processing\n",
      "19:40:23 - cmdstanpy - INFO - Chain [1] done processing\n",
      "19:40:23 - cmdstanpy - INFO - Chain [1] start processing\n",
      "19:40:23 - cmdstanpy - INFO - Chain [1] done processing\n",
      "19:40:23 - cmdstanpy - INFO - Chain [1] start processing\n",
      "19:40:24 - cmdstanpy - INFO - Chain [1] done processing\n",
      "19:40:24 - cmdstanpy - INFO - Chain [1] start processing\n",
      "19:40:24 - cmdstanpy - INFO - Chain [1] done processing\n",
      "Seasonality has period of 365.25 days which is larger than initial window. Consider increasing initial.\n"
     ]
    },
    {
     "data": {
      "application/vnd.jupyter.widget-view+json": {
       "model_id": "bbdeeeb1f74a49c69d225efc35024a3f",
       "version_major": 2,
       "version_minor": 0
      },
      "text/plain": [
       "  0%|          | 0/3 [00:00<?, ?it/s]"
      ]
     },
     "metadata": {},
     "output_type": "display_data"
    },
    {
     "name": "stderr",
     "output_type": "stream",
     "text": [
      "19:40:24 - cmdstanpy - INFO - Chain [1] start processing\n",
      "19:40:24 - cmdstanpy - INFO - Chain [1] done processing\n",
      "19:40:25 - cmdstanpy - INFO - Chain [1] start processing\n",
      "19:40:25 - cmdstanpy - INFO - Chain [1] done processing\n",
      "19:40:25 - cmdstanpy - INFO - Chain [1] start processing\n",
      "19:40:25 - cmdstanpy - INFO - Chain [1] done processing\n",
      "19:40:25 - cmdstanpy - INFO - Chain [1] start processing\n",
      "19:40:26 - cmdstanpy - INFO - Chain [1] done processing\n",
      "Seasonality has period of 365.25 days which is larger than initial window. Consider increasing initial.\n"
     ]
    },
    {
     "data": {
      "application/vnd.jupyter.widget-view+json": {
       "model_id": "77004dd6c46b4e92a4026d9e8006162e",
       "version_major": 2,
       "version_minor": 0
      },
      "text/plain": [
       "  0%|          | 0/3 [00:00<?, ?it/s]"
      ]
     },
     "metadata": {},
     "output_type": "display_data"
    },
    {
     "name": "stderr",
     "output_type": "stream",
     "text": [
      "19:40:26 - cmdstanpy - INFO - Chain [1] start processing\n",
      "19:40:26 - cmdstanpy - INFO - Chain [1] done processing\n",
      "19:40:26 - cmdstanpy - INFO - Chain [1] start processing\n",
      "19:40:26 - cmdstanpy - INFO - Chain [1] done processing\n",
      "19:40:27 - cmdstanpy - INFO - Chain [1] start processing\n",
      "19:40:27 - cmdstanpy - INFO - Chain [1] done processing\n",
      "19:40:27 - cmdstanpy - INFO - Chain [1] start processing\n",
      "19:40:27 - cmdstanpy - INFO - Chain [1] done processing\n",
      "Seasonality has period of 365.25 days which is larger than initial window. Consider increasing initial.\n"
     ]
    },
    {
     "data": {
      "application/vnd.jupyter.widget-view+json": {
       "model_id": "f9cd794e06bb4a5ba896a40cc741ce26",
       "version_major": 2,
       "version_minor": 0
      },
      "text/plain": [
       "  0%|          | 0/3 [00:00<?, ?it/s]"
      ]
     },
     "metadata": {},
     "output_type": "display_data"
    },
    {
     "name": "stderr",
     "output_type": "stream",
     "text": [
      "19:40:27 - cmdstanpy - INFO - Chain [1] start processing\n",
      "19:40:27 - cmdstanpy - INFO - Chain [1] done processing\n",
      "19:40:28 - cmdstanpy - INFO - Chain [1] start processing\n",
      "19:40:28 - cmdstanpy - INFO - Chain [1] done processing\n",
      "19:40:28 - cmdstanpy - INFO - Chain [1] start processing\n",
      "19:40:28 - cmdstanpy - INFO - Chain [1] done processing\n",
      "19:40:29 - cmdstanpy - INFO - Chain [1] start processing\n",
      "19:40:29 - cmdstanpy - INFO - Chain [1] done processing\n",
      "Seasonality has period of 365.25 days which is larger than initial window. Consider increasing initial.\n"
     ]
    },
    {
     "data": {
      "application/vnd.jupyter.widget-view+json": {
       "model_id": "15682328913e4cbca7c31f647837efc8",
       "version_major": 2,
       "version_minor": 0
      },
      "text/plain": [
       "  0%|          | 0/3 [00:00<?, ?it/s]"
      ]
     },
     "metadata": {},
     "output_type": "display_data"
    },
    {
     "name": "stderr",
     "output_type": "stream",
     "text": [
      "19:40:29 - cmdstanpy - INFO - Chain [1] start processing\n",
      "19:40:29 - cmdstanpy - INFO - Chain [1] done processing\n",
      "19:40:29 - cmdstanpy - INFO - Chain [1] start processing\n",
      "19:40:30 - cmdstanpy - INFO - Chain [1] done processing\n",
      "19:40:30 - cmdstanpy - INFO - Chain [1] start processing\n",
      "19:40:30 - cmdstanpy - INFO - Chain [1] done processing\n",
      "19:40:30 - cmdstanpy - INFO - Chain [1] start processing\n",
      "19:40:31 - cmdstanpy - INFO - Chain [1] done processing\n",
      "Seasonality has period of 365.25 days which is larger than initial window. Consider increasing initial.\n"
     ]
    },
    {
     "data": {
      "application/vnd.jupyter.widget-view+json": {
       "model_id": "42cd501fe6ce4623948cf6ec2b3a38a2",
       "version_major": 2,
       "version_minor": 0
      },
      "text/plain": [
       "  0%|          | 0/3 [00:00<?, ?it/s]"
      ]
     },
     "metadata": {},
     "output_type": "display_data"
    },
    {
     "name": "stderr",
     "output_type": "stream",
     "text": [
      "19:40:31 - cmdstanpy - INFO - Chain [1] start processing\n",
      "19:40:31 - cmdstanpy - INFO - Chain [1] done processing\n",
      "19:40:31 - cmdstanpy - INFO - Chain [1] start processing\n",
      "19:40:31 - cmdstanpy - INFO - Chain [1] done processing\n",
      "19:40:31 - cmdstanpy - INFO - Chain [1] start processing\n",
      "19:40:32 - cmdstanpy - INFO - Chain [1] done processing\n",
      "19:40:32 - cmdstanpy - INFO - Chain [1] start processing\n",
      "19:40:32 - cmdstanpy - INFO - Chain [1] done processing\n",
      "Seasonality has period of 365.25 days which is larger than initial window. Consider increasing initial.\n"
     ]
    },
    {
     "data": {
      "application/vnd.jupyter.widget-view+json": {
       "model_id": "aa5f574e6fc74a969e5c395a6eea6829",
       "version_major": 2,
       "version_minor": 0
      },
      "text/plain": [
       "  0%|          | 0/3 [00:00<?, ?it/s]"
      ]
     },
     "metadata": {},
     "output_type": "display_data"
    },
    {
     "name": "stderr",
     "output_type": "stream",
     "text": [
      "19:40:32 - cmdstanpy - INFO - Chain [1] start processing\n",
      "19:40:32 - cmdstanpy - INFO - Chain [1] done processing\n",
      "19:40:33 - cmdstanpy - INFO - Chain [1] start processing\n",
      "19:40:33 - cmdstanpy - INFO - Chain [1] done processing\n",
      "19:40:33 - cmdstanpy - INFO - Chain [1] start processing\n",
      "19:40:33 - cmdstanpy - INFO - Chain [1] done processing\n",
      "19:40:33 - cmdstanpy - INFO - Chain [1] start processing\n",
      "19:40:34 - cmdstanpy - INFO - Chain [1] done processing\n",
      "Seasonality has period of 365.25 days which is larger than initial window. Consider increasing initial.\n"
     ]
    },
    {
     "data": {
      "application/vnd.jupyter.widget-view+json": {
       "model_id": "4e07ed588f444bdcb5613b364dab279a",
       "version_major": 2,
       "version_minor": 0
      },
      "text/plain": [
       "  0%|          | 0/3 [00:00<?, ?it/s]"
      ]
     },
     "metadata": {},
     "output_type": "display_data"
    },
    {
     "name": "stderr",
     "output_type": "stream",
     "text": [
      "19:40:34 - cmdstanpy - INFO - Chain [1] start processing\n",
      "19:40:34 - cmdstanpy - INFO - Chain [1] done processing\n",
      "19:40:34 - cmdstanpy - INFO - Chain [1] start processing\n",
      "19:40:34 - cmdstanpy - INFO - Chain [1] done processing\n",
      "19:40:35 - cmdstanpy - INFO - Chain [1] start processing\n",
      "19:40:35 - cmdstanpy - INFO - Chain [1] done processing\n",
      "19:40:35 - cmdstanpy - INFO - Chain [1] start processing\n",
      "19:40:35 - cmdstanpy - INFO - Chain [1] done processing\n",
      "Seasonality has period of 365.25 days which is larger than initial window. Consider increasing initial.\n"
     ]
    },
    {
     "data": {
      "application/vnd.jupyter.widget-view+json": {
       "model_id": "54ce834363f04fbd96557a38902b4e39",
       "version_major": 2,
       "version_minor": 0
      },
      "text/plain": [
       "  0%|          | 0/3 [00:00<?, ?it/s]"
      ]
     },
     "metadata": {},
     "output_type": "display_data"
    },
    {
     "name": "stderr",
     "output_type": "stream",
     "text": [
      "19:40:36 - cmdstanpy - INFO - Chain [1] start processing\n",
      "19:40:36 - cmdstanpy - INFO - Chain [1] done processing\n",
      "19:40:36 - cmdstanpy - INFO - Chain [1] start processing\n",
      "19:40:36 - cmdstanpy - INFO - Chain [1] done processing\n",
      "19:40:36 - cmdstanpy - INFO - Chain [1] start processing\n",
      "19:40:36 - cmdstanpy - INFO - Chain [1] done processing\n",
      "19:40:37 - cmdstanpy - INFO - Chain [1] start processing\n",
      "19:40:37 - cmdstanpy - INFO - Chain [1] done processing\n",
      "Seasonality has period of 365.25 days which is larger than initial window. Consider increasing initial.\n"
     ]
    },
    {
     "data": {
      "application/vnd.jupyter.widget-view+json": {
       "model_id": "6896ce749fda4f1d855ffde6b2436e6b",
       "version_major": 2,
       "version_minor": 0
      },
      "text/plain": [
       "  0%|          | 0/3 [00:00<?, ?it/s]"
      ]
     },
     "metadata": {},
     "output_type": "display_data"
    },
    {
     "name": "stderr",
     "output_type": "stream",
     "text": [
      "19:40:37 - cmdstanpy - INFO - Chain [1] start processing\n",
      "19:40:37 - cmdstanpy - INFO - Chain [1] done processing\n",
      "19:40:38 - cmdstanpy - INFO - Chain [1] start processing\n",
      "19:40:38 - cmdstanpy - INFO - Chain [1] done processing\n",
      "19:40:38 - cmdstanpy - INFO - Chain [1] start processing\n",
      "19:40:38 - cmdstanpy - INFO - Chain [1] done processing\n",
      "19:40:38 - cmdstanpy - INFO - Chain [1] start processing\n",
      "19:40:39 - cmdstanpy - INFO - Chain [1] done processing\n",
      "Seasonality has period of 365.25 days which is larger than initial window. Consider increasing initial.\n"
     ]
    },
    {
     "data": {
      "application/vnd.jupyter.widget-view+json": {
       "model_id": "b9c37ddb7e7e4ec8bd64821dc36e9fba",
       "version_major": 2,
       "version_minor": 0
      },
      "text/plain": [
       "  0%|          | 0/3 [00:00<?, ?it/s]"
      ]
     },
     "metadata": {},
     "output_type": "display_data"
    },
    {
     "name": "stderr",
     "output_type": "stream",
     "text": [
      "19:40:39 - cmdstanpy - INFO - Chain [1] start processing\n",
      "19:40:39 - cmdstanpy - INFO - Chain [1] done processing\n",
      "19:40:39 - cmdstanpy - INFO - Chain [1] start processing\n",
      "19:40:39 - cmdstanpy - INFO - Chain [1] done processing\n",
      "19:40:40 - cmdstanpy - INFO - Chain [1] start processing\n",
      "19:40:40 - cmdstanpy - INFO - Chain [1] done processing\n",
      "19:40:40 - cmdstanpy - INFO - Chain [1] start processing\n",
      "19:40:41 - cmdstanpy - INFO - Chain [1] done processing\n",
      "Seasonality has period of 365.25 days which is larger than initial window. Consider increasing initial.\n"
     ]
    },
    {
     "data": {
      "application/vnd.jupyter.widget-view+json": {
       "model_id": "d72fa9b79d6d4d5e9067c50c754ef663",
       "version_major": 2,
       "version_minor": 0
      },
      "text/plain": [
       "  0%|          | 0/3 [00:00<?, ?it/s]"
      ]
     },
     "metadata": {},
     "output_type": "display_data"
    },
    {
     "name": "stderr",
     "output_type": "stream",
     "text": [
      "19:40:41 - cmdstanpy - INFO - Chain [1] start processing\n",
      "19:40:41 - cmdstanpy - INFO - Chain [1] done processing\n",
      "19:40:41 - cmdstanpy - INFO - Chain [1] start processing\n",
      "19:40:41 - cmdstanpy - INFO - Chain [1] done processing\n",
      "19:40:42 - cmdstanpy - INFO - Chain [1] start processing\n",
      "19:40:42 - cmdstanpy - INFO - Chain [1] done processing\n",
      "19:40:42 - cmdstanpy - INFO - Chain [1] start processing\n",
      "19:40:42 - cmdstanpy - INFO - Chain [1] done processing\n",
      "Seasonality has period of 365.25 days which is larger than initial window. Consider increasing initial.\n"
     ]
    },
    {
     "data": {
      "application/vnd.jupyter.widget-view+json": {
       "model_id": "d3b83b46f28c4055a093270500c0e85e",
       "version_major": 2,
       "version_minor": 0
      },
      "text/plain": [
       "  0%|          | 0/3 [00:00<?, ?it/s]"
      ]
     },
     "metadata": {},
     "output_type": "display_data"
    },
    {
     "name": "stderr",
     "output_type": "stream",
     "text": [
      "19:40:43 - cmdstanpy - INFO - Chain [1] start processing\n",
      "19:40:43 - cmdstanpy - INFO - Chain [1] done processing\n",
      "19:40:43 - cmdstanpy - INFO - Chain [1] start processing\n",
      "19:40:43 - cmdstanpy - INFO - Chain [1] done processing\n",
      "19:40:43 - cmdstanpy - INFO - Chain [1] start processing\n",
      "19:40:44 - cmdstanpy - INFO - Chain [1] done processing\n",
      "19:40:44 - cmdstanpy - INFO - Chain [1] start processing\n",
      "19:40:44 - cmdstanpy - INFO - Chain [1] done processing\n",
      "Seasonality has period of 365.25 days which is larger than initial window. Consider increasing initial.\n"
     ]
    },
    {
     "data": {
      "application/vnd.jupyter.widget-view+json": {
       "model_id": "b8fe08d078ed489f8ded636bb0d26477",
       "version_major": 2,
       "version_minor": 0
      },
      "text/plain": [
       "  0%|          | 0/3 [00:00<?, ?it/s]"
      ]
     },
     "metadata": {},
     "output_type": "display_data"
    },
    {
     "name": "stderr",
     "output_type": "stream",
     "text": [
      "19:40:44 - cmdstanpy - INFO - Chain [1] start processing\n",
      "19:40:44 - cmdstanpy - INFO - Chain [1] done processing\n",
      "19:40:45 - cmdstanpy - INFO - Chain [1] start processing\n",
      "19:40:45 - cmdstanpy - INFO - Chain [1] done processing\n",
      "19:40:45 - cmdstanpy - INFO - Chain [1] start processing\n",
      "19:40:45 - cmdstanpy - INFO - Chain [1] done processing\n",
      "19:40:46 - cmdstanpy - INFO - Chain [1] start processing\n",
      "19:40:46 - cmdstanpy - INFO - Chain [1] done processing\n",
      "Seasonality has period of 365.25 days which is larger than initial window. Consider increasing initial.\n"
     ]
    },
    {
     "data": {
      "application/vnd.jupyter.widget-view+json": {
       "model_id": "dd143f39fd794ead90b22905936e7154",
       "version_major": 2,
       "version_minor": 0
      },
      "text/plain": [
       "  0%|          | 0/3 [00:00<?, ?it/s]"
      ]
     },
     "metadata": {},
     "output_type": "display_data"
    },
    {
     "name": "stderr",
     "output_type": "stream",
     "text": [
      "19:40:46 - cmdstanpy - INFO - Chain [1] start processing\n",
      "19:40:46 - cmdstanpy - INFO - Chain [1] done processing\n",
      "19:40:47 - cmdstanpy - INFO - Chain [1] start processing\n",
      "19:40:47 - cmdstanpy - INFO - Chain [1] done processing\n",
      "19:40:47 - cmdstanpy - INFO - Chain [1] start processing\n",
      "19:40:47 - cmdstanpy - INFO - Chain [1] done processing\n",
      "19:40:48 - cmdstanpy - INFO - Chain [1] start processing\n",
      "19:40:48 - cmdstanpy - INFO - Chain [1] done processing\n",
      "Seasonality has period of 365.25 days which is larger than initial window. Consider increasing initial.\n"
     ]
    },
    {
     "data": {
      "application/vnd.jupyter.widget-view+json": {
       "model_id": "888d5fde87f54eaaa57f3fdb7a2e6b88",
       "version_major": 2,
       "version_minor": 0
      },
      "text/plain": [
       "  0%|          | 0/3 [00:00<?, ?it/s]"
      ]
     },
     "metadata": {},
     "output_type": "display_data"
    },
    {
     "name": "stderr",
     "output_type": "stream",
     "text": [
      "19:40:48 - cmdstanpy - INFO - Chain [1] start processing\n",
      "19:40:48 - cmdstanpy - INFO - Chain [1] done processing\n",
      "19:40:49 - cmdstanpy - INFO - Chain [1] start processing\n",
      "19:40:49 - cmdstanpy - INFO - Chain [1] done processing\n",
      "19:40:49 - cmdstanpy - INFO - Chain [1] start processing\n",
      "19:40:49 - cmdstanpy - INFO - Chain [1] done processing\n",
      "19:40:50 - cmdstanpy - INFO - Chain [1] start processing\n",
      "19:40:50 - cmdstanpy - INFO - Chain [1] done processing\n",
      "Seasonality has period of 365.25 days which is larger than initial window. Consider increasing initial.\n"
     ]
    },
    {
     "data": {
      "application/vnd.jupyter.widget-view+json": {
       "model_id": "8ec35974e1604e8f89d6daed7b8bd0fe",
       "version_major": 2,
       "version_minor": 0
      },
      "text/plain": [
       "  0%|          | 0/3 [00:00<?, ?it/s]"
      ]
     },
     "metadata": {},
     "output_type": "display_data"
    },
    {
     "name": "stderr",
     "output_type": "stream",
     "text": [
      "19:40:50 - cmdstanpy - INFO - Chain [1] start processing\n",
      "19:40:50 - cmdstanpy - INFO - Chain [1] done processing\n",
      "19:40:51 - cmdstanpy - INFO - Chain [1] start processing\n",
      "19:40:51 - cmdstanpy - INFO - Chain [1] done processing\n",
      "19:40:51 - cmdstanpy - INFO - Chain [1] start processing\n",
      "19:40:51 - cmdstanpy - INFO - Chain [1] done processing\n",
      "19:40:51 - cmdstanpy - INFO - Chain [1] start processing\n",
      "19:40:52 - cmdstanpy - INFO - Chain [1] done processing\n",
      "Seasonality has period of 365.25 days which is larger than initial window. Consider increasing initial.\n"
     ]
    },
    {
     "data": {
      "application/vnd.jupyter.widget-view+json": {
       "model_id": "d2297ebd40b94cb19a8440eac1587fdb",
       "version_major": 2,
       "version_minor": 0
      },
      "text/plain": [
       "  0%|          | 0/3 [00:00<?, ?it/s]"
      ]
     },
     "metadata": {},
     "output_type": "display_data"
    },
    {
     "name": "stderr",
     "output_type": "stream",
     "text": [
      "19:40:52 - cmdstanpy - INFO - Chain [1] start processing\n",
      "19:40:52 - cmdstanpy - INFO - Chain [1] done processing\n",
      "19:40:52 - cmdstanpy - INFO - Chain [1] start processing\n",
      "19:40:53 - cmdstanpy - INFO - Chain [1] done processing\n",
      "19:40:53 - cmdstanpy - INFO - Chain [1] start processing\n",
      "19:40:53 - cmdstanpy - INFO - Chain [1] done processing\n",
      "19:40:54 - cmdstanpy - INFO - Chain [1] start processing\n",
      "19:40:54 - cmdstanpy - INFO - Chain [1] done processing\n",
      "Seasonality has period of 365.25 days which is larger than initial window. Consider increasing initial.\n"
     ]
    },
    {
     "data": {
      "application/vnd.jupyter.widget-view+json": {
       "model_id": "9853b41d313f4694ba003d7d4e28eb85",
       "version_major": 2,
       "version_minor": 0
      },
      "text/plain": [
       "  0%|          | 0/3 [00:00<?, ?it/s]"
      ]
     },
     "metadata": {},
     "output_type": "display_data"
    },
    {
     "name": "stderr",
     "output_type": "stream",
     "text": [
      "19:40:54 - cmdstanpy - INFO - Chain [1] start processing\n",
      "19:40:54 - cmdstanpy - INFO - Chain [1] done processing\n",
      "19:40:54 - cmdstanpy - INFO - Chain [1] start processing\n",
      "19:40:54 - cmdstanpy - INFO - Chain [1] done processing\n",
      "19:40:55 - cmdstanpy - INFO - Chain [1] start processing\n",
      "19:40:55 - cmdstanpy - INFO - Chain [1] done processing\n",
      "19:40:55 - cmdstanpy - INFO - Chain [1] start processing\n",
      "19:40:56 - cmdstanpy - INFO - Chain [1] done processing\n",
      "Seasonality has period of 365.25 days which is larger than initial window. Consider increasing initial.\n"
     ]
    },
    {
     "data": {
      "application/vnd.jupyter.widget-view+json": {
       "model_id": "bf110d1d3ed44c20975ab1fd86341c66",
       "version_major": 2,
       "version_minor": 0
      },
      "text/plain": [
       "  0%|          | 0/3 [00:00<?, ?it/s]"
      ]
     },
     "metadata": {},
     "output_type": "display_data"
    },
    {
     "name": "stderr",
     "output_type": "stream",
     "text": [
      "19:40:56 - cmdstanpy - INFO - Chain [1] start processing\n",
      "19:40:56 - cmdstanpy - INFO - Chain [1] done processing\n",
      "19:40:56 - cmdstanpy - INFO - Chain [1] start processing\n",
      "19:40:56 - cmdstanpy - INFO - Chain [1] done processing\n",
      "19:40:57 - cmdstanpy - INFO - Chain [1] start processing\n",
      "19:40:57 - cmdstanpy - INFO - Chain [1] done processing\n",
      "19:40:57 - cmdstanpy - INFO - Chain [1] start processing\n",
      "19:40:58 - cmdstanpy - INFO - Chain [1] done processing\n",
      "Seasonality has period of 365.25 days which is larger than initial window. Consider increasing initial.\n"
     ]
    },
    {
     "data": {
      "application/vnd.jupyter.widget-view+json": {
       "model_id": "5be3ce24d36d408d989496d30058e488",
       "version_major": 2,
       "version_minor": 0
      },
      "text/plain": [
       "  0%|          | 0/3 [00:00<?, ?it/s]"
      ]
     },
     "metadata": {},
     "output_type": "display_data"
    },
    {
     "name": "stderr",
     "output_type": "stream",
     "text": [
      "19:40:58 - cmdstanpy - INFO - Chain [1] start processing\n",
      "19:40:58 - cmdstanpy - INFO - Chain [1] done processing\n",
      "19:40:58 - cmdstanpy - INFO - Chain [1] start processing\n",
      "19:40:58 - cmdstanpy - INFO - Chain [1] done processing\n",
      "19:40:59 - cmdstanpy - INFO - Chain [1] start processing\n",
      "19:40:59 - cmdstanpy - INFO - Chain [1] done processing\n",
      "19:40:59 - cmdstanpy - INFO - Chain [1] start processing\n",
      "19:40:59 - cmdstanpy - INFO - Chain [1] done processing\n",
      "Seasonality has period of 365.25 days which is larger than initial window. Consider increasing initial.\n"
     ]
    },
    {
     "data": {
      "application/vnd.jupyter.widget-view+json": {
       "model_id": "6261db3f9af8475cacc2d4eeeb83b03d",
       "version_major": 2,
       "version_minor": 0
      },
      "text/plain": [
       "  0%|          | 0/3 [00:00<?, ?it/s]"
      ]
     },
     "metadata": {},
     "output_type": "display_data"
    },
    {
     "name": "stderr",
     "output_type": "stream",
     "text": [
      "19:41:00 - cmdstanpy - INFO - Chain [1] start processing\n",
      "19:41:00 - cmdstanpy - INFO - Chain [1] done processing\n",
      "19:41:00 - cmdstanpy - INFO - Chain [1] start processing\n",
      "19:41:00 - cmdstanpy - INFO - Chain [1] done processing\n",
      "19:41:00 - cmdstanpy - INFO - Chain [1] start processing\n",
      "19:41:01 - cmdstanpy - INFO - Chain [1] done processing\n",
      "19:41:01 - cmdstanpy - INFO - Chain [1] start processing\n",
      "19:41:01 - cmdstanpy - INFO - Chain [1] done processing\n",
      "Seasonality has period of 365.25 days which is larger than initial window. Consider increasing initial.\n"
     ]
    },
    {
     "data": {
      "application/vnd.jupyter.widget-view+json": {
       "model_id": "f458fb1c2b4d49abac0de18543f76d6b",
       "version_major": 2,
       "version_minor": 0
      },
      "text/plain": [
       "  0%|          | 0/3 [00:00<?, ?it/s]"
      ]
     },
     "metadata": {},
     "output_type": "display_data"
    },
    {
     "name": "stderr",
     "output_type": "stream",
     "text": [
      "19:41:01 - cmdstanpy - INFO - Chain [1] start processing\n",
      "19:41:02 - cmdstanpy - INFO - Chain [1] done processing\n",
      "19:41:02 - cmdstanpy - INFO - Chain [1] start processing\n",
      "19:41:02 - cmdstanpy - INFO - Chain [1] done processing\n",
      "19:41:02 - cmdstanpy - INFO - Chain [1] start processing\n",
      "19:41:02 - cmdstanpy - INFO - Chain [1] done processing\n",
      "19:41:03 - cmdstanpy - INFO - Chain [1] start processing\n"
     ]
    },
    {
     "name": "stdout",
     "output_type": "stream",
     "text": [
      "Best parameters: params    {'changepoint_prior_scale': 0.4, 'holidays_pri...\n",
      "MAPE                                                0.04895\n",
      "Name: 27, dtype: object\n"
     ]
    },
    {
     "name": "stderr",
     "output_type": "stream",
     "text": [
      "19:41:03 - cmdstanpy - INFO - Chain [1] done processing\n",
      "19:41:03 - cmdstanpy - INFO - Chain [1] start processing\n"
     ]
    },
    {
     "name": "stdout",
     "output_type": "stream",
     "text": [
      "           y          ds\n",
      "3579  4091.0  2020-12-05\n",
      "3580  3972.0  2020-12-06\n",
      "3581  3903.0  2020-12-07\n",
      "3582  3684.0  2020-12-08\n",
      "3583  4063.0  2020-12-09\n"
     ]
    },
    {
     "name": "stderr",
     "output_type": "stream",
     "text": [
      "19:41:03 - cmdstanpy - INFO - Chain [1] done processing\n",
      "Seasonality has period of 365.25 days which is larger than initial window. Consider increasing initial.\n"
     ]
    },
    {
     "data": {
      "application/vnd.jupyter.widget-view+json": {
       "model_id": "f2e2e181596f407b8aa26c652e23b495",
       "version_major": 2,
       "version_minor": 0
      },
      "text/plain": [
       "  0%|          | 0/3 [00:00<?, ?it/s]"
      ]
     },
     "metadata": {},
     "output_type": "display_data"
    },
    {
     "name": "stderr",
     "output_type": "stream",
     "text": [
      "19:41:04 - cmdstanpy - INFO - Chain [1] start processing\n",
      "19:41:04 - cmdstanpy - INFO - Chain [1] done processing\n",
      "19:41:04 - cmdstanpy - INFO - Chain [1] start processing\n",
      "19:41:04 - cmdstanpy - INFO - Chain [1] done processing\n",
      "19:41:04 - cmdstanpy - INFO - Chain [1] start processing\n",
      "19:41:04 - cmdstanpy - INFO - Chain [1] done processing\n",
      "19:41:05 - cmdstanpy - INFO - Chain [1] start processing\n",
      "19:41:05 - cmdstanpy - INFO - Chain [1] done processing\n",
      "Seasonality has period of 365.25 days which is larger than initial window. Consider increasing initial.\n"
     ]
    },
    {
     "data": {
      "application/vnd.jupyter.widget-view+json": {
       "model_id": "18593856661043048758fd70e58fe275",
       "version_major": 2,
       "version_minor": 0
      },
      "text/plain": [
       "  0%|          | 0/3 [00:00<?, ?it/s]"
      ]
     },
     "metadata": {},
     "output_type": "display_data"
    },
    {
     "name": "stderr",
     "output_type": "stream",
     "text": [
      "19:41:05 - cmdstanpy - INFO - Chain [1] start processing\n",
      "19:41:05 - cmdstanpy - INFO - Chain [1] done processing\n",
      "19:41:05 - cmdstanpy - INFO - Chain [1] start processing\n",
      "19:41:05 - cmdstanpy - INFO - Chain [1] done processing\n",
      "19:41:06 - cmdstanpy - INFO - Chain [1] start processing\n",
      "19:41:06 - cmdstanpy - INFO - Chain [1] done processing\n",
      "19:41:06 - cmdstanpy - INFO - Chain [1] start processing\n",
      "19:41:06 - cmdstanpy - INFO - Chain [1] done processing\n",
      "Seasonality has period of 365.25 days which is larger than initial window. Consider increasing initial.\n"
     ]
    },
    {
     "data": {
      "application/vnd.jupyter.widget-view+json": {
       "model_id": "e307d729d57c4ba083c62afe20ea1f65",
       "version_major": 2,
       "version_minor": 0
      },
      "text/plain": [
       "  0%|          | 0/3 [00:00<?, ?it/s]"
      ]
     },
     "metadata": {},
     "output_type": "display_data"
    },
    {
     "name": "stderr",
     "output_type": "stream",
     "text": [
      "19:41:06 - cmdstanpy - INFO - Chain [1] start processing\n",
      "19:41:06 - cmdstanpy - INFO - Chain [1] done processing\n",
      "19:41:07 - cmdstanpy - INFO - Chain [1] start processing\n",
      "19:41:07 - cmdstanpy - INFO - Chain [1] done processing\n",
      "19:41:07 - cmdstanpy - INFO - Chain [1] start processing\n",
      "19:41:07 - cmdstanpy - INFO - Chain [1] done processing\n",
      "19:41:07 - cmdstanpy - INFO - Chain [1] start processing\n",
      "19:41:08 - cmdstanpy - INFO - Chain [1] done processing\n",
      "Seasonality has period of 365.25 days which is larger than initial window. Consider increasing initial.\n"
     ]
    },
    {
     "data": {
      "application/vnd.jupyter.widget-view+json": {
       "model_id": "ee7facf1da684e5cbdf2815a0c6dc949",
       "version_major": 2,
       "version_minor": 0
      },
      "text/plain": [
       "  0%|          | 0/3 [00:00<?, ?it/s]"
      ]
     },
     "metadata": {},
     "output_type": "display_data"
    },
    {
     "name": "stderr",
     "output_type": "stream",
     "text": [
      "19:41:08 - cmdstanpy - INFO - Chain [1] start processing\n",
      "19:41:08 - cmdstanpy - INFO - Chain [1] done processing\n",
      "19:41:08 - cmdstanpy - INFO - Chain [1] start processing\n",
      "19:41:08 - cmdstanpy - INFO - Chain [1] done processing\n",
      "19:41:08 - cmdstanpy - INFO - Chain [1] start processing\n",
      "19:41:09 - cmdstanpy - INFO - Chain [1] done processing\n",
      "19:41:09 - cmdstanpy - INFO - Chain [1] start processing\n",
      "19:41:09 - cmdstanpy - INFO - Chain [1] done processing\n",
      "Seasonality has period of 365.25 days which is larger than initial window. Consider increasing initial.\n"
     ]
    },
    {
     "data": {
      "application/vnd.jupyter.widget-view+json": {
       "model_id": "b55ae186cec8452f99cac2aa143ed049",
       "version_major": 2,
       "version_minor": 0
      },
      "text/plain": [
       "  0%|          | 0/3 [00:00<?, ?it/s]"
      ]
     },
     "metadata": {},
     "output_type": "display_data"
    },
    {
     "name": "stderr",
     "output_type": "stream",
     "text": [
      "19:41:09 - cmdstanpy - INFO - Chain [1] start processing\n",
      "19:41:09 - cmdstanpy - INFO - Chain [1] done processing\n",
      "19:41:09 - cmdstanpy - INFO - Chain [1] start processing\n",
      "19:41:10 - cmdstanpy - INFO - Chain [1] done processing\n",
      "19:41:10 - cmdstanpy - INFO - Chain [1] start processing\n",
      "19:41:10 - cmdstanpy - INFO - Chain [1] done processing\n",
      "19:41:10 - cmdstanpy - INFO - Chain [1] start processing\n",
      "19:41:10 - cmdstanpy - INFO - Chain [1] done processing\n",
      "Seasonality has period of 365.25 days which is larger than initial window. Consider increasing initial.\n"
     ]
    },
    {
     "data": {
      "application/vnd.jupyter.widget-view+json": {
       "model_id": "a2f01803cf144c229fd95308e41b832b",
       "version_major": 2,
       "version_minor": 0
      },
      "text/plain": [
       "  0%|          | 0/3 [00:00<?, ?it/s]"
      ]
     },
     "metadata": {},
     "output_type": "display_data"
    },
    {
     "name": "stderr",
     "output_type": "stream",
     "text": [
      "19:41:10 - cmdstanpy - INFO - Chain [1] start processing\n",
      "19:41:11 - cmdstanpy - INFO - Chain [1] done processing\n",
      "19:41:11 - cmdstanpy - INFO - Chain [1] start processing\n",
      "19:41:11 - cmdstanpy - INFO - Chain [1] done processing\n",
      "19:41:11 - cmdstanpy - INFO - Chain [1] start processing\n",
      "19:41:11 - cmdstanpy - INFO - Chain [1] done processing\n",
      "19:41:12 - cmdstanpy - INFO - Chain [1] start processing\n",
      "19:41:12 - cmdstanpy - INFO - Chain [1] done processing\n",
      "Seasonality has period of 365.25 days which is larger than initial window. Consider increasing initial.\n"
     ]
    },
    {
     "data": {
      "application/vnd.jupyter.widget-view+json": {
       "model_id": "9e6ac0178cb94779bb7a283c00210fb3",
       "version_major": 2,
       "version_minor": 0
      },
      "text/plain": [
       "  0%|          | 0/3 [00:00<?, ?it/s]"
      ]
     },
     "metadata": {},
     "output_type": "display_data"
    },
    {
     "name": "stderr",
     "output_type": "stream",
     "text": [
      "19:41:12 - cmdstanpy - INFO - Chain [1] start processing\n",
      "19:41:12 - cmdstanpy - INFO - Chain [1] done processing\n",
      "19:41:12 - cmdstanpy - INFO - Chain [1] start processing\n",
      "19:41:12 - cmdstanpy - INFO - Chain [1] done processing\n",
      "19:41:13 - cmdstanpy - INFO - Chain [1] start processing\n",
      "19:41:13 - cmdstanpy - INFO - Chain [1] done processing\n",
      "19:41:13 - cmdstanpy - INFO - Chain [1] start processing\n",
      "19:41:13 - cmdstanpy - INFO - Chain [1] done processing\n",
      "Seasonality has period of 365.25 days which is larger than initial window. Consider increasing initial.\n"
     ]
    },
    {
     "data": {
      "application/vnd.jupyter.widget-view+json": {
       "model_id": "bbcdfc668fa64d7ea31f9470b3fd1e5a",
       "version_major": 2,
       "version_minor": 0
      },
      "text/plain": [
       "  0%|          | 0/3 [00:00<?, ?it/s]"
      ]
     },
     "metadata": {},
     "output_type": "display_data"
    },
    {
     "name": "stderr",
     "output_type": "stream",
     "text": [
      "19:41:13 - cmdstanpy - INFO - Chain [1] start processing\n",
      "19:41:13 - cmdstanpy - INFO - Chain [1] done processing\n",
      "19:41:14 - cmdstanpy - INFO - Chain [1] start processing\n",
      "19:41:14 - cmdstanpy - INFO - Chain [1] done processing\n",
      "19:41:14 - cmdstanpy - INFO - Chain [1] start processing\n",
      "19:41:14 - cmdstanpy - INFO - Chain [1] done processing\n",
      "19:41:14 - cmdstanpy - INFO - Chain [1] start processing\n",
      "19:41:14 - cmdstanpy - INFO - Chain [1] done processing\n",
      "Seasonality has period of 365.25 days which is larger than initial window. Consider increasing initial.\n"
     ]
    },
    {
     "data": {
      "application/vnd.jupyter.widget-view+json": {
       "model_id": "e5c112a05c814140a796b8a2028ccd26",
       "version_major": 2,
       "version_minor": 0
      },
      "text/plain": [
       "  0%|          | 0/3 [00:00<?, ?it/s]"
      ]
     },
     "metadata": {},
     "output_type": "display_data"
    },
    {
     "name": "stderr",
     "output_type": "stream",
     "text": [
      "19:41:15 - cmdstanpy - INFO - Chain [1] start processing\n",
      "19:41:15 - cmdstanpy - INFO - Chain [1] done processing\n",
      "19:41:15 - cmdstanpy - INFO - Chain [1] start processing\n",
      "19:41:15 - cmdstanpy - INFO - Chain [1] done processing\n",
      "19:41:15 - cmdstanpy - INFO - Chain [1] start processing\n",
      "19:41:15 - cmdstanpy - INFO - Chain [1] done processing\n",
      "19:41:16 - cmdstanpy - INFO - Chain [1] start processing\n",
      "19:41:16 - cmdstanpy - INFO - Chain [1] done processing\n",
      "Seasonality has period of 365.25 days which is larger than initial window. Consider increasing initial.\n"
     ]
    },
    {
     "data": {
      "application/vnd.jupyter.widget-view+json": {
       "model_id": "915f347b03944702bb18268d28c34c66",
       "version_major": 2,
       "version_minor": 0
      },
      "text/plain": [
       "  0%|          | 0/3 [00:00<?, ?it/s]"
      ]
     },
     "metadata": {},
     "output_type": "display_data"
    },
    {
     "name": "stderr",
     "output_type": "stream",
     "text": [
      "19:41:16 - cmdstanpy - INFO - Chain [1] start processing\n",
      "19:41:16 - cmdstanpy - INFO - Chain [1] done processing\n",
      "19:41:16 - cmdstanpy - INFO - Chain [1] start processing\n",
      "19:41:16 - cmdstanpy - INFO - Chain [1] done processing\n",
      "19:41:17 - cmdstanpy - INFO - Chain [1] start processing\n",
      "19:41:17 - cmdstanpy - INFO - Chain [1] done processing\n",
      "19:41:17 - cmdstanpy - INFO - Chain [1] start processing\n",
      "19:41:17 - cmdstanpy - INFO - Chain [1] done processing\n",
      "Seasonality has period of 365.25 days which is larger than initial window. Consider increasing initial.\n"
     ]
    },
    {
     "data": {
      "application/vnd.jupyter.widget-view+json": {
       "model_id": "96c445172caa42db93d76282cc04eb94",
       "version_major": 2,
       "version_minor": 0
      },
      "text/plain": [
       "  0%|          | 0/3 [00:00<?, ?it/s]"
      ]
     },
     "metadata": {},
     "output_type": "display_data"
    },
    {
     "name": "stderr",
     "output_type": "stream",
     "text": [
      "19:41:17 - cmdstanpy - INFO - Chain [1] start processing\n",
      "19:41:17 - cmdstanpy - INFO - Chain [1] done processing\n",
      "19:41:18 - cmdstanpy - INFO - Chain [1] start processing\n",
      "19:41:18 - cmdstanpy - INFO - Chain [1] done processing\n",
      "19:41:18 - cmdstanpy - INFO - Chain [1] start processing\n",
      "19:41:18 - cmdstanpy - INFO - Chain [1] done processing\n",
      "19:41:18 - cmdstanpy - INFO - Chain [1] start processing\n",
      "19:41:19 - cmdstanpy - INFO - Chain [1] done processing\n",
      "Seasonality has period of 365.25 days which is larger than initial window. Consider increasing initial.\n"
     ]
    },
    {
     "data": {
      "application/vnd.jupyter.widget-view+json": {
       "model_id": "c6a0cf1edeca44ddb0b1c05549d65978",
       "version_major": 2,
       "version_minor": 0
      },
      "text/plain": [
       "  0%|          | 0/3 [00:00<?, ?it/s]"
      ]
     },
     "metadata": {},
     "output_type": "display_data"
    },
    {
     "name": "stderr",
     "output_type": "stream",
     "text": [
      "19:41:19 - cmdstanpy - INFO - Chain [1] start processing\n",
      "19:41:19 - cmdstanpy - INFO - Chain [1] done processing\n",
      "19:41:19 - cmdstanpy - INFO - Chain [1] start processing\n",
      "19:41:19 - cmdstanpy - INFO - Chain [1] done processing\n",
      "19:41:20 - cmdstanpy - INFO - Chain [1] start processing\n",
      "19:41:20 - cmdstanpy - INFO - Chain [1] done processing\n",
      "19:41:20 - cmdstanpy - INFO - Chain [1] start processing\n",
      "19:41:20 - cmdstanpy - INFO - Chain [1] done processing\n",
      "Seasonality has period of 365.25 days which is larger than initial window. Consider increasing initial.\n"
     ]
    },
    {
     "data": {
      "application/vnd.jupyter.widget-view+json": {
       "model_id": "225233e7d21747939007859cb4f29373",
       "version_major": 2,
       "version_minor": 0
      },
      "text/plain": [
       "  0%|          | 0/3 [00:00<?, ?it/s]"
      ]
     },
     "metadata": {},
     "output_type": "display_data"
    },
    {
     "name": "stderr",
     "output_type": "stream",
     "text": [
      "19:41:20 - cmdstanpy - INFO - Chain [1] start processing\n",
      "19:41:20 - cmdstanpy - INFO - Chain [1] done processing\n",
      "19:41:21 - cmdstanpy - INFO - Chain [1] start processing\n",
      "19:41:21 - cmdstanpy - INFO - Chain [1] done processing\n",
      "19:41:21 - cmdstanpy - INFO - Chain [1] start processing\n",
      "19:41:21 - cmdstanpy - INFO - Chain [1] done processing\n",
      "19:41:21 - cmdstanpy - INFO - Chain [1] start processing\n",
      "19:41:22 - cmdstanpy - INFO - Chain [1] done processing\n",
      "Seasonality has period of 365.25 days which is larger than initial window. Consider increasing initial.\n"
     ]
    },
    {
     "data": {
      "application/vnd.jupyter.widget-view+json": {
       "model_id": "72dbf6b2135a49f78d06f1960d4de302",
       "version_major": 2,
       "version_minor": 0
      },
      "text/plain": [
       "  0%|          | 0/3 [00:00<?, ?it/s]"
      ]
     },
     "metadata": {},
     "output_type": "display_data"
    },
    {
     "name": "stderr",
     "output_type": "stream",
     "text": [
      "19:41:22 - cmdstanpy - INFO - Chain [1] start processing\n",
      "19:41:22 - cmdstanpy - INFO - Chain [1] done processing\n",
      "19:41:22 - cmdstanpy - INFO - Chain [1] start processing\n",
      "19:41:22 - cmdstanpy - INFO - Chain [1] done processing\n",
      "19:41:22 - cmdstanpy - INFO - Chain [1] start processing\n",
      "19:41:22 - cmdstanpy - INFO - Chain [1] done processing\n",
      "19:41:23 - cmdstanpy - INFO - Chain [1] start processing\n",
      "19:41:23 - cmdstanpy - INFO - Chain [1] done processing\n",
      "Seasonality has period of 365.25 days which is larger than initial window. Consider increasing initial.\n"
     ]
    },
    {
     "data": {
      "application/vnd.jupyter.widget-view+json": {
       "model_id": "b024d800dd85475cb7d9b98567da564f",
       "version_major": 2,
       "version_minor": 0
      },
      "text/plain": [
       "  0%|          | 0/3 [00:00<?, ?it/s]"
      ]
     },
     "metadata": {},
     "output_type": "display_data"
    },
    {
     "name": "stderr",
     "output_type": "stream",
     "text": [
      "19:41:23 - cmdstanpy - INFO - Chain [1] start processing\n",
      "19:41:23 - cmdstanpy - INFO - Chain [1] done processing\n",
      "19:41:23 - cmdstanpy - INFO - Chain [1] start processing\n",
      "19:41:23 - cmdstanpy - INFO - Chain [1] done processing\n",
      "19:41:24 - cmdstanpy - INFO - Chain [1] start processing\n",
      "19:41:24 - cmdstanpy - INFO - Chain [1] done processing\n",
      "19:41:24 - cmdstanpy - INFO - Chain [1] start processing\n",
      "19:41:24 - cmdstanpy - INFO - Chain [1] done processing\n",
      "Seasonality has period of 365.25 days which is larger than initial window. Consider increasing initial.\n"
     ]
    },
    {
     "data": {
      "application/vnd.jupyter.widget-view+json": {
       "model_id": "f39bb77bb9e5497bb82378704dd1026d",
       "version_major": 2,
       "version_minor": 0
      },
      "text/plain": [
       "  0%|          | 0/3 [00:00<?, ?it/s]"
      ]
     },
     "metadata": {},
     "output_type": "display_data"
    },
    {
     "name": "stderr",
     "output_type": "stream",
     "text": [
      "19:41:24 - cmdstanpy - INFO - Chain [1] start processing\n",
      "19:41:24 - cmdstanpy - INFO - Chain [1] done processing\n",
      "19:41:25 - cmdstanpy - INFO - Chain [1] start processing\n",
      "19:41:25 - cmdstanpy - INFO - Chain [1] done processing\n",
      "19:41:25 - cmdstanpy - INFO - Chain [1] start processing\n",
      "19:41:25 - cmdstanpy - INFO - Chain [1] done processing\n",
      "19:41:26 - cmdstanpy - INFO - Chain [1] start processing\n",
      "19:41:26 - cmdstanpy - INFO - Chain [1] done processing\n",
      "Seasonality has period of 365.25 days which is larger than initial window. Consider increasing initial.\n"
     ]
    },
    {
     "data": {
      "application/vnd.jupyter.widget-view+json": {
       "model_id": "55f71524d50f45e9947c457df3656fdb",
       "version_major": 2,
       "version_minor": 0
      },
      "text/plain": [
       "  0%|          | 0/3 [00:00<?, ?it/s]"
      ]
     },
     "metadata": {},
     "output_type": "display_data"
    },
    {
     "name": "stderr",
     "output_type": "stream",
     "text": [
      "19:41:26 - cmdstanpy - INFO - Chain [1] start processing\n",
      "19:41:26 - cmdstanpy - INFO - Chain [1] done processing\n",
      "19:41:26 - cmdstanpy - INFO - Chain [1] start processing\n",
      "19:41:26 - cmdstanpy - INFO - Chain [1] done processing\n",
      "19:41:27 - cmdstanpy - INFO - Chain [1] start processing\n",
      "19:41:27 - cmdstanpy - INFO - Chain [1] done processing\n",
      "19:41:27 - cmdstanpy - INFO - Chain [1] start processing\n",
      "19:41:27 - cmdstanpy - INFO - Chain [1] done processing\n",
      "Seasonality has period of 365.25 days which is larger than initial window. Consider increasing initial.\n"
     ]
    },
    {
     "data": {
      "application/vnd.jupyter.widget-view+json": {
       "model_id": "c97232b955b948babf97a3095bf830da",
       "version_major": 2,
       "version_minor": 0
      },
      "text/plain": [
       "  0%|          | 0/3 [00:00<?, ?it/s]"
      ]
     },
     "metadata": {},
     "output_type": "display_data"
    },
    {
     "name": "stderr",
     "output_type": "stream",
     "text": [
      "19:41:27 - cmdstanpy - INFO - Chain [1] start processing\n",
      "19:41:27 - cmdstanpy - INFO - Chain [1] done processing\n",
      "19:41:28 - cmdstanpy - INFO - Chain [1] start processing\n",
      "19:41:28 - cmdstanpy - INFO - Chain [1] done processing\n",
      "19:41:28 - cmdstanpy - INFO - Chain [1] start processing\n",
      "19:41:28 - cmdstanpy - INFO - Chain [1] done processing\n",
      "19:41:28 - cmdstanpy - INFO - Chain [1] start processing\n",
      "19:41:29 - cmdstanpy - INFO - Chain [1] done processing\n",
      "Seasonality has period of 365.25 days which is larger than initial window. Consider increasing initial.\n"
     ]
    },
    {
     "data": {
      "application/vnd.jupyter.widget-view+json": {
       "model_id": "2bdfd90d949e47f4a28d2890dfe64981",
       "version_major": 2,
       "version_minor": 0
      },
      "text/plain": [
       "  0%|          | 0/3 [00:00<?, ?it/s]"
      ]
     },
     "metadata": {},
     "output_type": "display_data"
    },
    {
     "name": "stderr",
     "output_type": "stream",
     "text": [
      "19:41:29 - cmdstanpy - INFO - Chain [1] start processing\n",
      "19:41:29 - cmdstanpy - INFO - Chain [1] done processing\n",
      "19:41:29 - cmdstanpy - INFO - Chain [1] start processing\n",
      "19:41:29 - cmdstanpy - INFO - Chain [1] done processing\n",
      "19:41:29 - cmdstanpy - INFO - Chain [1] start processing\n",
      "19:41:29 - cmdstanpy - INFO - Chain [1] done processing\n",
      "19:41:30 - cmdstanpy - INFO - Chain [1] start processing\n",
      "19:41:30 - cmdstanpy - INFO - Chain [1] done processing\n",
      "Seasonality has period of 365.25 days which is larger than initial window. Consider increasing initial.\n"
     ]
    },
    {
     "data": {
      "application/vnd.jupyter.widget-view+json": {
       "model_id": "587a68f634c04ef584e169a0bba11df9",
       "version_major": 2,
       "version_minor": 0
      },
      "text/plain": [
       "  0%|          | 0/3 [00:00<?, ?it/s]"
      ]
     },
     "metadata": {},
     "output_type": "display_data"
    },
    {
     "name": "stderr",
     "output_type": "stream",
     "text": [
      "19:41:30 - cmdstanpy - INFO - Chain [1] start processing\n",
      "19:41:30 - cmdstanpy - INFO - Chain [1] done processing\n",
      "19:41:30 - cmdstanpy - INFO - Chain [1] start processing\n",
      "19:41:30 - cmdstanpy - INFO - Chain [1] done processing\n",
      "19:41:31 - cmdstanpy - INFO - Chain [1] start processing\n",
      "19:41:31 - cmdstanpy - INFO - Chain [1] done processing\n",
      "19:41:31 - cmdstanpy - INFO - Chain [1] start processing\n",
      "19:41:31 - cmdstanpy - INFO - Chain [1] done processing\n",
      "Seasonality has period of 365.25 days which is larger than initial window. Consider increasing initial.\n"
     ]
    },
    {
     "data": {
      "application/vnd.jupyter.widget-view+json": {
       "model_id": "55d2a7ac06724840921076b602858eb5",
       "version_major": 2,
       "version_minor": 0
      },
      "text/plain": [
       "  0%|          | 0/3 [00:00<?, ?it/s]"
      ]
     },
     "metadata": {},
     "output_type": "display_data"
    },
    {
     "name": "stderr",
     "output_type": "stream",
     "text": [
      "19:41:32 - cmdstanpy - INFO - Chain [1] start processing\n",
      "19:41:32 - cmdstanpy - INFO - Chain [1] done processing\n",
      "19:41:32 - cmdstanpy - INFO - Chain [1] start processing\n",
      "19:41:32 - cmdstanpy - INFO - Chain [1] done processing\n",
      "19:41:32 - cmdstanpy - INFO - Chain [1] start processing\n",
      "19:41:32 - cmdstanpy - INFO - Chain [1] done processing\n",
      "19:41:33 - cmdstanpy - INFO - Chain [1] start processing\n",
      "19:41:33 - cmdstanpy - INFO - Chain [1] done processing\n",
      "Seasonality has period of 365.25 days which is larger than initial window. Consider increasing initial.\n"
     ]
    },
    {
     "data": {
      "application/vnd.jupyter.widget-view+json": {
       "model_id": "80b19938fce54aa18ce256bb87373ea8",
       "version_major": 2,
       "version_minor": 0
      },
      "text/plain": [
       "  0%|          | 0/3 [00:00<?, ?it/s]"
      ]
     },
     "metadata": {},
     "output_type": "display_data"
    },
    {
     "name": "stderr",
     "output_type": "stream",
     "text": [
      "19:41:33 - cmdstanpy - INFO - Chain [1] start processing\n",
      "19:41:33 - cmdstanpy - INFO - Chain [1] done processing\n",
      "19:41:33 - cmdstanpy - INFO - Chain [1] start processing\n",
      "19:41:33 - cmdstanpy - INFO - Chain [1] done processing\n",
      "19:41:34 - cmdstanpy - INFO - Chain [1] start processing\n",
      "19:41:34 - cmdstanpy - INFO - Chain [1] done processing\n",
      "19:41:34 - cmdstanpy - INFO - Chain [1] start processing\n",
      "19:41:35 - cmdstanpy - INFO - Chain [1] done processing\n",
      "Seasonality has period of 365.25 days which is larger than initial window. Consider increasing initial.\n"
     ]
    },
    {
     "data": {
      "application/vnd.jupyter.widget-view+json": {
       "model_id": "3903c98c6d724bfcb4ed64d5fa979cd1",
       "version_major": 2,
       "version_minor": 0
      },
      "text/plain": [
       "  0%|          | 0/3 [00:00<?, ?it/s]"
      ]
     },
     "metadata": {},
     "output_type": "display_data"
    },
    {
     "name": "stderr",
     "output_type": "stream",
     "text": [
      "19:41:35 - cmdstanpy - INFO - Chain [1] start processing\n",
      "19:41:35 - cmdstanpy - INFO - Chain [1] done processing\n",
      "19:41:35 - cmdstanpy - INFO - Chain [1] start processing\n",
      "19:41:35 - cmdstanpy - INFO - Chain [1] done processing\n",
      "19:41:35 - cmdstanpy - INFO - Chain [1] start processing\n",
      "19:41:36 - cmdstanpy - INFO - Chain [1] done processing\n",
      "19:41:36 - cmdstanpy - INFO - Chain [1] start processing\n",
      "19:41:36 - cmdstanpy - INFO - Chain [1] done processing\n",
      "Seasonality has period of 365.25 days which is larger than initial window. Consider increasing initial.\n"
     ]
    },
    {
     "data": {
      "application/vnd.jupyter.widget-view+json": {
       "model_id": "127feaa9873f45b3b976c3b08111da9a",
       "version_major": 2,
       "version_minor": 0
      },
      "text/plain": [
       "  0%|          | 0/3 [00:00<?, ?it/s]"
      ]
     },
     "metadata": {},
     "output_type": "display_data"
    },
    {
     "name": "stderr",
     "output_type": "stream",
     "text": [
      "19:41:36 - cmdstanpy - INFO - Chain [1] start processing\n",
      "19:41:36 - cmdstanpy - INFO - Chain [1] done processing\n",
      "19:41:36 - cmdstanpy - INFO - Chain [1] start processing\n",
      "19:41:37 - cmdstanpy - INFO - Chain [1] done processing\n",
      "19:41:37 - cmdstanpy - INFO - Chain [1] start processing\n",
      "19:41:37 - cmdstanpy - INFO - Chain [1] done processing\n",
      "19:41:37 - cmdstanpy - INFO - Chain [1] start processing\n",
      "19:41:37 - cmdstanpy - INFO - Chain [1] done processing\n",
      "Seasonality has period of 365.25 days which is larger than initial window. Consider increasing initial.\n"
     ]
    },
    {
     "data": {
      "application/vnd.jupyter.widget-view+json": {
       "model_id": "fcdb0dd101794d84835a710ee1980c14",
       "version_major": 2,
       "version_minor": 0
      },
      "text/plain": [
       "  0%|          | 0/3 [00:00<?, ?it/s]"
      ]
     },
     "metadata": {},
     "output_type": "display_data"
    },
    {
     "name": "stderr",
     "output_type": "stream",
     "text": [
      "19:41:38 - cmdstanpy - INFO - Chain [1] start processing\n",
      "19:41:38 - cmdstanpy - INFO - Chain [1] done processing\n",
      "19:41:38 - cmdstanpy - INFO - Chain [1] start processing\n",
      "19:41:38 - cmdstanpy - INFO - Chain [1] done processing\n",
      "19:41:38 - cmdstanpy - INFO - Chain [1] start processing\n",
      "19:41:38 - cmdstanpy - INFO - Chain [1] done processing\n",
      "19:41:39 - cmdstanpy - INFO - Chain [1] start processing\n",
      "19:41:39 - cmdstanpy - INFO - Chain [1] done processing\n",
      "Seasonality has period of 365.25 days which is larger than initial window. Consider increasing initial.\n"
     ]
    },
    {
     "data": {
      "application/vnd.jupyter.widget-view+json": {
       "model_id": "98cab7f9cb924dfd9532a41b0e6d6280",
       "version_major": 2,
       "version_minor": 0
      },
      "text/plain": [
       "  0%|          | 0/3 [00:00<?, ?it/s]"
      ]
     },
     "metadata": {},
     "output_type": "display_data"
    },
    {
     "name": "stderr",
     "output_type": "stream",
     "text": [
      "19:41:39 - cmdstanpy - INFO - Chain [1] start processing\n",
      "19:41:39 - cmdstanpy - INFO - Chain [1] done processing\n",
      "19:41:39 - cmdstanpy - INFO - Chain [1] start processing\n",
      "19:41:39 - cmdstanpy - INFO - Chain [1] done processing\n",
      "19:41:40 - cmdstanpy - INFO - Chain [1] start processing\n",
      "19:41:40 - cmdstanpy - INFO - Chain [1] done processing\n",
      "19:41:40 - cmdstanpy - INFO - Chain [1] start processing\n",
      "19:41:40 - cmdstanpy - INFO - Chain [1] done processing\n",
      "Seasonality has period of 365.25 days which is larger than initial window. Consider increasing initial.\n"
     ]
    },
    {
     "data": {
      "application/vnd.jupyter.widget-view+json": {
       "model_id": "7685353ebd3b4ef4b890dc10eb80c061",
       "version_major": 2,
       "version_minor": 0
      },
      "text/plain": [
       "  0%|          | 0/3 [00:00<?, ?it/s]"
      ]
     },
     "metadata": {},
     "output_type": "display_data"
    },
    {
     "name": "stderr",
     "output_type": "stream",
     "text": [
      "19:41:40 - cmdstanpy - INFO - Chain [1] start processing\n",
      "19:41:40 - cmdstanpy - INFO - Chain [1] done processing\n",
      "19:41:41 - cmdstanpy - INFO - Chain [1] start processing\n",
      "19:41:41 - cmdstanpy - INFO - Chain [1] done processing\n",
      "19:41:41 - cmdstanpy - INFO - Chain [1] start processing\n",
      "19:41:41 - cmdstanpy - INFO - Chain [1] done processing\n",
      "19:41:42 - cmdstanpy - INFO - Chain [1] start processing\n",
      "19:41:42 - cmdstanpy - INFO - Chain [1] done processing\n",
      "Seasonality has period of 365.25 days which is larger than initial window. Consider increasing initial.\n"
     ]
    },
    {
     "data": {
      "application/vnd.jupyter.widget-view+json": {
       "model_id": "cb71ff1e3b2d4651bfa8cce54d6de416",
       "version_major": 2,
       "version_minor": 0
      },
      "text/plain": [
       "  0%|          | 0/3 [00:00<?, ?it/s]"
      ]
     },
     "metadata": {},
     "output_type": "display_data"
    },
    {
     "name": "stderr",
     "output_type": "stream",
     "text": [
      "19:41:42 - cmdstanpy - INFO - Chain [1] start processing\n",
      "19:41:42 - cmdstanpy - INFO - Chain [1] done processing\n",
      "19:41:42 - cmdstanpy - INFO - Chain [1] start processing\n",
      "19:41:42 - cmdstanpy - INFO - Chain [1] done processing\n",
      "19:41:43 - cmdstanpy - INFO - Chain [1] start processing\n",
      "19:41:43 - cmdstanpy - INFO - Chain [1] done processing\n",
      "19:41:43 - cmdstanpy - INFO - Chain [1] start processing\n",
      "19:41:43 - cmdstanpy - INFO - Chain [1] done processing\n",
      "Seasonality has period of 365.25 days which is larger than initial window. Consider increasing initial.\n"
     ]
    },
    {
     "data": {
      "application/vnd.jupyter.widget-view+json": {
       "model_id": "c14bd895e57d453fb8d79c95477f58c1",
       "version_major": 2,
       "version_minor": 0
      },
      "text/plain": [
       "  0%|          | 0/3 [00:00<?, ?it/s]"
      ]
     },
     "metadata": {},
     "output_type": "display_data"
    },
    {
     "name": "stderr",
     "output_type": "stream",
     "text": [
      "19:41:43 - cmdstanpy - INFO - Chain [1] start processing\n",
      "19:41:43 - cmdstanpy - INFO - Chain [1] done processing\n",
      "19:41:44 - cmdstanpy - INFO - Chain [1] start processing\n",
      "19:41:44 - cmdstanpy - INFO - Chain [1] done processing\n",
      "19:41:44 - cmdstanpy - INFO - Chain [1] start processing\n",
      "19:41:44 - cmdstanpy - INFO - Chain [1] done processing\n",
      "19:41:45 - cmdstanpy - INFO - Chain [1] start processing\n",
      "19:41:45 - cmdstanpy - INFO - Chain [1] done processing\n",
      "Seasonality has period of 365.25 days which is larger than initial window. Consider increasing initial.\n"
     ]
    },
    {
     "data": {
      "application/vnd.jupyter.widget-view+json": {
       "model_id": "794c493574db43a095554688bc7ea7f1",
       "version_major": 2,
       "version_minor": 0
      },
      "text/plain": [
       "  0%|          | 0/3 [00:00<?, ?it/s]"
      ]
     },
     "metadata": {},
     "output_type": "display_data"
    },
    {
     "name": "stderr",
     "output_type": "stream",
     "text": [
      "19:41:45 - cmdstanpy - INFO - Chain [1] start processing\n",
      "19:41:45 - cmdstanpy - INFO - Chain [1] done processing\n",
      "19:41:45 - cmdstanpy - INFO - Chain [1] start processing\n",
      "19:41:45 - cmdstanpy - INFO - Chain [1] done processing\n",
      "19:41:46 - cmdstanpy - INFO - Chain [1] start processing\n",
      "19:41:46 - cmdstanpy - INFO - Chain [1] done processing\n",
      "19:41:46 - cmdstanpy - INFO - Chain [1] start processing\n",
      "19:41:46 - cmdstanpy - INFO - Chain [1] done processing\n",
      "Seasonality has period of 365.25 days which is larger than initial window. Consider increasing initial.\n"
     ]
    },
    {
     "data": {
      "application/vnd.jupyter.widget-view+json": {
       "model_id": "7bb8fe89c76c46c1bc125c3f1800dccf",
       "version_major": 2,
       "version_minor": 0
      },
      "text/plain": [
       "  0%|          | 0/3 [00:00<?, ?it/s]"
      ]
     },
     "metadata": {},
     "output_type": "display_data"
    },
    {
     "name": "stderr",
     "output_type": "stream",
     "text": [
      "19:41:46 - cmdstanpy - INFO - Chain [1] start processing\n",
      "19:41:46 - cmdstanpy - INFO - Chain [1] done processing\n",
      "19:41:47 - cmdstanpy - INFO - Chain [1] start processing\n",
      "19:41:47 - cmdstanpy - INFO - Chain [1] done processing\n",
      "19:41:47 - cmdstanpy - INFO - Chain [1] start processing\n",
      "19:41:47 - cmdstanpy - INFO - Chain [1] done processing\n",
      "19:41:48 - cmdstanpy - INFO - Chain [1] start processing\n",
      "19:41:48 - cmdstanpy - INFO - Chain [1] done processing\n",
      "Seasonality has period of 365.25 days which is larger than initial window. Consider increasing initial.\n"
     ]
    },
    {
     "data": {
      "application/vnd.jupyter.widget-view+json": {
       "model_id": "43b474dcaa8144f3a46bce4ec58e8129",
       "version_major": 2,
       "version_minor": 0
      },
      "text/plain": [
       "  0%|          | 0/3 [00:00<?, ?it/s]"
      ]
     },
     "metadata": {},
     "output_type": "display_data"
    },
    {
     "name": "stderr",
     "output_type": "stream",
     "text": [
      "19:41:48 - cmdstanpy - INFO - Chain [1] start processing\n",
      "19:41:48 - cmdstanpy - INFO - Chain [1] done processing\n",
      "19:41:48 - cmdstanpy - INFO - Chain [1] start processing\n",
      "19:41:48 - cmdstanpy - INFO - Chain [1] done processing\n",
      "19:41:49 - cmdstanpy - INFO - Chain [1] start processing\n",
      "19:41:49 - cmdstanpy - INFO - Chain [1] done processing\n",
      "19:41:49 - cmdstanpy - INFO - Chain [1] start processing\n",
      "19:41:49 - cmdstanpy - INFO - Chain [1] done processing\n",
      "Seasonality has period of 365.25 days which is larger than initial window. Consider increasing initial.\n"
     ]
    },
    {
     "data": {
      "application/vnd.jupyter.widget-view+json": {
       "model_id": "f2d80d9e6f0d44ba80deab81b0506a14",
       "version_major": 2,
       "version_minor": 0
      },
      "text/plain": [
       "  0%|          | 0/3 [00:00<?, ?it/s]"
      ]
     },
     "metadata": {},
     "output_type": "display_data"
    },
    {
     "name": "stderr",
     "output_type": "stream",
     "text": [
      "19:41:49 - cmdstanpy - INFO - Chain [1] start processing\n",
      "19:41:50 - cmdstanpy - INFO - Chain [1] done processing\n",
      "19:41:50 - cmdstanpy - INFO - Chain [1] start processing\n",
      "19:41:50 - cmdstanpy - INFO - Chain [1] done processing\n",
      "19:41:50 - cmdstanpy - INFO - Chain [1] start processing\n",
      "19:41:50 - cmdstanpy - INFO - Chain [1] done processing\n",
      "19:41:51 - cmdstanpy - INFO - Chain [1] start processing\n",
      "19:41:51 - cmdstanpy - INFO - Chain [1] done processing\n",
      "Seasonality has period of 365.25 days which is larger than initial window. Consider increasing initial.\n"
     ]
    },
    {
     "data": {
      "application/vnd.jupyter.widget-view+json": {
       "model_id": "1fe1f8582a504cd3a0ff618a8a7bb306",
       "version_major": 2,
       "version_minor": 0
      },
      "text/plain": [
       "  0%|          | 0/3 [00:00<?, ?it/s]"
      ]
     },
     "metadata": {},
     "output_type": "display_data"
    },
    {
     "name": "stderr",
     "output_type": "stream",
     "text": [
      "19:41:51 - cmdstanpy - INFO - Chain [1] start processing\n",
      "19:41:51 - cmdstanpy - INFO - Chain [1] done processing\n",
      "19:41:51 - cmdstanpy - INFO - Chain [1] start processing\n",
      "19:41:51 - cmdstanpy - INFO - Chain [1] done processing\n",
      "19:41:52 - cmdstanpy - INFO - Chain [1] start processing\n",
      "19:41:52 - cmdstanpy - INFO - Chain [1] done processing\n",
      "19:41:52 - cmdstanpy - INFO - Chain [1] start processing\n",
      "19:41:52 - cmdstanpy - INFO - Chain [1] done processing\n",
      "Seasonality has period of 365.25 days which is larger than initial window. Consider increasing initial.\n"
     ]
    },
    {
     "data": {
      "application/vnd.jupyter.widget-view+json": {
       "model_id": "e5b6b363a112465fbab5d105fb645200",
       "version_major": 2,
       "version_minor": 0
      },
      "text/plain": [
       "  0%|          | 0/3 [00:00<?, ?it/s]"
      ]
     },
     "metadata": {},
     "output_type": "display_data"
    },
    {
     "name": "stderr",
     "output_type": "stream",
     "text": [
      "19:41:52 - cmdstanpy - INFO - Chain [1] start processing\n",
      "19:41:52 - cmdstanpy - INFO - Chain [1] done processing\n",
      "19:41:53 - cmdstanpy - INFO - Chain [1] start processing\n",
      "19:41:53 - cmdstanpy - INFO - Chain [1] done processing\n",
      "19:41:53 - cmdstanpy - INFO - Chain [1] start processing\n",
      "19:41:53 - cmdstanpy - INFO - Chain [1] done processing\n",
      "19:41:54 - cmdstanpy - INFO - Chain [1] start processing\n",
      "19:41:54 - cmdstanpy - INFO - Chain [1] done processing\n",
      "Seasonality has period of 365.25 days which is larger than initial window. Consider increasing initial.\n"
     ]
    },
    {
     "data": {
      "application/vnd.jupyter.widget-view+json": {
       "model_id": "a0e1616390724bf6bebca5defc656296",
       "version_major": 2,
       "version_minor": 0
      },
      "text/plain": [
       "  0%|          | 0/3 [00:00<?, ?it/s]"
      ]
     },
     "metadata": {},
     "output_type": "display_data"
    },
    {
     "name": "stderr",
     "output_type": "stream",
     "text": [
      "19:41:54 - cmdstanpy - INFO - Chain [1] start processing\n",
      "19:41:54 - cmdstanpy - INFO - Chain [1] done processing\n",
      "19:41:54 - cmdstanpy - INFO - Chain [1] start processing\n",
      "19:41:54 - cmdstanpy - INFO - Chain [1] done processing\n",
      "19:41:54 - cmdstanpy - INFO - Chain [1] start processing\n",
      "19:41:55 - cmdstanpy - INFO - Chain [1] done processing\n",
      "19:41:55 - cmdstanpy - INFO - Chain [1] start processing\n",
      "19:41:55 - cmdstanpy - INFO - Chain [1] done processing\n",
      "Seasonality has period of 365.25 days which is larger than initial window. Consider increasing initial.\n"
     ]
    },
    {
     "data": {
      "application/vnd.jupyter.widget-view+json": {
       "model_id": "560ef8bd43d34263bdc488a4b705ae28",
       "version_major": 2,
       "version_minor": 0
      },
      "text/plain": [
       "  0%|          | 0/3 [00:00<?, ?it/s]"
      ]
     },
     "metadata": {},
     "output_type": "display_data"
    },
    {
     "name": "stderr",
     "output_type": "stream",
     "text": [
      "19:41:56 - cmdstanpy - INFO - Chain [1] start processing\n",
      "19:41:56 - cmdstanpy - INFO - Chain [1] done processing\n",
      "19:41:56 - cmdstanpy - INFO - Chain [1] start processing\n",
      "19:41:56 - cmdstanpy - INFO - Chain [1] done processing\n",
      "19:41:56 - cmdstanpy - INFO - Chain [1] start processing\n",
      "19:41:57 - cmdstanpy - INFO - Chain [1] done processing\n",
      "19:41:57 - cmdstanpy - INFO - Chain [1] start processing\n",
      "19:41:57 - cmdstanpy - INFO - Chain [1] done processing\n",
      "Seasonality has period of 365.25 days which is larger than initial window. Consider increasing initial.\n"
     ]
    },
    {
     "data": {
      "application/vnd.jupyter.widget-view+json": {
       "model_id": "15a7aa187220423c81cc2d83cc0e9f96",
       "version_major": 2,
       "version_minor": 0
      },
      "text/plain": [
       "  0%|          | 0/3 [00:00<?, ?it/s]"
      ]
     },
     "metadata": {},
     "output_type": "display_data"
    },
    {
     "name": "stderr",
     "output_type": "stream",
     "text": [
      "19:41:57 - cmdstanpy - INFO - Chain [1] start processing\n",
      "19:41:57 - cmdstanpy - INFO - Chain [1] done processing\n",
      "19:41:58 - cmdstanpy - INFO - Chain [1] start processing\n",
      "19:41:58 - cmdstanpy - INFO - Chain [1] done processing\n",
      "19:41:58 - cmdstanpy - INFO - Chain [1] start processing\n",
      "19:41:58 - cmdstanpy - INFO - Chain [1] done processing\n",
      "19:41:59 - cmdstanpy - INFO - Chain [1] start processing\n",
      "19:41:59 - cmdstanpy - INFO - Chain [1] done processing\n",
      "Seasonality has period of 365.25 days which is larger than initial window. Consider increasing initial.\n"
     ]
    },
    {
     "data": {
      "application/vnd.jupyter.widget-view+json": {
       "model_id": "129ce622736d49d78a466673ff33a7ff",
       "version_major": 2,
       "version_minor": 0
      },
      "text/plain": [
       "  0%|          | 0/3 [00:00<?, ?it/s]"
      ]
     },
     "metadata": {},
     "output_type": "display_data"
    },
    {
     "name": "stderr",
     "output_type": "stream",
     "text": [
      "19:41:59 - cmdstanpy - INFO - Chain [1] start processing\n",
      "19:41:59 - cmdstanpy - INFO - Chain [1] done processing\n",
      "19:41:59 - cmdstanpy - INFO - Chain [1] start processing\n",
      "19:42:00 - cmdstanpy - INFO - Chain [1] done processing\n",
      "19:42:00 - cmdstanpy - INFO - Chain [1] start processing\n",
      "19:42:00 - cmdstanpy - INFO - Chain [1] done processing\n",
      "19:42:00 - cmdstanpy - INFO - Chain [1] start processing\n",
      "19:42:01 - cmdstanpy - INFO - Chain [1] done processing\n",
      "Seasonality has period of 365.25 days which is larger than initial window. Consider increasing initial.\n"
     ]
    },
    {
     "data": {
      "application/vnd.jupyter.widget-view+json": {
       "model_id": "b531ca998dad4e4e9bc8b7a4892864b3",
       "version_major": 2,
       "version_minor": 0
      },
      "text/plain": [
       "  0%|          | 0/3 [00:00<?, ?it/s]"
      ]
     },
     "metadata": {},
     "output_type": "display_data"
    },
    {
     "name": "stderr",
     "output_type": "stream",
     "text": [
      "19:42:01 - cmdstanpy - INFO - Chain [1] start processing\n",
      "19:42:01 - cmdstanpy - INFO - Chain [1] done processing\n",
      "19:42:01 - cmdstanpy - INFO - Chain [1] start processing\n",
      "19:42:01 - cmdstanpy - INFO - Chain [1] done processing\n",
      "19:42:01 - cmdstanpy - INFO - Chain [1] start processing\n",
      "19:42:02 - cmdstanpy - INFO - Chain [1] done processing\n",
      "19:42:02 - cmdstanpy - INFO - Chain [1] start processing\n",
      "19:42:02 - cmdstanpy - INFO - Chain [1] done processing\n",
      "Seasonality has period of 365.25 days which is larger than initial window. Consider increasing initial.\n"
     ]
    },
    {
     "data": {
      "application/vnd.jupyter.widget-view+json": {
       "model_id": "35dbc42fa47f48febfb5434d95e1a919",
       "version_major": 2,
       "version_minor": 0
      },
      "text/plain": [
       "  0%|          | 0/3 [00:00<?, ?it/s]"
      ]
     },
     "metadata": {},
     "output_type": "display_data"
    },
    {
     "name": "stderr",
     "output_type": "stream",
     "text": [
      "19:42:02 - cmdstanpy - INFO - Chain [1] start processing\n",
      "19:42:02 - cmdstanpy - INFO - Chain [1] done processing\n",
      "19:42:03 - cmdstanpy - INFO - Chain [1] start processing\n",
      "19:42:03 - cmdstanpy - INFO - Chain [1] done processing\n",
      "19:42:03 - cmdstanpy - INFO - Chain [1] start processing\n",
      "19:42:03 - cmdstanpy - INFO - Chain [1] done processing\n",
      "19:42:04 - cmdstanpy - INFO - Chain [1] start processing\n",
      "19:42:04 - cmdstanpy - INFO - Chain [1] done processing\n",
      "Seasonality has period of 365.25 days which is larger than initial window. Consider increasing initial.\n"
     ]
    },
    {
     "data": {
      "application/vnd.jupyter.widget-view+json": {
       "model_id": "99dfae7194f6487eb37685b955876129",
       "version_major": 2,
       "version_minor": 0
      },
      "text/plain": [
       "  0%|          | 0/3 [00:00<?, ?it/s]"
      ]
     },
     "metadata": {},
     "output_type": "display_data"
    },
    {
     "name": "stderr",
     "output_type": "stream",
     "text": [
      "19:42:04 - cmdstanpy - INFO - Chain [1] start processing\n",
      "19:42:04 - cmdstanpy - INFO - Chain [1] done processing\n",
      "19:42:05 - cmdstanpy - INFO - Chain [1] start processing\n",
      "19:42:05 - cmdstanpy - INFO - Chain [1] done processing\n",
      "19:42:05 - cmdstanpy - INFO - Chain [1] start processing\n",
      "19:42:05 - cmdstanpy - INFO - Chain [1] done processing\n",
      "19:42:05 - cmdstanpy - INFO - Chain [1] start processing\n",
      "19:42:06 - cmdstanpy - INFO - Chain [1] done processing\n",
      "Seasonality has period of 365.25 days which is larger than initial window. Consider increasing initial.\n"
     ]
    },
    {
     "data": {
      "application/vnd.jupyter.widget-view+json": {
       "model_id": "ec0bf0dae24d44c28318ce35be4f0276",
       "version_major": 2,
       "version_minor": 0
      },
      "text/plain": [
       "  0%|          | 0/3 [00:00<?, ?it/s]"
      ]
     },
     "metadata": {},
     "output_type": "display_data"
    },
    {
     "name": "stderr",
     "output_type": "stream",
     "text": [
      "19:42:06 - cmdstanpy - INFO - Chain [1] start processing\n",
      "19:42:06 - cmdstanpy - INFO - Chain [1] done processing\n",
      "19:42:06 - cmdstanpy - INFO - Chain [1] start processing\n",
      "19:42:07 - cmdstanpy - INFO - Chain [1] done processing\n",
      "19:42:07 - cmdstanpy - INFO - Chain [1] start processing\n",
      "19:42:07 - cmdstanpy - INFO - Chain [1] done processing\n",
      "19:42:07 - cmdstanpy - INFO - Chain [1] start processing\n",
      "19:42:08 - cmdstanpy - INFO - Chain [1] done processing\n",
      "Seasonality has period of 365.25 days which is larger than initial window. Consider increasing initial.\n"
     ]
    },
    {
     "data": {
      "application/vnd.jupyter.widget-view+json": {
       "model_id": "36d9be00f96f4c3b86640bd19f45d215",
       "version_major": 2,
       "version_minor": 0
      },
      "text/plain": [
       "  0%|          | 0/3 [00:00<?, ?it/s]"
      ]
     },
     "metadata": {},
     "output_type": "display_data"
    },
    {
     "name": "stderr",
     "output_type": "stream",
     "text": [
      "19:42:08 - cmdstanpy - INFO - Chain [1] start processing\n",
      "19:42:08 - cmdstanpy - INFO - Chain [1] done processing\n",
      "19:42:08 - cmdstanpy - INFO - Chain [1] start processing\n",
      "19:42:08 - cmdstanpy - INFO - Chain [1] done processing\n",
      "19:42:08 - cmdstanpy - INFO - Chain [1] start processing\n",
      "19:42:09 - cmdstanpy - INFO - Chain [1] done processing\n",
      "19:42:09 - cmdstanpy - INFO - Chain [1] start processing\n",
      "19:42:09 - cmdstanpy - INFO - Chain [1] done processing\n",
      "Seasonality has period of 365.25 days which is larger than initial window. Consider increasing initial.\n"
     ]
    },
    {
     "data": {
      "application/vnd.jupyter.widget-view+json": {
       "model_id": "9c45d44a3dc44da09f2ed7446e85cf85",
       "version_major": 2,
       "version_minor": 0
      },
      "text/plain": [
       "  0%|          | 0/3 [00:00<?, ?it/s]"
      ]
     },
     "metadata": {},
     "output_type": "display_data"
    },
    {
     "name": "stderr",
     "output_type": "stream",
     "text": [
      "19:42:09 - cmdstanpy - INFO - Chain [1] start processing\n",
      "19:42:10 - cmdstanpy - INFO - Chain [1] done processing\n",
      "19:42:10 - cmdstanpy - INFO - Chain [1] start processing\n",
      "19:42:10 - cmdstanpy - INFO - Chain [1] done processing\n",
      "19:42:10 - cmdstanpy - INFO - Chain [1] start processing\n",
      "19:42:10 - cmdstanpy - INFO - Chain [1] done processing\n",
      "19:42:11 - cmdstanpy - INFO - Chain [1] start processing\n",
      "19:42:11 - cmdstanpy - INFO - Chain [1] done processing\n",
      "Seasonality has period of 365.25 days which is larger than initial window. Consider increasing initial.\n"
     ]
    },
    {
     "data": {
      "application/vnd.jupyter.widget-view+json": {
       "model_id": "17f06373bc5048a7b4720e79892da357",
       "version_major": 2,
       "version_minor": 0
      },
      "text/plain": [
       "  0%|          | 0/3 [00:00<?, ?it/s]"
      ]
     },
     "metadata": {},
     "output_type": "display_data"
    },
    {
     "name": "stderr",
     "output_type": "stream",
     "text": [
      "19:42:11 - cmdstanpy - INFO - Chain [1] start processing\n",
      "19:42:11 - cmdstanpy - INFO - Chain [1] done processing\n",
      "19:42:12 - cmdstanpy - INFO - Chain [1] start processing\n",
      "19:42:12 - cmdstanpy - INFO - Chain [1] done processing\n",
      "19:42:12 - cmdstanpy - INFO - Chain [1] start processing\n",
      "19:42:12 - cmdstanpy - INFO - Chain [1] done processing\n",
      "19:42:13 - cmdstanpy - INFO - Chain [1] start processing\n",
      "19:42:13 - cmdstanpy - INFO - Chain [1] done processing\n",
      "Seasonality has period of 365.25 days which is larger than initial window. Consider increasing initial.\n"
     ]
    },
    {
     "data": {
      "application/vnd.jupyter.widget-view+json": {
       "model_id": "4c5619b3093a49dcb7142b4dbbee9c27",
       "version_major": 2,
       "version_minor": 0
      },
      "text/plain": [
       "  0%|          | 0/3 [00:00<?, ?it/s]"
      ]
     },
     "metadata": {},
     "output_type": "display_data"
    },
    {
     "name": "stderr",
     "output_type": "stream",
     "text": [
      "19:42:13 - cmdstanpy - INFO - Chain [1] start processing\n",
      "19:42:13 - cmdstanpy - INFO - Chain [1] done processing\n",
      "19:42:13 - cmdstanpy - INFO - Chain [1] start processing\n",
      "19:42:13 - cmdstanpy - INFO - Chain [1] done processing\n",
      "19:42:14 - cmdstanpy - INFO - Chain [1] start processing\n",
      "19:42:14 - cmdstanpy - INFO - Chain [1] done processing\n",
      "19:42:14 - cmdstanpy - INFO - Chain [1] start processing\n",
      "19:42:15 - cmdstanpy - INFO - Chain [1] done processing\n",
      "Seasonality has period of 365.25 days which is larger than initial window. Consider increasing initial.\n"
     ]
    },
    {
     "data": {
      "application/vnd.jupyter.widget-view+json": {
       "model_id": "6750af0c1e4447088df7268acaca1141",
       "version_major": 2,
       "version_minor": 0
      },
      "text/plain": [
       "  0%|          | 0/3 [00:00<?, ?it/s]"
      ]
     },
     "metadata": {},
     "output_type": "display_data"
    },
    {
     "name": "stderr",
     "output_type": "stream",
     "text": [
      "19:42:15 - cmdstanpy - INFO - Chain [1] start processing\n",
      "19:42:15 - cmdstanpy - INFO - Chain [1] done processing\n",
      "19:42:15 - cmdstanpy - INFO - Chain [1] start processing\n",
      "19:42:15 - cmdstanpy - INFO - Chain [1] done processing\n",
      "19:42:15 - cmdstanpy - INFO - Chain [1] start processing\n",
      "19:42:16 - cmdstanpy - INFO - Chain [1] done processing\n",
      "19:42:16 - cmdstanpy - INFO - Chain [1] start processing\n"
     ]
    },
    {
     "name": "stdout",
     "output_type": "stream",
     "text": [
      "Best parameters: params    {'changepoint_prior_scale': 0.8, 'holidays_pri...\n",
      "MAPE                                               0.045941\n",
      "Name: 36, dtype: object\n"
     ]
    },
    {
     "name": "stderr",
     "output_type": "stream",
     "text": [
      "19:42:16 - cmdstanpy - INFO - Chain [1] done processing\n",
      "19:42:17 - cmdstanpy - INFO - Chain [1] start processing\n",
      "19:42:17 - cmdstanpy - INFO - Chain [1] done processing\n",
      "Seasonality has period of 365.25 days which is larger than initial window. Consider increasing initial.\n"
     ]
    },
    {
     "name": "stdout",
     "output_type": "stream",
     "text": [
      "           y          ds\n",
      "4772  1139.0  2021-07-21\n",
      "4773   890.0  2021-07-29\n",
      "4774   797.0  2021-08-06\n",
      "4775   979.0  2021-08-13\n",
      "4776  1002.0  2021-08-14\n"
     ]
    },
    {
     "data": {
      "application/vnd.jupyter.widget-view+json": {
       "model_id": "4ad5c4f4c1b84c21a6436bcbeccf8589",
       "version_major": 2,
       "version_minor": 0
      },
      "text/plain": [
       "  0%|          | 0/2 [00:00<?, ?it/s]"
      ]
     },
     "metadata": {},
     "output_type": "display_data"
    },
    {
     "name": "stderr",
     "output_type": "stream",
     "text": [
      "19:42:17 - cmdstanpy - INFO - Chain [1] start processing\n",
      "19:42:17 - cmdstanpy - INFO - Chain [1] done processing\n",
      "19:42:17 - cmdstanpy - INFO - Chain [1] start processing\n",
      "19:42:17 - cmdstanpy - INFO - Chain [1] done processing\n",
      "19:42:17 - cmdstanpy - INFO - Chain [1] start processing\n",
      "19:42:17 - cmdstanpy - INFO - Chain [1] done processing\n",
      "Seasonality has period of 365.25 days which is larger than initial window. Consider increasing initial.\n"
     ]
    },
    {
     "data": {
      "application/vnd.jupyter.widget-view+json": {
       "model_id": "2620b30d5eea496bb06712a925c6eb15",
       "version_major": 2,
       "version_minor": 0
      },
      "text/plain": [
       "  0%|          | 0/2 [00:00<?, ?it/s]"
      ]
     },
     "metadata": {},
     "output_type": "display_data"
    },
    {
     "name": "stderr",
     "output_type": "stream",
     "text": [
      "19:42:17 - cmdstanpy - INFO - Chain [1] start processing\n",
      "19:42:17 - cmdstanpy - INFO - Chain [1] done processing\n",
      "19:42:18 - cmdstanpy - INFO - Chain [1] start processing\n",
      "19:42:18 - cmdstanpy - INFO - Chain [1] done processing\n",
      "19:42:18 - cmdstanpy - INFO - Chain [1] start processing\n",
      "19:42:18 - cmdstanpy - INFO - Chain [1] done processing\n",
      "Seasonality has period of 365.25 days which is larger than initial window. Consider increasing initial.\n"
     ]
    },
    {
     "data": {
      "application/vnd.jupyter.widget-view+json": {
       "model_id": "3025e2e86f104551bd66d5f5f3d8eaa3",
       "version_major": 2,
       "version_minor": 0
      },
      "text/plain": [
       "  0%|          | 0/2 [00:00<?, ?it/s]"
      ]
     },
     "metadata": {},
     "output_type": "display_data"
    },
    {
     "name": "stderr",
     "output_type": "stream",
     "text": [
      "19:42:18 - cmdstanpy - INFO - Chain [1] start processing\n",
      "19:42:18 - cmdstanpy - INFO - Chain [1] done processing\n",
      "19:42:18 - cmdstanpy - INFO - Chain [1] start processing\n",
      "19:42:19 - cmdstanpy - INFO - Chain [1] done processing\n",
      "19:42:19 - cmdstanpy - INFO - Chain [1] start processing\n",
      "19:42:19 - cmdstanpy - INFO - Chain [1] done processing\n",
      "Seasonality has period of 365.25 days which is larger than initial window. Consider increasing initial.\n"
     ]
    },
    {
     "data": {
      "application/vnd.jupyter.widget-view+json": {
       "model_id": "13841e934f654e23b63db2825db49937",
       "version_major": 2,
       "version_minor": 0
      },
      "text/plain": [
       "  0%|          | 0/2 [00:00<?, ?it/s]"
      ]
     },
     "metadata": {},
     "output_type": "display_data"
    },
    {
     "name": "stderr",
     "output_type": "stream",
     "text": [
      "19:42:19 - cmdstanpy - INFO - Chain [1] start processing\n",
      "19:42:19 - cmdstanpy - INFO - Chain [1] done processing\n",
      "19:42:19 - cmdstanpy - INFO - Chain [1] start processing\n",
      "19:42:19 - cmdstanpy - INFO - Chain [1] done processing\n",
      "19:42:20 - cmdstanpy - INFO - Chain [1] start processing\n",
      "19:42:20 - cmdstanpy - INFO - Chain [1] done processing\n",
      "Seasonality has period of 365.25 days which is larger than initial window. Consider increasing initial.\n"
     ]
    },
    {
     "data": {
      "application/vnd.jupyter.widget-view+json": {
       "model_id": "0bf79c16751e46e6b579145a3bed6a05",
       "version_major": 2,
       "version_minor": 0
      },
      "text/plain": [
       "  0%|          | 0/2 [00:00<?, ?it/s]"
      ]
     },
     "metadata": {},
     "output_type": "display_data"
    },
    {
     "name": "stderr",
     "output_type": "stream",
     "text": [
      "19:42:20 - cmdstanpy - INFO - Chain [1] start processing\n",
      "19:42:20 - cmdstanpy - INFO - Chain [1] done processing\n",
      "19:42:20 - cmdstanpy - INFO - Chain [1] start processing\n",
      "19:42:20 - cmdstanpy - INFO - Chain [1] done processing\n",
      "19:42:20 - cmdstanpy - INFO - Chain [1] start processing\n",
      "19:42:20 - cmdstanpy - INFO - Chain [1] done processing\n",
      "Seasonality has period of 365.25 days which is larger than initial window. Consider increasing initial.\n"
     ]
    },
    {
     "data": {
      "application/vnd.jupyter.widget-view+json": {
       "model_id": "9308e89e398648538b5b3ee78ccce662",
       "version_major": 2,
       "version_minor": 0
      },
      "text/plain": [
       "  0%|          | 0/2 [00:00<?, ?it/s]"
      ]
     },
     "metadata": {},
     "output_type": "display_data"
    },
    {
     "name": "stderr",
     "output_type": "stream",
     "text": [
      "19:42:21 - cmdstanpy - INFO - Chain [1] start processing\n",
      "19:42:21 - cmdstanpy - INFO - Chain [1] done processing\n",
      "19:42:21 - cmdstanpy - INFO - Chain [1] start processing\n",
      "19:42:21 - cmdstanpy - INFO - Chain [1] done processing\n",
      "19:42:21 - cmdstanpy - INFO - Chain [1] start processing\n",
      "19:42:21 - cmdstanpy - INFO - Chain [1] done processing\n",
      "Seasonality has period of 365.25 days which is larger than initial window. Consider increasing initial.\n"
     ]
    },
    {
     "data": {
      "application/vnd.jupyter.widget-view+json": {
       "model_id": "60c2909d0aa34e2b9e492937db6bcad1",
       "version_major": 2,
       "version_minor": 0
      },
      "text/plain": [
       "  0%|          | 0/2 [00:00<?, ?it/s]"
      ]
     },
     "metadata": {},
     "output_type": "display_data"
    },
    {
     "name": "stderr",
     "output_type": "stream",
     "text": [
      "19:42:21 - cmdstanpy - INFO - Chain [1] start processing\n",
      "19:42:21 - cmdstanpy - INFO - Chain [1] done processing\n",
      "19:42:22 - cmdstanpy - INFO - Chain [1] start processing\n",
      "19:42:22 - cmdstanpy - INFO - Chain [1] done processing\n",
      "19:42:22 - cmdstanpy - INFO - Chain [1] start processing\n",
      "19:42:22 - cmdstanpy - INFO - Chain [1] done processing\n",
      "Seasonality has period of 365.25 days which is larger than initial window. Consider increasing initial.\n"
     ]
    },
    {
     "data": {
      "application/vnd.jupyter.widget-view+json": {
       "model_id": "20fa8e43ad1349b09c520fba49a3699c",
       "version_major": 2,
       "version_minor": 0
      },
      "text/plain": [
       "  0%|          | 0/2 [00:00<?, ?it/s]"
      ]
     },
     "metadata": {},
     "output_type": "display_data"
    },
    {
     "name": "stderr",
     "output_type": "stream",
     "text": [
      "19:42:22 - cmdstanpy - INFO - Chain [1] start processing\n",
      "19:42:22 - cmdstanpy - INFO - Chain [1] done processing\n",
      "19:42:22 - cmdstanpy - INFO - Chain [1] start processing\n",
      "19:42:22 - cmdstanpy - INFO - Chain [1] done processing\n",
      "19:42:23 - cmdstanpy - INFO - Chain [1] start processing\n",
      "19:42:23 - cmdstanpy - INFO - Chain [1] done processing\n",
      "Seasonality has period of 365.25 days which is larger than initial window. Consider increasing initial.\n"
     ]
    },
    {
     "data": {
      "application/vnd.jupyter.widget-view+json": {
       "model_id": "2bb9f55f990348ce842592d090fca8bb",
       "version_major": 2,
       "version_minor": 0
      },
      "text/plain": [
       "  0%|          | 0/2 [00:00<?, ?it/s]"
      ]
     },
     "metadata": {},
     "output_type": "display_data"
    },
    {
     "name": "stderr",
     "output_type": "stream",
     "text": [
      "19:42:23 - cmdstanpy - INFO - Chain [1] start processing\n",
      "19:42:23 - cmdstanpy - INFO - Chain [1] done processing\n",
      "19:42:23 - cmdstanpy - INFO - Chain [1] start processing\n",
      "19:42:23 - cmdstanpy - INFO - Chain [1] done processing\n",
      "19:42:23 - cmdstanpy - INFO - Chain [1] start processing\n",
      "19:42:23 - cmdstanpy - INFO - Chain [1] done processing\n",
      "Seasonality has period of 365.25 days which is larger than initial window. Consider increasing initial.\n"
     ]
    },
    {
     "data": {
      "application/vnd.jupyter.widget-view+json": {
       "model_id": "9bdf0058b62245d5ae3754d0283f4652",
       "version_major": 2,
       "version_minor": 0
      },
      "text/plain": [
       "  0%|          | 0/2 [00:00<?, ?it/s]"
      ]
     },
     "metadata": {},
     "output_type": "display_data"
    },
    {
     "name": "stderr",
     "output_type": "stream",
     "text": [
      "19:42:24 - cmdstanpy - INFO - Chain [1] start processing\n",
      "19:42:24 - cmdstanpy - INFO - Chain [1] done processing\n",
      "19:42:24 - cmdstanpy - INFO - Chain [1] start processing\n",
      "19:42:24 - cmdstanpy - INFO - Chain [1] done processing\n",
      "19:42:24 - cmdstanpy - INFO - Chain [1] start processing\n",
      "19:42:24 - cmdstanpy - INFO - Chain [1] done processing\n",
      "Seasonality has period of 365.25 days which is larger than initial window. Consider increasing initial.\n"
     ]
    },
    {
     "data": {
      "application/vnd.jupyter.widget-view+json": {
       "model_id": "abaf17a2b9d74a7ab3217ac7d767ddeb",
       "version_major": 2,
       "version_minor": 0
      },
      "text/plain": [
       "  0%|          | 0/2 [00:00<?, ?it/s]"
      ]
     },
     "metadata": {},
     "output_type": "display_data"
    },
    {
     "name": "stderr",
     "output_type": "stream",
     "text": [
      "19:42:24 - cmdstanpy - INFO - Chain [1] start processing\n",
      "19:42:24 - cmdstanpy - INFO - Chain [1] done processing\n",
      "19:42:25 - cmdstanpy - INFO - Chain [1] start processing\n",
      "19:42:25 - cmdstanpy - INFO - Chain [1] done processing\n",
      "19:42:25 - cmdstanpy - INFO - Chain [1] start processing\n",
      "19:42:25 - cmdstanpy - INFO - Chain [1] done processing\n",
      "Seasonality has period of 365.25 days which is larger than initial window. Consider increasing initial.\n"
     ]
    },
    {
     "data": {
      "application/vnd.jupyter.widget-view+json": {
       "model_id": "a11b81cb6eb7442aaaa15bf8ab820ddf",
       "version_major": 2,
       "version_minor": 0
      },
      "text/plain": [
       "  0%|          | 0/2 [00:00<?, ?it/s]"
      ]
     },
     "metadata": {},
     "output_type": "display_data"
    },
    {
     "name": "stderr",
     "output_type": "stream",
     "text": [
      "19:42:25 - cmdstanpy - INFO - Chain [1] start processing\n",
      "19:42:25 - cmdstanpy - INFO - Chain [1] done processing\n",
      "19:42:25 - cmdstanpy - INFO - Chain [1] start processing\n",
      "19:42:25 - cmdstanpy - INFO - Chain [1] done processing\n",
      "19:42:25 - cmdstanpy - INFO - Chain [1] start processing\n",
      "19:42:26 - cmdstanpy - INFO - Chain [1] done processing\n",
      "Seasonality has period of 365.25 days which is larger than initial window. Consider increasing initial.\n"
     ]
    },
    {
     "data": {
      "application/vnd.jupyter.widget-view+json": {
       "model_id": "fcd254bd1c6e4e1784d6a2d1ac95ecbf",
       "version_major": 2,
       "version_minor": 0
      },
      "text/plain": [
       "  0%|          | 0/2 [00:00<?, ?it/s]"
      ]
     },
     "metadata": {},
     "output_type": "display_data"
    },
    {
     "name": "stderr",
     "output_type": "stream",
     "text": [
      "19:42:26 - cmdstanpy - INFO - Chain [1] start processing\n",
      "19:42:26 - cmdstanpy - INFO - Chain [1] done processing\n",
      "19:42:26 - cmdstanpy - INFO - Chain [1] start processing\n",
      "19:42:26 - cmdstanpy - INFO - Chain [1] done processing\n",
      "19:42:26 - cmdstanpy - INFO - Chain [1] start processing\n",
      "19:42:27 - cmdstanpy - INFO - Chain [1] done processing\n",
      "Seasonality has period of 365.25 days which is larger than initial window. Consider increasing initial.\n"
     ]
    },
    {
     "data": {
      "application/vnd.jupyter.widget-view+json": {
       "model_id": "bc63256d89084a34902954a5873dcea5",
       "version_major": 2,
       "version_minor": 0
      },
      "text/plain": [
       "  0%|          | 0/2 [00:00<?, ?it/s]"
      ]
     },
     "metadata": {},
     "output_type": "display_data"
    },
    {
     "name": "stderr",
     "output_type": "stream",
     "text": [
      "19:42:27 - cmdstanpy - INFO - Chain [1] start processing\n",
      "19:42:27 - cmdstanpy - INFO - Chain [1] done processing\n",
      "19:42:27 - cmdstanpy - INFO - Chain [1] start processing\n",
      "19:42:27 - cmdstanpy - INFO - Chain [1] done processing\n",
      "19:42:27 - cmdstanpy - INFO - Chain [1] start processing\n",
      "19:42:27 - cmdstanpy - INFO - Chain [1] done processing\n",
      "Seasonality has period of 365.25 days which is larger than initial window. Consider increasing initial.\n"
     ]
    },
    {
     "data": {
      "application/vnd.jupyter.widget-view+json": {
       "model_id": "4b5ac81d13bd48468c1f4dd952e00453",
       "version_major": 2,
       "version_minor": 0
      },
      "text/plain": [
       "  0%|          | 0/2 [00:00<?, ?it/s]"
      ]
     },
     "metadata": {},
     "output_type": "display_data"
    },
    {
     "name": "stderr",
     "output_type": "stream",
     "text": [
      "19:42:27 - cmdstanpy - INFO - Chain [1] start processing\n",
      "19:42:28 - cmdstanpy - INFO - Chain [1] done processing\n",
      "19:42:28 - cmdstanpy - INFO - Chain [1] start processing\n",
      "19:42:28 - cmdstanpy - INFO - Chain [1] done processing\n",
      "19:42:28 - cmdstanpy - INFO - Chain [1] start processing\n",
      "19:42:28 - cmdstanpy - INFO - Chain [1] done processing\n",
      "Seasonality has period of 365.25 days which is larger than initial window. Consider increasing initial.\n"
     ]
    },
    {
     "data": {
      "application/vnd.jupyter.widget-view+json": {
       "model_id": "eb7b755848184110a1333ab0de5b9402",
       "version_major": 2,
       "version_minor": 0
      },
      "text/plain": [
       "  0%|          | 0/2 [00:00<?, ?it/s]"
      ]
     },
     "metadata": {},
     "output_type": "display_data"
    },
    {
     "name": "stderr",
     "output_type": "stream",
     "text": [
      "19:42:28 - cmdstanpy - INFO - Chain [1] start processing\n",
      "19:42:28 - cmdstanpy - INFO - Chain [1] done processing\n",
      "19:42:29 - cmdstanpy - INFO - Chain [1] start processing\n",
      "19:42:29 - cmdstanpy - INFO - Chain [1] done processing\n",
      "19:42:29 - cmdstanpy - INFO - Chain [1] start processing\n",
      "19:42:29 - cmdstanpy - INFO - Chain [1] done processing\n",
      "Seasonality has period of 365.25 days which is larger than initial window. Consider increasing initial.\n"
     ]
    },
    {
     "data": {
      "application/vnd.jupyter.widget-view+json": {
       "model_id": "6687bf0c2e144d9199eaf9f253302089",
       "version_major": 2,
       "version_minor": 0
      },
      "text/plain": [
       "  0%|          | 0/2 [00:00<?, ?it/s]"
      ]
     },
     "metadata": {},
     "output_type": "display_data"
    },
    {
     "name": "stderr",
     "output_type": "stream",
     "text": [
      "19:42:29 - cmdstanpy - INFO - Chain [1] start processing\n",
      "19:42:29 - cmdstanpy - INFO - Chain [1] done processing\n",
      "19:42:29 - cmdstanpy - INFO - Chain [1] start processing\n",
      "19:42:29 - cmdstanpy - INFO - Chain [1] done processing\n",
      "19:42:30 - cmdstanpy - INFO - Chain [1] start processing\n",
      "19:42:30 - cmdstanpy - INFO - Chain [1] done processing\n",
      "Seasonality has period of 365.25 days which is larger than initial window. Consider increasing initial.\n"
     ]
    },
    {
     "data": {
      "application/vnd.jupyter.widget-view+json": {
       "model_id": "9cf459d625764ab0968cb9a592c90cc7",
       "version_major": 2,
       "version_minor": 0
      },
      "text/plain": [
       "  0%|          | 0/2 [00:00<?, ?it/s]"
      ]
     },
     "metadata": {},
     "output_type": "display_data"
    },
    {
     "name": "stderr",
     "output_type": "stream",
     "text": [
      "19:42:30 - cmdstanpy - INFO - Chain [1] start processing\n",
      "19:42:30 - cmdstanpy - INFO - Chain [1] done processing\n",
      "19:42:30 - cmdstanpy - INFO - Chain [1] start processing\n",
      "19:42:30 - cmdstanpy - INFO - Chain [1] done processing\n",
      "19:42:30 - cmdstanpy - INFO - Chain [1] start processing\n",
      "19:42:31 - cmdstanpy - INFO - Chain [1] done processing\n",
      "Seasonality has period of 365.25 days which is larger than initial window. Consider increasing initial.\n"
     ]
    },
    {
     "data": {
      "application/vnd.jupyter.widget-view+json": {
       "model_id": "79f7b144811947bf995b6fd73adc376e",
       "version_major": 2,
       "version_minor": 0
      },
      "text/plain": [
       "  0%|          | 0/2 [00:00<?, ?it/s]"
      ]
     },
     "metadata": {},
     "output_type": "display_data"
    },
    {
     "name": "stderr",
     "output_type": "stream",
     "text": [
      "19:42:31 - cmdstanpy - INFO - Chain [1] start processing\n",
      "19:42:31 - cmdstanpy - INFO - Chain [1] done processing\n",
      "19:42:31 - cmdstanpy - INFO - Chain [1] start processing\n",
      "19:42:31 - cmdstanpy - INFO - Chain [1] done processing\n",
      "19:42:31 - cmdstanpy - INFO - Chain [1] start processing\n",
      "19:42:31 - cmdstanpy - INFO - Chain [1] done processing\n",
      "Seasonality has period of 365.25 days which is larger than initial window. Consider increasing initial.\n"
     ]
    },
    {
     "data": {
      "application/vnd.jupyter.widget-view+json": {
       "model_id": "c01ffbc28d6c444cbcebf88323bdeedf",
       "version_major": 2,
       "version_minor": 0
      },
      "text/plain": [
       "  0%|          | 0/2 [00:00<?, ?it/s]"
      ]
     },
     "metadata": {},
     "output_type": "display_data"
    },
    {
     "name": "stderr",
     "output_type": "stream",
     "text": [
      "19:42:32 - cmdstanpy - INFO - Chain [1] start processing\n",
      "19:42:32 - cmdstanpy - INFO - Chain [1] done processing\n",
      "19:42:32 - cmdstanpy - INFO - Chain [1] start processing\n",
      "19:42:32 - cmdstanpy - INFO - Chain [1] done processing\n",
      "19:42:32 - cmdstanpy - INFO - Chain [1] start processing\n",
      "19:42:32 - cmdstanpy - INFO - Chain [1] done processing\n",
      "Seasonality has period of 365.25 days which is larger than initial window. Consider increasing initial.\n"
     ]
    },
    {
     "data": {
      "application/vnd.jupyter.widget-view+json": {
       "model_id": "fe292d86e6f54407a85a24ceda2ab378",
       "version_major": 2,
       "version_minor": 0
      },
      "text/plain": [
       "  0%|          | 0/2 [00:00<?, ?it/s]"
      ]
     },
     "metadata": {},
     "output_type": "display_data"
    },
    {
     "name": "stderr",
     "output_type": "stream",
     "text": [
      "19:42:32 - cmdstanpy - INFO - Chain [1] start processing\n",
      "19:42:32 - cmdstanpy - INFO - Chain [1] done processing\n",
      "19:42:33 - cmdstanpy - INFO - Chain [1] start processing\n",
      "19:42:33 - cmdstanpy - INFO - Chain [1] done processing\n",
      "19:42:33 - cmdstanpy - INFO - Chain [1] start processing\n",
      "19:42:33 - cmdstanpy - INFO - Chain [1] done processing\n",
      "Seasonality has period of 365.25 days which is larger than initial window. Consider increasing initial.\n"
     ]
    },
    {
     "data": {
      "application/vnd.jupyter.widget-view+json": {
       "model_id": "b12f7a671f3540d39cd4edca6cacde5c",
       "version_major": 2,
       "version_minor": 0
      },
      "text/plain": [
       "  0%|          | 0/2 [00:00<?, ?it/s]"
      ]
     },
     "metadata": {},
     "output_type": "display_data"
    },
    {
     "name": "stderr",
     "output_type": "stream",
     "text": [
      "19:42:33 - cmdstanpy - INFO - Chain [1] start processing\n",
      "19:42:33 - cmdstanpy - INFO - Chain [1] done processing\n",
      "19:42:33 - cmdstanpy - INFO - Chain [1] start processing\n",
      "19:42:34 - cmdstanpy - INFO - Chain [1] done processing\n",
      "19:42:34 - cmdstanpy - INFO - Chain [1] start processing\n",
      "19:42:34 - cmdstanpy - INFO - Chain [1] done processing\n",
      "Seasonality has period of 365.25 days which is larger than initial window. Consider increasing initial.\n"
     ]
    },
    {
     "data": {
      "application/vnd.jupyter.widget-view+json": {
       "model_id": "afa36b2f8fef44d0a601b8ae4cf1e56c",
       "version_major": 2,
       "version_minor": 0
      },
      "text/plain": [
       "  0%|          | 0/2 [00:00<?, ?it/s]"
      ]
     },
     "metadata": {},
     "output_type": "display_data"
    },
    {
     "name": "stderr",
     "output_type": "stream",
     "text": [
      "19:42:34 - cmdstanpy - INFO - Chain [1] start processing\n",
      "19:42:34 - cmdstanpy - INFO - Chain [1] done processing\n",
      "19:42:34 - cmdstanpy - INFO - Chain [1] start processing\n",
      "19:42:34 - cmdstanpy - INFO - Chain [1] done processing\n",
      "19:42:35 - cmdstanpy - INFO - Chain [1] start processing\n",
      "19:42:35 - cmdstanpy - INFO - Chain [1] done processing\n",
      "Seasonality has period of 365.25 days which is larger than initial window. Consider increasing initial.\n"
     ]
    },
    {
     "data": {
      "application/vnd.jupyter.widget-view+json": {
       "model_id": "17f83808e0444d7f8e560eb8494512f1",
       "version_major": 2,
       "version_minor": 0
      },
      "text/plain": [
       "  0%|          | 0/2 [00:00<?, ?it/s]"
      ]
     },
     "metadata": {},
     "output_type": "display_data"
    },
    {
     "name": "stderr",
     "output_type": "stream",
     "text": [
      "19:42:35 - cmdstanpy - INFO - Chain [1] start processing\n",
      "19:42:35 - cmdstanpy - INFO - Chain [1] done processing\n",
      "19:42:35 - cmdstanpy - INFO - Chain [1] start processing\n",
      "19:42:35 - cmdstanpy - INFO - Chain [1] done processing\n",
      "19:42:35 - cmdstanpy - INFO - Chain [1] start processing\n",
      "19:42:36 - cmdstanpy - INFO - Chain [1] done processing\n",
      "Seasonality has period of 365.25 days which is larger than initial window. Consider increasing initial.\n"
     ]
    },
    {
     "data": {
      "application/vnd.jupyter.widget-view+json": {
       "model_id": "610c6ad6343f496c9c144b04e736e6a5",
       "version_major": 2,
       "version_minor": 0
      },
      "text/plain": [
       "  0%|          | 0/2 [00:00<?, ?it/s]"
      ]
     },
     "metadata": {},
     "output_type": "display_data"
    },
    {
     "name": "stderr",
     "output_type": "stream",
     "text": [
      "19:42:36 - cmdstanpy - INFO - Chain [1] start processing\n",
      "19:42:36 - cmdstanpy - INFO - Chain [1] done processing\n",
      "19:42:36 - cmdstanpy - INFO - Chain [1] start processing\n",
      "19:42:36 - cmdstanpy - INFO - Chain [1] done processing\n",
      "19:42:36 - cmdstanpy - INFO - Chain [1] start processing\n",
      "19:42:36 - cmdstanpy - INFO - Chain [1] done processing\n",
      "Seasonality has period of 365.25 days which is larger than initial window. Consider increasing initial.\n"
     ]
    },
    {
     "data": {
      "application/vnd.jupyter.widget-view+json": {
       "model_id": "a9d65f1d4356482f841f85774381604f",
       "version_major": 2,
       "version_minor": 0
      },
      "text/plain": [
       "  0%|          | 0/2 [00:00<?, ?it/s]"
      ]
     },
     "metadata": {},
     "output_type": "display_data"
    },
    {
     "name": "stderr",
     "output_type": "stream",
     "text": [
      "19:42:37 - cmdstanpy - INFO - Chain [1] start processing\n",
      "19:42:37 - cmdstanpy - INFO - Chain [1] done processing\n",
      "19:42:37 - cmdstanpy - INFO - Chain [1] start processing\n",
      "19:42:37 - cmdstanpy - INFO - Chain [1] done processing\n",
      "19:42:37 - cmdstanpy - INFO - Chain [1] start processing\n",
      "19:42:37 - cmdstanpy - INFO - Chain [1] done processing\n",
      "Seasonality has period of 365.25 days which is larger than initial window. Consider increasing initial.\n"
     ]
    },
    {
     "data": {
      "application/vnd.jupyter.widget-view+json": {
       "model_id": "7439ddfa310c4b959f7ef9b6ff61f008",
       "version_major": 2,
       "version_minor": 0
      },
      "text/plain": [
       "  0%|          | 0/2 [00:00<?, ?it/s]"
      ]
     },
     "metadata": {},
     "output_type": "display_data"
    },
    {
     "name": "stderr",
     "output_type": "stream",
     "text": [
      "19:42:37 - cmdstanpy - INFO - Chain [1] start processing\n",
      "19:42:37 - cmdstanpy - INFO - Chain [1] done processing\n",
      "19:42:38 - cmdstanpy - INFO - Chain [1] start processing\n",
      "19:42:38 - cmdstanpy - INFO - Chain [1] done processing\n",
      "19:42:38 - cmdstanpy - INFO - Chain [1] start processing\n",
      "19:42:38 - cmdstanpy - INFO - Chain [1] done processing\n",
      "Seasonality has period of 365.25 days which is larger than initial window. Consider increasing initial.\n"
     ]
    },
    {
     "data": {
      "application/vnd.jupyter.widget-view+json": {
       "model_id": "66da093914e2419da8e4360baedd7d3b",
       "version_major": 2,
       "version_minor": 0
      },
      "text/plain": [
       "  0%|          | 0/2 [00:00<?, ?it/s]"
      ]
     },
     "metadata": {},
     "output_type": "display_data"
    },
    {
     "name": "stderr",
     "output_type": "stream",
     "text": [
      "19:42:38 - cmdstanpy - INFO - Chain [1] start processing\n",
      "19:42:38 - cmdstanpy - INFO - Chain [1] done processing\n",
      "19:42:38 - cmdstanpy - INFO - Chain [1] start processing\n",
      "19:42:39 - cmdstanpy - INFO - Chain [1] done processing\n",
      "19:42:39 - cmdstanpy - INFO - Chain [1] start processing\n",
      "19:42:39 - cmdstanpy - INFO - Chain [1] done processing\n",
      "Seasonality has period of 365.25 days which is larger than initial window. Consider increasing initial.\n"
     ]
    },
    {
     "data": {
      "application/vnd.jupyter.widget-view+json": {
       "model_id": "0d650e9c7bec4b199544d9b0e9ba62e3",
       "version_major": 2,
       "version_minor": 0
      },
      "text/plain": [
       "  0%|          | 0/2 [00:00<?, ?it/s]"
      ]
     },
     "metadata": {},
     "output_type": "display_data"
    },
    {
     "name": "stderr",
     "output_type": "stream",
     "text": [
      "19:42:39 - cmdstanpy - INFO - Chain [1] start processing\n",
      "19:42:39 - cmdstanpy - INFO - Chain [1] done processing\n",
      "19:42:39 - cmdstanpy - INFO - Chain [1] start processing\n",
      "19:42:39 - cmdstanpy - INFO - Chain [1] done processing\n",
      "19:42:40 - cmdstanpy - INFO - Chain [1] start processing\n",
      "19:42:40 - cmdstanpy - INFO - Chain [1] done processing\n",
      "Seasonality has period of 365.25 days which is larger than initial window. Consider increasing initial.\n"
     ]
    },
    {
     "data": {
      "application/vnd.jupyter.widget-view+json": {
       "model_id": "01a129a0d73c468cbd65a70335a8e31d",
       "version_major": 2,
       "version_minor": 0
      },
      "text/plain": [
       "  0%|          | 0/2 [00:00<?, ?it/s]"
      ]
     },
     "metadata": {},
     "output_type": "display_data"
    },
    {
     "name": "stderr",
     "output_type": "stream",
     "text": [
      "19:42:40 - cmdstanpy - INFO - Chain [1] start processing\n",
      "19:42:40 - cmdstanpy - INFO - Chain [1] done processing\n",
      "19:42:40 - cmdstanpy - INFO - Chain [1] start processing\n",
      "19:42:40 - cmdstanpy - INFO - Chain [1] done processing\n",
      "19:42:41 - cmdstanpy - INFO - Chain [1] start processing\n",
      "19:42:41 - cmdstanpy - INFO - Chain [1] done processing\n",
      "Seasonality has period of 365.25 days which is larger than initial window. Consider increasing initial.\n"
     ]
    },
    {
     "data": {
      "application/vnd.jupyter.widget-view+json": {
       "model_id": "3b31d5f15f564e24a1b7780cab529127",
       "version_major": 2,
       "version_minor": 0
      },
      "text/plain": [
       "  0%|          | 0/2 [00:00<?, ?it/s]"
      ]
     },
     "metadata": {},
     "output_type": "display_data"
    },
    {
     "name": "stderr",
     "output_type": "stream",
     "text": [
      "19:42:41 - cmdstanpy - INFO - Chain [1] start processing\n",
      "19:42:41 - cmdstanpy - INFO - Chain [1] done processing\n",
      "19:42:41 - cmdstanpy - INFO - Chain [1] start processing\n",
      "19:42:41 - cmdstanpy - INFO - Chain [1] done processing\n",
      "19:42:41 - cmdstanpy - INFO - Chain [1] start processing\n",
      "19:42:42 - cmdstanpy - INFO - Chain [1] done processing\n",
      "Seasonality has period of 365.25 days which is larger than initial window. Consider increasing initial.\n"
     ]
    },
    {
     "data": {
      "application/vnd.jupyter.widget-view+json": {
       "model_id": "37097eb75227440494761981e5044ae5",
       "version_major": 2,
       "version_minor": 0
      },
      "text/plain": [
       "  0%|          | 0/2 [00:00<?, ?it/s]"
      ]
     },
     "metadata": {},
     "output_type": "display_data"
    },
    {
     "name": "stderr",
     "output_type": "stream",
     "text": [
      "19:42:42 - cmdstanpy - INFO - Chain [1] start processing\n",
      "19:42:42 - cmdstanpy - INFO - Chain [1] done processing\n",
      "19:42:42 - cmdstanpy - INFO - Chain [1] start processing\n",
      "19:42:42 - cmdstanpy - INFO - Chain [1] done processing\n",
      "19:42:42 - cmdstanpy - INFO - Chain [1] start processing\n",
      "19:42:42 - cmdstanpy - INFO - Chain [1] done processing\n",
      "Seasonality has period of 365.25 days which is larger than initial window. Consider increasing initial.\n"
     ]
    },
    {
     "data": {
      "application/vnd.jupyter.widget-view+json": {
       "model_id": "154372aa665f4888af986580d00cc5ca",
       "version_major": 2,
       "version_minor": 0
      },
      "text/plain": [
       "  0%|          | 0/2 [00:00<?, ?it/s]"
      ]
     },
     "metadata": {},
     "output_type": "display_data"
    },
    {
     "name": "stderr",
     "output_type": "stream",
     "text": [
      "19:42:43 - cmdstanpy - INFO - Chain [1] start processing\n",
      "19:42:43 - cmdstanpy - INFO - Chain [1] done processing\n",
      "19:42:43 - cmdstanpy - INFO - Chain [1] start processing\n",
      "19:42:43 - cmdstanpy - INFO - Chain [1] done processing\n",
      "19:42:43 - cmdstanpy - INFO - Chain [1] start processing\n",
      "19:42:43 - cmdstanpy - INFO - Chain [1] done processing\n",
      "Seasonality has period of 365.25 days which is larger than initial window. Consider increasing initial.\n"
     ]
    },
    {
     "data": {
      "application/vnd.jupyter.widget-view+json": {
       "model_id": "76108b5c942441c6aa4ff7b0210c5ec2",
       "version_major": 2,
       "version_minor": 0
      },
      "text/plain": [
       "  0%|          | 0/2 [00:00<?, ?it/s]"
      ]
     },
     "metadata": {},
     "output_type": "display_data"
    },
    {
     "name": "stderr",
     "output_type": "stream",
     "text": [
      "19:42:43 - cmdstanpy - INFO - Chain [1] start processing\n",
      "19:42:43 - cmdstanpy - INFO - Chain [1] done processing\n",
      "19:42:44 - cmdstanpy - INFO - Chain [1] start processing\n",
      "19:42:44 - cmdstanpy - INFO - Chain [1] done processing\n",
      "19:42:44 - cmdstanpy - INFO - Chain [1] start processing\n",
      "19:42:44 - cmdstanpy - INFO - Chain [1] done processing\n",
      "Seasonality has period of 365.25 days which is larger than initial window. Consider increasing initial.\n"
     ]
    },
    {
     "data": {
      "application/vnd.jupyter.widget-view+json": {
       "model_id": "df2f92807239470e86e3ab4fb143218b",
       "version_major": 2,
       "version_minor": 0
      },
      "text/plain": [
       "  0%|          | 0/2 [00:00<?, ?it/s]"
      ]
     },
     "metadata": {},
     "output_type": "display_data"
    },
    {
     "name": "stderr",
     "output_type": "stream",
     "text": [
      "19:42:44 - cmdstanpy - INFO - Chain [1] start processing\n",
      "19:42:44 - cmdstanpy - INFO - Chain [1] done processing\n",
      "19:42:44 - cmdstanpy - INFO - Chain [1] start processing\n",
      "19:42:44 - cmdstanpy - INFO - Chain [1] done processing\n",
      "19:42:45 - cmdstanpy - INFO - Chain [1] start processing\n",
      "19:42:45 - cmdstanpy - INFO - Chain [1] done processing\n",
      "Seasonality has period of 365.25 days which is larger than initial window. Consider increasing initial.\n"
     ]
    },
    {
     "data": {
      "application/vnd.jupyter.widget-view+json": {
       "model_id": "752be8b88aa448a2bf27a3040880e5c6",
       "version_major": 2,
       "version_minor": 0
      },
      "text/plain": [
       "  0%|          | 0/2 [00:00<?, ?it/s]"
      ]
     },
     "metadata": {},
     "output_type": "display_data"
    },
    {
     "name": "stderr",
     "output_type": "stream",
     "text": [
      "19:42:45 - cmdstanpy - INFO - Chain [1] start processing\n",
      "19:42:45 - cmdstanpy - INFO - Chain [1] done processing\n",
      "19:42:45 - cmdstanpy - INFO - Chain [1] start processing\n",
      "19:42:45 - cmdstanpy - INFO - Chain [1] done processing\n",
      "19:42:46 - cmdstanpy - INFO - Chain [1] start processing\n",
      "19:42:46 - cmdstanpy - INFO - Chain [1] done processing\n",
      "Seasonality has period of 365.25 days which is larger than initial window. Consider increasing initial.\n"
     ]
    },
    {
     "data": {
      "application/vnd.jupyter.widget-view+json": {
       "model_id": "c10457f392fb493ebdadd81a041e43c5",
       "version_major": 2,
       "version_minor": 0
      },
      "text/plain": [
       "  0%|          | 0/2 [00:00<?, ?it/s]"
      ]
     },
     "metadata": {},
     "output_type": "display_data"
    },
    {
     "name": "stderr",
     "output_type": "stream",
     "text": [
      "19:42:46 - cmdstanpy - INFO - Chain [1] start processing\n",
      "19:42:46 - cmdstanpy - INFO - Chain [1] done processing\n",
      "19:42:46 - cmdstanpy - INFO - Chain [1] start processing\n",
      "19:42:46 - cmdstanpy - INFO - Chain [1] done processing\n",
      "19:42:46 - cmdstanpy - INFO - Chain [1] start processing\n",
      "19:42:47 - cmdstanpy - INFO - Chain [1] done processing\n",
      "Seasonality has period of 365.25 days which is larger than initial window. Consider increasing initial.\n"
     ]
    },
    {
     "data": {
      "application/vnd.jupyter.widget-view+json": {
       "model_id": "e9bedb4c15f14d0dbb3becd669e250d9",
       "version_major": 2,
       "version_minor": 0
      },
      "text/plain": [
       "  0%|          | 0/2 [00:00<?, ?it/s]"
      ]
     },
     "metadata": {},
     "output_type": "display_data"
    },
    {
     "name": "stderr",
     "output_type": "stream",
     "text": [
      "19:42:47 - cmdstanpy - INFO - Chain [1] start processing\n",
      "19:42:47 - cmdstanpy - INFO - Chain [1] done processing\n",
      "19:42:47 - cmdstanpy - INFO - Chain [1] start processing\n",
      "19:42:47 - cmdstanpy - INFO - Chain [1] done processing\n",
      "19:42:47 - cmdstanpy - INFO - Chain [1] start processing\n",
      "19:42:48 - cmdstanpy - INFO - Chain [1] done processing\n",
      "Seasonality has period of 365.25 days which is larger than initial window. Consider increasing initial.\n"
     ]
    },
    {
     "data": {
      "application/vnd.jupyter.widget-view+json": {
       "model_id": "b2b09a48dd4947f699474bdf65240656",
       "version_major": 2,
       "version_minor": 0
      },
      "text/plain": [
       "  0%|          | 0/2 [00:00<?, ?it/s]"
      ]
     },
     "metadata": {},
     "output_type": "display_data"
    },
    {
     "name": "stderr",
     "output_type": "stream",
     "text": [
      "19:42:48 - cmdstanpy - INFO - Chain [1] start processing\n",
      "19:42:48 - cmdstanpy - INFO - Chain [1] done processing\n",
      "19:42:48 - cmdstanpy - INFO - Chain [1] start processing\n",
      "19:42:48 - cmdstanpy - INFO - Chain [1] done processing\n",
      "19:42:48 - cmdstanpy - INFO - Chain [1] start processing\n",
      "19:42:48 - cmdstanpy - INFO - Chain [1] done processing\n",
      "Seasonality has period of 365.25 days which is larger than initial window. Consider increasing initial.\n"
     ]
    },
    {
     "data": {
      "application/vnd.jupyter.widget-view+json": {
       "model_id": "f1e2ece826944e2c8874356a5e12b9f6",
       "version_major": 2,
       "version_minor": 0
      },
      "text/plain": [
       "  0%|          | 0/2 [00:00<?, ?it/s]"
      ]
     },
     "metadata": {},
     "output_type": "display_data"
    },
    {
     "name": "stderr",
     "output_type": "stream",
     "text": [
      "19:42:48 - cmdstanpy - INFO - Chain [1] start processing\n",
      "19:42:48 - cmdstanpy - INFO - Chain [1] done processing\n",
      "19:42:49 - cmdstanpy - INFO - Chain [1] start processing\n",
      "19:42:49 - cmdstanpy - INFO - Chain [1] done processing\n",
      "19:42:49 - cmdstanpy - INFO - Chain [1] start processing\n",
      "19:42:49 - cmdstanpy - INFO - Chain [1] done processing\n",
      "Seasonality has period of 365.25 days which is larger than initial window. Consider increasing initial.\n"
     ]
    },
    {
     "data": {
      "application/vnd.jupyter.widget-view+json": {
       "model_id": "4fe564d5b0a0423ea1a60d2f6699be86",
       "version_major": 2,
       "version_minor": 0
      },
      "text/plain": [
       "  0%|          | 0/2 [00:00<?, ?it/s]"
      ]
     },
     "metadata": {},
     "output_type": "display_data"
    },
    {
     "name": "stderr",
     "output_type": "stream",
     "text": [
      "19:42:49 - cmdstanpy - INFO - Chain [1] start processing\n",
      "19:42:50 - cmdstanpy - INFO - Chain [1] done processing\n",
      "19:42:50 - cmdstanpy - INFO - Chain [1] start processing\n",
      "19:42:50 - cmdstanpy - INFO - Chain [1] done processing\n",
      "19:42:50 - cmdstanpy - INFO - Chain [1] start processing\n",
      "19:42:50 - cmdstanpy - INFO - Chain [1] done processing\n",
      "Seasonality has period of 365.25 days which is larger than initial window. Consider increasing initial.\n"
     ]
    },
    {
     "data": {
      "application/vnd.jupyter.widget-view+json": {
       "model_id": "7b7c498215534039ae2ebe81ae413b9b",
       "version_major": 2,
       "version_minor": 0
      },
      "text/plain": [
       "  0%|          | 0/2 [00:00<?, ?it/s]"
      ]
     },
     "metadata": {},
     "output_type": "display_data"
    },
    {
     "name": "stderr",
     "output_type": "stream",
     "text": [
      "19:42:50 - cmdstanpy - INFO - Chain [1] start processing\n",
      "19:42:50 - cmdstanpy - INFO - Chain [1] done processing\n",
      "19:42:51 - cmdstanpy - INFO - Chain [1] start processing\n",
      "19:42:51 - cmdstanpy - INFO - Chain [1] done processing\n",
      "19:42:51 - cmdstanpy - INFO - Chain [1] start processing\n",
      "19:42:51 - cmdstanpy - INFO - Chain [1] done processing\n",
      "Seasonality has period of 365.25 days which is larger than initial window. Consider increasing initial.\n"
     ]
    },
    {
     "data": {
      "application/vnd.jupyter.widget-view+json": {
       "model_id": "e1addeb21dc9481192b5d26d297b8102",
       "version_major": 2,
       "version_minor": 0
      },
      "text/plain": [
       "  0%|          | 0/2 [00:00<?, ?it/s]"
      ]
     },
     "metadata": {},
     "output_type": "display_data"
    },
    {
     "name": "stderr",
     "output_type": "stream",
     "text": [
      "19:42:51 - cmdstanpy - INFO - Chain [1] start processing\n",
      "19:42:51 - cmdstanpy - INFO - Chain [1] done processing\n",
      "19:42:52 - cmdstanpy - INFO - Chain [1] start processing\n",
      "19:42:52 - cmdstanpy - INFO - Chain [1] done processing\n",
      "19:42:52 - cmdstanpy - INFO - Chain [1] start processing\n",
      "19:42:52 - cmdstanpy - INFO - Chain [1] done processing\n",
      "Seasonality has period of 365.25 days which is larger than initial window. Consider increasing initial.\n"
     ]
    },
    {
     "data": {
      "application/vnd.jupyter.widget-view+json": {
       "model_id": "c550829a228449a9853fa02091e06656",
       "version_major": 2,
       "version_minor": 0
      },
      "text/plain": [
       "  0%|          | 0/2 [00:00<?, ?it/s]"
      ]
     },
     "metadata": {},
     "output_type": "display_data"
    },
    {
     "name": "stderr",
     "output_type": "stream",
     "text": [
      "19:42:52 - cmdstanpy - INFO - Chain [1] start processing\n",
      "19:42:52 - cmdstanpy - INFO - Chain [1] done processing\n",
      "19:42:52 - cmdstanpy - INFO - Chain [1] start processing\n",
      "19:42:52 - cmdstanpy - INFO - Chain [1] done processing\n",
      "19:42:53 - cmdstanpy - INFO - Chain [1] start processing\n",
      "19:42:53 - cmdstanpy - INFO - Chain [1] done processing\n",
      "Seasonality has period of 365.25 days which is larger than initial window. Consider increasing initial.\n"
     ]
    },
    {
     "data": {
      "application/vnd.jupyter.widget-view+json": {
       "model_id": "7e98c59a9d1e42f695033934a6d48696",
       "version_major": 2,
       "version_minor": 0
      },
      "text/plain": [
       "  0%|          | 0/2 [00:00<?, ?it/s]"
      ]
     },
     "metadata": {},
     "output_type": "display_data"
    },
    {
     "name": "stderr",
     "output_type": "stream",
     "text": [
      "19:42:53 - cmdstanpy - INFO - Chain [1] start processing\n",
      "19:42:53 - cmdstanpy - INFO - Chain [1] done processing\n",
      "19:42:53 - cmdstanpy - INFO - Chain [1] start processing\n",
      "19:42:53 - cmdstanpy - INFO - Chain [1] done processing\n",
      "19:42:54 - cmdstanpy - INFO - Chain [1] start processing\n",
      "19:42:54 - cmdstanpy - INFO - Chain [1] done processing\n",
      "Seasonality has period of 365.25 days which is larger than initial window. Consider increasing initial.\n"
     ]
    },
    {
     "data": {
      "application/vnd.jupyter.widget-view+json": {
       "model_id": "4ea827a36a2d4174a7a0abd9129d42d6",
       "version_major": 2,
       "version_minor": 0
      },
      "text/plain": [
       "  0%|          | 0/2 [00:00<?, ?it/s]"
      ]
     },
     "metadata": {},
     "output_type": "display_data"
    },
    {
     "name": "stderr",
     "output_type": "stream",
     "text": [
      "19:42:54 - cmdstanpy - INFO - Chain [1] start processing\n",
      "19:42:54 - cmdstanpy - INFO - Chain [1] done processing\n",
      "19:42:54 - cmdstanpy - INFO - Chain [1] start processing\n",
      "19:42:54 - cmdstanpy - INFO - Chain [1] done processing\n",
      "19:42:55 - cmdstanpy - INFO - Chain [1] start processing\n",
      "19:42:55 - cmdstanpy - INFO - Chain [1] done processing\n",
      "Seasonality has period of 365.25 days which is larger than initial window. Consider increasing initial.\n"
     ]
    },
    {
     "data": {
      "application/vnd.jupyter.widget-view+json": {
       "model_id": "aea9d32f81a24f6f877e6781dea02418",
       "version_major": 2,
       "version_minor": 0
      },
      "text/plain": [
       "  0%|          | 0/2 [00:00<?, ?it/s]"
      ]
     },
     "metadata": {},
     "output_type": "display_data"
    },
    {
     "name": "stderr",
     "output_type": "stream",
     "text": [
      "19:42:55 - cmdstanpy - INFO - Chain [1] start processing\n",
      "19:42:55 - cmdstanpy - INFO - Chain [1] done processing\n",
      "19:42:55 - cmdstanpy - INFO - Chain [1] start processing\n",
      "19:42:55 - cmdstanpy - INFO - Chain [1] done processing\n",
      "19:42:56 - cmdstanpy - INFO - Chain [1] start processing\n",
      "19:42:56 - cmdstanpy - INFO - Chain [1] done processing\n",
      "Seasonality has period of 365.25 days which is larger than initial window. Consider increasing initial.\n"
     ]
    },
    {
     "data": {
      "application/vnd.jupyter.widget-view+json": {
       "model_id": "579cd9726cb24d42bdde3d86d1c7ad4c",
       "version_major": 2,
       "version_minor": 0
      },
      "text/plain": [
       "  0%|          | 0/2 [00:00<?, ?it/s]"
      ]
     },
     "metadata": {},
     "output_type": "display_data"
    },
    {
     "name": "stderr",
     "output_type": "stream",
     "text": [
      "19:42:56 - cmdstanpy - INFO - Chain [1] start processing\n",
      "19:42:56 - cmdstanpy - INFO - Chain [1] done processing\n",
      "19:42:56 - cmdstanpy - INFO - Chain [1] start processing\n",
      "19:42:56 - cmdstanpy - INFO - Chain [1] done processing\n",
      "19:42:57 - cmdstanpy - INFO - Chain [1] start processing\n",
      "19:42:57 - cmdstanpy - INFO - Chain [1] done processing\n"
     ]
    },
    {
     "name": "stdout",
     "output_type": "stream",
     "text": [
      "Best parameters: params    {'changepoint_prior_scale': 0.2, 'holidays_pri...\n",
      "MAPE                                               0.081805\n",
      "Name: 5, dtype: object\n"
     ]
    },
    {
     "name": "stderr",
     "output_type": "stream",
     "text": [
      "19:42:57 - cmdstanpy - INFO - Chain [1] start processing\n",
      "19:42:57 - cmdstanpy - INFO - Chain [1] done processing\n",
      "Seasonality has period of 365.25 days which is larger than initial window. Consider increasing initial.\n"
     ]
    },
    {
     "name": "stdout",
     "output_type": "stream",
     "text": [
      "           y          ds\n",
      "5557   929.0  2022-02-18\n",
      "5558   931.0  2022-02-19\n",
      "5559   945.0  2022-02-23\n",
      "5560   955.0  2022-02-24\n",
      "5561  1022.0  2022-02-25\n"
     ]
    },
    {
     "data": {
      "application/vnd.jupyter.widget-view+json": {
       "model_id": "d8ce000a4a694aa2adcaeea104e91f2a",
       "version_major": 2,
       "version_minor": 0
      },
      "text/plain": [
       "  0%|          | 0/1 [00:00<?, ?it/s]"
      ]
     },
     "metadata": {},
     "output_type": "display_data"
    },
    {
     "name": "stderr",
     "output_type": "stream",
     "text": [
      "19:42:57 - cmdstanpy - INFO - Chain [1] start processing\n",
      "19:42:57 - cmdstanpy - INFO - Chain [1] done processing\n",
      "19:42:57 - cmdstanpy - INFO - Chain [1] start processing\n",
      "19:42:57 - cmdstanpy - INFO - Chain [1] done processing\n",
      "Seasonality has period of 365.25 days which is larger than initial window. Consider increasing initial.\n"
     ]
    },
    {
     "data": {
      "application/vnd.jupyter.widget-view+json": {
       "model_id": "48335b16c6be40c8ac7f20cacbd25b59",
       "version_major": 2,
       "version_minor": 0
      },
      "text/plain": [
       "  0%|          | 0/1 [00:00<?, ?it/s]"
      ]
     },
     "metadata": {},
     "output_type": "display_data"
    },
    {
     "name": "stderr",
     "output_type": "stream",
     "text": [
      "19:42:57 - cmdstanpy - INFO - Chain [1] start processing\n",
      "19:42:57 - cmdstanpy - INFO - Chain [1] done processing\n",
      "19:42:58 - cmdstanpy - INFO - Chain [1] start processing\n",
      "19:42:58 - cmdstanpy - INFO - Chain [1] done processing\n",
      "Seasonality has period of 365.25 days which is larger than initial window. Consider increasing initial.\n"
     ]
    },
    {
     "data": {
      "application/vnd.jupyter.widget-view+json": {
       "model_id": "876251c66a4f4965bde5da4beb5f45c5",
       "version_major": 2,
       "version_minor": 0
      },
      "text/plain": [
       "  0%|          | 0/1 [00:00<?, ?it/s]"
      ]
     },
     "metadata": {},
     "output_type": "display_data"
    },
    {
     "name": "stderr",
     "output_type": "stream",
     "text": [
      "19:42:58 - cmdstanpy - INFO - Chain [1] start processing\n",
      "19:42:58 - cmdstanpy - INFO - Chain [1] done processing\n",
      "19:42:58 - cmdstanpy - INFO - Chain [1] start processing\n",
      "19:42:58 - cmdstanpy - INFO - Chain [1] done processing\n",
      "Seasonality has period of 365.25 days which is larger than initial window. Consider increasing initial.\n"
     ]
    },
    {
     "data": {
      "application/vnd.jupyter.widget-view+json": {
       "model_id": "bd7f32c578b447af8d1951711af52e0b",
       "version_major": 2,
       "version_minor": 0
      },
      "text/plain": [
       "  0%|          | 0/1 [00:00<?, ?it/s]"
      ]
     },
     "metadata": {},
     "output_type": "display_data"
    },
    {
     "name": "stderr",
     "output_type": "stream",
     "text": [
      "19:42:58 - cmdstanpy - INFO - Chain [1] start processing\n",
      "19:42:58 - cmdstanpy - INFO - Chain [1] done processing\n",
      "19:42:59 - cmdstanpy - INFO - Chain [1] start processing\n",
      "19:42:59 - cmdstanpy - INFO - Chain [1] done processing\n",
      "Seasonality has period of 365.25 days which is larger than initial window. Consider increasing initial.\n"
     ]
    },
    {
     "data": {
      "application/vnd.jupyter.widget-view+json": {
       "model_id": "f778bc47d4304cc38f2cfca9052106f9",
       "version_major": 2,
       "version_minor": 0
      },
      "text/plain": [
       "  0%|          | 0/1 [00:00<?, ?it/s]"
      ]
     },
     "metadata": {},
     "output_type": "display_data"
    },
    {
     "name": "stderr",
     "output_type": "stream",
     "text": [
      "19:42:59 - cmdstanpy - INFO - Chain [1] start processing\n",
      "19:42:59 - cmdstanpy - INFO - Chain [1] done processing\n",
      "19:42:59 - cmdstanpy - INFO - Chain [1] start processing\n",
      "19:42:59 - cmdstanpy - INFO - Chain [1] done processing\n",
      "Seasonality has period of 365.25 days which is larger than initial window. Consider increasing initial.\n"
     ]
    },
    {
     "data": {
      "application/vnd.jupyter.widget-view+json": {
       "model_id": "45c41a6d4b6b49f28893510498c0acb9",
       "version_major": 2,
       "version_minor": 0
      },
      "text/plain": [
       "  0%|          | 0/1 [00:00<?, ?it/s]"
      ]
     },
     "metadata": {},
     "output_type": "display_data"
    },
    {
     "name": "stderr",
     "output_type": "stream",
     "text": [
      "19:42:59 - cmdstanpy - INFO - Chain [1] start processing\n",
      "19:42:59 - cmdstanpy - INFO - Chain [1] done processing\n",
      "19:43:00 - cmdstanpy - INFO - Chain [1] start processing\n",
      "19:43:00 - cmdstanpy - INFO - Chain [1] done processing\n",
      "Seasonality has period of 365.25 days which is larger than initial window. Consider increasing initial.\n"
     ]
    },
    {
     "data": {
      "application/vnd.jupyter.widget-view+json": {
       "model_id": "9126960347d84fdaacc35c1d41383959",
       "version_major": 2,
       "version_minor": 0
      },
      "text/plain": [
       "  0%|          | 0/1 [00:00<?, ?it/s]"
      ]
     },
     "metadata": {},
     "output_type": "display_data"
    },
    {
     "name": "stderr",
     "output_type": "stream",
     "text": [
      "19:43:00 - cmdstanpy - INFO - Chain [1] start processing\n",
      "19:43:00 - cmdstanpy - INFO - Chain [1] done processing\n",
      "19:43:00 - cmdstanpy - INFO - Chain [1] start processing\n",
      "19:43:00 - cmdstanpy - INFO - Chain [1] done processing\n",
      "Seasonality has period of 365.25 days which is larger than initial window. Consider increasing initial.\n"
     ]
    },
    {
     "data": {
      "application/vnd.jupyter.widget-view+json": {
       "model_id": "a065f9981848440cb9a66a80f9922484",
       "version_major": 2,
       "version_minor": 0
      },
      "text/plain": [
       "  0%|          | 0/1 [00:00<?, ?it/s]"
      ]
     },
     "metadata": {},
     "output_type": "display_data"
    },
    {
     "name": "stderr",
     "output_type": "stream",
     "text": [
      "19:43:00 - cmdstanpy - INFO - Chain [1] start processing\n",
      "19:43:00 - cmdstanpy - INFO - Chain [1] done processing\n",
      "19:43:00 - cmdstanpy - INFO - Chain [1] start processing\n",
      "19:43:01 - cmdstanpy - INFO - Chain [1] done processing\n",
      "Seasonality has period of 365.25 days which is larger than initial window. Consider increasing initial.\n"
     ]
    },
    {
     "data": {
      "application/vnd.jupyter.widget-view+json": {
       "model_id": "a9358a8da97d43d798515b25287429b0",
       "version_major": 2,
       "version_minor": 0
      },
      "text/plain": [
       "  0%|          | 0/1 [00:00<?, ?it/s]"
      ]
     },
     "metadata": {},
     "output_type": "display_data"
    },
    {
     "name": "stderr",
     "output_type": "stream",
     "text": [
      "19:43:01 - cmdstanpy - INFO - Chain [1] start processing\n",
      "19:43:01 - cmdstanpy - INFO - Chain [1] done processing\n",
      "19:43:01 - cmdstanpy - INFO - Chain [1] start processing\n",
      "19:43:01 - cmdstanpy - INFO - Chain [1] done processing\n",
      "Seasonality has period of 365.25 days which is larger than initial window. Consider increasing initial.\n"
     ]
    },
    {
     "data": {
      "application/vnd.jupyter.widget-view+json": {
       "model_id": "9e73657cc0f5425c949c1c625b407f44",
       "version_major": 2,
       "version_minor": 0
      },
      "text/plain": [
       "  0%|          | 0/1 [00:00<?, ?it/s]"
      ]
     },
     "metadata": {},
     "output_type": "display_data"
    },
    {
     "name": "stderr",
     "output_type": "stream",
     "text": [
      "19:43:01 - cmdstanpy - INFO - Chain [1] start processing\n",
      "19:43:01 - cmdstanpy - INFO - Chain [1] done processing\n",
      "19:43:01 - cmdstanpy - INFO - Chain [1] start processing\n",
      "19:43:02 - cmdstanpy - INFO - Chain [1] done processing\n",
      "Seasonality has period of 365.25 days which is larger than initial window. Consider increasing initial.\n"
     ]
    },
    {
     "data": {
      "application/vnd.jupyter.widget-view+json": {
       "model_id": "971fa2b20a6b4066b06887e453d7256d",
       "version_major": 2,
       "version_minor": 0
      },
      "text/plain": [
       "  0%|          | 0/1 [00:00<?, ?it/s]"
      ]
     },
     "metadata": {},
     "output_type": "display_data"
    },
    {
     "name": "stderr",
     "output_type": "stream",
     "text": [
      "19:43:02 - cmdstanpy - INFO - Chain [1] start processing\n",
      "19:43:02 - cmdstanpy - INFO - Chain [1] done processing\n",
      "19:43:02 - cmdstanpy - INFO - Chain [1] start processing\n",
      "19:43:02 - cmdstanpy - INFO - Chain [1] done processing\n",
      "Seasonality has period of 365.25 days which is larger than initial window. Consider increasing initial.\n"
     ]
    },
    {
     "data": {
      "application/vnd.jupyter.widget-view+json": {
       "model_id": "13c9deef61c14471b3f5cc1d9f728818",
       "version_major": 2,
       "version_minor": 0
      },
      "text/plain": [
       "  0%|          | 0/1 [00:00<?, ?it/s]"
      ]
     },
     "metadata": {},
     "output_type": "display_data"
    },
    {
     "name": "stderr",
     "output_type": "stream",
     "text": [
      "19:43:02 - cmdstanpy - INFO - Chain [1] start processing\n",
      "19:43:02 - cmdstanpy - INFO - Chain [1] done processing\n",
      "19:43:02 - cmdstanpy - INFO - Chain [1] start processing\n",
      "19:43:02 - cmdstanpy - INFO - Chain [1] done processing\n",
      "Seasonality has period of 365.25 days which is larger than initial window. Consider increasing initial.\n"
     ]
    },
    {
     "data": {
      "application/vnd.jupyter.widget-view+json": {
       "model_id": "5e283ea183234b1489ade8bd435f3d1b",
       "version_major": 2,
       "version_minor": 0
      },
      "text/plain": [
       "  0%|          | 0/1 [00:00<?, ?it/s]"
      ]
     },
     "metadata": {},
     "output_type": "display_data"
    },
    {
     "name": "stderr",
     "output_type": "stream",
     "text": [
      "19:43:03 - cmdstanpy - INFO - Chain [1] start processing\n",
      "19:43:03 - cmdstanpy - INFO - Chain [1] done processing\n",
      "19:43:03 - cmdstanpy - INFO - Chain [1] start processing\n",
      "19:43:03 - cmdstanpy - INFO - Chain [1] done processing\n",
      "Seasonality has period of 365.25 days which is larger than initial window. Consider increasing initial.\n"
     ]
    },
    {
     "data": {
      "application/vnd.jupyter.widget-view+json": {
       "model_id": "b41397302abb4d9c9f5975b18e355af3",
       "version_major": 2,
       "version_minor": 0
      },
      "text/plain": [
       "  0%|          | 0/1 [00:00<?, ?it/s]"
      ]
     },
     "metadata": {},
     "output_type": "display_data"
    },
    {
     "name": "stderr",
     "output_type": "stream",
     "text": [
      "19:43:03 - cmdstanpy - INFO - Chain [1] start processing\n",
      "19:43:03 - cmdstanpy - INFO - Chain [1] done processing\n",
      "19:43:03 - cmdstanpy - INFO - Chain [1] start processing\n",
      "19:43:03 - cmdstanpy - INFO - Chain [1] done processing\n",
      "Seasonality has period of 365.25 days which is larger than initial window. Consider increasing initial.\n"
     ]
    },
    {
     "data": {
      "application/vnd.jupyter.widget-view+json": {
       "model_id": "183d43f1daf04db4b0252a410b3a3c68",
       "version_major": 2,
       "version_minor": 0
      },
      "text/plain": [
       "  0%|          | 0/1 [00:00<?, ?it/s]"
      ]
     },
     "metadata": {},
     "output_type": "display_data"
    },
    {
     "name": "stderr",
     "output_type": "stream",
     "text": [
      "19:43:03 - cmdstanpy - INFO - Chain [1] start processing\n",
      "19:43:04 - cmdstanpy - INFO - Chain [1] done processing\n",
      "19:43:04 - cmdstanpy - INFO - Chain [1] start processing\n",
      "19:43:04 - cmdstanpy - INFO - Chain [1] done processing\n",
      "Seasonality has period of 365.25 days which is larger than initial window. Consider increasing initial.\n"
     ]
    },
    {
     "data": {
      "application/vnd.jupyter.widget-view+json": {
       "model_id": "ff34d1ecfce24322b003bc2113ec3e26",
       "version_major": 2,
       "version_minor": 0
      },
      "text/plain": [
       "  0%|          | 0/1 [00:00<?, ?it/s]"
      ]
     },
     "metadata": {},
     "output_type": "display_data"
    },
    {
     "name": "stderr",
     "output_type": "stream",
     "text": [
      "19:43:04 - cmdstanpy - INFO - Chain [1] start processing\n",
      "19:43:04 - cmdstanpy - INFO - Chain [1] done processing\n",
      "19:43:04 - cmdstanpy - INFO - Chain [1] start processing\n",
      "19:43:04 - cmdstanpy - INFO - Chain [1] done processing\n",
      "Seasonality has period of 365.25 days which is larger than initial window. Consider increasing initial.\n"
     ]
    },
    {
     "data": {
      "application/vnd.jupyter.widget-view+json": {
       "model_id": "7424cf6c25694cadb4951a0888d64712",
       "version_major": 2,
       "version_minor": 0
      },
      "text/plain": [
       "  0%|          | 0/1 [00:00<?, ?it/s]"
      ]
     },
     "metadata": {},
     "output_type": "display_data"
    },
    {
     "name": "stderr",
     "output_type": "stream",
     "text": [
      "19:43:05 - cmdstanpy - INFO - Chain [1] start processing\n",
      "19:43:05 - cmdstanpy - INFO - Chain [1] done processing\n",
      "19:43:05 - cmdstanpy - INFO - Chain [1] start processing\n",
      "19:43:05 - cmdstanpy - INFO - Chain [1] done processing\n",
      "Seasonality has period of 365.25 days which is larger than initial window. Consider increasing initial.\n"
     ]
    },
    {
     "data": {
      "application/vnd.jupyter.widget-view+json": {
       "model_id": "6730f4d27fb041b3b963e6834a0c2de8",
       "version_major": 2,
       "version_minor": 0
      },
      "text/plain": [
       "  0%|          | 0/1 [00:00<?, ?it/s]"
      ]
     },
     "metadata": {},
     "output_type": "display_data"
    },
    {
     "name": "stderr",
     "output_type": "stream",
     "text": [
      "19:43:05 - cmdstanpy - INFO - Chain [1] start processing\n",
      "19:43:05 - cmdstanpy - INFO - Chain [1] done processing\n",
      "19:43:05 - cmdstanpy - INFO - Chain [1] start processing\n",
      "19:43:05 - cmdstanpy - INFO - Chain [1] done processing\n",
      "Seasonality has period of 365.25 days which is larger than initial window. Consider increasing initial.\n"
     ]
    },
    {
     "data": {
      "application/vnd.jupyter.widget-view+json": {
       "model_id": "b6b1a2967a8f418bbfd0fcaa8cb0dd3c",
       "version_major": 2,
       "version_minor": 0
      },
      "text/plain": [
       "  0%|          | 0/1 [00:00<?, ?it/s]"
      ]
     },
     "metadata": {},
     "output_type": "display_data"
    },
    {
     "name": "stderr",
     "output_type": "stream",
     "text": [
      "19:43:06 - cmdstanpy - INFO - Chain [1] start processing\n",
      "19:43:06 - cmdstanpy - INFO - Chain [1] done processing\n",
      "19:43:06 - cmdstanpy - INFO - Chain [1] start processing\n",
      "19:43:06 - cmdstanpy - INFO - Chain [1] done processing\n",
      "Seasonality has period of 365.25 days which is larger than initial window. Consider increasing initial.\n"
     ]
    },
    {
     "data": {
      "application/vnd.jupyter.widget-view+json": {
       "model_id": "9694d869d5dc478f90924d4188e4ad91",
       "version_major": 2,
       "version_minor": 0
      },
      "text/plain": [
       "  0%|          | 0/1 [00:00<?, ?it/s]"
      ]
     },
     "metadata": {},
     "output_type": "display_data"
    },
    {
     "name": "stderr",
     "output_type": "stream",
     "text": [
      "19:43:06 - cmdstanpy - INFO - Chain [1] start processing\n",
      "19:43:06 - cmdstanpy - INFO - Chain [1] done processing\n",
      "19:43:06 - cmdstanpy - INFO - Chain [1] start processing\n",
      "19:43:06 - cmdstanpy - INFO - Chain [1] done processing\n",
      "Seasonality has period of 365.25 days which is larger than initial window. Consider increasing initial.\n"
     ]
    },
    {
     "data": {
      "application/vnd.jupyter.widget-view+json": {
       "model_id": "acc47cace5d14aa4b149de4f36d19f27",
       "version_major": 2,
       "version_minor": 0
      },
      "text/plain": [
       "  0%|          | 0/1 [00:00<?, ?it/s]"
      ]
     },
     "metadata": {},
     "output_type": "display_data"
    },
    {
     "name": "stderr",
     "output_type": "stream",
     "text": [
      "19:43:06 - cmdstanpy - INFO - Chain [1] start processing\n",
      "19:43:06 - cmdstanpy - INFO - Chain [1] done processing\n",
      "19:43:07 - cmdstanpy - INFO - Chain [1] start processing\n",
      "19:43:07 - cmdstanpy - INFO - Chain [1] done processing\n",
      "Seasonality has period of 365.25 days which is larger than initial window. Consider increasing initial.\n"
     ]
    },
    {
     "data": {
      "application/vnd.jupyter.widget-view+json": {
       "model_id": "b3a83315092e4494a93839a9262407b6",
       "version_major": 2,
       "version_minor": 0
      },
      "text/plain": [
       "  0%|          | 0/1 [00:00<?, ?it/s]"
      ]
     },
     "metadata": {},
     "output_type": "display_data"
    },
    {
     "name": "stderr",
     "output_type": "stream",
     "text": [
      "19:43:07 - cmdstanpy - INFO - Chain [1] start processing\n",
      "19:43:07 - cmdstanpy - INFO - Chain [1] done processing\n",
      "19:43:07 - cmdstanpy - INFO - Chain [1] start processing\n",
      "19:43:07 - cmdstanpy - INFO - Chain [1] done processing\n",
      "Seasonality has period of 365.25 days which is larger than initial window. Consider increasing initial.\n"
     ]
    },
    {
     "data": {
      "application/vnd.jupyter.widget-view+json": {
       "model_id": "9c810b8e1cce4db09f0d4e259cb583a6",
       "version_major": 2,
       "version_minor": 0
      },
      "text/plain": [
       "  0%|          | 0/1 [00:00<?, ?it/s]"
      ]
     },
     "metadata": {},
     "output_type": "display_data"
    },
    {
     "name": "stderr",
     "output_type": "stream",
     "text": [
      "19:43:07 - cmdstanpy - INFO - Chain [1] start processing\n",
      "19:43:07 - cmdstanpy - INFO - Chain [1] done processing\n",
      "19:43:08 - cmdstanpy - INFO - Chain [1] start processing\n",
      "19:43:08 - cmdstanpy - INFO - Chain [1] done processing\n",
      "Seasonality has period of 365.25 days which is larger than initial window. Consider increasing initial.\n"
     ]
    },
    {
     "data": {
      "application/vnd.jupyter.widget-view+json": {
       "model_id": "3dba133164ed49779640aca541e181df",
       "version_major": 2,
       "version_minor": 0
      },
      "text/plain": [
       "  0%|          | 0/1 [00:00<?, ?it/s]"
      ]
     },
     "metadata": {},
     "output_type": "display_data"
    },
    {
     "name": "stderr",
     "output_type": "stream",
     "text": [
      "19:43:08 - cmdstanpy - INFO - Chain [1] start processing\n",
      "19:43:08 - cmdstanpy - INFO - Chain [1] done processing\n",
      "19:43:08 - cmdstanpy - INFO - Chain [1] start processing\n",
      "19:43:08 - cmdstanpy - INFO - Chain [1] done processing\n",
      "Seasonality has period of 365.25 days which is larger than initial window. Consider increasing initial.\n"
     ]
    },
    {
     "data": {
      "application/vnd.jupyter.widget-view+json": {
       "model_id": "94e18d3a7b8f4c95abb4615fc6c360b4",
       "version_major": 2,
       "version_minor": 0
      },
      "text/plain": [
       "  0%|          | 0/1 [00:00<?, ?it/s]"
      ]
     },
     "metadata": {},
     "output_type": "display_data"
    },
    {
     "name": "stderr",
     "output_type": "stream",
     "text": [
      "19:43:08 - cmdstanpy - INFO - Chain [1] start processing\n",
      "19:43:09 - cmdstanpy - INFO - Chain [1] done processing\n",
      "19:43:09 - cmdstanpy - INFO - Chain [1] start processing\n",
      "19:43:09 - cmdstanpy - INFO - Chain [1] done processing\n",
      "Seasonality has period of 365.25 days which is larger than initial window. Consider increasing initial.\n"
     ]
    },
    {
     "data": {
      "application/vnd.jupyter.widget-view+json": {
       "model_id": "f6f7052927eb4f8f94ccda3f7e3c203a",
       "version_major": 2,
       "version_minor": 0
      },
      "text/plain": [
       "  0%|          | 0/1 [00:00<?, ?it/s]"
      ]
     },
     "metadata": {},
     "output_type": "display_data"
    },
    {
     "name": "stderr",
     "output_type": "stream",
     "text": [
      "19:43:09 - cmdstanpy - INFO - Chain [1] start processing\n",
      "19:43:09 - cmdstanpy - INFO - Chain [1] done processing\n",
      "19:43:09 - cmdstanpy - INFO - Chain [1] start processing\n",
      "19:43:09 - cmdstanpy - INFO - Chain [1] done processing\n",
      "Seasonality has period of 365.25 days which is larger than initial window. Consider increasing initial.\n"
     ]
    },
    {
     "data": {
      "application/vnd.jupyter.widget-view+json": {
       "model_id": "0d49fec2d9af4cff95d1255d42ad58e1",
       "version_major": 2,
       "version_minor": 0
      },
      "text/plain": [
       "  0%|          | 0/1 [00:00<?, ?it/s]"
      ]
     },
     "metadata": {},
     "output_type": "display_data"
    },
    {
     "name": "stderr",
     "output_type": "stream",
     "text": [
      "19:43:10 - cmdstanpy - INFO - Chain [1] start processing\n",
      "19:43:10 - cmdstanpy - INFO - Chain [1] done processing\n",
      "19:43:10 - cmdstanpy - INFO - Chain [1] start processing\n",
      "19:43:10 - cmdstanpy - INFO - Chain [1] done processing\n",
      "Seasonality has period of 365.25 days which is larger than initial window. Consider increasing initial.\n"
     ]
    },
    {
     "data": {
      "application/vnd.jupyter.widget-view+json": {
       "model_id": "e460bd3ab5df47d6abaa0dd7a50084b5",
       "version_major": 2,
       "version_minor": 0
      },
      "text/plain": [
       "  0%|          | 0/1 [00:00<?, ?it/s]"
      ]
     },
     "metadata": {},
     "output_type": "display_data"
    },
    {
     "name": "stderr",
     "output_type": "stream",
     "text": [
      "19:43:10 - cmdstanpy - INFO - Chain [1] start processing\n",
      "19:43:10 - cmdstanpy - INFO - Chain [1] done processing\n",
      "19:43:10 - cmdstanpy - INFO - Chain [1] start processing\n",
      "19:43:10 - cmdstanpy - INFO - Chain [1] done processing\n",
      "Seasonality has period of 365.25 days which is larger than initial window. Consider increasing initial.\n"
     ]
    },
    {
     "data": {
      "application/vnd.jupyter.widget-view+json": {
       "model_id": "c19c38ef5b37468a83233f0ad5df848d",
       "version_major": 2,
       "version_minor": 0
      },
      "text/plain": [
       "  0%|          | 0/1 [00:00<?, ?it/s]"
      ]
     },
     "metadata": {},
     "output_type": "display_data"
    },
    {
     "name": "stderr",
     "output_type": "stream",
     "text": [
      "19:43:11 - cmdstanpy - INFO - Chain [1] start processing\n",
      "19:43:11 - cmdstanpy - INFO - Chain [1] done processing\n",
      "19:43:11 - cmdstanpy - INFO - Chain [1] start processing\n",
      "19:43:11 - cmdstanpy - INFO - Chain [1] done processing\n",
      "Seasonality has period of 365.25 days which is larger than initial window. Consider increasing initial.\n"
     ]
    },
    {
     "data": {
      "application/vnd.jupyter.widget-view+json": {
       "model_id": "059f3814765d47f6ba6b6cef58de80e8",
       "version_major": 2,
       "version_minor": 0
      },
      "text/plain": [
       "  0%|          | 0/1 [00:00<?, ?it/s]"
      ]
     },
     "metadata": {},
     "output_type": "display_data"
    },
    {
     "name": "stderr",
     "output_type": "stream",
     "text": [
      "19:43:11 - cmdstanpy - INFO - Chain [1] start processing\n",
      "19:43:11 - cmdstanpy - INFO - Chain [1] done processing\n",
      "19:43:11 - cmdstanpy - INFO - Chain [1] start processing\n",
      "19:43:12 - cmdstanpy - INFO - Chain [1] done processing\n",
      "Seasonality has period of 365.25 days which is larger than initial window. Consider increasing initial.\n"
     ]
    },
    {
     "data": {
      "application/vnd.jupyter.widget-view+json": {
       "model_id": "dee290ea04d34ac591731d018e124b37",
       "version_major": 2,
       "version_minor": 0
      },
      "text/plain": [
       "  0%|          | 0/1 [00:00<?, ?it/s]"
      ]
     },
     "metadata": {},
     "output_type": "display_data"
    },
    {
     "name": "stderr",
     "output_type": "stream",
     "text": [
      "19:43:12 - cmdstanpy - INFO - Chain [1] start processing\n",
      "19:43:12 - cmdstanpy - INFO - Chain [1] done processing\n",
      "19:43:12 - cmdstanpy - INFO - Chain [1] start processing\n",
      "19:43:12 - cmdstanpy - INFO - Chain [1] done processing\n",
      "Seasonality has period of 365.25 days which is larger than initial window. Consider increasing initial.\n"
     ]
    },
    {
     "data": {
      "application/vnd.jupyter.widget-view+json": {
       "model_id": "c2c0910dcffb4bb28a7f5e8bfe2e68af",
       "version_major": 2,
       "version_minor": 0
      },
      "text/plain": [
       "  0%|          | 0/1 [00:00<?, ?it/s]"
      ]
     },
     "metadata": {},
     "output_type": "display_data"
    },
    {
     "name": "stderr",
     "output_type": "stream",
     "text": [
      "19:43:12 - cmdstanpy - INFO - Chain [1] start processing\n",
      "19:43:12 - cmdstanpy - INFO - Chain [1] done processing\n",
      "19:43:13 - cmdstanpy - INFO - Chain [1] start processing\n",
      "19:43:13 - cmdstanpy - INFO - Chain [1] done processing\n",
      "Seasonality has period of 365.25 days which is larger than initial window. Consider increasing initial.\n"
     ]
    },
    {
     "data": {
      "application/vnd.jupyter.widget-view+json": {
       "model_id": "e007c80fbf914373be9deb524cb2f14f",
       "version_major": 2,
       "version_minor": 0
      },
      "text/plain": [
       "  0%|          | 0/1 [00:00<?, ?it/s]"
      ]
     },
     "metadata": {},
     "output_type": "display_data"
    },
    {
     "name": "stderr",
     "output_type": "stream",
     "text": [
      "19:43:13 - cmdstanpy - INFO - Chain [1] start processing\n",
      "19:43:13 - cmdstanpy - INFO - Chain [1] done processing\n",
      "19:43:13 - cmdstanpy - INFO - Chain [1] start processing\n",
      "19:43:13 - cmdstanpy - INFO - Chain [1] done processing\n",
      "Seasonality has period of 365.25 days which is larger than initial window. Consider increasing initial.\n"
     ]
    },
    {
     "data": {
      "application/vnd.jupyter.widget-view+json": {
       "model_id": "f63a04f1c04147138596689bebcd7dde",
       "version_major": 2,
       "version_minor": 0
      },
      "text/plain": [
       "  0%|          | 0/1 [00:00<?, ?it/s]"
      ]
     },
     "metadata": {},
     "output_type": "display_data"
    },
    {
     "name": "stderr",
     "output_type": "stream",
     "text": [
      "19:43:13 - cmdstanpy - INFO - Chain [1] start processing\n",
      "19:43:13 - cmdstanpy - INFO - Chain [1] done processing\n",
      "19:43:14 - cmdstanpy - INFO - Chain [1] start processing\n",
      "19:43:14 - cmdstanpy - INFO - Chain [1] done processing\n",
      "Seasonality has period of 365.25 days which is larger than initial window. Consider increasing initial.\n"
     ]
    },
    {
     "data": {
      "application/vnd.jupyter.widget-view+json": {
       "model_id": "41f45c36c120439db9eb3dcb07f48155",
       "version_major": 2,
       "version_minor": 0
      },
      "text/plain": [
       "  0%|          | 0/1 [00:00<?, ?it/s]"
      ]
     },
     "metadata": {},
     "output_type": "display_data"
    },
    {
     "name": "stderr",
     "output_type": "stream",
     "text": [
      "19:43:14 - cmdstanpy - INFO - Chain [1] start processing\n",
      "19:43:14 - cmdstanpy - INFO - Chain [1] done processing\n",
      "19:43:14 - cmdstanpy - INFO - Chain [1] start processing\n",
      "19:43:14 - cmdstanpy - INFO - Chain [1] done processing\n",
      "Seasonality has period of 365.25 days which is larger than initial window. Consider increasing initial.\n"
     ]
    },
    {
     "data": {
      "application/vnd.jupyter.widget-view+json": {
       "model_id": "872b4e331e5f4df5823854dd1d8bbab2",
       "version_major": 2,
       "version_minor": 0
      },
      "text/plain": [
       "  0%|          | 0/1 [00:00<?, ?it/s]"
      ]
     },
     "metadata": {},
     "output_type": "display_data"
    },
    {
     "name": "stderr",
     "output_type": "stream",
     "text": [
      "19:43:14 - cmdstanpy - INFO - Chain [1] start processing\n",
      "19:43:14 - cmdstanpy - INFO - Chain [1] done processing\n",
      "19:43:15 - cmdstanpy - INFO - Chain [1] start processing\n",
      "19:43:15 - cmdstanpy - INFO - Chain [1] done processing\n",
      "Seasonality has period of 365.25 days which is larger than initial window. Consider increasing initial.\n"
     ]
    },
    {
     "data": {
      "application/vnd.jupyter.widget-view+json": {
       "model_id": "281404fe0f9a472697f034f2e11162c4",
       "version_major": 2,
       "version_minor": 0
      },
      "text/plain": [
       "  0%|          | 0/1 [00:00<?, ?it/s]"
      ]
     },
     "metadata": {},
     "output_type": "display_data"
    },
    {
     "name": "stderr",
     "output_type": "stream",
     "text": [
      "19:43:15 - cmdstanpy - INFO - Chain [1] start processing\n",
      "19:43:15 - cmdstanpy - INFO - Chain [1] done processing\n",
      "19:43:15 - cmdstanpy - INFO - Chain [1] start processing\n",
      "19:43:15 - cmdstanpy - INFO - Chain [1] done processing\n",
      "Seasonality has period of 365.25 days which is larger than initial window. Consider increasing initial.\n"
     ]
    },
    {
     "data": {
      "application/vnd.jupyter.widget-view+json": {
       "model_id": "ed66f1b17bc641da902222ea1b5bcffe",
       "version_major": 2,
       "version_minor": 0
      },
      "text/plain": [
       "  0%|          | 0/1 [00:00<?, ?it/s]"
      ]
     },
     "metadata": {},
     "output_type": "display_data"
    },
    {
     "name": "stderr",
     "output_type": "stream",
     "text": [
      "19:43:15 - cmdstanpy - INFO - Chain [1] start processing\n",
      "19:43:16 - cmdstanpy - INFO - Chain [1] done processing\n",
      "19:43:16 - cmdstanpy - INFO - Chain [1] start processing\n",
      "19:43:16 - cmdstanpy - INFO - Chain [1] done processing\n",
      "Seasonality has period of 365.25 days which is larger than initial window. Consider increasing initial.\n"
     ]
    },
    {
     "data": {
      "application/vnd.jupyter.widget-view+json": {
       "model_id": "031eb13922ec4776a47c9b2a81abf73d",
       "version_major": 2,
       "version_minor": 0
      },
      "text/plain": [
       "  0%|          | 0/1 [00:00<?, ?it/s]"
      ]
     },
     "metadata": {},
     "output_type": "display_data"
    },
    {
     "name": "stderr",
     "output_type": "stream",
     "text": [
      "19:43:16 - cmdstanpy - INFO - Chain [1] start processing\n",
      "19:43:16 - cmdstanpy - INFO - Chain [1] done processing\n",
      "19:43:16 - cmdstanpy - INFO - Chain [1] start processing\n",
      "19:43:16 - cmdstanpy - INFO - Chain [1] done processing\n",
      "Seasonality has period of 365.25 days which is larger than initial window. Consider increasing initial.\n"
     ]
    },
    {
     "data": {
      "application/vnd.jupyter.widget-view+json": {
       "model_id": "a3ea3661873a4c10aa99d9c0adbb43c1",
       "version_major": 2,
       "version_minor": 0
      },
      "text/plain": [
       "  0%|          | 0/1 [00:00<?, ?it/s]"
      ]
     },
     "metadata": {},
     "output_type": "display_data"
    },
    {
     "name": "stderr",
     "output_type": "stream",
     "text": [
      "19:43:17 - cmdstanpy - INFO - Chain [1] start processing\n",
      "19:43:17 - cmdstanpy - INFO - Chain [1] done processing\n",
      "19:43:17 - cmdstanpy - INFO - Chain [1] start processing\n",
      "19:43:17 - cmdstanpy - INFO - Chain [1] done processing\n",
      "Seasonality has period of 365.25 days which is larger than initial window. Consider increasing initial.\n"
     ]
    },
    {
     "data": {
      "application/vnd.jupyter.widget-view+json": {
       "model_id": "9f4b99fec7f04020bb50405845d9bc3b",
       "version_major": 2,
       "version_minor": 0
      },
      "text/plain": [
       "  0%|          | 0/1 [00:00<?, ?it/s]"
      ]
     },
     "metadata": {},
     "output_type": "display_data"
    },
    {
     "name": "stderr",
     "output_type": "stream",
     "text": [
      "19:43:17 - cmdstanpy - INFO - Chain [1] start processing\n",
      "19:43:17 - cmdstanpy - INFO - Chain [1] done processing\n",
      "19:43:18 - cmdstanpy - INFO - Chain [1] start processing\n",
      "19:43:18 - cmdstanpy - INFO - Chain [1] done processing\n",
      "Seasonality has period of 365.25 days which is larger than initial window. Consider increasing initial.\n"
     ]
    },
    {
     "data": {
      "application/vnd.jupyter.widget-view+json": {
       "model_id": "d2d19dfce03743f28efcd1d6e38ae31c",
       "version_major": 2,
       "version_minor": 0
      },
      "text/plain": [
       "  0%|          | 0/1 [00:00<?, ?it/s]"
      ]
     },
     "metadata": {},
     "output_type": "display_data"
    },
    {
     "name": "stderr",
     "output_type": "stream",
     "text": [
      "19:43:18 - cmdstanpy - INFO - Chain [1] start processing\n",
      "19:43:18 - cmdstanpy - INFO - Chain [1] done processing\n",
      "19:43:18 - cmdstanpy - INFO - Chain [1] start processing\n",
      "19:43:18 - cmdstanpy - INFO - Chain [1] done processing\n",
      "Seasonality has period of 365.25 days which is larger than initial window. Consider increasing initial.\n"
     ]
    },
    {
     "data": {
      "application/vnd.jupyter.widget-view+json": {
       "model_id": "8589419b8fd949668910c90a9e009bb2",
       "version_major": 2,
       "version_minor": 0
      },
      "text/plain": [
       "  0%|          | 0/1 [00:00<?, ?it/s]"
      ]
     },
     "metadata": {},
     "output_type": "display_data"
    },
    {
     "name": "stderr",
     "output_type": "stream",
     "text": [
      "19:43:18 - cmdstanpy - INFO - Chain [1] start processing\n",
      "19:43:18 - cmdstanpy - INFO - Chain [1] done processing\n",
      "19:43:19 - cmdstanpy - INFO - Chain [1] start processing\n",
      "19:43:19 - cmdstanpy - INFO - Chain [1] done processing\n",
      "Seasonality has period of 365.25 days which is larger than initial window. Consider increasing initial.\n"
     ]
    },
    {
     "data": {
      "application/vnd.jupyter.widget-view+json": {
       "model_id": "740d34835af841a7b16a5b207bfb7ea7",
       "version_major": 2,
       "version_minor": 0
      },
      "text/plain": [
       "  0%|          | 0/1 [00:00<?, ?it/s]"
      ]
     },
     "metadata": {},
     "output_type": "display_data"
    },
    {
     "name": "stderr",
     "output_type": "stream",
     "text": [
      "19:43:19 - cmdstanpy - INFO - Chain [1] start processing\n",
      "19:43:19 - cmdstanpy - INFO - Chain [1] done processing\n",
      "19:43:19 - cmdstanpy - INFO - Chain [1] start processing\n",
      "19:43:20 - cmdstanpy - INFO - Chain [1] done processing\n",
      "Seasonality has period of 365.25 days which is larger than initial window. Consider increasing initial.\n"
     ]
    },
    {
     "data": {
      "application/vnd.jupyter.widget-view+json": {
       "model_id": "3e34aa355a1e4261ac7863a11c814e22",
       "version_major": 2,
       "version_minor": 0
      },
      "text/plain": [
       "  0%|          | 0/1 [00:00<?, ?it/s]"
      ]
     },
     "metadata": {},
     "output_type": "display_data"
    },
    {
     "name": "stderr",
     "output_type": "stream",
     "text": [
      "19:43:20 - cmdstanpy - INFO - Chain [1] start processing\n",
      "19:43:20 - cmdstanpy - INFO - Chain [1] done processing\n",
      "19:43:20 - cmdstanpy - INFO - Chain [1] start processing\n",
      "19:43:20 - cmdstanpy - INFO - Chain [1] done processing\n",
      "Seasonality has period of 365.25 days which is larger than initial window. Consider increasing initial.\n"
     ]
    },
    {
     "data": {
      "application/vnd.jupyter.widget-view+json": {
       "model_id": "ed43d1d2af7448df927a9aa8d13b71a2",
       "version_major": 2,
       "version_minor": 0
      },
      "text/plain": [
       "  0%|          | 0/1 [00:00<?, ?it/s]"
      ]
     },
     "metadata": {},
     "output_type": "display_data"
    },
    {
     "name": "stderr",
     "output_type": "stream",
     "text": [
      "19:43:20 - cmdstanpy - INFO - Chain [1] start processing\n",
      "19:43:20 - cmdstanpy - INFO - Chain [1] done processing\n",
      "19:43:21 - cmdstanpy - INFO - Chain [1] start processing\n",
      "19:43:21 - cmdstanpy - INFO - Chain [1] done processing\n",
      "Seasonality has period of 365.25 days which is larger than initial window. Consider increasing initial.\n"
     ]
    },
    {
     "data": {
      "application/vnd.jupyter.widget-view+json": {
       "model_id": "8e5a19e7e9c441ea99ff5b60afbce3af",
       "version_major": 2,
       "version_minor": 0
      },
      "text/plain": [
       "  0%|          | 0/1 [00:00<?, ?it/s]"
      ]
     },
     "metadata": {},
     "output_type": "display_data"
    },
    {
     "name": "stderr",
     "output_type": "stream",
     "text": [
      "19:43:21 - cmdstanpy - INFO - Chain [1] start processing\n",
      "19:43:21 - cmdstanpy - INFO - Chain [1] done processing\n",
      "19:43:21 - cmdstanpy - INFO - Chain [1] start processing\n",
      "19:43:21 - cmdstanpy - INFO - Chain [1] done processing\n",
      "Seasonality has period of 365.25 days which is larger than initial window. Consider increasing initial.\n"
     ]
    },
    {
     "data": {
      "application/vnd.jupyter.widget-view+json": {
       "model_id": "45a62504c7a24906b1bea9d43be0ba31",
       "version_major": 2,
       "version_minor": 0
      },
      "text/plain": [
       "  0%|          | 0/1 [00:00<?, ?it/s]"
      ]
     },
     "metadata": {},
     "output_type": "display_data"
    },
    {
     "name": "stderr",
     "output_type": "stream",
     "text": [
      "19:43:21 - cmdstanpy - INFO - Chain [1] start processing\n",
      "19:43:22 - cmdstanpy - INFO - Chain [1] done processing\n",
      "19:43:22 - cmdstanpy - INFO - Chain [1] start processing\n",
      "19:43:22 - cmdstanpy - INFO - Chain [1] done processing\n"
     ]
    },
    {
     "name": "stdout",
     "output_type": "stream",
     "text": [
      "Best parameters: params    {'changepoint_prior_scale': 0.3, 'holidays_pri...\n",
      "MAPE                                               0.046684\n",
      "Name: 13, dtype: object\n"
     ]
    },
    {
     "name": "stderr",
     "output_type": "stream",
     "text": [
      "19:43:22 - cmdstanpy - INFO - Chain [1] start processing\n"
     ]
    },
    {
     "name": "stdout",
     "output_type": "stream",
     "text": [
      "           y          ds\n",
      "6186  4623.0  2020-12-05\n",
      "6187  4197.0  2020-12-06\n",
      "6188  4452.0  2020-12-07\n",
      "6189  4714.0  2020-12-08\n",
      "6190  4450.0  2020-12-09\n"
     ]
    },
    {
     "name": "stderr",
     "output_type": "stream",
     "text": [
      "19:43:22 - cmdstanpy - INFO - Chain [1] done processing\n",
      "Seasonality has period of 365.25 days which is larger than initial window. Consider increasing initial.\n"
     ]
    },
    {
     "data": {
      "application/vnd.jupyter.widget-view+json": {
       "model_id": "abf0d7cdde704207a191a324114d5412",
       "version_major": 2,
       "version_minor": 0
      },
      "text/plain": [
       "  0%|          | 0/3 [00:00<?, ?it/s]"
      ]
     },
     "metadata": {},
     "output_type": "display_data"
    },
    {
     "name": "stderr",
     "output_type": "stream",
     "text": [
      "19:43:22 - cmdstanpy - INFO - Chain [1] start processing\n",
      "19:43:22 - cmdstanpy - INFO - Chain [1] done processing\n",
      "19:43:23 - cmdstanpy - INFO - Chain [1] start processing\n",
      "19:43:23 - cmdstanpy - INFO - Chain [1] done processing\n",
      "19:43:23 - cmdstanpy - INFO - Chain [1] start processing\n",
      "19:43:23 - cmdstanpy - INFO - Chain [1] done processing\n",
      "19:43:24 - cmdstanpy - INFO - Chain [1] start processing\n",
      "19:43:24 - cmdstanpy - INFO - Chain [1] done processing\n",
      "Seasonality has period of 365.25 days which is larger than initial window. Consider increasing initial.\n"
     ]
    },
    {
     "data": {
      "application/vnd.jupyter.widget-view+json": {
       "model_id": "269969c639734185a0e57b3cc34e8c26",
       "version_major": 2,
       "version_minor": 0
      },
      "text/plain": [
       "  0%|          | 0/3 [00:00<?, ?it/s]"
      ]
     },
     "metadata": {},
     "output_type": "display_data"
    },
    {
     "name": "stderr",
     "output_type": "stream",
     "text": [
      "19:43:24 - cmdstanpy - INFO - Chain [1] start processing\n",
      "19:43:24 - cmdstanpy - INFO - Chain [1] done processing\n",
      "19:43:24 - cmdstanpy - INFO - Chain [1] start processing\n",
      "19:43:24 - cmdstanpy - INFO - Chain [1] done processing\n",
      "19:43:25 - cmdstanpy - INFO - Chain [1] start processing\n",
      "19:43:25 - cmdstanpy - INFO - Chain [1] done processing\n",
      "19:43:25 - cmdstanpy - INFO - Chain [1] start processing\n",
      "19:43:26 - cmdstanpy - INFO - Chain [1] done processing\n",
      "Seasonality has period of 365.25 days which is larger than initial window. Consider increasing initial.\n"
     ]
    },
    {
     "data": {
      "application/vnd.jupyter.widget-view+json": {
       "model_id": "8e7c9a2c4af84543838a15478908ffee",
       "version_major": 2,
       "version_minor": 0
      },
      "text/plain": [
       "  0%|          | 0/3 [00:00<?, ?it/s]"
      ]
     },
     "metadata": {},
     "output_type": "display_data"
    },
    {
     "name": "stderr",
     "output_type": "stream",
     "text": [
      "19:43:26 - cmdstanpy - INFO - Chain [1] start processing\n",
      "19:43:26 - cmdstanpy - INFO - Chain [1] done processing\n",
      "19:43:26 - cmdstanpy - INFO - Chain [1] start processing\n",
      "19:43:26 - cmdstanpy - INFO - Chain [1] done processing\n",
      "19:43:27 - cmdstanpy - INFO - Chain [1] start processing\n",
      "19:43:27 - cmdstanpy - INFO - Chain [1] done processing\n",
      "19:43:27 - cmdstanpy - INFO - Chain [1] start processing\n",
      "19:43:27 - cmdstanpy - INFO - Chain [1] done processing\n",
      "Seasonality has period of 365.25 days which is larger than initial window. Consider increasing initial.\n"
     ]
    },
    {
     "data": {
      "application/vnd.jupyter.widget-view+json": {
       "model_id": "763f32cafd444f2c87260ae31b7ddefa",
       "version_major": 2,
       "version_minor": 0
      },
      "text/plain": [
       "  0%|          | 0/3 [00:00<?, ?it/s]"
      ]
     },
     "metadata": {},
     "output_type": "display_data"
    },
    {
     "name": "stderr",
     "output_type": "stream",
     "text": [
      "19:43:28 - cmdstanpy - INFO - Chain [1] start processing\n",
      "19:43:28 - cmdstanpy - INFO - Chain [1] done processing\n",
      "19:43:28 - cmdstanpy - INFO - Chain [1] start processing\n",
      "19:43:28 - cmdstanpy - INFO - Chain [1] done processing\n",
      "19:43:28 - cmdstanpy - INFO - Chain [1] start processing\n",
      "19:43:28 - cmdstanpy - INFO - Chain [1] done processing\n",
      "19:43:29 - cmdstanpy - INFO - Chain [1] start processing\n",
      "19:43:29 - cmdstanpy - INFO - Chain [1] done processing\n",
      "Seasonality has period of 365.25 days which is larger than initial window. Consider increasing initial.\n"
     ]
    },
    {
     "data": {
      "application/vnd.jupyter.widget-view+json": {
       "model_id": "7a32cf858bf946f383f260813e2cf8bb",
       "version_major": 2,
       "version_minor": 0
      },
      "text/plain": [
       "  0%|          | 0/3 [00:00<?, ?it/s]"
      ]
     },
     "metadata": {},
     "output_type": "display_data"
    },
    {
     "name": "stderr",
     "output_type": "stream",
     "text": [
      "19:43:29 - cmdstanpy - INFO - Chain [1] start processing\n",
      "19:43:29 - cmdstanpy - INFO - Chain [1] done processing\n",
      "19:43:30 - cmdstanpy - INFO - Chain [1] start processing\n",
      "19:43:30 - cmdstanpy - INFO - Chain [1] done processing\n",
      "19:43:30 - cmdstanpy - INFO - Chain [1] start processing\n",
      "19:43:30 - cmdstanpy - INFO - Chain [1] done processing\n",
      "19:43:31 - cmdstanpy - INFO - Chain [1] start processing\n",
      "19:43:31 - cmdstanpy - INFO - Chain [1] done processing\n",
      "Seasonality has period of 365.25 days which is larger than initial window. Consider increasing initial.\n"
     ]
    },
    {
     "data": {
      "application/vnd.jupyter.widget-view+json": {
       "model_id": "e4c32d711748451793a8a2da7821efed",
       "version_major": 2,
       "version_minor": 0
      },
      "text/plain": [
       "  0%|          | 0/3 [00:00<?, ?it/s]"
      ]
     },
     "metadata": {},
     "output_type": "display_data"
    },
    {
     "name": "stderr",
     "output_type": "stream",
     "text": [
      "19:43:31 - cmdstanpy - INFO - Chain [1] start processing\n",
      "19:43:31 - cmdstanpy - INFO - Chain [1] done processing\n",
      "19:43:31 - cmdstanpy - INFO - Chain [1] start processing\n",
      "19:43:31 - cmdstanpy - INFO - Chain [1] done processing\n",
      "19:43:32 - cmdstanpy - INFO - Chain [1] start processing\n",
      "19:43:32 - cmdstanpy - INFO - Chain [1] done processing\n",
      "19:43:32 - cmdstanpy - INFO - Chain [1] start processing\n",
      "19:43:32 - cmdstanpy - INFO - Chain [1] done processing\n",
      "Seasonality has period of 365.25 days which is larger than initial window. Consider increasing initial.\n"
     ]
    },
    {
     "data": {
      "application/vnd.jupyter.widget-view+json": {
       "model_id": "35c251a9564e463291dcbae4dce6f47c",
       "version_major": 2,
       "version_minor": 0
      },
      "text/plain": [
       "  0%|          | 0/3 [00:00<?, ?it/s]"
      ]
     },
     "metadata": {},
     "output_type": "display_data"
    },
    {
     "name": "stderr",
     "output_type": "stream",
     "text": [
      "19:43:32 - cmdstanpy - INFO - Chain [1] start processing\n",
      "19:43:32 - cmdstanpy - INFO - Chain [1] done processing\n",
      "19:43:33 - cmdstanpy - INFO - Chain [1] start processing\n",
      "19:43:33 - cmdstanpy - INFO - Chain [1] done processing\n",
      "19:43:34 - cmdstanpy - INFO - Chain [1] start processing\n",
      "19:43:34 - cmdstanpy - INFO - Chain [1] done processing\n",
      "19:43:34 - cmdstanpy - INFO - Chain [1] start processing\n",
      "19:43:35 - cmdstanpy - INFO - Chain [1] done processing\n",
      "Seasonality has period of 365.25 days which is larger than initial window. Consider increasing initial.\n"
     ]
    },
    {
     "data": {
      "application/vnd.jupyter.widget-view+json": {
       "model_id": "b49d79376ba24595be9c1ac948b95160",
       "version_major": 2,
       "version_minor": 0
      },
      "text/plain": [
       "  0%|          | 0/3 [00:00<?, ?it/s]"
      ]
     },
     "metadata": {},
     "output_type": "display_data"
    },
    {
     "name": "stderr",
     "output_type": "stream",
     "text": [
      "19:43:35 - cmdstanpy - INFO - Chain [1] start processing\n",
      "19:43:35 - cmdstanpy - INFO - Chain [1] done processing\n",
      "19:43:35 - cmdstanpy - INFO - Chain [1] start processing\n",
      "19:43:35 - cmdstanpy - INFO - Chain [1] done processing\n",
      "19:43:36 - cmdstanpy - INFO - Chain [1] start processing\n",
      "19:43:36 - cmdstanpy - INFO - Chain [1] done processing\n",
      "19:43:36 - cmdstanpy - INFO - Chain [1] start processing\n",
      "19:43:37 - cmdstanpy - INFO - Chain [1] done processing\n",
      "Seasonality has period of 365.25 days which is larger than initial window. Consider increasing initial.\n"
     ]
    },
    {
     "data": {
      "application/vnd.jupyter.widget-view+json": {
       "model_id": "c89678e7fb7d405db9fc2ccf855b0b16",
       "version_major": 2,
       "version_minor": 0
      },
      "text/plain": [
       "  0%|          | 0/3 [00:00<?, ?it/s]"
      ]
     },
     "metadata": {},
     "output_type": "display_data"
    },
    {
     "name": "stderr",
     "output_type": "stream",
     "text": [
      "19:43:37 - cmdstanpy - INFO - Chain [1] start processing\n",
      "19:43:37 - cmdstanpy - INFO - Chain [1] done processing\n",
      "19:43:37 - cmdstanpy - INFO - Chain [1] start processing\n",
      "19:43:37 - cmdstanpy - INFO - Chain [1] done processing\n",
      "19:43:38 - cmdstanpy - INFO - Chain [1] start processing\n",
      "19:43:38 - cmdstanpy - INFO - Chain [1] done processing\n",
      "19:43:38 - cmdstanpy - INFO - Chain [1] start processing\n",
      "19:43:38 - cmdstanpy - INFO - Chain [1] done processing\n",
      "Seasonality has period of 365.25 days which is larger than initial window. Consider increasing initial.\n"
     ]
    },
    {
     "data": {
      "application/vnd.jupyter.widget-view+json": {
       "model_id": "ae1913fb5664416da0047ad55dba6cfc",
       "version_major": 2,
       "version_minor": 0
      },
      "text/plain": [
       "  0%|          | 0/3 [00:00<?, ?it/s]"
      ]
     },
     "metadata": {},
     "output_type": "display_data"
    },
    {
     "name": "stderr",
     "output_type": "stream",
     "text": [
      "19:43:39 - cmdstanpy - INFO - Chain [1] start processing\n",
      "19:43:39 - cmdstanpy - INFO - Chain [1] done processing\n",
      "19:43:39 - cmdstanpy - INFO - Chain [1] start processing\n",
      "19:43:39 - cmdstanpy - INFO - Chain [1] done processing\n",
      "19:43:39 - cmdstanpy - INFO - Chain [1] start processing\n",
      "19:43:39 - cmdstanpy - INFO - Chain [1] done processing\n",
      "19:43:40 - cmdstanpy - INFO - Chain [1] start processing\n",
      "19:43:40 - cmdstanpy - INFO - Chain [1] done processing\n",
      "Seasonality has period of 365.25 days which is larger than initial window. Consider increasing initial.\n"
     ]
    },
    {
     "data": {
      "application/vnd.jupyter.widget-view+json": {
       "model_id": "d00c4178bc29494993b2052f1f1d00b7",
       "version_major": 2,
       "version_minor": 0
      },
      "text/plain": [
       "  0%|          | 0/3 [00:00<?, ?it/s]"
      ]
     },
     "metadata": {},
     "output_type": "display_data"
    },
    {
     "name": "stderr",
     "output_type": "stream",
     "text": [
      "19:43:40 - cmdstanpy - INFO - Chain [1] start processing\n",
      "19:43:40 - cmdstanpy - INFO - Chain [1] done processing\n",
      "19:43:40 - cmdstanpy - INFO - Chain [1] start processing\n",
      "19:43:40 - cmdstanpy - INFO - Chain [1] done processing\n",
      "19:43:41 - cmdstanpy - INFO - Chain [1] start processing\n",
      "19:43:41 - cmdstanpy - INFO - Chain [1] done processing\n",
      "19:43:41 - cmdstanpy - INFO - Chain [1] start processing\n",
      "19:43:41 - cmdstanpy - INFO - Chain [1] done processing\n",
      "Seasonality has period of 365.25 days which is larger than initial window. Consider increasing initial.\n"
     ]
    },
    {
     "data": {
      "application/vnd.jupyter.widget-view+json": {
       "model_id": "c408f8fa66cb483b81771f5eca61d003",
       "version_major": 2,
       "version_minor": 0
      },
      "text/plain": [
       "  0%|          | 0/3 [00:00<?, ?it/s]"
      ]
     },
     "metadata": {},
     "output_type": "display_data"
    },
    {
     "name": "stderr",
     "output_type": "stream",
     "text": [
      "19:43:42 - cmdstanpy - INFO - Chain [1] start processing\n",
      "19:43:42 - cmdstanpy - INFO - Chain [1] done processing\n",
      "19:43:42 - cmdstanpy - INFO - Chain [1] start processing\n",
      "19:43:42 - cmdstanpy - INFO - Chain [1] done processing\n",
      "19:43:42 - cmdstanpy - INFO - Chain [1] start processing\n",
      "19:43:42 - cmdstanpy - INFO - Chain [1] done processing\n",
      "19:43:43 - cmdstanpy - INFO - Chain [1] start processing\n",
      "19:43:43 - cmdstanpy - INFO - Chain [1] done processing\n",
      "Seasonality has period of 365.25 days which is larger than initial window. Consider increasing initial.\n"
     ]
    },
    {
     "data": {
      "application/vnd.jupyter.widget-view+json": {
       "model_id": "07b3d51ceec14ae193adbc30742396de",
       "version_major": 2,
       "version_minor": 0
      },
      "text/plain": [
       "  0%|          | 0/3 [00:00<?, ?it/s]"
      ]
     },
     "metadata": {},
     "output_type": "display_data"
    },
    {
     "name": "stderr",
     "output_type": "stream",
     "text": [
      "19:43:43 - cmdstanpy - INFO - Chain [1] start processing\n",
      "19:43:43 - cmdstanpy - INFO - Chain [1] done processing\n",
      "19:43:43 - cmdstanpy - INFO - Chain [1] start processing\n",
      "19:43:44 - cmdstanpy - INFO - Chain [1] done processing\n",
      "19:43:44 - cmdstanpy - INFO - Chain [1] start processing\n",
      "19:43:44 - cmdstanpy - INFO - Chain [1] done processing\n",
      "19:43:44 - cmdstanpy - INFO - Chain [1] start processing\n",
      "19:43:45 - cmdstanpy - INFO - Chain [1] done processing\n",
      "Seasonality has period of 365.25 days which is larger than initial window. Consider increasing initial.\n"
     ]
    },
    {
     "data": {
      "application/vnd.jupyter.widget-view+json": {
       "model_id": "d797e85cadeb4166bdeebd64a4d7a53a",
       "version_major": 2,
       "version_minor": 0
      },
      "text/plain": [
       "  0%|          | 0/3 [00:00<?, ?it/s]"
      ]
     },
     "metadata": {},
     "output_type": "display_data"
    },
    {
     "name": "stderr",
     "output_type": "stream",
     "text": [
      "19:43:45 - cmdstanpy - INFO - Chain [1] start processing\n",
      "19:43:45 - cmdstanpy - INFO - Chain [1] done processing\n",
      "19:43:45 - cmdstanpy - INFO - Chain [1] start processing\n",
      "19:43:46 - cmdstanpy - INFO - Chain [1] done processing\n",
      "19:43:46 - cmdstanpy - INFO - Chain [1] start processing\n",
      "19:43:46 - cmdstanpy - INFO - Chain [1] done processing\n",
      "19:43:47 - cmdstanpy - INFO - Chain [1] start processing\n",
      "19:43:47 - cmdstanpy - INFO - Chain [1] done processing\n",
      "Seasonality has period of 365.25 days which is larger than initial window. Consider increasing initial.\n"
     ]
    },
    {
     "data": {
      "application/vnd.jupyter.widget-view+json": {
       "model_id": "424f16f0455d49aba55507cd52e15c73",
       "version_major": 2,
       "version_minor": 0
      },
      "text/plain": [
       "  0%|          | 0/3 [00:00<?, ?it/s]"
      ]
     },
     "metadata": {},
     "output_type": "display_data"
    },
    {
     "name": "stderr",
     "output_type": "stream",
     "text": [
      "19:43:47 - cmdstanpy - INFO - Chain [1] start processing\n",
      "19:43:47 - cmdstanpy - INFO - Chain [1] done processing\n",
      "19:43:47 - cmdstanpy - INFO - Chain [1] start processing\n",
      "19:43:47 - cmdstanpy - INFO - Chain [1] done processing\n",
      "19:43:48 - cmdstanpy - INFO - Chain [1] start processing\n",
      "19:43:48 - cmdstanpy - INFO - Chain [1] done processing\n",
      "19:43:48 - cmdstanpy - INFO - Chain [1] start processing\n",
      "19:43:49 - cmdstanpy - INFO - Chain [1] done processing\n",
      "Seasonality has period of 365.25 days which is larger than initial window. Consider increasing initial.\n"
     ]
    },
    {
     "data": {
      "application/vnd.jupyter.widget-view+json": {
       "model_id": "5108483bfeef441c8236f2607208cbec",
       "version_major": 2,
       "version_minor": 0
      },
      "text/plain": [
       "  0%|          | 0/3 [00:00<?, ?it/s]"
      ]
     },
     "metadata": {},
     "output_type": "display_data"
    },
    {
     "name": "stderr",
     "output_type": "stream",
     "text": [
      "19:43:49 - cmdstanpy - INFO - Chain [1] start processing\n",
      "19:43:49 - cmdstanpy - INFO - Chain [1] done processing\n",
      "19:43:49 - cmdstanpy - INFO - Chain [1] start processing\n",
      "19:43:49 - cmdstanpy - INFO - Chain [1] done processing\n",
      "19:43:50 - cmdstanpy - INFO - Chain [1] start processing\n",
      "19:43:50 - cmdstanpy - INFO - Chain [1] done processing\n",
      "19:43:50 - cmdstanpy - INFO - Chain [1] start processing\n",
      "19:43:51 - cmdstanpy - INFO - Chain [1] done processing\n",
      "Seasonality has period of 365.25 days which is larger than initial window. Consider increasing initial.\n"
     ]
    },
    {
     "data": {
      "application/vnd.jupyter.widget-view+json": {
       "model_id": "fb7636f7faaf4337ba792fb775fb781f",
       "version_major": 2,
       "version_minor": 0
      },
      "text/plain": [
       "  0%|          | 0/3 [00:00<?, ?it/s]"
      ]
     },
     "metadata": {},
     "output_type": "display_data"
    },
    {
     "name": "stderr",
     "output_type": "stream",
     "text": [
      "19:43:51 - cmdstanpy - INFO - Chain [1] start processing\n",
      "19:43:51 - cmdstanpy - INFO - Chain [1] done processing\n",
      "19:43:51 - cmdstanpy - INFO - Chain [1] start processing\n",
      "19:43:51 - cmdstanpy - INFO - Chain [1] done processing\n",
      "19:43:52 - cmdstanpy - INFO - Chain [1] start processing\n",
      "19:43:52 - cmdstanpy - INFO - Chain [1] done processing\n",
      "19:43:52 - cmdstanpy - INFO - Chain [1] start processing\n",
      "19:43:53 - cmdstanpy - INFO - Chain [1] done processing\n",
      "Seasonality has period of 365.25 days which is larger than initial window. Consider increasing initial.\n"
     ]
    },
    {
     "data": {
      "application/vnd.jupyter.widget-view+json": {
       "model_id": "78b62f02168b48668ccd81673507b658",
       "version_major": 2,
       "version_minor": 0
      },
      "text/plain": [
       "  0%|          | 0/3 [00:00<?, ?it/s]"
      ]
     },
     "metadata": {},
     "output_type": "display_data"
    },
    {
     "name": "stderr",
     "output_type": "stream",
     "text": [
      "19:43:53 - cmdstanpy - INFO - Chain [1] start processing\n",
      "19:43:53 - cmdstanpy - INFO - Chain [1] done processing\n",
      "19:43:53 - cmdstanpy - INFO - Chain [1] start processing\n",
      "19:43:54 - cmdstanpy - INFO - Chain [1] done processing\n",
      "19:43:55 - cmdstanpy - INFO - Chain [1] start processing\n",
      "19:43:55 - cmdstanpy - INFO - Chain [1] done processing\n",
      "19:43:56 - cmdstanpy - INFO - Chain [1] start processing\n",
      "19:43:57 - cmdstanpy - INFO - Chain [1] done processing\n",
      "Seasonality has period of 365.25 days which is larger than initial window. Consider increasing initial.\n"
     ]
    },
    {
     "data": {
      "application/vnd.jupyter.widget-view+json": {
       "model_id": "44303bef9986424fab2a8f9dbdc1c6ea",
       "version_major": 2,
       "version_minor": 0
      },
      "text/plain": [
       "  0%|          | 0/3 [00:00<?, ?it/s]"
      ]
     },
     "metadata": {},
     "output_type": "display_data"
    },
    {
     "name": "stderr",
     "output_type": "stream",
     "text": [
      "19:43:57 - cmdstanpy - INFO - Chain [1] start processing\n",
      "19:43:58 - cmdstanpy - INFO - Chain [1] done processing\n",
      "19:43:58 - cmdstanpy - INFO - Chain [1] start processing\n",
      "19:43:58 - cmdstanpy - INFO - Chain [1] done processing\n",
      "19:43:59 - cmdstanpy - INFO - Chain [1] start processing\n",
      "19:43:59 - cmdstanpy - INFO - Chain [1] done processing\n",
      "19:43:59 - cmdstanpy - INFO - Chain [1] start processing\n",
      "19:44:00 - cmdstanpy - INFO - Chain [1] done processing\n",
      "Seasonality has period of 365.25 days which is larger than initial window. Consider increasing initial.\n"
     ]
    },
    {
     "data": {
      "application/vnd.jupyter.widget-view+json": {
       "model_id": "659c8ad1e1f74e8b8e1927ac64185876",
       "version_major": 2,
       "version_minor": 0
      },
      "text/plain": [
       "  0%|          | 0/3 [00:00<?, ?it/s]"
      ]
     },
     "metadata": {},
     "output_type": "display_data"
    },
    {
     "name": "stderr",
     "output_type": "stream",
     "text": [
      "19:44:00 - cmdstanpy - INFO - Chain [1] start processing\n",
      "19:44:00 - cmdstanpy - INFO - Chain [1] done processing\n",
      "19:44:00 - cmdstanpy - INFO - Chain [1] start processing\n",
      "19:44:01 - cmdstanpy - INFO - Chain [1] done processing\n",
      "19:44:01 - cmdstanpy - INFO - Chain [1] start processing\n",
      "19:44:01 - cmdstanpy - INFO - Chain [1] done processing\n",
      "19:44:02 - cmdstanpy - INFO - Chain [1] start processing\n",
      "19:44:02 - cmdstanpy - INFO - Chain [1] done processing\n",
      "Seasonality has period of 365.25 days which is larger than initial window. Consider increasing initial.\n"
     ]
    },
    {
     "data": {
      "application/vnd.jupyter.widget-view+json": {
       "model_id": "8f126d4c7c5846c09ed78fe8e8689ca6",
       "version_major": 2,
       "version_minor": 0
      },
      "text/plain": [
       "  0%|          | 0/3 [00:00<?, ?it/s]"
      ]
     },
     "metadata": {},
     "output_type": "display_data"
    },
    {
     "name": "stderr",
     "output_type": "stream",
     "text": [
      "19:44:03 - cmdstanpy - INFO - Chain [1] start processing\n",
      "19:44:03 - cmdstanpy - INFO - Chain [1] done processing\n",
      "19:44:03 - cmdstanpy - INFO - Chain [1] start processing\n",
      "19:44:03 - cmdstanpy - INFO - Chain [1] done processing\n",
      "19:44:04 - cmdstanpy - INFO - Chain [1] start processing\n",
      "19:44:04 - cmdstanpy - INFO - Chain [1] done processing\n",
      "19:44:04 - cmdstanpy - INFO - Chain [1] start processing\n",
      "19:44:05 - cmdstanpy - INFO - Chain [1] done processing\n",
      "Seasonality has period of 365.25 days which is larger than initial window. Consider increasing initial.\n"
     ]
    },
    {
     "data": {
      "application/vnd.jupyter.widget-view+json": {
       "model_id": "4c28299d90374417a795d1e6a4c40217",
       "version_major": 2,
       "version_minor": 0
      },
      "text/plain": [
       "  0%|          | 0/3 [00:00<?, ?it/s]"
      ]
     },
     "metadata": {},
     "output_type": "display_data"
    },
    {
     "name": "stderr",
     "output_type": "stream",
     "text": [
      "19:44:05 - cmdstanpy - INFO - Chain [1] start processing\n",
      "19:44:05 - cmdstanpy - INFO - Chain [1] done processing\n",
      "19:44:05 - cmdstanpy - INFO - Chain [1] start processing\n",
      "19:44:05 - cmdstanpy - INFO - Chain [1] done processing\n",
      "19:44:06 - cmdstanpy - INFO - Chain [1] start processing\n",
      "19:44:06 - cmdstanpy - INFO - Chain [1] done processing\n",
      "19:44:06 - cmdstanpy - INFO - Chain [1] start processing\n",
      "19:44:07 - cmdstanpy - INFO - Chain [1] done processing\n",
      "Seasonality has period of 365.25 days which is larger than initial window. Consider increasing initial.\n"
     ]
    },
    {
     "data": {
      "application/vnd.jupyter.widget-view+json": {
       "model_id": "921739689ffd4c55a7234b0f1d18c343",
       "version_major": 2,
       "version_minor": 0
      },
      "text/plain": [
       "  0%|          | 0/3 [00:00<?, ?it/s]"
      ]
     },
     "metadata": {},
     "output_type": "display_data"
    },
    {
     "name": "stderr",
     "output_type": "stream",
     "text": [
      "19:44:07 - cmdstanpy - INFO - Chain [1] start processing\n",
      "19:44:07 - cmdstanpy - INFO - Chain [1] done processing\n",
      "19:44:07 - cmdstanpy - INFO - Chain [1] start processing\n",
      "19:44:07 - cmdstanpy - INFO - Chain [1] done processing\n",
      "19:44:08 - cmdstanpy - INFO - Chain [1] start processing\n",
      "19:44:08 - cmdstanpy - INFO - Chain [1] done processing\n",
      "19:44:08 - cmdstanpy - INFO - Chain [1] start processing\n",
      "19:44:09 - cmdstanpy - INFO - Chain [1] done processing\n",
      "Seasonality has period of 365.25 days which is larger than initial window. Consider increasing initial.\n"
     ]
    },
    {
     "data": {
      "application/vnd.jupyter.widget-view+json": {
       "model_id": "e3a5717d69064f749e948cdd5548c7f2",
       "version_major": 2,
       "version_minor": 0
      },
      "text/plain": [
       "  0%|          | 0/3 [00:00<?, ?it/s]"
      ]
     },
     "metadata": {},
     "output_type": "display_data"
    },
    {
     "name": "stderr",
     "output_type": "stream",
     "text": [
      "19:44:09 - cmdstanpy - INFO - Chain [1] start processing\n",
      "19:44:09 - cmdstanpy - INFO - Chain [1] done processing\n",
      "19:44:09 - cmdstanpy - INFO - Chain [1] start processing\n",
      "19:44:09 - cmdstanpy - INFO - Chain [1] done processing\n",
      "19:44:09 - cmdstanpy - INFO - Chain [1] start processing\n",
      "19:44:10 - cmdstanpy - INFO - Chain [1] done processing\n",
      "19:44:10 - cmdstanpy - INFO - Chain [1] start processing\n",
      "19:44:11 - cmdstanpy - INFO - Chain [1] done processing\n",
      "Seasonality has period of 365.25 days which is larger than initial window. Consider increasing initial.\n"
     ]
    },
    {
     "data": {
      "application/vnd.jupyter.widget-view+json": {
       "model_id": "71619eb14dba4fa1befd88be0e00008a",
       "version_major": 2,
       "version_minor": 0
      },
      "text/plain": [
       "  0%|          | 0/3 [00:00<?, ?it/s]"
      ]
     },
     "metadata": {},
     "output_type": "display_data"
    },
    {
     "name": "stderr",
     "output_type": "stream",
     "text": [
      "19:44:11 - cmdstanpy - INFO - Chain [1] start processing\n",
      "19:44:11 - cmdstanpy - INFO - Chain [1] done processing\n",
      "19:44:11 - cmdstanpy - INFO - Chain [1] start processing\n",
      "19:44:11 - cmdstanpy - INFO - Chain [1] done processing\n",
      "19:44:12 - cmdstanpy - INFO - Chain [1] start processing\n",
      "19:44:12 - cmdstanpy - INFO - Chain [1] done processing\n",
      "19:44:12 - cmdstanpy - INFO - Chain [1] start processing\n",
      "19:44:13 - cmdstanpy - INFO - Chain [1] done processing\n",
      "Seasonality has period of 365.25 days which is larger than initial window. Consider increasing initial.\n"
     ]
    },
    {
     "data": {
      "application/vnd.jupyter.widget-view+json": {
       "model_id": "eb260527b1354fb6bc6ec2d91bbe5f46",
       "version_major": 2,
       "version_minor": 0
      },
      "text/plain": [
       "  0%|          | 0/3 [00:00<?, ?it/s]"
      ]
     },
     "metadata": {},
     "output_type": "display_data"
    },
    {
     "name": "stderr",
     "output_type": "stream",
     "text": [
      "19:44:13 - cmdstanpy - INFO - Chain [1] start processing\n",
      "19:44:13 - cmdstanpy - INFO - Chain [1] done processing\n",
      "19:44:13 - cmdstanpy - INFO - Chain [1] start processing\n",
      "19:44:13 - cmdstanpy - INFO - Chain [1] done processing\n",
      "19:44:13 - cmdstanpy - INFO - Chain [1] start processing\n",
      "19:44:14 - cmdstanpy - INFO - Chain [1] done processing\n",
      "19:44:14 - cmdstanpy - INFO - Chain [1] start processing\n",
      "19:44:14 - cmdstanpy - INFO - Chain [1] done processing\n",
      "Seasonality has period of 365.25 days which is larger than initial window. Consider increasing initial.\n"
     ]
    },
    {
     "data": {
      "application/vnd.jupyter.widget-view+json": {
       "model_id": "0ecd1b6466df4dd583fe6c7ae36d727f",
       "version_major": 2,
       "version_minor": 0
      },
      "text/plain": [
       "  0%|          | 0/3 [00:00<?, ?it/s]"
      ]
     },
     "metadata": {},
     "output_type": "display_data"
    },
    {
     "name": "stderr",
     "output_type": "stream",
     "text": [
      "19:44:15 - cmdstanpy - INFO - Chain [1] start processing\n",
      "19:44:15 - cmdstanpy - INFO - Chain [1] done processing\n",
      "19:44:15 - cmdstanpy - INFO - Chain [1] start processing\n",
      "19:44:15 - cmdstanpy - INFO - Chain [1] done processing\n",
      "19:44:15 - cmdstanpy - INFO - Chain [1] start processing\n",
      "19:44:16 - cmdstanpy - INFO - Chain [1] done processing\n",
      "19:44:16 - cmdstanpy - INFO - Chain [1] start processing\n",
      "19:44:16 - cmdstanpy - INFO - Chain [1] done processing\n",
      "Seasonality has period of 365.25 days which is larger than initial window. Consider increasing initial.\n"
     ]
    },
    {
     "data": {
      "application/vnd.jupyter.widget-view+json": {
       "model_id": "145083bdfc934f98ade8e7a9eaea2dc3",
       "version_major": 2,
       "version_minor": 0
      },
      "text/plain": [
       "  0%|          | 0/3 [00:00<?, ?it/s]"
      ]
     },
     "metadata": {},
     "output_type": "display_data"
    },
    {
     "name": "stderr",
     "output_type": "stream",
     "text": [
      "19:44:17 - cmdstanpy - INFO - Chain [1] start processing\n",
      "19:44:17 - cmdstanpy - INFO - Chain [1] done processing\n",
      "19:44:17 - cmdstanpy - INFO - Chain [1] start processing\n",
      "19:44:17 - cmdstanpy - INFO - Chain [1] done processing\n",
      "19:44:17 - cmdstanpy - INFO - Chain [1] start processing\n",
      "19:44:17 - cmdstanpy - INFO - Chain [1] done processing\n",
      "19:44:18 - cmdstanpy - INFO - Chain [1] start processing\n",
      "19:44:18 - cmdstanpy - INFO - Chain [1] done processing\n",
      "Seasonality has period of 365.25 days which is larger than initial window. Consider increasing initial.\n"
     ]
    },
    {
     "data": {
      "application/vnd.jupyter.widget-view+json": {
       "model_id": "e2e026fc8e7340c1ace4b7025033aa7f",
       "version_major": 2,
       "version_minor": 0
      },
      "text/plain": [
       "  0%|          | 0/3 [00:00<?, ?it/s]"
      ]
     },
     "metadata": {},
     "output_type": "display_data"
    },
    {
     "name": "stderr",
     "output_type": "stream",
     "text": [
      "19:44:18 - cmdstanpy - INFO - Chain [1] start processing\n",
      "19:44:18 - cmdstanpy - INFO - Chain [1] done processing\n",
      "19:44:19 - cmdstanpy - INFO - Chain [1] start processing\n",
      "19:44:19 - cmdstanpy - INFO - Chain [1] done processing\n",
      "19:44:19 - cmdstanpy - INFO - Chain [1] start processing\n",
      "19:44:19 - cmdstanpy - INFO - Chain [1] done processing\n",
      "19:44:20 - cmdstanpy - INFO - Chain [1] start processing\n",
      "19:44:20 - cmdstanpy - INFO - Chain [1] done processing\n",
      "Seasonality has period of 365.25 days which is larger than initial window. Consider increasing initial.\n"
     ]
    },
    {
     "data": {
      "application/vnd.jupyter.widget-view+json": {
       "model_id": "23855a25359d4be9b5393b07a37c81fa",
       "version_major": 2,
       "version_minor": 0
      },
      "text/plain": [
       "  0%|          | 0/3 [00:00<?, ?it/s]"
      ]
     },
     "metadata": {},
     "output_type": "display_data"
    },
    {
     "name": "stderr",
     "output_type": "stream",
     "text": [
      "19:44:20 - cmdstanpy - INFO - Chain [1] start processing\n",
      "19:44:20 - cmdstanpy - INFO - Chain [1] done processing\n",
      "19:44:21 - cmdstanpy - INFO - Chain [1] start processing\n",
      "19:44:21 - cmdstanpy - INFO - Chain [1] done processing\n",
      "19:44:21 - cmdstanpy - INFO - Chain [1] start processing\n",
      "19:44:22 - cmdstanpy - INFO - Chain [1] done processing\n",
      "19:44:22 - cmdstanpy - INFO - Chain [1] start processing\n",
      "19:44:23 - cmdstanpy - INFO - Chain [1] done processing\n",
      "Seasonality has period of 365.25 days which is larger than initial window. Consider increasing initial.\n"
     ]
    },
    {
     "data": {
      "application/vnd.jupyter.widget-view+json": {
       "model_id": "7a5fd1d0489e48a8a9b3092e9cfb8cc8",
       "version_major": 2,
       "version_minor": 0
      },
      "text/plain": [
       "  0%|          | 0/3 [00:00<?, ?it/s]"
      ]
     },
     "metadata": {},
     "output_type": "display_data"
    },
    {
     "name": "stderr",
     "output_type": "stream",
     "text": [
      "19:44:24 - cmdstanpy - INFO - Chain [1] start processing\n",
      "19:44:24 - cmdstanpy - INFO - Chain [1] done processing\n",
      "19:44:25 - cmdstanpy - INFO - Chain [1] start processing\n",
      "19:44:25 - cmdstanpy - INFO - Chain [1] done processing\n",
      "19:44:27 - cmdstanpy - INFO - Chain [1] start processing\n",
      "19:44:28 - cmdstanpy - INFO - Chain [1] done processing\n",
      "19:44:29 - cmdstanpy - INFO - Chain [1] start processing\n",
      "19:44:31 - cmdstanpy - INFO - Chain [1] done processing\n",
      "Seasonality has period of 365.25 days which is larger than initial window. Consider increasing initial.\n"
     ]
    },
    {
     "data": {
      "application/vnd.jupyter.widget-view+json": {
       "model_id": "808a66d9d38141ebabe0793c9a967829",
       "version_major": 2,
       "version_minor": 0
      },
      "text/plain": [
       "  0%|          | 0/3 [00:00<?, ?it/s]"
      ]
     },
     "metadata": {},
     "output_type": "display_data"
    },
    {
     "name": "stderr",
     "output_type": "stream",
     "text": [
      "19:44:32 - cmdstanpy - INFO - Chain [1] start processing\n",
      "19:44:32 - cmdstanpy - INFO - Chain [1] done processing\n",
      "19:44:33 - cmdstanpy - INFO - Chain [1] start processing\n",
      "19:44:34 - cmdstanpy - INFO - Chain [1] done processing\n",
      "19:44:35 - cmdstanpy - INFO - Chain [1] start processing\n",
      "19:44:37 - cmdstanpy - INFO - Chain [1] done processing\n",
      "19:44:39 - cmdstanpy - INFO - Chain [1] start processing\n",
      "19:44:40 - cmdstanpy - INFO - Chain [1] done processing\n",
      "Seasonality has period of 365.25 days which is larger than initial window. Consider increasing initial.\n"
     ]
    },
    {
     "data": {
      "application/vnd.jupyter.widget-view+json": {
       "model_id": "d5f6f96f6c244b9a92fc468388a4493e",
       "version_major": 2,
       "version_minor": 0
      },
      "text/plain": [
       "  0%|          | 0/3 [00:00<?, ?it/s]"
      ]
     },
     "metadata": {},
     "output_type": "display_data"
    },
    {
     "name": "stderr",
     "output_type": "stream",
     "text": [
      "19:44:41 - cmdstanpy - INFO - Chain [1] start processing\n",
      "19:44:41 - cmdstanpy - INFO - Chain [1] done processing\n",
      "19:44:42 - cmdstanpy - INFO - Chain [1] start processing\n",
      "19:44:43 - cmdstanpy - INFO - Chain [1] done processing\n",
      "19:44:43 - cmdstanpy - INFO - Chain [1] start processing\n",
      "19:44:45 - cmdstanpy - INFO - Chain [1] done processing\n",
      "19:44:46 - cmdstanpy - INFO - Chain [1] start processing\n",
      "19:44:47 - cmdstanpy - INFO - Chain [1] done processing\n",
      "Seasonality has period of 365.25 days which is larger than initial window. Consider increasing initial.\n"
     ]
    },
    {
     "data": {
      "application/vnd.jupyter.widget-view+json": {
       "model_id": "e0392eae49914bc1993cf550abcae1a1",
       "version_major": 2,
       "version_minor": 0
      },
      "text/plain": [
       "  0%|          | 0/3 [00:00<?, ?it/s]"
      ]
     },
     "metadata": {},
     "output_type": "display_data"
    },
    {
     "name": "stderr",
     "output_type": "stream",
     "text": [
      "19:44:47 - cmdstanpy - INFO - Chain [1] start processing\n",
      "19:44:48 - cmdstanpy - INFO - Chain [1] done processing\n",
      "19:44:49 - cmdstanpy - INFO - Chain [1] start processing\n",
      "19:44:49 - cmdstanpy - INFO - Chain [1] done processing\n",
      "19:44:51 - cmdstanpy - INFO - Chain [1] start processing\n",
      "19:44:52 - cmdstanpy - INFO - Chain [1] done processing\n",
      "19:44:53 - cmdstanpy - INFO - Chain [1] start processing\n",
      "19:44:56 - cmdstanpy - INFO - Chain [1] done processing\n",
      "Seasonality has period of 365.25 days which is larger than initial window. Consider increasing initial.\n"
     ]
    },
    {
     "data": {
      "application/vnd.jupyter.widget-view+json": {
       "model_id": "73b41015b0dc4a24b2bf6659438279a8",
       "version_major": 2,
       "version_minor": 0
      },
      "text/plain": [
       "  0%|          | 0/3 [00:00<?, ?it/s]"
      ]
     },
     "metadata": {},
     "output_type": "display_data"
    },
    {
     "name": "stderr",
     "output_type": "stream",
     "text": [
      "19:44:57 - cmdstanpy - INFO - Chain [1] start processing\n",
      "19:44:58 - cmdstanpy - INFO - Chain [1] done processing\n",
      "19:44:59 - cmdstanpy - INFO - Chain [1] start processing\n",
      "19:45:00 - cmdstanpy - INFO - Chain [1] done processing\n",
      "19:45:01 - cmdstanpy - INFO - Chain [1] start processing\n",
      "19:45:04 - cmdstanpy - INFO - Chain [1] done processing\n",
      "19:45:05 - cmdstanpy - INFO - Chain [1] start processing\n",
      "19:45:08 - cmdstanpy - INFO - Chain [1] done processing\n",
      "Seasonality has period of 365.25 days which is larger than initial window. Consider increasing initial.\n"
     ]
    },
    {
     "data": {
      "application/vnd.jupyter.widget-view+json": {
       "model_id": "60d07af5b27c4f8aaeb35870e1ada88a",
       "version_major": 2,
       "version_minor": 0
      },
      "text/plain": [
       "  0%|          | 0/3 [00:00<?, ?it/s]"
      ]
     },
     "metadata": {},
     "output_type": "display_data"
    },
    {
     "name": "stderr",
     "output_type": "stream",
     "text": [
      "19:45:08 - cmdstanpy - INFO - Chain [1] start processing\n",
      "19:45:09 - cmdstanpy - INFO - Chain [1] done processing\n",
      "19:45:10 - cmdstanpy - INFO - Chain [1] start processing\n",
      "19:45:10 - cmdstanpy - INFO - Chain [1] done processing\n",
      "19:45:11 - cmdstanpy - INFO - Chain [1] start processing\n",
      "19:45:14 - cmdstanpy - INFO - Chain [1] done processing\n",
      "19:45:15 - cmdstanpy - INFO - Chain [1] start processing\n",
      "19:45:17 - cmdstanpy - INFO - Chain [1] done processing\n",
      "Seasonality has period of 365.25 days which is larger than initial window. Consider increasing initial.\n"
     ]
    },
    {
     "data": {
      "application/vnd.jupyter.widget-view+json": {
       "model_id": "706970b985424503ac90135541cce390",
       "version_major": 2,
       "version_minor": 0
      },
      "text/plain": [
       "  0%|          | 0/3 [00:00<?, ?it/s]"
      ]
     },
     "metadata": {},
     "output_type": "display_data"
    },
    {
     "name": "stderr",
     "output_type": "stream",
     "text": [
      "19:45:17 - cmdstanpy - INFO - Chain [1] start processing\n",
      "19:45:18 - cmdstanpy - INFO - Chain [1] done processing\n",
      "19:45:19 - cmdstanpy - INFO - Chain [1] start processing\n",
      "19:45:19 - cmdstanpy - INFO - Chain [1] done processing\n",
      "19:45:20 - cmdstanpy - INFO - Chain [1] start processing\n",
      "19:45:21 - cmdstanpy - INFO - Chain [1] done processing\n",
      "19:45:22 - cmdstanpy - INFO - Chain [1] start processing\n",
      "19:45:23 - cmdstanpy - INFO - Chain [1] done processing\n",
      "Seasonality has period of 365.25 days which is larger than initial window. Consider increasing initial.\n"
     ]
    },
    {
     "data": {
      "application/vnd.jupyter.widget-view+json": {
       "model_id": "33406db1abc6430b93ca5eea73aa1c25",
       "version_major": 2,
       "version_minor": 0
      },
      "text/plain": [
       "  0%|          | 0/3 [00:00<?, ?it/s]"
      ]
     },
     "metadata": {},
     "output_type": "display_data"
    },
    {
     "name": "stderr",
     "output_type": "stream",
     "text": [
      "19:45:24 - cmdstanpy - INFO - Chain [1] start processing\n",
      "19:45:24 - cmdstanpy - INFO - Chain [1] done processing\n",
      "19:45:25 - cmdstanpy - INFO - Chain [1] start processing\n",
      "19:45:25 - cmdstanpy - INFO - Chain [1] done processing\n",
      "19:45:26 - cmdstanpy - INFO - Chain [1] start processing\n",
      "19:45:27 - cmdstanpy - INFO - Chain [1] done processing\n",
      "19:45:28 - cmdstanpy - INFO - Chain [1] start processing\n",
      "19:45:29 - cmdstanpy - INFO - Chain [1] done processing\n",
      "Seasonality has period of 365.25 days which is larger than initial window. Consider increasing initial.\n"
     ]
    },
    {
     "data": {
      "application/vnd.jupyter.widget-view+json": {
       "model_id": "3d3a6acabd2e4b0e9541c4206a7fed90",
       "version_major": 2,
       "version_minor": 0
      },
      "text/plain": [
       "  0%|          | 0/3 [00:00<?, ?it/s]"
      ]
     },
     "metadata": {},
     "output_type": "display_data"
    },
    {
     "name": "stderr",
     "output_type": "stream",
     "text": [
      "19:45:29 - cmdstanpy - INFO - Chain [1] start processing\n",
      "19:45:29 - cmdstanpy - INFO - Chain [1] done processing\n",
      "19:45:30 - cmdstanpy - INFO - Chain [1] start processing\n",
      "19:45:30 - cmdstanpy - INFO - Chain [1] done processing\n",
      "19:45:30 - cmdstanpy - INFO - Chain [1] start processing\n",
      "19:45:31 - cmdstanpy - INFO - Chain [1] done processing\n",
      "19:45:32 - cmdstanpy - INFO - Chain [1] start processing\n",
      "19:45:32 - cmdstanpy - INFO - Chain [1] done processing\n",
      "Seasonality has period of 365.25 days which is larger than initial window. Consider increasing initial.\n"
     ]
    },
    {
     "data": {
      "application/vnd.jupyter.widget-view+json": {
       "model_id": "465745e64c9542b98a315bc1fb783f2e",
       "version_major": 2,
       "version_minor": 0
      },
      "text/plain": [
       "  0%|          | 0/3 [00:00<?, ?it/s]"
      ]
     },
     "metadata": {},
     "output_type": "display_data"
    },
    {
     "name": "stderr",
     "output_type": "stream",
     "text": [
      "19:45:33 - cmdstanpy - INFO - Chain [1] start processing\n",
      "19:45:33 - cmdstanpy - INFO - Chain [1] done processing\n",
      "19:45:33 - cmdstanpy - INFO - Chain [1] start processing\n",
      "19:45:34 - cmdstanpy - INFO - Chain [1] done processing\n",
      "19:45:34 - cmdstanpy - INFO - Chain [1] start processing\n",
      "19:45:35 - cmdstanpy - INFO - Chain [1] done processing\n",
      "19:45:35 - cmdstanpy - INFO - Chain [1] start processing\n",
      "19:45:36 - cmdstanpy - INFO - Chain [1] done processing\n",
      "Seasonality has period of 365.25 days which is larger than initial window. Consider increasing initial.\n"
     ]
    },
    {
     "data": {
      "application/vnd.jupyter.widget-view+json": {
       "model_id": "d537ba24ddc242ad9e656d3eed913b25",
       "version_major": 2,
       "version_minor": 0
      },
      "text/plain": [
       "  0%|          | 0/3 [00:00<?, ?it/s]"
      ]
     },
     "metadata": {},
     "output_type": "display_data"
    },
    {
     "name": "stderr",
     "output_type": "stream",
     "text": [
      "19:45:36 - cmdstanpy - INFO - Chain [1] start processing\n",
      "19:45:36 - cmdstanpy - INFO - Chain [1] done processing\n",
      "19:45:37 - cmdstanpy - INFO - Chain [1] start processing\n",
      "19:45:37 - cmdstanpy - INFO - Chain [1] done processing\n",
      "19:45:38 - cmdstanpy - INFO - Chain [1] start processing\n",
      "19:45:38 - cmdstanpy - INFO - Chain [1] done processing\n",
      "19:45:39 - cmdstanpy - INFO - Chain [1] start processing\n",
      "19:45:39 - cmdstanpy - INFO - Chain [1] done processing\n",
      "Seasonality has period of 365.25 days which is larger than initial window. Consider increasing initial.\n"
     ]
    },
    {
     "data": {
      "application/vnd.jupyter.widget-view+json": {
       "model_id": "c4e01cca7f414072b2bd764081444c9c",
       "version_major": 2,
       "version_minor": 0
      },
      "text/plain": [
       "  0%|          | 0/3 [00:00<?, ?it/s]"
      ]
     },
     "metadata": {},
     "output_type": "display_data"
    },
    {
     "name": "stderr",
     "output_type": "stream",
     "text": [
      "19:45:39 - cmdstanpy - INFO - Chain [1] start processing\n",
      "19:45:40 - cmdstanpy - INFO - Chain [1] done processing\n",
      "19:45:40 - cmdstanpy - INFO - Chain [1] start processing\n",
      "19:45:40 - cmdstanpy - INFO - Chain [1] done processing\n",
      "19:45:40 - cmdstanpy - INFO - Chain [1] start processing\n",
      "19:45:41 - cmdstanpy - INFO - Chain [1] done processing\n",
      "19:45:41 - cmdstanpy - INFO - Chain [1] start processing\n",
      "19:45:41 - cmdstanpy - INFO - Chain [1] done processing\n",
      "Seasonality has period of 365.25 days which is larger than initial window. Consider increasing initial.\n"
     ]
    },
    {
     "data": {
      "application/vnd.jupyter.widget-view+json": {
       "model_id": "f863f2b5beea4f65b9ca3e4016a335f6",
       "version_major": 2,
       "version_minor": 0
      },
      "text/plain": [
       "  0%|          | 0/3 [00:00<?, ?it/s]"
      ]
     },
     "metadata": {},
     "output_type": "display_data"
    },
    {
     "name": "stderr",
     "output_type": "stream",
     "text": [
      "19:45:42 - cmdstanpy - INFO - Chain [1] start processing\n",
      "19:45:42 - cmdstanpy - INFO - Chain [1] done processing\n",
      "19:45:42 - cmdstanpy - INFO - Chain [1] start processing\n",
      "19:45:42 - cmdstanpy - INFO - Chain [1] done processing\n",
      "19:45:42 - cmdstanpy - INFO - Chain [1] start processing\n",
      "19:45:43 - cmdstanpy - INFO - Chain [1] done processing\n",
      "19:45:43 - cmdstanpy - INFO - Chain [1] start processing\n",
      "19:45:44 - cmdstanpy - INFO - Chain [1] done processing\n",
      "Seasonality has period of 365.25 days which is larger than initial window. Consider increasing initial.\n"
     ]
    },
    {
     "data": {
      "application/vnd.jupyter.widget-view+json": {
       "model_id": "d5bbbee6525749969e58b8dfa82a1bd5",
       "version_major": 2,
       "version_minor": 0
      },
      "text/plain": [
       "  0%|          | 0/3 [00:00<?, ?it/s]"
      ]
     },
     "metadata": {},
     "output_type": "display_data"
    },
    {
     "name": "stderr",
     "output_type": "stream",
     "text": [
      "19:45:44 - cmdstanpy - INFO - Chain [1] start processing\n",
      "19:45:44 - cmdstanpy - INFO - Chain [1] done processing\n",
      "19:45:44 - cmdstanpy - INFO - Chain [1] start processing\n",
      "19:45:44 - cmdstanpy - INFO - Chain [1] done processing\n",
      "19:45:45 - cmdstanpy - INFO - Chain [1] start processing\n",
      "19:45:45 - cmdstanpy - INFO - Chain [1] done processing\n",
      "19:45:45 - cmdstanpy - INFO - Chain [1] start processing\n",
      "19:45:46 - cmdstanpy - INFO - Chain [1] done processing\n",
      "Seasonality has period of 365.25 days which is larger than initial window. Consider increasing initial.\n"
     ]
    },
    {
     "data": {
      "application/vnd.jupyter.widget-view+json": {
       "model_id": "e0f14c0475ac4585a9ad8ad2d7148c87",
       "version_major": 2,
       "version_minor": 0
      },
      "text/plain": [
       "  0%|          | 0/3 [00:00<?, ?it/s]"
      ]
     },
     "metadata": {},
     "output_type": "display_data"
    },
    {
     "name": "stderr",
     "output_type": "stream",
     "text": [
      "19:45:46 - cmdstanpy - INFO - Chain [1] start processing\n",
      "19:45:46 - cmdstanpy - INFO - Chain [1] done processing\n",
      "19:45:46 - cmdstanpy - INFO - Chain [1] start processing\n",
      "19:45:46 - cmdstanpy - INFO - Chain [1] done processing\n",
      "19:45:47 - cmdstanpy - INFO - Chain [1] start processing\n",
      "19:45:47 - cmdstanpy - INFO - Chain [1] done processing\n",
      "19:45:47 - cmdstanpy - INFO - Chain [1] start processing\n",
      "19:45:48 - cmdstanpy - INFO - Chain [1] done processing\n",
      "Seasonality has period of 365.25 days which is larger than initial window. Consider increasing initial.\n"
     ]
    },
    {
     "data": {
      "application/vnd.jupyter.widget-view+json": {
       "model_id": "f1afe4ebd713462387fa9d9c578ce1ac",
       "version_major": 2,
       "version_minor": 0
      },
      "text/plain": [
       "  0%|          | 0/3 [00:00<?, ?it/s]"
      ]
     },
     "metadata": {},
     "output_type": "display_data"
    },
    {
     "name": "stderr",
     "output_type": "stream",
     "text": [
      "19:45:48 - cmdstanpy - INFO - Chain [1] start processing\n",
      "19:45:48 - cmdstanpy - INFO - Chain [1] done processing\n",
      "19:45:48 - cmdstanpy - INFO - Chain [1] start processing\n",
      "19:45:49 - cmdstanpy - INFO - Chain [1] done processing\n",
      "19:45:49 - cmdstanpy - INFO - Chain [1] start processing\n",
      "19:45:49 - cmdstanpy - INFO - Chain [1] done processing\n",
      "19:45:50 - cmdstanpy - INFO - Chain [1] start processing\n",
      "19:45:50 - cmdstanpy - INFO - Chain [1] done processing\n",
      "Seasonality has period of 365.25 days which is larger than initial window. Consider increasing initial.\n"
     ]
    },
    {
     "data": {
      "application/vnd.jupyter.widget-view+json": {
       "model_id": "9f0ea2f0ff46479fa3b20c952a9a6cde",
       "version_major": 2,
       "version_minor": 0
      },
      "text/plain": [
       "  0%|          | 0/3 [00:00<?, ?it/s]"
      ]
     },
     "metadata": {},
     "output_type": "display_data"
    },
    {
     "name": "stderr",
     "output_type": "stream",
     "text": [
      "19:45:50 - cmdstanpy - INFO - Chain [1] start processing\n",
      "19:45:50 - cmdstanpy - INFO - Chain [1] done processing\n",
      "19:45:50 - cmdstanpy - INFO - Chain [1] start processing\n",
      "19:45:51 - cmdstanpy - INFO - Chain [1] done processing\n",
      "19:45:51 - cmdstanpy - INFO - Chain [1] start processing\n",
      "19:45:51 - cmdstanpy - INFO - Chain [1] done processing\n",
      "19:45:51 - cmdstanpy - INFO - Chain [1] start processing\n",
      "19:45:52 - cmdstanpy - INFO - Chain [1] done processing\n",
      "Seasonality has period of 365.25 days which is larger than initial window. Consider increasing initial.\n"
     ]
    },
    {
     "data": {
      "application/vnd.jupyter.widget-view+json": {
       "model_id": "649218e2b1ad47488f1e46b94b30e012",
       "version_major": 2,
       "version_minor": 0
      },
      "text/plain": [
       "  0%|          | 0/3 [00:00<?, ?it/s]"
      ]
     },
     "metadata": {},
     "output_type": "display_data"
    },
    {
     "name": "stderr",
     "output_type": "stream",
     "text": [
      "19:45:52 - cmdstanpy - INFO - Chain [1] start processing\n",
      "19:45:52 - cmdstanpy - INFO - Chain [1] done processing\n",
      "19:45:52 - cmdstanpy - INFO - Chain [1] start processing\n",
      "19:45:52 - cmdstanpy - INFO - Chain [1] done processing\n",
      "19:45:52 - cmdstanpy - INFO - Chain [1] start processing\n",
      "19:45:53 - cmdstanpy - INFO - Chain [1] done processing\n",
      "19:45:53 - cmdstanpy - INFO - Chain [1] start processing\n"
     ]
    },
    {
     "name": "stdout",
     "output_type": "stream",
     "text": [
      "Best parameters: params    {'changepoint_prior_scale': 0.8, 'holidays_pri...\n",
      "MAPE                                               0.051022\n",
      "Name: 38, dtype: object\n"
     ]
    },
    {
     "name": "stderr",
     "output_type": "stream",
     "text": [
      "19:45:53 - cmdstanpy - INFO - Chain [1] done processing\n"
     ]
    },
    {
     "name": "stdout",
     "output_type": "stream",
     "text": [
      "[9811.29013037464, 9780.438280716055, 10032.83639190523, 9752.995986578237, 9765.478297930267, 9969.997548725292, 10812.3288647689, 9769.681963996616, 9754.621928936986, 10022.66083228047, 9757.704748633001, 9783.741824424384, 9999.964792113895, 10851.696258836711, 9815.77736985887, 9804.500692843696, 10073.210723716962, 9805.756282007547, 9826.180313692024, 10033.84044941579, 10874.328725982694, 9824.851262651186, 9798.14903611864, 10050.083550196727, 9765.07214786249, 9767.759033041199, 9958.115951474125, 10782.341573712261, 9718.221020403284, 9679.02731608024, 9921.089183375605, 9629.210495872152, 9628.327964365151, 9818.601434670778, 10646.306176718215, 9589.188839474797, 9560.368982573653, 9815.91060769264, 9540.248905005794, 9557.858575693348, 9768.357790376715, 10617.416750143653, 9582.13202938707, 9574.948048959264, 9851.249490144019, 9594.809221111112, 9629.477441409905, 9854.305457456663, 10714.472436964501, 9686.675750112945, 9683.065739346372, 9958.848302204928, 9697.739526530715, 9723.65785537208, 9935.847077902323, 10779.798492916138, 9732.632967294654, 9707.023958598862, 9958.785219935045, 9672.307856596617, 9672.232726258933, 8947.848779928481, 8448.738116000848, 8610.930775941768, 8668.719694276951, 8729.618067928408, 8934.441755021475, 9891.856010040803, 9004.372800450617, 8515.752177172864, 8689.242566701641, 8755.830905505843, 8823.139010267087, 9032.287859949638, 9994.116735774252, 9101.115242890673, 8605.654613910927, 8772.088828184429, 8828.647775966323, 8883.63193799213, 9079.04095480266, 10028.447384448764, 9114.845996430318, 8599.698465156369, 8748.88017205597, 8788.20312151488, 8826.897929855477, 9007.998303344515, 9947.863921175625, 9019.944573025636, 8494.638963128056, 8639.09105563827, 8676.34963807198, 8716.14735426968, 8902.05338215817, 9852.659929083919, 8931.27746872832, 8416.625198254555, 8576.495234217215, 8630.567349089271, 8688.50323758476, 8893.884701007559, 9867.079657851633, 8960.882497952274, 8462.047899513402, 8638.831912689564, 8707.467956895378, 8777.579265825709, 8992.902281621946, 9975.828638204875, 9068.983937280746, 8567.59526372845, 8740.896804706857, 8802.252420886512, 8861.86967479759, 9064.290414812996, 10034.58981386847, 9105.874307903036, 8582.463774803304, 8735.143440452972, 8774.916100973542, 8813.002639148213, 6002.840801544579, 5958.547386175816, 5924.025035181772, 5856.11471300963, 5870.321774074722, 6027.782962211655, 6721.553215467649, 6007.882946781702, 5971.899501956614, 5945.40948695448, 5884.791539334029, 5905.554683228635, 6068.720402469012, 6768.1984065405495, 6054.621008231784, 6018.806505690419, 5990.6270064683595, 5926.3370277333115, 5941.831695752189, 6098.4311205765525, 6791.331367546265, 6065.981630669053, 6019.315145173735, 5979.668477277291, 5903.532727050314, 5907.499567607779, 6053.437515348963, 6738.009627218835, 6001.587183135942, 5947.2442342116965, 5901.726979470909, 5821.628754845248, 5824.027624377875, 5971.060675563209, 6660.516802339623, 5927.2972312352385, 5880.185697352297, 5843.881188774957, 5774.610881834443, 5789.473886921231, 5950.428162393456, 6655.9725154798725, 5935.167203921705, 5902.191658675972, 5879.450828765895, 5822.63428680697, 5848.772082562838, 6019.637764338514, 6734.520503865284, 6016.804056477335, 5986.307730225903, 5963.459566110306, 5903.792578060256, 5924.701671448625, 6088.25004799293, 6795.017427376205, 6063.222454482569, 6018.831566516162, 5980.783685757509, 5904.9087600052, 5909.3718516463105, 5316.743419333371, 5230.562173115159, 5278.332210283667, 5212.733167639272, 5238.351436687417, 5358.043450736497, 5869.683207256886, 5335.944825690308, 5257.992622731153, 5313.317610607625, 5254.303705165598, 5285.271137127732, 5408.848933770668, 5922.730373114846, 5389.461958199521, 5310.138189008366, 5362.240887497306, 5298.206271382023, 5322.46724050607, 5437.822775983064, 5942.188448439556, 5398.378735605925, 5307.793633029485, 5348.248566835484, 5272.5310970082655, 5285.432198175794, 5390.104361553968, 5884.800867729875, 5332.647282659805, 5235.318000911363, 5270.857162855576, 5192.22771984314, 5204.336678782474, 5310.388965641313, 5808.624398579832, 5262.08890498658, 5172.312826457648, 5217.135595867138, 5149.2604565124775, 5173.28709227185, 5292.074392135744, 5803.48757641883, 5270.180516151191, 5193.285756685519, 5250.251176305331, 5193.406586942434, 5227.00778435329, 5353.609921878037, 5870.82410876218, 5341.107771076513, 5265.461034663196, 5321.267858854696, 5260.8650819266795, 5288.586799900254, 5407.13593042207, 5914.336904408038, 5372.920128436643, 5284.210642456588, 5325.959922318946, 5250.904257869776, 5263.797439419608, 6659.892879075525, 6114.476420554348, 5109.9305271782405, 4997.460630459637, 5120.573763833567, 6557.959709171015, 6876.469523068066, 6370.568707806654, 5375.131093889592, 5278.63662004788, 5417.186845079874, 7209.273968761531, 5688.645001320841, 5581.535461200683, 5707.782099757589, 7168.568966466742, 7479.366737413859, 6912.054733479435, 5860.025928805785, 5719.545505490851, 5813.417037790324, 7254.763374683097, 7533.998803097914, 6893.029422098123, 5798.311013340093, 5626.56130622197, 5694.0933996458325, 7125.804659942746, 7386.806938181696, 6708.057880146115, 5592.365199813321, 5412.940079191827, 5479.080884583028, 6926.9146381552355, 7195.698503916449, 6529.803617706556, 5416.730978911262, 5335.858088646353, 6816.952085100474, 7107.8642139716185, 6474.402422515209, 5368.999617246539, 5219.767962619004, 6831.54898013565, 7137.842267399478, 6516.436795545237, 5405.753267497706, 5258.275112389149, 1967.971496624467, 1838.4250577707953, 1723.7743875399492, 1711.1102590756018, 1739.0100096997148, 1910.430381772195, 1987.8270384417692, 1861.8032263840748, 1748.7544338783594, 1737.5128420061908, 1766.6044157957547, 2016.9318577187976, 1777.4431778658693, 1765.273147236567, 1793.0370779014004, 1963.656394053165, 2039.566392593175, 1908.5086942592015, 1791.9495438310773, 1776.5846507579324, 1800.9940247449467, 1968.1535991339788, 2040.5543458757033, 1902.5498385499832, 1782.658092718557, 1764.118668535653, 1785.553878751583, 1949.9763322569722, 2019.9074839559491, 1877.8554109831111, 1756.4135502170852, 1736.647568069106, 1757.1780792668246, 1921.0106423436614, 1990.6550203507645, 1848.8736555700345, 1727.9501763145026, 1730.4093045309273, 1895.3740676945645, 1966.312505926731, 1827.5298012244389, 1708.27849246029, 1691.0270577784079, 1881.2620506675923, 1954.2053655958432, 1819.6217285033429, 1702.5539382361626, 1687.5342613984405, 6835.748856647717, 6504.850241006928, 6756.578552174454, 6810.2702784021585, 6769.117763731613, 6854.859364092376, 7245.549311870381, 6863.987336746248, 6536.005799838439, 6791.111488677247, 6848.508719061799, 6811.2421163191675, 6900.890756429301, 6917.227435529761, 6908.567584171542, 6871.905623011002, 6961.117857754036, 7353.999769287071, 6973.115194524487, 6644.090363466681, 6896.261898506147, 6948.705260964983, 6904.381878551377, 6984.836521004021, 7367.973526721442, 6976.4917599295795, 6636.1759132210245, 6876.541190368975, 6916.857935117208, 6860.294532218473, 6928.610250138149, 7299.926737242774, 6897.1581642416495, 6546.297742257296, 6777.057764528134, 6808.889846306441, 6745.123791284984, 6807.656846773713, 7174.722140892447, 6769.316362724586, 6417.484468346947, 6648.958598323105, 6683.177902384299, 6691.529753490329, 7065.61233762599, 6668.540257002929, 6326.202401707403, 6568.154036924971, 6613.640414187369, 6565.740050900279, 6646.059331917978, 7032.5070976938905, 6647.729134446526, 6317.400190449306, 6570.870536031284, 6627.193589652287, 6589.272868251449]\n"
     ]
    }
   ],
   "source": [
    "all_predictions = []\n",
    "\n",
    "for warehouse in warehouses:\n",
    "\n",
    "    current_df  = df_subset[df_subset[\"warehouse\"] == warehouse].drop(columns=[\"warehouse\"])\n",
    "    print(current_df.head())\n",
    "    current_df_test = df_test_subset[df_test_subset[\"warehouse\"] == warehouse].drop(columns=[\"warehouse\"])\n",
    "\n",
    "    # optimal_params = {'changepoint_prior_scale': 0.8,\n",
    "    #               'holidays_prior_scale': 0.001,\n",
    "    #               'seasonality_mode': 'additive',\n",
    "    #               'seasonality_prior_scale': 0.02}\n",
    "\n",
    "    # best_munich_params = {'changepoint_prior_scale': 0.2,\n",
    "    #                   'holidays_prior_scale': 0.001,\n",
    "    #                   'seasonality_mode': 'multiplicative',\n",
    "    #                   'seasonality_prior_scale': 0.4}\n",
    "\n",
    "    param_grid = {\n",
    "    'changepoint_prior_scale': [0.2, 0.3, 0.4, 0.8],\n",
    "    'seasonality_prior_scale': [0.02, 0.2, 0.4],\n",
    "    'holidays_prior_scale': [0.001, 0.002],\n",
    "    'seasonality_mode': ['additive', 'multiplicative']\n",
    "    }\n",
    "\n",
    "    optimal_params = hyper_tuning(current_df, param_grid)\n",
    "\n",
    "    model = Prophet(**optimal_params[\"params\"])\n",
    "\n",
    "    model.fit(current_df)\n",
    "\n",
    "\n",
    "    forecast = model.predict(current_df_test)\n",
    "\n",
    "    all_predictions += list(forecast[\"yhat\"])\n",
    "\n",
    "print(all_predictions)"
   ]
  },
  {
   "cell_type": "code",
   "execution_count": 51,
   "metadata": {},
   "outputs": [],
   "source": [
    "final_result = pd.concat([df_test[\"id\"], pd.DataFrame({\"orders\": all_predictions})], axis=1)\n"
   ]
  },
  {
   "cell_type": "code",
   "execution_count": 54,
   "metadata": {},
   "outputs": [
    {
     "data": {
      "text/html": [
       "<div>\n",
       "<style scoped>\n",
       "    .dataframe tbody tr th:only-of-type {\n",
       "        vertical-align: middle;\n",
       "    }\n",
       "\n",
       "    .dataframe tbody tr th {\n",
       "        vertical-align: top;\n",
       "    }\n",
       "\n",
       "    .dataframe thead th {\n",
       "        text-align: right;\n",
       "    }\n",
       "</style>\n",
       "<table border=\"1\" class=\"dataframe\">\n",
       "  <thead>\n",
       "    <tr style=\"text-align: right;\">\n",
       "      <th></th>\n",
       "      <th>id</th>\n",
       "      <th>orders</th>\n",
       "    </tr>\n",
       "  </thead>\n",
       "  <tbody>\n",
       "    <tr>\n",
       "      <th>0</th>\n",
       "      <td>Prague_1_2024-03-16</td>\n",
       "      <td>9811.290130</td>\n",
       "    </tr>\n",
       "    <tr>\n",
       "      <th>1</th>\n",
       "      <td>Prague_1_2024-03-17</td>\n",
       "      <td>9780.438281</td>\n",
       "    </tr>\n",
       "    <tr>\n",
       "      <th>2</th>\n",
       "      <td>Prague_1_2024-03-18</td>\n",
       "      <td>10032.836392</td>\n",
       "    </tr>\n",
       "    <tr>\n",
       "      <th>3</th>\n",
       "      <td>Prague_1_2024-03-19</td>\n",
       "      <td>9752.995987</td>\n",
       "    </tr>\n",
       "    <tr>\n",
       "      <th>4</th>\n",
       "      <td>Prague_1_2024-03-20</td>\n",
       "      <td>9765.478298</td>\n",
       "    </tr>\n",
       "    <tr>\n",
       "      <th>...</th>\n",
       "      <td>...</td>\n",
       "      <td>...</td>\n",
       "    </tr>\n",
       "    <tr>\n",
       "      <th>392</th>\n",
       "      <td>Budapest_1_2024-05-11</td>\n",
       "      <td>6647.729134</td>\n",
       "    </tr>\n",
       "    <tr>\n",
       "      <th>393</th>\n",
       "      <td>Budapest_1_2024-05-12</td>\n",
       "      <td>6317.400190</td>\n",
       "    </tr>\n",
       "    <tr>\n",
       "      <th>394</th>\n",
       "      <td>Budapest_1_2024-05-13</td>\n",
       "      <td>6570.870536</td>\n",
       "    </tr>\n",
       "    <tr>\n",
       "      <th>395</th>\n",
       "      <td>Budapest_1_2024-05-14</td>\n",
       "      <td>6627.193590</td>\n",
       "    </tr>\n",
       "    <tr>\n",
       "      <th>396</th>\n",
       "      <td>Budapest_1_2024-05-15</td>\n",
       "      <td>6589.272868</td>\n",
       "    </tr>\n",
       "  </tbody>\n",
       "</table>\n",
       "<p>397 rows × 2 columns</p>\n",
       "</div>"
      ],
      "text/plain": [
       "                        id        orders\n",
       "0      Prague_1_2024-03-16   9811.290130\n",
       "1      Prague_1_2024-03-17   9780.438281\n",
       "2      Prague_1_2024-03-18  10032.836392\n",
       "3      Prague_1_2024-03-19   9752.995987\n",
       "4      Prague_1_2024-03-20   9765.478298\n",
       "..                     ...           ...\n",
       "392  Budapest_1_2024-05-11   6647.729134\n",
       "393  Budapest_1_2024-05-12   6317.400190\n",
       "394  Budapest_1_2024-05-13   6570.870536\n",
       "395  Budapest_1_2024-05-14   6627.193590\n",
       "396  Budapest_1_2024-05-15   6589.272868\n",
       "\n",
       "[397 rows x 2 columns]"
      ]
     },
     "execution_count": 54,
     "metadata": {},
     "output_type": "execute_result"
    }
   ],
   "source": [
    "final_result"
   ]
  },
  {
   "cell_type": "code",
   "execution_count": 52,
   "metadata": {},
   "outputs": [],
   "source": [
    "final_result.to_csv(\"submission.csv\", index=False)"
   ]
  }
 ],
 "metadata": {
  "kernelspec": {
   "display_name": "lewagon",
   "language": "python",
   "name": "python3"
  },
  "language_info": {
   "codemirror_mode": {
    "name": "ipython",
    "version": 3
   },
   "file_extension": ".py",
   "mimetype": "text/x-python",
   "name": "python",
   "nbconvert_exporter": "python",
   "pygments_lexer": "ipython3",
   "version": "3.10.6"
  }
 },
 "nbformat": 4,
 "nbformat_minor": 2
}
